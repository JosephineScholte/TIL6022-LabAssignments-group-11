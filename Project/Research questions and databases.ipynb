{
 "cells": [
  {
   "cell_type": "markdown",
   "metadata": {},
   "source": [
    "Group 11: Jochem van Dijk, Femke Mureau, Sunny van Leeuwen, Matthias Santing, Josephine Scholte\n"
   ]
  },
  {
   "cell_type": "markdown",
   "metadata": {},
   "source": [
    "# What is the effect of having a driving license on traffic behaviour?"
   ]
  },
  {
   "cell_type": "markdown",
   "metadata": {},
   "source": [
    "Sub questions:\n",
    "   - What is the effect of having a driving license on the participation in public transport?\n",
    "   - Is there a correlation between having a driving license and having a student ov chipcard?\n",
    "   - What is the effect of age on traffic behaviour?\n",
    "   - What is the effect of region on having a driving license?"
   ]
  },
  {
   "cell_type": "markdown",
   "metadata": {},
   "source": [
    "Data set: \n",
    "   - https://opendata.cbs.nl/statline/portal.html?_la=en&_catalog=CBS&tableId=83488ENG&_theme=1158\n",
    "   - https://opendata.cbs.nl/statline/portal.html?_la=en&_catalog=CBS&tableId=84707ENG&_theme=1159\n",
    "   - https://opendata.cbs.nl/statline/#/CBS/en/dataset/84713ENG/table?ts=1664959047428\n",
    "   - https://opendata.cbs.nl/statline/portal.html?_la=en&_catalog=CBS&tableId=83488ENG&_theme=1158"
   ]
  },
  {
   "cell_type": "markdown",
   "metadata": {},
   "source": []
  }
 ],
 "metadata": {
  "kernelspec": {
   "display_name": "Python 3 (ipykernel)",
   "language": "python",
   "name": "python3"
  },
  "language_info": {
   "codemirror_mode": {
    "name": "ipython",
    "version": 3
   },
   "file_extension": ".py",
   "mimetype": "text/x-python",
   "name": "python",
   "nbconvert_exporter": "python",
   "pygments_lexer": "ipython3",
   "version": "3.7.13"
  }
 },
 "nbformat": 4,
 "nbformat_minor": 2
}
