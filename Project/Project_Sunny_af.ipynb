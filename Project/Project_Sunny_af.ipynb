{
 "cells": [
  {
   "cell_type": "code",
   "execution_count": 1,
   "id": "311564f6",
   "metadata": {},
   "outputs": [],
   "source": [
    "%matplotlib notebook\n",
    "from urllib.request import urlopen\n",
    "from plotly.offline import init_notebook_mode\n",
    "import plotly.express as px\n",
    "import plotly.graph_objects as go\n",
    "import json\n",
    "import pandas as pd\n",
    "import numpy as np\n",
    "import itertools\n",
    "import matplotlib.pyplot as plt\n",
    "import matplotlib.animation as animation\n",
    "import plotly.io as pio\n",
    "import geopandas as gpd\n",
    "import cbsodata as cbs\n",
    "import seaborn as sns"
   ]
  },
  {
   "cell_type": "code",
   "execution_count": 2,
   "id": "da0ae9c1",
   "metadata": {},
   "outputs": [],
   "source": [
    "data_motief = pd.DataFrame(cbs.get_data('84713NED'))\n"
   ]
  },
  {
   "cell_type": "markdown",
   "id": "4bfed447",
   "metadata": {},
   "source": [
    "# What are the differences between between different groups in number of displacements of trips? And the time duration of these trips?"
   ]
  },
  {
   "cell_type": "markdown",
   "id": "8def36f6",
   "metadata": {},
   "source": [
    "### Number of displacements"
   ]
  },
  {
   "cell_type": "code",
   "execution_count": 38,
   "id": "8a4d02c9",
   "metadata": {},
   "outputs": [],
   "source": [
    "#Show total for different years\n",
    "data_motief_2 = data_motief.groupby(['Persoonskenmerken', 'Perioden']).sum().reset_index()\n",
    "#Remove total persons, since not really representive for the data\n",
    "index_names = data_motief_2[(data_motief_2['Persoonskenmerken'] == 'Totaal personen')].index\n",
    "data_motief_2.drop(index_names, inplace = True)\n",
    "#display(data_motief_2)"
   ]
  },
  {
   "cell_type": "code",
   "execution_count": 39,
   "id": "1b16042e",
   "metadata": {},
   "outputs": [
    {
     "data": {
      "application/vnd.plotly.v1+json": {
       "config": {
        "plotlyServerURL": "https://plot.ly"
       },
       "data": [
        {
         "alignmentgroup": "True",
         "hovertemplate": "Persoonskenmerken=%{y}<br>Perioden=2018<br>Verplaatsingen_1=%{x}<extra></extra>",
         "legendgroup": "Geen rijbewijs; jonger dan 17 jaar",
         "marker": {
          "color": "#636efa",
          "pattern": {
           "shape": ""
          }
         },
         "name": "Geen rijbewijs; jonger dan 17 jaar",
         "offsetgroup": "Geen rijbewijs; jonger dan 17 jaar",
         "orientation": "h",
         "showlegend": true,
         "textposition": "outside",
         "texttemplate": "%{x:.2s}",
         "type": "bar",
         "x": [
          1999.58
         ],
         "xaxis": "x",
         "y": [
          "Geen rijbewijs; jonger dan 17 jaar"
         ],
         "yaxis": "y"
        },
        {
         "alignmentgroup": "True",
         "hovertemplate": "Persoonskenmerken=%{y}<br>Perioden=2018<br>Verplaatsingen_1=%{x}<extra></extra>",
         "legendgroup": "Geen rijbewijs; wel 17 jaar of ouder",
         "marker": {
          "color": "#EF553B",
          "pattern": {
           "shape": ""
          }
         },
         "name": "Geen rijbewijs; wel 17 jaar of ouder",
         "offsetgroup": "Geen rijbewijs; wel 17 jaar of ouder",
         "orientation": "h",
         "showlegend": true,
         "textposition": "outside",
         "texttemplate": "%{x:.2s}",
         "type": "bar",
         "x": [
          1378.94
         ],
         "xaxis": "x",
         "y": [
          "Geen rijbewijs; wel 17 jaar of ouder"
         ],
         "yaxis": "y"
        },
        {
         "alignmentgroup": "True",
         "hovertemplate": "Persoonskenmerken=%{y}<br>Perioden=2018<br>Verplaatsingen_1=%{x}<extra></extra>",
         "legendgroup": "Gestandaardiseerd inkomen: 1e 20%-groep",
         "marker": {
          "color": "#00cc96",
          "pattern": {
           "shape": ""
          }
         },
         "name": "Gestandaardiseerd inkomen: 1e 20%-groep",
         "offsetgroup": "Gestandaardiseerd inkomen: 1e 20%-groep",
         "orientation": "h",
         "showlegend": true,
         "textposition": "outside",
         "texttemplate": "%{x:.2s}",
         "type": "bar",
         "x": [
          1658.56
         ],
         "xaxis": "x",
         "y": [
          "Gestandaardiseerd inkomen: 1e 20%-groep"
         ],
         "yaxis": "y"
        },
        {
         "alignmentgroup": "True",
         "hovertemplate": "Persoonskenmerken=%{y}<br>Perioden=2018<br>Verplaatsingen_1=%{x}<extra></extra>",
         "legendgroup": "Gestandaardiseerd inkomen: 2e 20%-groep",
         "marker": {
          "color": "#ab63fa",
          "pattern": {
           "shape": ""
          }
         },
         "name": "Gestandaardiseerd inkomen: 2e 20%-groep",
         "offsetgroup": "Gestandaardiseerd inkomen: 2e 20%-groep",
         "orientation": "h",
         "showlegend": true,
         "textposition": "outside",
         "texttemplate": "%{x:.2s}",
         "type": "bar",
         "x": [
          1740.22
         ],
         "xaxis": "x",
         "y": [
          "Gestandaardiseerd inkomen: 2e 20%-groep"
         ],
         "yaxis": "y"
        },
        {
         "alignmentgroup": "True",
         "hovertemplate": "Persoonskenmerken=%{y}<br>Perioden=2018<br>Verplaatsingen_1=%{x}<extra></extra>",
         "legendgroup": "Gestandaardiseerd inkomen: 3e 20%-groep",
         "marker": {
          "color": "#FFA15A",
          "pattern": {
           "shape": ""
          }
         },
         "name": "Gestandaardiseerd inkomen: 3e 20%-groep",
         "offsetgroup": "Gestandaardiseerd inkomen: 3e 20%-groep",
         "orientation": "h",
         "showlegend": true,
         "textposition": "outside",
         "texttemplate": "%{x:.2s}",
         "type": "bar",
         "x": [
          2089.84
         ],
         "xaxis": "x",
         "y": [
          "Gestandaardiseerd inkomen: 3e 20%-groep"
         ],
         "yaxis": "y"
        },
        {
         "alignmentgroup": "True",
         "hovertemplate": "Persoonskenmerken=%{y}<br>Perioden=2018<br>Verplaatsingen_1=%{x}<extra></extra>",
         "legendgroup": "Gestandaardiseerd inkomen: 4e 20%-groep",
         "marker": {
          "color": "#19d3f3",
          "pattern": {
           "shape": ""
          }
         },
         "name": "Gestandaardiseerd inkomen: 4e 20%-groep",
         "offsetgroup": "Gestandaardiseerd inkomen: 4e 20%-groep",
         "orientation": "h",
         "showlegend": true,
         "textposition": "outside",
         "texttemplate": "%{x:.2s}",
         "type": "bar",
         "x": [
          2209.82
         ],
         "xaxis": "x",
         "y": [
          "Gestandaardiseerd inkomen: 4e 20%-groep"
         ],
         "yaxis": "y"
        },
        {
         "alignmentgroup": "True",
         "hovertemplate": "Persoonskenmerken=%{y}<br>Perioden=2018<br>Verplaatsingen_1=%{x}<extra></extra>",
         "legendgroup": "Gestandaardiseerd inkomen: 5e 20%-groep",
         "marker": {
          "color": "#FF6692",
          "pattern": {
           "shape": ""
          }
         },
         "name": "Gestandaardiseerd inkomen: 5e 20%-groep",
         "offsetgroup": "Gestandaardiseerd inkomen: 5e 20%-groep",
         "orientation": "h",
         "showlegend": true,
         "textposition": "outside",
         "texttemplate": "%{x:.2s}",
         "type": "bar",
         "x": [
          2203.75
         ],
         "xaxis": "x",
         "y": [
          "Gestandaardiseerd inkomen: 5e 20%-groep"
         ],
         "yaxis": "y"
        },
        {
         "alignmentgroup": "True",
         "hovertemplate": "Persoonskenmerken=%{y}<br>Perioden=2018<br>Verplaatsingen_1=%{x}<extra></extra>",
         "legendgroup": "Leeftijd: 12 tot 18 jaar",
         "marker": {
          "color": "#B6E880",
          "pattern": {
           "shape": ""
          }
         },
         "name": "Leeftijd: 12 tot 18 jaar",
         "offsetgroup": "Leeftijd: 12 tot 18 jaar",
         "orientation": "h",
         "showlegend": true,
         "textposition": "outside",
         "texttemplate": "%{x:.2s}",
         "type": "bar",
         "x": [
          1870.52
         ],
         "xaxis": "x",
         "y": [
          "Leeftijd: 12 tot 18 jaar"
         ],
         "yaxis": "y"
        },
        {
         "alignmentgroup": "True",
         "hovertemplate": "Persoonskenmerken=%{y}<br>Perioden=2018<br>Verplaatsingen_1=%{x}<extra></extra>",
         "legendgroup": "Leeftijd: 18 tot 25 jaar",
         "marker": {
          "color": "#FF97FF",
          "pattern": {
           "shape": ""
          }
         },
         "name": "Leeftijd: 18 tot 25 jaar",
         "offsetgroup": "Leeftijd: 18 tot 25 jaar",
         "orientation": "h",
         "showlegend": true,
         "textposition": "outside",
         "texttemplate": "%{x:.2s}",
         "type": "bar",
         "x": [
          1750.16
         ],
         "xaxis": "x",
         "y": [
          "Leeftijd: 18 tot 25 jaar"
         ],
         "yaxis": "y"
        },
        {
         "alignmentgroup": "True",
         "hovertemplate": "Persoonskenmerken=%{y}<br>Perioden=2018<br>Verplaatsingen_1=%{x}<extra></extra>",
         "legendgroup": "Leeftijd: 25 tot 35 jaar",
         "marker": {
          "color": "#FECB52",
          "pattern": {
           "shape": ""
          }
         },
         "name": "Leeftijd: 25 tot 35 jaar",
         "offsetgroup": "Leeftijd: 25 tot 35 jaar",
         "orientation": "h",
         "showlegend": true,
         "textposition": "outside",
         "texttemplate": "%{x:.2s}",
         "type": "bar",
         "x": [
          2142.74
         ],
         "xaxis": "x",
         "y": [
          "Leeftijd: 25 tot 35 jaar"
         ],
         "yaxis": "y"
        },
        {
         "alignmentgroup": "True",
         "hovertemplate": "Persoonskenmerken=%{y}<br>Perioden=2018<br>Verplaatsingen_1=%{x}<extra></extra>",
         "legendgroup": "Leeftijd: 35 tot 50 jaar",
         "marker": {
          "color": "#636efa",
          "pattern": {
           "shape": ""
          }
         },
         "name": "Leeftijd: 35 tot 50 jaar",
         "offsetgroup": "Leeftijd: 35 tot 50 jaar",
         "orientation": "h",
         "showlegend": true,
         "textposition": "outside",
         "texttemplate": "%{x:.2s}",
         "type": "bar",
         "x": [
          2373.44
         ],
         "xaxis": "x",
         "y": [
          "Leeftijd: 35 tot 50 jaar"
         ],
         "yaxis": "y"
        },
        {
         "alignmentgroup": "True",
         "hovertemplate": "Persoonskenmerken=%{y}<br>Perioden=2018<br>Verplaatsingen_1=%{x}<extra></extra>",
         "legendgroup": "Leeftijd: 50 tot 65 jaar",
         "marker": {
          "color": "#EF553B",
          "pattern": {
           "shape": ""
          }
         },
         "name": "Leeftijd: 50 tot 65 jaar",
         "offsetgroup": "Leeftijd: 50 tot 65 jaar",
         "orientation": "h",
         "showlegend": true,
         "textposition": "outside",
         "texttemplate": "%{x:.2s}",
         "type": "bar",
         "x": [
          2067.32
         ],
         "xaxis": "x",
         "y": [
          "Leeftijd: 50 tot 65 jaar"
         ],
         "yaxis": "y"
        },
        {
         "alignmentgroup": "True",
         "hovertemplate": "Persoonskenmerken=%{y}<br>Perioden=2018<br>Verplaatsingen_1=%{x}<extra></extra>",
         "legendgroup": "Leeftijd: 65 tot 75 jaar",
         "marker": {
          "color": "#00cc96",
          "pattern": {
           "shape": ""
          }
         },
         "name": "Leeftijd: 65 tot 75 jaar",
         "offsetgroup": "Leeftijd: 65 tot 75 jaar",
         "orientation": "h",
         "showlegend": true,
         "textposition": "outside",
         "texttemplate": "%{x:.2s}",
         "type": "bar",
         "x": [
          1579.2
         ],
         "xaxis": "x",
         "y": [
          "Leeftijd: 65 tot 75 jaar"
         ],
         "yaxis": "y"
        },
        {
         "alignmentgroup": "True",
         "hovertemplate": "Persoonskenmerken=%{y}<br>Perioden=2018<br>Verplaatsingen_1=%{x}<extra></extra>",
         "legendgroup": "Leeftijd: 75 jaar of ouder",
         "marker": {
          "color": "#ab63fa",
          "pattern": {
           "shape": ""
          }
         },
         "name": "Leeftijd: 75 jaar of ouder",
         "offsetgroup": "Leeftijd: 75 jaar of ouder",
         "orientation": "h",
         "showlegend": true,
         "textposition": "outside",
         "texttemplate": "%{x:.2s}",
         "type": "bar",
         "x": [
          976.18
         ],
         "xaxis": "x",
         "y": [
          "Leeftijd: 75 jaar of ouder"
         ],
         "yaxis": "y"
        },
        {
         "alignmentgroup": "True",
         "hovertemplate": "Persoonskenmerken=%{y}<br>Perioden=2018<br>Verplaatsingen_1=%{x}<extra></extra>",
         "legendgroup": "Leeftijd:6 tot 12 jaar",
         "marker": {
          "color": "#FFA15A",
          "pattern": {
           "shape": ""
          }
         },
         "name": "Leeftijd:6 tot 12 jaar",
         "offsetgroup": "Leeftijd:6 tot 12 jaar",
         "orientation": "h",
         "showlegend": true,
         "textposition": "outside",
         "texttemplate": "%{x:.2s}",
         "type": "bar",
         "x": [
          1107.8
         ],
         "xaxis": "x",
         "y": [
          "Leeftijd:6 tot 12 jaar"
         ],
         "yaxis": "y"
        },
        {
         "alignmentgroup": "True",
         "hovertemplate": "Persoonskenmerken=%{y}<br>Perioden=2018<br>Verplaatsingen_1=%{x}<extra></extra>",
         "legendgroup": "Migratieachtergrond: Nederland",
         "marker": {
          "color": "#19d3f3",
          "pattern": {
           "shape": ""
          }
         },
         "name": "Migratieachtergrond: Nederland",
         "offsetgroup": "Migratieachtergrond: Nederland",
         "orientation": "h",
         "showlegend": true,
         "textposition": "outside",
         "texttemplate": "%{x:.2s}",
         "type": "bar",
         "x": [
          2259.69
         ],
         "xaxis": "x",
         "y": [
          "Migratieachtergrond: Nederland"
         ],
         "yaxis": "y"
        },
        {
         "alignmentgroup": "True",
         "hovertemplate": "Persoonskenmerken=%{y}<br>Perioden=2018<br>Verplaatsingen_1=%{x}<extra></extra>",
         "legendgroup": "Migratieachtergrond: niet-westers",
         "marker": {
          "color": "#FF6692",
          "pattern": {
           "shape": ""
          }
         },
         "name": "Migratieachtergrond: niet-westers",
         "offsetgroup": "Migratieachtergrond: niet-westers",
         "orientation": "h",
         "showlegend": true,
         "textposition": "outside",
         "texttemplate": "%{x:.2s}",
         "type": "bar",
         "x": [
          1165.99
         ],
         "xaxis": "x",
         "y": [
          "Migratieachtergrond: niet-westers"
         ],
         "yaxis": "y"
        },
        {
         "alignmentgroup": "True",
         "hovertemplate": "Persoonskenmerken=%{y}<br>Perioden=2018<br>Verplaatsingen_1=%{x}<extra></extra>",
         "legendgroup": "Migratieachtergrond: westers",
         "marker": {
          "color": "#B6E880",
          "pattern": {
           "shape": ""
          }
         },
         "name": "Migratieachtergrond: westers",
         "offsetgroup": "Migratieachtergrond: westers",
         "orientation": "h",
         "showlegend": true,
         "textposition": "outside",
         "texttemplate": "%{x:.2s}",
         "type": "bar",
         "x": [
          1534.01
         ],
         "xaxis": "x",
         "y": [
          "Migratieachtergrond: westers"
         ],
         "yaxis": "y"
        },
        {
         "alignmentgroup": "True",
         "hovertemplate": "Persoonskenmerken=%{y}<br>Perioden=2018<br>Verplaatsingen_1=%{x}<extra></extra>",
         "legendgroup": "OV-Studentenkaart: geen",
         "marker": {
          "color": "#FF97FF",
          "pattern": {
           "shape": ""
          }
         },
         "name": "OV-Studentenkaart: geen",
         "offsetgroup": "OV-Studentenkaart: geen",
         "orientation": "h",
         "showlegend": true,
         "textposition": "outside",
         "texttemplate": "%{x:.2s}",
         "type": "bar",
         "x": [
          2175.46
         ],
         "xaxis": "x",
         "y": [
          "OV-Studentenkaart: geen"
         ],
         "yaxis": "y"
        },
        {
         "alignmentgroup": "True",
         "hovertemplate": "Persoonskenmerken=%{y}<br>Perioden=2018<br>Verplaatsingen_1=%{x}<extra></extra>",
         "legendgroup": "OV-Studentenkaart: weekabonnement",
         "marker": {
          "color": "#FECB52",
          "pattern": {
           "shape": ""
          }
         },
         "name": "OV-Studentenkaart: weekabonnement",
         "offsetgroup": "OV-Studentenkaart: weekabonnement",
         "orientation": "h",
         "showlegend": true,
         "textposition": "outside",
         "texttemplate": "%{x:.2s}",
         "type": "bar",
         "x": [
          1542.14
         ],
         "xaxis": "x",
         "y": [
          "OV-Studentenkaart: weekabonnement"
         ],
         "yaxis": "y"
        },
        {
         "alignmentgroup": "True",
         "hovertemplate": "Persoonskenmerken=%{y}<br>Perioden=2018<br>Verplaatsingen_1=%{x}<extra></extra>",
         "legendgroup": "OV-Studentenkaart: weekendabonnement",
         "marker": {
          "color": "#636efa",
          "pattern": {
           "shape": ""
          }
         },
         "name": "OV-Studentenkaart: weekendabonnement",
         "offsetgroup": "OV-Studentenkaart: weekendabonnement",
         "orientation": "h",
         "showlegend": true,
         "textposition": "outside",
         "texttemplate": "%{x:.2s}",
         "type": "bar",
         "x": [
          322.92
         ],
         "xaxis": "x",
         "y": [
          "OV-Studentenkaart: weekendabonnement"
         ],
         "yaxis": "y"
        },
        {
         "alignmentgroup": "True",
         "hovertemplate": "Persoonskenmerken=%{y}<br>Perioden=2018<br>Verplaatsingen_1=%{x}<extra></extra>",
         "legendgroup": "Onderwijsniveau: 1 Laag",
         "marker": {
          "color": "#EF553B",
          "pattern": {
           "shape": ""
          }
         },
         "name": "Onderwijsniveau: 1 Laag",
         "offsetgroup": "Onderwijsniveau: 1 Laag",
         "orientation": "h",
         "showlegend": true,
         "textposition": "outside",
         "texttemplate": "%{x:.2s}",
         "type": "bar",
         "x": [
          1621.78
         ],
         "xaxis": "x",
         "y": [
          "Onderwijsniveau: 1 Laag"
         ],
         "yaxis": "y"
        },
        {
         "alignmentgroup": "True",
         "hovertemplate": "Persoonskenmerken=%{y}<br>Perioden=2018<br>Verplaatsingen_1=%{x}<extra></extra>",
         "legendgroup": "Onderwijsniveau: 2 Middelbaar",
         "marker": {
          "color": "#00cc96",
          "pattern": {
           "shape": ""
          }
         },
         "name": "Onderwijsniveau: 2 Middelbaar",
         "offsetgroup": "Onderwijsniveau: 2 Middelbaar",
         "orientation": "h",
         "showlegend": true,
         "textposition": "outside",
         "texttemplate": "%{x:.2s}",
         "type": "bar",
         "x": [
          2234.58
         ],
         "xaxis": "x",
         "y": [
          "Onderwijsniveau: 2 Middelbaar"
         ],
         "yaxis": "y"
        },
        {
         "alignmentgroup": "True",
         "hovertemplate": "Persoonskenmerken=%{y}<br>Perioden=2018<br>Verplaatsingen_1=%{x}<extra></extra>",
         "legendgroup": "Onderwijsniveau: 3 Hoog",
         "marker": {
          "color": "#ab63fa",
          "pattern": {
           "shape": ""
          }
         },
         "name": "Onderwijsniveau: 3 Hoog",
         "offsetgroup": "Onderwijsniveau: 3 Hoog",
         "orientation": "h",
         "showlegend": true,
         "textposition": "outside",
         "texttemplate": "%{x:.2s}",
         "type": "bar",
         "x": [
          2360.48
         ],
         "xaxis": "x",
         "y": [
          "Onderwijsniveau: 3 Hoog"
         ],
         "yaxis": "y"
        },
        {
         "alignmentgroup": "True",
         "hovertemplate": "Persoonskenmerken=%{y}<br>Perioden=2018<br>Verplaatsingen_1=%{x}<extra></extra>",
         "legendgroup": "Participatie:  arbeidsongeschikt",
         "marker": {
          "color": "#FFA15A",
          "pattern": {
           "shape": ""
          }
         },
         "name": "Participatie:  arbeidsongeschikt",
         "offsetgroup": "Participatie:  arbeidsongeschikt",
         "orientation": "h",
         "showlegend": true,
         "textposition": "outside",
         "texttemplate": "%{x:.2s}",
         "type": "bar",
         "x": [
          851.4
         ],
         "xaxis": "x",
         "y": [
          "Participatie:  arbeidsongeschikt"
         ],
         "yaxis": "y"
        },
        {
         "alignmentgroup": "True",
         "hovertemplate": "Persoonskenmerken=%{y}<br>Perioden=2018<br>Verplaatsingen_1=%{x}<extra></extra>",
         "legendgroup": "Participatie: anders/overig",
         "marker": {
          "color": "#19d3f3",
          "pattern": {
           "shape": ""
          }
         },
         "name": "Participatie: anders/overig",
         "offsetgroup": "Participatie: anders/overig",
         "orientation": "h",
         "showlegend": true,
         "textposition": "outside",
         "texttemplate": "%{x:.2s}",
         "type": "bar",
         "x": [
          1488.98
         ],
         "xaxis": "x",
         "y": [
          "Participatie: anders/overig"
         ],
         "yaxis": "y"
        },
        {
         "alignmentgroup": "True",
         "hovertemplate": "Persoonskenmerken=%{y}<br>Perioden=2018<br>Verplaatsingen_1=%{x}<extra></extra>",
         "legendgroup": "Participatie: gepensioneerd/VUT",
         "marker": {
          "color": "#FF6692",
          "pattern": {
           "shape": ""
          }
         },
         "name": "Participatie: gepensioneerd/VUT",
         "offsetgroup": "Participatie: gepensioneerd/VUT",
         "orientation": "h",
         "showlegend": true,
         "textposition": "outside",
         "texttemplate": "%{x:.2s}",
         "type": "bar",
         "x": [
          1521.62
         ],
         "xaxis": "x",
         "y": [
          "Participatie: gepensioneerd/VUT"
         ],
         "yaxis": "y"
        },
        {
         "alignmentgroup": "True",
         "hovertemplate": "Persoonskenmerken=%{y}<br>Perioden=2018<br>Verplaatsingen_1=%{x}<extra></extra>",
         "legendgroup": "Participatie: werkloos",
         "marker": {
          "color": "#B6E880",
          "pattern": {
           "shape": ""
          }
         },
         "name": "Participatie: werkloos",
         "offsetgroup": "Participatie: werkloos",
         "orientation": "h",
         "showlegend": true,
         "textposition": "outside",
         "texttemplate": "%{x:.2s}",
         "type": "bar",
         "x": [
          678.74
         ],
         "xaxis": "x",
         "y": [
          "Participatie: werkloos"
         ],
         "yaxis": "y"
        },
        {
         "alignmentgroup": "True",
         "hovertemplate": "Persoonskenmerken=%{y}<br>Perioden=2018<br>Verplaatsingen_1=%{x}<extra></extra>",
         "legendgroup": "Participatie: werkzaam 30 uur pw of meer",
         "marker": {
          "color": "#FF97FF",
          "pattern": {
           "shape": ""
          }
         },
         "name": "Participatie: werkzaam 30 uur pw of meer",
         "offsetgroup": "Participatie: werkzaam 30 uur pw of meer",
         "orientation": "h",
         "showlegend": true,
         "textposition": "outside",
         "texttemplate": "%{x:.2s}",
         "type": "bar",
         "x": [
          2286.1
         ],
         "xaxis": "x",
         "y": [
          "Participatie: werkzaam 30 uur pw of meer"
         ],
         "yaxis": "y"
        },
        {
         "alignmentgroup": "True",
         "hovertemplate": "Persoonskenmerken=%{y}<br>Perioden=2018<br>Verplaatsingen_1=%{x}<extra></extra>",
         "legendgroup": "Participatie: werkzaam: 12 tot 30 uur pw",
         "marker": {
          "color": "#FECB52",
          "pattern": {
           "shape": ""
          }
         },
         "name": "Participatie: werkzaam: 12 tot 30 uur pw",
         "offsetgroup": "Participatie: werkzaam: 12 tot 30 uur pw",
         "orientation": "h",
         "showlegend": true,
         "textposition": "outside",
         "texttemplate": "%{x:.2s}",
         "type": "bar",
         "x": [
          2098.24
         ],
         "xaxis": "x",
         "y": [
          "Participatie: werkzaam: 12 tot 30 uur pw"
         ],
         "yaxis": "y"
        },
        {
         "alignmentgroup": "True",
         "hovertemplate": "Persoonskenmerken=%{y}<br>Perioden=2018<br>Verplaatsingen_1=%{x}<extra></extra>",
         "legendgroup": "Participatie:student/scholier",
         "marker": {
          "color": "#636efa",
          "pattern": {
           "shape": ""
          }
         },
         "name": "Participatie:student/scholier",
         "offsetgroup": "Participatie:student/scholier",
         "orientation": "h",
         "showlegend": true,
         "textposition": "outside",
         "texttemplate": "%{x:.2s}",
         "type": "bar",
         "x": [
          2062.83
         ],
         "xaxis": "x",
         "y": [
          "Participatie:student/scholier"
         ],
         "yaxis": "y"
        },
        {
         "alignmentgroup": "True",
         "hovertemplate": "Persoonskenmerken=%{y}<br>Perioden=2018<br>Verplaatsingen_1=%{x}<extra></extra>",
         "legendgroup": "Rijbewijs, geen personenauto in hh",
         "marker": {
          "color": "#EF553B",
          "pattern": {
           "shape": ""
          }
         },
         "name": "Rijbewijs, geen personenauto in hh",
         "offsetgroup": "Rijbewijs, geen personenauto in hh",
         "orientation": "h",
         "showlegend": true,
         "textposition": "outside",
         "texttemplate": "%{x:.2s}",
         "type": "bar",
         "x": [
          1477.82
         ],
         "xaxis": "x",
         "y": [
          "Rijbewijs, geen personenauto in hh"
         ],
         "yaxis": "y"
        },
        {
         "alignmentgroup": "True",
         "hovertemplate": "Persoonskenmerken=%{y}<br>Perioden=2018<br>Verplaatsingen_1=%{x}<extra></extra>",
         "legendgroup": "Rijbewijs, personenauto in hh",
         "marker": {
          "color": "#00cc96",
          "pattern": {
           "shape": ""
          }
         },
         "name": "Rijbewijs, personenauto in hh",
         "offsetgroup": "Rijbewijs, personenauto in hh",
         "orientation": "h",
         "showlegend": true,
         "textposition": "outside",
         "texttemplate": "%{x:.2s}",
         "type": "bar",
         "x": [
          2165.82
         ],
         "xaxis": "x",
         "y": [
          "Rijbewijs, personenauto in hh"
         ],
         "yaxis": "y"
        },
        {
         "alignmentgroup": "True",
         "hovertemplate": "Persoonskenmerken=%{y}<br>Perioden=2018<br>Verplaatsingen_1=%{x}<extra></extra>",
         "legendgroup": "Rijbewijs, personenauto op eigen naam",
         "marker": {
          "color": "#ab63fa",
          "pattern": {
           "shape": ""
          }
         },
         "name": "Rijbewijs, personenauto op eigen naam",
         "offsetgroup": "Rijbewijs, personenauto op eigen naam",
         "orientation": "h",
         "showlegend": true,
         "textposition": "outside",
         "texttemplate": "%{x:.2s}",
         "type": "bar",
         "x": [
          2269.42
         ],
         "xaxis": "x",
         "y": [
          "Rijbewijs, personenauto op eigen naam"
         ],
         "yaxis": "y"
        }
       ],
       "frames": [
        {
         "data": [
          {
           "alignmentgroup": "True",
           "hovertemplate": "Persoonskenmerken=%{y}<br>Perioden=2018<br>Verplaatsingen_1=%{x}<extra></extra>",
           "legendgroup": "Geen rijbewijs; jonger dan 17 jaar",
           "marker": {
            "color": "#636efa",
            "pattern": {
             "shape": ""
            }
           },
           "name": "Geen rijbewijs; jonger dan 17 jaar",
           "offsetgroup": "Geen rijbewijs; jonger dan 17 jaar",
           "orientation": "h",
           "showlegend": true,
           "textposition": "auto",
           "texttemplate": "%{x:.2s}",
           "type": "bar",
           "x": [
            1999.58
           ],
           "xaxis": "x",
           "y": [
            "Geen rijbewijs; jonger dan 17 jaar"
           ],
           "yaxis": "y"
          },
          {
           "alignmentgroup": "True",
           "hovertemplate": "Persoonskenmerken=%{y}<br>Perioden=2018<br>Verplaatsingen_1=%{x}<extra></extra>",
           "legendgroup": "Geen rijbewijs; wel 17 jaar of ouder",
           "marker": {
            "color": "#EF553B",
            "pattern": {
             "shape": ""
            }
           },
           "name": "Geen rijbewijs; wel 17 jaar of ouder",
           "offsetgroup": "Geen rijbewijs; wel 17 jaar of ouder",
           "orientation": "h",
           "showlegend": true,
           "textposition": "auto",
           "texttemplate": "%{x:.2s}",
           "type": "bar",
           "x": [
            1378.94
           ],
           "xaxis": "x",
           "y": [
            "Geen rijbewijs; wel 17 jaar of ouder"
           ],
           "yaxis": "y"
          },
          {
           "alignmentgroup": "True",
           "hovertemplate": "Persoonskenmerken=%{y}<br>Perioden=2018<br>Verplaatsingen_1=%{x}<extra></extra>",
           "legendgroup": "Gestandaardiseerd inkomen: 1e 20%-groep",
           "marker": {
            "color": "#00cc96",
            "pattern": {
             "shape": ""
            }
           },
           "name": "Gestandaardiseerd inkomen: 1e 20%-groep",
           "offsetgroup": "Gestandaardiseerd inkomen: 1e 20%-groep",
           "orientation": "h",
           "showlegend": true,
           "textposition": "auto",
           "texttemplate": "%{x:.2s}",
           "type": "bar",
           "x": [
            1658.56
           ],
           "xaxis": "x",
           "y": [
            "Gestandaardiseerd inkomen: 1e 20%-groep"
           ],
           "yaxis": "y"
          },
          {
           "alignmentgroup": "True",
           "hovertemplate": "Persoonskenmerken=%{y}<br>Perioden=2018<br>Verplaatsingen_1=%{x}<extra></extra>",
           "legendgroup": "Gestandaardiseerd inkomen: 2e 20%-groep",
           "marker": {
            "color": "#ab63fa",
            "pattern": {
             "shape": ""
            }
           },
           "name": "Gestandaardiseerd inkomen: 2e 20%-groep",
           "offsetgroup": "Gestandaardiseerd inkomen: 2e 20%-groep",
           "orientation": "h",
           "showlegend": true,
           "textposition": "auto",
           "texttemplate": "%{x:.2s}",
           "type": "bar",
           "x": [
            1740.22
           ],
           "xaxis": "x",
           "y": [
            "Gestandaardiseerd inkomen: 2e 20%-groep"
           ],
           "yaxis": "y"
          },
          {
           "alignmentgroup": "True",
           "hovertemplate": "Persoonskenmerken=%{y}<br>Perioden=2018<br>Verplaatsingen_1=%{x}<extra></extra>",
           "legendgroup": "Gestandaardiseerd inkomen: 3e 20%-groep",
           "marker": {
            "color": "#FFA15A",
            "pattern": {
             "shape": ""
            }
           },
           "name": "Gestandaardiseerd inkomen: 3e 20%-groep",
           "offsetgroup": "Gestandaardiseerd inkomen: 3e 20%-groep",
           "orientation": "h",
           "showlegend": true,
           "textposition": "auto",
           "texttemplate": "%{x:.2s}",
           "type": "bar",
           "x": [
            2089.84
           ],
           "xaxis": "x",
           "y": [
            "Gestandaardiseerd inkomen: 3e 20%-groep"
           ],
           "yaxis": "y"
          },
          {
           "alignmentgroup": "True",
           "hovertemplate": "Persoonskenmerken=%{y}<br>Perioden=2018<br>Verplaatsingen_1=%{x}<extra></extra>",
           "legendgroup": "Gestandaardiseerd inkomen: 4e 20%-groep",
           "marker": {
            "color": "#19d3f3",
            "pattern": {
             "shape": ""
            }
           },
           "name": "Gestandaardiseerd inkomen: 4e 20%-groep",
           "offsetgroup": "Gestandaardiseerd inkomen: 4e 20%-groep",
           "orientation": "h",
           "showlegend": true,
           "textposition": "auto",
           "texttemplate": "%{x:.2s}",
           "type": "bar",
           "x": [
            2209.82
           ],
           "xaxis": "x",
           "y": [
            "Gestandaardiseerd inkomen: 4e 20%-groep"
           ],
           "yaxis": "y"
          },
          {
           "alignmentgroup": "True",
           "hovertemplate": "Persoonskenmerken=%{y}<br>Perioden=2018<br>Verplaatsingen_1=%{x}<extra></extra>",
           "legendgroup": "Gestandaardiseerd inkomen: 5e 20%-groep",
           "marker": {
            "color": "#FF6692",
            "pattern": {
             "shape": ""
            }
           },
           "name": "Gestandaardiseerd inkomen: 5e 20%-groep",
           "offsetgroup": "Gestandaardiseerd inkomen: 5e 20%-groep",
           "orientation": "h",
           "showlegend": true,
           "textposition": "auto",
           "texttemplate": "%{x:.2s}",
           "type": "bar",
           "x": [
            2203.75
           ],
           "xaxis": "x",
           "y": [
            "Gestandaardiseerd inkomen: 5e 20%-groep"
           ],
           "yaxis": "y"
          },
          {
           "alignmentgroup": "True",
           "hovertemplate": "Persoonskenmerken=%{y}<br>Perioden=2018<br>Verplaatsingen_1=%{x}<extra></extra>",
           "legendgroup": "Leeftijd: 12 tot 18 jaar",
           "marker": {
            "color": "#B6E880",
            "pattern": {
             "shape": ""
            }
           },
           "name": "Leeftijd: 12 tot 18 jaar",
           "offsetgroup": "Leeftijd: 12 tot 18 jaar",
           "orientation": "h",
           "showlegend": true,
           "textposition": "auto",
           "texttemplate": "%{x:.2s}",
           "type": "bar",
           "x": [
            1870.52
           ],
           "xaxis": "x",
           "y": [
            "Leeftijd: 12 tot 18 jaar"
           ],
           "yaxis": "y"
          },
          {
           "alignmentgroup": "True",
           "hovertemplate": "Persoonskenmerken=%{y}<br>Perioden=2018<br>Verplaatsingen_1=%{x}<extra></extra>",
           "legendgroup": "Leeftijd: 18 tot 25 jaar",
           "marker": {
            "color": "#FF97FF",
            "pattern": {
             "shape": ""
            }
           },
           "name": "Leeftijd: 18 tot 25 jaar",
           "offsetgroup": "Leeftijd: 18 tot 25 jaar",
           "orientation": "h",
           "showlegend": true,
           "textposition": "auto",
           "texttemplate": "%{x:.2s}",
           "type": "bar",
           "x": [
            1750.16
           ],
           "xaxis": "x",
           "y": [
            "Leeftijd: 18 tot 25 jaar"
           ],
           "yaxis": "y"
          },
          {
           "alignmentgroup": "True",
           "hovertemplate": "Persoonskenmerken=%{y}<br>Perioden=2018<br>Verplaatsingen_1=%{x}<extra></extra>",
           "legendgroup": "Leeftijd: 25 tot 35 jaar",
           "marker": {
            "color": "#FECB52",
            "pattern": {
             "shape": ""
            }
           },
           "name": "Leeftijd: 25 tot 35 jaar",
           "offsetgroup": "Leeftijd: 25 tot 35 jaar",
           "orientation": "h",
           "showlegend": true,
           "textposition": "auto",
           "texttemplate": "%{x:.2s}",
           "type": "bar",
           "x": [
            2142.74
           ],
           "xaxis": "x",
           "y": [
            "Leeftijd: 25 tot 35 jaar"
           ],
           "yaxis": "y"
          },
          {
           "alignmentgroup": "True",
           "hovertemplate": "Persoonskenmerken=%{y}<br>Perioden=2018<br>Verplaatsingen_1=%{x}<extra></extra>",
           "legendgroup": "Leeftijd: 35 tot 50 jaar",
           "marker": {
            "color": "#636efa",
            "pattern": {
             "shape": ""
            }
           },
           "name": "Leeftijd: 35 tot 50 jaar",
           "offsetgroup": "Leeftijd: 35 tot 50 jaar",
           "orientation": "h",
           "showlegend": true,
           "textposition": "auto",
           "texttemplate": "%{x:.2s}",
           "type": "bar",
           "x": [
            2373.44
           ],
           "xaxis": "x",
           "y": [
            "Leeftijd: 35 tot 50 jaar"
           ],
           "yaxis": "y"
          },
          {
           "alignmentgroup": "True",
           "hovertemplate": "Persoonskenmerken=%{y}<br>Perioden=2018<br>Verplaatsingen_1=%{x}<extra></extra>",
           "legendgroup": "Leeftijd: 50 tot 65 jaar",
           "marker": {
            "color": "#EF553B",
            "pattern": {
             "shape": ""
            }
           },
           "name": "Leeftijd: 50 tot 65 jaar",
           "offsetgroup": "Leeftijd: 50 tot 65 jaar",
           "orientation": "h",
           "showlegend": true,
           "textposition": "auto",
           "texttemplate": "%{x:.2s}",
           "type": "bar",
           "x": [
            2067.32
           ],
           "xaxis": "x",
           "y": [
            "Leeftijd: 50 tot 65 jaar"
           ],
           "yaxis": "y"
          },
          {
           "alignmentgroup": "True",
           "hovertemplate": "Persoonskenmerken=%{y}<br>Perioden=2018<br>Verplaatsingen_1=%{x}<extra></extra>",
           "legendgroup": "Leeftijd: 65 tot 75 jaar",
           "marker": {
            "color": "#00cc96",
            "pattern": {
             "shape": ""
            }
           },
           "name": "Leeftijd: 65 tot 75 jaar",
           "offsetgroup": "Leeftijd: 65 tot 75 jaar",
           "orientation": "h",
           "showlegend": true,
           "textposition": "auto",
           "texttemplate": "%{x:.2s}",
           "type": "bar",
           "x": [
            1579.2
           ],
           "xaxis": "x",
           "y": [
            "Leeftijd: 65 tot 75 jaar"
           ],
           "yaxis": "y"
          },
          {
           "alignmentgroup": "True",
           "hovertemplate": "Persoonskenmerken=%{y}<br>Perioden=2018<br>Verplaatsingen_1=%{x}<extra></extra>",
           "legendgroup": "Leeftijd: 75 jaar of ouder",
           "marker": {
            "color": "#ab63fa",
            "pattern": {
             "shape": ""
            }
           },
           "name": "Leeftijd: 75 jaar of ouder",
           "offsetgroup": "Leeftijd: 75 jaar of ouder",
           "orientation": "h",
           "showlegend": true,
           "textposition": "auto",
           "texttemplate": "%{x:.2s}",
           "type": "bar",
           "x": [
            976.18
           ],
           "xaxis": "x",
           "y": [
            "Leeftijd: 75 jaar of ouder"
           ],
           "yaxis": "y"
          },
          {
           "alignmentgroup": "True",
           "hovertemplate": "Persoonskenmerken=%{y}<br>Perioden=2018<br>Verplaatsingen_1=%{x}<extra></extra>",
           "legendgroup": "Leeftijd:6 tot 12 jaar",
           "marker": {
            "color": "#FFA15A",
            "pattern": {
             "shape": ""
            }
           },
           "name": "Leeftijd:6 tot 12 jaar",
           "offsetgroup": "Leeftijd:6 tot 12 jaar",
           "orientation": "h",
           "showlegend": true,
           "textposition": "auto",
           "texttemplate": "%{x:.2s}",
           "type": "bar",
           "x": [
            1107.8
           ],
           "xaxis": "x",
           "y": [
            "Leeftijd:6 tot 12 jaar"
           ],
           "yaxis": "y"
          },
          {
           "alignmentgroup": "True",
           "hovertemplate": "Persoonskenmerken=%{y}<br>Perioden=2018<br>Verplaatsingen_1=%{x}<extra></extra>",
           "legendgroup": "Migratieachtergrond: Nederland",
           "marker": {
            "color": "#19d3f3",
            "pattern": {
             "shape": ""
            }
           },
           "name": "Migratieachtergrond: Nederland",
           "offsetgroup": "Migratieachtergrond: Nederland",
           "orientation": "h",
           "showlegend": true,
           "textposition": "auto",
           "texttemplate": "%{x:.2s}",
           "type": "bar",
           "x": [
            2259.69
           ],
           "xaxis": "x",
           "y": [
            "Migratieachtergrond: Nederland"
           ],
           "yaxis": "y"
          },
          {
           "alignmentgroup": "True",
           "hovertemplate": "Persoonskenmerken=%{y}<br>Perioden=2018<br>Verplaatsingen_1=%{x}<extra></extra>",
           "legendgroup": "Migratieachtergrond: niet-westers",
           "marker": {
            "color": "#FF6692",
            "pattern": {
             "shape": ""
            }
           },
           "name": "Migratieachtergrond: niet-westers",
           "offsetgroup": "Migratieachtergrond: niet-westers",
           "orientation": "h",
           "showlegend": true,
           "textposition": "auto",
           "texttemplate": "%{x:.2s}",
           "type": "bar",
           "x": [
            1165.99
           ],
           "xaxis": "x",
           "y": [
            "Migratieachtergrond: niet-westers"
           ],
           "yaxis": "y"
          },
          {
           "alignmentgroup": "True",
           "hovertemplate": "Persoonskenmerken=%{y}<br>Perioden=2018<br>Verplaatsingen_1=%{x}<extra></extra>",
           "legendgroup": "Migratieachtergrond: westers",
           "marker": {
            "color": "#B6E880",
            "pattern": {
             "shape": ""
            }
           },
           "name": "Migratieachtergrond: westers",
           "offsetgroup": "Migratieachtergrond: westers",
           "orientation": "h",
           "showlegend": true,
           "textposition": "auto",
           "texttemplate": "%{x:.2s}",
           "type": "bar",
           "x": [
            1534.01
           ],
           "xaxis": "x",
           "y": [
            "Migratieachtergrond: westers"
           ],
           "yaxis": "y"
          },
          {
           "alignmentgroup": "True",
           "hovertemplate": "Persoonskenmerken=%{y}<br>Perioden=2018<br>Verplaatsingen_1=%{x}<extra></extra>",
           "legendgroup": "OV-Studentenkaart: geen",
           "marker": {
            "color": "#FF97FF",
            "pattern": {
             "shape": ""
            }
           },
           "name": "OV-Studentenkaart: geen",
           "offsetgroup": "OV-Studentenkaart: geen",
           "orientation": "h",
           "showlegend": true,
           "textposition": "auto",
           "texttemplate": "%{x:.2s}",
           "type": "bar",
           "x": [
            2175.46
           ],
           "xaxis": "x",
           "y": [
            "OV-Studentenkaart: geen"
           ],
           "yaxis": "y"
          },
          {
           "alignmentgroup": "True",
           "hovertemplate": "Persoonskenmerken=%{y}<br>Perioden=2018<br>Verplaatsingen_1=%{x}<extra></extra>",
           "legendgroup": "OV-Studentenkaart: weekabonnement",
           "marker": {
            "color": "#FECB52",
            "pattern": {
             "shape": ""
            }
           },
           "name": "OV-Studentenkaart: weekabonnement",
           "offsetgroup": "OV-Studentenkaart: weekabonnement",
           "orientation": "h",
           "showlegend": true,
           "textposition": "auto",
           "texttemplate": "%{x:.2s}",
           "type": "bar",
           "x": [
            1542.14
           ],
           "xaxis": "x",
           "y": [
            "OV-Studentenkaart: weekabonnement"
           ],
           "yaxis": "y"
          },
          {
           "alignmentgroup": "True",
           "hovertemplate": "Persoonskenmerken=%{y}<br>Perioden=2018<br>Verplaatsingen_1=%{x}<extra></extra>",
           "legendgroup": "OV-Studentenkaart: weekendabonnement",
           "marker": {
            "color": "#636efa",
            "pattern": {
             "shape": ""
            }
           },
           "name": "OV-Studentenkaart: weekendabonnement",
           "offsetgroup": "OV-Studentenkaart: weekendabonnement",
           "orientation": "h",
           "showlegend": true,
           "textposition": "auto",
           "texttemplate": "%{x:.2s}",
           "type": "bar",
           "x": [
            322.92
           ],
           "xaxis": "x",
           "y": [
            "OV-Studentenkaart: weekendabonnement"
           ],
           "yaxis": "y"
          },
          {
           "alignmentgroup": "True",
           "hovertemplate": "Persoonskenmerken=%{y}<br>Perioden=2018<br>Verplaatsingen_1=%{x}<extra></extra>",
           "legendgroup": "Onderwijsniveau: 1 Laag",
           "marker": {
            "color": "#EF553B",
            "pattern": {
             "shape": ""
            }
           },
           "name": "Onderwijsniveau: 1 Laag",
           "offsetgroup": "Onderwijsniveau: 1 Laag",
           "orientation": "h",
           "showlegend": true,
           "textposition": "auto",
           "texttemplate": "%{x:.2s}",
           "type": "bar",
           "x": [
            1621.78
           ],
           "xaxis": "x",
           "y": [
            "Onderwijsniveau: 1 Laag"
           ],
           "yaxis": "y"
          },
          {
           "alignmentgroup": "True",
           "hovertemplate": "Persoonskenmerken=%{y}<br>Perioden=2018<br>Verplaatsingen_1=%{x}<extra></extra>",
           "legendgroup": "Onderwijsniveau: 2 Middelbaar",
           "marker": {
            "color": "#00cc96",
            "pattern": {
             "shape": ""
            }
           },
           "name": "Onderwijsniveau: 2 Middelbaar",
           "offsetgroup": "Onderwijsniveau: 2 Middelbaar",
           "orientation": "h",
           "showlegend": true,
           "textposition": "auto",
           "texttemplate": "%{x:.2s}",
           "type": "bar",
           "x": [
            2234.58
           ],
           "xaxis": "x",
           "y": [
            "Onderwijsniveau: 2 Middelbaar"
           ],
           "yaxis": "y"
          },
          {
           "alignmentgroup": "True",
           "hovertemplate": "Persoonskenmerken=%{y}<br>Perioden=2018<br>Verplaatsingen_1=%{x}<extra></extra>",
           "legendgroup": "Onderwijsniveau: 3 Hoog",
           "marker": {
            "color": "#ab63fa",
            "pattern": {
             "shape": ""
            }
           },
           "name": "Onderwijsniveau: 3 Hoog",
           "offsetgroup": "Onderwijsniveau: 3 Hoog",
           "orientation": "h",
           "showlegend": true,
           "textposition": "auto",
           "texttemplate": "%{x:.2s}",
           "type": "bar",
           "x": [
            2360.48
           ],
           "xaxis": "x",
           "y": [
            "Onderwijsniveau: 3 Hoog"
           ],
           "yaxis": "y"
          },
          {
           "alignmentgroup": "True",
           "hovertemplate": "Persoonskenmerken=%{y}<br>Perioden=2018<br>Verplaatsingen_1=%{x}<extra></extra>",
           "legendgroup": "Participatie:  arbeidsongeschikt",
           "marker": {
            "color": "#FFA15A",
            "pattern": {
             "shape": ""
            }
           },
           "name": "Participatie:  arbeidsongeschikt",
           "offsetgroup": "Participatie:  arbeidsongeschikt",
           "orientation": "h",
           "showlegend": true,
           "textposition": "auto",
           "texttemplate": "%{x:.2s}",
           "type": "bar",
           "x": [
            851.4
           ],
           "xaxis": "x",
           "y": [
            "Participatie:  arbeidsongeschikt"
           ],
           "yaxis": "y"
          },
          {
           "alignmentgroup": "True",
           "hovertemplate": "Persoonskenmerken=%{y}<br>Perioden=2018<br>Verplaatsingen_1=%{x}<extra></extra>",
           "legendgroup": "Participatie: anders/overig",
           "marker": {
            "color": "#19d3f3",
            "pattern": {
             "shape": ""
            }
           },
           "name": "Participatie: anders/overig",
           "offsetgroup": "Participatie: anders/overig",
           "orientation": "h",
           "showlegend": true,
           "textposition": "auto",
           "texttemplate": "%{x:.2s}",
           "type": "bar",
           "x": [
            1488.98
           ],
           "xaxis": "x",
           "y": [
            "Participatie: anders/overig"
           ],
           "yaxis": "y"
          },
          {
           "alignmentgroup": "True",
           "hovertemplate": "Persoonskenmerken=%{y}<br>Perioden=2018<br>Verplaatsingen_1=%{x}<extra></extra>",
           "legendgroup": "Participatie: gepensioneerd/VUT",
           "marker": {
            "color": "#FF6692",
            "pattern": {
             "shape": ""
            }
           },
           "name": "Participatie: gepensioneerd/VUT",
           "offsetgroup": "Participatie: gepensioneerd/VUT",
           "orientation": "h",
           "showlegend": true,
           "textposition": "auto",
           "texttemplate": "%{x:.2s}",
           "type": "bar",
           "x": [
            1521.62
           ],
           "xaxis": "x",
           "y": [
            "Participatie: gepensioneerd/VUT"
           ],
           "yaxis": "y"
          },
          {
           "alignmentgroup": "True",
           "hovertemplate": "Persoonskenmerken=%{y}<br>Perioden=2018<br>Verplaatsingen_1=%{x}<extra></extra>",
           "legendgroup": "Participatie: werkloos",
           "marker": {
            "color": "#B6E880",
            "pattern": {
             "shape": ""
            }
           },
           "name": "Participatie: werkloos",
           "offsetgroup": "Participatie: werkloos",
           "orientation": "h",
           "showlegend": true,
           "textposition": "auto",
           "texttemplate": "%{x:.2s}",
           "type": "bar",
           "x": [
            678.74
           ],
           "xaxis": "x",
           "y": [
            "Participatie: werkloos"
           ],
           "yaxis": "y"
          },
          {
           "alignmentgroup": "True",
           "hovertemplate": "Persoonskenmerken=%{y}<br>Perioden=2018<br>Verplaatsingen_1=%{x}<extra></extra>",
           "legendgroup": "Participatie: werkzaam 30 uur pw of meer",
           "marker": {
            "color": "#FF97FF",
            "pattern": {
             "shape": ""
            }
           },
           "name": "Participatie: werkzaam 30 uur pw of meer",
           "offsetgroup": "Participatie: werkzaam 30 uur pw of meer",
           "orientation": "h",
           "showlegend": true,
           "textposition": "auto",
           "texttemplate": "%{x:.2s}",
           "type": "bar",
           "x": [
            2286.1
           ],
           "xaxis": "x",
           "y": [
            "Participatie: werkzaam 30 uur pw of meer"
           ],
           "yaxis": "y"
          },
          {
           "alignmentgroup": "True",
           "hovertemplate": "Persoonskenmerken=%{y}<br>Perioden=2018<br>Verplaatsingen_1=%{x}<extra></extra>",
           "legendgroup": "Participatie: werkzaam: 12 tot 30 uur pw",
           "marker": {
            "color": "#FECB52",
            "pattern": {
             "shape": ""
            }
           },
           "name": "Participatie: werkzaam: 12 tot 30 uur pw",
           "offsetgroup": "Participatie: werkzaam: 12 tot 30 uur pw",
           "orientation": "h",
           "showlegend": true,
           "textposition": "auto",
           "texttemplate": "%{x:.2s}",
           "type": "bar",
           "x": [
            2098.24
           ],
           "xaxis": "x",
           "y": [
            "Participatie: werkzaam: 12 tot 30 uur pw"
           ],
           "yaxis": "y"
          },
          {
           "alignmentgroup": "True",
           "hovertemplate": "Persoonskenmerken=%{y}<br>Perioden=2018<br>Verplaatsingen_1=%{x}<extra></extra>",
           "legendgroup": "Participatie:student/scholier",
           "marker": {
            "color": "#636efa",
            "pattern": {
             "shape": ""
            }
           },
           "name": "Participatie:student/scholier",
           "offsetgroup": "Participatie:student/scholier",
           "orientation": "h",
           "showlegend": true,
           "textposition": "auto",
           "texttemplate": "%{x:.2s}",
           "type": "bar",
           "x": [
            2062.83
           ],
           "xaxis": "x",
           "y": [
            "Participatie:student/scholier"
           ],
           "yaxis": "y"
          },
          {
           "alignmentgroup": "True",
           "hovertemplate": "Persoonskenmerken=%{y}<br>Perioden=2018<br>Verplaatsingen_1=%{x}<extra></extra>",
           "legendgroup": "Rijbewijs, geen personenauto in hh",
           "marker": {
            "color": "#EF553B",
            "pattern": {
             "shape": ""
            }
           },
           "name": "Rijbewijs, geen personenauto in hh",
           "offsetgroup": "Rijbewijs, geen personenauto in hh",
           "orientation": "h",
           "showlegend": true,
           "textposition": "auto",
           "texttemplate": "%{x:.2s}",
           "type": "bar",
           "x": [
            1477.82
           ],
           "xaxis": "x",
           "y": [
            "Rijbewijs, geen personenauto in hh"
           ],
           "yaxis": "y"
          },
          {
           "alignmentgroup": "True",
           "hovertemplate": "Persoonskenmerken=%{y}<br>Perioden=2018<br>Verplaatsingen_1=%{x}<extra></extra>",
           "legendgroup": "Rijbewijs, personenauto in hh",
           "marker": {
            "color": "#00cc96",
            "pattern": {
             "shape": ""
            }
           },
           "name": "Rijbewijs, personenauto in hh",
           "offsetgroup": "Rijbewijs, personenauto in hh",
           "orientation": "h",
           "showlegend": true,
           "textposition": "auto",
           "texttemplate": "%{x:.2s}",
           "type": "bar",
           "x": [
            2165.82
           ],
           "xaxis": "x",
           "y": [
            "Rijbewijs, personenauto in hh"
           ],
           "yaxis": "y"
          },
          {
           "alignmentgroup": "True",
           "hovertemplate": "Persoonskenmerken=%{y}<br>Perioden=2018<br>Verplaatsingen_1=%{x}<extra></extra>",
           "legendgroup": "Rijbewijs, personenauto op eigen naam",
           "marker": {
            "color": "#ab63fa",
            "pattern": {
             "shape": ""
            }
           },
           "name": "Rijbewijs, personenauto op eigen naam",
           "offsetgroup": "Rijbewijs, personenauto op eigen naam",
           "orientation": "h",
           "showlegend": true,
           "textposition": "auto",
           "texttemplate": "%{x:.2s}",
           "type": "bar",
           "x": [
            2269.42
           ],
           "xaxis": "x",
           "y": [
            "Rijbewijs, personenauto op eigen naam"
           ],
           "yaxis": "y"
          }
         ],
         "name": "2018"
        },
        {
         "data": [
          {
           "alignmentgroup": "True",
           "hovertemplate": "Persoonskenmerken=%{y}<br>Perioden=2019<br>Verplaatsingen_1=%{x}<extra></extra>",
           "legendgroup": "Geen rijbewijs; jonger dan 17 jaar",
           "marker": {
            "color": "#636efa",
            "pattern": {
             "shape": ""
            }
           },
           "name": "Geen rijbewijs; jonger dan 17 jaar",
           "offsetgroup": "Geen rijbewijs; jonger dan 17 jaar",
           "orientation": "h",
           "showlegend": true,
           "textposition": "auto",
           "texttemplate": "%{x:.2s}",
           "type": "bar",
           "x": [
            1791.79
           ],
           "xaxis": "x",
           "y": [
            "Geen rijbewijs; jonger dan 17 jaar"
           ],
           "yaxis": "y"
          },
          {
           "alignmentgroup": "True",
           "hovertemplate": "Persoonskenmerken=%{y}<br>Perioden=2019<br>Verplaatsingen_1=%{x}<extra></extra>",
           "legendgroup": "Geen rijbewijs; wel 17 jaar of ouder",
           "marker": {
            "color": "#EF553B",
            "pattern": {
             "shape": ""
            }
           },
           "name": "Geen rijbewijs; wel 17 jaar of ouder",
           "offsetgroup": "Geen rijbewijs; wel 17 jaar of ouder",
           "orientation": "h",
           "showlegend": true,
           "textposition": "auto",
           "texttemplate": "%{x:.2s}",
           "type": "bar",
           "x": [
            1217.8
           ],
           "xaxis": "x",
           "y": [
            "Geen rijbewijs; wel 17 jaar of ouder"
           ],
           "yaxis": "y"
          },
          {
           "alignmentgroup": "True",
           "hovertemplate": "Persoonskenmerken=%{y}<br>Perioden=2019<br>Verplaatsingen_1=%{x}<extra></extra>",
           "legendgroup": "Gestandaardiseerd inkomen: 1e 20%-groep",
           "marker": {
            "color": "#00cc96",
            "pattern": {
             "shape": ""
            }
           },
           "name": "Gestandaardiseerd inkomen: 1e 20%-groep",
           "offsetgroup": "Gestandaardiseerd inkomen: 1e 20%-groep",
           "orientation": "h",
           "showlegend": true,
           "textposition": "auto",
           "texttemplate": "%{x:.2s}",
           "type": "bar",
           "x": [
            1423.83
           ],
           "xaxis": "x",
           "y": [
            "Gestandaardiseerd inkomen: 1e 20%-groep"
           ],
           "yaxis": "y"
          },
          {
           "alignmentgroup": "True",
           "hovertemplate": "Persoonskenmerken=%{y}<br>Perioden=2019<br>Verplaatsingen_1=%{x}<extra></extra>",
           "legendgroup": "Gestandaardiseerd inkomen: 2e 20%-groep",
           "marker": {
            "color": "#ab63fa",
            "pattern": {
             "shape": ""
            }
           },
           "name": "Gestandaardiseerd inkomen: 2e 20%-groep",
           "offsetgroup": "Gestandaardiseerd inkomen: 2e 20%-groep",
           "orientation": "h",
           "showlegend": true,
           "textposition": "auto",
           "texttemplate": "%{x:.2s}",
           "type": "bar",
           "x": [
            1646.72
           ],
           "xaxis": "x",
           "y": [
            "Gestandaardiseerd inkomen: 2e 20%-groep"
           ],
           "yaxis": "y"
          },
          {
           "alignmentgroup": "True",
           "hovertemplate": "Persoonskenmerken=%{y}<br>Perioden=2019<br>Verplaatsingen_1=%{x}<extra></extra>",
           "legendgroup": "Gestandaardiseerd inkomen: 3e 20%-groep",
           "marker": {
            "color": "#FFA15A",
            "pattern": {
             "shape": ""
            }
           },
           "name": "Gestandaardiseerd inkomen: 3e 20%-groep",
           "offsetgroup": "Gestandaardiseerd inkomen: 3e 20%-groep",
           "orientation": "h",
           "showlegend": true,
           "textposition": "auto",
           "texttemplate": "%{x:.2s}",
           "type": "bar",
           "x": [
            1967.63
           ],
           "xaxis": "x",
           "y": [
            "Gestandaardiseerd inkomen: 3e 20%-groep"
           ],
           "yaxis": "y"
          },
          {
           "alignmentgroup": "True",
           "hovertemplate": "Persoonskenmerken=%{y}<br>Perioden=2019<br>Verplaatsingen_1=%{x}<extra></extra>",
           "legendgroup": "Gestandaardiseerd inkomen: 4e 20%-groep",
           "marker": {
            "color": "#19d3f3",
            "pattern": {
             "shape": ""
            }
           },
           "name": "Gestandaardiseerd inkomen: 4e 20%-groep",
           "offsetgroup": "Gestandaardiseerd inkomen: 4e 20%-groep",
           "orientation": "h",
           "showlegend": true,
           "textposition": "auto",
           "texttemplate": "%{x:.2s}",
           "type": "bar",
           "x": [
            2118.6
           ],
           "xaxis": "x",
           "y": [
            "Gestandaardiseerd inkomen: 4e 20%-groep"
           ],
           "yaxis": "y"
          },
          {
           "alignmentgroup": "True",
           "hovertemplate": "Persoonskenmerken=%{y}<br>Perioden=2019<br>Verplaatsingen_1=%{x}<extra></extra>",
           "legendgroup": "Gestandaardiseerd inkomen: 5e 20%-groep",
           "marker": {
            "color": "#FF6692",
            "pattern": {
             "shape": ""
            }
           },
           "name": "Gestandaardiseerd inkomen: 5e 20%-groep",
           "offsetgroup": "Gestandaardiseerd inkomen: 5e 20%-groep",
           "orientation": "h",
           "showlegend": true,
           "textposition": "auto",
           "texttemplate": "%{x:.2s}",
           "type": "bar",
           "x": [
            2097.89
           ],
           "xaxis": "x",
           "y": [
            "Gestandaardiseerd inkomen: 5e 20%-groep"
           ],
           "yaxis": "y"
          },
          {
           "alignmentgroup": "True",
           "hovertemplate": "Persoonskenmerken=%{y}<br>Perioden=2019<br>Verplaatsingen_1=%{x}<extra></extra>",
           "legendgroup": "Leeftijd: 12 tot 18 jaar",
           "marker": {
            "color": "#B6E880",
            "pattern": {
             "shape": ""
            }
           },
           "name": "Leeftijd: 12 tot 18 jaar",
           "offsetgroup": "Leeftijd: 12 tot 18 jaar",
           "orientation": "h",
           "showlegend": true,
           "textposition": "auto",
           "texttemplate": "%{x:.2s}",
           "type": "bar",
           "x": [
            1569.22
           ],
           "xaxis": "x",
           "y": [
            "Leeftijd: 12 tot 18 jaar"
           ],
           "yaxis": "y"
          },
          {
           "alignmentgroup": "True",
           "hovertemplate": "Persoonskenmerken=%{y}<br>Perioden=2019<br>Verplaatsingen_1=%{x}<extra></extra>",
           "legendgroup": "Leeftijd: 18 tot 25 jaar",
           "marker": {
            "color": "#FF97FF",
            "pattern": {
             "shape": ""
            }
           },
           "name": "Leeftijd: 18 tot 25 jaar",
           "offsetgroup": "Leeftijd: 18 tot 25 jaar",
           "orientation": "h",
           "showlegend": true,
           "textposition": "auto",
           "texttemplate": "%{x:.2s}",
           "type": "bar",
           "x": [
            1592.04
           ],
           "xaxis": "x",
           "y": [
            "Leeftijd: 18 tot 25 jaar"
           ],
           "yaxis": "y"
          },
          {
           "alignmentgroup": "True",
           "hovertemplate": "Persoonskenmerken=%{y}<br>Perioden=2019<br>Verplaatsingen_1=%{x}<extra></extra>",
           "legendgroup": "Leeftijd: 25 tot 35 jaar",
           "marker": {
            "color": "#FECB52",
            "pattern": {
             "shape": ""
            }
           },
           "name": "Leeftijd: 25 tot 35 jaar",
           "offsetgroup": "Leeftijd: 25 tot 35 jaar",
           "orientation": "h",
           "showlegend": true,
           "textposition": "auto",
           "texttemplate": "%{x:.2s}",
           "type": "bar",
           "x": [
            1942.6200000000001
           ],
           "xaxis": "x",
           "y": [
            "Leeftijd: 25 tot 35 jaar"
           ],
           "yaxis": "y"
          },
          {
           "alignmentgroup": "True",
           "hovertemplate": "Persoonskenmerken=%{y}<br>Perioden=2019<br>Verplaatsingen_1=%{x}<extra></extra>",
           "legendgroup": "Leeftijd: 35 tot 50 jaar",
           "marker": {
            "color": "#636efa",
            "pattern": {
             "shape": ""
            }
           },
           "name": "Leeftijd: 35 tot 50 jaar",
           "offsetgroup": "Leeftijd: 35 tot 50 jaar",
           "orientation": "h",
           "showlegend": true,
           "textposition": "auto",
           "texttemplate": "%{x:.2s}",
           "type": "bar",
           "x": [
            2316.3
           ],
           "xaxis": "x",
           "y": [
            "Leeftijd: 35 tot 50 jaar"
           ],
           "yaxis": "y"
          },
          {
           "alignmentgroup": "True",
           "hovertemplate": "Persoonskenmerken=%{y}<br>Perioden=2019<br>Verplaatsingen_1=%{x}<extra></extra>",
           "legendgroup": "Leeftijd: 50 tot 65 jaar",
           "marker": {
            "color": "#EF553B",
            "pattern": {
             "shape": ""
            }
           },
           "name": "Leeftijd: 50 tot 65 jaar",
           "offsetgroup": "Leeftijd: 50 tot 65 jaar",
           "orientation": "h",
           "showlegend": true,
           "textposition": "auto",
           "texttemplate": "%{x:.2s}",
           "type": "bar",
           "x": [
            2013.6200000000001
           ],
           "xaxis": "x",
           "y": [
            "Leeftijd: 50 tot 65 jaar"
           ],
           "yaxis": "y"
          },
          {
           "alignmentgroup": "True",
           "hovertemplate": "Persoonskenmerken=%{y}<br>Perioden=2019<br>Verplaatsingen_1=%{x}<extra></extra>",
           "legendgroup": "Leeftijd: 65 tot 75 jaar",
           "marker": {
            "color": "#00cc96",
            "pattern": {
             "shape": ""
            }
           },
           "name": "Leeftijd: 65 tot 75 jaar",
           "offsetgroup": "Leeftijd: 65 tot 75 jaar",
           "orientation": "h",
           "showlegend": true,
           "textposition": "auto",
           "texttemplate": "%{x:.2s}",
           "type": "bar",
           "x": [
            1496.9
           ],
           "xaxis": "x",
           "y": [
            "Leeftijd: 65 tot 75 jaar"
           ],
           "yaxis": "y"
          },
          {
           "alignmentgroup": "True",
           "hovertemplate": "Persoonskenmerken=%{y}<br>Perioden=2019<br>Verplaatsingen_1=%{x}<extra></extra>",
           "legendgroup": "Leeftijd: 75 jaar of ouder",
           "marker": {
            "color": "#ab63fa",
            "pattern": {
             "shape": ""
            }
           },
           "name": "Leeftijd: 75 jaar of ouder",
           "offsetgroup": "Leeftijd: 75 jaar of ouder",
           "orientation": "h",
           "showlegend": true,
           "textposition": "auto",
           "texttemplate": "%{x:.2s}",
           "type": "bar",
           "x": [
            937.58
           ],
           "xaxis": "x",
           "y": [
            "Leeftijd: 75 jaar of ouder"
           ],
           "yaxis": "y"
          },
          {
           "alignmentgroup": "True",
           "hovertemplate": "Persoonskenmerken=%{y}<br>Perioden=2019<br>Verplaatsingen_1=%{x}<extra></extra>",
           "legendgroup": "Leeftijd:6 tot 12 jaar",
           "marker": {
            "color": "#FFA15A",
            "pattern": {
             "shape": ""
            }
           },
           "name": "Leeftijd:6 tot 12 jaar",
           "offsetgroup": "Leeftijd:6 tot 12 jaar",
           "orientation": "h",
           "showlegend": true,
           "textposition": "auto",
           "texttemplate": "%{x:.2s}",
           "type": "bar",
           "x": [
            970.49
           ],
           "xaxis": "x",
           "y": [
            "Leeftijd:6 tot 12 jaar"
           ],
           "yaxis": "y"
          },
          {
           "alignmentgroup": "True",
           "hovertemplate": "Persoonskenmerken=%{y}<br>Perioden=2019<br>Verplaatsingen_1=%{x}<extra></extra>",
           "legendgroup": "Migratieachtergrond: Nederland",
           "marker": {
            "color": "#19d3f3",
            "pattern": {
             "shape": ""
            }
           },
           "name": "Migratieachtergrond: Nederland",
           "offsetgroup": "Migratieachtergrond: Nederland",
           "orientation": "h",
           "showlegend": true,
           "textposition": "auto",
           "texttemplate": "%{x:.2s}",
           "type": "bar",
           "x": [
            2206.07
           ],
           "xaxis": "x",
           "y": [
            "Migratieachtergrond: Nederland"
           ],
           "yaxis": "y"
          },
          {
           "alignmentgroup": "True",
           "hovertemplate": "Persoonskenmerken=%{y}<br>Perioden=2019<br>Verplaatsingen_1=%{x}<extra></extra>",
           "legendgroup": "Migratieachtergrond: niet-westers",
           "marker": {
            "color": "#FF6692",
            "pattern": {
             "shape": ""
            }
           },
           "name": "Migratieachtergrond: niet-westers",
           "offsetgroup": "Migratieachtergrond: niet-westers",
           "orientation": "h",
           "showlegend": true,
           "textposition": "auto",
           "texttemplate": "%{x:.2s}",
           "type": "bar",
           "x": [
            1031.17
           ],
           "xaxis": "x",
           "y": [
            "Migratieachtergrond: niet-westers"
           ],
           "yaxis": "y"
          },
          {
           "alignmentgroup": "True",
           "hovertemplate": "Persoonskenmerken=%{y}<br>Perioden=2019<br>Verplaatsingen_1=%{x}<extra></extra>",
           "legendgroup": "Migratieachtergrond: westers",
           "marker": {
            "color": "#B6E880",
            "pattern": {
             "shape": ""
            }
           },
           "name": "Migratieachtergrond: westers",
           "offsetgroup": "Migratieachtergrond: westers",
           "orientation": "h",
           "showlegend": true,
           "textposition": "auto",
           "texttemplate": "%{x:.2s}",
           "type": "bar",
           "x": [
            1407.53
           ],
           "xaxis": "x",
           "y": [
            "Migratieachtergrond: westers"
           ],
           "yaxis": "y"
          },
          {
           "alignmentgroup": "True",
           "hovertemplate": "Persoonskenmerken=%{y}<br>Perioden=2019<br>Verplaatsingen_1=%{x}<extra></extra>",
           "legendgroup": "OV-Studentenkaart: geen",
           "marker": {
            "color": "#FF97FF",
            "pattern": {
             "shape": ""
            }
           },
           "name": "OV-Studentenkaart: geen",
           "offsetgroup": "OV-Studentenkaart: geen",
           "orientation": "h",
           "showlegend": true,
           "textposition": "auto",
           "texttemplate": "%{x:.2s}",
           "type": "bar",
           "x": [
            2120.57
           ],
           "xaxis": "x",
           "y": [
            "OV-Studentenkaart: geen"
           ],
           "yaxis": "y"
          },
          {
           "alignmentgroup": "True",
           "hovertemplate": "Persoonskenmerken=%{y}<br>Perioden=2019<br>Verplaatsingen_1=%{x}<extra></extra>",
           "legendgroup": "OV-Studentenkaart: weekabonnement",
           "marker": {
            "color": "#FECB52",
            "pattern": {
             "shape": ""
            }
           },
           "name": "OV-Studentenkaart: weekabonnement",
           "offsetgroup": "OV-Studentenkaart: weekabonnement",
           "orientation": "h",
           "showlegend": true,
           "textposition": "auto",
           "texttemplate": "%{x:.2s}",
           "type": "bar",
           "x": [
            1349.82
           ],
           "xaxis": "x",
           "y": [
            "OV-Studentenkaart: weekabonnement"
           ],
           "yaxis": "y"
          },
          {
           "alignmentgroup": "True",
           "hovertemplate": "Persoonskenmerken=%{y}<br>Perioden=2019<br>Verplaatsingen_1=%{x}<extra></extra>",
           "legendgroup": "OV-Studentenkaart: weekendabonnement",
           "marker": {
            "color": "#636efa",
            "pattern": {
             "shape": ""
            }
           },
           "name": "OV-Studentenkaart: weekendabonnement",
           "offsetgroup": "OV-Studentenkaart: weekendabonnement",
           "orientation": "h",
           "showlegend": true,
           "textposition": "auto",
           "texttemplate": "%{x:.2s}",
           "type": "bar",
           "x": [
            255.44
           ],
           "xaxis": "x",
           "y": [
            "OV-Studentenkaart: weekendabonnement"
           ],
           "yaxis": "y"
          },
          {
           "alignmentgroup": "True",
           "hovertemplate": "Persoonskenmerken=%{y}<br>Perioden=2019<br>Verplaatsingen_1=%{x}<extra></extra>",
           "legendgroup": "Onderwijsniveau: 1 Laag",
           "marker": {
            "color": "#EF553B",
            "pattern": {
             "shape": ""
            }
           },
           "name": "Onderwijsniveau: 1 Laag",
           "offsetgroup": "Onderwijsniveau: 1 Laag",
           "orientation": "h",
           "showlegend": true,
           "textposition": "auto",
           "texttemplate": "%{x:.2s}",
           "type": "bar",
           "x": [
            1507.52
           ],
           "xaxis": "x",
           "y": [
            "Onderwijsniveau: 1 Laag"
           ],
           "yaxis": "y"
          },
          {
           "alignmentgroup": "True",
           "hovertemplate": "Persoonskenmerken=%{y}<br>Perioden=2019<br>Verplaatsingen_1=%{x}<extra></extra>",
           "legendgroup": "Onderwijsniveau: 2 Middelbaar",
           "marker": {
            "color": "#00cc96",
            "pattern": {
             "shape": ""
            }
           },
           "name": "Onderwijsniveau: 2 Middelbaar",
           "offsetgroup": "Onderwijsniveau: 2 Middelbaar",
           "orientation": "h",
           "showlegend": true,
           "textposition": "auto",
           "texttemplate": "%{x:.2s}",
           "type": "bar",
           "x": [
            2153.62
           ],
           "xaxis": "x",
           "y": [
            "Onderwijsniveau: 2 Middelbaar"
           ],
           "yaxis": "y"
          },
          {
           "alignmentgroup": "True",
           "hovertemplate": "Persoonskenmerken=%{y}<br>Perioden=2019<br>Verplaatsingen_1=%{x}<extra></extra>",
           "legendgroup": "Onderwijsniveau: 3 Hoog",
           "marker": {
            "color": "#ab63fa",
            "pattern": {
             "shape": ""
            }
           },
           "name": "Onderwijsniveau: 3 Hoog",
           "offsetgroup": "Onderwijsniveau: 3 Hoog",
           "orientation": "h",
           "showlegend": true,
           "textposition": "auto",
           "texttemplate": "%{x:.2s}",
           "type": "bar",
           "x": [
            2276.08
           ],
           "xaxis": "x",
           "y": [
            "Onderwijsniveau: 3 Hoog"
           ],
           "yaxis": "y"
          },
          {
           "alignmentgroup": "True",
           "hovertemplate": "Persoonskenmerken=%{y}<br>Perioden=2019<br>Verplaatsingen_1=%{x}<extra></extra>",
           "legendgroup": "Participatie:  arbeidsongeschikt",
           "marker": {
            "color": "#FFA15A",
            "pattern": {
             "shape": ""
            }
           },
           "name": "Participatie:  arbeidsongeschikt",
           "offsetgroup": "Participatie:  arbeidsongeschikt",
           "orientation": "h",
           "showlegend": true,
           "textposition": "auto",
           "texttemplate": "%{x:.2s}",
           "type": "bar",
           "x": [
            716.64
           ],
           "xaxis": "x",
           "y": [
            "Participatie:  arbeidsongeschikt"
           ],
           "yaxis": "y"
          },
          {
           "alignmentgroup": "True",
           "hovertemplate": "Persoonskenmerken=%{y}<br>Perioden=2019<br>Verplaatsingen_1=%{x}<extra></extra>",
           "legendgroup": "Participatie: anders/overig",
           "marker": {
            "color": "#19d3f3",
            "pattern": {
             "shape": ""
            }
           },
           "name": "Participatie: anders/overig",
           "offsetgroup": "Participatie: anders/overig",
           "orientation": "h",
           "showlegend": true,
           "textposition": "auto",
           "texttemplate": "%{x:.2s}",
           "type": "bar",
           "x": [
            1283.72
           ],
           "xaxis": "x",
           "y": [
            "Participatie: anders/overig"
           ],
           "yaxis": "y"
          },
          {
           "alignmentgroup": "True",
           "hovertemplate": "Persoonskenmerken=%{y}<br>Perioden=2019<br>Verplaatsingen_1=%{x}<extra></extra>",
           "legendgroup": "Participatie: gepensioneerd/VUT",
           "marker": {
            "color": "#FF6692",
            "pattern": {
             "shape": ""
            }
           },
           "name": "Participatie: gepensioneerd/VUT",
           "offsetgroup": "Participatie: gepensioneerd/VUT",
           "orientation": "h",
           "showlegend": true,
           "textposition": "auto",
           "texttemplate": "%{x:.2s}",
           "type": "bar",
           "x": [
            1449.7
           ],
           "xaxis": "x",
           "y": [
            "Participatie: gepensioneerd/VUT"
           ],
           "yaxis": "y"
          },
          {
           "alignmentgroup": "True",
           "hovertemplate": "Persoonskenmerken=%{y}<br>Perioden=2019<br>Verplaatsingen_1=%{x}<extra></extra>",
           "legendgroup": "Participatie: werkloos",
           "marker": {
            "color": "#B6E880",
            "pattern": {
             "shape": ""
            }
           },
           "name": "Participatie: werkloos",
           "offsetgroup": "Participatie: werkloos",
           "orientation": "h",
           "showlegend": true,
           "textposition": "auto",
           "texttemplate": "%{x:.2s}",
           "type": "bar",
           "x": [
            526.14
           ],
           "xaxis": "x",
           "y": [
            "Participatie: werkloos"
           ],
           "yaxis": "y"
          },
          {
           "alignmentgroup": "True",
           "hovertemplate": "Persoonskenmerken=%{y}<br>Perioden=2019<br>Verplaatsingen_1=%{x}<extra></extra>",
           "legendgroup": "Participatie: werkzaam 30 uur pw of meer",
           "marker": {
            "color": "#FF97FF",
            "pattern": {
             "shape": ""
            }
           },
           "name": "Participatie: werkzaam 30 uur pw of meer",
           "offsetgroup": "Participatie: werkzaam 30 uur pw of meer",
           "orientation": "h",
           "showlegend": true,
           "textposition": "auto",
           "texttemplate": "%{x:.2s}",
           "type": "bar",
           "x": [
            2216.6
           ],
           "xaxis": "x",
           "y": [
            "Participatie: werkzaam 30 uur pw of meer"
           ],
           "yaxis": "y"
          },
          {
           "alignmentgroup": "True",
           "hovertemplate": "Persoonskenmerken=%{y}<br>Perioden=2019<br>Verplaatsingen_1=%{x}<extra></extra>",
           "legendgroup": "Participatie: werkzaam: 12 tot 30 uur pw",
           "marker": {
            "color": "#FECB52",
            "pattern": {
             "shape": ""
            }
           },
           "name": "Participatie: werkzaam: 12 tot 30 uur pw",
           "offsetgroup": "Participatie: werkzaam: 12 tot 30 uur pw",
           "orientation": "h",
           "showlegend": true,
           "textposition": "auto",
           "texttemplate": "%{x:.2s}",
           "type": "bar",
           "x": [
            2041.86
           ],
           "xaxis": "x",
           "y": [
            "Participatie: werkzaam: 12 tot 30 uur pw"
           ],
           "yaxis": "y"
          },
          {
           "alignmentgroup": "True",
           "hovertemplate": "Persoonskenmerken=%{y}<br>Perioden=2019<br>Verplaatsingen_1=%{x}<extra></extra>",
           "legendgroup": "Participatie:student/scholier",
           "marker": {
            "color": "#636efa",
            "pattern": {
             "shape": ""
            }
           },
           "name": "Participatie:student/scholier",
           "offsetgroup": "Participatie:student/scholier",
           "orientation": "h",
           "showlegend": true,
           "textposition": "auto",
           "texttemplate": "%{x:.2s}",
           "type": "bar",
           "x": [
            1911.22
           ],
           "xaxis": "x",
           "y": [
            "Participatie:student/scholier"
           ],
           "yaxis": "y"
          },
          {
           "alignmentgroup": "True",
           "hovertemplate": "Persoonskenmerken=%{y}<br>Perioden=2019<br>Verplaatsingen_1=%{x}<extra></extra>",
           "legendgroup": "Rijbewijs, geen personenauto in hh",
           "marker": {
            "color": "#EF553B",
            "pattern": {
             "shape": ""
            }
           },
           "name": "Rijbewijs, geen personenauto in hh",
           "offsetgroup": "Rijbewijs, geen personenauto in hh",
           "orientation": "h",
           "showlegend": true,
           "textposition": "auto",
           "texttemplate": "%{x:.2s}",
           "type": "bar",
           "x": [
            1391.46
           ],
           "xaxis": "x",
           "y": [
            "Rijbewijs, geen personenauto in hh"
           ],
           "yaxis": "y"
          },
          {
           "alignmentgroup": "True",
           "hovertemplate": "Persoonskenmerken=%{y}<br>Perioden=2019<br>Verplaatsingen_1=%{x}<extra></extra>",
           "legendgroup": "Rijbewijs, personenauto in hh",
           "marker": {
            "color": "#00cc96",
            "pattern": {
             "shape": ""
            }
           },
           "name": "Rijbewijs, personenauto in hh",
           "offsetgroup": "Rijbewijs, personenauto in hh",
           "orientation": "h",
           "showlegend": true,
           "textposition": "auto",
           "texttemplate": "%{x:.2s}",
           "type": "bar",
           "x": [
            2055.96
           ],
           "xaxis": "x",
           "y": [
            "Rijbewijs, personenauto in hh"
           ],
           "yaxis": "y"
          },
          {
           "alignmentgroup": "True",
           "hovertemplate": "Persoonskenmerken=%{y}<br>Perioden=2019<br>Verplaatsingen_1=%{x}<extra></extra>",
           "legendgroup": "Rijbewijs, personenauto op eigen naam",
           "marker": {
            "color": "#ab63fa",
            "pattern": {
             "shape": ""
            }
           },
           "name": "Rijbewijs, personenauto op eigen naam",
           "offsetgroup": "Rijbewijs, personenauto op eigen naam",
           "orientation": "h",
           "showlegend": true,
           "textposition": "auto",
           "texttemplate": "%{x:.2s}",
           "type": "bar",
           "x": [
            2214.22
           ],
           "xaxis": "x",
           "y": [
            "Rijbewijs, personenauto op eigen naam"
           ],
           "yaxis": "y"
          }
         ],
         "name": "2019"
        },
        {
         "data": [
          {
           "alignmentgroup": "True",
           "hovertemplate": "Persoonskenmerken=%{y}<br>Perioden=2020<br>Verplaatsingen_1=%{x}<extra></extra>",
           "legendgroup": "Geen rijbewijs; jonger dan 17 jaar",
           "marker": {
            "color": "#636efa",
            "pattern": {
             "shape": ""
            }
           },
           "name": "Geen rijbewijs; jonger dan 17 jaar",
           "offsetgroup": "Geen rijbewijs; jonger dan 17 jaar",
           "orientation": "h",
           "showlegend": true,
           "textposition": "auto",
           "texttemplate": "%{x:.2s}",
           "type": "bar",
           "x": [
            1378.4
           ],
           "xaxis": "x",
           "y": [
            "Geen rijbewijs; jonger dan 17 jaar"
           ],
           "yaxis": "y"
          },
          {
           "alignmentgroup": "True",
           "hovertemplate": "Persoonskenmerken=%{y}<br>Perioden=2020<br>Verplaatsingen_1=%{x}<extra></extra>",
           "legendgroup": "Geen rijbewijs; wel 17 jaar of ouder",
           "marker": {
            "color": "#EF553B",
            "pattern": {
             "shape": ""
            }
           },
           "name": "Geen rijbewijs; wel 17 jaar of ouder",
           "offsetgroup": "Geen rijbewijs; wel 17 jaar of ouder",
           "orientation": "h",
           "showlegend": true,
           "textposition": "auto",
           "texttemplate": "%{x:.2s}",
           "type": "bar",
           "x": [
            972.98
           ],
           "xaxis": "x",
           "y": [
            "Geen rijbewijs; wel 17 jaar of ouder"
           ],
           "yaxis": "y"
          },
          {
           "alignmentgroup": "True",
           "hovertemplate": "Persoonskenmerken=%{y}<br>Perioden=2020<br>Verplaatsingen_1=%{x}<extra></extra>",
           "legendgroup": "Gestandaardiseerd inkomen: 1e 20%-groep",
           "marker": {
            "color": "#00cc96",
            "pattern": {
             "shape": ""
            }
           },
           "name": "Gestandaardiseerd inkomen: 1e 20%-groep",
           "offsetgroup": "Gestandaardiseerd inkomen: 1e 20%-groep",
           "orientation": "h",
           "showlegend": true,
           "textposition": "auto",
           "texttemplate": "%{x:.2s}",
           "type": "bar",
           "x": [
            1195.81
           ],
           "xaxis": "x",
           "y": [
            "Gestandaardiseerd inkomen: 1e 20%-groep"
           ],
           "yaxis": "y"
          },
          {
           "alignmentgroup": "True",
           "hovertemplate": "Persoonskenmerken=%{y}<br>Perioden=2020<br>Verplaatsingen_1=%{x}<extra></extra>",
           "legendgroup": "Gestandaardiseerd inkomen: 2e 20%-groep",
           "marker": {
            "color": "#ab63fa",
            "pattern": {
             "shape": ""
            }
           },
           "name": "Gestandaardiseerd inkomen: 2e 20%-groep",
           "offsetgroup": "Gestandaardiseerd inkomen: 2e 20%-groep",
           "orientation": "h",
           "showlegend": true,
           "textposition": "auto",
           "texttemplate": "%{x:.2s}",
           "type": "bar",
           "x": [
            1438.62
           ],
           "xaxis": "x",
           "y": [
            "Gestandaardiseerd inkomen: 2e 20%-groep"
           ],
           "yaxis": "y"
          },
          {
           "alignmentgroup": "True",
           "hovertemplate": "Persoonskenmerken=%{y}<br>Perioden=2020<br>Verplaatsingen_1=%{x}<extra></extra>",
           "legendgroup": "Gestandaardiseerd inkomen: 3e 20%-groep",
           "marker": {
            "color": "#FFA15A",
            "pattern": {
             "shape": ""
            }
           },
           "name": "Gestandaardiseerd inkomen: 3e 20%-groep",
           "offsetgroup": "Gestandaardiseerd inkomen: 3e 20%-groep",
           "orientation": "h",
           "showlegend": true,
           "textposition": "auto",
           "texttemplate": "%{x:.2s}",
           "type": "bar",
           "x": [
            1712.15
           ],
           "xaxis": "x",
           "y": [
            "Gestandaardiseerd inkomen: 3e 20%-groep"
           ],
           "yaxis": "y"
          },
          {
           "alignmentgroup": "True",
           "hovertemplate": "Persoonskenmerken=%{y}<br>Perioden=2020<br>Verplaatsingen_1=%{x}<extra></extra>",
           "legendgroup": "Gestandaardiseerd inkomen: 4e 20%-groep",
           "marker": {
            "color": "#19d3f3",
            "pattern": {
             "shape": ""
            }
           },
           "name": "Gestandaardiseerd inkomen: 4e 20%-groep",
           "offsetgroup": "Gestandaardiseerd inkomen: 4e 20%-groep",
           "orientation": "h",
           "showlegend": true,
           "textposition": "auto",
           "texttemplate": "%{x:.2s}",
           "type": "bar",
           "x": [
            1870.48
           ],
           "xaxis": "x",
           "y": [
            "Gestandaardiseerd inkomen: 4e 20%-groep"
           ],
           "yaxis": "y"
          },
          {
           "alignmentgroup": "True",
           "hovertemplate": "Persoonskenmerken=%{y}<br>Perioden=2020<br>Verplaatsingen_1=%{x}<extra></extra>",
           "legendgroup": "Gestandaardiseerd inkomen: 5e 20%-groep",
           "marker": {
            "color": "#FF6692",
            "pattern": {
             "shape": ""
            }
           },
           "name": "Gestandaardiseerd inkomen: 5e 20%-groep",
           "offsetgroup": "Gestandaardiseerd inkomen: 5e 20%-groep",
           "orientation": "h",
           "showlegend": true,
           "textposition": "auto",
           "texttemplate": "%{x:.2s}",
           "type": "bar",
           "x": [
            1894.53
           ],
           "xaxis": "x",
           "y": [
            "Gestandaardiseerd inkomen: 5e 20%-groep"
           ],
           "yaxis": "y"
          },
          {
           "alignmentgroup": "True",
           "hovertemplate": "Persoonskenmerken=%{y}<br>Perioden=2020<br>Verplaatsingen_1=%{x}<extra></extra>",
           "legendgroup": "Leeftijd: 12 tot 18 jaar",
           "marker": {
            "color": "#B6E880",
            "pattern": {
             "shape": ""
            }
           },
           "name": "Leeftijd: 12 tot 18 jaar",
           "offsetgroup": "Leeftijd: 12 tot 18 jaar",
           "orientation": "h",
           "showlegend": true,
           "textposition": "auto",
           "texttemplate": "%{x:.2s}",
           "type": "bar",
           "x": [
            1203.68
           ],
           "xaxis": "x",
           "y": [
            "Leeftijd: 12 tot 18 jaar"
           ],
           "yaxis": "y"
          },
          {
           "alignmentgroup": "True",
           "hovertemplate": "Persoonskenmerken=%{y}<br>Perioden=2020<br>Verplaatsingen_1=%{x}<extra></extra>",
           "legendgroup": "Leeftijd: 18 tot 25 jaar",
           "marker": {
            "color": "#FF97FF",
            "pattern": {
             "shape": ""
            }
           },
           "name": "Leeftijd: 18 tot 25 jaar",
           "offsetgroup": "Leeftijd: 18 tot 25 jaar",
           "orientation": "h",
           "showlegend": true,
           "textposition": "auto",
           "texttemplate": "%{x:.2s}",
           "type": "bar",
           "x": [
            1350.08
           ],
           "xaxis": "x",
           "y": [
            "Leeftijd: 18 tot 25 jaar"
           ],
           "yaxis": "y"
          },
          {
           "alignmentgroup": "True",
           "hovertemplate": "Persoonskenmerken=%{y}<br>Perioden=2020<br>Verplaatsingen_1=%{x}<extra></extra>",
           "legendgroup": "Leeftijd: 25 tot 35 jaar",
           "marker": {
            "color": "#FECB52",
            "pattern": {
             "shape": ""
            }
           },
           "name": "Leeftijd: 25 tot 35 jaar",
           "offsetgroup": "Leeftijd: 25 tot 35 jaar",
           "orientation": "h",
           "showlegend": true,
           "textposition": "auto",
           "texttemplate": "%{x:.2s}",
           "type": "bar",
           "x": [
            1661.26
           ],
           "xaxis": "x",
           "y": [
            "Leeftijd: 25 tot 35 jaar"
           ],
           "yaxis": "y"
          },
          {
           "alignmentgroup": "True",
           "hovertemplate": "Persoonskenmerken=%{y}<br>Perioden=2020<br>Verplaatsingen_1=%{x}<extra></extra>",
           "legendgroup": "Leeftijd: 35 tot 50 jaar",
           "marker": {
            "color": "#636efa",
            "pattern": {
             "shape": ""
            }
           },
           "name": "Leeftijd: 35 tot 50 jaar",
           "offsetgroup": "Leeftijd: 35 tot 50 jaar",
           "orientation": "h",
           "showlegend": true,
           "textposition": "auto",
           "texttemplate": "%{x:.2s}",
           "type": "bar",
           "x": [
            2019
           ],
           "xaxis": "x",
           "y": [
            "Leeftijd: 35 tot 50 jaar"
           ],
           "yaxis": "y"
          },
          {
           "alignmentgroup": "True",
           "hovertemplate": "Persoonskenmerken=%{y}<br>Perioden=2020<br>Verplaatsingen_1=%{x}<extra></extra>",
           "legendgroup": "Leeftijd: 50 tot 65 jaar",
           "marker": {
            "color": "#EF553B",
            "pattern": {
             "shape": ""
            }
           },
           "name": "Leeftijd: 50 tot 65 jaar",
           "offsetgroup": "Leeftijd: 50 tot 65 jaar",
           "orientation": "h",
           "showlegend": true,
           "textposition": "auto",
           "texttemplate": "%{x:.2s}",
           "type": "bar",
           "x": [
            1846.82
           ],
           "xaxis": "x",
           "y": [
            "Leeftijd: 50 tot 65 jaar"
           ],
           "yaxis": "y"
          },
          {
           "alignmentgroup": "True",
           "hovertemplate": "Persoonskenmerken=%{y}<br>Perioden=2020<br>Verplaatsingen_1=%{x}<extra></extra>",
           "legendgroup": "Leeftijd: 65 tot 75 jaar",
           "marker": {
            "color": "#00cc96",
            "pattern": {
             "shape": ""
            }
           },
           "name": "Leeftijd: 65 tot 75 jaar",
           "offsetgroup": "Leeftijd: 65 tot 75 jaar",
           "orientation": "h",
           "showlegend": true,
           "textposition": "auto",
           "texttemplate": "%{x:.2s}",
           "type": "bar",
           "x": [
            1409.12
           ],
           "xaxis": "x",
           "y": [
            "Leeftijd: 65 tot 75 jaar"
           ],
           "yaxis": "y"
          },
          {
           "alignmentgroup": "True",
           "hovertemplate": "Persoonskenmerken=%{y}<br>Perioden=2020<br>Verplaatsingen_1=%{x}<extra></extra>",
           "legendgroup": "Leeftijd: 75 jaar of ouder",
           "marker": {
            "color": "#ab63fa",
            "pattern": {
             "shape": ""
            }
           },
           "name": "Leeftijd: 75 jaar of ouder",
           "offsetgroup": "Leeftijd: 75 jaar of ouder",
           "orientation": "h",
           "showlegend": true,
           "textposition": "auto",
           "texttemplate": "%{x:.2s}",
           "type": "bar",
           "x": [
            836.3
           ],
           "xaxis": "x",
           "y": [
            "Leeftijd: 75 jaar of ouder"
           ],
           "yaxis": "y"
          },
          {
           "alignmentgroup": "True",
           "hovertemplate": "Persoonskenmerken=%{y}<br>Perioden=2020<br>Verplaatsingen_1=%{x}<extra></extra>",
           "legendgroup": "Leeftijd:6 tot 12 jaar",
           "marker": {
            "color": "#FFA15A",
            "pattern": {
             "shape": ""
            }
           },
           "name": "Leeftijd:6 tot 12 jaar",
           "offsetgroup": "Leeftijd:6 tot 12 jaar",
           "orientation": "h",
           "showlegend": true,
           "textposition": "auto",
           "texttemplate": "%{x:.2s}",
           "type": "bar",
           "x": [
            737.49
           ],
           "xaxis": "x",
           "y": [
            "Leeftijd:6 tot 12 jaar"
           ],
           "yaxis": "y"
          },
          {
           "alignmentgroup": "True",
           "hovertemplate": "Persoonskenmerken=%{y}<br>Perioden=2020<br>Verplaatsingen_1=%{x}<extra></extra>",
           "legendgroup": "Migratieachtergrond: Nederland",
           "marker": {
            "color": "#19d3f3",
            "pattern": {
             "shape": ""
            }
           },
           "name": "Migratieachtergrond: Nederland",
           "offsetgroup": "Migratieachtergrond: Nederland",
           "orientation": "h",
           "showlegend": true,
           "textposition": "auto",
           "texttemplate": "%{x:.2s}",
           "type": "bar",
           "x": [
            1964.28
           ],
           "xaxis": "x",
           "y": [
            "Migratieachtergrond: Nederland"
           ],
           "yaxis": "y"
          },
          {
           "alignmentgroup": "True",
           "hovertemplate": "Persoonskenmerken=%{y}<br>Perioden=2020<br>Verplaatsingen_1=%{x}<extra></extra>",
           "legendgroup": "Migratieachtergrond: niet-westers",
           "marker": {
            "color": "#FF6692",
            "pattern": {
             "shape": ""
            }
           },
           "name": "Migratieachtergrond: niet-westers",
           "offsetgroup": "Migratieachtergrond: niet-westers",
           "orientation": "h",
           "showlegend": true,
           "textposition": "auto",
           "texttemplate": "%{x:.2s}",
           "type": "bar",
           "x": [
            854.06
           ],
           "xaxis": "x",
           "y": [
            "Migratieachtergrond: niet-westers"
           ],
           "yaxis": "y"
          },
          {
           "alignmentgroup": "True",
           "hovertemplate": "Persoonskenmerken=%{y}<br>Perioden=2020<br>Verplaatsingen_1=%{x}<extra></extra>",
           "legendgroup": "Migratieachtergrond: westers",
           "marker": {
            "color": "#B6E880",
            "pattern": {
             "shape": ""
            }
           },
           "name": "Migratieachtergrond: westers",
           "offsetgroup": "Migratieachtergrond: westers",
           "orientation": "h",
           "showlegend": true,
           "textposition": "auto",
           "texttemplate": "%{x:.2s}",
           "type": "bar",
           "x": [
            1166.41
           ],
           "xaxis": "x",
           "y": [
            "Migratieachtergrond: westers"
           ],
           "yaxis": "y"
          },
          {
           "alignmentgroup": "True",
           "hovertemplate": "Persoonskenmerken=%{y}<br>Perioden=2020<br>Verplaatsingen_1=%{x}<extra></extra>",
           "legendgroup": "OV-Studentenkaart: geen",
           "marker": {
            "color": "#FF97FF",
            "pattern": {
             "shape": ""
            }
           },
           "name": "OV-Studentenkaart: geen",
           "offsetgroup": "OV-Studentenkaart: geen",
           "orientation": "h",
           "showlegend": true,
           "textposition": "auto",
           "texttemplate": "%{x:.2s}",
           "type": "bar",
           "x": [
            1859.26
           ],
           "xaxis": "x",
           "y": [
            "OV-Studentenkaart: geen"
           ],
           "yaxis": "y"
          },
          {
           "alignmentgroup": "True",
           "hovertemplate": "Persoonskenmerken=%{y}<br>Perioden=2020<br>Verplaatsingen_1=%{x}<extra></extra>",
           "legendgroup": "OV-Studentenkaart: weekabonnement",
           "marker": {
            "color": "#FECB52",
            "pattern": {
             "shape": ""
            }
           },
           "name": "OV-Studentenkaart: weekabonnement",
           "offsetgroup": "OV-Studentenkaart: weekabonnement",
           "orientation": "h",
           "showlegend": true,
           "textposition": "auto",
           "texttemplate": "%{x:.2s}",
           "type": "bar",
           "x": [
            1049.02
           ],
           "xaxis": "x",
           "y": [
            "OV-Studentenkaart: weekabonnement"
           ],
           "yaxis": "y"
          },
          {
           "alignmentgroup": "True",
           "hovertemplate": "Persoonskenmerken=%{y}<br>Perioden=2020<br>Verplaatsingen_1=%{x}<extra></extra>",
           "legendgroup": "OV-Studentenkaart: weekendabonnement",
           "marker": {
            "color": "#636efa",
            "pattern": {
             "shape": ""
            }
           },
           "name": "OV-Studentenkaart: weekendabonnement",
           "offsetgroup": "OV-Studentenkaart: weekendabonnement",
           "orientation": "h",
           "showlegend": true,
           "textposition": "auto",
           "texttemplate": "%{x:.2s}",
           "type": "bar",
           "x": [
            238.9
           ],
           "xaxis": "x",
           "y": [
            "OV-Studentenkaart: weekendabonnement"
           ],
           "yaxis": "y"
          },
          {
           "alignmentgroup": "True",
           "hovertemplate": "Persoonskenmerken=%{y}<br>Perioden=2020<br>Verplaatsingen_1=%{x}<extra></extra>",
           "legendgroup": "Onderwijsniveau: 1 Laag",
           "marker": {
            "color": "#EF553B",
            "pattern": {
             "shape": ""
            }
           },
           "name": "Onderwijsniveau: 1 Laag",
           "offsetgroup": "Onderwijsniveau: 1 Laag",
           "orientation": "h",
           "showlegend": true,
           "textposition": "auto",
           "texttemplate": "%{x:.2s}",
           "type": "bar",
           "x": [
            1303.32
           ],
           "xaxis": "x",
           "y": [
            "Onderwijsniveau: 1 Laag"
           ],
           "yaxis": "y"
          },
          {
           "alignmentgroup": "True",
           "hovertemplate": "Persoonskenmerken=%{y}<br>Perioden=2020<br>Verplaatsingen_1=%{x}<extra></extra>",
           "legendgroup": "Onderwijsniveau: 2 Middelbaar",
           "marker": {
            "color": "#00cc96",
            "pattern": {
             "shape": ""
            }
           },
           "name": "Onderwijsniveau: 2 Middelbaar",
           "offsetgroup": "Onderwijsniveau: 2 Middelbaar",
           "orientation": "h",
           "showlegend": true,
           "textposition": "auto",
           "texttemplate": "%{x:.2s}",
           "type": "bar",
           "x": [
            1890.04
           ],
           "xaxis": "x",
           "y": [
            "Onderwijsniveau: 2 Middelbaar"
           ],
           "yaxis": "y"
          },
          {
           "alignmentgroup": "True",
           "hovertemplate": "Persoonskenmerken=%{y}<br>Perioden=2020<br>Verplaatsingen_1=%{x}<extra></extra>",
           "legendgroup": "Onderwijsniveau: 3 Hoog",
           "marker": {
            "color": "#ab63fa",
            "pattern": {
             "shape": ""
            }
           },
           "name": "Onderwijsniveau: 3 Hoog",
           "offsetgroup": "Onderwijsniveau: 3 Hoog",
           "orientation": "h",
           "showlegend": true,
           "textposition": "auto",
           "texttemplate": "%{x:.2s}",
           "type": "bar",
           "x": [
            2012.44
           ],
           "xaxis": "x",
           "y": [
            "Onderwijsniveau: 3 Hoog"
           ],
           "yaxis": "y"
          },
          {
           "alignmentgroup": "True",
           "hovertemplate": "Persoonskenmerken=%{y}<br>Perioden=2020<br>Verplaatsingen_1=%{x}<extra></extra>",
           "legendgroup": "Participatie:  arbeidsongeschikt",
           "marker": {
            "color": "#FFA15A",
            "pattern": {
             "shape": ""
            }
           },
           "name": "Participatie:  arbeidsongeschikt",
           "offsetgroup": "Participatie:  arbeidsongeschikt",
           "orientation": "h",
           "showlegend": true,
           "textposition": "auto",
           "texttemplate": "%{x:.2s}",
           "type": "bar",
           "x": [
            635.18
           ],
           "xaxis": "x",
           "y": [
            "Participatie:  arbeidsongeschikt"
           ],
           "yaxis": "y"
          },
          {
           "alignmentgroup": "True",
           "hovertemplate": "Persoonskenmerken=%{y}<br>Perioden=2020<br>Verplaatsingen_1=%{x}<extra></extra>",
           "legendgroup": "Participatie: anders/overig",
           "marker": {
            "color": "#19d3f3",
            "pattern": {
             "shape": ""
            }
           },
           "name": "Participatie: anders/overig",
           "offsetgroup": "Participatie: anders/overig",
           "orientation": "h",
           "showlegend": true,
           "textposition": "auto",
           "texttemplate": "%{x:.2s}",
           "type": "bar",
           "x": [
            1078.06
           ],
           "xaxis": "x",
           "y": [
            "Participatie: anders/overig"
           ],
           "yaxis": "y"
          },
          {
           "alignmentgroup": "True",
           "hovertemplate": "Persoonskenmerken=%{y}<br>Perioden=2020<br>Verplaatsingen_1=%{x}<extra></extra>",
           "legendgroup": "Participatie: gepensioneerd/VUT",
           "marker": {
            "color": "#FF6692",
            "pattern": {
             "shape": ""
            }
           },
           "name": "Participatie: gepensioneerd/VUT",
           "offsetgroup": "Participatie: gepensioneerd/VUT",
           "orientation": "h",
           "showlegend": true,
           "textposition": "auto",
           "texttemplate": "%{x:.2s}",
           "type": "bar",
           "x": [
            1321.02
           ],
           "xaxis": "x",
           "y": [
            "Participatie: gepensioneerd/VUT"
           ],
           "yaxis": "y"
          },
          {
           "alignmentgroup": "True",
           "hovertemplate": "Persoonskenmerken=%{y}<br>Perioden=2020<br>Verplaatsingen_1=%{x}<extra></extra>",
           "legendgroup": "Participatie: werkloos",
           "marker": {
            "color": "#B6E880",
            "pattern": {
             "shape": ""
            }
           },
           "name": "Participatie: werkloos",
           "offsetgroup": "Participatie: werkloos",
           "orientation": "h",
           "showlegend": true,
           "textposition": "auto",
           "texttemplate": "%{x:.2s}",
           "type": "bar",
           "x": [
            630.54
           ],
           "xaxis": "x",
           "y": [
            "Participatie: werkloos"
           ],
           "yaxis": "y"
          },
          {
           "alignmentgroup": "True",
           "hovertemplate": "Persoonskenmerken=%{y}<br>Perioden=2020<br>Verplaatsingen_1=%{x}<extra></extra>",
           "legendgroup": "Participatie: werkzaam 30 uur pw of meer",
           "marker": {
            "color": "#FF97FF",
            "pattern": {
             "shape": ""
            }
           },
           "name": "Participatie: werkzaam 30 uur pw of meer",
           "offsetgroup": "Participatie: werkzaam 30 uur pw of meer",
           "orientation": "h",
           "showlegend": true,
           "textposition": "auto",
           "texttemplate": "%{x:.2s}",
           "type": "bar",
           "x": [
            2001.08
           ],
           "xaxis": "x",
           "y": [
            "Participatie: werkzaam 30 uur pw of meer"
           ],
           "yaxis": "y"
          },
          {
           "alignmentgroup": "True",
           "hovertemplate": "Persoonskenmerken=%{y}<br>Perioden=2020<br>Verplaatsingen_1=%{x}<extra></extra>",
           "legendgroup": "Participatie: werkzaam: 12 tot 30 uur pw",
           "marker": {
            "color": "#FECB52",
            "pattern": {
             "shape": ""
            }
           },
           "name": "Participatie: werkzaam: 12 tot 30 uur pw",
           "offsetgroup": "Participatie: werkzaam: 12 tot 30 uur pw",
           "orientation": "h",
           "showlegend": true,
           "textposition": "auto",
           "texttemplate": "%{x:.2s}",
           "type": "bar",
           "x": [
            1808.02
           ],
           "xaxis": "x",
           "y": [
            "Participatie: werkzaam: 12 tot 30 uur pw"
           ],
           "yaxis": "y"
          },
          {
           "alignmentgroup": "True",
           "hovertemplate": "Persoonskenmerken=%{y}<br>Perioden=2020<br>Verplaatsingen_1=%{x}<extra></extra>",
           "legendgroup": "Participatie:student/scholier",
           "marker": {
            "color": "#636efa",
            "pattern": {
             "shape": ""
            }
           },
           "name": "Participatie:student/scholier",
           "offsetgroup": "Participatie:student/scholier",
           "orientation": "h",
           "showlegend": true,
           "textposition": "auto",
           "texttemplate": "%{x:.2s}",
           "type": "bar",
           "x": [
            1513.04
           ],
           "xaxis": "x",
           "y": [
            "Participatie:student/scholier"
           ],
           "yaxis": "y"
          },
          {
           "alignmentgroup": "True",
           "hovertemplate": "Persoonskenmerken=%{y}<br>Perioden=2020<br>Verplaatsingen_1=%{x}<extra></extra>",
           "legendgroup": "Rijbewijs, geen personenauto in hh",
           "marker": {
            "color": "#EF553B",
            "pattern": {
             "shape": ""
            }
           },
           "name": "Rijbewijs, geen personenauto in hh",
           "offsetgroup": "Rijbewijs, geen personenauto in hh",
           "orientation": "h",
           "showlegend": true,
           "textposition": "auto",
           "texttemplate": "%{x:.2s}",
           "type": "bar",
           "x": [
            1131.98
           ],
           "xaxis": "x",
           "y": [
            "Rijbewijs, geen personenauto in hh"
           ],
           "yaxis": "y"
          },
          {
           "alignmentgroup": "True",
           "hovertemplate": "Persoonskenmerken=%{y}<br>Perioden=2020<br>Verplaatsingen_1=%{x}<extra></extra>",
           "legendgroup": "Rijbewijs, personenauto in hh",
           "marker": {
            "color": "#00cc96",
            "pattern": {
             "shape": ""
            }
           },
           "name": "Rijbewijs, personenauto in hh",
           "offsetgroup": "Rijbewijs, personenauto in hh",
           "orientation": "h",
           "showlegend": true,
           "textposition": "auto",
           "texttemplate": "%{x:.2s}",
           "type": "bar",
           "x": [
            1839.3
           ],
           "xaxis": "x",
           "y": [
            "Rijbewijs, personenauto in hh"
           ],
           "yaxis": "y"
          },
          {
           "alignmentgroup": "True",
           "hovertemplate": "Persoonskenmerken=%{y}<br>Perioden=2020<br>Verplaatsingen_1=%{x}<extra></extra>",
           "legendgroup": "Rijbewijs, personenauto op eigen naam",
           "marker": {
            "color": "#ab63fa",
            "pattern": {
             "shape": ""
            }
           },
           "name": "Rijbewijs, personenauto op eigen naam",
           "offsetgroup": "Rijbewijs, personenauto op eigen naam",
           "orientation": "h",
           "showlegend": true,
           "textposition": "auto",
           "texttemplate": "%{x:.2s}",
           "type": "bar",
           "x": [
            2021.26
           ],
           "xaxis": "x",
           "y": [
            "Rijbewijs, personenauto op eigen naam"
           ],
           "yaxis": "y"
          }
         ],
         "name": "2020"
        },
        {
         "data": [
          {
           "alignmentgroup": "True",
           "hovertemplate": "Persoonskenmerken=%{y}<br>Perioden=2021<br>Verplaatsingen_1=%{x}<extra></extra>",
           "legendgroup": "Geen rijbewijs; jonger dan 17 jaar",
           "marker": {
            "color": "#636efa",
            "pattern": {
             "shape": ""
            }
           },
           "name": "Geen rijbewijs; jonger dan 17 jaar",
           "offsetgroup": "Geen rijbewijs; jonger dan 17 jaar",
           "orientation": "h",
           "showlegend": true,
           "textposition": "auto",
           "texttemplate": "%{x:.2s}",
           "type": "bar",
           "x": [
            1544.05
           ],
           "xaxis": "x",
           "y": [
            "Geen rijbewijs; jonger dan 17 jaar"
           ],
           "yaxis": "y"
          },
          {
           "alignmentgroup": "True",
           "hovertemplate": "Persoonskenmerken=%{y}<br>Perioden=2021<br>Verplaatsingen_1=%{x}<extra></extra>",
           "legendgroup": "Geen rijbewijs; wel 17 jaar of ouder",
           "marker": {
            "color": "#EF553B",
            "pattern": {
             "shape": ""
            }
           },
           "name": "Geen rijbewijs; wel 17 jaar of ouder",
           "offsetgroup": "Geen rijbewijs; wel 17 jaar of ouder",
           "orientation": "h",
           "showlegend": true,
           "textposition": "auto",
           "texttemplate": "%{x:.2s}",
           "type": "bar",
           "x": [
            1138.52
           ],
           "xaxis": "x",
           "y": [
            "Geen rijbewijs; wel 17 jaar of ouder"
           ],
           "yaxis": "y"
          },
          {
           "alignmentgroup": "True",
           "hovertemplate": "Persoonskenmerken=%{y}<br>Perioden=2021<br>Verplaatsingen_1=%{x}<extra></extra>",
           "legendgroup": "Gestandaardiseerd inkomen: 1e 20%-groep",
           "marker": {
            "color": "#00cc96",
            "pattern": {
             "shape": ""
            }
           },
           "name": "Gestandaardiseerd inkomen: 1e 20%-groep",
           "offsetgroup": "Gestandaardiseerd inkomen: 1e 20%-groep",
           "orientation": "h",
           "showlegend": true,
           "textposition": "auto",
           "texttemplate": "%{x:.2s}",
           "type": "bar",
           "x": [
            1363.28
           ],
           "xaxis": "x",
           "y": [
            "Gestandaardiseerd inkomen: 1e 20%-groep"
           ],
           "yaxis": "y"
          },
          {
           "alignmentgroup": "True",
           "hovertemplate": "Persoonskenmerken=%{y}<br>Perioden=2021<br>Verplaatsingen_1=%{x}<extra></extra>",
           "legendgroup": "Gestandaardiseerd inkomen: 2e 20%-groep",
           "marker": {
            "color": "#ab63fa",
            "pattern": {
             "shape": ""
            }
           },
           "name": "Gestandaardiseerd inkomen: 2e 20%-groep",
           "offsetgroup": "Gestandaardiseerd inkomen: 2e 20%-groep",
           "orientation": "h",
           "showlegend": true,
           "textposition": "auto",
           "texttemplate": "%{x:.2s}",
           "type": "bar",
           "x": [
            1591.69
           ],
           "xaxis": "x",
           "y": [
            "Gestandaardiseerd inkomen: 2e 20%-groep"
           ],
           "yaxis": "y"
          },
          {
           "alignmentgroup": "True",
           "hovertemplate": "Persoonskenmerken=%{y}<br>Perioden=2021<br>Verplaatsingen_1=%{x}<extra></extra>",
           "legendgroup": "Gestandaardiseerd inkomen: 3e 20%-groep",
           "marker": {
            "color": "#FFA15A",
            "pattern": {
             "shape": ""
            }
           },
           "name": "Gestandaardiseerd inkomen: 3e 20%-groep",
           "offsetgroup": "Gestandaardiseerd inkomen: 3e 20%-groep",
           "orientation": "h",
           "showlegend": true,
           "textposition": "auto",
           "texttemplate": "%{x:.2s}",
           "type": "bar",
           "x": [
            1868.51
           ],
           "xaxis": "x",
           "y": [
            "Gestandaardiseerd inkomen: 3e 20%-groep"
           ],
           "yaxis": "y"
          },
          {
           "alignmentgroup": "True",
           "hovertemplate": "Persoonskenmerken=%{y}<br>Perioden=2021<br>Verplaatsingen_1=%{x}<extra></extra>",
           "legendgroup": "Gestandaardiseerd inkomen: 4e 20%-groep",
           "marker": {
            "color": "#19d3f3",
            "pattern": {
             "shape": ""
            }
           },
           "name": "Gestandaardiseerd inkomen: 4e 20%-groep",
           "offsetgroup": "Gestandaardiseerd inkomen: 4e 20%-groep",
           "orientation": "h",
           "showlegend": true,
           "textposition": "auto",
           "texttemplate": "%{x:.2s}",
           "type": "bar",
           "x": [
            1987.45
           ],
           "xaxis": "x",
           "y": [
            "Gestandaardiseerd inkomen: 4e 20%-groep"
           ],
           "yaxis": "y"
          },
          {
           "alignmentgroup": "True",
           "hovertemplate": "Persoonskenmerken=%{y}<br>Perioden=2021<br>Verplaatsingen_1=%{x}<extra></extra>",
           "legendgroup": "Gestandaardiseerd inkomen: 5e 20%-groep",
           "marker": {
            "color": "#FF6692",
            "pattern": {
             "shape": ""
            }
           },
           "name": "Gestandaardiseerd inkomen: 5e 20%-groep",
           "offsetgroup": "Gestandaardiseerd inkomen: 5e 20%-groep",
           "orientation": "h",
           "showlegend": true,
           "textposition": "auto",
           "texttemplate": "%{x:.2s}",
           "type": "bar",
           "x": [
            1939.52
           ],
           "xaxis": "x",
           "y": [
            "Gestandaardiseerd inkomen: 5e 20%-groep"
           ],
           "yaxis": "y"
          },
          {
           "alignmentgroup": "True",
           "hovertemplate": "Persoonskenmerken=%{y}<br>Perioden=2021<br>Verplaatsingen_1=%{x}<extra></extra>",
           "legendgroup": "Leeftijd: 12 tot 18 jaar",
           "marker": {
            "color": "#B6E880",
            "pattern": {
             "shape": ""
            }
           },
           "name": "Leeftijd: 12 tot 18 jaar",
           "offsetgroup": "Leeftijd: 12 tot 18 jaar",
           "orientation": "h",
           "showlegend": true,
           "textposition": "auto",
           "texttemplate": "%{x:.2s}",
           "type": "bar",
           "x": [
            1358.92
           ],
           "xaxis": "x",
           "y": [
            "Leeftijd: 12 tot 18 jaar"
           ],
           "yaxis": "y"
          },
          {
           "alignmentgroup": "True",
           "hovertemplate": "Persoonskenmerken=%{y}<br>Perioden=2021<br>Verplaatsingen_1=%{x}<extra></extra>",
           "legendgroup": "Leeftijd: 18 tot 25 jaar",
           "marker": {
            "color": "#FF97FF",
            "pattern": {
             "shape": ""
            }
           },
           "name": "Leeftijd: 18 tot 25 jaar",
           "offsetgroup": "Leeftijd: 18 tot 25 jaar",
           "orientation": "h",
           "showlegend": true,
           "textposition": "auto",
           "texttemplate": "%{x:.2s}",
           "type": "bar",
           "x": [
            1483.06
           ],
           "xaxis": "x",
           "y": [
            "Leeftijd: 18 tot 25 jaar"
           ],
           "yaxis": "y"
          },
          {
           "alignmentgroup": "True",
           "hovertemplate": "Persoonskenmerken=%{y}<br>Perioden=2021<br>Verplaatsingen_1=%{x}<extra></extra>",
           "legendgroup": "Leeftijd: 25 tot 35 jaar",
           "marker": {
            "color": "#FECB52",
            "pattern": {
             "shape": ""
            }
           },
           "name": "Leeftijd: 25 tot 35 jaar",
           "offsetgroup": "Leeftijd: 25 tot 35 jaar",
           "orientation": "h",
           "showlegend": true,
           "textposition": "auto",
           "texttemplate": "%{x:.2s}",
           "type": "bar",
           "x": [
            1784.34
           ],
           "xaxis": "x",
           "y": [
            "Leeftijd: 25 tot 35 jaar"
           ],
           "yaxis": "y"
          },
          {
           "alignmentgroup": "True",
           "hovertemplate": "Persoonskenmerken=%{y}<br>Perioden=2021<br>Verplaatsingen_1=%{x}<extra></extra>",
           "legendgroup": "Leeftijd: 35 tot 50 jaar",
           "marker": {
            "color": "#636efa",
            "pattern": {
             "shape": ""
            }
           },
           "name": "Leeftijd: 35 tot 50 jaar",
           "offsetgroup": "Leeftijd: 35 tot 50 jaar",
           "orientation": "h",
           "showlegend": true,
           "textposition": "auto",
           "texttemplate": "%{x:.2s}",
           "type": "bar",
           "x": [
            2077.14
           ],
           "xaxis": "x",
           "y": [
            "Leeftijd: 35 tot 50 jaar"
           ],
           "yaxis": "y"
          },
          {
           "alignmentgroup": "True",
           "hovertemplate": "Persoonskenmerken=%{y}<br>Perioden=2021<br>Verplaatsingen_1=%{x}<extra></extra>",
           "legendgroup": "Leeftijd: 50 tot 65 jaar",
           "marker": {
            "color": "#EF553B",
            "pattern": {
             "shape": ""
            }
           },
           "name": "Leeftijd: 50 tot 65 jaar",
           "offsetgroup": "Leeftijd: 50 tot 65 jaar",
           "orientation": "h",
           "showlegend": true,
           "textposition": "auto",
           "texttemplate": "%{x:.2s}",
           "type": "bar",
           "x": [
            1932.54
           ],
           "xaxis": "x",
           "y": [
            "Leeftijd: 50 tot 65 jaar"
           ],
           "yaxis": "y"
          },
          {
           "alignmentgroup": "True",
           "hovertemplate": "Persoonskenmerken=%{y}<br>Perioden=2021<br>Verplaatsingen_1=%{x}<extra></extra>",
           "legendgroup": "Leeftijd: 65 tot 75 jaar",
           "marker": {
            "color": "#00cc96",
            "pattern": {
             "shape": ""
            }
           },
           "name": "Leeftijd: 65 tot 75 jaar",
           "offsetgroup": "Leeftijd: 65 tot 75 jaar",
           "orientation": "h",
           "showlegend": true,
           "textposition": "auto",
           "texttemplate": "%{x:.2s}",
           "type": "bar",
           "x": [
            1566.84
           ],
           "xaxis": "x",
           "y": [
            "Leeftijd: 65 tot 75 jaar"
           ],
           "yaxis": "y"
          },
          {
           "alignmentgroup": "True",
           "hovertemplate": "Persoonskenmerken=%{y}<br>Perioden=2021<br>Verplaatsingen_1=%{x}<extra></extra>",
           "legendgroup": "Leeftijd: 75 jaar of ouder",
           "marker": {
            "color": "#ab63fa",
            "pattern": {
             "shape": ""
            }
           },
           "name": "Leeftijd: 75 jaar of ouder",
           "offsetgroup": "Leeftijd: 75 jaar of ouder",
           "orientation": "h",
           "showlegend": true,
           "textposition": "auto",
           "texttemplate": "%{x:.2s}",
           "type": "bar",
           "x": [
            1034.16
           ],
           "xaxis": "x",
           "y": [
            "Leeftijd: 75 jaar of ouder"
           ],
           "yaxis": "y"
          },
          {
           "alignmentgroup": "True",
           "hovertemplate": "Persoonskenmerken=%{y}<br>Perioden=2021<br>Verplaatsingen_1=%{x}<extra></extra>",
           "legendgroup": "Leeftijd:6 tot 12 jaar",
           "marker": {
            "color": "#FFA15A",
            "pattern": {
             "shape": ""
            }
           },
           "name": "Leeftijd:6 tot 12 jaar",
           "offsetgroup": "Leeftijd:6 tot 12 jaar",
           "orientation": "h",
           "showlegend": true,
           "textposition": "auto",
           "texttemplate": "%{x:.2s}",
           "type": "bar",
           "x": [
            850.5600000000001
           ],
           "xaxis": "x",
           "y": [
            "Leeftijd:6 tot 12 jaar"
           ],
           "yaxis": "y"
          },
          {
           "alignmentgroup": "True",
           "hovertemplate": "Persoonskenmerken=%{y}<br>Perioden=2021<br>Verplaatsingen_1=%{x}<extra></extra>",
           "legendgroup": "Migratieachtergrond: Nederland",
           "marker": {
            "color": "#19d3f3",
            "pattern": {
             "shape": ""
            }
           },
           "name": "Migratieachtergrond: Nederland",
           "offsetgroup": "Migratieachtergrond: Nederland",
           "orientation": "h",
           "showlegend": true,
           "textposition": "auto",
           "texttemplate": "%{x:.2s}",
           "type": "bar",
           "x": [
            2063.24
           ],
           "xaxis": "x",
           "y": [
            "Migratieachtergrond: Nederland"
           ],
           "yaxis": "y"
          },
          {
           "alignmentgroup": "True",
           "hovertemplate": "Persoonskenmerken=%{y}<br>Perioden=2021<br>Verplaatsingen_1=%{x}<extra></extra>",
           "legendgroup": "Migratieachtergrond: niet-westers",
           "marker": {
            "color": "#FF6692",
            "pattern": {
             "shape": ""
            }
           },
           "name": "Migratieachtergrond: niet-westers",
           "offsetgroup": "Migratieachtergrond: niet-westers",
           "orientation": "h",
           "showlegend": true,
           "textposition": "auto",
           "texttemplate": "%{x:.2s}",
           "type": "bar",
           "x": [
            1017.21
           ],
           "xaxis": "x",
           "y": [
            "Migratieachtergrond: niet-westers"
           ],
           "yaxis": "y"
          },
          {
           "alignmentgroup": "True",
           "hovertemplate": "Persoonskenmerken=%{y}<br>Perioden=2021<br>Verplaatsingen_1=%{x}<extra></extra>",
           "legendgroup": "Migratieachtergrond: westers",
           "marker": {
            "color": "#B6E880",
            "pattern": {
             "shape": ""
            }
           },
           "name": "Migratieachtergrond: westers",
           "offsetgroup": "Migratieachtergrond: westers",
           "orientation": "h",
           "showlegend": true,
           "textposition": "auto",
           "texttemplate": "%{x:.2s}",
           "type": "bar",
           "x": [
            1361.52
           ],
           "xaxis": "x",
           "y": [
            "Migratieachtergrond: westers"
           ],
           "yaxis": "y"
          },
          {
           "alignmentgroup": "True",
           "hovertemplate": "Persoonskenmerken=%{y}<br>Perioden=2021<br>Verplaatsingen_1=%{x}<extra></extra>",
           "legendgroup": "OV-Studentenkaart: geen",
           "marker": {
            "color": "#FF97FF",
            "pattern": {
             "shape": ""
            }
           },
           "name": "OV-Studentenkaart: geen",
           "offsetgroup": "OV-Studentenkaart: geen",
           "orientation": "h",
           "showlegend": true,
           "textposition": "auto",
           "texttemplate": "%{x:.2s}",
           "type": "bar",
           "x": [
            1974.11
           ],
           "xaxis": "x",
           "y": [
            "OV-Studentenkaart: geen"
           ],
           "yaxis": "y"
          },
          {
           "alignmentgroup": "True",
           "hovertemplate": "Persoonskenmerken=%{y}<br>Perioden=2021<br>Verplaatsingen_1=%{x}<extra></extra>",
           "legendgroup": "OV-Studentenkaart: weekabonnement",
           "marker": {
            "color": "#FECB52",
            "pattern": {
             "shape": ""
            }
           },
           "name": "OV-Studentenkaart: weekabonnement",
           "offsetgroup": "OV-Studentenkaart: weekabonnement",
           "orientation": "h",
           "showlegend": true,
           "textposition": "auto",
           "texttemplate": "%{x:.2s}",
           "type": "bar",
           "x": [
            1254.24
           ],
           "xaxis": "x",
           "y": [
            "OV-Studentenkaart: weekabonnement"
           ],
           "yaxis": "y"
          },
          {
           "alignmentgroup": "True",
           "hovertemplate": "Persoonskenmerken=%{y}<br>Perioden=2021<br>Verplaatsingen_1=%{x}<extra></extra>",
           "legendgroup": "OV-Studentenkaart: weekendabonnement",
           "marker": {
            "color": "#636efa",
            "pattern": {
             "shape": ""
            }
           },
           "name": "OV-Studentenkaart: weekendabonnement",
           "offsetgroup": "OV-Studentenkaart: weekendabonnement",
           "orientation": "h",
           "showlegend": true,
           "textposition": "auto",
           "texttemplate": "%{x:.2s}",
           "type": "bar",
           "x": [
            260.66
           ],
           "xaxis": "x",
           "y": [
            "OV-Studentenkaart: weekendabonnement"
           ],
           "yaxis": "y"
          },
          {
           "alignmentgroup": "True",
           "hovertemplate": "Persoonskenmerken=%{y}<br>Perioden=2021<br>Verplaatsingen_1=%{x}<extra></extra>",
           "legendgroup": "Onderwijsniveau: 1 Laag",
           "marker": {
            "color": "#EF553B",
            "pattern": {
             "shape": ""
            }
           },
           "name": "Onderwijsniveau: 1 Laag",
           "offsetgroup": "Onderwijsniveau: 1 Laag",
           "orientation": "h",
           "showlegend": true,
           "textposition": "auto",
           "texttemplate": "%{x:.2s}",
           "type": "bar",
           "x": [
            1500.56
           ],
           "xaxis": "x",
           "y": [
            "Onderwijsniveau: 1 Laag"
           ],
           "yaxis": "y"
          },
          {
           "alignmentgroup": "True",
           "hovertemplate": "Persoonskenmerken=%{y}<br>Perioden=2021<br>Verplaatsingen_1=%{x}<extra></extra>",
           "legendgroup": "Onderwijsniveau: 2 Middelbaar",
           "marker": {
            "color": "#00cc96",
            "pattern": {
             "shape": ""
            }
           },
           "name": "Onderwijsniveau: 2 Middelbaar",
           "offsetgroup": "Onderwijsniveau: 2 Middelbaar",
           "orientation": "h",
           "showlegend": true,
           "textposition": "auto",
           "texttemplate": "%{x:.2s}",
           "type": "bar",
           "x": [
            2001.5
           ],
           "xaxis": "x",
           "y": [
            "Onderwijsniveau: 2 Middelbaar"
           ],
           "yaxis": "y"
          },
          {
           "alignmentgroup": "True",
           "hovertemplate": "Persoonskenmerken=%{y}<br>Perioden=2021<br>Verplaatsingen_1=%{x}<extra></extra>",
           "legendgroup": "Onderwijsniveau: 3 Hoog",
           "marker": {
            "color": "#ab63fa",
            "pattern": {
             "shape": ""
            }
           },
           "name": "Onderwijsniveau: 3 Hoog",
           "offsetgroup": "Onderwijsniveau: 3 Hoog",
           "orientation": "h",
           "showlegend": true,
           "textposition": "auto",
           "texttemplate": "%{x:.2s}",
           "type": "bar",
           "x": [
            2062.9
           ],
           "xaxis": "x",
           "y": [
            "Onderwijsniveau: 3 Hoog"
           ],
           "yaxis": "y"
          },
          {
           "alignmentgroup": "True",
           "hovertemplate": "Persoonskenmerken=%{y}<br>Perioden=2021<br>Verplaatsingen_1=%{x}<extra></extra>",
           "legendgroup": "Participatie:  arbeidsongeschikt",
           "marker": {
            "color": "#FFA15A",
            "pattern": {
             "shape": ""
            }
           },
           "name": "Participatie:  arbeidsongeschikt",
           "offsetgroup": "Participatie:  arbeidsongeschikt",
           "orientation": "h",
           "showlegend": true,
           "textposition": "auto",
           "texttemplate": "%{x:.2s}",
           "type": "bar",
           "x": [
            801.04
           ],
           "xaxis": "x",
           "y": [
            "Participatie:  arbeidsongeschikt"
           ],
           "yaxis": "y"
          },
          {
           "alignmentgroup": "True",
           "hovertemplate": "Persoonskenmerken=%{y}<br>Perioden=2021<br>Verplaatsingen_1=%{x}<extra></extra>",
           "legendgroup": "Participatie: anders/overig",
           "marker": {
            "color": "#19d3f3",
            "pattern": {
             "shape": ""
            }
           },
           "name": "Participatie: anders/overig",
           "offsetgroup": "Participatie: anders/overig",
           "orientation": "h",
           "showlegend": true,
           "textposition": "auto",
           "texttemplate": "%{x:.2s}",
           "type": "bar",
           "x": [
            1195.78
           ],
           "xaxis": "x",
           "y": [
            "Participatie: anders/overig"
           ],
           "yaxis": "y"
          },
          {
           "alignmentgroup": "True",
           "hovertemplate": "Persoonskenmerken=%{y}<br>Perioden=2021<br>Verplaatsingen_1=%{x}<extra></extra>",
           "legendgroup": "Participatie: gepensioneerd/VUT",
           "marker": {
            "color": "#FF6692",
            "pattern": {
             "shape": ""
            }
           },
           "name": "Participatie: gepensioneerd/VUT",
           "offsetgroup": "Participatie: gepensioneerd/VUT",
           "orientation": "h",
           "showlegend": true,
           "textposition": "auto",
           "texttemplate": "%{x:.2s}",
           "type": "bar",
           "x": [
            1499.7
           ],
           "xaxis": "x",
           "y": [
            "Participatie: gepensioneerd/VUT"
           ],
           "yaxis": "y"
          },
          {
           "alignmentgroup": "True",
           "hovertemplate": "Persoonskenmerken=%{y}<br>Perioden=2021<br>Verplaatsingen_1=%{x}<extra></extra>",
           "legendgroup": "Participatie: werkloos",
           "marker": {
            "color": "#B6E880",
            "pattern": {
             "shape": ""
            }
           },
           "name": "Participatie: werkloos",
           "offsetgroup": "Participatie: werkloos",
           "orientation": "h",
           "showlegend": true,
           "textposition": "auto",
           "texttemplate": "%{x:.2s}",
           "type": "bar",
           "x": [
            478.9
           ],
           "xaxis": "x",
           "y": [
            "Participatie: werkloos"
           ],
           "yaxis": "y"
          },
          {
           "alignmentgroup": "True",
           "hovertemplate": "Persoonskenmerken=%{y}<br>Perioden=2021<br>Verplaatsingen_1=%{x}<extra></extra>",
           "legendgroup": "Participatie: werkzaam 30 uur pw of meer",
           "marker": {
            "color": "#FF97FF",
            "pattern": {
             "shape": ""
            }
           },
           "name": "Participatie: werkzaam 30 uur pw of meer",
           "offsetgroup": "Participatie: werkzaam 30 uur pw of meer",
           "orientation": "h",
           "showlegend": true,
           "textposition": "auto",
           "texttemplate": "%{x:.2s}",
           "type": "bar",
           "x": [
            2090.18
           ],
           "xaxis": "x",
           "y": [
            "Participatie: werkzaam 30 uur pw of meer"
           ],
           "yaxis": "y"
          },
          {
           "alignmentgroup": "True",
           "hovertemplate": "Persoonskenmerken=%{y}<br>Perioden=2021<br>Verplaatsingen_1=%{x}<extra></extra>",
           "legendgroup": "Participatie: werkzaam: 12 tot 30 uur pw",
           "marker": {
            "color": "#FECB52",
            "pattern": {
             "shape": ""
            }
           },
           "name": "Participatie: werkzaam: 12 tot 30 uur pw",
           "offsetgroup": "Participatie: werkzaam: 12 tot 30 uur pw",
           "orientation": "h",
           "showlegend": true,
           "textposition": "auto",
           "texttemplate": "%{x:.2s}",
           "type": "bar",
           "x": [
            1946.6
           ],
           "xaxis": "x",
           "y": [
            "Participatie: werkzaam: 12 tot 30 uur pw"
           ],
           "yaxis": "y"
          },
          {
           "alignmentgroup": "True",
           "hovertemplate": "Persoonskenmerken=%{y}<br>Perioden=2021<br>Verplaatsingen_1=%{x}<extra></extra>",
           "legendgroup": "Participatie:student/scholier",
           "marker": {
            "color": "#636efa",
            "pattern": {
             "shape": ""
            }
           },
           "name": "Participatie:student/scholier",
           "offsetgroup": "Participatie:student/scholier",
           "orientation": "h",
           "showlegend": true,
           "textposition": "auto",
           "texttemplate": "%{x:.2s}",
           "type": "bar",
           "x": [
            1665.07
           ],
           "xaxis": "x",
           "y": [
            "Participatie:student/scholier"
           ],
           "yaxis": "y"
          },
          {
           "alignmentgroup": "True",
           "hovertemplate": "Persoonskenmerken=%{y}<br>Perioden=2021<br>Verplaatsingen_1=%{x}<extra></extra>",
           "legendgroup": "Rijbewijs, geen personenauto in hh",
           "marker": {
            "color": "#EF553B",
            "pattern": {
             "shape": ""
            }
           },
           "name": "Rijbewijs, geen personenauto in hh",
           "offsetgroup": "Rijbewijs, geen personenauto in hh",
           "orientation": "h",
           "showlegend": true,
           "textposition": "auto",
           "texttemplate": "%{x:.2s}",
           "type": "bar",
           "x": [
            1296.76
           ],
           "xaxis": "x",
           "y": [
            "Rijbewijs, geen personenauto in hh"
           ],
           "yaxis": "y"
          },
          {
           "alignmentgroup": "True",
           "hovertemplate": "Persoonskenmerken=%{y}<br>Perioden=2021<br>Verplaatsingen_1=%{x}<extra></extra>",
           "legendgroup": "Rijbewijs, personenauto in hh",
           "marker": {
            "color": "#00cc96",
            "pattern": {
             "shape": ""
            }
           },
           "name": "Rijbewijs, personenauto in hh",
           "offsetgroup": "Rijbewijs, personenauto in hh",
           "orientation": "h",
           "showlegend": true,
           "textposition": "auto",
           "texttemplate": "%{x:.2s}",
           "type": "bar",
           "x": [
            1972.04
           ],
           "xaxis": "x",
           "y": [
            "Rijbewijs, personenauto in hh"
           ],
           "yaxis": "y"
          },
          {
           "alignmentgroup": "True",
           "hovertemplate": "Persoonskenmerken=%{y}<br>Perioden=2021<br>Verplaatsingen_1=%{x}<extra></extra>",
           "legendgroup": "Rijbewijs, personenauto op eigen naam",
           "marker": {
            "color": "#ab63fa",
            "pattern": {
             "shape": ""
            }
           },
           "name": "Rijbewijs, personenauto op eigen naam",
           "offsetgroup": "Rijbewijs, personenauto op eigen naam",
           "orientation": "h",
           "showlegend": true,
           "textposition": "auto",
           "texttemplate": "%{x:.2s}",
           "type": "bar",
           "x": [
            2101
           ],
           "xaxis": "x",
           "y": [
            "Rijbewijs, personenauto op eigen naam"
           ],
           "yaxis": "y"
          }
         ],
         "name": "2021"
        }
       ],
       "layout": {
        "barmode": "relative",
        "height": 1000,
        "legend": {
         "title": {
          "text": "Persoonskenmerken"
         },
         "tracegroupgap": 0
        },
        "margin": {
         "t": 60
        },
        "showlegend": false,
        "sliders": [
         {
          "active": 0,
          "currentvalue": {
           "prefix": "Perioden="
          },
          "len": 0.9,
          "pad": {
           "b": 10,
           "t": 60
          },
          "steps": [
           {
            "args": [
             [
              "2018"
             ],
             {
              "frame": {
               "duration": 0,
               "redraw": true
              },
              "fromcurrent": true,
              "mode": "immediate",
              "transition": {
               "duration": 0,
               "easing": "linear"
              }
             }
            ],
            "label": "2018",
            "method": "animate"
           },
           {
            "args": [
             [
              "2019"
             ],
             {
              "frame": {
               "duration": 0,
               "redraw": true
              },
              "fromcurrent": true,
              "mode": "immediate",
              "transition": {
               "duration": 0,
               "easing": "linear"
              }
             }
            ],
            "label": "2019",
            "method": "animate"
           },
           {
            "args": [
             [
              "2020"
             ],
             {
              "frame": {
               "duration": 0,
               "redraw": true
              },
              "fromcurrent": true,
              "mode": "immediate",
              "transition": {
               "duration": 0,
               "easing": "linear"
              }
             }
            ],
            "label": "2020",
            "method": "animate"
           },
           {
            "args": [
             [
              "2021"
             ],
             {
              "frame": {
               "duration": 0,
               "redraw": true
              },
              "fromcurrent": true,
              "mode": "immediate",
              "transition": {
               "duration": 0,
               "easing": "linear"
              }
             }
            ],
            "label": "2021",
            "method": "animate"
           }
          ],
          "x": 0.1,
          "xanchor": "left",
          "y": 0,
          "yanchor": "top"
         }
        ],
        "template": {
         "data": {
          "bar": [
           {
            "error_x": {
             "color": "#2a3f5f"
            },
            "error_y": {
             "color": "#2a3f5f"
            },
            "marker": {
             "line": {
              "color": "#E5ECF6",
              "width": 0.5
             },
             "pattern": {
              "fillmode": "overlay",
              "size": 10,
              "solidity": 0.2
             }
            },
            "type": "bar"
           }
          ],
          "barpolar": [
           {
            "marker": {
             "line": {
              "color": "#E5ECF6",
              "width": 0.5
             },
             "pattern": {
              "fillmode": "overlay",
              "size": 10,
              "solidity": 0.2
             }
            },
            "type": "barpolar"
           }
          ],
          "carpet": [
           {
            "aaxis": {
             "endlinecolor": "#2a3f5f",
             "gridcolor": "white",
             "linecolor": "white",
             "minorgridcolor": "white",
             "startlinecolor": "#2a3f5f"
            },
            "baxis": {
             "endlinecolor": "#2a3f5f",
             "gridcolor": "white",
             "linecolor": "white",
             "minorgridcolor": "white",
             "startlinecolor": "#2a3f5f"
            },
            "type": "carpet"
           }
          ],
          "choropleth": [
           {
            "colorbar": {
             "outlinewidth": 0,
             "ticks": ""
            },
            "type": "choropleth"
           }
          ],
          "contour": [
           {
            "colorbar": {
             "outlinewidth": 0,
             "ticks": ""
            },
            "colorscale": [
             [
              0,
              "#0d0887"
             ],
             [
              0.1111111111111111,
              "#46039f"
             ],
             [
              0.2222222222222222,
              "#7201a8"
             ],
             [
              0.3333333333333333,
              "#9c179e"
             ],
             [
              0.4444444444444444,
              "#bd3786"
             ],
             [
              0.5555555555555556,
              "#d8576b"
             ],
             [
              0.6666666666666666,
              "#ed7953"
             ],
             [
              0.7777777777777778,
              "#fb9f3a"
             ],
             [
              0.8888888888888888,
              "#fdca26"
             ],
             [
              1,
              "#f0f921"
             ]
            ],
            "type": "contour"
           }
          ],
          "contourcarpet": [
           {
            "colorbar": {
             "outlinewidth": 0,
             "ticks": ""
            },
            "type": "contourcarpet"
           }
          ],
          "heatmap": [
           {
            "colorbar": {
             "outlinewidth": 0,
             "ticks": ""
            },
            "colorscale": [
             [
              0,
              "#0d0887"
             ],
             [
              0.1111111111111111,
              "#46039f"
             ],
             [
              0.2222222222222222,
              "#7201a8"
             ],
             [
              0.3333333333333333,
              "#9c179e"
             ],
             [
              0.4444444444444444,
              "#bd3786"
             ],
             [
              0.5555555555555556,
              "#d8576b"
             ],
             [
              0.6666666666666666,
              "#ed7953"
             ],
             [
              0.7777777777777778,
              "#fb9f3a"
             ],
             [
              0.8888888888888888,
              "#fdca26"
             ],
             [
              1,
              "#f0f921"
             ]
            ],
            "type": "heatmap"
           }
          ],
          "heatmapgl": [
           {
            "colorbar": {
             "outlinewidth": 0,
             "ticks": ""
            },
            "colorscale": [
             [
              0,
              "#0d0887"
             ],
             [
              0.1111111111111111,
              "#46039f"
             ],
             [
              0.2222222222222222,
              "#7201a8"
             ],
             [
              0.3333333333333333,
              "#9c179e"
             ],
             [
              0.4444444444444444,
              "#bd3786"
             ],
             [
              0.5555555555555556,
              "#d8576b"
             ],
             [
              0.6666666666666666,
              "#ed7953"
             ],
             [
              0.7777777777777778,
              "#fb9f3a"
             ],
             [
              0.8888888888888888,
              "#fdca26"
             ],
             [
              1,
              "#f0f921"
             ]
            ],
            "type": "heatmapgl"
           }
          ],
          "histogram": [
           {
            "marker": {
             "pattern": {
              "fillmode": "overlay",
              "size": 10,
              "solidity": 0.2
             }
            },
            "type": "histogram"
           }
          ],
          "histogram2d": [
           {
            "colorbar": {
             "outlinewidth": 0,
             "ticks": ""
            },
            "colorscale": [
             [
              0,
              "#0d0887"
             ],
             [
              0.1111111111111111,
              "#46039f"
             ],
             [
              0.2222222222222222,
              "#7201a8"
             ],
             [
              0.3333333333333333,
              "#9c179e"
             ],
             [
              0.4444444444444444,
              "#bd3786"
             ],
             [
              0.5555555555555556,
              "#d8576b"
             ],
             [
              0.6666666666666666,
              "#ed7953"
             ],
             [
              0.7777777777777778,
              "#fb9f3a"
             ],
             [
              0.8888888888888888,
              "#fdca26"
             ],
             [
              1,
              "#f0f921"
             ]
            ],
            "type": "histogram2d"
           }
          ],
          "histogram2dcontour": [
           {
            "colorbar": {
             "outlinewidth": 0,
             "ticks": ""
            },
            "colorscale": [
             [
              0,
              "#0d0887"
             ],
             [
              0.1111111111111111,
              "#46039f"
             ],
             [
              0.2222222222222222,
              "#7201a8"
             ],
             [
              0.3333333333333333,
              "#9c179e"
             ],
             [
              0.4444444444444444,
              "#bd3786"
             ],
             [
              0.5555555555555556,
              "#d8576b"
             ],
             [
              0.6666666666666666,
              "#ed7953"
             ],
             [
              0.7777777777777778,
              "#fb9f3a"
             ],
             [
              0.8888888888888888,
              "#fdca26"
             ],
             [
              1,
              "#f0f921"
             ]
            ],
            "type": "histogram2dcontour"
           }
          ],
          "mesh3d": [
           {
            "colorbar": {
             "outlinewidth": 0,
             "ticks": ""
            },
            "type": "mesh3d"
           }
          ],
          "parcoords": [
           {
            "line": {
             "colorbar": {
              "outlinewidth": 0,
              "ticks": ""
             }
            },
            "type": "parcoords"
           }
          ],
          "pie": [
           {
            "automargin": true,
            "type": "pie"
           }
          ],
          "scatter": [
           {
            "fillpattern": {
             "fillmode": "overlay",
             "size": 10,
             "solidity": 0.2
            },
            "type": "scatter"
           }
          ],
          "scatter3d": [
           {
            "line": {
             "colorbar": {
              "outlinewidth": 0,
              "ticks": ""
             }
            },
            "marker": {
             "colorbar": {
              "outlinewidth": 0,
              "ticks": ""
             }
            },
            "type": "scatter3d"
           }
          ],
          "scattercarpet": [
           {
            "marker": {
             "colorbar": {
              "outlinewidth": 0,
              "ticks": ""
             }
            },
            "type": "scattercarpet"
           }
          ],
          "scattergeo": [
           {
            "marker": {
             "colorbar": {
              "outlinewidth": 0,
              "ticks": ""
             }
            },
            "type": "scattergeo"
           }
          ],
          "scattergl": [
           {
            "marker": {
             "colorbar": {
              "outlinewidth": 0,
              "ticks": ""
             }
            },
            "type": "scattergl"
           }
          ],
          "scattermapbox": [
           {
            "marker": {
             "colorbar": {
              "outlinewidth": 0,
              "ticks": ""
             }
            },
            "type": "scattermapbox"
           }
          ],
          "scatterpolar": [
           {
            "marker": {
             "colorbar": {
              "outlinewidth": 0,
              "ticks": ""
             }
            },
            "type": "scatterpolar"
           }
          ],
          "scatterpolargl": [
           {
            "marker": {
             "colorbar": {
              "outlinewidth": 0,
              "ticks": ""
             }
            },
            "type": "scatterpolargl"
           }
          ],
          "scatterternary": [
           {
            "marker": {
             "colorbar": {
              "outlinewidth": 0,
              "ticks": ""
             }
            },
            "type": "scatterternary"
           }
          ],
          "surface": [
           {
            "colorbar": {
             "outlinewidth": 0,
             "ticks": ""
            },
            "colorscale": [
             [
              0,
              "#0d0887"
             ],
             [
              0.1111111111111111,
              "#46039f"
             ],
             [
              0.2222222222222222,
              "#7201a8"
             ],
             [
              0.3333333333333333,
              "#9c179e"
             ],
             [
              0.4444444444444444,
              "#bd3786"
             ],
             [
              0.5555555555555556,
              "#d8576b"
             ],
             [
              0.6666666666666666,
              "#ed7953"
             ],
             [
              0.7777777777777778,
              "#fb9f3a"
             ],
             [
              0.8888888888888888,
              "#fdca26"
             ],
             [
              1,
              "#f0f921"
             ]
            ],
            "type": "surface"
           }
          ],
          "table": [
           {
            "cells": {
             "fill": {
              "color": "#EBF0F8"
             },
             "line": {
              "color": "white"
             }
            },
            "header": {
             "fill": {
              "color": "#C8D4E3"
             },
             "line": {
              "color": "white"
             }
            },
            "type": "table"
           }
          ]
         },
         "layout": {
          "annotationdefaults": {
           "arrowcolor": "#2a3f5f",
           "arrowhead": 0,
           "arrowwidth": 1
          },
          "autotypenumbers": "strict",
          "coloraxis": {
           "colorbar": {
            "outlinewidth": 0,
            "ticks": ""
           }
          },
          "colorscale": {
           "diverging": [
            [
             0,
             "#8e0152"
            ],
            [
             0.1,
             "#c51b7d"
            ],
            [
             0.2,
             "#de77ae"
            ],
            [
             0.3,
             "#f1b6da"
            ],
            [
             0.4,
             "#fde0ef"
            ],
            [
             0.5,
             "#f7f7f7"
            ],
            [
             0.6,
             "#e6f5d0"
            ],
            [
             0.7,
             "#b8e186"
            ],
            [
             0.8,
             "#7fbc41"
            ],
            [
             0.9,
             "#4d9221"
            ],
            [
             1,
             "#276419"
            ]
           ],
           "sequential": [
            [
             0,
             "#0d0887"
            ],
            [
             0.1111111111111111,
             "#46039f"
            ],
            [
             0.2222222222222222,
             "#7201a8"
            ],
            [
             0.3333333333333333,
             "#9c179e"
            ],
            [
             0.4444444444444444,
             "#bd3786"
            ],
            [
             0.5555555555555556,
             "#d8576b"
            ],
            [
             0.6666666666666666,
             "#ed7953"
            ],
            [
             0.7777777777777778,
             "#fb9f3a"
            ],
            [
             0.8888888888888888,
             "#fdca26"
            ],
            [
             1,
             "#f0f921"
            ]
           ],
           "sequentialminus": [
            [
             0,
             "#0d0887"
            ],
            [
             0.1111111111111111,
             "#46039f"
            ],
            [
             0.2222222222222222,
             "#7201a8"
            ],
            [
             0.3333333333333333,
             "#9c179e"
            ],
            [
             0.4444444444444444,
             "#bd3786"
            ],
            [
             0.5555555555555556,
             "#d8576b"
            ],
            [
             0.6666666666666666,
             "#ed7953"
            ],
            [
             0.7777777777777778,
             "#fb9f3a"
            ],
            [
             0.8888888888888888,
             "#fdca26"
            ],
            [
             1,
             "#f0f921"
            ]
           ]
          },
          "colorway": [
           "#636efa",
           "#EF553B",
           "#00cc96",
           "#ab63fa",
           "#FFA15A",
           "#19d3f3",
           "#FF6692",
           "#B6E880",
           "#FF97FF",
           "#FECB52"
          ],
          "font": {
           "color": "#2a3f5f"
          },
          "geo": {
           "bgcolor": "white",
           "lakecolor": "white",
           "landcolor": "#E5ECF6",
           "showlakes": true,
           "showland": true,
           "subunitcolor": "white"
          },
          "hoverlabel": {
           "align": "left"
          },
          "hovermode": "closest",
          "mapbox": {
           "style": "light"
          },
          "paper_bgcolor": "white",
          "plot_bgcolor": "#E5ECF6",
          "polar": {
           "angularaxis": {
            "gridcolor": "white",
            "linecolor": "white",
            "ticks": ""
           },
           "bgcolor": "#E5ECF6",
           "radialaxis": {
            "gridcolor": "white",
            "linecolor": "white",
            "ticks": ""
           }
          },
          "scene": {
           "xaxis": {
            "backgroundcolor": "#E5ECF6",
            "gridcolor": "white",
            "gridwidth": 2,
            "linecolor": "white",
            "showbackground": true,
            "ticks": "",
            "zerolinecolor": "white"
           },
           "yaxis": {
            "backgroundcolor": "#E5ECF6",
            "gridcolor": "white",
            "gridwidth": 2,
            "linecolor": "white",
            "showbackground": true,
            "ticks": "",
            "zerolinecolor": "white"
           },
           "zaxis": {
            "backgroundcolor": "#E5ECF6",
            "gridcolor": "white",
            "gridwidth": 2,
            "linecolor": "white",
            "showbackground": true,
            "ticks": "",
            "zerolinecolor": "white"
           }
          },
          "shapedefaults": {
           "line": {
            "color": "#2a3f5f"
           }
          },
          "ternary": {
           "aaxis": {
            "gridcolor": "white",
            "linecolor": "white",
            "ticks": ""
           },
           "baxis": {
            "gridcolor": "white",
            "linecolor": "white",
            "ticks": ""
           },
           "bgcolor": "#E5ECF6",
           "caxis": {
            "gridcolor": "white",
            "linecolor": "white",
            "ticks": ""
           }
          },
          "title": {
           "x": 0.05
          },
          "xaxis": {
           "automargin": true,
           "gridcolor": "white",
           "linecolor": "white",
           "ticks": "",
           "title": {
            "standoff": 15
           },
           "zerolinecolor": "white",
           "zerolinewidth": 2
          },
          "yaxis": {
           "automargin": true,
           "gridcolor": "white",
           "linecolor": "white",
           "ticks": "",
           "title": {
            "standoff": 15
           },
           "zerolinecolor": "white",
           "zerolinewidth": 2
          }
         }
        },
        "updatemenus": [
         {
          "buttons": [
           {
            "args": [
             null,
             {
              "frame": {
               "duration": 500,
               "redraw": true
              },
              "fromcurrent": true,
              "mode": "immediate",
              "transition": {
               "duration": 500,
               "easing": "linear"
              }
             }
            ],
            "label": "&#9654;",
            "method": "animate"
           },
           {
            "args": [
             [
              null
             ],
             {
              "frame": {
               "duration": 0,
               "redraw": true
              },
              "fromcurrent": true,
              "mode": "immediate",
              "transition": {
               "duration": 0,
               "easing": "linear"
              }
             }
            ],
            "label": "&#9724;",
            "method": "animate"
           }
          ],
          "direction": "left",
          "pad": {
           "r": 10,
           "t": 70
          },
          "showactive": false,
          "type": "buttons",
          "x": 0.1,
          "xanchor": "right",
          "y": 0,
          "yanchor": "top"
         }
        ],
        "xaxis": {
         "anchor": "y",
         "domain": [
          0,
          1
         ],
         "range": [
          0,
          3000
         ],
         "title": {
          "text": "Verplaatsingen_1"
         }
        },
        "yaxis": {
         "anchor": "x",
         "categoryarray": [
          "Rijbewijs, personenauto op eigen naam",
          "Rijbewijs, personenauto in hh",
          "Rijbewijs, geen personenauto in hh",
          "Participatie:student/scholier",
          "Participatie: werkzaam: 12 tot 30 uur pw",
          "Participatie: werkzaam 30 uur pw of meer",
          "Participatie: werkloos",
          "Participatie: gepensioneerd/VUT",
          "Participatie: anders/overig",
          "Participatie:  arbeidsongeschikt",
          "Onderwijsniveau: 3 Hoog",
          "Onderwijsniveau: 2 Middelbaar",
          "Onderwijsniveau: 1 Laag",
          "OV-Studentenkaart: weekendabonnement",
          "OV-Studentenkaart: weekabonnement",
          "OV-Studentenkaart: geen",
          "Migratieachtergrond: westers",
          "Migratieachtergrond: niet-westers",
          "Migratieachtergrond: Nederland",
          "Leeftijd:6 tot 12 jaar",
          "Leeftijd: 75 jaar of ouder",
          "Leeftijd: 65 tot 75 jaar",
          "Leeftijd: 50 tot 65 jaar",
          "Leeftijd: 35 tot 50 jaar",
          "Leeftijd: 25 tot 35 jaar",
          "Leeftijd: 18 tot 25 jaar",
          "Leeftijd: 12 tot 18 jaar",
          "Gestandaardiseerd inkomen: 5e 20%-groep",
          "Gestandaardiseerd inkomen: 4e 20%-groep",
          "Gestandaardiseerd inkomen: 3e 20%-groep",
          "Gestandaardiseerd inkomen: 2e 20%-groep",
          "Gestandaardiseerd inkomen: 1e 20%-groep",
          "Geen rijbewijs; wel 17 jaar of ouder",
          "Geen rijbewijs; jonger dan 17 jaar"
         ],
         "categoryorder": "array",
         "domain": [
          0,
          1
         ],
         "title": {
          "text": "Persoonskenmerken"
         }
        }
       }
      },
      "text/html": [
       "<div>                            <div id=\"3ea13d0a-6565-4f7d-8c87-8be6b28ce8d0\" class=\"plotly-graph-div\" style=\"height:1000px; width:100%;\"></div>            <script type=\"text/javascript\">                require([\"plotly\"], function(Plotly) {                    window.PLOTLYENV=window.PLOTLYENV || {};                                    if (document.getElementById(\"3ea13d0a-6565-4f7d-8c87-8be6b28ce8d0\")) {                    Plotly.newPlot(                        \"3ea13d0a-6565-4f7d-8c87-8be6b28ce8d0\",                        [{\"alignmentgroup\":\"True\",\"hovertemplate\":\"Persoonskenmerken=%{y}<br>Perioden=2018<br>Verplaatsingen_1=%{x}<extra></extra>\",\"legendgroup\":\"Geen rijbewijs; jonger dan 17 jaar\",\"marker\":{\"color\":\"#636efa\",\"pattern\":{\"shape\":\"\"}},\"name\":\"Geen rijbewijs; jonger dan 17 jaar\",\"offsetgroup\":\"Geen rijbewijs; jonger dan 17 jaar\",\"orientation\":\"h\",\"showlegend\":true,\"textposition\":\"outside\",\"texttemplate\":\"%{x:.2s}\",\"x\":[1999.58],\"xaxis\":\"x\",\"y\":[\"Geen rijbewijs; jonger dan 17 jaar\"],\"yaxis\":\"y\",\"type\":\"bar\"},{\"alignmentgroup\":\"True\",\"hovertemplate\":\"Persoonskenmerken=%{y}<br>Perioden=2018<br>Verplaatsingen_1=%{x}<extra></extra>\",\"legendgroup\":\"Geen rijbewijs; wel 17 jaar of ouder\",\"marker\":{\"color\":\"#EF553B\",\"pattern\":{\"shape\":\"\"}},\"name\":\"Geen rijbewijs; wel 17 jaar of ouder\",\"offsetgroup\":\"Geen rijbewijs; wel 17 jaar of ouder\",\"orientation\":\"h\",\"showlegend\":true,\"textposition\":\"outside\",\"texttemplate\":\"%{x:.2s}\",\"x\":[1378.94],\"xaxis\":\"x\",\"y\":[\"Geen rijbewijs; wel 17 jaar of ouder\"],\"yaxis\":\"y\",\"type\":\"bar\"},{\"alignmentgroup\":\"True\",\"hovertemplate\":\"Persoonskenmerken=%{y}<br>Perioden=2018<br>Verplaatsingen_1=%{x}<extra></extra>\",\"legendgroup\":\"Gestandaardiseerd inkomen: 1e 20%-groep\",\"marker\":{\"color\":\"#00cc96\",\"pattern\":{\"shape\":\"\"}},\"name\":\"Gestandaardiseerd inkomen: 1e 20%-groep\",\"offsetgroup\":\"Gestandaardiseerd inkomen: 1e 20%-groep\",\"orientation\":\"h\",\"showlegend\":true,\"textposition\":\"outside\",\"texttemplate\":\"%{x:.2s}\",\"x\":[1658.56],\"xaxis\":\"x\",\"y\":[\"Gestandaardiseerd inkomen: 1e 20%-groep\"],\"yaxis\":\"y\",\"type\":\"bar\"},{\"alignmentgroup\":\"True\",\"hovertemplate\":\"Persoonskenmerken=%{y}<br>Perioden=2018<br>Verplaatsingen_1=%{x}<extra></extra>\",\"legendgroup\":\"Gestandaardiseerd inkomen: 2e 20%-groep\",\"marker\":{\"color\":\"#ab63fa\",\"pattern\":{\"shape\":\"\"}},\"name\":\"Gestandaardiseerd inkomen: 2e 20%-groep\",\"offsetgroup\":\"Gestandaardiseerd inkomen: 2e 20%-groep\",\"orientation\":\"h\",\"showlegend\":true,\"textposition\":\"outside\",\"texttemplate\":\"%{x:.2s}\",\"x\":[1740.22],\"xaxis\":\"x\",\"y\":[\"Gestandaardiseerd inkomen: 2e 20%-groep\"],\"yaxis\":\"y\",\"type\":\"bar\"},{\"alignmentgroup\":\"True\",\"hovertemplate\":\"Persoonskenmerken=%{y}<br>Perioden=2018<br>Verplaatsingen_1=%{x}<extra></extra>\",\"legendgroup\":\"Gestandaardiseerd inkomen: 3e 20%-groep\",\"marker\":{\"color\":\"#FFA15A\",\"pattern\":{\"shape\":\"\"}},\"name\":\"Gestandaardiseerd inkomen: 3e 20%-groep\",\"offsetgroup\":\"Gestandaardiseerd inkomen: 3e 20%-groep\",\"orientation\":\"h\",\"showlegend\":true,\"textposition\":\"outside\",\"texttemplate\":\"%{x:.2s}\",\"x\":[2089.84],\"xaxis\":\"x\",\"y\":[\"Gestandaardiseerd inkomen: 3e 20%-groep\"],\"yaxis\":\"y\",\"type\":\"bar\"},{\"alignmentgroup\":\"True\",\"hovertemplate\":\"Persoonskenmerken=%{y}<br>Perioden=2018<br>Verplaatsingen_1=%{x}<extra></extra>\",\"legendgroup\":\"Gestandaardiseerd inkomen: 4e 20%-groep\",\"marker\":{\"color\":\"#19d3f3\",\"pattern\":{\"shape\":\"\"}},\"name\":\"Gestandaardiseerd inkomen: 4e 20%-groep\",\"offsetgroup\":\"Gestandaardiseerd inkomen: 4e 20%-groep\",\"orientation\":\"h\",\"showlegend\":true,\"textposition\":\"outside\",\"texttemplate\":\"%{x:.2s}\",\"x\":[2209.82],\"xaxis\":\"x\",\"y\":[\"Gestandaardiseerd inkomen: 4e 20%-groep\"],\"yaxis\":\"y\",\"type\":\"bar\"},{\"alignmentgroup\":\"True\",\"hovertemplate\":\"Persoonskenmerken=%{y}<br>Perioden=2018<br>Verplaatsingen_1=%{x}<extra></extra>\",\"legendgroup\":\"Gestandaardiseerd inkomen: 5e 20%-groep\",\"marker\":{\"color\":\"#FF6692\",\"pattern\":{\"shape\":\"\"}},\"name\":\"Gestandaardiseerd inkomen: 5e 20%-groep\",\"offsetgroup\":\"Gestandaardiseerd inkomen: 5e 20%-groep\",\"orientation\":\"h\",\"showlegend\":true,\"textposition\":\"outside\",\"texttemplate\":\"%{x:.2s}\",\"x\":[2203.75],\"xaxis\":\"x\",\"y\":[\"Gestandaardiseerd inkomen: 5e 20%-groep\"],\"yaxis\":\"y\",\"type\":\"bar\"},{\"alignmentgroup\":\"True\",\"hovertemplate\":\"Persoonskenmerken=%{y}<br>Perioden=2018<br>Verplaatsingen_1=%{x}<extra></extra>\",\"legendgroup\":\"Leeftijd: 12 tot 18 jaar\",\"marker\":{\"color\":\"#B6E880\",\"pattern\":{\"shape\":\"\"}},\"name\":\"Leeftijd: 12 tot 18 jaar\",\"offsetgroup\":\"Leeftijd: 12 tot 18 jaar\",\"orientation\":\"h\",\"showlegend\":true,\"textposition\":\"outside\",\"texttemplate\":\"%{x:.2s}\",\"x\":[1870.52],\"xaxis\":\"x\",\"y\":[\"Leeftijd: 12 tot 18 jaar\"],\"yaxis\":\"y\",\"type\":\"bar\"},{\"alignmentgroup\":\"True\",\"hovertemplate\":\"Persoonskenmerken=%{y}<br>Perioden=2018<br>Verplaatsingen_1=%{x}<extra></extra>\",\"legendgroup\":\"Leeftijd: 18 tot 25 jaar\",\"marker\":{\"color\":\"#FF97FF\",\"pattern\":{\"shape\":\"\"}},\"name\":\"Leeftijd: 18 tot 25 jaar\",\"offsetgroup\":\"Leeftijd: 18 tot 25 jaar\",\"orientation\":\"h\",\"showlegend\":true,\"textposition\":\"outside\",\"texttemplate\":\"%{x:.2s}\",\"x\":[1750.16],\"xaxis\":\"x\",\"y\":[\"Leeftijd: 18 tot 25 jaar\"],\"yaxis\":\"y\",\"type\":\"bar\"},{\"alignmentgroup\":\"True\",\"hovertemplate\":\"Persoonskenmerken=%{y}<br>Perioden=2018<br>Verplaatsingen_1=%{x}<extra></extra>\",\"legendgroup\":\"Leeftijd: 25 tot 35 jaar\",\"marker\":{\"color\":\"#FECB52\",\"pattern\":{\"shape\":\"\"}},\"name\":\"Leeftijd: 25 tot 35 jaar\",\"offsetgroup\":\"Leeftijd: 25 tot 35 jaar\",\"orientation\":\"h\",\"showlegend\":true,\"textposition\":\"outside\",\"texttemplate\":\"%{x:.2s}\",\"x\":[2142.74],\"xaxis\":\"x\",\"y\":[\"Leeftijd: 25 tot 35 jaar\"],\"yaxis\":\"y\",\"type\":\"bar\"},{\"alignmentgroup\":\"True\",\"hovertemplate\":\"Persoonskenmerken=%{y}<br>Perioden=2018<br>Verplaatsingen_1=%{x}<extra></extra>\",\"legendgroup\":\"Leeftijd: 35 tot 50 jaar\",\"marker\":{\"color\":\"#636efa\",\"pattern\":{\"shape\":\"\"}},\"name\":\"Leeftijd: 35 tot 50 jaar\",\"offsetgroup\":\"Leeftijd: 35 tot 50 jaar\",\"orientation\":\"h\",\"showlegend\":true,\"textposition\":\"outside\",\"texttemplate\":\"%{x:.2s}\",\"x\":[2373.44],\"xaxis\":\"x\",\"y\":[\"Leeftijd: 35 tot 50 jaar\"],\"yaxis\":\"y\",\"type\":\"bar\"},{\"alignmentgroup\":\"True\",\"hovertemplate\":\"Persoonskenmerken=%{y}<br>Perioden=2018<br>Verplaatsingen_1=%{x}<extra></extra>\",\"legendgroup\":\"Leeftijd: 50 tot 65 jaar\",\"marker\":{\"color\":\"#EF553B\",\"pattern\":{\"shape\":\"\"}},\"name\":\"Leeftijd: 50 tot 65 jaar\",\"offsetgroup\":\"Leeftijd: 50 tot 65 jaar\",\"orientation\":\"h\",\"showlegend\":true,\"textposition\":\"outside\",\"texttemplate\":\"%{x:.2s}\",\"x\":[2067.32],\"xaxis\":\"x\",\"y\":[\"Leeftijd: 50 tot 65 jaar\"],\"yaxis\":\"y\",\"type\":\"bar\"},{\"alignmentgroup\":\"True\",\"hovertemplate\":\"Persoonskenmerken=%{y}<br>Perioden=2018<br>Verplaatsingen_1=%{x}<extra></extra>\",\"legendgroup\":\"Leeftijd: 65 tot 75 jaar\",\"marker\":{\"color\":\"#00cc96\",\"pattern\":{\"shape\":\"\"}},\"name\":\"Leeftijd: 65 tot 75 jaar\",\"offsetgroup\":\"Leeftijd: 65 tot 75 jaar\",\"orientation\":\"h\",\"showlegend\":true,\"textposition\":\"outside\",\"texttemplate\":\"%{x:.2s}\",\"x\":[1579.2],\"xaxis\":\"x\",\"y\":[\"Leeftijd: 65 tot 75 jaar\"],\"yaxis\":\"y\",\"type\":\"bar\"},{\"alignmentgroup\":\"True\",\"hovertemplate\":\"Persoonskenmerken=%{y}<br>Perioden=2018<br>Verplaatsingen_1=%{x}<extra></extra>\",\"legendgroup\":\"Leeftijd: 75 jaar of ouder\",\"marker\":{\"color\":\"#ab63fa\",\"pattern\":{\"shape\":\"\"}},\"name\":\"Leeftijd: 75 jaar of ouder\",\"offsetgroup\":\"Leeftijd: 75 jaar of ouder\",\"orientation\":\"h\",\"showlegend\":true,\"textposition\":\"outside\",\"texttemplate\":\"%{x:.2s}\",\"x\":[976.18],\"xaxis\":\"x\",\"y\":[\"Leeftijd: 75 jaar of ouder\"],\"yaxis\":\"y\",\"type\":\"bar\"},{\"alignmentgroup\":\"True\",\"hovertemplate\":\"Persoonskenmerken=%{y}<br>Perioden=2018<br>Verplaatsingen_1=%{x}<extra></extra>\",\"legendgroup\":\"Leeftijd:6 tot 12 jaar\",\"marker\":{\"color\":\"#FFA15A\",\"pattern\":{\"shape\":\"\"}},\"name\":\"Leeftijd:6 tot 12 jaar\",\"offsetgroup\":\"Leeftijd:6 tot 12 jaar\",\"orientation\":\"h\",\"showlegend\":true,\"textposition\":\"outside\",\"texttemplate\":\"%{x:.2s}\",\"x\":[1107.8],\"xaxis\":\"x\",\"y\":[\"Leeftijd:6 tot 12 jaar\"],\"yaxis\":\"y\",\"type\":\"bar\"},{\"alignmentgroup\":\"True\",\"hovertemplate\":\"Persoonskenmerken=%{y}<br>Perioden=2018<br>Verplaatsingen_1=%{x}<extra></extra>\",\"legendgroup\":\"Migratieachtergrond: Nederland\",\"marker\":{\"color\":\"#19d3f3\",\"pattern\":{\"shape\":\"\"}},\"name\":\"Migratieachtergrond: Nederland\",\"offsetgroup\":\"Migratieachtergrond: Nederland\",\"orientation\":\"h\",\"showlegend\":true,\"textposition\":\"outside\",\"texttemplate\":\"%{x:.2s}\",\"x\":[2259.69],\"xaxis\":\"x\",\"y\":[\"Migratieachtergrond: Nederland\"],\"yaxis\":\"y\",\"type\":\"bar\"},{\"alignmentgroup\":\"True\",\"hovertemplate\":\"Persoonskenmerken=%{y}<br>Perioden=2018<br>Verplaatsingen_1=%{x}<extra></extra>\",\"legendgroup\":\"Migratieachtergrond: niet-westers\",\"marker\":{\"color\":\"#FF6692\",\"pattern\":{\"shape\":\"\"}},\"name\":\"Migratieachtergrond: niet-westers\",\"offsetgroup\":\"Migratieachtergrond: niet-westers\",\"orientation\":\"h\",\"showlegend\":true,\"textposition\":\"outside\",\"texttemplate\":\"%{x:.2s}\",\"x\":[1165.99],\"xaxis\":\"x\",\"y\":[\"Migratieachtergrond: niet-westers\"],\"yaxis\":\"y\",\"type\":\"bar\"},{\"alignmentgroup\":\"True\",\"hovertemplate\":\"Persoonskenmerken=%{y}<br>Perioden=2018<br>Verplaatsingen_1=%{x}<extra></extra>\",\"legendgroup\":\"Migratieachtergrond: westers\",\"marker\":{\"color\":\"#B6E880\",\"pattern\":{\"shape\":\"\"}},\"name\":\"Migratieachtergrond: westers\",\"offsetgroup\":\"Migratieachtergrond: westers\",\"orientation\":\"h\",\"showlegend\":true,\"textposition\":\"outside\",\"texttemplate\":\"%{x:.2s}\",\"x\":[1534.01],\"xaxis\":\"x\",\"y\":[\"Migratieachtergrond: westers\"],\"yaxis\":\"y\",\"type\":\"bar\"},{\"alignmentgroup\":\"True\",\"hovertemplate\":\"Persoonskenmerken=%{y}<br>Perioden=2018<br>Verplaatsingen_1=%{x}<extra></extra>\",\"legendgroup\":\"OV-Studentenkaart: geen\",\"marker\":{\"color\":\"#FF97FF\",\"pattern\":{\"shape\":\"\"}},\"name\":\"OV-Studentenkaart: geen\",\"offsetgroup\":\"OV-Studentenkaart: geen\",\"orientation\":\"h\",\"showlegend\":true,\"textposition\":\"outside\",\"texttemplate\":\"%{x:.2s}\",\"x\":[2175.46],\"xaxis\":\"x\",\"y\":[\"OV-Studentenkaart: geen\"],\"yaxis\":\"y\",\"type\":\"bar\"},{\"alignmentgroup\":\"True\",\"hovertemplate\":\"Persoonskenmerken=%{y}<br>Perioden=2018<br>Verplaatsingen_1=%{x}<extra></extra>\",\"legendgroup\":\"OV-Studentenkaart: weekabonnement\",\"marker\":{\"color\":\"#FECB52\",\"pattern\":{\"shape\":\"\"}},\"name\":\"OV-Studentenkaart: weekabonnement\",\"offsetgroup\":\"OV-Studentenkaart: weekabonnement\",\"orientation\":\"h\",\"showlegend\":true,\"textposition\":\"outside\",\"texttemplate\":\"%{x:.2s}\",\"x\":[1542.14],\"xaxis\":\"x\",\"y\":[\"OV-Studentenkaart: weekabonnement\"],\"yaxis\":\"y\",\"type\":\"bar\"},{\"alignmentgroup\":\"True\",\"hovertemplate\":\"Persoonskenmerken=%{y}<br>Perioden=2018<br>Verplaatsingen_1=%{x}<extra></extra>\",\"legendgroup\":\"OV-Studentenkaart: weekendabonnement\",\"marker\":{\"color\":\"#636efa\",\"pattern\":{\"shape\":\"\"}},\"name\":\"OV-Studentenkaart: weekendabonnement\",\"offsetgroup\":\"OV-Studentenkaart: weekendabonnement\",\"orientation\":\"h\",\"showlegend\":true,\"textposition\":\"outside\",\"texttemplate\":\"%{x:.2s}\",\"x\":[322.92],\"xaxis\":\"x\",\"y\":[\"OV-Studentenkaart: weekendabonnement\"],\"yaxis\":\"y\",\"type\":\"bar\"},{\"alignmentgroup\":\"True\",\"hovertemplate\":\"Persoonskenmerken=%{y}<br>Perioden=2018<br>Verplaatsingen_1=%{x}<extra></extra>\",\"legendgroup\":\"Onderwijsniveau: 1 Laag\",\"marker\":{\"color\":\"#EF553B\",\"pattern\":{\"shape\":\"\"}},\"name\":\"Onderwijsniveau: 1 Laag\",\"offsetgroup\":\"Onderwijsniveau: 1 Laag\",\"orientation\":\"h\",\"showlegend\":true,\"textposition\":\"outside\",\"texttemplate\":\"%{x:.2s}\",\"x\":[1621.78],\"xaxis\":\"x\",\"y\":[\"Onderwijsniveau: 1 Laag\"],\"yaxis\":\"y\",\"type\":\"bar\"},{\"alignmentgroup\":\"True\",\"hovertemplate\":\"Persoonskenmerken=%{y}<br>Perioden=2018<br>Verplaatsingen_1=%{x}<extra></extra>\",\"legendgroup\":\"Onderwijsniveau: 2 Middelbaar\",\"marker\":{\"color\":\"#00cc96\",\"pattern\":{\"shape\":\"\"}},\"name\":\"Onderwijsniveau: 2 Middelbaar\",\"offsetgroup\":\"Onderwijsniveau: 2 Middelbaar\",\"orientation\":\"h\",\"showlegend\":true,\"textposition\":\"outside\",\"texttemplate\":\"%{x:.2s}\",\"x\":[2234.58],\"xaxis\":\"x\",\"y\":[\"Onderwijsniveau: 2 Middelbaar\"],\"yaxis\":\"y\",\"type\":\"bar\"},{\"alignmentgroup\":\"True\",\"hovertemplate\":\"Persoonskenmerken=%{y}<br>Perioden=2018<br>Verplaatsingen_1=%{x}<extra></extra>\",\"legendgroup\":\"Onderwijsniveau: 3 Hoog\",\"marker\":{\"color\":\"#ab63fa\",\"pattern\":{\"shape\":\"\"}},\"name\":\"Onderwijsniveau: 3 Hoog\",\"offsetgroup\":\"Onderwijsniveau: 3 Hoog\",\"orientation\":\"h\",\"showlegend\":true,\"textposition\":\"outside\",\"texttemplate\":\"%{x:.2s}\",\"x\":[2360.48],\"xaxis\":\"x\",\"y\":[\"Onderwijsniveau: 3 Hoog\"],\"yaxis\":\"y\",\"type\":\"bar\"},{\"alignmentgroup\":\"True\",\"hovertemplate\":\"Persoonskenmerken=%{y}<br>Perioden=2018<br>Verplaatsingen_1=%{x}<extra></extra>\",\"legendgroup\":\"Participatie:  arbeidsongeschikt\",\"marker\":{\"color\":\"#FFA15A\",\"pattern\":{\"shape\":\"\"}},\"name\":\"Participatie:  arbeidsongeschikt\",\"offsetgroup\":\"Participatie:  arbeidsongeschikt\",\"orientation\":\"h\",\"showlegend\":true,\"textposition\":\"outside\",\"texttemplate\":\"%{x:.2s}\",\"x\":[851.4],\"xaxis\":\"x\",\"y\":[\"Participatie:  arbeidsongeschikt\"],\"yaxis\":\"y\",\"type\":\"bar\"},{\"alignmentgroup\":\"True\",\"hovertemplate\":\"Persoonskenmerken=%{y}<br>Perioden=2018<br>Verplaatsingen_1=%{x}<extra></extra>\",\"legendgroup\":\"Participatie: anders/overig\",\"marker\":{\"color\":\"#19d3f3\",\"pattern\":{\"shape\":\"\"}},\"name\":\"Participatie: anders/overig\",\"offsetgroup\":\"Participatie: anders/overig\",\"orientation\":\"h\",\"showlegend\":true,\"textposition\":\"outside\",\"texttemplate\":\"%{x:.2s}\",\"x\":[1488.98],\"xaxis\":\"x\",\"y\":[\"Participatie: anders/overig\"],\"yaxis\":\"y\",\"type\":\"bar\"},{\"alignmentgroup\":\"True\",\"hovertemplate\":\"Persoonskenmerken=%{y}<br>Perioden=2018<br>Verplaatsingen_1=%{x}<extra></extra>\",\"legendgroup\":\"Participatie: gepensioneerd/VUT\",\"marker\":{\"color\":\"#FF6692\",\"pattern\":{\"shape\":\"\"}},\"name\":\"Participatie: gepensioneerd/VUT\",\"offsetgroup\":\"Participatie: gepensioneerd/VUT\",\"orientation\":\"h\",\"showlegend\":true,\"textposition\":\"outside\",\"texttemplate\":\"%{x:.2s}\",\"x\":[1521.62],\"xaxis\":\"x\",\"y\":[\"Participatie: gepensioneerd/VUT\"],\"yaxis\":\"y\",\"type\":\"bar\"},{\"alignmentgroup\":\"True\",\"hovertemplate\":\"Persoonskenmerken=%{y}<br>Perioden=2018<br>Verplaatsingen_1=%{x}<extra></extra>\",\"legendgroup\":\"Participatie: werkloos\",\"marker\":{\"color\":\"#B6E880\",\"pattern\":{\"shape\":\"\"}},\"name\":\"Participatie: werkloos\",\"offsetgroup\":\"Participatie: werkloos\",\"orientation\":\"h\",\"showlegend\":true,\"textposition\":\"outside\",\"texttemplate\":\"%{x:.2s}\",\"x\":[678.74],\"xaxis\":\"x\",\"y\":[\"Participatie: werkloos\"],\"yaxis\":\"y\",\"type\":\"bar\"},{\"alignmentgroup\":\"True\",\"hovertemplate\":\"Persoonskenmerken=%{y}<br>Perioden=2018<br>Verplaatsingen_1=%{x}<extra></extra>\",\"legendgroup\":\"Participatie: werkzaam 30 uur pw of meer\",\"marker\":{\"color\":\"#FF97FF\",\"pattern\":{\"shape\":\"\"}},\"name\":\"Participatie: werkzaam 30 uur pw of meer\",\"offsetgroup\":\"Participatie: werkzaam 30 uur pw of meer\",\"orientation\":\"h\",\"showlegend\":true,\"textposition\":\"outside\",\"texttemplate\":\"%{x:.2s}\",\"x\":[2286.1],\"xaxis\":\"x\",\"y\":[\"Participatie: werkzaam 30 uur pw of meer\"],\"yaxis\":\"y\",\"type\":\"bar\"},{\"alignmentgroup\":\"True\",\"hovertemplate\":\"Persoonskenmerken=%{y}<br>Perioden=2018<br>Verplaatsingen_1=%{x}<extra></extra>\",\"legendgroup\":\"Participatie: werkzaam: 12 tot 30 uur pw\",\"marker\":{\"color\":\"#FECB52\",\"pattern\":{\"shape\":\"\"}},\"name\":\"Participatie: werkzaam: 12 tot 30 uur pw\",\"offsetgroup\":\"Participatie: werkzaam: 12 tot 30 uur pw\",\"orientation\":\"h\",\"showlegend\":true,\"textposition\":\"outside\",\"texttemplate\":\"%{x:.2s}\",\"x\":[2098.24],\"xaxis\":\"x\",\"y\":[\"Participatie: werkzaam: 12 tot 30 uur pw\"],\"yaxis\":\"y\",\"type\":\"bar\"},{\"alignmentgroup\":\"True\",\"hovertemplate\":\"Persoonskenmerken=%{y}<br>Perioden=2018<br>Verplaatsingen_1=%{x}<extra></extra>\",\"legendgroup\":\"Participatie:student/scholier\",\"marker\":{\"color\":\"#636efa\",\"pattern\":{\"shape\":\"\"}},\"name\":\"Participatie:student/scholier\",\"offsetgroup\":\"Participatie:student/scholier\",\"orientation\":\"h\",\"showlegend\":true,\"textposition\":\"outside\",\"texttemplate\":\"%{x:.2s}\",\"x\":[2062.83],\"xaxis\":\"x\",\"y\":[\"Participatie:student/scholier\"],\"yaxis\":\"y\",\"type\":\"bar\"},{\"alignmentgroup\":\"True\",\"hovertemplate\":\"Persoonskenmerken=%{y}<br>Perioden=2018<br>Verplaatsingen_1=%{x}<extra></extra>\",\"legendgroup\":\"Rijbewijs, geen personenauto in hh\",\"marker\":{\"color\":\"#EF553B\",\"pattern\":{\"shape\":\"\"}},\"name\":\"Rijbewijs, geen personenauto in hh\",\"offsetgroup\":\"Rijbewijs, geen personenauto in hh\",\"orientation\":\"h\",\"showlegend\":true,\"textposition\":\"outside\",\"texttemplate\":\"%{x:.2s}\",\"x\":[1477.82],\"xaxis\":\"x\",\"y\":[\"Rijbewijs, geen personenauto in hh\"],\"yaxis\":\"y\",\"type\":\"bar\"},{\"alignmentgroup\":\"True\",\"hovertemplate\":\"Persoonskenmerken=%{y}<br>Perioden=2018<br>Verplaatsingen_1=%{x}<extra></extra>\",\"legendgroup\":\"Rijbewijs, personenauto in hh\",\"marker\":{\"color\":\"#00cc96\",\"pattern\":{\"shape\":\"\"}},\"name\":\"Rijbewijs, personenauto in hh\",\"offsetgroup\":\"Rijbewijs, personenauto in hh\",\"orientation\":\"h\",\"showlegend\":true,\"textposition\":\"outside\",\"texttemplate\":\"%{x:.2s}\",\"x\":[2165.82],\"xaxis\":\"x\",\"y\":[\"Rijbewijs, personenauto in hh\"],\"yaxis\":\"y\",\"type\":\"bar\"},{\"alignmentgroup\":\"True\",\"hovertemplate\":\"Persoonskenmerken=%{y}<br>Perioden=2018<br>Verplaatsingen_1=%{x}<extra></extra>\",\"legendgroup\":\"Rijbewijs, personenauto op eigen naam\",\"marker\":{\"color\":\"#ab63fa\",\"pattern\":{\"shape\":\"\"}},\"name\":\"Rijbewijs, personenauto op eigen naam\",\"offsetgroup\":\"Rijbewijs, personenauto op eigen naam\",\"orientation\":\"h\",\"showlegend\":true,\"textposition\":\"outside\",\"texttemplate\":\"%{x:.2s}\",\"x\":[2269.42],\"xaxis\":\"x\",\"y\":[\"Rijbewijs, personenauto op eigen naam\"],\"yaxis\":\"y\",\"type\":\"bar\"}],                        {\"template\":{\"data\":{\"histogram2dcontour\":[{\"type\":\"histogram2dcontour\",\"colorbar\":{\"outlinewidth\":0,\"ticks\":\"\"},\"colorscale\":[[0.0,\"#0d0887\"],[0.1111111111111111,\"#46039f\"],[0.2222222222222222,\"#7201a8\"],[0.3333333333333333,\"#9c179e\"],[0.4444444444444444,\"#bd3786\"],[0.5555555555555556,\"#d8576b\"],[0.6666666666666666,\"#ed7953\"],[0.7777777777777778,\"#fb9f3a\"],[0.8888888888888888,\"#fdca26\"],[1.0,\"#f0f921\"]]}],\"choropleth\":[{\"type\":\"choropleth\",\"colorbar\":{\"outlinewidth\":0,\"ticks\":\"\"}}],\"histogram2d\":[{\"type\":\"histogram2d\",\"colorbar\":{\"outlinewidth\":0,\"ticks\":\"\"},\"colorscale\":[[0.0,\"#0d0887\"],[0.1111111111111111,\"#46039f\"],[0.2222222222222222,\"#7201a8\"],[0.3333333333333333,\"#9c179e\"],[0.4444444444444444,\"#bd3786\"],[0.5555555555555556,\"#d8576b\"],[0.6666666666666666,\"#ed7953\"],[0.7777777777777778,\"#fb9f3a\"],[0.8888888888888888,\"#fdca26\"],[1.0,\"#f0f921\"]]}],\"heatmap\":[{\"type\":\"heatmap\",\"colorbar\":{\"outlinewidth\":0,\"ticks\":\"\"},\"colorscale\":[[0.0,\"#0d0887\"],[0.1111111111111111,\"#46039f\"],[0.2222222222222222,\"#7201a8\"],[0.3333333333333333,\"#9c179e\"],[0.4444444444444444,\"#bd3786\"],[0.5555555555555556,\"#d8576b\"],[0.6666666666666666,\"#ed7953\"],[0.7777777777777778,\"#fb9f3a\"],[0.8888888888888888,\"#fdca26\"],[1.0,\"#f0f921\"]]}],\"heatmapgl\":[{\"type\":\"heatmapgl\",\"colorbar\":{\"outlinewidth\":0,\"ticks\":\"\"},\"colorscale\":[[0.0,\"#0d0887\"],[0.1111111111111111,\"#46039f\"],[0.2222222222222222,\"#7201a8\"],[0.3333333333333333,\"#9c179e\"],[0.4444444444444444,\"#bd3786\"],[0.5555555555555556,\"#d8576b\"],[0.6666666666666666,\"#ed7953\"],[0.7777777777777778,\"#fb9f3a\"],[0.8888888888888888,\"#fdca26\"],[1.0,\"#f0f921\"]]}],\"contourcarpet\":[{\"type\":\"contourcarpet\",\"colorbar\":{\"outlinewidth\":0,\"ticks\":\"\"}}],\"contour\":[{\"type\":\"contour\",\"colorbar\":{\"outlinewidth\":0,\"ticks\":\"\"},\"colorscale\":[[0.0,\"#0d0887\"],[0.1111111111111111,\"#46039f\"],[0.2222222222222222,\"#7201a8\"],[0.3333333333333333,\"#9c179e\"],[0.4444444444444444,\"#bd3786\"],[0.5555555555555556,\"#d8576b\"],[0.6666666666666666,\"#ed7953\"],[0.7777777777777778,\"#fb9f3a\"],[0.8888888888888888,\"#fdca26\"],[1.0,\"#f0f921\"]]}],\"surface\":[{\"type\":\"surface\",\"colorbar\":{\"outlinewidth\":0,\"ticks\":\"\"},\"colorscale\":[[0.0,\"#0d0887\"],[0.1111111111111111,\"#46039f\"],[0.2222222222222222,\"#7201a8\"],[0.3333333333333333,\"#9c179e\"],[0.4444444444444444,\"#bd3786\"],[0.5555555555555556,\"#d8576b\"],[0.6666666666666666,\"#ed7953\"],[0.7777777777777778,\"#fb9f3a\"],[0.8888888888888888,\"#fdca26\"],[1.0,\"#f0f921\"]]}],\"mesh3d\":[{\"type\":\"mesh3d\",\"colorbar\":{\"outlinewidth\":0,\"ticks\":\"\"}}],\"scatter\":[{\"fillpattern\":{\"fillmode\":\"overlay\",\"size\":10,\"solidity\":0.2},\"type\":\"scatter\"}],\"parcoords\":[{\"type\":\"parcoords\",\"line\":{\"colorbar\":{\"outlinewidth\":0,\"ticks\":\"\"}}}],\"scatterpolargl\":[{\"type\":\"scatterpolargl\",\"marker\":{\"colorbar\":{\"outlinewidth\":0,\"ticks\":\"\"}}}],\"bar\":[{\"error_x\":{\"color\":\"#2a3f5f\"},\"error_y\":{\"color\":\"#2a3f5f\"},\"marker\":{\"line\":{\"color\":\"#E5ECF6\",\"width\":0.5},\"pattern\":{\"fillmode\":\"overlay\",\"size\":10,\"solidity\":0.2}},\"type\":\"bar\"}],\"scattergeo\":[{\"type\":\"scattergeo\",\"marker\":{\"colorbar\":{\"outlinewidth\":0,\"ticks\":\"\"}}}],\"scatterpolar\":[{\"type\":\"scatterpolar\",\"marker\":{\"colorbar\":{\"outlinewidth\":0,\"ticks\":\"\"}}}],\"histogram\":[{\"marker\":{\"pattern\":{\"fillmode\":\"overlay\",\"size\":10,\"solidity\":0.2}},\"type\":\"histogram\"}],\"scattergl\":[{\"type\":\"scattergl\",\"marker\":{\"colorbar\":{\"outlinewidth\":0,\"ticks\":\"\"}}}],\"scatter3d\":[{\"type\":\"scatter3d\",\"line\":{\"colorbar\":{\"outlinewidth\":0,\"ticks\":\"\"}},\"marker\":{\"colorbar\":{\"outlinewidth\":0,\"ticks\":\"\"}}}],\"scattermapbox\":[{\"type\":\"scattermapbox\",\"marker\":{\"colorbar\":{\"outlinewidth\":0,\"ticks\":\"\"}}}],\"scatterternary\":[{\"type\":\"scatterternary\",\"marker\":{\"colorbar\":{\"outlinewidth\":0,\"ticks\":\"\"}}}],\"scattercarpet\":[{\"type\":\"scattercarpet\",\"marker\":{\"colorbar\":{\"outlinewidth\":0,\"ticks\":\"\"}}}],\"carpet\":[{\"aaxis\":{\"endlinecolor\":\"#2a3f5f\",\"gridcolor\":\"white\",\"linecolor\":\"white\",\"minorgridcolor\":\"white\",\"startlinecolor\":\"#2a3f5f\"},\"baxis\":{\"endlinecolor\":\"#2a3f5f\",\"gridcolor\":\"white\",\"linecolor\":\"white\",\"minorgridcolor\":\"white\",\"startlinecolor\":\"#2a3f5f\"},\"type\":\"carpet\"}],\"table\":[{\"cells\":{\"fill\":{\"color\":\"#EBF0F8\"},\"line\":{\"color\":\"white\"}},\"header\":{\"fill\":{\"color\":\"#C8D4E3\"},\"line\":{\"color\":\"white\"}},\"type\":\"table\"}],\"barpolar\":[{\"marker\":{\"line\":{\"color\":\"#E5ECF6\",\"width\":0.5},\"pattern\":{\"fillmode\":\"overlay\",\"size\":10,\"solidity\":0.2}},\"type\":\"barpolar\"}],\"pie\":[{\"automargin\":true,\"type\":\"pie\"}]},\"layout\":{\"autotypenumbers\":\"strict\",\"colorway\":[\"#636efa\",\"#EF553B\",\"#00cc96\",\"#ab63fa\",\"#FFA15A\",\"#19d3f3\",\"#FF6692\",\"#B6E880\",\"#FF97FF\",\"#FECB52\"],\"font\":{\"color\":\"#2a3f5f\"},\"hovermode\":\"closest\",\"hoverlabel\":{\"align\":\"left\"},\"paper_bgcolor\":\"white\",\"plot_bgcolor\":\"#E5ECF6\",\"polar\":{\"bgcolor\":\"#E5ECF6\",\"angularaxis\":{\"gridcolor\":\"white\",\"linecolor\":\"white\",\"ticks\":\"\"},\"radialaxis\":{\"gridcolor\":\"white\",\"linecolor\":\"white\",\"ticks\":\"\"}},\"ternary\":{\"bgcolor\":\"#E5ECF6\",\"aaxis\":{\"gridcolor\":\"white\",\"linecolor\":\"white\",\"ticks\":\"\"},\"baxis\":{\"gridcolor\":\"white\",\"linecolor\":\"white\",\"ticks\":\"\"},\"caxis\":{\"gridcolor\":\"white\",\"linecolor\":\"white\",\"ticks\":\"\"}},\"coloraxis\":{\"colorbar\":{\"outlinewidth\":0,\"ticks\":\"\"}},\"colorscale\":{\"sequential\":[[0.0,\"#0d0887\"],[0.1111111111111111,\"#46039f\"],[0.2222222222222222,\"#7201a8\"],[0.3333333333333333,\"#9c179e\"],[0.4444444444444444,\"#bd3786\"],[0.5555555555555556,\"#d8576b\"],[0.6666666666666666,\"#ed7953\"],[0.7777777777777778,\"#fb9f3a\"],[0.8888888888888888,\"#fdca26\"],[1.0,\"#f0f921\"]],\"sequentialminus\":[[0.0,\"#0d0887\"],[0.1111111111111111,\"#46039f\"],[0.2222222222222222,\"#7201a8\"],[0.3333333333333333,\"#9c179e\"],[0.4444444444444444,\"#bd3786\"],[0.5555555555555556,\"#d8576b\"],[0.6666666666666666,\"#ed7953\"],[0.7777777777777778,\"#fb9f3a\"],[0.8888888888888888,\"#fdca26\"],[1.0,\"#f0f921\"]],\"diverging\":[[0,\"#8e0152\"],[0.1,\"#c51b7d\"],[0.2,\"#de77ae\"],[0.3,\"#f1b6da\"],[0.4,\"#fde0ef\"],[0.5,\"#f7f7f7\"],[0.6,\"#e6f5d0\"],[0.7,\"#b8e186\"],[0.8,\"#7fbc41\"],[0.9,\"#4d9221\"],[1,\"#276419\"]]},\"xaxis\":{\"gridcolor\":\"white\",\"linecolor\":\"white\",\"ticks\":\"\",\"title\":{\"standoff\":15},\"zerolinecolor\":\"white\",\"automargin\":true,\"zerolinewidth\":2},\"yaxis\":{\"gridcolor\":\"white\",\"linecolor\":\"white\",\"ticks\":\"\",\"title\":{\"standoff\":15},\"zerolinecolor\":\"white\",\"automargin\":true,\"zerolinewidth\":2},\"scene\":{\"xaxis\":{\"backgroundcolor\":\"#E5ECF6\",\"gridcolor\":\"white\",\"linecolor\":\"white\",\"showbackground\":true,\"ticks\":\"\",\"zerolinecolor\":\"white\",\"gridwidth\":2},\"yaxis\":{\"backgroundcolor\":\"#E5ECF6\",\"gridcolor\":\"white\",\"linecolor\":\"white\",\"showbackground\":true,\"ticks\":\"\",\"zerolinecolor\":\"white\",\"gridwidth\":2},\"zaxis\":{\"backgroundcolor\":\"#E5ECF6\",\"gridcolor\":\"white\",\"linecolor\":\"white\",\"showbackground\":true,\"ticks\":\"\",\"zerolinecolor\":\"white\",\"gridwidth\":2}},\"shapedefaults\":{\"line\":{\"color\":\"#2a3f5f\"}},\"annotationdefaults\":{\"arrowcolor\":\"#2a3f5f\",\"arrowhead\":0,\"arrowwidth\":1},\"geo\":{\"bgcolor\":\"white\",\"landcolor\":\"#E5ECF6\",\"subunitcolor\":\"white\",\"showland\":true,\"showlakes\":true,\"lakecolor\":\"white\"},\"title\":{\"x\":0.05},\"mapbox\":{\"style\":\"light\"}}},\"xaxis\":{\"anchor\":\"y\",\"domain\":[0.0,1.0],\"title\":{\"text\":\"Verplaatsingen_1\"},\"range\":[0,3000]},\"yaxis\":{\"anchor\":\"x\",\"domain\":[0.0,1.0],\"title\":{\"text\":\"Persoonskenmerken\"},\"categoryorder\":\"array\",\"categoryarray\":[\"Rijbewijs, personenauto op eigen naam\",\"Rijbewijs, personenauto in hh\",\"Rijbewijs, geen personenauto in hh\",\"Participatie:student/scholier\",\"Participatie: werkzaam: 12 tot 30 uur pw\",\"Participatie: werkzaam 30 uur pw of meer\",\"Participatie: werkloos\",\"Participatie: gepensioneerd/VUT\",\"Participatie: anders/overig\",\"Participatie:  arbeidsongeschikt\",\"Onderwijsniveau: 3 Hoog\",\"Onderwijsniveau: 2 Middelbaar\",\"Onderwijsniveau: 1 Laag\",\"OV-Studentenkaart: weekendabonnement\",\"OV-Studentenkaart: weekabonnement\",\"OV-Studentenkaart: geen\",\"Migratieachtergrond: westers\",\"Migratieachtergrond: niet-westers\",\"Migratieachtergrond: Nederland\",\"Leeftijd:6 tot 12 jaar\",\"Leeftijd: 75 jaar of ouder\",\"Leeftijd: 65 tot 75 jaar\",\"Leeftijd: 50 tot 65 jaar\",\"Leeftijd: 35 tot 50 jaar\",\"Leeftijd: 25 tot 35 jaar\",\"Leeftijd: 18 tot 25 jaar\",\"Leeftijd: 12 tot 18 jaar\",\"Gestandaardiseerd inkomen: 5e 20%-groep\",\"Gestandaardiseerd inkomen: 4e 20%-groep\",\"Gestandaardiseerd inkomen: 3e 20%-groep\",\"Gestandaardiseerd inkomen: 2e 20%-groep\",\"Gestandaardiseerd inkomen: 1e 20%-groep\",\"Geen rijbewijs; wel 17 jaar of ouder\",\"Geen rijbewijs; jonger dan 17 jaar\"]},\"legend\":{\"title\":{\"text\":\"Persoonskenmerken\"},\"tracegroupgap\":0},\"margin\":{\"t\":60},\"barmode\":\"relative\",\"height\":1000,\"updatemenus\":[{\"buttons\":[{\"args\":[null,{\"frame\":{\"duration\":500,\"redraw\":true},\"mode\":\"immediate\",\"fromcurrent\":true,\"transition\":{\"duration\":500,\"easing\":\"linear\"}}],\"label\":\"&#9654;\",\"method\":\"animate\"},{\"args\":[[null],{\"frame\":{\"duration\":0,\"redraw\":true},\"mode\":\"immediate\",\"fromcurrent\":true,\"transition\":{\"duration\":0,\"easing\":\"linear\"}}],\"label\":\"&#9724;\",\"method\":\"animate\"}],\"direction\":\"left\",\"pad\":{\"r\":10,\"t\":70},\"showactive\":false,\"type\":\"buttons\",\"x\":0.1,\"xanchor\":\"right\",\"y\":0,\"yanchor\":\"top\"}],\"sliders\":[{\"active\":0,\"currentvalue\":{\"prefix\":\"Perioden=\"},\"len\":0.9,\"pad\":{\"b\":10,\"t\":60},\"steps\":[{\"args\":[[\"2018\"],{\"frame\":{\"duration\":0,\"redraw\":true},\"mode\":\"immediate\",\"fromcurrent\":true,\"transition\":{\"duration\":0,\"easing\":\"linear\"}}],\"label\":\"2018\",\"method\":\"animate\"},{\"args\":[[\"2019\"],{\"frame\":{\"duration\":0,\"redraw\":true},\"mode\":\"immediate\",\"fromcurrent\":true,\"transition\":{\"duration\":0,\"easing\":\"linear\"}}],\"label\":\"2019\",\"method\":\"animate\"},{\"args\":[[\"2020\"],{\"frame\":{\"duration\":0,\"redraw\":true},\"mode\":\"immediate\",\"fromcurrent\":true,\"transition\":{\"duration\":0,\"easing\":\"linear\"}}],\"label\":\"2020\",\"method\":\"animate\"},{\"args\":[[\"2021\"],{\"frame\":{\"duration\":0,\"redraw\":true},\"mode\":\"immediate\",\"fromcurrent\":true,\"transition\":{\"duration\":0,\"easing\":\"linear\"}}],\"label\":\"2021\",\"method\":\"animate\"}],\"x\":0.1,\"xanchor\":\"left\",\"y\":0,\"yanchor\":\"top\"}],\"showlegend\":false},                        {\"responsive\": true}                    ).then(function(){\n",
       "                            Plotly.addFrames('3ea13d0a-6565-4f7d-8c87-8be6b28ce8d0', [{\"data\":[{\"alignmentgroup\":\"True\",\"hovertemplate\":\"Persoonskenmerken=%{y}<br>Perioden=2018<br>Verplaatsingen_1=%{x}<extra></extra>\",\"legendgroup\":\"Geen rijbewijs; jonger dan 17 jaar\",\"marker\":{\"color\":\"#636efa\",\"pattern\":{\"shape\":\"\"}},\"name\":\"Geen rijbewijs; jonger dan 17 jaar\",\"offsetgroup\":\"Geen rijbewijs; jonger dan 17 jaar\",\"orientation\":\"h\",\"showlegend\":true,\"textposition\":\"auto\",\"texttemplate\":\"%{x:.2s}\",\"x\":[1999.58],\"xaxis\":\"x\",\"y\":[\"Geen rijbewijs; jonger dan 17 jaar\"],\"yaxis\":\"y\",\"type\":\"bar\"},{\"alignmentgroup\":\"True\",\"hovertemplate\":\"Persoonskenmerken=%{y}<br>Perioden=2018<br>Verplaatsingen_1=%{x}<extra></extra>\",\"legendgroup\":\"Geen rijbewijs; wel 17 jaar of ouder\",\"marker\":{\"color\":\"#EF553B\",\"pattern\":{\"shape\":\"\"}},\"name\":\"Geen rijbewijs; wel 17 jaar of ouder\",\"offsetgroup\":\"Geen rijbewijs; wel 17 jaar of ouder\",\"orientation\":\"h\",\"showlegend\":true,\"textposition\":\"auto\",\"texttemplate\":\"%{x:.2s}\",\"x\":[1378.94],\"xaxis\":\"x\",\"y\":[\"Geen rijbewijs; wel 17 jaar of ouder\"],\"yaxis\":\"y\",\"type\":\"bar\"},{\"alignmentgroup\":\"True\",\"hovertemplate\":\"Persoonskenmerken=%{y}<br>Perioden=2018<br>Verplaatsingen_1=%{x}<extra></extra>\",\"legendgroup\":\"Gestandaardiseerd inkomen: 1e 20%-groep\",\"marker\":{\"color\":\"#00cc96\",\"pattern\":{\"shape\":\"\"}},\"name\":\"Gestandaardiseerd inkomen: 1e 20%-groep\",\"offsetgroup\":\"Gestandaardiseerd inkomen: 1e 20%-groep\",\"orientation\":\"h\",\"showlegend\":true,\"textposition\":\"auto\",\"texttemplate\":\"%{x:.2s}\",\"x\":[1658.56],\"xaxis\":\"x\",\"y\":[\"Gestandaardiseerd inkomen: 1e 20%-groep\"],\"yaxis\":\"y\",\"type\":\"bar\"},{\"alignmentgroup\":\"True\",\"hovertemplate\":\"Persoonskenmerken=%{y}<br>Perioden=2018<br>Verplaatsingen_1=%{x}<extra></extra>\",\"legendgroup\":\"Gestandaardiseerd inkomen: 2e 20%-groep\",\"marker\":{\"color\":\"#ab63fa\",\"pattern\":{\"shape\":\"\"}},\"name\":\"Gestandaardiseerd inkomen: 2e 20%-groep\",\"offsetgroup\":\"Gestandaardiseerd inkomen: 2e 20%-groep\",\"orientation\":\"h\",\"showlegend\":true,\"textposition\":\"auto\",\"texttemplate\":\"%{x:.2s}\",\"x\":[1740.22],\"xaxis\":\"x\",\"y\":[\"Gestandaardiseerd inkomen: 2e 20%-groep\"],\"yaxis\":\"y\",\"type\":\"bar\"},{\"alignmentgroup\":\"True\",\"hovertemplate\":\"Persoonskenmerken=%{y}<br>Perioden=2018<br>Verplaatsingen_1=%{x}<extra></extra>\",\"legendgroup\":\"Gestandaardiseerd inkomen: 3e 20%-groep\",\"marker\":{\"color\":\"#FFA15A\",\"pattern\":{\"shape\":\"\"}},\"name\":\"Gestandaardiseerd inkomen: 3e 20%-groep\",\"offsetgroup\":\"Gestandaardiseerd inkomen: 3e 20%-groep\",\"orientation\":\"h\",\"showlegend\":true,\"textposition\":\"auto\",\"texttemplate\":\"%{x:.2s}\",\"x\":[2089.84],\"xaxis\":\"x\",\"y\":[\"Gestandaardiseerd inkomen: 3e 20%-groep\"],\"yaxis\":\"y\",\"type\":\"bar\"},{\"alignmentgroup\":\"True\",\"hovertemplate\":\"Persoonskenmerken=%{y}<br>Perioden=2018<br>Verplaatsingen_1=%{x}<extra></extra>\",\"legendgroup\":\"Gestandaardiseerd inkomen: 4e 20%-groep\",\"marker\":{\"color\":\"#19d3f3\",\"pattern\":{\"shape\":\"\"}},\"name\":\"Gestandaardiseerd inkomen: 4e 20%-groep\",\"offsetgroup\":\"Gestandaardiseerd inkomen: 4e 20%-groep\",\"orientation\":\"h\",\"showlegend\":true,\"textposition\":\"auto\",\"texttemplate\":\"%{x:.2s}\",\"x\":[2209.82],\"xaxis\":\"x\",\"y\":[\"Gestandaardiseerd inkomen: 4e 20%-groep\"],\"yaxis\":\"y\",\"type\":\"bar\"},{\"alignmentgroup\":\"True\",\"hovertemplate\":\"Persoonskenmerken=%{y}<br>Perioden=2018<br>Verplaatsingen_1=%{x}<extra></extra>\",\"legendgroup\":\"Gestandaardiseerd inkomen: 5e 20%-groep\",\"marker\":{\"color\":\"#FF6692\",\"pattern\":{\"shape\":\"\"}},\"name\":\"Gestandaardiseerd inkomen: 5e 20%-groep\",\"offsetgroup\":\"Gestandaardiseerd inkomen: 5e 20%-groep\",\"orientation\":\"h\",\"showlegend\":true,\"textposition\":\"auto\",\"texttemplate\":\"%{x:.2s}\",\"x\":[2203.75],\"xaxis\":\"x\",\"y\":[\"Gestandaardiseerd inkomen: 5e 20%-groep\"],\"yaxis\":\"y\",\"type\":\"bar\"},{\"alignmentgroup\":\"True\",\"hovertemplate\":\"Persoonskenmerken=%{y}<br>Perioden=2018<br>Verplaatsingen_1=%{x}<extra></extra>\",\"legendgroup\":\"Leeftijd: 12 tot 18 jaar\",\"marker\":{\"color\":\"#B6E880\",\"pattern\":{\"shape\":\"\"}},\"name\":\"Leeftijd: 12 tot 18 jaar\",\"offsetgroup\":\"Leeftijd: 12 tot 18 jaar\",\"orientation\":\"h\",\"showlegend\":true,\"textposition\":\"auto\",\"texttemplate\":\"%{x:.2s}\",\"x\":[1870.52],\"xaxis\":\"x\",\"y\":[\"Leeftijd: 12 tot 18 jaar\"],\"yaxis\":\"y\",\"type\":\"bar\"},{\"alignmentgroup\":\"True\",\"hovertemplate\":\"Persoonskenmerken=%{y}<br>Perioden=2018<br>Verplaatsingen_1=%{x}<extra></extra>\",\"legendgroup\":\"Leeftijd: 18 tot 25 jaar\",\"marker\":{\"color\":\"#FF97FF\",\"pattern\":{\"shape\":\"\"}},\"name\":\"Leeftijd: 18 tot 25 jaar\",\"offsetgroup\":\"Leeftijd: 18 tot 25 jaar\",\"orientation\":\"h\",\"showlegend\":true,\"textposition\":\"auto\",\"texttemplate\":\"%{x:.2s}\",\"x\":[1750.16],\"xaxis\":\"x\",\"y\":[\"Leeftijd: 18 tot 25 jaar\"],\"yaxis\":\"y\",\"type\":\"bar\"},{\"alignmentgroup\":\"True\",\"hovertemplate\":\"Persoonskenmerken=%{y}<br>Perioden=2018<br>Verplaatsingen_1=%{x}<extra></extra>\",\"legendgroup\":\"Leeftijd: 25 tot 35 jaar\",\"marker\":{\"color\":\"#FECB52\",\"pattern\":{\"shape\":\"\"}},\"name\":\"Leeftijd: 25 tot 35 jaar\",\"offsetgroup\":\"Leeftijd: 25 tot 35 jaar\",\"orientation\":\"h\",\"showlegend\":true,\"textposition\":\"auto\",\"texttemplate\":\"%{x:.2s}\",\"x\":[2142.74],\"xaxis\":\"x\",\"y\":[\"Leeftijd: 25 tot 35 jaar\"],\"yaxis\":\"y\",\"type\":\"bar\"},{\"alignmentgroup\":\"True\",\"hovertemplate\":\"Persoonskenmerken=%{y}<br>Perioden=2018<br>Verplaatsingen_1=%{x}<extra></extra>\",\"legendgroup\":\"Leeftijd: 35 tot 50 jaar\",\"marker\":{\"color\":\"#636efa\",\"pattern\":{\"shape\":\"\"}},\"name\":\"Leeftijd: 35 tot 50 jaar\",\"offsetgroup\":\"Leeftijd: 35 tot 50 jaar\",\"orientation\":\"h\",\"showlegend\":true,\"textposition\":\"auto\",\"texttemplate\":\"%{x:.2s}\",\"x\":[2373.44],\"xaxis\":\"x\",\"y\":[\"Leeftijd: 35 tot 50 jaar\"],\"yaxis\":\"y\",\"type\":\"bar\"},{\"alignmentgroup\":\"True\",\"hovertemplate\":\"Persoonskenmerken=%{y}<br>Perioden=2018<br>Verplaatsingen_1=%{x}<extra></extra>\",\"legendgroup\":\"Leeftijd: 50 tot 65 jaar\",\"marker\":{\"color\":\"#EF553B\",\"pattern\":{\"shape\":\"\"}},\"name\":\"Leeftijd: 50 tot 65 jaar\",\"offsetgroup\":\"Leeftijd: 50 tot 65 jaar\",\"orientation\":\"h\",\"showlegend\":true,\"textposition\":\"auto\",\"texttemplate\":\"%{x:.2s}\",\"x\":[2067.32],\"xaxis\":\"x\",\"y\":[\"Leeftijd: 50 tot 65 jaar\"],\"yaxis\":\"y\",\"type\":\"bar\"},{\"alignmentgroup\":\"True\",\"hovertemplate\":\"Persoonskenmerken=%{y}<br>Perioden=2018<br>Verplaatsingen_1=%{x}<extra></extra>\",\"legendgroup\":\"Leeftijd: 65 tot 75 jaar\",\"marker\":{\"color\":\"#00cc96\",\"pattern\":{\"shape\":\"\"}},\"name\":\"Leeftijd: 65 tot 75 jaar\",\"offsetgroup\":\"Leeftijd: 65 tot 75 jaar\",\"orientation\":\"h\",\"showlegend\":true,\"textposition\":\"auto\",\"texttemplate\":\"%{x:.2s}\",\"x\":[1579.2],\"xaxis\":\"x\",\"y\":[\"Leeftijd: 65 tot 75 jaar\"],\"yaxis\":\"y\",\"type\":\"bar\"},{\"alignmentgroup\":\"True\",\"hovertemplate\":\"Persoonskenmerken=%{y}<br>Perioden=2018<br>Verplaatsingen_1=%{x}<extra></extra>\",\"legendgroup\":\"Leeftijd: 75 jaar of ouder\",\"marker\":{\"color\":\"#ab63fa\",\"pattern\":{\"shape\":\"\"}},\"name\":\"Leeftijd: 75 jaar of ouder\",\"offsetgroup\":\"Leeftijd: 75 jaar of ouder\",\"orientation\":\"h\",\"showlegend\":true,\"textposition\":\"auto\",\"texttemplate\":\"%{x:.2s}\",\"x\":[976.18],\"xaxis\":\"x\",\"y\":[\"Leeftijd: 75 jaar of ouder\"],\"yaxis\":\"y\",\"type\":\"bar\"},{\"alignmentgroup\":\"True\",\"hovertemplate\":\"Persoonskenmerken=%{y}<br>Perioden=2018<br>Verplaatsingen_1=%{x}<extra></extra>\",\"legendgroup\":\"Leeftijd:6 tot 12 jaar\",\"marker\":{\"color\":\"#FFA15A\",\"pattern\":{\"shape\":\"\"}},\"name\":\"Leeftijd:6 tot 12 jaar\",\"offsetgroup\":\"Leeftijd:6 tot 12 jaar\",\"orientation\":\"h\",\"showlegend\":true,\"textposition\":\"auto\",\"texttemplate\":\"%{x:.2s}\",\"x\":[1107.8],\"xaxis\":\"x\",\"y\":[\"Leeftijd:6 tot 12 jaar\"],\"yaxis\":\"y\",\"type\":\"bar\"},{\"alignmentgroup\":\"True\",\"hovertemplate\":\"Persoonskenmerken=%{y}<br>Perioden=2018<br>Verplaatsingen_1=%{x}<extra></extra>\",\"legendgroup\":\"Migratieachtergrond: Nederland\",\"marker\":{\"color\":\"#19d3f3\",\"pattern\":{\"shape\":\"\"}},\"name\":\"Migratieachtergrond: Nederland\",\"offsetgroup\":\"Migratieachtergrond: Nederland\",\"orientation\":\"h\",\"showlegend\":true,\"textposition\":\"auto\",\"texttemplate\":\"%{x:.2s}\",\"x\":[2259.69],\"xaxis\":\"x\",\"y\":[\"Migratieachtergrond: Nederland\"],\"yaxis\":\"y\",\"type\":\"bar\"},{\"alignmentgroup\":\"True\",\"hovertemplate\":\"Persoonskenmerken=%{y}<br>Perioden=2018<br>Verplaatsingen_1=%{x}<extra></extra>\",\"legendgroup\":\"Migratieachtergrond: niet-westers\",\"marker\":{\"color\":\"#FF6692\",\"pattern\":{\"shape\":\"\"}},\"name\":\"Migratieachtergrond: niet-westers\",\"offsetgroup\":\"Migratieachtergrond: niet-westers\",\"orientation\":\"h\",\"showlegend\":true,\"textposition\":\"auto\",\"texttemplate\":\"%{x:.2s}\",\"x\":[1165.99],\"xaxis\":\"x\",\"y\":[\"Migratieachtergrond: niet-westers\"],\"yaxis\":\"y\",\"type\":\"bar\"},{\"alignmentgroup\":\"True\",\"hovertemplate\":\"Persoonskenmerken=%{y}<br>Perioden=2018<br>Verplaatsingen_1=%{x}<extra></extra>\",\"legendgroup\":\"Migratieachtergrond: westers\",\"marker\":{\"color\":\"#B6E880\",\"pattern\":{\"shape\":\"\"}},\"name\":\"Migratieachtergrond: westers\",\"offsetgroup\":\"Migratieachtergrond: westers\",\"orientation\":\"h\",\"showlegend\":true,\"textposition\":\"auto\",\"texttemplate\":\"%{x:.2s}\",\"x\":[1534.01],\"xaxis\":\"x\",\"y\":[\"Migratieachtergrond: westers\"],\"yaxis\":\"y\",\"type\":\"bar\"},{\"alignmentgroup\":\"True\",\"hovertemplate\":\"Persoonskenmerken=%{y}<br>Perioden=2018<br>Verplaatsingen_1=%{x}<extra></extra>\",\"legendgroup\":\"OV-Studentenkaart: geen\",\"marker\":{\"color\":\"#FF97FF\",\"pattern\":{\"shape\":\"\"}},\"name\":\"OV-Studentenkaart: geen\",\"offsetgroup\":\"OV-Studentenkaart: geen\",\"orientation\":\"h\",\"showlegend\":true,\"textposition\":\"auto\",\"texttemplate\":\"%{x:.2s}\",\"x\":[2175.46],\"xaxis\":\"x\",\"y\":[\"OV-Studentenkaart: geen\"],\"yaxis\":\"y\",\"type\":\"bar\"},{\"alignmentgroup\":\"True\",\"hovertemplate\":\"Persoonskenmerken=%{y}<br>Perioden=2018<br>Verplaatsingen_1=%{x}<extra></extra>\",\"legendgroup\":\"OV-Studentenkaart: weekabonnement\",\"marker\":{\"color\":\"#FECB52\",\"pattern\":{\"shape\":\"\"}},\"name\":\"OV-Studentenkaart: weekabonnement\",\"offsetgroup\":\"OV-Studentenkaart: weekabonnement\",\"orientation\":\"h\",\"showlegend\":true,\"textposition\":\"auto\",\"texttemplate\":\"%{x:.2s}\",\"x\":[1542.14],\"xaxis\":\"x\",\"y\":[\"OV-Studentenkaart: weekabonnement\"],\"yaxis\":\"y\",\"type\":\"bar\"},{\"alignmentgroup\":\"True\",\"hovertemplate\":\"Persoonskenmerken=%{y}<br>Perioden=2018<br>Verplaatsingen_1=%{x}<extra></extra>\",\"legendgroup\":\"OV-Studentenkaart: weekendabonnement\",\"marker\":{\"color\":\"#636efa\",\"pattern\":{\"shape\":\"\"}},\"name\":\"OV-Studentenkaart: weekendabonnement\",\"offsetgroup\":\"OV-Studentenkaart: weekendabonnement\",\"orientation\":\"h\",\"showlegend\":true,\"textposition\":\"auto\",\"texttemplate\":\"%{x:.2s}\",\"x\":[322.92],\"xaxis\":\"x\",\"y\":[\"OV-Studentenkaart: weekendabonnement\"],\"yaxis\":\"y\",\"type\":\"bar\"},{\"alignmentgroup\":\"True\",\"hovertemplate\":\"Persoonskenmerken=%{y}<br>Perioden=2018<br>Verplaatsingen_1=%{x}<extra></extra>\",\"legendgroup\":\"Onderwijsniveau: 1 Laag\",\"marker\":{\"color\":\"#EF553B\",\"pattern\":{\"shape\":\"\"}},\"name\":\"Onderwijsniveau: 1 Laag\",\"offsetgroup\":\"Onderwijsniveau: 1 Laag\",\"orientation\":\"h\",\"showlegend\":true,\"textposition\":\"auto\",\"texttemplate\":\"%{x:.2s}\",\"x\":[1621.78],\"xaxis\":\"x\",\"y\":[\"Onderwijsniveau: 1 Laag\"],\"yaxis\":\"y\",\"type\":\"bar\"},{\"alignmentgroup\":\"True\",\"hovertemplate\":\"Persoonskenmerken=%{y}<br>Perioden=2018<br>Verplaatsingen_1=%{x}<extra></extra>\",\"legendgroup\":\"Onderwijsniveau: 2 Middelbaar\",\"marker\":{\"color\":\"#00cc96\",\"pattern\":{\"shape\":\"\"}},\"name\":\"Onderwijsniveau: 2 Middelbaar\",\"offsetgroup\":\"Onderwijsniveau: 2 Middelbaar\",\"orientation\":\"h\",\"showlegend\":true,\"textposition\":\"auto\",\"texttemplate\":\"%{x:.2s}\",\"x\":[2234.58],\"xaxis\":\"x\",\"y\":[\"Onderwijsniveau: 2 Middelbaar\"],\"yaxis\":\"y\",\"type\":\"bar\"},{\"alignmentgroup\":\"True\",\"hovertemplate\":\"Persoonskenmerken=%{y}<br>Perioden=2018<br>Verplaatsingen_1=%{x}<extra></extra>\",\"legendgroup\":\"Onderwijsniveau: 3 Hoog\",\"marker\":{\"color\":\"#ab63fa\",\"pattern\":{\"shape\":\"\"}},\"name\":\"Onderwijsniveau: 3 Hoog\",\"offsetgroup\":\"Onderwijsniveau: 3 Hoog\",\"orientation\":\"h\",\"showlegend\":true,\"textposition\":\"auto\",\"texttemplate\":\"%{x:.2s}\",\"x\":[2360.48],\"xaxis\":\"x\",\"y\":[\"Onderwijsniveau: 3 Hoog\"],\"yaxis\":\"y\",\"type\":\"bar\"},{\"alignmentgroup\":\"True\",\"hovertemplate\":\"Persoonskenmerken=%{y}<br>Perioden=2018<br>Verplaatsingen_1=%{x}<extra></extra>\",\"legendgroup\":\"Participatie:  arbeidsongeschikt\",\"marker\":{\"color\":\"#FFA15A\",\"pattern\":{\"shape\":\"\"}},\"name\":\"Participatie:  arbeidsongeschikt\",\"offsetgroup\":\"Participatie:  arbeidsongeschikt\",\"orientation\":\"h\",\"showlegend\":true,\"textposition\":\"auto\",\"texttemplate\":\"%{x:.2s}\",\"x\":[851.4],\"xaxis\":\"x\",\"y\":[\"Participatie:  arbeidsongeschikt\"],\"yaxis\":\"y\",\"type\":\"bar\"},{\"alignmentgroup\":\"True\",\"hovertemplate\":\"Persoonskenmerken=%{y}<br>Perioden=2018<br>Verplaatsingen_1=%{x}<extra></extra>\",\"legendgroup\":\"Participatie: anders/overig\",\"marker\":{\"color\":\"#19d3f3\",\"pattern\":{\"shape\":\"\"}},\"name\":\"Participatie: anders/overig\",\"offsetgroup\":\"Participatie: anders/overig\",\"orientation\":\"h\",\"showlegend\":true,\"textposition\":\"auto\",\"texttemplate\":\"%{x:.2s}\",\"x\":[1488.98],\"xaxis\":\"x\",\"y\":[\"Participatie: anders/overig\"],\"yaxis\":\"y\",\"type\":\"bar\"},{\"alignmentgroup\":\"True\",\"hovertemplate\":\"Persoonskenmerken=%{y}<br>Perioden=2018<br>Verplaatsingen_1=%{x}<extra></extra>\",\"legendgroup\":\"Participatie: gepensioneerd/VUT\",\"marker\":{\"color\":\"#FF6692\",\"pattern\":{\"shape\":\"\"}},\"name\":\"Participatie: gepensioneerd/VUT\",\"offsetgroup\":\"Participatie: gepensioneerd/VUT\",\"orientation\":\"h\",\"showlegend\":true,\"textposition\":\"auto\",\"texttemplate\":\"%{x:.2s}\",\"x\":[1521.62],\"xaxis\":\"x\",\"y\":[\"Participatie: gepensioneerd/VUT\"],\"yaxis\":\"y\",\"type\":\"bar\"},{\"alignmentgroup\":\"True\",\"hovertemplate\":\"Persoonskenmerken=%{y}<br>Perioden=2018<br>Verplaatsingen_1=%{x}<extra></extra>\",\"legendgroup\":\"Participatie: werkloos\",\"marker\":{\"color\":\"#B6E880\",\"pattern\":{\"shape\":\"\"}},\"name\":\"Participatie: werkloos\",\"offsetgroup\":\"Participatie: werkloos\",\"orientation\":\"h\",\"showlegend\":true,\"textposition\":\"auto\",\"texttemplate\":\"%{x:.2s}\",\"x\":[678.74],\"xaxis\":\"x\",\"y\":[\"Participatie: werkloos\"],\"yaxis\":\"y\",\"type\":\"bar\"},{\"alignmentgroup\":\"True\",\"hovertemplate\":\"Persoonskenmerken=%{y}<br>Perioden=2018<br>Verplaatsingen_1=%{x}<extra></extra>\",\"legendgroup\":\"Participatie: werkzaam 30 uur pw of meer\",\"marker\":{\"color\":\"#FF97FF\",\"pattern\":{\"shape\":\"\"}},\"name\":\"Participatie: werkzaam 30 uur pw of meer\",\"offsetgroup\":\"Participatie: werkzaam 30 uur pw of meer\",\"orientation\":\"h\",\"showlegend\":true,\"textposition\":\"auto\",\"texttemplate\":\"%{x:.2s}\",\"x\":[2286.1],\"xaxis\":\"x\",\"y\":[\"Participatie: werkzaam 30 uur pw of meer\"],\"yaxis\":\"y\",\"type\":\"bar\"},{\"alignmentgroup\":\"True\",\"hovertemplate\":\"Persoonskenmerken=%{y}<br>Perioden=2018<br>Verplaatsingen_1=%{x}<extra></extra>\",\"legendgroup\":\"Participatie: werkzaam: 12 tot 30 uur pw\",\"marker\":{\"color\":\"#FECB52\",\"pattern\":{\"shape\":\"\"}},\"name\":\"Participatie: werkzaam: 12 tot 30 uur pw\",\"offsetgroup\":\"Participatie: werkzaam: 12 tot 30 uur pw\",\"orientation\":\"h\",\"showlegend\":true,\"textposition\":\"auto\",\"texttemplate\":\"%{x:.2s}\",\"x\":[2098.24],\"xaxis\":\"x\",\"y\":[\"Participatie: werkzaam: 12 tot 30 uur pw\"],\"yaxis\":\"y\",\"type\":\"bar\"},{\"alignmentgroup\":\"True\",\"hovertemplate\":\"Persoonskenmerken=%{y}<br>Perioden=2018<br>Verplaatsingen_1=%{x}<extra></extra>\",\"legendgroup\":\"Participatie:student/scholier\",\"marker\":{\"color\":\"#636efa\",\"pattern\":{\"shape\":\"\"}},\"name\":\"Participatie:student/scholier\",\"offsetgroup\":\"Participatie:student/scholier\",\"orientation\":\"h\",\"showlegend\":true,\"textposition\":\"auto\",\"texttemplate\":\"%{x:.2s}\",\"x\":[2062.83],\"xaxis\":\"x\",\"y\":[\"Participatie:student/scholier\"],\"yaxis\":\"y\",\"type\":\"bar\"},{\"alignmentgroup\":\"True\",\"hovertemplate\":\"Persoonskenmerken=%{y}<br>Perioden=2018<br>Verplaatsingen_1=%{x}<extra></extra>\",\"legendgroup\":\"Rijbewijs, geen personenauto in hh\",\"marker\":{\"color\":\"#EF553B\",\"pattern\":{\"shape\":\"\"}},\"name\":\"Rijbewijs, geen personenauto in hh\",\"offsetgroup\":\"Rijbewijs, geen personenauto in hh\",\"orientation\":\"h\",\"showlegend\":true,\"textposition\":\"auto\",\"texttemplate\":\"%{x:.2s}\",\"x\":[1477.82],\"xaxis\":\"x\",\"y\":[\"Rijbewijs, geen personenauto in hh\"],\"yaxis\":\"y\",\"type\":\"bar\"},{\"alignmentgroup\":\"True\",\"hovertemplate\":\"Persoonskenmerken=%{y}<br>Perioden=2018<br>Verplaatsingen_1=%{x}<extra></extra>\",\"legendgroup\":\"Rijbewijs, personenauto in hh\",\"marker\":{\"color\":\"#00cc96\",\"pattern\":{\"shape\":\"\"}},\"name\":\"Rijbewijs, personenauto in hh\",\"offsetgroup\":\"Rijbewijs, personenauto in hh\",\"orientation\":\"h\",\"showlegend\":true,\"textposition\":\"auto\",\"texttemplate\":\"%{x:.2s}\",\"x\":[2165.82],\"xaxis\":\"x\",\"y\":[\"Rijbewijs, personenauto in hh\"],\"yaxis\":\"y\",\"type\":\"bar\"},{\"alignmentgroup\":\"True\",\"hovertemplate\":\"Persoonskenmerken=%{y}<br>Perioden=2018<br>Verplaatsingen_1=%{x}<extra></extra>\",\"legendgroup\":\"Rijbewijs, personenauto op eigen naam\",\"marker\":{\"color\":\"#ab63fa\",\"pattern\":{\"shape\":\"\"}},\"name\":\"Rijbewijs, personenauto op eigen naam\",\"offsetgroup\":\"Rijbewijs, personenauto op eigen naam\",\"orientation\":\"h\",\"showlegend\":true,\"textposition\":\"auto\",\"texttemplate\":\"%{x:.2s}\",\"x\":[2269.42],\"xaxis\":\"x\",\"y\":[\"Rijbewijs, personenauto op eigen naam\"],\"yaxis\":\"y\",\"type\":\"bar\"}],\"name\":\"2018\"},{\"data\":[{\"alignmentgroup\":\"True\",\"hovertemplate\":\"Persoonskenmerken=%{y}<br>Perioden=2019<br>Verplaatsingen_1=%{x}<extra></extra>\",\"legendgroup\":\"Geen rijbewijs; jonger dan 17 jaar\",\"marker\":{\"color\":\"#636efa\",\"pattern\":{\"shape\":\"\"}},\"name\":\"Geen rijbewijs; jonger dan 17 jaar\",\"offsetgroup\":\"Geen rijbewijs; jonger dan 17 jaar\",\"orientation\":\"h\",\"showlegend\":true,\"textposition\":\"auto\",\"texttemplate\":\"%{x:.2s}\",\"x\":[1791.79],\"xaxis\":\"x\",\"y\":[\"Geen rijbewijs; jonger dan 17 jaar\"],\"yaxis\":\"y\",\"type\":\"bar\"},{\"alignmentgroup\":\"True\",\"hovertemplate\":\"Persoonskenmerken=%{y}<br>Perioden=2019<br>Verplaatsingen_1=%{x}<extra></extra>\",\"legendgroup\":\"Geen rijbewijs; wel 17 jaar of ouder\",\"marker\":{\"color\":\"#EF553B\",\"pattern\":{\"shape\":\"\"}},\"name\":\"Geen rijbewijs; wel 17 jaar of ouder\",\"offsetgroup\":\"Geen rijbewijs; wel 17 jaar of ouder\",\"orientation\":\"h\",\"showlegend\":true,\"textposition\":\"auto\",\"texttemplate\":\"%{x:.2s}\",\"x\":[1217.8],\"xaxis\":\"x\",\"y\":[\"Geen rijbewijs; wel 17 jaar of ouder\"],\"yaxis\":\"y\",\"type\":\"bar\"},{\"alignmentgroup\":\"True\",\"hovertemplate\":\"Persoonskenmerken=%{y}<br>Perioden=2019<br>Verplaatsingen_1=%{x}<extra></extra>\",\"legendgroup\":\"Gestandaardiseerd inkomen: 1e 20%-groep\",\"marker\":{\"color\":\"#00cc96\",\"pattern\":{\"shape\":\"\"}},\"name\":\"Gestandaardiseerd inkomen: 1e 20%-groep\",\"offsetgroup\":\"Gestandaardiseerd inkomen: 1e 20%-groep\",\"orientation\":\"h\",\"showlegend\":true,\"textposition\":\"auto\",\"texttemplate\":\"%{x:.2s}\",\"x\":[1423.83],\"xaxis\":\"x\",\"y\":[\"Gestandaardiseerd inkomen: 1e 20%-groep\"],\"yaxis\":\"y\",\"type\":\"bar\"},{\"alignmentgroup\":\"True\",\"hovertemplate\":\"Persoonskenmerken=%{y}<br>Perioden=2019<br>Verplaatsingen_1=%{x}<extra></extra>\",\"legendgroup\":\"Gestandaardiseerd inkomen: 2e 20%-groep\",\"marker\":{\"color\":\"#ab63fa\",\"pattern\":{\"shape\":\"\"}},\"name\":\"Gestandaardiseerd inkomen: 2e 20%-groep\",\"offsetgroup\":\"Gestandaardiseerd inkomen: 2e 20%-groep\",\"orientation\":\"h\",\"showlegend\":true,\"textposition\":\"auto\",\"texttemplate\":\"%{x:.2s}\",\"x\":[1646.72],\"xaxis\":\"x\",\"y\":[\"Gestandaardiseerd inkomen: 2e 20%-groep\"],\"yaxis\":\"y\",\"type\":\"bar\"},{\"alignmentgroup\":\"True\",\"hovertemplate\":\"Persoonskenmerken=%{y}<br>Perioden=2019<br>Verplaatsingen_1=%{x}<extra></extra>\",\"legendgroup\":\"Gestandaardiseerd inkomen: 3e 20%-groep\",\"marker\":{\"color\":\"#FFA15A\",\"pattern\":{\"shape\":\"\"}},\"name\":\"Gestandaardiseerd inkomen: 3e 20%-groep\",\"offsetgroup\":\"Gestandaardiseerd inkomen: 3e 20%-groep\",\"orientation\":\"h\",\"showlegend\":true,\"textposition\":\"auto\",\"texttemplate\":\"%{x:.2s}\",\"x\":[1967.63],\"xaxis\":\"x\",\"y\":[\"Gestandaardiseerd inkomen: 3e 20%-groep\"],\"yaxis\":\"y\",\"type\":\"bar\"},{\"alignmentgroup\":\"True\",\"hovertemplate\":\"Persoonskenmerken=%{y}<br>Perioden=2019<br>Verplaatsingen_1=%{x}<extra></extra>\",\"legendgroup\":\"Gestandaardiseerd inkomen: 4e 20%-groep\",\"marker\":{\"color\":\"#19d3f3\",\"pattern\":{\"shape\":\"\"}},\"name\":\"Gestandaardiseerd inkomen: 4e 20%-groep\",\"offsetgroup\":\"Gestandaardiseerd inkomen: 4e 20%-groep\",\"orientation\":\"h\",\"showlegend\":true,\"textposition\":\"auto\",\"texttemplate\":\"%{x:.2s}\",\"x\":[2118.6],\"xaxis\":\"x\",\"y\":[\"Gestandaardiseerd inkomen: 4e 20%-groep\"],\"yaxis\":\"y\",\"type\":\"bar\"},{\"alignmentgroup\":\"True\",\"hovertemplate\":\"Persoonskenmerken=%{y}<br>Perioden=2019<br>Verplaatsingen_1=%{x}<extra></extra>\",\"legendgroup\":\"Gestandaardiseerd inkomen: 5e 20%-groep\",\"marker\":{\"color\":\"#FF6692\",\"pattern\":{\"shape\":\"\"}},\"name\":\"Gestandaardiseerd inkomen: 5e 20%-groep\",\"offsetgroup\":\"Gestandaardiseerd inkomen: 5e 20%-groep\",\"orientation\":\"h\",\"showlegend\":true,\"textposition\":\"auto\",\"texttemplate\":\"%{x:.2s}\",\"x\":[2097.89],\"xaxis\":\"x\",\"y\":[\"Gestandaardiseerd inkomen: 5e 20%-groep\"],\"yaxis\":\"y\",\"type\":\"bar\"},{\"alignmentgroup\":\"True\",\"hovertemplate\":\"Persoonskenmerken=%{y}<br>Perioden=2019<br>Verplaatsingen_1=%{x}<extra></extra>\",\"legendgroup\":\"Leeftijd: 12 tot 18 jaar\",\"marker\":{\"color\":\"#B6E880\",\"pattern\":{\"shape\":\"\"}},\"name\":\"Leeftijd: 12 tot 18 jaar\",\"offsetgroup\":\"Leeftijd: 12 tot 18 jaar\",\"orientation\":\"h\",\"showlegend\":true,\"textposition\":\"auto\",\"texttemplate\":\"%{x:.2s}\",\"x\":[1569.22],\"xaxis\":\"x\",\"y\":[\"Leeftijd: 12 tot 18 jaar\"],\"yaxis\":\"y\",\"type\":\"bar\"},{\"alignmentgroup\":\"True\",\"hovertemplate\":\"Persoonskenmerken=%{y}<br>Perioden=2019<br>Verplaatsingen_1=%{x}<extra></extra>\",\"legendgroup\":\"Leeftijd: 18 tot 25 jaar\",\"marker\":{\"color\":\"#FF97FF\",\"pattern\":{\"shape\":\"\"}},\"name\":\"Leeftijd: 18 tot 25 jaar\",\"offsetgroup\":\"Leeftijd: 18 tot 25 jaar\",\"orientation\":\"h\",\"showlegend\":true,\"textposition\":\"auto\",\"texttemplate\":\"%{x:.2s}\",\"x\":[1592.04],\"xaxis\":\"x\",\"y\":[\"Leeftijd: 18 tot 25 jaar\"],\"yaxis\":\"y\",\"type\":\"bar\"},{\"alignmentgroup\":\"True\",\"hovertemplate\":\"Persoonskenmerken=%{y}<br>Perioden=2019<br>Verplaatsingen_1=%{x}<extra></extra>\",\"legendgroup\":\"Leeftijd: 25 tot 35 jaar\",\"marker\":{\"color\":\"#FECB52\",\"pattern\":{\"shape\":\"\"}},\"name\":\"Leeftijd: 25 tot 35 jaar\",\"offsetgroup\":\"Leeftijd: 25 tot 35 jaar\",\"orientation\":\"h\",\"showlegend\":true,\"textposition\":\"auto\",\"texttemplate\":\"%{x:.2s}\",\"x\":[1942.6200000000001],\"xaxis\":\"x\",\"y\":[\"Leeftijd: 25 tot 35 jaar\"],\"yaxis\":\"y\",\"type\":\"bar\"},{\"alignmentgroup\":\"True\",\"hovertemplate\":\"Persoonskenmerken=%{y}<br>Perioden=2019<br>Verplaatsingen_1=%{x}<extra></extra>\",\"legendgroup\":\"Leeftijd: 35 tot 50 jaar\",\"marker\":{\"color\":\"#636efa\",\"pattern\":{\"shape\":\"\"}},\"name\":\"Leeftijd: 35 tot 50 jaar\",\"offsetgroup\":\"Leeftijd: 35 tot 50 jaar\",\"orientation\":\"h\",\"showlegend\":true,\"textposition\":\"auto\",\"texttemplate\":\"%{x:.2s}\",\"x\":[2316.3],\"xaxis\":\"x\",\"y\":[\"Leeftijd: 35 tot 50 jaar\"],\"yaxis\":\"y\",\"type\":\"bar\"},{\"alignmentgroup\":\"True\",\"hovertemplate\":\"Persoonskenmerken=%{y}<br>Perioden=2019<br>Verplaatsingen_1=%{x}<extra></extra>\",\"legendgroup\":\"Leeftijd: 50 tot 65 jaar\",\"marker\":{\"color\":\"#EF553B\",\"pattern\":{\"shape\":\"\"}},\"name\":\"Leeftijd: 50 tot 65 jaar\",\"offsetgroup\":\"Leeftijd: 50 tot 65 jaar\",\"orientation\":\"h\",\"showlegend\":true,\"textposition\":\"auto\",\"texttemplate\":\"%{x:.2s}\",\"x\":[2013.6200000000001],\"xaxis\":\"x\",\"y\":[\"Leeftijd: 50 tot 65 jaar\"],\"yaxis\":\"y\",\"type\":\"bar\"},{\"alignmentgroup\":\"True\",\"hovertemplate\":\"Persoonskenmerken=%{y}<br>Perioden=2019<br>Verplaatsingen_1=%{x}<extra></extra>\",\"legendgroup\":\"Leeftijd: 65 tot 75 jaar\",\"marker\":{\"color\":\"#00cc96\",\"pattern\":{\"shape\":\"\"}},\"name\":\"Leeftijd: 65 tot 75 jaar\",\"offsetgroup\":\"Leeftijd: 65 tot 75 jaar\",\"orientation\":\"h\",\"showlegend\":true,\"textposition\":\"auto\",\"texttemplate\":\"%{x:.2s}\",\"x\":[1496.9],\"xaxis\":\"x\",\"y\":[\"Leeftijd: 65 tot 75 jaar\"],\"yaxis\":\"y\",\"type\":\"bar\"},{\"alignmentgroup\":\"True\",\"hovertemplate\":\"Persoonskenmerken=%{y}<br>Perioden=2019<br>Verplaatsingen_1=%{x}<extra></extra>\",\"legendgroup\":\"Leeftijd: 75 jaar of ouder\",\"marker\":{\"color\":\"#ab63fa\",\"pattern\":{\"shape\":\"\"}},\"name\":\"Leeftijd: 75 jaar of ouder\",\"offsetgroup\":\"Leeftijd: 75 jaar of ouder\",\"orientation\":\"h\",\"showlegend\":true,\"textposition\":\"auto\",\"texttemplate\":\"%{x:.2s}\",\"x\":[937.58],\"xaxis\":\"x\",\"y\":[\"Leeftijd: 75 jaar of ouder\"],\"yaxis\":\"y\",\"type\":\"bar\"},{\"alignmentgroup\":\"True\",\"hovertemplate\":\"Persoonskenmerken=%{y}<br>Perioden=2019<br>Verplaatsingen_1=%{x}<extra></extra>\",\"legendgroup\":\"Leeftijd:6 tot 12 jaar\",\"marker\":{\"color\":\"#FFA15A\",\"pattern\":{\"shape\":\"\"}},\"name\":\"Leeftijd:6 tot 12 jaar\",\"offsetgroup\":\"Leeftijd:6 tot 12 jaar\",\"orientation\":\"h\",\"showlegend\":true,\"textposition\":\"auto\",\"texttemplate\":\"%{x:.2s}\",\"x\":[970.49],\"xaxis\":\"x\",\"y\":[\"Leeftijd:6 tot 12 jaar\"],\"yaxis\":\"y\",\"type\":\"bar\"},{\"alignmentgroup\":\"True\",\"hovertemplate\":\"Persoonskenmerken=%{y}<br>Perioden=2019<br>Verplaatsingen_1=%{x}<extra></extra>\",\"legendgroup\":\"Migratieachtergrond: Nederland\",\"marker\":{\"color\":\"#19d3f3\",\"pattern\":{\"shape\":\"\"}},\"name\":\"Migratieachtergrond: Nederland\",\"offsetgroup\":\"Migratieachtergrond: Nederland\",\"orientation\":\"h\",\"showlegend\":true,\"textposition\":\"auto\",\"texttemplate\":\"%{x:.2s}\",\"x\":[2206.07],\"xaxis\":\"x\",\"y\":[\"Migratieachtergrond: Nederland\"],\"yaxis\":\"y\",\"type\":\"bar\"},{\"alignmentgroup\":\"True\",\"hovertemplate\":\"Persoonskenmerken=%{y}<br>Perioden=2019<br>Verplaatsingen_1=%{x}<extra></extra>\",\"legendgroup\":\"Migratieachtergrond: niet-westers\",\"marker\":{\"color\":\"#FF6692\",\"pattern\":{\"shape\":\"\"}},\"name\":\"Migratieachtergrond: niet-westers\",\"offsetgroup\":\"Migratieachtergrond: niet-westers\",\"orientation\":\"h\",\"showlegend\":true,\"textposition\":\"auto\",\"texttemplate\":\"%{x:.2s}\",\"x\":[1031.17],\"xaxis\":\"x\",\"y\":[\"Migratieachtergrond: niet-westers\"],\"yaxis\":\"y\",\"type\":\"bar\"},{\"alignmentgroup\":\"True\",\"hovertemplate\":\"Persoonskenmerken=%{y}<br>Perioden=2019<br>Verplaatsingen_1=%{x}<extra></extra>\",\"legendgroup\":\"Migratieachtergrond: westers\",\"marker\":{\"color\":\"#B6E880\",\"pattern\":{\"shape\":\"\"}},\"name\":\"Migratieachtergrond: westers\",\"offsetgroup\":\"Migratieachtergrond: westers\",\"orientation\":\"h\",\"showlegend\":true,\"textposition\":\"auto\",\"texttemplate\":\"%{x:.2s}\",\"x\":[1407.53],\"xaxis\":\"x\",\"y\":[\"Migratieachtergrond: westers\"],\"yaxis\":\"y\",\"type\":\"bar\"},{\"alignmentgroup\":\"True\",\"hovertemplate\":\"Persoonskenmerken=%{y}<br>Perioden=2019<br>Verplaatsingen_1=%{x}<extra></extra>\",\"legendgroup\":\"OV-Studentenkaart: geen\",\"marker\":{\"color\":\"#FF97FF\",\"pattern\":{\"shape\":\"\"}},\"name\":\"OV-Studentenkaart: geen\",\"offsetgroup\":\"OV-Studentenkaart: geen\",\"orientation\":\"h\",\"showlegend\":true,\"textposition\":\"auto\",\"texttemplate\":\"%{x:.2s}\",\"x\":[2120.57],\"xaxis\":\"x\",\"y\":[\"OV-Studentenkaart: geen\"],\"yaxis\":\"y\",\"type\":\"bar\"},{\"alignmentgroup\":\"True\",\"hovertemplate\":\"Persoonskenmerken=%{y}<br>Perioden=2019<br>Verplaatsingen_1=%{x}<extra></extra>\",\"legendgroup\":\"OV-Studentenkaart: weekabonnement\",\"marker\":{\"color\":\"#FECB52\",\"pattern\":{\"shape\":\"\"}},\"name\":\"OV-Studentenkaart: weekabonnement\",\"offsetgroup\":\"OV-Studentenkaart: weekabonnement\",\"orientation\":\"h\",\"showlegend\":true,\"textposition\":\"auto\",\"texttemplate\":\"%{x:.2s}\",\"x\":[1349.82],\"xaxis\":\"x\",\"y\":[\"OV-Studentenkaart: weekabonnement\"],\"yaxis\":\"y\",\"type\":\"bar\"},{\"alignmentgroup\":\"True\",\"hovertemplate\":\"Persoonskenmerken=%{y}<br>Perioden=2019<br>Verplaatsingen_1=%{x}<extra></extra>\",\"legendgroup\":\"OV-Studentenkaart: weekendabonnement\",\"marker\":{\"color\":\"#636efa\",\"pattern\":{\"shape\":\"\"}},\"name\":\"OV-Studentenkaart: weekendabonnement\",\"offsetgroup\":\"OV-Studentenkaart: weekendabonnement\",\"orientation\":\"h\",\"showlegend\":true,\"textposition\":\"auto\",\"texttemplate\":\"%{x:.2s}\",\"x\":[255.44],\"xaxis\":\"x\",\"y\":[\"OV-Studentenkaart: weekendabonnement\"],\"yaxis\":\"y\",\"type\":\"bar\"},{\"alignmentgroup\":\"True\",\"hovertemplate\":\"Persoonskenmerken=%{y}<br>Perioden=2019<br>Verplaatsingen_1=%{x}<extra></extra>\",\"legendgroup\":\"Onderwijsniveau: 1 Laag\",\"marker\":{\"color\":\"#EF553B\",\"pattern\":{\"shape\":\"\"}},\"name\":\"Onderwijsniveau: 1 Laag\",\"offsetgroup\":\"Onderwijsniveau: 1 Laag\",\"orientation\":\"h\",\"showlegend\":true,\"textposition\":\"auto\",\"texttemplate\":\"%{x:.2s}\",\"x\":[1507.52],\"xaxis\":\"x\",\"y\":[\"Onderwijsniveau: 1 Laag\"],\"yaxis\":\"y\",\"type\":\"bar\"},{\"alignmentgroup\":\"True\",\"hovertemplate\":\"Persoonskenmerken=%{y}<br>Perioden=2019<br>Verplaatsingen_1=%{x}<extra></extra>\",\"legendgroup\":\"Onderwijsniveau: 2 Middelbaar\",\"marker\":{\"color\":\"#00cc96\",\"pattern\":{\"shape\":\"\"}},\"name\":\"Onderwijsniveau: 2 Middelbaar\",\"offsetgroup\":\"Onderwijsniveau: 2 Middelbaar\",\"orientation\":\"h\",\"showlegend\":true,\"textposition\":\"auto\",\"texttemplate\":\"%{x:.2s}\",\"x\":[2153.62],\"xaxis\":\"x\",\"y\":[\"Onderwijsniveau: 2 Middelbaar\"],\"yaxis\":\"y\",\"type\":\"bar\"},{\"alignmentgroup\":\"True\",\"hovertemplate\":\"Persoonskenmerken=%{y}<br>Perioden=2019<br>Verplaatsingen_1=%{x}<extra></extra>\",\"legendgroup\":\"Onderwijsniveau: 3 Hoog\",\"marker\":{\"color\":\"#ab63fa\",\"pattern\":{\"shape\":\"\"}},\"name\":\"Onderwijsniveau: 3 Hoog\",\"offsetgroup\":\"Onderwijsniveau: 3 Hoog\",\"orientation\":\"h\",\"showlegend\":true,\"textposition\":\"auto\",\"texttemplate\":\"%{x:.2s}\",\"x\":[2276.08],\"xaxis\":\"x\",\"y\":[\"Onderwijsniveau: 3 Hoog\"],\"yaxis\":\"y\",\"type\":\"bar\"},{\"alignmentgroup\":\"True\",\"hovertemplate\":\"Persoonskenmerken=%{y}<br>Perioden=2019<br>Verplaatsingen_1=%{x}<extra></extra>\",\"legendgroup\":\"Participatie:  arbeidsongeschikt\",\"marker\":{\"color\":\"#FFA15A\",\"pattern\":{\"shape\":\"\"}},\"name\":\"Participatie:  arbeidsongeschikt\",\"offsetgroup\":\"Participatie:  arbeidsongeschikt\",\"orientation\":\"h\",\"showlegend\":true,\"textposition\":\"auto\",\"texttemplate\":\"%{x:.2s}\",\"x\":[716.64],\"xaxis\":\"x\",\"y\":[\"Participatie:  arbeidsongeschikt\"],\"yaxis\":\"y\",\"type\":\"bar\"},{\"alignmentgroup\":\"True\",\"hovertemplate\":\"Persoonskenmerken=%{y}<br>Perioden=2019<br>Verplaatsingen_1=%{x}<extra></extra>\",\"legendgroup\":\"Participatie: anders/overig\",\"marker\":{\"color\":\"#19d3f3\",\"pattern\":{\"shape\":\"\"}},\"name\":\"Participatie: anders/overig\",\"offsetgroup\":\"Participatie: anders/overig\",\"orientation\":\"h\",\"showlegend\":true,\"textposition\":\"auto\",\"texttemplate\":\"%{x:.2s}\",\"x\":[1283.72],\"xaxis\":\"x\",\"y\":[\"Participatie: anders/overig\"],\"yaxis\":\"y\",\"type\":\"bar\"},{\"alignmentgroup\":\"True\",\"hovertemplate\":\"Persoonskenmerken=%{y}<br>Perioden=2019<br>Verplaatsingen_1=%{x}<extra></extra>\",\"legendgroup\":\"Participatie: gepensioneerd/VUT\",\"marker\":{\"color\":\"#FF6692\",\"pattern\":{\"shape\":\"\"}},\"name\":\"Participatie: gepensioneerd/VUT\",\"offsetgroup\":\"Participatie: gepensioneerd/VUT\",\"orientation\":\"h\",\"showlegend\":true,\"textposition\":\"auto\",\"texttemplate\":\"%{x:.2s}\",\"x\":[1449.7],\"xaxis\":\"x\",\"y\":[\"Participatie: gepensioneerd/VUT\"],\"yaxis\":\"y\",\"type\":\"bar\"},{\"alignmentgroup\":\"True\",\"hovertemplate\":\"Persoonskenmerken=%{y}<br>Perioden=2019<br>Verplaatsingen_1=%{x}<extra></extra>\",\"legendgroup\":\"Participatie: werkloos\",\"marker\":{\"color\":\"#B6E880\",\"pattern\":{\"shape\":\"\"}},\"name\":\"Participatie: werkloos\",\"offsetgroup\":\"Participatie: werkloos\",\"orientation\":\"h\",\"showlegend\":true,\"textposition\":\"auto\",\"texttemplate\":\"%{x:.2s}\",\"x\":[526.14],\"xaxis\":\"x\",\"y\":[\"Participatie: werkloos\"],\"yaxis\":\"y\",\"type\":\"bar\"},{\"alignmentgroup\":\"True\",\"hovertemplate\":\"Persoonskenmerken=%{y}<br>Perioden=2019<br>Verplaatsingen_1=%{x}<extra></extra>\",\"legendgroup\":\"Participatie: werkzaam 30 uur pw of meer\",\"marker\":{\"color\":\"#FF97FF\",\"pattern\":{\"shape\":\"\"}},\"name\":\"Participatie: werkzaam 30 uur pw of meer\",\"offsetgroup\":\"Participatie: werkzaam 30 uur pw of meer\",\"orientation\":\"h\",\"showlegend\":true,\"textposition\":\"auto\",\"texttemplate\":\"%{x:.2s}\",\"x\":[2216.6],\"xaxis\":\"x\",\"y\":[\"Participatie: werkzaam 30 uur pw of meer\"],\"yaxis\":\"y\",\"type\":\"bar\"},{\"alignmentgroup\":\"True\",\"hovertemplate\":\"Persoonskenmerken=%{y}<br>Perioden=2019<br>Verplaatsingen_1=%{x}<extra></extra>\",\"legendgroup\":\"Participatie: werkzaam: 12 tot 30 uur pw\",\"marker\":{\"color\":\"#FECB52\",\"pattern\":{\"shape\":\"\"}},\"name\":\"Participatie: werkzaam: 12 tot 30 uur pw\",\"offsetgroup\":\"Participatie: werkzaam: 12 tot 30 uur pw\",\"orientation\":\"h\",\"showlegend\":true,\"textposition\":\"auto\",\"texttemplate\":\"%{x:.2s}\",\"x\":[2041.86],\"xaxis\":\"x\",\"y\":[\"Participatie: werkzaam: 12 tot 30 uur pw\"],\"yaxis\":\"y\",\"type\":\"bar\"},{\"alignmentgroup\":\"True\",\"hovertemplate\":\"Persoonskenmerken=%{y}<br>Perioden=2019<br>Verplaatsingen_1=%{x}<extra></extra>\",\"legendgroup\":\"Participatie:student/scholier\",\"marker\":{\"color\":\"#636efa\",\"pattern\":{\"shape\":\"\"}},\"name\":\"Participatie:student/scholier\",\"offsetgroup\":\"Participatie:student/scholier\",\"orientation\":\"h\",\"showlegend\":true,\"textposition\":\"auto\",\"texttemplate\":\"%{x:.2s}\",\"x\":[1911.22],\"xaxis\":\"x\",\"y\":[\"Participatie:student/scholier\"],\"yaxis\":\"y\",\"type\":\"bar\"},{\"alignmentgroup\":\"True\",\"hovertemplate\":\"Persoonskenmerken=%{y}<br>Perioden=2019<br>Verplaatsingen_1=%{x}<extra></extra>\",\"legendgroup\":\"Rijbewijs, geen personenauto in hh\",\"marker\":{\"color\":\"#EF553B\",\"pattern\":{\"shape\":\"\"}},\"name\":\"Rijbewijs, geen personenauto in hh\",\"offsetgroup\":\"Rijbewijs, geen personenauto in hh\",\"orientation\":\"h\",\"showlegend\":true,\"textposition\":\"auto\",\"texttemplate\":\"%{x:.2s}\",\"x\":[1391.46],\"xaxis\":\"x\",\"y\":[\"Rijbewijs, geen personenauto in hh\"],\"yaxis\":\"y\",\"type\":\"bar\"},{\"alignmentgroup\":\"True\",\"hovertemplate\":\"Persoonskenmerken=%{y}<br>Perioden=2019<br>Verplaatsingen_1=%{x}<extra></extra>\",\"legendgroup\":\"Rijbewijs, personenauto in hh\",\"marker\":{\"color\":\"#00cc96\",\"pattern\":{\"shape\":\"\"}},\"name\":\"Rijbewijs, personenauto in hh\",\"offsetgroup\":\"Rijbewijs, personenauto in hh\",\"orientation\":\"h\",\"showlegend\":true,\"textposition\":\"auto\",\"texttemplate\":\"%{x:.2s}\",\"x\":[2055.96],\"xaxis\":\"x\",\"y\":[\"Rijbewijs, personenauto in hh\"],\"yaxis\":\"y\",\"type\":\"bar\"},{\"alignmentgroup\":\"True\",\"hovertemplate\":\"Persoonskenmerken=%{y}<br>Perioden=2019<br>Verplaatsingen_1=%{x}<extra></extra>\",\"legendgroup\":\"Rijbewijs, personenauto op eigen naam\",\"marker\":{\"color\":\"#ab63fa\",\"pattern\":{\"shape\":\"\"}},\"name\":\"Rijbewijs, personenauto op eigen naam\",\"offsetgroup\":\"Rijbewijs, personenauto op eigen naam\",\"orientation\":\"h\",\"showlegend\":true,\"textposition\":\"auto\",\"texttemplate\":\"%{x:.2s}\",\"x\":[2214.22],\"xaxis\":\"x\",\"y\":[\"Rijbewijs, personenauto op eigen naam\"],\"yaxis\":\"y\",\"type\":\"bar\"}],\"name\":\"2019\"},{\"data\":[{\"alignmentgroup\":\"True\",\"hovertemplate\":\"Persoonskenmerken=%{y}<br>Perioden=2020<br>Verplaatsingen_1=%{x}<extra></extra>\",\"legendgroup\":\"Geen rijbewijs; jonger dan 17 jaar\",\"marker\":{\"color\":\"#636efa\",\"pattern\":{\"shape\":\"\"}},\"name\":\"Geen rijbewijs; jonger dan 17 jaar\",\"offsetgroup\":\"Geen rijbewijs; jonger dan 17 jaar\",\"orientation\":\"h\",\"showlegend\":true,\"textposition\":\"auto\",\"texttemplate\":\"%{x:.2s}\",\"x\":[1378.4],\"xaxis\":\"x\",\"y\":[\"Geen rijbewijs; jonger dan 17 jaar\"],\"yaxis\":\"y\",\"type\":\"bar\"},{\"alignmentgroup\":\"True\",\"hovertemplate\":\"Persoonskenmerken=%{y}<br>Perioden=2020<br>Verplaatsingen_1=%{x}<extra></extra>\",\"legendgroup\":\"Geen rijbewijs; wel 17 jaar of ouder\",\"marker\":{\"color\":\"#EF553B\",\"pattern\":{\"shape\":\"\"}},\"name\":\"Geen rijbewijs; wel 17 jaar of ouder\",\"offsetgroup\":\"Geen rijbewijs; wel 17 jaar of ouder\",\"orientation\":\"h\",\"showlegend\":true,\"textposition\":\"auto\",\"texttemplate\":\"%{x:.2s}\",\"x\":[972.98],\"xaxis\":\"x\",\"y\":[\"Geen rijbewijs; wel 17 jaar of ouder\"],\"yaxis\":\"y\",\"type\":\"bar\"},{\"alignmentgroup\":\"True\",\"hovertemplate\":\"Persoonskenmerken=%{y}<br>Perioden=2020<br>Verplaatsingen_1=%{x}<extra></extra>\",\"legendgroup\":\"Gestandaardiseerd inkomen: 1e 20%-groep\",\"marker\":{\"color\":\"#00cc96\",\"pattern\":{\"shape\":\"\"}},\"name\":\"Gestandaardiseerd inkomen: 1e 20%-groep\",\"offsetgroup\":\"Gestandaardiseerd inkomen: 1e 20%-groep\",\"orientation\":\"h\",\"showlegend\":true,\"textposition\":\"auto\",\"texttemplate\":\"%{x:.2s}\",\"x\":[1195.81],\"xaxis\":\"x\",\"y\":[\"Gestandaardiseerd inkomen: 1e 20%-groep\"],\"yaxis\":\"y\",\"type\":\"bar\"},{\"alignmentgroup\":\"True\",\"hovertemplate\":\"Persoonskenmerken=%{y}<br>Perioden=2020<br>Verplaatsingen_1=%{x}<extra></extra>\",\"legendgroup\":\"Gestandaardiseerd inkomen: 2e 20%-groep\",\"marker\":{\"color\":\"#ab63fa\",\"pattern\":{\"shape\":\"\"}},\"name\":\"Gestandaardiseerd inkomen: 2e 20%-groep\",\"offsetgroup\":\"Gestandaardiseerd inkomen: 2e 20%-groep\",\"orientation\":\"h\",\"showlegend\":true,\"textposition\":\"auto\",\"texttemplate\":\"%{x:.2s}\",\"x\":[1438.62],\"xaxis\":\"x\",\"y\":[\"Gestandaardiseerd inkomen: 2e 20%-groep\"],\"yaxis\":\"y\",\"type\":\"bar\"},{\"alignmentgroup\":\"True\",\"hovertemplate\":\"Persoonskenmerken=%{y}<br>Perioden=2020<br>Verplaatsingen_1=%{x}<extra></extra>\",\"legendgroup\":\"Gestandaardiseerd inkomen: 3e 20%-groep\",\"marker\":{\"color\":\"#FFA15A\",\"pattern\":{\"shape\":\"\"}},\"name\":\"Gestandaardiseerd inkomen: 3e 20%-groep\",\"offsetgroup\":\"Gestandaardiseerd inkomen: 3e 20%-groep\",\"orientation\":\"h\",\"showlegend\":true,\"textposition\":\"auto\",\"texttemplate\":\"%{x:.2s}\",\"x\":[1712.15],\"xaxis\":\"x\",\"y\":[\"Gestandaardiseerd inkomen: 3e 20%-groep\"],\"yaxis\":\"y\",\"type\":\"bar\"},{\"alignmentgroup\":\"True\",\"hovertemplate\":\"Persoonskenmerken=%{y}<br>Perioden=2020<br>Verplaatsingen_1=%{x}<extra></extra>\",\"legendgroup\":\"Gestandaardiseerd inkomen: 4e 20%-groep\",\"marker\":{\"color\":\"#19d3f3\",\"pattern\":{\"shape\":\"\"}},\"name\":\"Gestandaardiseerd inkomen: 4e 20%-groep\",\"offsetgroup\":\"Gestandaardiseerd inkomen: 4e 20%-groep\",\"orientation\":\"h\",\"showlegend\":true,\"textposition\":\"auto\",\"texttemplate\":\"%{x:.2s}\",\"x\":[1870.48],\"xaxis\":\"x\",\"y\":[\"Gestandaardiseerd inkomen: 4e 20%-groep\"],\"yaxis\":\"y\",\"type\":\"bar\"},{\"alignmentgroup\":\"True\",\"hovertemplate\":\"Persoonskenmerken=%{y}<br>Perioden=2020<br>Verplaatsingen_1=%{x}<extra></extra>\",\"legendgroup\":\"Gestandaardiseerd inkomen: 5e 20%-groep\",\"marker\":{\"color\":\"#FF6692\",\"pattern\":{\"shape\":\"\"}},\"name\":\"Gestandaardiseerd inkomen: 5e 20%-groep\",\"offsetgroup\":\"Gestandaardiseerd inkomen: 5e 20%-groep\",\"orientation\":\"h\",\"showlegend\":true,\"textposition\":\"auto\",\"texttemplate\":\"%{x:.2s}\",\"x\":[1894.53],\"xaxis\":\"x\",\"y\":[\"Gestandaardiseerd inkomen: 5e 20%-groep\"],\"yaxis\":\"y\",\"type\":\"bar\"},{\"alignmentgroup\":\"True\",\"hovertemplate\":\"Persoonskenmerken=%{y}<br>Perioden=2020<br>Verplaatsingen_1=%{x}<extra></extra>\",\"legendgroup\":\"Leeftijd: 12 tot 18 jaar\",\"marker\":{\"color\":\"#B6E880\",\"pattern\":{\"shape\":\"\"}},\"name\":\"Leeftijd: 12 tot 18 jaar\",\"offsetgroup\":\"Leeftijd: 12 tot 18 jaar\",\"orientation\":\"h\",\"showlegend\":true,\"textposition\":\"auto\",\"texttemplate\":\"%{x:.2s}\",\"x\":[1203.68],\"xaxis\":\"x\",\"y\":[\"Leeftijd: 12 tot 18 jaar\"],\"yaxis\":\"y\",\"type\":\"bar\"},{\"alignmentgroup\":\"True\",\"hovertemplate\":\"Persoonskenmerken=%{y}<br>Perioden=2020<br>Verplaatsingen_1=%{x}<extra></extra>\",\"legendgroup\":\"Leeftijd: 18 tot 25 jaar\",\"marker\":{\"color\":\"#FF97FF\",\"pattern\":{\"shape\":\"\"}},\"name\":\"Leeftijd: 18 tot 25 jaar\",\"offsetgroup\":\"Leeftijd: 18 tot 25 jaar\",\"orientation\":\"h\",\"showlegend\":true,\"textposition\":\"auto\",\"texttemplate\":\"%{x:.2s}\",\"x\":[1350.08],\"xaxis\":\"x\",\"y\":[\"Leeftijd: 18 tot 25 jaar\"],\"yaxis\":\"y\",\"type\":\"bar\"},{\"alignmentgroup\":\"True\",\"hovertemplate\":\"Persoonskenmerken=%{y}<br>Perioden=2020<br>Verplaatsingen_1=%{x}<extra></extra>\",\"legendgroup\":\"Leeftijd: 25 tot 35 jaar\",\"marker\":{\"color\":\"#FECB52\",\"pattern\":{\"shape\":\"\"}},\"name\":\"Leeftijd: 25 tot 35 jaar\",\"offsetgroup\":\"Leeftijd: 25 tot 35 jaar\",\"orientation\":\"h\",\"showlegend\":true,\"textposition\":\"auto\",\"texttemplate\":\"%{x:.2s}\",\"x\":[1661.26],\"xaxis\":\"x\",\"y\":[\"Leeftijd: 25 tot 35 jaar\"],\"yaxis\":\"y\",\"type\":\"bar\"},{\"alignmentgroup\":\"True\",\"hovertemplate\":\"Persoonskenmerken=%{y}<br>Perioden=2020<br>Verplaatsingen_1=%{x}<extra></extra>\",\"legendgroup\":\"Leeftijd: 35 tot 50 jaar\",\"marker\":{\"color\":\"#636efa\",\"pattern\":{\"shape\":\"\"}},\"name\":\"Leeftijd: 35 tot 50 jaar\",\"offsetgroup\":\"Leeftijd: 35 tot 50 jaar\",\"orientation\":\"h\",\"showlegend\":true,\"textposition\":\"auto\",\"texttemplate\":\"%{x:.2s}\",\"x\":[2019.0],\"xaxis\":\"x\",\"y\":[\"Leeftijd: 35 tot 50 jaar\"],\"yaxis\":\"y\",\"type\":\"bar\"},{\"alignmentgroup\":\"True\",\"hovertemplate\":\"Persoonskenmerken=%{y}<br>Perioden=2020<br>Verplaatsingen_1=%{x}<extra></extra>\",\"legendgroup\":\"Leeftijd: 50 tot 65 jaar\",\"marker\":{\"color\":\"#EF553B\",\"pattern\":{\"shape\":\"\"}},\"name\":\"Leeftijd: 50 tot 65 jaar\",\"offsetgroup\":\"Leeftijd: 50 tot 65 jaar\",\"orientation\":\"h\",\"showlegend\":true,\"textposition\":\"auto\",\"texttemplate\":\"%{x:.2s}\",\"x\":[1846.82],\"xaxis\":\"x\",\"y\":[\"Leeftijd: 50 tot 65 jaar\"],\"yaxis\":\"y\",\"type\":\"bar\"},{\"alignmentgroup\":\"True\",\"hovertemplate\":\"Persoonskenmerken=%{y}<br>Perioden=2020<br>Verplaatsingen_1=%{x}<extra></extra>\",\"legendgroup\":\"Leeftijd: 65 tot 75 jaar\",\"marker\":{\"color\":\"#00cc96\",\"pattern\":{\"shape\":\"\"}},\"name\":\"Leeftijd: 65 tot 75 jaar\",\"offsetgroup\":\"Leeftijd: 65 tot 75 jaar\",\"orientation\":\"h\",\"showlegend\":true,\"textposition\":\"auto\",\"texttemplate\":\"%{x:.2s}\",\"x\":[1409.12],\"xaxis\":\"x\",\"y\":[\"Leeftijd: 65 tot 75 jaar\"],\"yaxis\":\"y\",\"type\":\"bar\"},{\"alignmentgroup\":\"True\",\"hovertemplate\":\"Persoonskenmerken=%{y}<br>Perioden=2020<br>Verplaatsingen_1=%{x}<extra></extra>\",\"legendgroup\":\"Leeftijd: 75 jaar of ouder\",\"marker\":{\"color\":\"#ab63fa\",\"pattern\":{\"shape\":\"\"}},\"name\":\"Leeftijd: 75 jaar of ouder\",\"offsetgroup\":\"Leeftijd: 75 jaar of ouder\",\"orientation\":\"h\",\"showlegend\":true,\"textposition\":\"auto\",\"texttemplate\":\"%{x:.2s}\",\"x\":[836.3],\"xaxis\":\"x\",\"y\":[\"Leeftijd: 75 jaar of ouder\"],\"yaxis\":\"y\",\"type\":\"bar\"},{\"alignmentgroup\":\"True\",\"hovertemplate\":\"Persoonskenmerken=%{y}<br>Perioden=2020<br>Verplaatsingen_1=%{x}<extra></extra>\",\"legendgroup\":\"Leeftijd:6 tot 12 jaar\",\"marker\":{\"color\":\"#FFA15A\",\"pattern\":{\"shape\":\"\"}},\"name\":\"Leeftijd:6 tot 12 jaar\",\"offsetgroup\":\"Leeftijd:6 tot 12 jaar\",\"orientation\":\"h\",\"showlegend\":true,\"textposition\":\"auto\",\"texttemplate\":\"%{x:.2s}\",\"x\":[737.49],\"xaxis\":\"x\",\"y\":[\"Leeftijd:6 tot 12 jaar\"],\"yaxis\":\"y\",\"type\":\"bar\"},{\"alignmentgroup\":\"True\",\"hovertemplate\":\"Persoonskenmerken=%{y}<br>Perioden=2020<br>Verplaatsingen_1=%{x}<extra></extra>\",\"legendgroup\":\"Migratieachtergrond: Nederland\",\"marker\":{\"color\":\"#19d3f3\",\"pattern\":{\"shape\":\"\"}},\"name\":\"Migratieachtergrond: Nederland\",\"offsetgroup\":\"Migratieachtergrond: Nederland\",\"orientation\":\"h\",\"showlegend\":true,\"textposition\":\"auto\",\"texttemplate\":\"%{x:.2s}\",\"x\":[1964.28],\"xaxis\":\"x\",\"y\":[\"Migratieachtergrond: Nederland\"],\"yaxis\":\"y\",\"type\":\"bar\"},{\"alignmentgroup\":\"True\",\"hovertemplate\":\"Persoonskenmerken=%{y}<br>Perioden=2020<br>Verplaatsingen_1=%{x}<extra></extra>\",\"legendgroup\":\"Migratieachtergrond: niet-westers\",\"marker\":{\"color\":\"#FF6692\",\"pattern\":{\"shape\":\"\"}},\"name\":\"Migratieachtergrond: niet-westers\",\"offsetgroup\":\"Migratieachtergrond: niet-westers\",\"orientation\":\"h\",\"showlegend\":true,\"textposition\":\"auto\",\"texttemplate\":\"%{x:.2s}\",\"x\":[854.06],\"xaxis\":\"x\",\"y\":[\"Migratieachtergrond: niet-westers\"],\"yaxis\":\"y\",\"type\":\"bar\"},{\"alignmentgroup\":\"True\",\"hovertemplate\":\"Persoonskenmerken=%{y}<br>Perioden=2020<br>Verplaatsingen_1=%{x}<extra></extra>\",\"legendgroup\":\"Migratieachtergrond: westers\",\"marker\":{\"color\":\"#B6E880\",\"pattern\":{\"shape\":\"\"}},\"name\":\"Migratieachtergrond: westers\",\"offsetgroup\":\"Migratieachtergrond: westers\",\"orientation\":\"h\",\"showlegend\":true,\"textposition\":\"auto\",\"texttemplate\":\"%{x:.2s}\",\"x\":[1166.41],\"xaxis\":\"x\",\"y\":[\"Migratieachtergrond: westers\"],\"yaxis\":\"y\",\"type\":\"bar\"},{\"alignmentgroup\":\"True\",\"hovertemplate\":\"Persoonskenmerken=%{y}<br>Perioden=2020<br>Verplaatsingen_1=%{x}<extra></extra>\",\"legendgroup\":\"OV-Studentenkaart: geen\",\"marker\":{\"color\":\"#FF97FF\",\"pattern\":{\"shape\":\"\"}},\"name\":\"OV-Studentenkaart: geen\",\"offsetgroup\":\"OV-Studentenkaart: geen\",\"orientation\":\"h\",\"showlegend\":true,\"textposition\":\"auto\",\"texttemplate\":\"%{x:.2s}\",\"x\":[1859.26],\"xaxis\":\"x\",\"y\":[\"OV-Studentenkaart: geen\"],\"yaxis\":\"y\",\"type\":\"bar\"},{\"alignmentgroup\":\"True\",\"hovertemplate\":\"Persoonskenmerken=%{y}<br>Perioden=2020<br>Verplaatsingen_1=%{x}<extra></extra>\",\"legendgroup\":\"OV-Studentenkaart: weekabonnement\",\"marker\":{\"color\":\"#FECB52\",\"pattern\":{\"shape\":\"\"}},\"name\":\"OV-Studentenkaart: weekabonnement\",\"offsetgroup\":\"OV-Studentenkaart: weekabonnement\",\"orientation\":\"h\",\"showlegend\":true,\"textposition\":\"auto\",\"texttemplate\":\"%{x:.2s}\",\"x\":[1049.02],\"xaxis\":\"x\",\"y\":[\"OV-Studentenkaart: weekabonnement\"],\"yaxis\":\"y\",\"type\":\"bar\"},{\"alignmentgroup\":\"True\",\"hovertemplate\":\"Persoonskenmerken=%{y}<br>Perioden=2020<br>Verplaatsingen_1=%{x}<extra></extra>\",\"legendgroup\":\"OV-Studentenkaart: weekendabonnement\",\"marker\":{\"color\":\"#636efa\",\"pattern\":{\"shape\":\"\"}},\"name\":\"OV-Studentenkaart: weekendabonnement\",\"offsetgroup\":\"OV-Studentenkaart: weekendabonnement\",\"orientation\":\"h\",\"showlegend\":true,\"textposition\":\"auto\",\"texttemplate\":\"%{x:.2s}\",\"x\":[238.9],\"xaxis\":\"x\",\"y\":[\"OV-Studentenkaart: weekendabonnement\"],\"yaxis\":\"y\",\"type\":\"bar\"},{\"alignmentgroup\":\"True\",\"hovertemplate\":\"Persoonskenmerken=%{y}<br>Perioden=2020<br>Verplaatsingen_1=%{x}<extra></extra>\",\"legendgroup\":\"Onderwijsniveau: 1 Laag\",\"marker\":{\"color\":\"#EF553B\",\"pattern\":{\"shape\":\"\"}},\"name\":\"Onderwijsniveau: 1 Laag\",\"offsetgroup\":\"Onderwijsniveau: 1 Laag\",\"orientation\":\"h\",\"showlegend\":true,\"textposition\":\"auto\",\"texttemplate\":\"%{x:.2s}\",\"x\":[1303.32],\"xaxis\":\"x\",\"y\":[\"Onderwijsniveau: 1 Laag\"],\"yaxis\":\"y\",\"type\":\"bar\"},{\"alignmentgroup\":\"True\",\"hovertemplate\":\"Persoonskenmerken=%{y}<br>Perioden=2020<br>Verplaatsingen_1=%{x}<extra></extra>\",\"legendgroup\":\"Onderwijsniveau: 2 Middelbaar\",\"marker\":{\"color\":\"#00cc96\",\"pattern\":{\"shape\":\"\"}},\"name\":\"Onderwijsniveau: 2 Middelbaar\",\"offsetgroup\":\"Onderwijsniveau: 2 Middelbaar\",\"orientation\":\"h\",\"showlegend\":true,\"textposition\":\"auto\",\"texttemplate\":\"%{x:.2s}\",\"x\":[1890.04],\"xaxis\":\"x\",\"y\":[\"Onderwijsniveau: 2 Middelbaar\"],\"yaxis\":\"y\",\"type\":\"bar\"},{\"alignmentgroup\":\"True\",\"hovertemplate\":\"Persoonskenmerken=%{y}<br>Perioden=2020<br>Verplaatsingen_1=%{x}<extra></extra>\",\"legendgroup\":\"Onderwijsniveau: 3 Hoog\",\"marker\":{\"color\":\"#ab63fa\",\"pattern\":{\"shape\":\"\"}},\"name\":\"Onderwijsniveau: 3 Hoog\",\"offsetgroup\":\"Onderwijsniveau: 3 Hoog\",\"orientation\":\"h\",\"showlegend\":true,\"textposition\":\"auto\",\"texttemplate\":\"%{x:.2s}\",\"x\":[2012.44],\"xaxis\":\"x\",\"y\":[\"Onderwijsniveau: 3 Hoog\"],\"yaxis\":\"y\",\"type\":\"bar\"},{\"alignmentgroup\":\"True\",\"hovertemplate\":\"Persoonskenmerken=%{y}<br>Perioden=2020<br>Verplaatsingen_1=%{x}<extra></extra>\",\"legendgroup\":\"Participatie:  arbeidsongeschikt\",\"marker\":{\"color\":\"#FFA15A\",\"pattern\":{\"shape\":\"\"}},\"name\":\"Participatie:  arbeidsongeschikt\",\"offsetgroup\":\"Participatie:  arbeidsongeschikt\",\"orientation\":\"h\",\"showlegend\":true,\"textposition\":\"auto\",\"texttemplate\":\"%{x:.2s}\",\"x\":[635.18],\"xaxis\":\"x\",\"y\":[\"Participatie:  arbeidsongeschikt\"],\"yaxis\":\"y\",\"type\":\"bar\"},{\"alignmentgroup\":\"True\",\"hovertemplate\":\"Persoonskenmerken=%{y}<br>Perioden=2020<br>Verplaatsingen_1=%{x}<extra></extra>\",\"legendgroup\":\"Participatie: anders/overig\",\"marker\":{\"color\":\"#19d3f3\",\"pattern\":{\"shape\":\"\"}},\"name\":\"Participatie: anders/overig\",\"offsetgroup\":\"Participatie: anders/overig\",\"orientation\":\"h\",\"showlegend\":true,\"textposition\":\"auto\",\"texttemplate\":\"%{x:.2s}\",\"x\":[1078.06],\"xaxis\":\"x\",\"y\":[\"Participatie: anders/overig\"],\"yaxis\":\"y\",\"type\":\"bar\"},{\"alignmentgroup\":\"True\",\"hovertemplate\":\"Persoonskenmerken=%{y}<br>Perioden=2020<br>Verplaatsingen_1=%{x}<extra></extra>\",\"legendgroup\":\"Participatie: gepensioneerd/VUT\",\"marker\":{\"color\":\"#FF6692\",\"pattern\":{\"shape\":\"\"}},\"name\":\"Participatie: gepensioneerd/VUT\",\"offsetgroup\":\"Participatie: gepensioneerd/VUT\",\"orientation\":\"h\",\"showlegend\":true,\"textposition\":\"auto\",\"texttemplate\":\"%{x:.2s}\",\"x\":[1321.02],\"xaxis\":\"x\",\"y\":[\"Participatie: gepensioneerd/VUT\"],\"yaxis\":\"y\",\"type\":\"bar\"},{\"alignmentgroup\":\"True\",\"hovertemplate\":\"Persoonskenmerken=%{y}<br>Perioden=2020<br>Verplaatsingen_1=%{x}<extra></extra>\",\"legendgroup\":\"Participatie: werkloos\",\"marker\":{\"color\":\"#B6E880\",\"pattern\":{\"shape\":\"\"}},\"name\":\"Participatie: werkloos\",\"offsetgroup\":\"Participatie: werkloos\",\"orientation\":\"h\",\"showlegend\":true,\"textposition\":\"auto\",\"texttemplate\":\"%{x:.2s}\",\"x\":[630.54],\"xaxis\":\"x\",\"y\":[\"Participatie: werkloos\"],\"yaxis\":\"y\",\"type\":\"bar\"},{\"alignmentgroup\":\"True\",\"hovertemplate\":\"Persoonskenmerken=%{y}<br>Perioden=2020<br>Verplaatsingen_1=%{x}<extra></extra>\",\"legendgroup\":\"Participatie: werkzaam 30 uur pw of meer\",\"marker\":{\"color\":\"#FF97FF\",\"pattern\":{\"shape\":\"\"}},\"name\":\"Participatie: werkzaam 30 uur pw of meer\",\"offsetgroup\":\"Participatie: werkzaam 30 uur pw of meer\",\"orientation\":\"h\",\"showlegend\":true,\"textposition\":\"auto\",\"texttemplate\":\"%{x:.2s}\",\"x\":[2001.08],\"xaxis\":\"x\",\"y\":[\"Participatie: werkzaam 30 uur pw of meer\"],\"yaxis\":\"y\",\"type\":\"bar\"},{\"alignmentgroup\":\"True\",\"hovertemplate\":\"Persoonskenmerken=%{y}<br>Perioden=2020<br>Verplaatsingen_1=%{x}<extra></extra>\",\"legendgroup\":\"Participatie: werkzaam: 12 tot 30 uur pw\",\"marker\":{\"color\":\"#FECB52\",\"pattern\":{\"shape\":\"\"}},\"name\":\"Participatie: werkzaam: 12 tot 30 uur pw\",\"offsetgroup\":\"Participatie: werkzaam: 12 tot 30 uur pw\",\"orientation\":\"h\",\"showlegend\":true,\"textposition\":\"auto\",\"texttemplate\":\"%{x:.2s}\",\"x\":[1808.02],\"xaxis\":\"x\",\"y\":[\"Participatie: werkzaam: 12 tot 30 uur pw\"],\"yaxis\":\"y\",\"type\":\"bar\"},{\"alignmentgroup\":\"True\",\"hovertemplate\":\"Persoonskenmerken=%{y}<br>Perioden=2020<br>Verplaatsingen_1=%{x}<extra></extra>\",\"legendgroup\":\"Participatie:student/scholier\",\"marker\":{\"color\":\"#636efa\",\"pattern\":{\"shape\":\"\"}},\"name\":\"Participatie:student/scholier\",\"offsetgroup\":\"Participatie:student/scholier\",\"orientation\":\"h\",\"showlegend\":true,\"textposition\":\"auto\",\"texttemplate\":\"%{x:.2s}\",\"x\":[1513.04],\"xaxis\":\"x\",\"y\":[\"Participatie:student/scholier\"],\"yaxis\":\"y\",\"type\":\"bar\"},{\"alignmentgroup\":\"True\",\"hovertemplate\":\"Persoonskenmerken=%{y}<br>Perioden=2020<br>Verplaatsingen_1=%{x}<extra></extra>\",\"legendgroup\":\"Rijbewijs, geen personenauto in hh\",\"marker\":{\"color\":\"#EF553B\",\"pattern\":{\"shape\":\"\"}},\"name\":\"Rijbewijs, geen personenauto in hh\",\"offsetgroup\":\"Rijbewijs, geen personenauto in hh\",\"orientation\":\"h\",\"showlegend\":true,\"textposition\":\"auto\",\"texttemplate\":\"%{x:.2s}\",\"x\":[1131.98],\"xaxis\":\"x\",\"y\":[\"Rijbewijs, geen personenauto in hh\"],\"yaxis\":\"y\",\"type\":\"bar\"},{\"alignmentgroup\":\"True\",\"hovertemplate\":\"Persoonskenmerken=%{y}<br>Perioden=2020<br>Verplaatsingen_1=%{x}<extra></extra>\",\"legendgroup\":\"Rijbewijs, personenauto in hh\",\"marker\":{\"color\":\"#00cc96\",\"pattern\":{\"shape\":\"\"}},\"name\":\"Rijbewijs, personenauto in hh\",\"offsetgroup\":\"Rijbewijs, personenauto in hh\",\"orientation\":\"h\",\"showlegend\":true,\"textposition\":\"auto\",\"texttemplate\":\"%{x:.2s}\",\"x\":[1839.3],\"xaxis\":\"x\",\"y\":[\"Rijbewijs, personenauto in hh\"],\"yaxis\":\"y\",\"type\":\"bar\"},{\"alignmentgroup\":\"True\",\"hovertemplate\":\"Persoonskenmerken=%{y}<br>Perioden=2020<br>Verplaatsingen_1=%{x}<extra></extra>\",\"legendgroup\":\"Rijbewijs, personenauto op eigen naam\",\"marker\":{\"color\":\"#ab63fa\",\"pattern\":{\"shape\":\"\"}},\"name\":\"Rijbewijs, personenauto op eigen naam\",\"offsetgroup\":\"Rijbewijs, personenauto op eigen naam\",\"orientation\":\"h\",\"showlegend\":true,\"textposition\":\"auto\",\"texttemplate\":\"%{x:.2s}\",\"x\":[2021.26],\"xaxis\":\"x\",\"y\":[\"Rijbewijs, personenauto op eigen naam\"],\"yaxis\":\"y\",\"type\":\"bar\"}],\"name\":\"2020\"},{\"data\":[{\"alignmentgroup\":\"True\",\"hovertemplate\":\"Persoonskenmerken=%{y}<br>Perioden=2021<br>Verplaatsingen_1=%{x}<extra></extra>\",\"legendgroup\":\"Geen rijbewijs; jonger dan 17 jaar\",\"marker\":{\"color\":\"#636efa\",\"pattern\":{\"shape\":\"\"}},\"name\":\"Geen rijbewijs; jonger dan 17 jaar\",\"offsetgroup\":\"Geen rijbewijs; jonger dan 17 jaar\",\"orientation\":\"h\",\"showlegend\":true,\"textposition\":\"auto\",\"texttemplate\":\"%{x:.2s}\",\"x\":[1544.05],\"xaxis\":\"x\",\"y\":[\"Geen rijbewijs; jonger dan 17 jaar\"],\"yaxis\":\"y\",\"type\":\"bar\"},{\"alignmentgroup\":\"True\",\"hovertemplate\":\"Persoonskenmerken=%{y}<br>Perioden=2021<br>Verplaatsingen_1=%{x}<extra></extra>\",\"legendgroup\":\"Geen rijbewijs; wel 17 jaar of ouder\",\"marker\":{\"color\":\"#EF553B\",\"pattern\":{\"shape\":\"\"}},\"name\":\"Geen rijbewijs; wel 17 jaar of ouder\",\"offsetgroup\":\"Geen rijbewijs; wel 17 jaar of ouder\",\"orientation\":\"h\",\"showlegend\":true,\"textposition\":\"auto\",\"texttemplate\":\"%{x:.2s}\",\"x\":[1138.52],\"xaxis\":\"x\",\"y\":[\"Geen rijbewijs; wel 17 jaar of ouder\"],\"yaxis\":\"y\",\"type\":\"bar\"},{\"alignmentgroup\":\"True\",\"hovertemplate\":\"Persoonskenmerken=%{y}<br>Perioden=2021<br>Verplaatsingen_1=%{x}<extra></extra>\",\"legendgroup\":\"Gestandaardiseerd inkomen: 1e 20%-groep\",\"marker\":{\"color\":\"#00cc96\",\"pattern\":{\"shape\":\"\"}},\"name\":\"Gestandaardiseerd inkomen: 1e 20%-groep\",\"offsetgroup\":\"Gestandaardiseerd inkomen: 1e 20%-groep\",\"orientation\":\"h\",\"showlegend\":true,\"textposition\":\"auto\",\"texttemplate\":\"%{x:.2s}\",\"x\":[1363.28],\"xaxis\":\"x\",\"y\":[\"Gestandaardiseerd inkomen: 1e 20%-groep\"],\"yaxis\":\"y\",\"type\":\"bar\"},{\"alignmentgroup\":\"True\",\"hovertemplate\":\"Persoonskenmerken=%{y}<br>Perioden=2021<br>Verplaatsingen_1=%{x}<extra></extra>\",\"legendgroup\":\"Gestandaardiseerd inkomen: 2e 20%-groep\",\"marker\":{\"color\":\"#ab63fa\",\"pattern\":{\"shape\":\"\"}},\"name\":\"Gestandaardiseerd inkomen: 2e 20%-groep\",\"offsetgroup\":\"Gestandaardiseerd inkomen: 2e 20%-groep\",\"orientation\":\"h\",\"showlegend\":true,\"textposition\":\"auto\",\"texttemplate\":\"%{x:.2s}\",\"x\":[1591.69],\"xaxis\":\"x\",\"y\":[\"Gestandaardiseerd inkomen: 2e 20%-groep\"],\"yaxis\":\"y\",\"type\":\"bar\"},{\"alignmentgroup\":\"True\",\"hovertemplate\":\"Persoonskenmerken=%{y}<br>Perioden=2021<br>Verplaatsingen_1=%{x}<extra></extra>\",\"legendgroup\":\"Gestandaardiseerd inkomen: 3e 20%-groep\",\"marker\":{\"color\":\"#FFA15A\",\"pattern\":{\"shape\":\"\"}},\"name\":\"Gestandaardiseerd inkomen: 3e 20%-groep\",\"offsetgroup\":\"Gestandaardiseerd inkomen: 3e 20%-groep\",\"orientation\":\"h\",\"showlegend\":true,\"textposition\":\"auto\",\"texttemplate\":\"%{x:.2s}\",\"x\":[1868.51],\"xaxis\":\"x\",\"y\":[\"Gestandaardiseerd inkomen: 3e 20%-groep\"],\"yaxis\":\"y\",\"type\":\"bar\"},{\"alignmentgroup\":\"True\",\"hovertemplate\":\"Persoonskenmerken=%{y}<br>Perioden=2021<br>Verplaatsingen_1=%{x}<extra></extra>\",\"legendgroup\":\"Gestandaardiseerd inkomen: 4e 20%-groep\",\"marker\":{\"color\":\"#19d3f3\",\"pattern\":{\"shape\":\"\"}},\"name\":\"Gestandaardiseerd inkomen: 4e 20%-groep\",\"offsetgroup\":\"Gestandaardiseerd inkomen: 4e 20%-groep\",\"orientation\":\"h\",\"showlegend\":true,\"textposition\":\"auto\",\"texttemplate\":\"%{x:.2s}\",\"x\":[1987.45],\"xaxis\":\"x\",\"y\":[\"Gestandaardiseerd inkomen: 4e 20%-groep\"],\"yaxis\":\"y\",\"type\":\"bar\"},{\"alignmentgroup\":\"True\",\"hovertemplate\":\"Persoonskenmerken=%{y}<br>Perioden=2021<br>Verplaatsingen_1=%{x}<extra></extra>\",\"legendgroup\":\"Gestandaardiseerd inkomen: 5e 20%-groep\",\"marker\":{\"color\":\"#FF6692\",\"pattern\":{\"shape\":\"\"}},\"name\":\"Gestandaardiseerd inkomen: 5e 20%-groep\",\"offsetgroup\":\"Gestandaardiseerd inkomen: 5e 20%-groep\",\"orientation\":\"h\",\"showlegend\":true,\"textposition\":\"auto\",\"texttemplate\":\"%{x:.2s}\",\"x\":[1939.52],\"xaxis\":\"x\",\"y\":[\"Gestandaardiseerd inkomen: 5e 20%-groep\"],\"yaxis\":\"y\",\"type\":\"bar\"},{\"alignmentgroup\":\"True\",\"hovertemplate\":\"Persoonskenmerken=%{y}<br>Perioden=2021<br>Verplaatsingen_1=%{x}<extra></extra>\",\"legendgroup\":\"Leeftijd: 12 tot 18 jaar\",\"marker\":{\"color\":\"#B6E880\",\"pattern\":{\"shape\":\"\"}},\"name\":\"Leeftijd: 12 tot 18 jaar\",\"offsetgroup\":\"Leeftijd: 12 tot 18 jaar\",\"orientation\":\"h\",\"showlegend\":true,\"textposition\":\"auto\",\"texttemplate\":\"%{x:.2s}\",\"x\":[1358.92],\"xaxis\":\"x\",\"y\":[\"Leeftijd: 12 tot 18 jaar\"],\"yaxis\":\"y\",\"type\":\"bar\"},{\"alignmentgroup\":\"True\",\"hovertemplate\":\"Persoonskenmerken=%{y}<br>Perioden=2021<br>Verplaatsingen_1=%{x}<extra></extra>\",\"legendgroup\":\"Leeftijd: 18 tot 25 jaar\",\"marker\":{\"color\":\"#FF97FF\",\"pattern\":{\"shape\":\"\"}},\"name\":\"Leeftijd: 18 tot 25 jaar\",\"offsetgroup\":\"Leeftijd: 18 tot 25 jaar\",\"orientation\":\"h\",\"showlegend\":true,\"textposition\":\"auto\",\"texttemplate\":\"%{x:.2s}\",\"x\":[1483.06],\"xaxis\":\"x\",\"y\":[\"Leeftijd: 18 tot 25 jaar\"],\"yaxis\":\"y\",\"type\":\"bar\"},{\"alignmentgroup\":\"True\",\"hovertemplate\":\"Persoonskenmerken=%{y}<br>Perioden=2021<br>Verplaatsingen_1=%{x}<extra></extra>\",\"legendgroup\":\"Leeftijd: 25 tot 35 jaar\",\"marker\":{\"color\":\"#FECB52\",\"pattern\":{\"shape\":\"\"}},\"name\":\"Leeftijd: 25 tot 35 jaar\",\"offsetgroup\":\"Leeftijd: 25 tot 35 jaar\",\"orientation\":\"h\",\"showlegend\":true,\"textposition\":\"auto\",\"texttemplate\":\"%{x:.2s}\",\"x\":[1784.34],\"xaxis\":\"x\",\"y\":[\"Leeftijd: 25 tot 35 jaar\"],\"yaxis\":\"y\",\"type\":\"bar\"},{\"alignmentgroup\":\"True\",\"hovertemplate\":\"Persoonskenmerken=%{y}<br>Perioden=2021<br>Verplaatsingen_1=%{x}<extra></extra>\",\"legendgroup\":\"Leeftijd: 35 tot 50 jaar\",\"marker\":{\"color\":\"#636efa\",\"pattern\":{\"shape\":\"\"}},\"name\":\"Leeftijd: 35 tot 50 jaar\",\"offsetgroup\":\"Leeftijd: 35 tot 50 jaar\",\"orientation\":\"h\",\"showlegend\":true,\"textposition\":\"auto\",\"texttemplate\":\"%{x:.2s}\",\"x\":[2077.14],\"xaxis\":\"x\",\"y\":[\"Leeftijd: 35 tot 50 jaar\"],\"yaxis\":\"y\",\"type\":\"bar\"},{\"alignmentgroup\":\"True\",\"hovertemplate\":\"Persoonskenmerken=%{y}<br>Perioden=2021<br>Verplaatsingen_1=%{x}<extra></extra>\",\"legendgroup\":\"Leeftijd: 50 tot 65 jaar\",\"marker\":{\"color\":\"#EF553B\",\"pattern\":{\"shape\":\"\"}},\"name\":\"Leeftijd: 50 tot 65 jaar\",\"offsetgroup\":\"Leeftijd: 50 tot 65 jaar\",\"orientation\":\"h\",\"showlegend\":true,\"textposition\":\"auto\",\"texttemplate\":\"%{x:.2s}\",\"x\":[1932.54],\"xaxis\":\"x\",\"y\":[\"Leeftijd: 50 tot 65 jaar\"],\"yaxis\":\"y\",\"type\":\"bar\"},{\"alignmentgroup\":\"True\",\"hovertemplate\":\"Persoonskenmerken=%{y}<br>Perioden=2021<br>Verplaatsingen_1=%{x}<extra></extra>\",\"legendgroup\":\"Leeftijd: 65 tot 75 jaar\",\"marker\":{\"color\":\"#00cc96\",\"pattern\":{\"shape\":\"\"}},\"name\":\"Leeftijd: 65 tot 75 jaar\",\"offsetgroup\":\"Leeftijd: 65 tot 75 jaar\",\"orientation\":\"h\",\"showlegend\":true,\"textposition\":\"auto\",\"texttemplate\":\"%{x:.2s}\",\"x\":[1566.84],\"xaxis\":\"x\",\"y\":[\"Leeftijd: 65 tot 75 jaar\"],\"yaxis\":\"y\",\"type\":\"bar\"},{\"alignmentgroup\":\"True\",\"hovertemplate\":\"Persoonskenmerken=%{y}<br>Perioden=2021<br>Verplaatsingen_1=%{x}<extra></extra>\",\"legendgroup\":\"Leeftijd: 75 jaar of ouder\",\"marker\":{\"color\":\"#ab63fa\",\"pattern\":{\"shape\":\"\"}},\"name\":\"Leeftijd: 75 jaar of ouder\",\"offsetgroup\":\"Leeftijd: 75 jaar of ouder\",\"orientation\":\"h\",\"showlegend\":true,\"textposition\":\"auto\",\"texttemplate\":\"%{x:.2s}\",\"x\":[1034.16],\"xaxis\":\"x\",\"y\":[\"Leeftijd: 75 jaar of ouder\"],\"yaxis\":\"y\",\"type\":\"bar\"},{\"alignmentgroup\":\"True\",\"hovertemplate\":\"Persoonskenmerken=%{y}<br>Perioden=2021<br>Verplaatsingen_1=%{x}<extra></extra>\",\"legendgroup\":\"Leeftijd:6 tot 12 jaar\",\"marker\":{\"color\":\"#FFA15A\",\"pattern\":{\"shape\":\"\"}},\"name\":\"Leeftijd:6 tot 12 jaar\",\"offsetgroup\":\"Leeftijd:6 tot 12 jaar\",\"orientation\":\"h\",\"showlegend\":true,\"textposition\":\"auto\",\"texttemplate\":\"%{x:.2s}\",\"x\":[850.5600000000001],\"xaxis\":\"x\",\"y\":[\"Leeftijd:6 tot 12 jaar\"],\"yaxis\":\"y\",\"type\":\"bar\"},{\"alignmentgroup\":\"True\",\"hovertemplate\":\"Persoonskenmerken=%{y}<br>Perioden=2021<br>Verplaatsingen_1=%{x}<extra></extra>\",\"legendgroup\":\"Migratieachtergrond: Nederland\",\"marker\":{\"color\":\"#19d3f3\",\"pattern\":{\"shape\":\"\"}},\"name\":\"Migratieachtergrond: Nederland\",\"offsetgroup\":\"Migratieachtergrond: Nederland\",\"orientation\":\"h\",\"showlegend\":true,\"textposition\":\"auto\",\"texttemplate\":\"%{x:.2s}\",\"x\":[2063.24],\"xaxis\":\"x\",\"y\":[\"Migratieachtergrond: Nederland\"],\"yaxis\":\"y\",\"type\":\"bar\"},{\"alignmentgroup\":\"True\",\"hovertemplate\":\"Persoonskenmerken=%{y}<br>Perioden=2021<br>Verplaatsingen_1=%{x}<extra></extra>\",\"legendgroup\":\"Migratieachtergrond: niet-westers\",\"marker\":{\"color\":\"#FF6692\",\"pattern\":{\"shape\":\"\"}},\"name\":\"Migratieachtergrond: niet-westers\",\"offsetgroup\":\"Migratieachtergrond: niet-westers\",\"orientation\":\"h\",\"showlegend\":true,\"textposition\":\"auto\",\"texttemplate\":\"%{x:.2s}\",\"x\":[1017.21],\"xaxis\":\"x\",\"y\":[\"Migratieachtergrond: niet-westers\"],\"yaxis\":\"y\",\"type\":\"bar\"},{\"alignmentgroup\":\"True\",\"hovertemplate\":\"Persoonskenmerken=%{y}<br>Perioden=2021<br>Verplaatsingen_1=%{x}<extra></extra>\",\"legendgroup\":\"Migratieachtergrond: westers\",\"marker\":{\"color\":\"#B6E880\",\"pattern\":{\"shape\":\"\"}},\"name\":\"Migratieachtergrond: westers\",\"offsetgroup\":\"Migratieachtergrond: westers\",\"orientation\":\"h\",\"showlegend\":true,\"textposition\":\"auto\",\"texttemplate\":\"%{x:.2s}\",\"x\":[1361.52],\"xaxis\":\"x\",\"y\":[\"Migratieachtergrond: westers\"],\"yaxis\":\"y\",\"type\":\"bar\"},{\"alignmentgroup\":\"True\",\"hovertemplate\":\"Persoonskenmerken=%{y}<br>Perioden=2021<br>Verplaatsingen_1=%{x}<extra></extra>\",\"legendgroup\":\"OV-Studentenkaart: geen\",\"marker\":{\"color\":\"#FF97FF\",\"pattern\":{\"shape\":\"\"}},\"name\":\"OV-Studentenkaart: geen\",\"offsetgroup\":\"OV-Studentenkaart: geen\",\"orientation\":\"h\",\"showlegend\":true,\"textposition\":\"auto\",\"texttemplate\":\"%{x:.2s}\",\"x\":[1974.11],\"xaxis\":\"x\",\"y\":[\"OV-Studentenkaart: geen\"],\"yaxis\":\"y\",\"type\":\"bar\"},{\"alignmentgroup\":\"True\",\"hovertemplate\":\"Persoonskenmerken=%{y}<br>Perioden=2021<br>Verplaatsingen_1=%{x}<extra></extra>\",\"legendgroup\":\"OV-Studentenkaart: weekabonnement\",\"marker\":{\"color\":\"#FECB52\",\"pattern\":{\"shape\":\"\"}},\"name\":\"OV-Studentenkaart: weekabonnement\",\"offsetgroup\":\"OV-Studentenkaart: weekabonnement\",\"orientation\":\"h\",\"showlegend\":true,\"textposition\":\"auto\",\"texttemplate\":\"%{x:.2s}\",\"x\":[1254.24],\"xaxis\":\"x\",\"y\":[\"OV-Studentenkaart: weekabonnement\"],\"yaxis\":\"y\",\"type\":\"bar\"},{\"alignmentgroup\":\"True\",\"hovertemplate\":\"Persoonskenmerken=%{y}<br>Perioden=2021<br>Verplaatsingen_1=%{x}<extra></extra>\",\"legendgroup\":\"OV-Studentenkaart: weekendabonnement\",\"marker\":{\"color\":\"#636efa\",\"pattern\":{\"shape\":\"\"}},\"name\":\"OV-Studentenkaart: weekendabonnement\",\"offsetgroup\":\"OV-Studentenkaart: weekendabonnement\",\"orientation\":\"h\",\"showlegend\":true,\"textposition\":\"auto\",\"texttemplate\":\"%{x:.2s}\",\"x\":[260.66],\"xaxis\":\"x\",\"y\":[\"OV-Studentenkaart: weekendabonnement\"],\"yaxis\":\"y\",\"type\":\"bar\"},{\"alignmentgroup\":\"True\",\"hovertemplate\":\"Persoonskenmerken=%{y}<br>Perioden=2021<br>Verplaatsingen_1=%{x}<extra></extra>\",\"legendgroup\":\"Onderwijsniveau: 1 Laag\",\"marker\":{\"color\":\"#EF553B\",\"pattern\":{\"shape\":\"\"}},\"name\":\"Onderwijsniveau: 1 Laag\",\"offsetgroup\":\"Onderwijsniveau: 1 Laag\",\"orientation\":\"h\",\"showlegend\":true,\"textposition\":\"auto\",\"texttemplate\":\"%{x:.2s}\",\"x\":[1500.56],\"xaxis\":\"x\",\"y\":[\"Onderwijsniveau: 1 Laag\"],\"yaxis\":\"y\",\"type\":\"bar\"},{\"alignmentgroup\":\"True\",\"hovertemplate\":\"Persoonskenmerken=%{y}<br>Perioden=2021<br>Verplaatsingen_1=%{x}<extra></extra>\",\"legendgroup\":\"Onderwijsniveau: 2 Middelbaar\",\"marker\":{\"color\":\"#00cc96\",\"pattern\":{\"shape\":\"\"}},\"name\":\"Onderwijsniveau: 2 Middelbaar\",\"offsetgroup\":\"Onderwijsniveau: 2 Middelbaar\",\"orientation\":\"h\",\"showlegend\":true,\"textposition\":\"auto\",\"texttemplate\":\"%{x:.2s}\",\"x\":[2001.5],\"xaxis\":\"x\",\"y\":[\"Onderwijsniveau: 2 Middelbaar\"],\"yaxis\":\"y\",\"type\":\"bar\"},{\"alignmentgroup\":\"True\",\"hovertemplate\":\"Persoonskenmerken=%{y}<br>Perioden=2021<br>Verplaatsingen_1=%{x}<extra></extra>\",\"legendgroup\":\"Onderwijsniveau: 3 Hoog\",\"marker\":{\"color\":\"#ab63fa\",\"pattern\":{\"shape\":\"\"}},\"name\":\"Onderwijsniveau: 3 Hoog\",\"offsetgroup\":\"Onderwijsniveau: 3 Hoog\",\"orientation\":\"h\",\"showlegend\":true,\"textposition\":\"auto\",\"texttemplate\":\"%{x:.2s}\",\"x\":[2062.9],\"xaxis\":\"x\",\"y\":[\"Onderwijsniveau: 3 Hoog\"],\"yaxis\":\"y\",\"type\":\"bar\"},{\"alignmentgroup\":\"True\",\"hovertemplate\":\"Persoonskenmerken=%{y}<br>Perioden=2021<br>Verplaatsingen_1=%{x}<extra></extra>\",\"legendgroup\":\"Participatie:  arbeidsongeschikt\",\"marker\":{\"color\":\"#FFA15A\",\"pattern\":{\"shape\":\"\"}},\"name\":\"Participatie:  arbeidsongeschikt\",\"offsetgroup\":\"Participatie:  arbeidsongeschikt\",\"orientation\":\"h\",\"showlegend\":true,\"textposition\":\"auto\",\"texttemplate\":\"%{x:.2s}\",\"x\":[801.04],\"xaxis\":\"x\",\"y\":[\"Participatie:  arbeidsongeschikt\"],\"yaxis\":\"y\",\"type\":\"bar\"},{\"alignmentgroup\":\"True\",\"hovertemplate\":\"Persoonskenmerken=%{y}<br>Perioden=2021<br>Verplaatsingen_1=%{x}<extra></extra>\",\"legendgroup\":\"Participatie: anders/overig\",\"marker\":{\"color\":\"#19d3f3\",\"pattern\":{\"shape\":\"\"}},\"name\":\"Participatie: anders/overig\",\"offsetgroup\":\"Participatie: anders/overig\",\"orientation\":\"h\",\"showlegend\":true,\"textposition\":\"auto\",\"texttemplate\":\"%{x:.2s}\",\"x\":[1195.78],\"xaxis\":\"x\",\"y\":[\"Participatie: anders/overig\"],\"yaxis\":\"y\",\"type\":\"bar\"},{\"alignmentgroup\":\"True\",\"hovertemplate\":\"Persoonskenmerken=%{y}<br>Perioden=2021<br>Verplaatsingen_1=%{x}<extra></extra>\",\"legendgroup\":\"Participatie: gepensioneerd/VUT\",\"marker\":{\"color\":\"#FF6692\",\"pattern\":{\"shape\":\"\"}},\"name\":\"Participatie: gepensioneerd/VUT\",\"offsetgroup\":\"Participatie: gepensioneerd/VUT\",\"orientation\":\"h\",\"showlegend\":true,\"textposition\":\"auto\",\"texttemplate\":\"%{x:.2s}\",\"x\":[1499.7],\"xaxis\":\"x\",\"y\":[\"Participatie: gepensioneerd/VUT\"],\"yaxis\":\"y\",\"type\":\"bar\"},{\"alignmentgroup\":\"True\",\"hovertemplate\":\"Persoonskenmerken=%{y}<br>Perioden=2021<br>Verplaatsingen_1=%{x}<extra></extra>\",\"legendgroup\":\"Participatie: werkloos\",\"marker\":{\"color\":\"#B6E880\",\"pattern\":{\"shape\":\"\"}},\"name\":\"Participatie: werkloos\",\"offsetgroup\":\"Participatie: werkloos\",\"orientation\":\"h\",\"showlegend\":true,\"textposition\":\"auto\",\"texttemplate\":\"%{x:.2s}\",\"x\":[478.9],\"xaxis\":\"x\",\"y\":[\"Participatie: werkloos\"],\"yaxis\":\"y\",\"type\":\"bar\"},{\"alignmentgroup\":\"True\",\"hovertemplate\":\"Persoonskenmerken=%{y}<br>Perioden=2021<br>Verplaatsingen_1=%{x}<extra></extra>\",\"legendgroup\":\"Participatie: werkzaam 30 uur pw of meer\",\"marker\":{\"color\":\"#FF97FF\",\"pattern\":{\"shape\":\"\"}},\"name\":\"Participatie: werkzaam 30 uur pw of meer\",\"offsetgroup\":\"Participatie: werkzaam 30 uur pw of meer\",\"orientation\":\"h\",\"showlegend\":true,\"textposition\":\"auto\",\"texttemplate\":\"%{x:.2s}\",\"x\":[2090.18],\"xaxis\":\"x\",\"y\":[\"Participatie: werkzaam 30 uur pw of meer\"],\"yaxis\":\"y\",\"type\":\"bar\"},{\"alignmentgroup\":\"True\",\"hovertemplate\":\"Persoonskenmerken=%{y}<br>Perioden=2021<br>Verplaatsingen_1=%{x}<extra></extra>\",\"legendgroup\":\"Participatie: werkzaam: 12 tot 30 uur pw\",\"marker\":{\"color\":\"#FECB52\",\"pattern\":{\"shape\":\"\"}},\"name\":\"Participatie: werkzaam: 12 tot 30 uur pw\",\"offsetgroup\":\"Participatie: werkzaam: 12 tot 30 uur pw\",\"orientation\":\"h\",\"showlegend\":true,\"textposition\":\"auto\",\"texttemplate\":\"%{x:.2s}\",\"x\":[1946.6],\"xaxis\":\"x\",\"y\":[\"Participatie: werkzaam: 12 tot 30 uur pw\"],\"yaxis\":\"y\",\"type\":\"bar\"},{\"alignmentgroup\":\"True\",\"hovertemplate\":\"Persoonskenmerken=%{y}<br>Perioden=2021<br>Verplaatsingen_1=%{x}<extra></extra>\",\"legendgroup\":\"Participatie:student/scholier\",\"marker\":{\"color\":\"#636efa\",\"pattern\":{\"shape\":\"\"}},\"name\":\"Participatie:student/scholier\",\"offsetgroup\":\"Participatie:student/scholier\",\"orientation\":\"h\",\"showlegend\":true,\"textposition\":\"auto\",\"texttemplate\":\"%{x:.2s}\",\"x\":[1665.07],\"xaxis\":\"x\",\"y\":[\"Participatie:student/scholier\"],\"yaxis\":\"y\",\"type\":\"bar\"},{\"alignmentgroup\":\"True\",\"hovertemplate\":\"Persoonskenmerken=%{y}<br>Perioden=2021<br>Verplaatsingen_1=%{x}<extra></extra>\",\"legendgroup\":\"Rijbewijs, geen personenauto in hh\",\"marker\":{\"color\":\"#EF553B\",\"pattern\":{\"shape\":\"\"}},\"name\":\"Rijbewijs, geen personenauto in hh\",\"offsetgroup\":\"Rijbewijs, geen personenauto in hh\",\"orientation\":\"h\",\"showlegend\":true,\"textposition\":\"auto\",\"texttemplate\":\"%{x:.2s}\",\"x\":[1296.76],\"xaxis\":\"x\",\"y\":[\"Rijbewijs, geen personenauto in hh\"],\"yaxis\":\"y\",\"type\":\"bar\"},{\"alignmentgroup\":\"True\",\"hovertemplate\":\"Persoonskenmerken=%{y}<br>Perioden=2021<br>Verplaatsingen_1=%{x}<extra></extra>\",\"legendgroup\":\"Rijbewijs, personenauto in hh\",\"marker\":{\"color\":\"#00cc96\",\"pattern\":{\"shape\":\"\"}},\"name\":\"Rijbewijs, personenauto in hh\",\"offsetgroup\":\"Rijbewijs, personenauto in hh\",\"orientation\":\"h\",\"showlegend\":true,\"textposition\":\"auto\",\"texttemplate\":\"%{x:.2s}\",\"x\":[1972.04],\"xaxis\":\"x\",\"y\":[\"Rijbewijs, personenauto in hh\"],\"yaxis\":\"y\",\"type\":\"bar\"},{\"alignmentgroup\":\"True\",\"hovertemplate\":\"Persoonskenmerken=%{y}<br>Perioden=2021<br>Verplaatsingen_1=%{x}<extra></extra>\",\"legendgroup\":\"Rijbewijs, personenauto op eigen naam\",\"marker\":{\"color\":\"#ab63fa\",\"pattern\":{\"shape\":\"\"}},\"name\":\"Rijbewijs, personenauto op eigen naam\",\"offsetgroup\":\"Rijbewijs, personenauto op eigen naam\",\"orientation\":\"h\",\"showlegend\":true,\"textposition\":\"auto\",\"texttemplate\":\"%{x:.2s}\",\"x\":[2101.0],\"xaxis\":\"x\",\"y\":[\"Rijbewijs, personenauto op eigen naam\"],\"yaxis\":\"y\",\"type\":\"bar\"}],\"name\":\"2021\"}]);\n",
       "                        }).then(function(){\n",
       "                            \n",
       "var gd = document.getElementById('3ea13d0a-6565-4f7d-8c87-8be6b28ce8d0');\n",
       "var x = new MutationObserver(function (mutations, observer) {{\n",
       "        var display = window.getComputedStyle(gd).display;\n",
       "        if (!display || display === 'none') {{\n",
       "            console.log([gd, 'removed!']);\n",
       "            Plotly.purge(gd);\n",
       "            observer.disconnect();\n",
       "        }}\n",
       "}});\n",
       "\n",
       "// Listen for the removal of the full notebook cells\n",
       "var notebookContainer = gd.closest('#notebook-container');\n",
       "if (notebookContainer) {{\n",
       "    x.observe(notebookContainer, {childList: true});\n",
       "}}\n",
       "\n",
       "// Listen for the clearing of the current output cell\n",
       "var outputEl = gd.closest('.output');\n",
       "if (outputEl) {{\n",
       "    x.observe(outputEl, {childList: true});\n",
       "}}\n",
       "\n",
       "                        })                };                });            </script>        </div>"
      ]
     },
     "metadata": {},
     "output_type": "display_data"
    }
   ],
   "source": [
    "#Bar plot for number of displacements\n",
    "fig = px.bar(data_motief_2, x = 'Verplaatsingen_1', y = 'Persoonskenmerken', color = 'Persoonskenmerken',\n",
    "             orientation = 'h', text_auto = '.2s', animation_frame = 'Perioden', height = 1000, range_x = [0, 3000])\n",
    "fig.update_traces(textposition=\"outside\")\n",
    "fig.update_layout(showlegend = False)\n",
    "fig.show()"
   ]
  },
  {
   "cell_type": "markdown",
   "id": "dae8ca41",
   "metadata": {},
   "source": [
    "In the plot can be seen the number of displacements for different population categories. For the years 2019 and 2020 a reduce in the number of displacements is shown. During the year of 2020 the corona pandemia was a big topic in The Netherlands. For travelling different regulations to stop spreading the virus, wherefore the decrease of number of trips could be explained. For the decrease in 2019 not a big reason can be found. In 2021 a grow in number of trips is shown. The number of trips is not yet the same as before the corona panedemia, one of the reasons which statisfy this data is that not all regulations in the Netherlands.\n",
    "\n",
    "The smallest contribution is the group of students with a public weekend pass. This could be satisfied with the fact that students who are living on theirself not often using public transport or the car to go to school or work. \n",
    "\n",
    "Side note for the plot: the total number of people is not really relevant, since one person partipates in different categories. "
   ]
  },
  {
   "cell_type": "markdown",
   "id": "953fff18",
   "metadata": {},
   "source": [
    "### Trip durations"
   ]
  },
  {
   "cell_type": "code",
   "execution_count": 40,
   "id": "38dd6839",
   "metadata": {},
   "outputs": [
    {
     "data": {
      "application/vnd.plotly.v1+json": {
       "config": {
        "plotlyServerURL": "https://plot.ly"
       },
       "data": [
        {
         "alignmentgroup": "True",
         "hovertemplate": "Persoonskenmerken=%{y}<br>Perioden=2018<br>Reisduur_3=%{x}<extra></extra>",
         "legendgroup": "Geen rijbewijs; jonger dan 17 jaar",
         "marker": {
          "color": "#636efa",
          "pattern": {
           "shape": ""
          }
         },
         "name": "Geen rijbewijs; jonger dan 17 jaar",
         "offsetgroup": "Geen rijbewijs; jonger dan 17 jaar",
         "orientation": "h",
         "showlegend": true,
         "textposition": "outside",
         "texttemplate": "%{x:.2s}",
         "type": "bar",
         "x": [
          45471.25
         ],
         "xaxis": "x",
         "y": [
          "Geen rijbewijs; jonger dan 17 jaar"
         ],
         "yaxis": "y"
        },
        {
         "alignmentgroup": "True",
         "hovertemplate": "Persoonskenmerken=%{y}<br>Perioden=2018<br>Reisduur_3=%{x}<extra></extra>",
         "legendgroup": "Geen rijbewijs; wel 17 jaar of ouder",
         "marker": {
          "color": "#EF553B",
          "pattern": {
           "shape": ""
          }
         },
         "name": "Geen rijbewijs; wel 17 jaar of ouder",
         "offsetgroup": "Geen rijbewijs; wel 17 jaar of ouder",
         "orientation": "h",
         "showlegend": true,
         "textposition": "outside",
         "texttemplate": "%{x:.2s}",
         "type": "bar",
         "x": [
          39817.94
         ],
         "xaxis": "x",
         "y": [
          "Geen rijbewijs; wel 17 jaar of ouder"
         ],
         "yaxis": "y"
        },
        {
         "alignmentgroup": "True",
         "hovertemplate": "Persoonskenmerken=%{y}<br>Perioden=2018<br>Reisduur_3=%{x}<extra></extra>",
         "legendgroup": "Gestandaardiseerd inkomen: 1e 20%-groep",
         "marker": {
          "color": "#00cc96",
          "pattern": {
           "shape": ""
          }
         },
         "name": "Gestandaardiseerd inkomen: 1e 20%-groep",
         "offsetgroup": "Gestandaardiseerd inkomen: 1e 20%-groep",
         "orientation": "h",
         "showlegend": true,
         "textposition": "outside",
         "texttemplate": "%{x:.2s}",
         "type": "bar",
         "x": [
          44740.33
         ],
         "xaxis": "x",
         "y": [
          "Gestandaardiseerd inkomen: 1e 20%-groep"
         ],
         "yaxis": "y"
        },
        {
         "alignmentgroup": "True",
         "hovertemplate": "Persoonskenmerken=%{y}<br>Perioden=2018<br>Reisduur_3=%{x}<extra></extra>",
         "legendgroup": "Gestandaardiseerd inkomen: 2e 20%-groep",
         "marker": {
          "color": "#ab63fa",
          "pattern": {
           "shape": ""
          }
         },
         "name": "Gestandaardiseerd inkomen: 2e 20%-groep",
         "offsetgroup": "Gestandaardiseerd inkomen: 2e 20%-groep",
         "orientation": "h",
         "showlegend": true,
         "textposition": "outside",
         "texttemplate": "%{x:.2s}",
         "type": "bar",
         "x": [
          45668.36
         ],
         "xaxis": "x",
         "y": [
          "Gestandaardiseerd inkomen: 2e 20%-groep"
         ],
         "yaxis": "y"
        },
        {
         "alignmentgroup": "True",
         "hovertemplate": "Persoonskenmerken=%{y}<br>Perioden=2018<br>Reisduur_3=%{x}<extra></extra>",
         "legendgroup": "Gestandaardiseerd inkomen: 3e 20%-groep",
         "marker": {
          "color": "#FFA15A",
          "pattern": {
           "shape": ""
          }
         },
         "name": "Gestandaardiseerd inkomen: 3e 20%-groep",
         "offsetgroup": "Gestandaardiseerd inkomen: 3e 20%-groep",
         "orientation": "h",
         "showlegend": true,
         "textposition": "outside",
         "texttemplate": "%{x:.2s}",
         "type": "bar",
         "x": [
          55292.64
         ],
         "xaxis": "x",
         "y": [
          "Gestandaardiseerd inkomen: 3e 20%-groep"
         ],
         "yaxis": "y"
        },
        {
         "alignmentgroup": "True",
         "hovertemplate": "Persoonskenmerken=%{y}<br>Perioden=2018<br>Reisduur_3=%{x}<extra></extra>",
         "legendgroup": "Gestandaardiseerd inkomen: 4e 20%-groep",
         "marker": {
          "color": "#19d3f3",
          "pattern": {
           "shape": ""
          }
         },
         "name": "Gestandaardiseerd inkomen: 4e 20%-groep",
         "offsetgroup": "Gestandaardiseerd inkomen: 4e 20%-groep",
         "orientation": "h",
         "showlegend": true,
         "textposition": "outside",
         "texttemplate": "%{x:.2s}",
         "type": "bar",
         "x": [
          56974.72
         ],
         "xaxis": "x",
         "y": [
          "Gestandaardiseerd inkomen: 4e 20%-groep"
         ],
         "yaxis": "y"
        },
        {
         "alignmentgroup": "True",
         "hovertemplate": "Persoonskenmerken=%{y}<br>Perioden=2018<br>Reisduur_3=%{x}<extra></extra>",
         "legendgroup": "Gestandaardiseerd inkomen: 5e 20%-groep",
         "marker": {
          "color": "#FF6692",
          "pattern": {
           "shape": ""
          }
         },
         "name": "Gestandaardiseerd inkomen: 5e 20%-groep",
         "offsetgroup": "Gestandaardiseerd inkomen: 5e 20%-groep",
         "orientation": "h",
         "showlegend": true,
         "textposition": "outside",
         "texttemplate": "%{x:.2s}",
         "type": "bar",
         "x": [
          60086.72
         ],
         "xaxis": "x",
         "y": [
          "Gestandaardiseerd inkomen: 5e 20%-groep"
         ],
         "yaxis": "y"
        },
        {
         "alignmentgroup": "True",
         "hovertemplate": "Persoonskenmerken=%{y}<br>Perioden=2018<br>Reisduur_3=%{x}<extra></extra>",
         "legendgroup": "Leeftijd: 12 tot 18 jaar",
         "marker": {
          "color": "#B6E880",
          "pattern": {
           "shape": ""
          }
         },
         "name": "Leeftijd: 12 tot 18 jaar",
         "offsetgroup": "Leeftijd: 12 tot 18 jaar",
         "orientation": "h",
         "showlegend": true,
         "textposition": "outside",
         "texttemplate": "%{x:.2s}",
         "type": "bar",
         "x": [
          47746.74
         ],
         "xaxis": "x",
         "y": [
          "Leeftijd: 12 tot 18 jaar"
         ],
         "yaxis": "y"
        },
        {
         "alignmentgroup": "True",
         "hovertemplate": "Persoonskenmerken=%{y}<br>Perioden=2018<br>Reisduur_3=%{x}<extra></extra>",
         "legendgroup": "Leeftijd: 18 tot 25 jaar",
         "marker": {
          "color": "#FF97FF",
          "pattern": {
           "shape": ""
          }
         },
         "name": "Leeftijd: 18 tot 25 jaar",
         "offsetgroup": "Leeftijd: 18 tot 25 jaar",
         "orientation": "h",
         "showlegend": true,
         "textposition": "outside",
         "texttemplate": "%{x:.2s}",
         "type": "bar",
         "x": [
          52142.32
         ],
         "xaxis": "x",
         "y": [
          "Leeftijd: 18 tot 25 jaar"
         ],
         "yaxis": "y"
        },
        {
         "alignmentgroup": "True",
         "hovertemplate": "Persoonskenmerken=%{y}<br>Perioden=2018<br>Reisduur_3=%{x}<extra></extra>",
         "legendgroup": "Leeftijd: 25 tot 35 jaar",
         "marker": {
          "color": "#FECB52",
          "pattern": {
           "shape": ""
          }
         },
         "name": "Leeftijd: 25 tot 35 jaar",
         "offsetgroup": "Leeftijd: 25 tot 35 jaar",
         "orientation": "h",
         "showlegend": true,
         "textposition": "outside",
         "texttemplate": "%{x:.2s}",
         "type": "bar",
         "x": [
          56826.7
         ],
         "xaxis": "x",
         "y": [
          "Leeftijd: 25 tot 35 jaar"
         ],
         "yaxis": "y"
        },
        {
         "alignmentgroup": "True",
         "hovertemplate": "Persoonskenmerken=%{y}<br>Perioden=2018<br>Reisduur_3=%{x}<extra></extra>",
         "legendgroup": "Leeftijd: 35 tot 50 jaar",
         "marker": {
          "color": "#636efa",
          "pattern": {
           "shape": ""
          }
         },
         "name": "Leeftijd: 35 tot 50 jaar",
         "offsetgroup": "Leeftijd: 35 tot 50 jaar",
         "orientation": "h",
         "showlegend": true,
         "textposition": "outside",
         "texttemplate": "%{x:.2s}",
         "type": "bar",
         "x": [
          57302.72
         ],
         "xaxis": "x",
         "y": [
          "Leeftijd: 35 tot 50 jaar"
         ],
         "yaxis": "y"
        },
        {
         "alignmentgroup": "True",
         "hovertemplate": "Persoonskenmerken=%{y}<br>Perioden=2018<br>Reisduur_3=%{x}<extra></extra>",
         "legendgroup": "Leeftijd: 50 tot 65 jaar",
         "marker": {
          "color": "#EF553B",
          "pattern": {
           "shape": ""
          }
         },
         "name": "Leeftijd: 50 tot 65 jaar",
         "offsetgroup": "Leeftijd: 50 tot 65 jaar",
         "orientation": "h",
         "showlegend": true,
         "textposition": "outside",
         "texttemplate": "%{x:.2s}",
         "type": "bar",
         "x": [
          56778.36
         ],
         "xaxis": "x",
         "y": [
          "Leeftijd: 50 tot 65 jaar"
         ],
         "yaxis": "y"
        },
        {
         "alignmentgroup": "True",
         "hovertemplate": "Persoonskenmerken=%{y}<br>Perioden=2018<br>Reisduur_3=%{x}<extra></extra>",
         "legendgroup": "Leeftijd: 65 tot 75 jaar",
         "marker": {
          "color": "#00cc96",
          "pattern": {
           "shape": ""
          }
         },
         "name": "Leeftijd: 65 tot 75 jaar",
         "offsetgroup": "Leeftijd: 65 tot 75 jaar",
         "orientation": "h",
         "showlegend": true,
         "textposition": "outside",
         "texttemplate": "%{x:.2s}",
         "type": "bar",
         "x": [
          48317.16
         ],
         "xaxis": "x",
         "y": [
          "Leeftijd: 65 tot 75 jaar"
         ],
         "yaxis": "y"
        },
        {
         "alignmentgroup": "True",
         "hovertemplate": "Persoonskenmerken=%{y}<br>Perioden=2018<br>Reisduur_3=%{x}<extra></extra>",
         "legendgroup": "Leeftijd: 75 jaar of ouder",
         "marker": {
          "color": "#ab63fa",
          "pattern": {
           "shape": ""
          }
         },
         "name": "Leeftijd: 75 jaar of ouder",
         "offsetgroup": "Leeftijd: 75 jaar of ouder",
         "orientation": "h",
         "showlegend": true,
         "textposition": "outside",
         "texttemplate": "%{x:.2s}",
         "type": "bar",
         "x": [
          27749.94
         ],
         "xaxis": "x",
         "y": [
          "Leeftijd: 75 jaar of ouder"
         ],
         "yaxis": "y"
        },
        {
         "alignmentgroup": "True",
         "hovertemplate": "Persoonskenmerken=%{y}<br>Perioden=2018<br>Reisduur_3=%{x}<extra></extra>",
         "legendgroup": "Leeftijd:6 tot 12 jaar",
         "marker": {
          "color": "#FFA15A",
          "pattern": {
           "shape": ""
          }
         },
         "name": "Leeftijd:6 tot 12 jaar",
         "offsetgroup": "Leeftijd:6 tot 12 jaar",
         "orientation": "h",
         "showlegend": true,
         "textposition": "outside",
         "texttemplate": "%{x:.2s}",
         "type": "bar",
         "x": [
          20602.66
         ],
         "xaxis": "x",
         "y": [
          "Leeftijd:6 tot 12 jaar"
         ],
         "yaxis": "y"
        },
        {
         "alignmentgroup": "True",
         "hovertemplate": "Persoonskenmerken=%{y}<br>Perioden=2018<br>Reisduur_3=%{x}<extra></extra>",
         "legendgroup": "Migratieachtergrond: Nederland",
         "marker": {
          "color": "#19d3f3",
          "pattern": {
           "shape": ""
          }
         },
         "name": "Migratieachtergrond: Nederland",
         "offsetgroup": "Migratieachtergrond: Nederland",
         "orientation": "h",
         "showlegend": true,
         "textposition": "outside",
         "texttemplate": "%{x:.2s}",
         "type": "bar",
         "x": [
          59922.5
         ],
         "xaxis": "x",
         "y": [
          "Migratieachtergrond: Nederland"
         ],
         "yaxis": "y"
        },
        {
         "alignmentgroup": "True",
         "hovertemplate": "Persoonskenmerken=%{y}<br>Perioden=2018<br>Reisduur_3=%{x}<extra></extra>",
         "legendgroup": "Migratieachtergrond: niet-westers",
         "marker": {
          "color": "#FF6692",
          "pattern": {
           "shape": ""
          }
         },
         "name": "Migratieachtergrond: niet-westers",
         "offsetgroup": "Migratieachtergrond: niet-westers",
         "orientation": "h",
         "showlegend": true,
         "textposition": "outside",
         "texttemplate": "%{x:.2s}",
         "type": "bar",
         "x": [
          33443.8
         ],
         "xaxis": "x",
         "y": [
          "Migratieachtergrond: niet-westers"
         ],
         "yaxis": "y"
        },
        {
         "alignmentgroup": "True",
         "hovertemplate": "Persoonskenmerken=%{y}<br>Perioden=2018<br>Reisduur_3=%{x}<extra></extra>",
         "legendgroup": "Migratieachtergrond: westers",
         "marker": {
          "color": "#B6E880",
          "pattern": {
           "shape": ""
          }
         },
         "name": "Migratieachtergrond: westers",
         "offsetgroup": "Migratieachtergrond: westers",
         "orientation": "h",
         "showlegend": true,
         "textposition": "outside",
         "texttemplate": "%{x:.2s}",
         "type": "bar",
         "x": [
          42032.44
         ],
         "xaxis": "x",
         "y": [
          "Migratieachtergrond: westers"
         ],
         "yaxis": "y"
        },
        {
         "alignmentgroup": "True",
         "hovertemplate": "Persoonskenmerken=%{y}<br>Perioden=2018<br>Reisduur_3=%{x}<extra></extra>",
         "legendgroup": "OV-Studentenkaart: geen",
         "marker": {
          "color": "#FF97FF",
          "pattern": {
           "shape": ""
          }
         },
         "name": "OV-Studentenkaart: geen",
         "offsetgroup": "OV-Studentenkaart: geen",
         "orientation": "h",
         "showlegend": true,
         "textposition": "outside",
         "texttemplate": "%{x:.2s}",
         "type": "bar",
         "x": [
          57731.62
         ],
         "xaxis": "x",
         "y": [
          "OV-Studentenkaart: geen"
         ],
         "yaxis": "y"
        },
        {
         "alignmentgroup": "True",
         "hovertemplate": "Persoonskenmerken=%{y}<br>Perioden=2018<br>Reisduur_3=%{x}<extra></extra>",
         "legendgroup": "OV-Studentenkaart: weekabonnement",
         "marker": {
          "color": "#FECB52",
          "pattern": {
           "shape": ""
          }
         },
         "name": "OV-Studentenkaart: weekabonnement",
         "offsetgroup": "OV-Studentenkaart: weekabonnement",
         "orientation": "h",
         "showlegend": true,
         "textposition": "outside",
         "texttemplate": "%{x:.2s}",
         "type": "bar",
         "x": [
          53211.64
         ],
         "xaxis": "x",
         "y": [
          "OV-Studentenkaart: weekabonnement"
         ],
         "yaxis": "y"
        },
        {
         "alignmentgroup": "True",
         "hovertemplate": "Persoonskenmerken=%{y}<br>Perioden=2018<br>Reisduur_3=%{x}<extra></extra>",
         "legendgroup": "OV-Studentenkaart: weekendabonnement",
         "marker": {
          "color": "#636efa",
          "pattern": {
           "shape": ""
          }
         },
         "name": "OV-Studentenkaart: weekendabonnement",
         "offsetgroup": "OV-Studentenkaart: weekendabonnement",
         "orientation": "h",
         "showlegend": true,
         "textposition": "outside",
         "texttemplate": "%{x:.2s}",
         "type": "bar",
         "x": [
          7879.24
         ],
         "xaxis": "x",
         "y": [
          "OV-Studentenkaart: weekendabonnement"
         ],
         "yaxis": "y"
        },
        {
         "alignmentgroup": "True",
         "hovertemplate": "Persoonskenmerken=%{y}<br>Perioden=2018<br>Reisduur_3=%{x}<extra></extra>",
         "legendgroup": "Onderwijsniveau: 1 Laag",
         "marker": {
          "color": "#EF553B",
          "pattern": {
           "shape": ""
          }
         },
         "name": "Onderwijsniveau: 1 Laag",
         "offsetgroup": "Onderwijsniveau: 1 Laag",
         "orientation": "h",
         "showlegend": true,
         "textposition": "outside",
         "texttemplate": "%{x:.2s}",
         "type": "bar",
         "x": [
          44280
         ],
         "xaxis": "x",
         "y": [
          "Onderwijsniveau: 1 Laag"
         ],
         "yaxis": "y"
        },
        {
         "alignmentgroup": "True",
         "hovertemplate": "Persoonskenmerken=%{y}<br>Perioden=2018<br>Reisduur_3=%{x}<extra></extra>",
         "legendgroup": "Onderwijsniveau: 2 Middelbaar",
         "marker": {
          "color": "#00cc96",
          "pattern": {
           "shape": ""
          }
         },
         "name": "Onderwijsniveau: 2 Middelbaar",
         "offsetgroup": "Onderwijsniveau: 2 Middelbaar",
         "orientation": "h",
         "showlegend": true,
         "textposition": "outside",
         "texttemplate": "%{x:.2s}",
         "type": "bar",
         "x": [
          58227.48
         ],
         "xaxis": "x",
         "y": [
          "Onderwijsniveau: 2 Middelbaar"
         ],
         "yaxis": "y"
        },
        {
         "alignmentgroup": "True",
         "hovertemplate": "Persoonskenmerken=%{y}<br>Perioden=2018<br>Reisduur_3=%{x}<extra></extra>",
         "legendgroup": "Onderwijsniveau: 3 Hoog",
         "marker": {
          "color": "#ab63fa",
          "pattern": {
           "shape": ""
          }
         },
         "name": "Onderwijsniveau: 3 Hoog",
         "offsetgroup": "Onderwijsniveau: 3 Hoog",
         "orientation": "h",
         "showlegend": true,
         "textposition": "outside",
         "texttemplate": "%{x:.2s}",
         "type": "bar",
         "x": [
          65274.16
         ],
         "xaxis": "x",
         "y": [
          "Onderwijsniveau: 3 Hoog"
         ],
         "yaxis": "y"
        },
        {
         "alignmentgroup": "True",
         "hovertemplate": "Persoonskenmerken=%{y}<br>Perioden=2018<br>Reisduur_3=%{x}<extra></extra>",
         "legendgroup": "Participatie:  arbeidsongeschikt",
         "marker": {
          "color": "#FFA15A",
          "pattern": {
           "shape": ""
          }
         },
         "name": "Participatie:  arbeidsongeschikt",
         "offsetgroup": "Participatie:  arbeidsongeschikt",
         "orientation": "h",
         "showlegend": true,
         "textposition": "outside",
         "texttemplate": "%{x:.2s}",
         "type": "bar",
         "x": [
          21187.36
         ],
         "xaxis": "x",
         "y": [
          "Participatie:  arbeidsongeschikt"
         ],
         "yaxis": "y"
        },
        {
         "alignmentgroup": "True",
         "hovertemplate": "Persoonskenmerken=%{y}<br>Perioden=2018<br>Reisduur_3=%{x}<extra></extra>",
         "legendgroup": "Participatie: anders/overig",
         "marker": {
          "color": "#19d3f3",
          "pattern": {
           "shape": ""
          }
         },
         "name": "Participatie: anders/overig",
         "offsetgroup": "Participatie: anders/overig",
         "orientation": "h",
         "showlegend": true,
         "textposition": "outside",
         "texttemplate": "%{x:.2s}",
         "type": "bar",
         "x": [
          36093.22
         ],
         "xaxis": "x",
         "y": [
          "Participatie: anders/overig"
         ],
         "yaxis": "y"
        },
        {
         "alignmentgroup": "True",
         "hovertemplate": "Persoonskenmerken=%{y}<br>Perioden=2018<br>Reisduur_3=%{x}<extra></extra>",
         "legendgroup": "Participatie: gepensioneerd/VUT",
         "marker": {
          "color": "#FF6692",
          "pattern": {
           "shape": ""
          }
         },
         "name": "Participatie: gepensioneerd/VUT",
         "offsetgroup": "Participatie: gepensioneerd/VUT",
         "orientation": "h",
         "showlegend": true,
         "textposition": "outside",
         "texttemplate": "%{x:.2s}",
         "type": "bar",
         "x": [
          45823.48
         ],
         "xaxis": "x",
         "y": [
          "Participatie: gepensioneerd/VUT"
         ],
         "yaxis": "y"
        },
        {
         "alignmentgroup": "True",
         "hovertemplate": "Persoonskenmerken=%{y}<br>Perioden=2018<br>Reisduur_3=%{x}<extra></extra>",
         "legendgroup": "Participatie: werkloos",
         "marker": {
          "color": "#B6E880",
          "pattern": {
           "shape": ""
          }
         },
         "name": "Participatie: werkloos",
         "offsetgroup": "Participatie: werkloos",
         "orientation": "h",
         "showlegend": true,
         "textposition": "outside",
         "texttemplate": "%{x:.2s}",
         "type": "bar",
         "x": [
          17860.4
         ],
         "xaxis": "x",
         "y": [
          "Participatie: werkloos"
         ],
         "yaxis": "y"
        },
        {
         "alignmentgroup": "True",
         "hovertemplate": "Persoonskenmerken=%{y}<br>Perioden=2018<br>Reisduur_3=%{x}<extra></extra>",
         "legendgroup": "Participatie: werkzaam 30 uur pw of meer",
         "marker": {
          "color": "#FF97FF",
          "pattern": {
           "shape": ""
          }
         },
         "name": "Participatie: werkzaam 30 uur pw of meer",
         "offsetgroup": "Participatie: werkzaam 30 uur pw of meer",
         "orientation": "h",
         "showlegend": true,
         "textposition": "outside",
         "texttemplate": "%{x:.2s}",
         "type": "bar",
         "x": [
          63498.12
         ],
         "xaxis": "x",
         "y": [
          "Participatie: werkzaam 30 uur pw of meer"
         ],
         "yaxis": "y"
        },
        {
         "alignmentgroup": "True",
         "hovertemplate": "Persoonskenmerken=%{y}<br>Perioden=2018<br>Reisduur_3=%{x}<extra></extra>",
         "legendgroup": "Participatie: werkzaam: 12 tot 30 uur pw",
         "marker": {
          "color": "#FECB52",
          "pattern": {
           "shape": ""
          }
         },
         "name": "Participatie: werkzaam: 12 tot 30 uur pw",
         "offsetgroup": "Participatie: werkzaam: 12 tot 30 uur pw",
         "orientation": "h",
         "showlegend": true,
         "textposition": "outside",
         "texttemplate": "%{x:.2s}",
         "type": "bar",
         "x": [
          49450.2
         ],
         "xaxis": "x",
         "y": [
          "Participatie: werkzaam: 12 tot 30 uur pw"
         ],
         "yaxis": "y"
        },
        {
         "alignmentgroup": "True",
         "hovertemplate": "Persoonskenmerken=%{y}<br>Perioden=2018<br>Reisduur_3=%{x}<extra></extra>",
         "legendgroup": "Participatie:student/scholier",
         "marker": {
          "color": "#636efa",
          "pattern": {
           "shape": ""
          }
         },
         "name": "Participatie:student/scholier",
         "offsetgroup": "Participatie:student/scholier",
         "orientation": "h",
         "showlegend": true,
         "textposition": "outside",
         "texttemplate": "%{x:.2s}",
         "type": "bar",
         "x": [
          53504.15
         ],
         "xaxis": "x",
         "y": [
          "Participatie:student/scholier"
         ],
         "yaxis": "y"
        },
        {
         "alignmentgroup": "True",
         "hovertemplate": "Persoonskenmerken=%{y}<br>Perioden=2018<br>Reisduur_3=%{x}<extra></extra>",
         "legendgroup": "Rijbewijs, geen personenauto in hh",
         "marker": {
          "color": "#EF553B",
          "pattern": {
           "shape": ""
          }
         },
         "name": "Rijbewijs, geen personenauto in hh",
         "offsetgroup": "Rijbewijs, geen personenauto in hh",
         "orientation": "h",
         "showlegend": true,
         "textposition": "outside",
         "texttemplate": "%{x:.2s}",
         "type": "bar",
         "x": [
          40659.56
         ],
         "xaxis": "x",
         "y": [
          "Rijbewijs, geen personenauto in hh"
         ],
         "yaxis": "y"
        },
        {
         "alignmentgroup": "True",
         "hovertemplate": "Persoonskenmerken=%{y}<br>Perioden=2018<br>Reisduur_3=%{x}<extra></extra>",
         "legendgroup": "Rijbewijs, personenauto in hh",
         "marker": {
          "color": "#00cc96",
          "pattern": {
           "shape": ""
          }
         },
         "name": "Rijbewijs, personenauto in hh",
         "offsetgroup": "Rijbewijs, personenauto in hh",
         "orientation": "h",
         "showlegend": true,
         "textposition": "outside",
         "texttemplate": "%{x:.2s}",
         "type": "bar",
         "x": [
          58619.7
         ],
         "xaxis": "x",
         "y": [
          "Rijbewijs, personenauto in hh"
         ],
         "yaxis": "y"
        },
        {
         "alignmentgroup": "True",
         "hovertemplate": "Persoonskenmerken=%{y}<br>Perioden=2018<br>Reisduur_3=%{x}<extra></extra>",
         "legendgroup": "Rijbewijs, personenauto op eigen naam",
         "marker": {
          "color": "#ab63fa",
          "pattern": {
           "shape": ""
          }
         },
         "name": "Rijbewijs, personenauto op eigen naam",
         "offsetgroup": "Rijbewijs, personenauto op eigen naam",
         "orientation": "h",
         "showlegend": true,
         "textposition": "outside",
         "texttemplate": "%{x:.2s}",
         "type": "bar",
         "x": [
          60192.28
         ],
         "xaxis": "x",
         "y": [
          "Rijbewijs, personenauto op eigen naam"
         ],
         "yaxis": "y"
        }
       ],
       "frames": [
        {
         "data": [
          {
           "alignmentgroup": "True",
           "hovertemplate": "Persoonskenmerken=%{y}<br>Perioden=2018<br>Reisduur_3=%{x}<extra></extra>",
           "legendgroup": "Geen rijbewijs; jonger dan 17 jaar",
           "marker": {
            "color": "#636efa",
            "pattern": {
             "shape": ""
            }
           },
           "name": "Geen rijbewijs; jonger dan 17 jaar",
           "offsetgroup": "Geen rijbewijs; jonger dan 17 jaar",
           "orientation": "h",
           "showlegend": true,
           "textposition": "auto",
           "texttemplate": "%{x:.2s}",
           "type": "bar",
           "x": [
            45471.25
           ],
           "xaxis": "x",
           "y": [
            "Geen rijbewijs; jonger dan 17 jaar"
           ],
           "yaxis": "y"
          },
          {
           "alignmentgroup": "True",
           "hovertemplate": "Persoonskenmerken=%{y}<br>Perioden=2018<br>Reisduur_3=%{x}<extra></extra>",
           "legendgroup": "Geen rijbewijs; wel 17 jaar of ouder",
           "marker": {
            "color": "#EF553B",
            "pattern": {
             "shape": ""
            }
           },
           "name": "Geen rijbewijs; wel 17 jaar of ouder",
           "offsetgroup": "Geen rijbewijs; wel 17 jaar of ouder",
           "orientation": "h",
           "showlegend": true,
           "textposition": "auto",
           "texttemplate": "%{x:.2s}",
           "type": "bar",
           "x": [
            39817.94
           ],
           "xaxis": "x",
           "y": [
            "Geen rijbewijs; wel 17 jaar of ouder"
           ],
           "yaxis": "y"
          },
          {
           "alignmentgroup": "True",
           "hovertemplate": "Persoonskenmerken=%{y}<br>Perioden=2018<br>Reisduur_3=%{x}<extra></extra>",
           "legendgroup": "Gestandaardiseerd inkomen: 1e 20%-groep",
           "marker": {
            "color": "#00cc96",
            "pattern": {
             "shape": ""
            }
           },
           "name": "Gestandaardiseerd inkomen: 1e 20%-groep",
           "offsetgroup": "Gestandaardiseerd inkomen: 1e 20%-groep",
           "orientation": "h",
           "showlegend": true,
           "textposition": "auto",
           "texttemplate": "%{x:.2s}",
           "type": "bar",
           "x": [
            44740.33
           ],
           "xaxis": "x",
           "y": [
            "Gestandaardiseerd inkomen: 1e 20%-groep"
           ],
           "yaxis": "y"
          },
          {
           "alignmentgroup": "True",
           "hovertemplate": "Persoonskenmerken=%{y}<br>Perioden=2018<br>Reisduur_3=%{x}<extra></extra>",
           "legendgroup": "Gestandaardiseerd inkomen: 2e 20%-groep",
           "marker": {
            "color": "#ab63fa",
            "pattern": {
             "shape": ""
            }
           },
           "name": "Gestandaardiseerd inkomen: 2e 20%-groep",
           "offsetgroup": "Gestandaardiseerd inkomen: 2e 20%-groep",
           "orientation": "h",
           "showlegend": true,
           "textposition": "auto",
           "texttemplate": "%{x:.2s}",
           "type": "bar",
           "x": [
            45668.36
           ],
           "xaxis": "x",
           "y": [
            "Gestandaardiseerd inkomen: 2e 20%-groep"
           ],
           "yaxis": "y"
          },
          {
           "alignmentgroup": "True",
           "hovertemplate": "Persoonskenmerken=%{y}<br>Perioden=2018<br>Reisduur_3=%{x}<extra></extra>",
           "legendgroup": "Gestandaardiseerd inkomen: 3e 20%-groep",
           "marker": {
            "color": "#FFA15A",
            "pattern": {
             "shape": ""
            }
           },
           "name": "Gestandaardiseerd inkomen: 3e 20%-groep",
           "offsetgroup": "Gestandaardiseerd inkomen: 3e 20%-groep",
           "orientation": "h",
           "showlegend": true,
           "textposition": "auto",
           "texttemplate": "%{x:.2s}",
           "type": "bar",
           "x": [
            55292.64
           ],
           "xaxis": "x",
           "y": [
            "Gestandaardiseerd inkomen: 3e 20%-groep"
           ],
           "yaxis": "y"
          },
          {
           "alignmentgroup": "True",
           "hovertemplate": "Persoonskenmerken=%{y}<br>Perioden=2018<br>Reisduur_3=%{x}<extra></extra>",
           "legendgroup": "Gestandaardiseerd inkomen: 4e 20%-groep",
           "marker": {
            "color": "#19d3f3",
            "pattern": {
             "shape": ""
            }
           },
           "name": "Gestandaardiseerd inkomen: 4e 20%-groep",
           "offsetgroup": "Gestandaardiseerd inkomen: 4e 20%-groep",
           "orientation": "h",
           "showlegend": true,
           "textposition": "auto",
           "texttemplate": "%{x:.2s}",
           "type": "bar",
           "x": [
            56974.72
           ],
           "xaxis": "x",
           "y": [
            "Gestandaardiseerd inkomen: 4e 20%-groep"
           ],
           "yaxis": "y"
          },
          {
           "alignmentgroup": "True",
           "hovertemplate": "Persoonskenmerken=%{y}<br>Perioden=2018<br>Reisduur_3=%{x}<extra></extra>",
           "legendgroup": "Gestandaardiseerd inkomen: 5e 20%-groep",
           "marker": {
            "color": "#FF6692",
            "pattern": {
             "shape": ""
            }
           },
           "name": "Gestandaardiseerd inkomen: 5e 20%-groep",
           "offsetgroup": "Gestandaardiseerd inkomen: 5e 20%-groep",
           "orientation": "h",
           "showlegend": true,
           "textposition": "auto",
           "texttemplate": "%{x:.2s}",
           "type": "bar",
           "x": [
            60086.72
           ],
           "xaxis": "x",
           "y": [
            "Gestandaardiseerd inkomen: 5e 20%-groep"
           ],
           "yaxis": "y"
          },
          {
           "alignmentgroup": "True",
           "hovertemplate": "Persoonskenmerken=%{y}<br>Perioden=2018<br>Reisduur_3=%{x}<extra></extra>",
           "legendgroup": "Leeftijd: 12 tot 18 jaar",
           "marker": {
            "color": "#B6E880",
            "pattern": {
             "shape": ""
            }
           },
           "name": "Leeftijd: 12 tot 18 jaar",
           "offsetgroup": "Leeftijd: 12 tot 18 jaar",
           "orientation": "h",
           "showlegend": true,
           "textposition": "auto",
           "texttemplate": "%{x:.2s}",
           "type": "bar",
           "x": [
            47746.74
           ],
           "xaxis": "x",
           "y": [
            "Leeftijd: 12 tot 18 jaar"
           ],
           "yaxis": "y"
          },
          {
           "alignmentgroup": "True",
           "hovertemplate": "Persoonskenmerken=%{y}<br>Perioden=2018<br>Reisduur_3=%{x}<extra></extra>",
           "legendgroup": "Leeftijd: 18 tot 25 jaar",
           "marker": {
            "color": "#FF97FF",
            "pattern": {
             "shape": ""
            }
           },
           "name": "Leeftijd: 18 tot 25 jaar",
           "offsetgroup": "Leeftijd: 18 tot 25 jaar",
           "orientation": "h",
           "showlegend": true,
           "textposition": "auto",
           "texttemplate": "%{x:.2s}",
           "type": "bar",
           "x": [
            52142.32
           ],
           "xaxis": "x",
           "y": [
            "Leeftijd: 18 tot 25 jaar"
           ],
           "yaxis": "y"
          },
          {
           "alignmentgroup": "True",
           "hovertemplate": "Persoonskenmerken=%{y}<br>Perioden=2018<br>Reisduur_3=%{x}<extra></extra>",
           "legendgroup": "Leeftijd: 25 tot 35 jaar",
           "marker": {
            "color": "#FECB52",
            "pattern": {
             "shape": ""
            }
           },
           "name": "Leeftijd: 25 tot 35 jaar",
           "offsetgroup": "Leeftijd: 25 tot 35 jaar",
           "orientation": "h",
           "showlegend": true,
           "textposition": "auto",
           "texttemplate": "%{x:.2s}",
           "type": "bar",
           "x": [
            56826.7
           ],
           "xaxis": "x",
           "y": [
            "Leeftijd: 25 tot 35 jaar"
           ],
           "yaxis": "y"
          },
          {
           "alignmentgroup": "True",
           "hovertemplate": "Persoonskenmerken=%{y}<br>Perioden=2018<br>Reisduur_3=%{x}<extra></extra>",
           "legendgroup": "Leeftijd: 35 tot 50 jaar",
           "marker": {
            "color": "#636efa",
            "pattern": {
             "shape": ""
            }
           },
           "name": "Leeftijd: 35 tot 50 jaar",
           "offsetgroup": "Leeftijd: 35 tot 50 jaar",
           "orientation": "h",
           "showlegend": true,
           "textposition": "auto",
           "texttemplate": "%{x:.2s}",
           "type": "bar",
           "x": [
            57302.72
           ],
           "xaxis": "x",
           "y": [
            "Leeftijd: 35 tot 50 jaar"
           ],
           "yaxis": "y"
          },
          {
           "alignmentgroup": "True",
           "hovertemplate": "Persoonskenmerken=%{y}<br>Perioden=2018<br>Reisduur_3=%{x}<extra></extra>",
           "legendgroup": "Leeftijd: 50 tot 65 jaar",
           "marker": {
            "color": "#EF553B",
            "pattern": {
             "shape": ""
            }
           },
           "name": "Leeftijd: 50 tot 65 jaar",
           "offsetgroup": "Leeftijd: 50 tot 65 jaar",
           "orientation": "h",
           "showlegend": true,
           "textposition": "auto",
           "texttemplate": "%{x:.2s}",
           "type": "bar",
           "x": [
            56778.36
           ],
           "xaxis": "x",
           "y": [
            "Leeftijd: 50 tot 65 jaar"
           ],
           "yaxis": "y"
          },
          {
           "alignmentgroup": "True",
           "hovertemplate": "Persoonskenmerken=%{y}<br>Perioden=2018<br>Reisduur_3=%{x}<extra></extra>",
           "legendgroup": "Leeftijd: 65 tot 75 jaar",
           "marker": {
            "color": "#00cc96",
            "pattern": {
             "shape": ""
            }
           },
           "name": "Leeftijd: 65 tot 75 jaar",
           "offsetgroup": "Leeftijd: 65 tot 75 jaar",
           "orientation": "h",
           "showlegend": true,
           "textposition": "auto",
           "texttemplate": "%{x:.2s}",
           "type": "bar",
           "x": [
            48317.16
           ],
           "xaxis": "x",
           "y": [
            "Leeftijd: 65 tot 75 jaar"
           ],
           "yaxis": "y"
          },
          {
           "alignmentgroup": "True",
           "hovertemplate": "Persoonskenmerken=%{y}<br>Perioden=2018<br>Reisduur_3=%{x}<extra></extra>",
           "legendgroup": "Leeftijd: 75 jaar of ouder",
           "marker": {
            "color": "#ab63fa",
            "pattern": {
             "shape": ""
            }
           },
           "name": "Leeftijd: 75 jaar of ouder",
           "offsetgroup": "Leeftijd: 75 jaar of ouder",
           "orientation": "h",
           "showlegend": true,
           "textposition": "auto",
           "texttemplate": "%{x:.2s}",
           "type": "bar",
           "x": [
            27749.94
           ],
           "xaxis": "x",
           "y": [
            "Leeftijd: 75 jaar of ouder"
           ],
           "yaxis": "y"
          },
          {
           "alignmentgroup": "True",
           "hovertemplate": "Persoonskenmerken=%{y}<br>Perioden=2018<br>Reisduur_3=%{x}<extra></extra>",
           "legendgroup": "Leeftijd:6 tot 12 jaar",
           "marker": {
            "color": "#FFA15A",
            "pattern": {
             "shape": ""
            }
           },
           "name": "Leeftijd:6 tot 12 jaar",
           "offsetgroup": "Leeftijd:6 tot 12 jaar",
           "orientation": "h",
           "showlegend": true,
           "textposition": "auto",
           "texttemplate": "%{x:.2s}",
           "type": "bar",
           "x": [
            20602.66
           ],
           "xaxis": "x",
           "y": [
            "Leeftijd:6 tot 12 jaar"
           ],
           "yaxis": "y"
          },
          {
           "alignmentgroup": "True",
           "hovertemplate": "Persoonskenmerken=%{y}<br>Perioden=2018<br>Reisduur_3=%{x}<extra></extra>",
           "legendgroup": "Migratieachtergrond: Nederland",
           "marker": {
            "color": "#19d3f3",
            "pattern": {
             "shape": ""
            }
           },
           "name": "Migratieachtergrond: Nederland",
           "offsetgroup": "Migratieachtergrond: Nederland",
           "orientation": "h",
           "showlegend": true,
           "textposition": "auto",
           "texttemplate": "%{x:.2s}",
           "type": "bar",
           "x": [
            59922.5
           ],
           "xaxis": "x",
           "y": [
            "Migratieachtergrond: Nederland"
           ],
           "yaxis": "y"
          },
          {
           "alignmentgroup": "True",
           "hovertemplate": "Persoonskenmerken=%{y}<br>Perioden=2018<br>Reisduur_3=%{x}<extra></extra>",
           "legendgroup": "Migratieachtergrond: niet-westers",
           "marker": {
            "color": "#FF6692",
            "pattern": {
             "shape": ""
            }
           },
           "name": "Migratieachtergrond: niet-westers",
           "offsetgroup": "Migratieachtergrond: niet-westers",
           "orientation": "h",
           "showlegend": true,
           "textposition": "auto",
           "texttemplate": "%{x:.2s}",
           "type": "bar",
           "x": [
            33443.8
           ],
           "xaxis": "x",
           "y": [
            "Migratieachtergrond: niet-westers"
           ],
           "yaxis": "y"
          },
          {
           "alignmentgroup": "True",
           "hovertemplate": "Persoonskenmerken=%{y}<br>Perioden=2018<br>Reisduur_3=%{x}<extra></extra>",
           "legendgroup": "Migratieachtergrond: westers",
           "marker": {
            "color": "#B6E880",
            "pattern": {
             "shape": ""
            }
           },
           "name": "Migratieachtergrond: westers",
           "offsetgroup": "Migratieachtergrond: westers",
           "orientation": "h",
           "showlegend": true,
           "textposition": "auto",
           "texttemplate": "%{x:.2s}",
           "type": "bar",
           "x": [
            42032.44
           ],
           "xaxis": "x",
           "y": [
            "Migratieachtergrond: westers"
           ],
           "yaxis": "y"
          },
          {
           "alignmentgroup": "True",
           "hovertemplate": "Persoonskenmerken=%{y}<br>Perioden=2018<br>Reisduur_3=%{x}<extra></extra>",
           "legendgroup": "OV-Studentenkaart: geen",
           "marker": {
            "color": "#FF97FF",
            "pattern": {
             "shape": ""
            }
           },
           "name": "OV-Studentenkaart: geen",
           "offsetgroup": "OV-Studentenkaart: geen",
           "orientation": "h",
           "showlegend": true,
           "textposition": "auto",
           "texttemplate": "%{x:.2s}",
           "type": "bar",
           "x": [
            57731.62
           ],
           "xaxis": "x",
           "y": [
            "OV-Studentenkaart: geen"
           ],
           "yaxis": "y"
          },
          {
           "alignmentgroup": "True",
           "hovertemplate": "Persoonskenmerken=%{y}<br>Perioden=2018<br>Reisduur_3=%{x}<extra></extra>",
           "legendgroup": "OV-Studentenkaart: weekabonnement",
           "marker": {
            "color": "#FECB52",
            "pattern": {
             "shape": ""
            }
           },
           "name": "OV-Studentenkaart: weekabonnement",
           "offsetgroup": "OV-Studentenkaart: weekabonnement",
           "orientation": "h",
           "showlegend": true,
           "textposition": "auto",
           "texttemplate": "%{x:.2s}",
           "type": "bar",
           "x": [
            53211.64
           ],
           "xaxis": "x",
           "y": [
            "OV-Studentenkaart: weekabonnement"
           ],
           "yaxis": "y"
          },
          {
           "alignmentgroup": "True",
           "hovertemplate": "Persoonskenmerken=%{y}<br>Perioden=2018<br>Reisduur_3=%{x}<extra></extra>",
           "legendgroup": "OV-Studentenkaart: weekendabonnement",
           "marker": {
            "color": "#636efa",
            "pattern": {
             "shape": ""
            }
           },
           "name": "OV-Studentenkaart: weekendabonnement",
           "offsetgroup": "OV-Studentenkaart: weekendabonnement",
           "orientation": "h",
           "showlegend": true,
           "textposition": "auto",
           "texttemplate": "%{x:.2s}",
           "type": "bar",
           "x": [
            7879.24
           ],
           "xaxis": "x",
           "y": [
            "OV-Studentenkaart: weekendabonnement"
           ],
           "yaxis": "y"
          },
          {
           "alignmentgroup": "True",
           "hovertemplate": "Persoonskenmerken=%{y}<br>Perioden=2018<br>Reisduur_3=%{x}<extra></extra>",
           "legendgroup": "Onderwijsniveau: 1 Laag",
           "marker": {
            "color": "#EF553B",
            "pattern": {
             "shape": ""
            }
           },
           "name": "Onderwijsniveau: 1 Laag",
           "offsetgroup": "Onderwijsniveau: 1 Laag",
           "orientation": "h",
           "showlegend": true,
           "textposition": "auto",
           "texttemplate": "%{x:.2s}",
           "type": "bar",
           "x": [
            44280
           ],
           "xaxis": "x",
           "y": [
            "Onderwijsniveau: 1 Laag"
           ],
           "yaxis": "y"
          },
          {
           "alignmentgroup": "True",
           "hovertemplate": "Persoonskenmerken=%{y}<br>Perioden=2018<br>Reisduur_3=%{x}<extra></extra>",
           "legendgroup": "Onderwijsniveau: 2 Middelbaar",
           "marker": {
            "color": "#00cc96",
            "pattern": {
             "shape": ""
            }
           },
           "name": "Onderwijsniveau: 2 Middelbaar",
           "offsetgroup": "Onderwijsniveau: 2 Middelbaar",
           "orientation": "h",
           "showlegend": true,
           "textposition": "auto",
           "texttemplate": "%{x:.2s}",
           "type": "bar",
           "x": [
            58227.48
           ],
           "xaxis": "x",
           "y": [
            "Onderwijsniveau: 2 Middelbaar"
           ],
           "yaxis": "y"
          },
          {
           "alignmentgroup": "True",
           "hovertemplate": "Persoonskenmerken=%{y}<br>Perioden=2018<br>Reisduur_3=%{x}<extra></extra>",
           "legendgroup": "Onderwijsniveau: 3 Hoog",
           "marker": {
            "color": "#ab63fa",
            "pattern": {
             "shape": ""
            }
           },
           "name": "Onderwijsniveau: 3 Hoog",
           "offsetgroup": "Onderwijsniveau: 3 Hoog",
           "orientation": "h",
           "showlegend": true,
           "textposition": "auto",
           "texttemplate": "%{x:.2s}",
           "type": "bar",
           "x": [
            65274.16
           ],
           "xaxis": "x",
           "y": [
            "Onderwijsniveau: 3 Hoog"
           ],
           "yaxis": "y"
          },
          {
           "alignmentgroup": "True",
           "hovertemplate": "Persoonskenmerken=%{y}<br>Perioden=2018<br>Reisduur_3=%{x}<extra></extra>",
           "legendgroup": "Participatie:  arbeidsongeschikt",
           "marker": {
            "color": "#FFA15A",
            "pattern": {
             "shape": ""
            }
           },
           "name": "Participatie:  arbeidsongeschikt",
           "offsetgroup": "Participatie:  arbeidsongeschikt",
           "orientation": "h",
           "showlegend": true,
           "textposition": "auto",
           "texttemplate": "%{x:.2s}",
           "type": "bar",
           "x": [
            21187.36
           ],
           "xaxis": "x",
           "y": [
            "Participatie:  arbeidsongeschikt"
           ],
           "yaxis": "y"
          },
          {
           "alignmentgroup": "True",
           "hovertemplate": "Persoonskenmerken=%{y}<br>Perioden=2018<br>Reisduur_3=%{x}<extra></extra>",
           "legendgroup": "Participatie: anders/overig",
           "marker": {
            "color": "#19d3f3",
            "pattern": {
             "shape": ""
            }
           },
           "name": "Participatie: anders/overig",
           "offsetgroup": "Participatie: anders/overig",
           "orientation": "h",
           "showlegend": true,
           "textposition": "auto",
           "texttemplate": "%{x:.2s}",
           "type": "bar",
           "x": [
            36093.22
           ],
           "xaxis": "x",
           "y": [
            "Participatie: anders/overig"
           ],
           "yaxis": "y"
          },
          {
           "alignmentgroup": "True",
           "hovertemplate": "Persoonskenmerken=%{y}<br>Perioden=2018<br>Reisduur_3=%{x}<extra></extra>",
           "legendgroup": "Participatie: gepensioneerd/VUT",
           "marker": {
            "color": "#FF6692",
            "pattern": {
             "shape": ""
            }
           },
           "name": "Participatie: gepensioneerd/VUT",
           "offsetgroup": "Participatie: gepensioneerd/VUT",
           "orientation": "h",
           "showlegend": true,
           "textposition": "auto",
           "texttemplate": "%{x:.2s}",
           "type": "bar",
           "x": [
            45823.48
           ],
           "xaxis": "x",
           "y": [
            "Participatie: gepensioneerd/VUT"
           ],
           "yaxis": "y"
          },
          {
           "alignmentgroup": "True",
           "hovertemplate": "Persoonskenmerken=%{y}<br>Perioden=2018<br>Reisduur_3=%{x}<extra></extra>",
           "legendgroup": "Participatie: werkloos",
           "marker": {
            "color": "#B6E880",
            "pattern": {
             "shape": ""
            }
           },
           "name": "Participatie: werkloos",
           "offsetgroup": "Participatie: werkloos",
           "orientation": "h",
           "showlegend": true,
           "textposition": "auto",
           "texttemplate": "%{x:.2s}",
           "type": "bar",
           "x": [
            17860.4
           ],
           "xaxis": "x",
           "y": [
            "Participatie: werkloos"
           ],
           "yaxis": "y"
          },
          {
           "alignmentgroup": "True",
           "hovertemplate": "Persoonskenmerken=%{y}<br>Perioden=2018<br>Reisduur_3=%{x}<extra></extra>",
           "legendgroup": "Participatie: werkzaam 30 uur pw of meer",
           "marker": {
            "color": "#FF97FF",
            "pattern": {
             "shape": ""
            }
           },
           "name": "Participatie: werkzaam 30 uur pw of meer",
           "offsetgroup": "Participatie: werkzaam 30 uur pw of meer",
           "orientation": "h",
           "showlegend": true,
           "textposition": "auto",
           "texttemplate": "%{x:.2s}",
           "type": "bar",
           "x": [
            63498.12
           ],
           "xaxis": "x",
           "y": [
            "Participatie: werkzaam 30 uur pw of meer"
           ],
           "yaxis": "y"
          },
          {
           "alignmentgroup": "True",
           "hovertemplate": "Persoonskenmerken=%{y}<br>Perioden=2018<br>Reisduur_3=%{x}<extra></extra>",
           "legendgroup": "Participatie: werkzaam: 12 tot 30 uur pw",
           "marker": {
            "color": "#FECB52",
            "pattern": {
             "shape": ""
            }
           },
           "name": "Participatie: werkzaam: 12 tot 30 uur pw",
           "offsetgroup": "Participatie: werkzaam: 12 tot 30 uur pw",
           "orientation": "h",
           "showlegend": true,
           "textposition": "auto",
           "texttemplate": "%{x:.2s}",
           "type": "bar",
           "x": [
            49450.2
           ],
           "xaxis": "x",
           "y": [
            "Participatie: werkzaam: 12 tot 30 uur pw"
           ],
           "yaxis": "y"
          },
          {
           "alignmentgroup": "True",
           "hovertemplate": "Persoonskenmerken=%{y}<br>Perioden=2018<br>Reisduur_3=%{x}<extra></extra>",
           "legendgroup": "Participatie:student/scholier",
           "marker": {
            "color": "#636efa",
            "pattern": {
             "shape": ""
            }
           },
           "name": "Participatie:student/scholier",
           "offsetgroup": "Participatie:student/scholier",
           "orientation": "h",
           "showlegend": true,
           "textposition": "auto",
           "texttemplate": "%{x:.2s}",
           "type": "bar",
           "x": [
            53504.15
           ],
           "xaxis": "x",
           "y": [
            "Participatie:student/scholier"
           ],
           "yaxis": "y"
          },
          {
           "alignmentgroup": "True",
           "hovertemplate": "Persoonskenmerken=%{y}<br>Perioden=2018<br>Reisduur_3=%{x}<extra></extra>",
           "legendgroup": "Rijbewijs, geen personenauto in hh",
           "marker": {
            "color": "#EF553B",
            "pattern": {
             "shape": ""
            }
           },
           "name": "Rijbewijs, geen personenauto in hh",
           "offsetgroup": "Rijbewijs, geen personenauto in hh",
           "orientation": "h",
           "showlegend": true,
           "textposition": "auto",
           "texttemplate": "%{x:.2s}",
           "type": "bar",
           "x": [
            40659.56
           ],
           "xaxis": "x",
           "y": [
            "Rijbewijs, geen personenauto in hh"
           ],
           "yaxis": "y"
          },
          {
           "alignmentgroup": "True",
           "hovertemplate": "Persoonskenmerken=%{y}<br>Perioden=2018<br>Reisduur_3=%{x}<extra></extra>",
           "legendgroup": "Rijbewijs, personenauto in hh",
           "marker": {
            "color": "#00cc96",
            "pattern": {
             "shape": ""
            }
           },
           "name": "Rijbewijs, personenauto in hh",
           "offsetgroup": "Rijbewijs, personenauto in hh",
           "orientation": "h",
           "showlegend": true,
           "textposition": "auto",
           "texttemplate": "%{x:.2s}",
           "type": "bar",
           "x": [
            58619.7
           ],
           "xaxis": "x",
           "y": [
            "Rijbewijs, personenauto in hh"
           ],
           "yaxis": "y"
          },
          {
           "alignmentgroup": "True",
           "hovertemplate": "Persoonskenmerken=%{y}<br>Perioden=2018<br>Reisduur_3=%{x}<extra></extra>",
           "legendgroup": "Rijbewijs, personenauto op eigen naam",
           "marker": {
            "color": "#ab63fa",
            "pattern": {
             "shape": ""
            }
           },
           "name": "Rijbewijs, personenauto op eigen naam",
           "offsetgroup": "Rijbewijs, personenauto op eigen naam",
           "orientation": "h",
           "showlegend": true,
           "textposition": "auto",
           "texttemplate": "%{x:.2s}",
           "type": "bar",
           "x": [
            60192.28
           ],
           "xaxis": "x",
           "y": [
            "Rijbewijs, personenauto op eigen naam"
           ],
           "yaxis": "y"
          }
         ],
         "name": "2018"
        },
        {
         "data": [
          {
           "alignmentgroup": "True",
           "hovertemplate": "Persoonskenmerken=%{y}<br>Perioden=2019<br>Reisduur_3=%{x}<extra></extra>",
           "legendgroup": "Geen rijbewijs; jonger dan 17 jaar",
           "marker": {
            "color": "#636efa",
            "pattern": {
             "shape": ""
            }
           },
           "name": "Geen rijbewijs; jonger dan 17 jaar",
           "offsetgroup": "Geen rijbewijs; jonger dan 17 jaar",
           "orientation": "h",
           "showlegend": true,
           "textposition": "auto",
           "texttemplate": "%{x:.2s}",
           "type": "bar",
           "x": [
            42200.87
           ],
           "xaxis": "x",
           "y": [
            "Geen rijbewijs; jonger dan 17 jaar"
           ],
           "yaxis": "y"
          },
          {
           "alignmentgroup": "True",
           "hovertemplate": "Persoonskenmerken=%{y}<br>Perioden=2019<br>Reisduur_3=%{x}<extra></extra>",
           "legendgroup": "Geen rijbewijs; wel 17 jaar of ouder",
           "marker": {
            "color": "#EF553B",
            "pattern": {
             "shape": ""
            }
           },
           "name": "Geen rijbewijs; wel 17 jaar of ouder",
           "offsetgroup": "Geen rijbewijs; wel 17 jaar of ouder",
           "orientation": "h",
           "showlegend": true,
           "textposition": "auto",
           "texttemplate": "%{x:.2s}",
           "type": "bar",
           "x": [
            36621.18
           ],
           "xaxis": "x",
           "y": [
            "Geen rijbewijs; wel 17 jaar of ouder"
           ],
           "yaxis": "y"
          },
          {
           "alignmentgroup": "True",
           "hovertemplate": "Persoonskenmerken=%{y}<br>Perioden=2019<br>Reisduur_3=%{x}<extra></extra>",
           "legendgroup": "Gestandaardiseerd inkomen: 1e 20%-groep",
           "marker": {
            "color": "#00cc96",
            "pattern": {
             "shape": ""
            }
           },
           "name": "Gestandaardiseerd inkomen: 1e 20%-groep",
           "offsetgroup": "Gestandaardiseerd inkomen: 1e 20%-groep",
           "orientation": "h",
           "showlegend": true,
           "textposition": "auto",
           "texttemplate": "%{x:.2s}",
           "type": "bar",
           "x": [
            40527.99
           ],
           "xaxis": "x",
           "y": [
            "Gestandaardiseerd inkomen: 1e 20%-groep"
           ],
           "yaxis": "y"
          },
          {
           "alignmentgroup": "True",
           "hovertemplate": "Persoonskenmerken=%{y}<br>Perioden=2019<br>Reisduur_3=%{x}<extra></extra>",
           "legendgroup": "Gestandaardiseerd inkomen: 2e 20%-groep",
           "marker": {
            "color": "#ab63fa",
            "pattern": {
             "shape": ""
            }
           },
           "name": "Gestandaardiseerd inkomen: 2e 20%-groep",
           "offsetgroup": "Gestandaardiseerd inkomen: 2e 20%-groep",
           "orientation": "h",
           "showlegend": true,
           "textposition": "auto",
           "texttemplate": "%{x:.2s}",
           "type": "bar",
           "x": [
            42967.36
           ],
           "xaxis": "x",
           "y": [
            "Gestandaardiseerd inkomen: 2e 20%-groep"
           ],
           "yaxis": "y"
          },
          {
           "alignmentgroup": "True",
           "hovertemplate": "Persoonskenmerken=%{y}<br>Perioden=2019<br>Reisduur_3=%{x}<extra></extra>",
           "legendgroup": "Gestandaardiseerd inkomen: 3e 20%-groep",
           "marker": {
            "color": "#FFA15A",
            "pattern": {
             "shape": ""
            }
           },
           "name": "Gestandaardiseerd inkomen: 3e 20%-groep",
           "offsetgroup": "Gestandaardiseerd inkomen: 3e 20%-groep",
           "orientation": "h",
           "showlegend": true,
           "textposition": "auto",
           "texttemplate": "%{x:.2s}",
           "type": "bar",
           "x": [
            52162.78
           ],
           "xaxis": "x",
           "y": [
            "Gestandaardiseerd inkomen: 3e 20%-groep"
           ],
           "yaxis": "y"
          },
          {
           "alignmentgroup": "True",
           "hovertemplate": "Persoonskenmerken=%{y}<br>Perioden=2019<br>Reisduur_3=%{x}<extra></extra>",
           "legendgroup": "Gestandaardiseerd inkomen: 4e 20%-groep",
           "marker": {
            "color": "#19d3f3",
            "pattern": {
             "shape": ""
            }
           },
           "name": "Gestandaardiseerd inkomen: 4e 20%-groep",
           "offsetgroup": "Gestandaardiseerd inkomen: 4e 20%-groep",
           "orientation": "h",
           "showlegend": true,
           "textposition": "auto",
           "texttemplate": "%{x:.2s}",
           "type": "bar",
           "x": [
            56125.83
           ],
           "xaxis": "x",
           "y": [
            "Gestandaardiseerd inkomen: 4e 20%-groep"
           ],
           "yaxis": "y"
          },
          {
           "alignmentgroup": "True",
           "hovertemplate": "Persoonskenmerken=%{y}<br>Perioden=2019<br>Reisduur_3=%{x}<extra></extra>",
           "legendgroup": "Gestandaardiseerd inkomen: 5e 20%-groep",
           "marker": {
            "color": "#FF6692",
            "pattern": {
             "shape": ""
            }
           },
           "name": "Gestandaardiseerd inkomen: 5e 20%-groep",
           "offsetgroup": "Gestandaardiseerd inkomen: 5e 20%-groep",
           "orientation": "h",
           "showlegend": true,
           "textposition": "auto",
           "texttemplate": "%{x:.2s}",
           "type": "bar",
           "x": [
            59784.26
           ],
           "xaxis": "x",
           "y": [
            "Gestandaardiseerd inkomen: 5e 20%-groep"
           ],
           "yaxis": "y"
          },
          {
           "alignmentgroup": "True",
           "hovertemplate": "Persoonskenmerken=%{y}<br>Perioden=2019<br>Reisduur_3=%{x}<extra></extra>",
           "legendgroup": "Leeftijd: 12 tot 18 jaar",
           "marker": {
            "color": "#B6E880",
            "pattern": {
             "shape": ""
            }
           },
           "name": "Leeftijd: 12 tot 18 jaar",
           "offsetgroup": "Leeftijd: 12 tot 18 jaar",
           "orientation": "h",
           "showlegend": true,
           "textposition": "auto",
           "texttemplate": "%{x:.2s}",
           "type": "bar",
           "x": [
            41402
           ],
           "xaxis": "x",
           "y": [
            "Leeftijd: 12 tot 18 jaar"
           ],
           "yaxis": "y"
          },
          {
           "alignmentgroup": "True",
           "hovertemplate": "Persoonskenmerken=%{y}<br>Perioden=2019<br>Reisduur_3=%{x}<extra></extra>",
           "legendgroup": "Leeftijd: 18 tot 25 jaar",
           "marker": {
            "color": "#FF97FF",
            "pattern": {
             "shape": ""
            }
           },
           "name": "Leeftijd: 18 tot 25 jaar",
           "offsetgroup": "Leeftijd: 18 tot 25 jaar",
           "orientation": "h",
           "showlegend": true,
           "textposition": "auto",
           "texttemplate": "%{x:.2s}",
           "type": "bar",
           "x": [
            47796.96
           ],
           "xaxis": "x",
           "y": [
            "Leeftijd: 18 tot 25 jaar"
           ],
           "yaxis": "y"
          },
          {
           "alignmentgroup": "True",
           "hovertemplate": "Persoonskenmerken=%{y}<br>Perioden=2019<br>Reisduur_3=%{x}<extra></extra>",
           "legendgroup": "Leeftijd: 25 tot 35 jaar",
           "marker": {
            "color": "#FECB52",
            "pattern": {
             "shape": ""
            }
           },
           "name": "Leeftijd: 25 tot 35 jaar",
           "offsetgroup": "Leeftijd: 25 tot 35 jaar",
           "orientation": "h",
           "showlegend": true,
           "textposition": "auto",
           "texttemplate": "%{x:.2s}",
           "type": "bar",
           "x": [
            53190.58
           ],
           "xaxis": "x",
           "y": [
            "Leeftijd: 25 tot 35 jaar"
           ],
           "yaxis": "y"
          },
          {
           "alignmentgroup": "True",
           "hovertemplate": "Persoonskenmerken=%{y}<br>Perioden=2019<br>Reisduur_3=%{x}<extra></extra>",
           "legendgroup": "Leeftijd: 35 tot 50 jaar",
           "marker": {
            "color": "#636efa",
            "pattern": {
             "shape": ""
            }
           },
           "name": "Leeftijd: 35 tot 50 jaar",
           "offsetgroup": "Leeftijd: 35 tot 50 jaar",
           "orientation": "h",
           "showlegend": true,
           "textposition": "auto",
           "texttemplate": "%{x:.2s}",
           "type": "bar",
           "x": [
            57598.72
           ],
           "xaxis": "x",
           "y": [
            "Leeftijd: 35 tot 50 jaar"
           ],
           "yaxis": "y"
          },
          {
           "alignmentgroup": "True",
           "hovertemplate": "Persoonskenmerken=%{y}<br>Perioden=2019<br>Reisduur_3=%{x}<extra></extra>",
           "legendgroup": "Leeftijd: 50 tot 65 jaar",
           "marker": {
            "color": "#EF553B",
            "pattern": {
             "shape": ""
            }
           },
           "name": "Leeftijd: 50 tot 65 jaar",
           "offsetgroup": "Leeftijd: 50 tot 65 jaar",
           "orientation": "h",
           "showlegend": true,
           "textposition": "auto",
           "texttemplate": "%{x:.2s}",
           "type": "bar",
           "x": [
            56173.6
           ],
           "xaxis": "x",
           "y": [
            "Leeftijd: 50 tot 65 jaar"
           ],
           "yaxis": "y"
          },
          {
           "alignmentgroup": "True",
           "hovertemplate": "Persoonskenmerken=%{y}<br>Perioden=2019<br>Reisduur_3=%{x}<extra></extra>",
           "legendgroup": "Leeftijd: 65 tot 75 jaar",
           "marker": {
            "color": "#00cc96",
            "pattern": {
             "shape": ""
            }
           },
           "name": "Leeftijd: 65 tot 75 jaar",
           "offsetgroup": "Leeftijd: 65 tot 75 jaar",
           "orientation": "h",
           "showlegend": true,
           "textposition": "auto",
           "texttemplate": "%{x:.2s}",
           "type": "bar",
           "x": [
            46807.16
           ],
           "xaxis": "x",
           "y": [
            "Leeftijd: 65 tot 75 jaar"
           ],
           "yaxis": "y"
          },
          {
           "alignmentgroup": "True",
           "hovertemplate": "Persoonskenmerken=%{y}<br>Perioden=2019<br>Reisduur_3=%{x}<extra></extra>",
           "legendgroup": "Leeftijd: 75 jaar of ouder",
           "marker": {
            "color": "#ab63fa",
            "pattern": {
             "shape": ""
            }
           },
           "name": "Leeftijd: 75 jaar of ouder",
           "offsetgroup": "Leeftijd: 75 jaar of ouder",
           "orientation": "h",
           "showlegend": true,
           "textposition": "auto",
           "texttemplate": "%{x:.2s}",
           "type": "bar",
           "x": [
            27468.56
           ],
           "xaxis": "x",
           "y": [
            "Leeftijd: 75 jaar of ouder"
           ],
           "yaxis": "y"
          },
          {
           "alignmentgroup": "True",
           "hovertemplate": "Persoonskenmerken=%{y}<br>Perioden=2019<br>Reisduur_3=%{x}<extra></extra>",
           "legendgroup": "Leeftijd:6 tot 12 jaar",
           "marker": {
            "color": "#FFA15A",
            "pattern": {
             "shape": ""
            }
           },
           "name": "Leeftijd:6 tot 12 jaar",
           "offsetgroup": "Leeftijd:6 tot 12 jaar",
           "orientation": "h",
           "showlegend": true,
           "textposition": "auto",
           "texttemplate": "%{x:.2s}",
           "type": "bar",
           "x": [
            17689.72
           ],
           "xaxis": "x",
           "y": [
            "Leeftijd:6 tot 12 jaar"
           ],
           "yaxis": "y"
          },
          {
           "alignmentgroup": "True",
           "hovertemplate": "Persoonskenmerken=%{y}<br>Perioden=2019<br>Reisduur_3=%{x}<extra></extra>",
           "legendgroup": "Migratieachtergrond: Nederland",
           "marker": {
            "color": "#19d3f3",
            "pattern": {
             "shape": ""
            }
           },
           "name": "Migratieachtergrond: Nederland",
           "offsetgroup": "Migratieachtergrond: Nederland",
           "orientation": "h",
           "showlegend": true,
           "textposition": "auto",
           "texttemplate": "%{x:.2s}",
           "type": "bar",
           "x": [
            59357.05
           ],
           "xaxis": "x",
           "y": [
            "Migratieachtergrond: Nederland"
           ],
           "yaxis": "y"
          },
          {
           "alignmentgroup": "True",
           "hovertemplate": "Persoonskenmerken=%{y}<br>Perioden=2019<br>Reisduur_3=%{x}<extra></extra>",
           "legendgroup": "Migratieachtergrond: niet-westers",
           "marker": {
            "color": "#FF6692",
            "pattern": {
             "shape": ""
            }
           },
           "name": "Migratieachtergrond: niet-westers",
           "offsetgroup": "Migratieachtergrond: niet-westers",
           "orientation": "h",
           "showlegend": true,
           "textposition": "auto",
           "texttemplate": "%{x:.2s}",
           "type": "bar",
           "x": [
            32346.22
           ],
           "xaxis": "x",
           "y": [
            "Migratieachtergrond: niet-westers"
           ],
           "yaxis": "y"
          },
          {
           "alignmentgroup": "True",
           "hovertemplate": "Persoonskenmerken=%{y}<br>Perioden=2019<br>Reisduur_3=%{x}<extra></extra>",
           "legendgroup": "Migratieachtergrond: westers",
           "marker": {
            "color": "#B6E880",
            "pattern": {
             "shape": ""
            }
           },
           "name": "Migratieachtergrond: westers",
           "offsetgroup": "Migratieachtergrond: westers",
           "orientation": "h",
           "showlegend": true,
           "textposition": "auto",
           "texttemplate": "%{x:.2s}",
           "type": "bar",
           "x": [
            41133.75
           ],
           "xaxis": "x",
           "y": [
            "Migratieachtergrond: westers"
           ],
           "yaxis": "y"
          },
          {
           "alignmentgroup": "True",
           "hovertemplate": "Persoonskenmerken=%{y}<br>Perioden=2019<br>Reisduur_3=%{x}<extra></extra>",
           "legendgroup": "OV-Studentenkaart: geen",
           "marker": {
            "color": "#FF97FF",
            "pattern": {
             "shape": ""
            }
           },
           "name": "OV-Studentenkaart: geen",
           "offsetgroup": "OV-Studentenkaart: geen",
           "orientation": "h",
           "showlegend": true,
           "textposition": "auto",
           "texttemplate": "%{x:.2s}",
           "type": "bar",
           "x": [
            57774.25
           ],
           "xaxis": "x",
           "y": [
            "OV-Studentenkaart: geen"
           ],
           "yaxis": "y"
          },
          {
           "alignmentgroup": "True",
           "hovertemplate": "Persoonskenmerken=%{y}<br>Perioden=2019<br>Reisduur_3=%{x}<extra></extra>",
           "legendgroup": "OV-Studentenkaart: weekabonnement",
           "marker": {
            "color": "#FECB52",
            "pattern": {
             "shape": ""
            }
           },
           "name": "OV-Studentenkaart: weekabonnement",
           "offsetgroup": "OV-Studentenkaart: weekabonnement",
           "orientation": "h",
           "showlegend": true,
           "textposition": "auto",
           "texttemplate": "%{x:.2s}",
           "type": "bar",
           "x": [
            47392.88
           ],
           "xaxis": "x",
           "y": [
            "OV-Studentenkaart: weekabonnement"
           ],
           "yaxis": "y"
          },
          {
           "alignmentgroup": "True",
           "hovertemplate": "Persoonskenmerken=%{y}<br>Perioden=2019<br>Reisduur_3=%{x}<extra></extra>",
           "legendgroup": "OV-Studentenkaart: weekendabonnement",
           "marker": {
            "color": "#636efa",
            "pattern": {
             "shape": ""
            }
           },
           "name": "OV-Studentenkaart: weekendabonnement",
           "offsetgroup": "OV-Studentenkaart: weekendabonnement",
           "orientation": "h",
           "showlegend": true,
           "textposition": "auto",
           "texttemplate": "%{x:.2s}",
           "type": "bar",
           "x": [
            6090.46
           ],
           "xaxis": "x",
           "y": [
            "OV-Studentenkaart: weekendabonnement"
           ],
           "yaxis": "y"
          },
          {
           "alignmentgroup": "True",
           "hovertemplate": "Persoonskenmerken=%{y}<br>Perioden=2019<br>Reisduur_3=%{x}<extra></extra>",
           "legendgroup": "Onderwijsniveau: 1 Laag",
           "marker": {
            "color": "#EF553B",
            "pattern": {
             "shape": ""
            }
           },
           "name": "Onderwijsniveau: 1 Laag",
           "offsetgroup": "Onderwijsniveau: 1 Laag",
           "orientation": "h",
           "showlegend": true,
           "textposition": "auto",
           "texttemplate": "%{x:.2s}",
           "type": "bar",
           "x": [
            41503.08
           ],
           "xaxis": "x",
           "y": [
            "Onderwijsniveau: 1 Laag"
           ],
           "yaxis": "y"
          },
          {
           "alignmentgroup": "True",
           "hovertemplate": "Persoonskenmerken=%{y}<br>Perioden=2019<br>Reisduur_3=%{x}<extra></extra>",
           "legendgroup": "Onderwijsniveau: 2 Middelbaar",
           "marker": {
            "color": "#00cc96",
            "pattern": {
             "shape": ""
            }
           },
           "name": "Onderwijsniveau: 2 Middelbaar",
           "offsetgroup": "Onderwijsniveau: 2 Middelbaar",
           "orientation": "h",
           "showlegend": true,
           "textposition": "auto",
           "texttemplate": "%{x:.2s}",
           "type": "bar",
           "x": [
            56794.66
           ],
           "xaxis": "x",
           "y": [
            "Onderwijsniveau: 2 Middelbaar"
           ],
           "yaxis": "y"
          },
          {
           "alignmentgroup": "True",
           "hovertemplate": "Persoonskenmerken=%{y}<br>Perioden=2019<br>Reisduur_3=%{x}<extra></extra>",
           "legendgroup": "Onderwijsniveau: 3 Hoog",
           "marker": {
            "color": "#ab63fa",
            "pattern": {
             "shape": ""
            }
           },
           "name": "Onderwijsniveau: 3 Hoog",
           "offsetgroup": "Onderwijsniveau: 3 Hoog",
           "orientation": "h",
           "showlegend": true,
           "textposition": "auto",
           "texttemplate": "%{x:.2s}",
           "type": "bar",
           "x": [
            64933.06
           ],
           "xaxis": "x",
           "y": [
            "Onderwijsniveau: 3 Hoog"
           ],
           "yaxis": "y"
          },
          {
           "alignmentgroup": "True",
           "hovertemplate": "Persoonskenmerken=%{y}<br>Perioden=2019<br>Reisduur_3=%{x}<extra></extra>",
           "legendgroup": "Participatie:  arbeidsongeschikt",
           "marker": {
            "color": "#FFA15A",
            "pattern": {
             "shape": ""
            }
           },
           "name": "Participatie:  arbeidsongeschikt",
           "offsetgroup": "Participatie:  arbeidsongeschikt",
           "orientation": "h",
           "showlegend": true,
           "textposition": "auto",
           "texttemplate": "%{x:.2s}",
           "type": "bar",
           "x": [
            18342.38
           ],
           "xaxis": "x",
           "y": [
            "Participatie:  arbeidsongeschikt"
           ],
           "yaxis": "y"
          },
          {
           "alignmentgroup": "True",
           "hovertemplate": "Persoonskenmerken=%{y}<br>Perioden=2019<br>Reisduur_3=%{x}<extra></extra>",
           "legendgroup": "Participatie: anders/overig",
           "marker": {
            "color": "#19d3f3",
            "pattern": {
             "shape": ""
            }
           },
           "name": "Participatie: anders/overig",
           "offsetgroup": "Participatie: anders/overig",
           "orientation": "h",
           "showlegend": true,
           "textposition": "auto",
           "texttemplate": "%{x:.2s}",
           "type": "bar",
           "x": [
            33097
           ],
           "xaxis": "x",
           "y": [
            "Participatie: anders/overig"
           ],
           "yaxis": "y"
          },
          {
           "alignmentgroup": "True",
           "hovertemplate": "Persoonskenmerken=%{y}<br>Perioden=2019<br>Reisduur_3=%{x}<extra></extra>",
           "legendgroup": "Participatie: gepensioneerd/VUT",
           "marker": {
            "color": "#FF6692",
            "pattern": {
             "shape": ""
            }
           },
           "name": "Participatie: gepensioneerd/VUT",
           "offsetgroup": "Participatie: gepensioneerd/VUT",
           "orientation": "h",
           "showlegend": true,
           "textposition": "auto",
           "texttemplate": "%{x:.2s}",
           "type": "bar",
           "x": [
            44301.78
           ],
           "xaxis": "x",
           "y": [
            "Participatie: gepensioneerd/VUT"
           ],
           "yaxis": "y"
          },
          {
           "alignmentgroup": "True",
           "hovertemplate": "Persoonskenmerken=%{y}<br>Perioden=2019<br>Reisduur_3=%{x}<extra></extra>",
           "legendgroup": "Participatie: werkloos",
           "marker": {
            "color": "#B6E880",
            "pattern": {
             "shape": ""
            }
           },
           "name": "Participatie: werkloos",
           "offsetgroup": "Participatie: werkloos",
           "orientation": "h",
           "showlegend": true,
           "textposition": "auto",
           "texttemplate": "%{x:.2s}",
           "type": "bar",
           "x": [
            14604.18
           ],
           "xaxis": "x",
           "y": [
            "Participatie: werkloos"
           ],
           "yaxis": "y"
          },
          {
           "alignmentgroup": "True",
           "hovertemplate": "Persoonskenmerken=%{y}<br>Perioden=2019<br>Reisduur_3=%{x}<extra></extra>",
           "legendgroup": "Participatie: werkzaam 30 uur pw of meer",
           "marker": {
            "color": "#FF97FF",
            "pattern": {
             "shape": ""
            }
           },
           "name": "Participatie: werkzaam 30 uur pw of meer",
           "offsetgroup": "Participatie: werkzaam 30 uur pw of meer",
           "orientation": "h",
           "showlegend": true,
           "textposition": "auto",
           "texttemplate": "%{x:.2s}",
           "type": "bar",
           "x": [
            63390.06
           ],
           "xaxis": "x",
           "y": [
            "Participatie: werkzaam 30 uur pw of meer"
           ],
           "yaxis": "y"
          },
          {
           "alignmentgroup": "True",
           "hovertemplate": "Persoonskenmerken=%{y}<br>Perioden=2019<br>Reisduur_3=%{x}<extra></extra>",
           "legendgroup": "Participatie: werkzaam: 12 tot 30 uur pw",
           "marker": {
            "color": "#FECB52",
            "pattern": {
             "shape": ""
            }
           },
           "name": "Participatie: werkzaam: 12 tot 30 uur pw",
           "offsetgroup": "Participatie: werkzaam: 12 tot 30 uur pw",
           "orientation": "h",
           "showlegend": true,
           "textposition": "auto",
           "texttemplate": "%{x:.2s}",
           "type": "bar",
           "x": [
            48147.5
           ],
           "xaxis": "x",
           "y": [
            "Participatie: werkzaam: 12 tot 30 uur pw"
           ],
           "yaxis": "y"
          },
          {
           "alignmentgroup": "True",
           "hovertemplate": "Persoonskenmerken=%{y}<br>Perioden=2019<br>Reisduur_3=%{x}<extra></extra>",
           "legendgroup": "Participatie:student/scholier",
           "marker": {
            "color": "#636efa",
            "pattern": {
             "shape": ""
            }
           },
           "name": "Participatie:student/scholier",
           "offsetgroup": "Participatie:student/scholier",
           "orientation": "h",
           "showlegend": true,
           "textposition": "auto",
           "texttemplate": "%{x:.2s}",
           "type": "bar",
           "x": [
            50425.01
           ],
           "xaxis": "x",
           "y": [
            "Participatie:student/scholier"
           ],
           "yaxis": "y"
          },
          {
           "alignmentgroup": "True",
           "hovertemplate": "Persoonskenmerken=%{y}<br>Perioden=2019<br>Reisduur_3=%{x}<extra></extra>",
           "legendgroup": "Rijbewijs, geen personenauto in hh",
           "marker": {
            "color": "#EF553B",
            "pattern": {
             "shape": ""
            }
           },
           "name": "Rijbewijs, geen personenauto in hh",
           "offsetgroup": "Rijbewijs, geen personenauto in hh",
           "orientation": "h",
           "showlegend": true,
           "textposition": "auto",
           "texttemplate": "%{x:.2s}",
           "type": "bar",
           "x": [
            39439.84
           ],
           "xaxis": "x",
           "y": [
            "Rijbewijs, geen personenauto in hh"
           ],
           "yaxis": "y"
          },
          {
           "alignmentgroup": "True",
           "hovertemplate": "Persoonskenmerken=%{y}<br>Perioden=2019<br>Reisduur_3=%{x}<extra></extra>",
           "legendgroup": "Rijbewijs, personenauto in hh",
           "marker": {
            "color": "#00cc96",
            "pattern": {
             "shape": ""
            }
           },
           "name": "Rijbewijs, personenauto in hh",
           "offsetgroup": "Rijbewijs, personenauto in hh",
           "orientation": "h",
           "showlegend": true,
           "textposition": "auto",
           "texttemplate": "%{x:.2s}",
           "type": "bar",
           "x": [
            56331.64
           ],
           "xaxis": "x",
           "y": [
            "Rijbewijs, personenauto in hh"
           ],
           "yaxis": "y"
          },
          {
           "alignmentgroup": "True",
           "hovertemplate": "Persoonskenmerken=%{y}<br>Perioden=2019<br>Reisduur_3=%{x}<extra></extra>",
           "legendgroup": "Rijbewijs, personenauto op eigen naam",
           "marker": {
            "color": "#ab63fa",
            "pattern": {
             "shape": ""
            }
           },
           "name": "Rijbewijs, personenauto op eigen naam",
           "offsetgroup": "Rijbewijs, personenauto op eigen naam",
           "orientation": "h",
           "showlegend": true,
           "textposition": "auto",
           "texttemplate": "%{x:.2s}",
           "type": "bar",
           "x": [
            59835.48
           ],
           "xaxis": "x",
           "y": [
            "Rijbewijs, personenauto op eigen naam"
           ],
           "yaxis": "y"
          }
         ],
         "name": "2019"
        },
        {
         "data": [
          {
           "alignmentgroup": "True",
           "hovertemplate": "Persoonskenmerken=%{y}<br>Perioden=2020<br>Reisduur_3=%{x}<extra></extra>",
           "legendgroup": "Geen rijbewijs; jonger dan 17 jaar",
           "marker": {
            "color": "#636efa",
            "pattern": {
             "shape": ""
            }
           },
           "name": "Geen rijbewijs; jonger dan 17 jaar",
           "offsetgroup": "Geen rijbewijs; jonger dan 17 jaar",
           "orientation": "h",
           "showlegend": true,
           "textposition": "auto",
           "texttemplate": "%{x:.2s}",
           "type": "bar",
           "x": [
            33660.24
           ],
           "xaxis": "x",
           "y": [
            "Geen rijbewijs; jonger dan 17 jaar"
           ],
           "yaxis": "y"
          },
          {
           "alignmentgroup": "True",
           "hovertemplate": "Persoonskenmerken=%{y}<br>Perioden=2020<br>Reisduur_3=%{x}<extra></extra>",
           "legendgroup": "Geen rijbewijs; wel 17 jaar of ouder",
           "marker": {
            "color": "#EF553B",
            "pattern": {
             "shape": ""
            }
           },
           "name": "Geen rijbewijs; wel 17 jaar of ouder",
           "offsetgroup": "Geen rijbewijs; wel 17 jaar of ouder",
           "orientation": "h",
           "showlegend": true,
           "textposition": "auto",
           "texttemplate": "%{x:.2s}",
           "type": "bar",
           "x": [
            28191
           ],
           "xaxis": "x",
           "y": [
            "Geen rijbewijs; wel 17 jaar of ouder"
           ],
           "yaxis": "y"
          },
          {
           "alignmentgroup": "True",
           "hovertemplate": "Persoonskenmerken=%{y}<br>Perioden=2020<br>Reisduur_3=%{x}<extra></extra>",
           "legendgroup": "Gestandaardiseerd inkomen: 1e 20%-groep",
           "marker": {
            "color": "#00cc96",
            "pattern": {
             "shape": ""
            }
           },
           "name": "Gestandaardiseerd inkomen: 1e 20%-groep",
           "offsetgroup": "Gestandaardiseerd inkomen: 1e 20%-groep",
           "orientation": "h",
           "showlegend": true,
           "textposition": "auto",
           "texttemplate": "%{x:.2s}",
           "type": "bar",
           "x": [
            32517.97
           ],
           "xaxis": "x",
           "y": [
            "Gestandaardiseerd inkomen: 1e 20%-groep"
           ],
           "yaxis": "y"
          },
          {
           "alignmentgroup": "True",
           "hovertemplate": "Persoonskenmerken=%{y}<br>Perioden=2020<br>Reisduur_3=%{x}<extra></extra>",
           "legendgroup": "Gestandaardiseerd inkomen: 2e 20%-groep",
           "marker": {
            "color": "#ab63fa",
            "pattern": {
             "shape": ""
            }
           },
           "name": "Gestandaardiseerd inkomen: 2e 20%-groep",
           "offsetgroup": "Gestandaardiseerd inkomen: 2e 20%-groep",
           "orientation": "h",
           "showlegend": true,
           "textposition": "auto",
           "texttemplate": "%{x:.2s}",
           "type": "bar",
           "x": [
            37203.46
           ],
           "xaxis": "x",
           "y": [
            "Gestandaardiseerd inkomen: 2e 20%-groep"
           ],
           "yaxis": "y"
          },
          {
           "alignmentgroup": "True",
           "hovertemplate": "Persoonskenmerken=%{y}<br>Perioden=2020<br>Reisduur_3=%{x}<extra></extra>",
           "legendgroup": "Gestandaardiseerd inkomen: 3e 20%-groep",
           "marker": {
            "color": "#FFA15A",
            "pattern": {
             "shape": ""
            }
           },
           "name": "Gestandaardiseerd inkomen: 3e 20%-groep",
           "offsetgroup": "Gestandaardiseerd inkomen: 3e 20%-groep",
           "orientation": "h",
           "showlegend": true,
           "textposition": "auto",
           "texttemplate": "%{x:.2s}",
           "type": "bar",
           "x": [
            43755.53
           ],
           "xaxis": "x",
           "y": [
            "Gestandaardiseerd inkomen: 3e 20%-groep"
           ],
           "yaxis": "y"
          },
          {
           "alignmentgroup": "True",
           "hovertemplate": "Persoonskenmerken=%{y}<br>Perioden=2020<br>Reisduur_3=%{x}<extra></extra>",
           "legendgroup": "Gestandaardiseerd inkomen: 4e 20%-groep",
           "marker": {
            "color": "#19d3f3",
            "pattern": {
             "shape": ""
            }
           },
           "name": "Gestandaardiseerd inkomen: 4e 20%-groep",
           "offsetgroup": "Gestandaardiseerd inkomen: 4e 20%-groep",
           "orientation": "h",
           "showlegend": true,
           "textposition": "auto",
           "texttemplate": "%{x:.2s}",
           "type": "bar",
           "x": [
            48002.18
           ],
           "xaxis": "x",
           "y": [
            "Gestandaardiseerd inkomen: 4e 20%-groep"
           ],
           "yaxis": "y"
          },
          {
           "alignmentgroup": "True",
           "hovertemplate": "Persoonskenmerken=%{y}<br>Perioden=2020<br>Reisduur_3=%{x}<extra></extra>",
           "legendgroup": "Gestandaardiseerd inkomen: 5e 20%-groep",
           "marker": {
            "color": "#FF6692",
            "pattern": {
             "shape": ""
            }
           },
           "name": "Gestandaardiseerd inkomen: 5e 20%-groep",
           "offsetgroup": "Gestandaardiseerd inkomen: 5e 20%-groep",
           "orientation": "h",
           "showlegend": true,
           "textposition": "auto",
           "texttemplate": "%{x:.2s}",
           "type": "bar",
           "x": [
            50754.83
           ],
           "xaxis": "x",
           "y": [
            "Gestandaardiseerd inkomen: 5e 20%-groep"
           ],
           "yaxis": "y"
          },
          {
           "alignmentgroup": "True",
           "hovertemplate": "Persoonskenmerken=%{y}<br>Perioden=2020<br>Reisduur_3=%{x}<extra></extra>",
           "legendgroup": "Leeftijd: 12 tot 18 jaar",
           "marker": {
            "color": "#B6E880",
            "pattern": {
             "shape": ""
            }
           },
           "name": "Leeftijd: 12 tot 18 jaar",
           "offsetgroup": "Leeftijd: 12 tot 18 jaar",
           "orientation": "h",
           "showlegend": true,
           "textposition": "auto",
           "texttemplate": "%{x:.2s}",
           "type": "bar",
           "x": [
            30856.82
           ],
           "xaxis": "x",
           "y": [
            "Leeftijd: 12 tot 18 jaar"
           ],
           "yaxis": "y"
          },
          {
           "alignmentgroup": "True",
           "hovertemplate": "Persoonskenmerken=%{y}<br>Perioden=2020<br>Reisduur_3=%{x}<extra></extra>",
           "legendgroup": "Leeftijd: 18 tot 25 jaar",
           "marker": {
            "color": "#FF97FF",
            "pattern": {
             "shape": ""
            }
           },
           "name": "Leeftijd: 18 tot 25 jaar",
           "offsetgroup": "Leeftijd: 18 tot 25 jaar",
           "orientation": "h",
           "showlegend": true,
           "textposition": "auto",
           "texttemplate": "%{x:.2s}",
           "type": "bar",
           "x": [
            36212.68
           ],
           "xaxis": "x",
           "y": [
            "Leeftijd: 18 tot 25 jaar"
           ],
           "yaxis": "y"
          },
          {
           "alignmentgroup": "True",
           "hovertemplate": "Persoonskenmerken=%{y}<br>Perioden=2020<br>Reisduur_3=%{x}<extra></extra>",
           "legendgroup": "Leeftijd: 25 tot 35 jaar",
           "marker": {
            "color": "#FECB52",
            "pattern": {
             "shape": ""
            }
           },
           "name": "Leeftijd: 25 tot 35 jaar",
           "offsetgroup": "Leeftijd: 25 tot 35 jaar",
           "orientation": "h",
           "showlegend": true,
           "textposition": "auto",
           "texttemplate": "%{x:.2s}",
           "type": "bar",
           "x": [
            43269.62
           ],
           "xaxis": "x",
           "y": [
            "Leeftijd: 25 tot 35 jaar"
           ],
           "yaxis": "y"
          },
          {
           "alignmentgroup": "True",
           "hovertemplate": "Persoonskenmerken=%{y}<br>Perioden=2020<br>Reisduur_3=%{x}<extra></extra>",
           "legendgroup": "Leeftijd: 35 tot 50 jaar",
           "marker": {
            "color": "#636efa",
            "pattern": {
             "shape": ""
            }
           },
           "name": "Leeftijd: 35 tot 50 jaar",
           "offsetgroup": "Leeftijd: 35 tot 50 jaar",
           "orientation": "h",
           "showlegend": true,
           "textposition": "auto",
           "texttemplate": "%{x:.2s}",
           "type": "bar",
           "x": [
            48249.06
           ],
           "xaxis": "x",
           "y": [
            "Leeftijd: 35 tot 50 jaar"
           ],
           "yaxis": "y"
          },
          {
           "alignmentgroup": "True",
           "hovertemplate": "Persoonskenmerken=%{y}<br>Perioden=2020<br>Reisduur_3=%{x}<extra></extra>",
           "legendgroup": "Leeftijd: 50 tot 65 jaar",
           "marker": {
            "color": "#EF553B",
            "pattern": {
             "shape": ""
            }
           },
           "name": "Leeftijd: 50 tot 65 jaar",
           "offsetgroup": "Leeftijd: 50 tot 65 jaar",
           "orientation": "h",
           "showlegend": true,
           "textposition": "auto",
           "texttemplate": "%{x:.2s}",
           "type": "bar",
           "x": [
            49553.2
           ],
           "xaxis": "x",
           "y": [
            "Leeftijd: 50 tot 65 jaar"
           ],
           "yaxis": "y"
          },
          {
           "alignmentgroup": "True",
           "hovertemplate": "Persoonskenmerken=%{y}<br>Perioden=2020<br>Reisduur_3=%{x}<extra></extra>",
           "legendgroup": "Leeftijd: 65 tot 75 jaar",
           "marker": {
            "color": "#00cc96",
            "pattern": {
             "shape": ""
            }
           },
           "name": "Leeftijd: 65 tot 75 jaar",
           "offsetgroup": "Leeftijd: 65 tot 75 jaar",
           "orientation": "h",
           "showlegend": true,
           "textposition": "auto",
           "texttemplate": "%{x:.2s}",
           "type": "bar",
           "x": [
            41826.96
           ],
           "xaxis": "x",
           "y": [
            "Leeftijd: 65 tot 75 jaar"
           ],
           "yaxis": "y"
          },
          {
           "alignmentgroup": "True",
           "hovertemplate": "Persoonskenmerken=%{y}<br>Perioden=2020<br>Reisduur_3=%{x}<extra></extra>",
           "legendgroup": "Leeftijd: 75 jaar of ouder",
           "marker": {
            "color": "#ab63fa",
            "pattern": {
             "shape": ""
            }
           },
           "name": "Leeftijd: 75 jaar of ouder",
           "offsetgroup": "Leeftijd: 75 jaar of ouder",
           "orientation": "h",
           "showlegend": true,
           "textposition": "auto",
           "texttemplate": "%{x:.2s}",
           "type": "bar",
           "x": [
            24387.48
           ],
           "xaxis": "x",
           "y": [
            "Leeftijd: 75 jaar of ouder"
           ],
           "yaxis": "y"
          },
          {
           "alignmentgroup": "True",
           "hovertemplate": "Persoonskenmerken=%{y}<br>Perioden=2020<br>Reisduur_3=%{x}<extra></extra>",
           "legendgroup": "Leeftijd:6 tot 12 jaar",
           "marker": {
            "color": "#FFA15A",
            "pattern": {
             "shape": ""
            }
           },
           "name": "Leeftijd:6 tot 12 jaar",
           "offsetgroup": "Leeftijd:6 tot 12 jaar",
           "orientation": "h",
           "showlegend": true,
           "textposition": "auto",
           "texttemplate": "%{x:.2s}",
           "type": "bar",
           "x": [
            16151.52
           ],
           "xaxis": "x",
           "y": [
            "Leeftijd:6 tot 12 jaar"
           ],
           "yaxis": "y"
          },
          {
           "alignmentgroup": "True",
           "hovertemplate": "Persoonskenmerken=%{y}<br>Perioden=2020<br>Reisduur_3=%{x}<extra></extra>",
           "legendgroup": "Migratieachtergrond: Nederland",
           "marker": {
            "color": "#19d3f3",
            "pattern": {
             "shape": ""
            }
           },
           "name": "Migratieachtergrond: Nederland",
           "offsetgroup": "Migratieachtergrond: Nederland",
           "orientation": "h",
           "showlegend": true,
           "textposition": "auto",
           "texttemplate": "%{x:.2s}",
           "type": "bar",
           "x": [
            50629.66
           ],
           "xaxis": "x",
           "y": [
            "Migratieachtergrond: Nederland"
           ],
           "yaxis": "y"
          },
          {
           "alignmentgroup": "True",
           "hovertemplate": "Persoonskenmerken=%{y}<br>Perioden=2020<br>Reisduur_3=%{x}<extra></extra>",
           "legendgroup": "Migratieachtergrond: niet-westers",
           "marker": {
            "color": "#FF6692",
            "pattern": {
             "shape": ""
            }
           },
           "name": "Migratieachtergrond: niet-westers",
           "offsetgroup": "Migratieachtergrond: niet-westers",
           "orientation": "h",
           "showlegend": true,
           "textposition": "auto",
           "texttemplate": "%{x:.2s}",
           "type": "bar",
           "x": [
            25299.42
           ],
           "xaxis": "x",
           "y": [
            "Migratieachtergrond: niet-westers"
           ],
           "yaxis": "y"
          },
          {
           "alignmentgroup": "True",
           "hovertemplate": "Persoonskenmerken=%{y}<br>Perioden=2020<br>Reisduur_3=%{x}<extra></extra>",
           "legendgroup": "Migratieachtergrond: westers",
           "marker": {
            "color": "#B6E880",
            "pattern": {
             "shape": ""
            }
           },
           "name": "Migratieachtergrond: westers",
           "offsetgroup": "Migratieachtergrond: westers",
           "orientation": "h",
           "showlegend": true,
           "textposition": "auto",
           "texttemplate": "%{x:.2s}",
           "type": "bar",
           "x": [
            32033.04
           ],
           "xaxis": "x",
           "y": [
            "Migratieachtergrond: westers"
           ],
           "yaxis": "y"
          },
          {
           "alignmentgroup": "True",
           "hovertemplate": "Persoonskenmerken=%{y}<br>Perioden=2020<br>Reisduur_3=%{x}<extra></extra>",
           "legendgroup": "OV-Studentenkaart: geen",
           "marker": {
            "color": "#FF97FF",
            "pattern": {
             "shape": ""
            }
           },
           "name": "OV-Studentenkaart: geen",
           "offsetgroup": "OV-Studentenkaart: geen",
           "orientation": "h",
           "showlegend": true,
           "textposition": "auto",
           "texttemplate": "%{x:.2s}",
           "type": "bar",
           "x": [
            48699.75
           ],
           "xaxis": "x",
           "y": [
            "OV-Studentenkaart: geen"
           ],
           "yaxis": "y"
          },
          {
           "alignmentgroup": "True",
           "hovertemplate": "Persoonskenmerken=%{y}<br>Perioden=2020<br>Reisduur_3=%{x}<extra></extra>",
           "legendgroup": "OV-Studentenkaart: weekabonnement",
           "marker": {
            "color": "#FECB52",
            "pattern": {
             "shape": ""
            }
           },
           "name": "OV-Studentenkaart: weekabonnement",
           "offsetgroup": "OV-Studentenkaart: weekabonnement",
           "orientation": "h",
           "showlegend": true,
           "textposition": "auto",
           "texttemplate": "%{x:.2s}",
           "type": "bar",
           "x": [
            30025.42
           ],
           "xaxis": "x",
           "y": [
            "OV-Studentenkaart: weekabonnement"
           ],
           "yaxis": "y"
          },
          {
           "alignmentgroup": "True",
           "hovertemplate": "Persoonskenmerken=%{y}<br>Perioden=2020<br>Reisduur_3=%{x}<extra></extra>",
           "legendgroup": "OV-Studentenkaart: weekendabonnement",
           "marker": {
            "color": "#636efa",
            "pattern": {
             "shape": ""
            }
           },
           "name": "OV-Studentenkaart: weekendabonnement",
           "offsetgroup": "OV-Studentenkaart: weekendabonnement",
           "orientation": "h",
           "showlegend": true,
           "textposition": "auto",
           "texttemplate": "%{x:.2s}",
           "type": "bar",
           "x": [
            5639.12
           ],
           "xaxis": "x",
           "y": [
            "OV-Studentenkaart: weekendabonnement"
           ],
           "yaxis": "y"
          },
          {
           "alignmentgroup": "True",
           "hovertemplate": "Persoonskenmerken=%{y}<br>Perioden=2020<br>Reisduur_3=%{x}<extra></extra>",
           "legendgroup": "Onderwijsniveau: 1 Laag",
           "marker": {
            "color": "#EF553B",
            "pattern": {
             "shape": ""
            }
           },
           "name": "Onderwijsniveau: 1 Laag",
           "offsetgroup": "Onderwijsniveau: 1 Laag",
           "orientation": "h",
           "showlegend": true,
           "textposition": "auto",
           "texttemplate": "%{x:.2s}",
           "type": "bar",
           "x": [
            35116.14
           ],
           "xaxis": "x",
           "y": [
            "Onderwijsniveau: 1 Laag"
           ],
           "yaxis": "y"
          },
          {
           "alignmentgroup": "True",
           "hovertemplate": "Persoonskenmerken=%{y}<br>Perioden=2020<br>Reisduur_3=%{x}<extra></extra>",
           "legendgroup": "Onderwijsniveau: 2 Middelbaar",
           "marker": {
            "color": "#00cc96",
            "pattern": {
             "shape": ""
            }
           },
           "name": "Onderwijsniveau: 2 Middelbaar",
           "offsetgroup": "Onderwijsniveau: 2 Middelbaar",
           "orientation": "h",
           "showlegend": true,
           "textposition": "auto",
           "texttemplate": "%{x:.2s}",
           "type": "bar",
           "x": [
            47947.54
           ],
           "xaxis": "x",
           "y": [
            "Onderwijsniveau: 2 Middelbaar"
           ],
           "yaxis": "y"
          },
          {
           "alignmentgroup": "True",
           "hovertemplate": "Persoonskenmerken=%{y}<br>Perioden=2020<br>Reisduur_3=%{x}<extra></extra>",
           "legendgroup": "Onderwijsniveau: 3 Hoog",
           "marker": {
            "color": "#ab63fa",
            "pattern": {
             "shape": ""
            }
           },
           "name": "Onderwijsniveau: 3 Hoog",
           "offsetgroup": "Onderwijsniveau: 3 Hoog",
           "orientation": "h",
           "showlegend": true,
           "textposition": "auto",
           "texttemplate": "%{x:.2s}",
           "type": "bar",
           "x": [
            53799.3
           ],
           "xaxis": "x",
           "y": [
            "Onderwijsniveau: 3 Hoog"
           ],
           "yaxis": "y"
          },
          {
           "alignmentgroup": "True",
           "hovertemplate": "Persoonskenmerken=%{y}<br>Perioden=2020<br>Reisduur_3=%{x}<extra></extra>",
           "legendgroup": "Participatie:  arbeidsongeschikt",
           "marker": {
            "color": "#FFA15A",
            "pattern": {
             "shape": ""
            }
           },
           "name": "Participatie:  arbeidsongeschikt",
           "offsetgroup": "Participatie:  arbeidsongeschikt",
           "orientation": "h",
           "showlegend": true,
           "textposition": "auto",
           "texttemplate": "%{x:.2s}",
           "type": "bar",
           "x": [
            16298.4
           ],
           "xaxis": "x",
           "y": [
            "Participatie:  arbeidsongeschikt"
           ],
           "yaxis": "y"
          },
          {
           "alignmentgroup": "True",
           "hovertemplate": "Persoonskenmerken=%{y}<br>Perioden=2020<br>Reisduur_3=%{x}<extra></extra>",
           "legendgroup": "Participatie: anders/overig",
           "marker": {
            "color": "#19d3f3",
            "pattern": {
             "shape": ""
            }
           },
           "name": "Participatie: anders/overig",
           "offsetgroup": "Participatie: anders/overig",
           "orientation": "h",
           "showlegend": true,
           "textposition": "auto",
           "texttemplate": "%{x:.2s}",
           "type": "bar",
           "x": [
            27691.86
           ],
           "xaxis": "x",
           "y": [
            "Participatie: anders/overig"
           ],
           "yaxis": "y"
          },
          {
           "alignmentgroup": "True",
           "hovertemplate": "Persoonskenmerken=%{y}<br>Perioden=2020<br>Reisduur_3=%{x}<extra></extra>",
           "legendgroup": "Participatie: gepensioneerd/VUT",
           "marker": {
            "color": "#FF6692",
            "pattern": {
             "shape": ""
            }
           },
           "name": "Participatie: gepensioneerd/VUT",
           "offsetgroup": "Participatie: gepensioneerd/VUT",
           "orientation": "h",
           "showlegend": true,
           "textposition": "auto",
           "texttemplate": "%{x:.2s}",
           "type": "bar",
           "x": [
            39005.72
           ],
           "xaxis": "x",
           "y": [
            "Participatie: gepensioneerd/VUT"
           ],
           "yaxis": "y"
          },
          {
           "alignmentgroup": "True",
           "hovertemplate": "Persoonskenmerken=%{y}<br>Perioden=2020<br>Reisduur_3=%{x}<extra></extra>",
           "legendgroup": "Participatie: werkloos",
           "marker": {
            "color": "#B6E880",
            "pattern": {
             "shape": ""
            }
           },
           "name": "Participatie: werkloos",
           "offsetgroup": "Participatie: werkloos",
           "orientation": "h",
           "showlegend": true,
           "textposition": "auto",
           "texttemplate": "%{x:.2s}",
           "type": "bar",
           "x": [
            15439.22
           ],
           "xaxis": "x",
           "y": [
            "Participatie: werkloos"
           ],
           "yaxis": "y"
          },
          {
           "alignmentgroup": "True",
           "hovertemplate": "Persoonskenmerken=%{y}<br>Perioden=2020<br>Reisduur_3=%{x}<extra></extra>",
           "legendgroup": "Participatie: werkzaam 30 uur pw of meer",
           "marker": {
            "color": "#FF97FF",
            "pattern": {
             "shape": ""
            }
           },
           "name": "Participatie: werkzaam 30 uur pw of meer",
           "offsetgroup": "Participatie: werkzaam 30 uur pw of meer",
           "orientation": "h",
           "showlegend": true,
           "textposition": "auto",
           "texttemplate": "%{x:.2s}",
           "type": "bar",
           "x": [
            53488.76
           ],
           "xaxis": "x",
           "y": [
            "Participatie: werkzaam 30 uur pw of meer"
           ],
           "yaxis": "y"
          },
          {
           "alignmentgroup": "True",
           "hovertemplate": "Persoonskenmerken=%{y}<br>Perioden=2020<br>Reisduur_3=%{x}<extra></extra>",
           "legendgroup": "Participatie: werkzaam: 12 tot 30 uur pw",
           "marker": {
            "color": "#FECB52",
            "pattern": {
             "shape": ""
            }
           },
           "name": "Participatie: werkzaam: 12 tot 30 uur pw",
           "offsetgroup": "Participatie: werkzaam: 12 tot 30 uur pw",
           "orientation": "h",
           "showlegend": true,
           "textposition": "auto",
           "texttemplate": "%{x:.2s}",
           "type": "bar",
           "x": [
            42277.84
           ],
           "xaxis": "x",
           "y": [
            "Participatie: werkzaam: 12 tot 30 uur pw"
           ],
           "yaxis": "y"
          },
          {
           "alignmentgroup": "True",
           "hovertemplate": "Persoonskenmerken=%{y}<br>Perioden=2020<br>Reisduur_3=%{x}<extra></extra>",
           "legendgroup": "Participatie:student/scholier",
           "marker": {
            "color": "#636efa",
            "pattern": {
             "shape": ""
            }
           },
           "name": "Participatie:student/scholier",
           "offsetgroup": "Participatie:student/scholier",
           "orientation": "h",
           "showlegend": true,
           "textposition": "auto",
           "texttemplate": "%{x:.2s}",
           "type": "bar",
           "x": [
            39547.19
           ],
           "xaxis": "x",
           "y": [
            "Participatie:student/scholier"
           ],
           "yaxis": "y"
          },
          {
           "alignmentgroup": "True",
           "hovertemplate": "Persoonskenmerken=%{y}<br>Perioden=2020<br>Reisduur_3=%{x}<extra></extra>",
           "legendgroup": "Rijbewijs, geen personenauto in hh",
           "marker": {
            "color": "#EF553B",
            "pattern": {
             "shape": ""
            }
           },
           "name": "Rijbewijs, geen personenauto in hh",
           "offsetgroup": "Rijbewijs, geen personenauto in hh",
           "orientation": "h",
           "showlegend": true,
           "textposition": "auto",
           "texttemplate": "%{x:.2s}",
           "type": "bar",
           "x": [
            30484.52
           ],
           "xaxis": "x",
           "y": [
            "Rijbewijs, geen personenauto in hh"
           ],
           "yaxis": "y"
          },
          {
           "alignmentgroup": "True",
           "hovertemplate": "Persoonskenmerken=%{y}<br>Perioden=2020<br>Reisduur_3=%{x}<extra></extra>",
           "legendgroup": "Rijbewijs, personenauto in hh",
           "marker": {
            "color": "#00cc96",
            "pattern": {
             "shape": ""
            }
           },
           "name": "Rijbewijs, personenauto in hh",
           "offsetgroup": "Rijbewijs, personenauto in hh",
           "orientation": "h",
           "showlegend": true,
           "textposition": "auto",
           "texttemplate": "%{x:.2s}",
           "type": "bar",
           "x": [
            48031.42
           ],
           "xaxis": "x",
           "y": [
            "Rijbewijs, personenauto in hh"
           ],
           "yaxis": "y"
          },
          {
           "alignmentgroup": "True",
           "hovertemplate": "Persoonskenmerken=%{y}<br>Perioden=2020<br>Reisduur_3=%{x}<extra></extra>",
           "legendgroup": "Rijbewijs, personenauto op eigen naam",
           "marker": {
            "color": "#ab63fa",
            "pattern": {
             "shape": ""
            }
           },
           "name": "Rijbewijs, personenauto op eigen naam",
           "offsetgroup": "Rijbewijs, personenauto op eigen naam",
           "orientation": "h",
           "showlegend": true,
           "textposition": "auto",
           "texttemplate": "%{x:.2s}",
           "type": "bar",
           "x": [
            52188.32
           ],
           "xaxis": "x",
           "y": [
            "Rijbewijs, personenauto op eigen naam"
           ],
           "yaxis": "y"
          }
         ],
         "name": "2020"
        },
        {
         "data": [
          {
           "alignmentgroup": "True",
           "hovertemplate": "Persoonskenmerken=%{y}<br>Perioden=2021<br>Reisduur_3=%{x}<extra></extra>",
           "legendgroup": "Geen rijbewijs; jonger dan 17 jaar",
           "marker": {
            "color": "#636efa",
            "pattern": {
             "shape": ""
            }
           },
           "name": "Geen rijbewijs; jonger dan 17 jaar",
           "offsetgroup": "Geen rijbewijs; jonger dan 17 jaar",
           "orientation": "h",
           "showlegend": true,
           "textposition": "auto",
           "texttemplate": "%{x:.2s}",
           "type": "bar",
           "x": [
            41046.21
           ],
           "xaxis": "x",
           "y": [
            "Geen rijbewijs; jonger dan 17 jaar"
           ],
           "yaxis": "y"
          },
          {
           "alignmentgroup": "True",
           "hovertemplate": "Persoonskenmerken=%{y}<br>Perioden=2021<br>Reisduur_3=%{x}<extra></extra>",
           "legendgroup": "Geen rijbewijs; wel 17 jaar of ouder",
           "marker": {
            "color": "#EF553B",
            "pattern": {
             "shape": ""
            }
           },
           "name": "Geen rijbewijs; wel 17 jaar of ouder",
           "offsetgroup": "Geen rijbewijs; wel 17 jaar of ouder",
           "orientation": "h",
           "showlegend": true,
           "textposition": "auto",
           "texttemplate": "%{x:.2s}",
           "type": "bar",
           "x": [
            36459.68
           ],
           "xaxis": "x",
           "y": [
            "Geen rijbewijs; wel 17 jaar of ouder"
           ],
           "yaxis": "y"
          },
          {
           "alignmentgroup": "True",
           "hovertemplate": "Persoonskenmerken=%{y}<br>Perioden=2021<br>Reisduur_3=%{x}<extra></extra>",
           "legendgroup": "Gestandaardiseerd inkomen: 1e 20%-groep",
           "marker": {
            "color": "#00cc96",
            "pattern": {
             "shape": ""
            }
           },
           "name": "Gestandaardiseerd inkomen: 1e 20%-groep",
           "offsetgroup": "Gestandaardiseerd inkomen: 1e 20%-groep",
           "orientation": "h",
           "showlegend": true,
           "textposition": "auto",
           "texttemplate": "%{x:.2s}",
           "type": "bar",
           "x": [
            39003.19
           ],
           "xaxis": "x",
           "y": [
            "Gestandaardiseerd inkomen: 1e 20%-groep"
           ],
           "yaxis": "y"
          },
          {
           "alignmentgroup": "True",
           "hovertemplate": "Persoonskenmerken=%{y}<br>Perioden=2021<br>Reisduur_3=%{x}<extra></extra>",
           "legendgroup": "Gestandaardiseerd inkomen: 2e 20%-groep",
           "marker": {
            "color": "#ab63fa",
            "pattern": {
             "shape": ""
            }
           },
           "name": "Gestandaardiseerd inkomen: 2e 20%-groep",
           "offsetgroup": "Gestandaardiseerd inkomen: 2e 20%-groep",
           "orientation": "h",
           "showlegend": true,
           "textposition": "auto",
           "texttemplate": "%{x:.2s}",
           "type": "bar",
           "x": [
            44821.51
           ],
           "xaxis": "x",
           "y": [
            "Gestandaardiseerd inkomen: 2e 20%-groep"
           ],
           "yaxis": "y"
          },
          {
           "alignmentgroup": "True",
           "hovertemplate": "Persoonskenmerken=%{y}<br>Perioden=2021<br>Reisduur_3=%{x}<extra></extra>",
           "legendgroup": "Gestandaardiseerd inkomen: 3e 20%-groep",
           "marker": {
            "color": "#FFA15A",
            "pattern": {
             "shape": ""
            }
           },
           "name": "Gestandaardiseerd inkomen: 3e 20%-groep",
           "offsetgroup": "Gestandaardiseerd inkomen: 3e 20%-groep",
           "orientation": "h",
           "showlegend": true,
           "textposition": "auto",
           "texttemplate": "%{x:.2s}",
           "type": "bar",
           "x": [
            50912.96
           ],
           "xaxis": "x",
           "y": [
            "Gestandaardiseerd inkomen: 3e 20%-groep"
           ],
           "yaxis": "y"
          },
          {
           "alignmentgroup": "True",
           "hovertemplate": "Persoonskenmerken=%{y}<br>Perioden=2021<br>Reisduur_3=%{x}<extra></extra>",
           "legendgroup": "Gestandaardiseerd inkomen: 4e 20%-groep",
           "marker": {
            "color": "#19d3f3",
            "pattern": {
             "shape": ""
            }
           },
           "name": "Gestandaardiseerd inkomen: 4e 20%-groep",
           "offsetgroup": "Gestandaardiseerd inkomen: 4e 20%-groep",
           "orientation": "h",
           "showlegend": true,
           "textposition": "auto",
           "texttemplate": "%{x:.2s}",
           "type": "bar",
           "x": [
            53526.71
           ],
           "xaxis": "x",
           "y": [
            "Gestandaardiseerd inkomen: 4e 20%-groep"
           ],
           "yaxis": "y"
          },
          {
           "alignmentgroup": "True",
           "hovertemplate": "Persoonskenmerken=%{y}<br>Perioden=2021<br>Reisduur_3=%{x}<extra></extra>",
           "legendgroup": "Gestandaardiseerd inkomen: 5e 20%-groep",
           "marker": {
            "color": "#FF6692",
            "pattern": {
             "shape": ""
            }
           },
           "name": "Gestandaardiseerd inkomen: 5e 20%-groep",
           "offsetgroup": "Gestandaardiseerd inkomen: 5e 20%-groep",
           "orientation": "h",
           "showlegend": true,
           "textposition": "auto",
           "texttemplate": "%{x:.2s}",
           "type": "bar",
           "x": [
            54968.3
           ],
           "xaxis": "x",
           "y": [
            "Gestandaardiseerd inkomen: 5e 20%-groep"
           ],
           "yaxis": "y"
          },
          {
           "alignmentgroup": "True",
           "hovertemplate": "Persoonskenmerken=%{y}<br>Perioden=2021<br>Reisduur_3=%{x}<extra></extra>",
           "legendgroup": "Leeftijd: 12 tot 18 jaar",
           "marker": {
            "color": "#B6E880",
            "pattern": {
             "shape": ""
            }
           },
           "name": "Leeftijd: 12 tot 18 jaar",
           "offsetgroup": "Leeftijd: 12 tot 18 jaar",
           "orientation": "h",
           "showlegend": true,
           "textposition": "auto",
           "texttemplate": "%{x:.2s}",
           "type": "bar",
           "x": [
            38349.98
           ],
           "xaxis": "x",
           "y": [
            "Leeftijd: 12 tot 18 jaar"
           ],
           "yaxis": "y"
          },
          {
           "alignmentgroup": "True",
           "hovertemplate": "Persoonskenmerken=%{y}<br>Perioden=2021<br>Reisduur_3=%{x}<extra></extra>",
           "legendgroup": "Leeftijd: 18 tot 25 jaar",
           "marker": {
            "color": "#FF97FF",
            "pattern": {
             "shape": ""
            }
           },
           "name": "Leeftijd: 18 tot 25 jaar",
           "offsetgroup": "Leeftijd: 18 tot 25 jaar",
           "orientation": "h",
           "showlegend": true,
           "textposition": "auto",
           "texttemplate": "%{x:.2s}",
           "type": "bar",
           "x": [
            44485.28
           ],
           "xaxis": "x",
           "y": [
            "Leeftijd: 18 tot 25 jaar"
           ],
           "yaxis": "y"
          },
          {
           "alignmentgroup": "True",
           "hovertemplate": "Persoonskenmerken=%{y}<br>Perioden=2021<br>Reisduur_3=%{x}<extra></extra>",
           "legendgroup": "Leeftijd: 25 tot 35 jaar",
           "marker": {
            "color": "#FECB52",
            "pattern": {
             "shape": ""
            }
           },
           "name": "Leeftijd: 25 tot 35 jaar",
           "offsetgroup": "Leeftijd: 25 tot 35 jaar",
           "orientation": "h",
           "showlegend": true,
           "textposition": "auto",
           "texttemplate": "%{x:.2s}",
           "type": "bar",
           "x": [
            48187.08
           ],
           "xaxis": "x",
           "y": [
            "Leeftijd: 25 tot 35 jaar"
           ],
           "yaxis": "y"
          },
          {
           "alignmentgroup": "True",
           "hovertemplate": "Persoonskenmerken=%{y}<br>Perioden=2021<br>Reisduur_3=%{x}<extra></extra>",
           "legendgroup": "Leeftijd: 35 tot 50 jaar",
           "marker": {
            "color": "#636efa",
            "pattern": {
             "shape": ""
            }
           },
           "name": "Leeftijd: 35 tot 50 jaar",
           "offsetgroup": "Leeftijd: 35 tot 50 jaar",
           "orientation": "h",
           "showlegend": true,
           "textposition": "auto",
           "texttemplate": "%{x:.2s}",
           "type": "bar",
           "x": [
            51357.56
           ],
           "xaxis": "x",
           "y": [
            "Leeftijd: 35 tot 50 jaar"
           ],
           "yaxis": "y"
          },
          {
           "alignmentgroup": "True",
           "hovertemplate": "Persoonskenmerken=%{y}<br>Perioden=2021<br>Reisduur_3=%{x}<extra></extra>",
           "legendgroup": "Leeftijd: 50 tot 65 jaar",
           "marker": {
            "color": "#EF553B",
            "pattern": {
             "shape": ""
            }
           },
           "name": "Leeftijd: 50 tot 65 jaar",
           "offsetgroup": "Leeftijd: 50 tot 65 jaar",
           "orientation": "h",
           "showlegend": true,
           "textposition": "auto",
           "texttemplate": "%{x:.2s}",
           "type": "bar",
           "x": [
            54904.52
           ],
           "xaxis": "x",
           "y": [
            "Leeftijd: 50 tot 65 jaar"
           ],
           "yaxis": "y"
          },
          {
           "alignmentgroup": "True",
           "hovertemplate": "Persoonskenmerken=%{y}<br>Perioden=2021<br>Reisduur_3=%{x}<extra></extra>",
           "legendgroup": "Leeftijd: 65 tot 75 jaar",
           "marker": {
            "color": "#00cc96",
            "pattern": {
             "shape": ""
            }
           },
           "name": "Leeftijd: 65 tot 75 jaar",
           "offsetgroup": "Leeftijd: 65 tot 75 jaar",
           "orientation": "h",
           "showlegend": true,
           "textposition": "auto",
           "texttemplate": "%{x:.2s}",
           "type": "bar",
           "x": [
            49617.68
           ],
           "xaxis": "x",
           "y": [
            "Leeftijd: 65 tot 75 jaar"
           ],
           "yaxis": "y"
          },
          {
           "alignmentgroup": "True",
           "hovertemplate": "Persoonskenmerken=%{y}<br>Perioden=2021<br>Reisduur_3=%{x}<extra></extra>",
           "legendgroup": "Leeftijd: 75 jaar of ouder",
           "marker": {
            "color": "#ab63fa",
            "pattern": {
             "shape": ""
            }
           },
           "name": "Leeftijd: 75 jaar of ouder",
           "offsetgroup": "Leeftijd: 75 jaar of ouder",
           "orientation": "h",
           "showlegend": true,
           "textposition": "auto",
           "texttemplate": "%{x:.2s}",
           "type": "bar",
           "x": [
            31864.38
           ],
           "xaxis": "x",
           "y": [
            "Leeftijd: 75 jaar of ouder"
           ],
           "yaxis": "y"
          },
          {
           "alignmentgroup": "True",
           "hovertemplate": "Persoonskenmerken=%{y}<br>Perioden=2021<br>Reisduur_3=%{x}<extra></extra>",
           "legendgroup": "Leeftijd:6 tot 12 jaar",
           "marker": {
            "color": "#FFA15A",
            "pattern": {
             "shape": ""
            }
           },
           "name": "Leeftijd:6 tot 12 jaar",
           "offsetgroup": "Leeftijd:6 tot 12 jaar",
           "orientation": "h",
           "showlegend": true,
           "textposition": "auto",
           "texttemplate": "%{x:.2s}",
           "type": "bar",
           "x": [
            19879.91
           ],
           "xaxis": "x",
           "y": [
            "Leeftijd:6 tot 12 jaar"
           ],
           "yaxis": "y"
          },
          {
           "alignmentgroup": "True",
           "hovertemplate": "Persoonskenmerken=%{y}<br>Perioden=2021<br>Reisduur_3=%{x}<extra></extra>",
           "legendgroup": "Migratieachtergrond: Nederland",
           "marker": {
            "color": "#19d3f3",
            "pattern": {
             "shape": ""
            }
           },
           "name": "Migratieachtergrond: Nederland",
           "offsetgroup": "Migratieachtergrond: Nederland",
           "orientation": "h",
           "showlegend": true,
           "textposition": "auto",
           "texttemplate": "%{x:.2s}",
           "type": "bar",
           "x": [
            56331.98
           ],
           "xaxis": "x",
           "y": [
            "Migratieachtergrond: Nederland"
           ],
           "yaxis": "y"
          },
          {
           "alignmentgroup": "True",
           "hovertemplate": "Persoonskenmerken=%{y}<br>Perioden=2021<br>Reisduur_3=%{x}<extra></extra>",
           "legendgroup": "Migratieachtergrond: niet-westers",
           "marker": {
            "color": "#FF6692",
            "pattern": {
             "shape": ""
            }
           },
           "name": "Migratieachtergrond: niet-westers",
           "offsetgroup": "Migratieachtergrond: niet-westers",
           "orientation": "h",
           "showlegend": true,
           "textposition": "auto",
           "texttemplate": "%{x:.2s}",
           "type": "bar",
           "x": [
            32587.22
           ],
           "xaxis": "x",
           "y": [
            "Migratieachtergrond: niet-westers"
           ],
           "yaxis": "y"
          },
          {
           "alignmentgroup": "True",
           "hovertemplate": "Persoonskenmerken=%{y}<br>Perioden=2021<br>Reisduur_3=%{x}<extra></extra>",
           "legendgroup": "Migratieachtergrond: westers",
           "marker": {
            "color": "#B6E880",
            "pattern": {
             "shape": ""
            }
           },
           "name": "Migratieachtergrond: westers",
           "offsetgroup": "Migratieachtergrond: westers",
           "orientation": "h",
           "showlegend": true,
           "textposition": "auto",
           "texttemplate": "%{x:.2s}",
           "type": "bar",
           "x": [
            39826.11
           ],
           "xaxis": "x",
           "y": [
            "Migratieachtergrond: westers"
           ],
           "yaxis": "y"
          },
          {
           "alignmentgroup": "True",
           "hovertemplate": "Persoonskenmerken=%{y}<br>Perioden=2021<br>Reisduur_3=%{x}<extra></extra>",
           "legendgroup": "OV-Studentenkaart: geen",
           "marker": {
            "color": "#FF97FF",
            "pattern": {
             "shape": ""
            }
           },
           "name": "OV-Studentenkaart: geen",
           "offsetgroup": "OV-Studentenkaart: geen",
           "orientation": "h",
           "showlegend": true,
           "textposition": "auto",
           "texttemplate": "%{x:.2s}",
           "type": "bar",
           "x": [
            54617.66
           ],
           "xaxis": "x",
           "y": [
            "OV-Studentenkaart: geen"
           ],
           "yaxis": "y"
          },
          {
           "alignmentgroup": "True",
           "hovertemplate": "Persoonskenmerken=%{y}<br>Perioden=2021<br>Reisduur_3=%{x}<extra></extra>",
           "legendgroup": "OV-Studentenkaart: weekabonnement",
           "marker": {
            "color": "#FECB52",
            "pattern": {
             "shape": ""
            }
           },
           "name": "OV-Studentenkaart: weekabonnement",
           "offsetgroup": "OV-Studentenkaart: weekabonnement",
           "orientation": "h",
           "showlegend": true,
           "textposition": "auto",
           "texttemplate": "%{x:.2s}",
           "type": "bar",
           "x": [
            41737.54
           ],
           "xaxis": "x",
           "y": [
            "OV-Studentenkaart: weekabonnement"
           ],
           "yaxis": "y"
          },
          {
           "alignmentgroup": "True",
           "hovertemplate": "Persoonskenmerken=%{y}<br>Perioden=2021<br>Reisduur_3=%{x}<extra></extra>",
           "legendgroup": "OV-Studentenkaart: weekendabonnement",
           "marker": {
            "color": "#636efa",
            "pattern": {
             "shape": ""
            }
           },
           "name": "OV-Studentenkaart: weekendabonnement",
           "offsetgroup": "OV-Studentenkaart: weekendabonnement",
           "orientation": "h",
           "showlegend": true,
           "textposition": "auto",
           "texttemplate": "%{x:.2s}",
           "type": "bar",
           "x": [
            6356.24
           ],
           "xaxis": "x",
           "y": [
            "OV-Studentenkaart: weekendabonnement"
           ],
           "yaxis": "y"
          },
          {
           "alignmentgroup": "True",
           "hovertemplate": "Persoonskenmerken=%{y}<br>Perioden=2021<br>Reisduur_3=%{x}<extra></extra>",
           "legendgroup": "Onderwijsniveau: 1 Laag",
           "marker": {
            "color": "#EF553B",
            "pattern": {
             "shape": ""
            }
           },
           "name": "Onderwijsniveau: 1 Laag",
           "offsetgroup": "Onderwijsniveau: 1 Laag",
           "orientation": "h",
           "showlegend": true,
           "textposition": "auto",
           "texttemplate": "%{x:.2s}",
           "type": "bar",
           "x": [
            42860
           ],
           "xaxis": "x",
           "y": [
            "Onderwijsniveau: 1 Laag"
           ],
           "yaxis": "y"
          },
          {
           "alignmentgroup": "True",
           "hovertemplate": "Persoonskenmerken=%{y}<br>Perioden=2021<br>Reisduur_3=%{x}<extra></extra>",
           "legendgroup": "Onderwijsniveau: 2 Middelbaar",
           "marker": {
            "color": "#00cc96",
            "pattern": {
             "shape": ""
            }
           },
           "name": "Onderwijsniveau: 2 Middelbaar",
           "offsetgroup": "Onderwijsniveau: 2 Middelbaar",
           "orientation": "h",
           "showlegend": true,
           "textposition": "auto",
           "texttemplate": "%{x:.2s}",
           "type": "bar",
           "x": [
            53864.24
           ],
           "xaxis": "x",
           "y": [
            "Onderwijsniveau: 2 Middelbaar"
           ],
           "yaxis": "y"
          },
          {
           "alignmentgroup": "True",
           "hovertemplate": "Persoonskenmerken=%{y}<br>Perioden=2021<br>Reisduur_3=%{x}<extra></extra>",
           "legendgroup": "Onderwijsniveau: 3 Hoog",
           "marker": {
            "color": "#ab63fa",
            "pattern": {
             "shape": ""
            }
           },
           "name": "Onderwijsniveau: 3 Hoog",
           "offsetgroup": "Onderwijsniveau: 3 Hoog",
           "orientation": "h",
           "showlegend": true,
           "textposition": "auto",
           "texttemplate": "%{x:.2s}",
           "type": "bar",
           "x": [
            58198.52
           ],
           "xaxis": "x",
           "y": [
            "Onderwijsniveau: 3 Hoog"
           ],
           "yaxis": "y"
          },
          {
           "alignmentgroup": "True",
           "hovertemplate": "Persoonskenmerken=%{y}<br>Perioden=2021<br>Reisduur_3=%{x}<extra></extra>",
           "legendgroup": "Participatie:  arbeidsongeschikt",
           "marker": {
            "color": "#FFA15A",
            "pattern": {
             "shape": ""
            }
           },
           "name": "Participatie:  arbeidsongeschikt",
           "offsetgroup": "Participatie:  arbeidsongeschikt",
           "orientation": "h",
           "showlegend": true,
           "textposition": "auto",
           "texttemplate": "%{x:.2s}",
           "type": "bar",
           "x": [
            20940.64
           ],
           "xaxis": "x",
           "y": [
            "Participatie:  arbeidsongeschikt"
           ],
           "yaxis": "y"
          },
          {
           "alignmentgroup": "True",
           "hovertemplate": "Persoonskenmerken=%{y}<br>Perioden=2021<br>Reisduur_3=%{x}<extra></extra>",
           "legendgroup": "Participatie: anders/overig",
           "marker": {
            "color": "#19d3f3",
            "pattern": {
             "shape": ""
            }
           },
           "name": "Participatie: anders/overig",
           "offsetgroup": "Participatie: anders/overig",
           "orientation": "h",
           "showlegend": true,
           "textposition": "auto",
           "texttemplate": "%{x:.2s}",
           "type": "bar",
           "x": [
            33648.88
           ],
           "xaxis": "x",
           "y": [
            "Participatie: anders/overig"
           ],
           "yaxis": "y"
          },
          {
           "alignmentgroup": "True",
           "hovertemplate": "Persoonskenmerken=%{y}<br>Perioden=2021<br>Reisduur_3=%{x}<extra></extra>",
           "legendgroup": "Participatie: gepensioneerd/VUT",
           "marker": {
            "color": "#FF6692",
            "pattern": {
             "shape": ""
            }
           },
           "name": "Participatie: gepensioneerd/VUT",
           "offsetgroup": "Participatie: gepensioneerd/VUT",
           "orientation": "h",
           "showlegend": true,
           "textposition": "auto",
           "texttemplate": "%{x:.2s}",
           "type": "bar",
           "x": [
            47624.8
           ],
           "xaxis": "x",
           "y": [
            "Participatie: gepensioneerd/VUT"
           ],
           "yaxis": "y"
          },
          {
           "alignmentgroup": "True",
           "hovertemplate": "Persoonskenmerken=%{y}<br>Perioden=2021<br>Reisduur_3=%{x}<extra></extra>",
           "legendgroup": "Participatie: werkloos",
           "marker": {
            "color": "#B6E880",
            "pattern": {
             "shape": ""
            }
           },
           "name": "Participatie: werkloos",
           "offsetgroup": "Participatie: werkloos",
           "orientation": "h",
           "showlegend": true,
           "textposition": "auto",
           "texttemplate": "%{x:.2s}",
           "type": "bar",
           "x": [
            14340.4
           ],
           "xaxis": "x",
           "y": [
            "Participatie: werkloos"
           ],
           "yaxis": "y"
          },
          {
           "alignmentgroup": "True",
           "hovertemplate": "Persoonskenmerken=%{y}<br>Perioden=2021<br>Reisduur_3=%{x}<extra></extra>",
           "legendgroup": "Participatie: werkzaam 30 uur pw of meer",
           "marker": {
            "color": "#FF97FF",
            "pattern": {
             "shape": ""
            }
           },
           "name": "Participatie: werkzaam 30 uur pw of meer",
           "offsetgroup": "Participatie: werkzaam 30 uur pw of meer",
           "orientation": "h",
           "showlegend": true,
           "textposition": "auto",
           "texttemplate": "%{x:.2s}",
           "type": "bar",
           "x": [
            57331.6
           ],
           "xaxis": "x",
           "y": [
            "Participatie: werkzaam 30 uur pw of meer"
           ],
           "yaxis": "y"
          },
          {
           "alignmentgroup": "True",
           "hovertemplate": "Persoonskenmerken=%{y}<br>Perioden=2021<br>Reisduur_3=%{x}<extra></extra>",
           "legendgroup": "Participatie: werkzaam: 12 tot 30 uur pw",
           "marker": {
            "color": "#FECB52",
            "pattern": {
             "shape": ""
            }
           },
           "name": "Participatie: werkzaam: 12 tot 30 uur pw",
           "offsetgroup": "Participatie: werkzaam: 12 tot 30 uur pw",
           "orientation": "h",
           "showlegend": true,
           "textposition": "auto",
           "texttemplate": "%{x:.2s}",
           "type": "bar",
           "x": [
            48851.16
           ],
           "xaxis": "x",
           "y": [
            "Participatie: werkzaam: 12 tot 30 uur pw"
           ],
           "yaxis": "y"
          },
          {
           "alignmentgroup": "True",
           "hovertemplate": "Persoonskenmerken=%{y}<br>Perioden=2021<br>Reisduur_3=%{x}<extra></extra>",
           "legendgroup": "Participatie:student/scholier",
           "marker": {
            "color": "#636efa",
            "pattern": {
             "shape": ""
            }
           },
           "name": "Participatie:student/scholier",
           "offsetgroup": "Participatie:student/scholier",
           "orientation": "h",
           "showlegend": true,
           "textposition": "auto",
           "texttemplate": "%{x:.2s}",
           "type": "bar",
           "x": [
            47905.11
           ],
           "xaxis": "x",
           "y": [
            "Participatie:student/scholier"
           ],
           "yaxis": "y"
          },
          {
           "alignmentgroup": "True",
           "hovertemplate": "Persoonskenmerken=%{y}<br>Perioden=2021<br>Reisduur_3=%{x}<extra></extra>",
           "legendgroup": "Rijbewijs, geen personenauto in hh",
           "marker": {
            "color": "#EF553B",
            "pattern": {
             "shape": ""
            }
           },
           "name": "Rijbewijs, geen personenauto in hh",
           "offsetgroup": "Rijbewijs, geen personenauto in hh",
           "orientation": "h",
           "showlegend": true,
           "textposition": "auto",
           "texttemplate": "%{x:.2s}",
           "type": "bar",
           "x": [
            36344.96
           ],
           "xaxis": "x",
           "y": [
            "Rijbewijs, geen personenauto in hh"
           ],
           "yaxis": "y"
          },
          {
           "alignmentgroup": "True",
           "hovertemplate": "Persoonskenmerken=%{y}<br>Perioden=2021<br>Reisduur_3=%{x}<extra></extra>",
           "legendgroup": "Rijbewijs, personenauto in hh",
           "marker": {
            "color": "#00cc96",
            "pattern": {
             "shape": ""
            }
           },
           "name": "Rijbewijs, personenauto in hh",
           "offsetgroup": "Rijbewijs, personenauto in hh",
           "orientation": "h",
           "showlegend": true,
           "textposition": "auto",
           "texttemplate": "%{x:.2s}",
           "type": "bar",
           "x": [
            53697.22
           ],
           "xaxis": "x",
           "y": [
            "Rijbewijs, personenauto in hh"
           ],
           "yaxis": "y"
          },
          {
           "alignmentgroup": "True",
           "hovertemplate": "Persoonskenmerken=%{y}<br>Perioden=2021<br>Reisduur_3=%{x}<extra></extra>",
           "legendgroup": "Rijbewijs, personenauto op eigen naam",
           "marker": {
            "color": "#ab63fa",
            "pattern": {
             "shape": ""
            }
           },
           "name": "Rijbewijs, personenauto op eigen naam",
           "offsetgroup": "Rijbewijs, personenauto op eigen naam",
           "orientation": "h",
           "showlegend": true,
           "textposition": "auto",
           "texttemplate": "%{x:.2s}",
           "type": "bar",
           "x": [
            57165.36
           ],
           "xaxis": "x",
           "y": [
            "Rijbewijs, personenauto op eigen naam"
           ],
           "yaxis": "y"
          }
         ],
         "name": "2021"
        }
       ],
       "layout": {
        "barmode": "relative",
        "height": 1000,
        "legend": {
         "title": {
          "text": "Persoonskenmerken"
         },
         "tracegroupgap": 0
        },
        "margin": {
         "t": 60
        },
        "showlegend": false,
        "sliders": [
         {
          "active": 0,
          "currentvalue": {
           "prefix": "Perioden="
          },
          "len": 0.9,
          "pad": {
           "b": 10,
           "t": 60
          },
          "steps": [
           {
            "args": [
             [
              "2018"
             ],
             {
              "frame": {
               "duration": 0,
               "redraw": true
              },
              "fromcurrent": true,
              "mode": "immediate",
              "transition": {
               "duration": 0,
               "easing": "linear"
              }
             }
            ],
            "label": "2018",
            "method": "animate"
           },
           {
            "args": [
             [
              "2019"
             ],
             {
              "frame": {
               "duration": 0,
               "redraw": true
              },
              "fromcurrent": true,
              "mode": "immediate",
              "transition": {
               "duration": 0,
               "easing": "linear"
              }
             }
            ],
            "label": "2019",
            "method": "animate"
           },
           {
            "args": [
             [
              "2020"
             ],
             {
              "frame": {
               "duration": 0,
               "redraw": true
              },
              "fromcurrent": true,
              "mode": "immediate",
              "transition": {
               "duration": 0,
               "easing": "linear"
              }
             }
            ],
            "label": "2020",
            "method": "animate"
           },
           {
            "args": [
             [
              "2021"
             ],
             {
              "frame": {
               "duration": 0,
               "redraw": true
              },
              "fromcurrent": true,
              "mode": "immediate",
              "transition": {
               "duration": 0,
               "easing": "linear"
              }
             }
            ],
            "label": "2021",
            "method": "animate"
           }
          ],
          "x": 0.1,
          "xanchor": "left",
          "y": 0,
          "yanchor": "top"
         }
        ],
        "template": {
         "data": {
          "bar": [
           {
            "error_x": {
             "color": "#2a3f5f"
            },
            "error_y": {
             "color": "#2a3f5f"
            },
            "marker": {
             "line": {
              "color": "#E5ECF6",
              "width": 0.5
             },
             "pattern": {
              "fillmode": "overlay",
              "size": 10,
              "solidity": 0.2
             }
            },
            "type": "bar"
           }
          ],
          "barpolar": [
           {
            "marker": {
             "line": {
              "color": "#E5ECF6",
              "width": 0.5
             },
             "pattern": {
              "fillmode": "overlay",
              "size": 10,
              "solidity": 0.2
             }
            },
            "type": "barpolar"
           }
          ],
          "carpet": [
           {
            "aaxis": {
             "endlinecolor": "#2a3f5f",
             "gridcolor": "white",
             "linecolor": "white",
             "minorgridcolor": "white",
             "startlinecolor": "#2a3f5f"
            },
            "baxis": {
             "endlinecolor": "#2a3f5f",
             "gridcolor": "white",
             "linecolor": "white",
             "minorgridcolor": "white",
             "startlinecolor": "#2a3f5f"
            },
            "type": "carpet"
           }
          ],
          "choropleth": [
           {
            "colorbar": {
             "outlinewidth": 0,
             "ticks": ""
            },
            "type": "choropleth"
           }
          ],
          "contour": [
           {
            "colorbar": {
             "outlinewidth": 0,
             "ticks": ""
            },
            "colorscale": [
             [
              0,
              "#0d0887"
             ],
             [
              0.1111111111111111,
              "#46039f"
             ],
             [
              0.2222222222222222,
              "#7201a8"
             ],
             [
              0.3333333333333333,
              "#9c179e"
             ],
             [
              0.4444444444444444,
              "#bd3786"
             ],
             [
              0.5555555555555556,
              "#d8576b"
             ],
             [
              0.6666666666666666,
              "#ed7953"
             ],
             [
              0.7777777777777778,
              "#fb9f3a"
             ],
             [
              0.8888888888888888,
              "#fdca26"
             ],
             [
              1,
              "#f0f921"
             ]
            ],
            "type": "contour"
           }
          ],
          "contourcarpet": [
           {
            "colorbar": {
             "outlinewidth": 0,
             "ticks": ""
            },
            "type": "contourcarpet"
           }
          ],
          "heatmap": [
           {
            "colorbar": {
             "outlinewidth": 0,
             "ticks": ""
            },
            "colorscale": [
             [
              0,
              "#0d0887"
             ],
             [
              0.1111111111111111,
              "#46039f"
             ],
             [
              0.2222222222222222,
              "#7201a8"
             ],
             [
              0.3333333333333333,
              "#9c179e"
             ],
             [
              0.4444444444444444,
              "#bd3786"
             ],
             [
              0.5555555555555556,
              "#d8576b"
             ],
             [
              0.6666666666666666,
              "#ed7953"
             ],
             [
              0.7777777777777778,
              "#fb9f3a"
             ],
             [
              0.8888888888888888,
              "#fdca26"
             ],
             [
              1,
              "#f0f921"
             ]
            ],
            "type": "heatmap"
           }
          ],
          "heatmapgl": [
           {
            "colorbar": {
             "outlinewidth": 0,
             "ticks": ""
            },
            "colorscale": [
             [
              0,
              "#0d0887"
             ],
             [
              0.1111111111111111,
              "#46039f"
             ],
             [
              0.2222222222222222,
              "#7201a8"
             ],
             [
              0.3333333333333333,
              "#9c179e"
             ],
             [
              0.4444444444444444,
              "#bd3786"
             ],
             [
              0.5555555555555556,
              "#d8576b"
             ],
             [
              0.6666666666666666,
              "#ed7953"
             ],
             [
              0.7777777777777778,
              "#fb9f3a"
             ],
             [
              0.8888888888888888,
              "#fdca26"
             ],
             [
              1,
              "#f0f921"
             ]
            ],
            "type": "heatmapgl"
           }
          ],
          "histogram": [
           {
            "marker": {
             "pattern": {
              "fillmode": "overlay",
              "size": 10,
              "solidity": 0.2
             }
            },
            "type": "histogram"
           }
          ],
          "histogram2d": [
           {
            "colorbar": {
             "outlinewidth": 0,
             "ticks": ""
            },
            "colorscale": [
             [
              0,
              "#0d0887"
             ],
             [
              0.1111111111111111,
              "#46039f"
             ],
             [
              0.2222222222222222,
              "#7201a8"
             ],
             [
              0.3333333333333333,
              "#9c179e"
             ],
             [
              0.4444444444444444,
              "#bd3786"
             ],
             [
              0.5555555555555556,
              "#d8576b"
             ],
             [
              0.6666666666666666,
              "#ed7953"
             ],
             [
              0.7777777777777778,
              "#fb9f3a"
             ],
             [
              0.8888888888888888,
              "#fdca26"
             ],
             [
              1,
              "#f0f921"
             ]
            ],
            "type": "histogram2d"
           }
          ],
          "histogram2dcontour": [
           {
            "colorbar": {
             "outlinewidth": 0,
             "ticks": ""
            },
            "colorscale": [
             [
              0,
              "#0d0887"
             ],
             [
              0.1111111111111111,
              "#46039f"
             ],
             [
              0.2222222222222222,
              "#7201a8"
             ],
             [
              0.3333333333333333,
              "#9c179e"
             ],
             [
              0.4444444444444444,
              "#bd3786"
             ],
             [
              0.5555555555555556,
              "#d8576b"
             ],
             [
              0.6666666666666666,
              "#ed7953"
             ],
             [
              0.7777777777777778,
              "#fb9f3a"
             ],
             [
              0.8888888888888888,
              "#fdca26"
             ],
             [
              1,
              "#f0f921"
             ]
            ],
            "type": "histogram2dcontour"
           }
          ],
          "mesh3d": [
           {
            "colorbar": {
             "outlinewidth": 0,
             "ticks": ""
            },
            "type": "mesh3d"
           }
          ],
          "parcoords": [
           {
            "line": {
             "colorbar": {
              "outlinewidth": 0,
              "ticks": ""
             }
            },
            "type": "parcoords"
           }
          ],
          "pie": [
           {
            "automargin": true,
            "type": "pie"
           }
          ],
          "scatter": [
           {
            "fillpattern": {
             "fillmode": "overlay",
             "size": 10,
             "solidity": 0.2
            },
            "type": "scatter"
           }
          ],
          "scatter3d": [
           {
            "line": {
             "colorbar": {
              "outlinewidth": 0,
              "ticks": ""
             }
            },
            "marker": {
             "colorbar": {
              "outlinewidth": 0,
              "ticks": ""
             }
            },
            "type": "scatter3d"
           }
          ],
          "scattercarpet": [
           {
            "marker": {
             "colorbar": {
              "outlinewidth": 0,
              "ticks": ""
             }
            },
            "type": "scattercarpet"
           }
          ],
          "scattergeo": [
           {
            "marker": {
             "colorbar": {
              "outlinewidth": 0,
              "ticks": ""
             }
            },
            "type": "scattergeo"
           }
          ],
          "scattergl": [
           {
            "marker": {
             "colorbar": {
              "outlinewidth": 0,
              "ticks": ""
             }
            },
            "type": "scattergl"
           }
          ],
          "scattermapbox": [
           {
            "marker": {
             "colorbar": {
              "outlinewidth": 0,
              "ticks": ""
             }
            },
            "type": "scattermapbox"
           }
          ],
          "scatterpolar": [
           {
            "marker": {
             "colorbar": {
              "outlinewidth": 0,
              "ticks": ""
             }
            },
            "type": "scatterpolar"
           }
          ],
          "scatterpolargl": [
           {
            "marker": {
             "colorbar": {
              "outlinewidth": 0,
              "ticks": ""
             }
            },
            "type": "scatterpolargl"
           }
          ],
          "scatterternary": [
           {
            "marker": {
             "colorbar": {
              "outlinewidth": 0,
              "ticks": ""
             }
            },
            "type": "scatterternary"
           }
          ],
          "surface": [
           {
            "colorbar": {
             "outlinewidth": 0,
             "ticks": ""
            },
            "colorscale": [
             [
              0,
              "#0d0887"
             ],
             [
              0.1111111111111111,
              "#46039f"
             ],
             [
              0.2222222222222222,
              "#7201a8"
             ],
             [
              0.3333333333333333,
              "#9c179e"
             ],
             [
              0.4444444444444444,
              "#bd3786"
             ],
             [
              0.5555555555555556,
              "#d8576b"
             ],
             [
              0.6666666666666666,
              "#ed7953"
             ],
             [
              0.7777777777777778,
              "#fb9f3a"
             ],
             [
              0.8888888888888888,
              "#fdca26"
             ],
             [
              1,
              "#f0f921"
             ]
            ],
            "type": "surface"
           }
          ],
          "table": [
           {
            "cells": {
             "fill": {
              "color": "#EBF0F8"
             },
             "line": {
              "color": "white"
             }
            },
            "header": {
             "fill": {
              "color": "#C8D4E3"
             },
             "line": {
              "color": "white"
             }
            },
            "type": "table"
           }
          ]
         },
         "layout": {
          "annotationdefaults": {
           "arrowcolor": "#2a3f5f",
           "arrowhead": 0,
           "arrowwidth": 1
          },
          "autotypenumbers": "strict",
          "coloraxis": {
           "colorbar": {
            "outlinewidth": 0,
            "ticks": ""
           }
          },
          "colorscale": {
           "diverging": [
            [
             0,
             "#8e0152"
            ],
            [
             0.1,
             "#c51b7d"
            ],
            [
             0.2,
             "#de77ae"
            ],
            [
             0.3,
             "#f1b6da"
            ],
            [
             0.4,
             "#fde0ef"
            ],
            [
             0.5,
             "#f7f7f7"
            ],
            [
             0.6,
             "#e6f5d0"
            ],
            [
             0.7,
             "#b8e186"
            ],
            [
             0.8,
             "#7fbc41"
            ],
            [
             0.9,
             "#4d9221"
            ],
            [
             1,
             "#276419"
            ]
           ],
           "sequential": [
            [
             0,
             "#0d0887"
            ],
            [
             0.1111111111111111,
             "#46039f"
            ],
            [
             0.2222222222222222,
             "#7201a8"
            ],
            [
             0.3333333333333333,
             "#9c179e"
            ],
            [
             0.4444444444444444,
             "#bd3786"
            ],
            [
             0.5555555555555556,
             "#d8576b"
            ],
            [
             0.6666666666666666,
             "#ed7953"
            ],
            [
             0.7777777777777778,
             "#fb9f3a"
            ],
            [
             0.8888888888888888,
             "#fdca26"
            ],
            [
             1,
             "#f0f921"
            ]
           ],
           "sequentialminus": [
            [
             0,
             "#0d0887"
            ],
            [
             0.1111111111111111,
             "#46039f"
            ],
            [
             0.2222222222222222,
             "#7201a8"
            ],
            [
             0.3333333333333333,
             "#9c179e"
            ],
            [
             0.4444444444444444,
             "#bd3786"
            ],
            [
             0.5555555555555556,
             "#d8576b"
            ],
            [
             0.6666666666666666,
             "#ed7953"
            ],
            [
             0.7777777777777778,
             "#fb9f3a"
            ],
            [
             0.8888888888888888,
             "#fdca26"
            ],
            [
             1,
             "#f0f921"
            ]
           ]
          },
          "colorway": [
           "#636efa",
           "#EF553B",
           "#00cc96",
           "#ab63fa",
           "#FFA15A",
           "#19d3f3",
           "#FF6692",
           "#B6E880",
           "#FF97FF",
           "#FECB52"
          ],
          "font": {
           "color": "#2a3f5f"
          },
          "geo": {
           "bgcolor": "white",
           "lakecolor": "white",
           "landcolor": "#E5ECF6",
           "showlakes": true,
           "showland": true,
           "subunitcolor": "white"
          },
          "hoverlabel": {
           "align": "left"
          },
          "hovermode": "closest",
          "mapbox": {
           "style": "light"
          },
          "paper_bgcolor": "white",
          "plot_bgcolor": "#E5ECF6",
          "polar": {
           "angularaxis": {
            "gridcolor": "white",
            "linecolor": "white",
            "ticks": ""
           },
           "bgcolor": "#E5ECF6",
           "radialaxis": {
            "gridcolor": "white",
            "linecolor": "white",
            "ticks": ""
           }
          },
          "scene": {
           "xaxis": {
            "backgroundcolor": "#E5ECF6",
            "gridcolor": "white",
            "gridwidth": 2,
            "linecolor": "white",
            "showbackground": true,
            "ticks": "",
            "zerolinecolor": "white"
           },
           "yaxis": {
            "backgroundcolor": "#E5ECF6",
            "gridcolor": "white",
            "gridwidth": 2,
            "linecolor": "white",
            "showbackground": true,
            "ticks": "",
            "zerolinecolor": "white"
           },
           "zaxis": {
            "backgroundcolor": "#E5ECF6",
            "gridcolor": "white",
            "gridwidth": 2,
            "linecolor": "white",
            "showbackground": true,
            "ticks": "",
            "zerolinecolor": "white"
           }
          },
          "shapedefaults": {
           "line": {
            "color": "#2a3f5f"
           }
          },
          "ternary": {
           "aaxis": {
            "gridcolor": "white",
            "linecolor": "white",
            "ticks": ""
           },
           "baxis": {
            "gridcolor": "white",
            "linecolor": "white",
            "ticks": ""
           },
           "bgcolor": "#E5ECF6",
           "caxis": {
            "gridcolor": "white",
            "linecolor": "white",
            "ticks": ""
           }
          },
          "title": {
           "x": 0.05
          },
          "xaxis": {
           "automargin": true,
           "gridcolor": "white",
           "linecolor": "white",
           "ticks": "",
           "title": {
            "standoff": 15
           },
           "zerolinecolor": "white",
           "zerolinewidth": 2
          },
          "yaxis": {
           "automargin": true,
           "gridcolor": "white",
           "linecolor": "white",
           "ticks": "",
           "title": {
            "standoff": 15
           },
           "zerolinecolor": "white",
           "zerolinewidth": 2
          }
         }
        },
        "updatemenus": [
         {
          "buttons": [
           {
            "args": [
             null,
             {
              "frame": {
               "duration": 500,
               "redraw": true
              },
              "fromcurrent": true,
              "mode": "immediate",
              "transition": {
               "duration": 500,
               "easing": "linear"
              }
             }
            ],
            "label": "&#9654;",
            "method": "animate"
           },
           {
            "args": [
             [
              null
             ],
             {
              "frame": {
               "duration": 0,
               "redraw": true
              },
              "fromcurrent": true,
              "mode": "immediate",
              "transition": {
               "duration": 0,
               "easing": "linear"
              }
             }
            ],
            "label": "&#9724;",
            "method": "animate"
           }
          ],
          "direction": "left",
          "pad": {
           "r": 10,
           "t": 70
          },
          "showactive": false,
          "type": "buttons",
          "x": 0.1,
          "xanchor": "right",
          "y": 0,
          "yanchor": "top"
         }
        ],
        "xaxis": {
         "anchor": "y",
         "domain": [
          0,
          1
         ],
         "range": [
          0,
          100000
         ],
         "title": {
          "text": "Reisduur_3"
         }
        },
        "yaxis": {
         "anchor": "x",
         "categoryarray": [
          "Rijbewijs, personenauto op eigen naam",
          "Rijbewijs, personenauto in hh",
          "Rijbewijs, geen personenauto in hh",
          "Participatie:student/scholier",
          "Participatie: werkzaam: 12 tot 30 uur pw",
          "Participatie: werkzaam 30 uur pw of meer",
          "Participatie: werkloos",
          "Participatie: gepensioneerd/VUT",
          "Participatie: anders/overig",
          "Participatie:  arbeidsongeschikt",
          "Onderwijsniveau: 3 Hoog",
          "Onderwijsniveau: 2 Middelbaar",
          "Onderwijsniveau: 1 Laag",
          "OV-Studentenkaart: weekendabonnement",
          "OV-Studentenkaart: weekabonnement",
          "OV-Studentenkaart: geen",
          "Migratieachtergrond: westers",
          "Migratieachtergrond: niet-westers",
          "Migratieachtergrond: Nederland",
          "Leeftijd:6 tot 12 jaar",
          "Leeftijd: 75 jaar of ouder",
          "Leeftijd: 65 tot 75 jaar",
          "Leeftijd: 50 tot 65 jaar",
          "Leeftijd: 35 tot 50 jaar",
          "Leeftijd: 25 tot 35 jaar",
          "Leeftijd: 18 tot 25 jaar",
          "Leeftijd: 12 tot 18 jaar",
          "Gestandaardiseerd inkomen: 5e 20%-groep",
          "Gestandaardiseerd inkomen: 4e 20%-groep",
          "Gestandaardiseerd inkomen: 3e 20%-groep",
          "Gestandaardiseerd inkomen: 2e 20%-groep",
          "Gestandaardiseerd inkomen: 1e 20%-groep",
          "Geen rijbewijs; wel 17 jaar of ouder",
          "Geen rijbewijs; jonger dan 17 jaar"
         ],
         "categoryorder": "array",
         "domain": [
          0,
          1
         ],
         "title": {
          "text": "Persoonskenmerken"
         }
        }
       }
      },
      "text/html": [
       "<div>                            <div id=\"0c6bfb36-072a-42aa-8b00-e1ff1b68673e\" class=\"plotly-graph-div\" style=\"height:1000px; width:100%;\"></div>            <script type=\"text/javascript\">                require([\"plotly\"], function(Plotly) {                    window.PLOTLYENV=window.PLOTLYENV || {};                                    if (document.getElementById(\"0c6bfb36-072a-42aa-8b00-e1ff1b68673e\")) {                    Plotly.newPlot(                        \"0c6bfb36-072a-42aa-8b00-e1ff1b68673e\",                        [{\"alignmentgroup\":\"True\",\"hovertemplate\":\"Persoonskenmerken=%{y}<br>Perioden=2018<br>Reisduur_3=%{x}<extra></extra>\",\"legendgroup\":\"Geen rijbewijs; jonger dan 17 jaar\",\"marker\":{\"color\":\"#636efa\",\"pattern\":{\"shape\":\"\"}},\"name\":\"Geen rijbewijs; jonger dan 17 jaar\",\"offsetgroup\":\"Geen rijbewijs; jonger dan 17 jaar\",\"orientation\":\"h\",\"showlegend\":true,\"textposition\":\"outside\",\"texttemplate\":\"%{x:.2s}\",\"x\":[45471.25],\"xaxis\":\"x\",\"y\":[\"Geen rijbewijs; jonger dan 17 jaar\"],\"yaxis\":\"y\",\"type\":\"bar\"},{\"alignmentgroup\":\"True\",\"hovertemplate\":\"Persoonskenmerken=%{y}<br>Perioden=2018<br>Reisduur_3=%{x}<extra></extra>\",\"legendgroup\":\"Geen rijbewijs; wel 17 jaar of ouder\",\"marker\":{\"color\":\"#EF553B\",\"pattern\":{\"shape\":\"\"}},\"name\":\"Geen rijbewijs; wel 17 jaar of ouder\",\"offsetgroup\":\"Geen rijbewijs; wel 17 jaar of ouder\",\"orientation\":\"h\",\"showlegend\":true,\"textposition\":\"outside\",\"texttemplate\":\"%{x:.2s}\",\"x\":[39817.94],\"xaxis\":\"x\",\"y\":[\"Geen rijbewijs; wel 17 jaar of ouder\"],\"yaxis\":\"y\",\"type\":\"bar\"},{\"alignmentgroup\":\"True\",\"hovertemplate\":\"Persoonskenmerken=%{y}<br>Perioden=2018<br>Reisduur_3=%{x}<extra></extra>\",\"legendgroup\":\"Gestandaardiseerd inkomen: 1e 20%-groep\",\"marker\":{\"color\":\"#00cc96\",\"pattern\":{\"shape\":\"\"}},\"name\":\"Gestandaardiseerd inkomen: 1e 20%-groep\",\"offsetgroup\":\"Gestandaardiseerd inkomen: 1e 20%-groep\",\"orientation\":\"h\",\"showlegend\":true,\"textposition\":\"outside\",\"texttemplate\":\"%{x:.2s}\",\"x\":[44740.33],\"xaxis\":\"x\",\"y\":[\"Gestandaardiseerd inkomen: 1e 20%-groep\"],\"yaxis\":\"y\",\"type\":\"bar\"},{\"alignmentgroup\":\"True\",\"hovertemplate\":\"Persoonskenmerken=%{y}<br>Perioden=2018<br>Reisduur_3=%{x}<extra></extra>\",\"legendgroup\":\"Gestandaardiseerd inkomen: 2e 20%-groep\",\"marker\":{\"color\":\"#ab63fa\",\"pattern\":{\"shape\":\"\"}},\"name\":\"Gestandaardiseerd inkomen: 2e 20%-groep\",\"offsetgroup\":\"Gestandaardiseerd inkomen: 2e 20%-groep\",\"orientation\":\"h\",\"showlegend\":true,\"textposition\":\"outside\",\"texttemplate\":\"%{x:.2s}\",\"x\":[45668.36],\"xaxis\":\"x\",\"y\":[\"Gestandaardiseerd inkomen: 2e 20%-groep\"],\"yaxis\":\"y\",\"type\":\"bar\"},{\"alignmentgroup\":\"True\",\"hovertemplate\":\"Persoonskenmerken=%{y}<br>Perioden=2018<br>Reisduur_3=%{x}<extra></extra>\",\"legendgroup\":\"Gestandaardiseerd inkomen: 3e 20%-groep\",\"marker\":{\"color\":\"#FFA15A\",\"pattern\":{\"shape\":\"\"}},\"name\":\"Gestandaardiseerd inkomen: 3e 20%-groep\",\"offsetgroup\":\"Gestandaardiseerd inkomen: 3e 20%-groep\",\"orientation\":\"h\",\"showlegend\":true,\"textposition\":\"outside\",\"texttemplate\":\"%{x:.2s}\",\"x\":[55292.64],\"xaxis\":\"x\",\"y\":[\"Gestandaardiseerd inkomen: 3e 20%-groep\"],\"yaxis\":\"y\",\"type\":\"bar\"},{\"alignmentgroup\":\"True\",\"hovertemplate\":\"Persoonskenmerken=%{y}<br>Perioden=2018<br>Reisduur_3=%{x}<extra></extra>\",\"legendgroup\":\"Gestandaardiseerd inkomen: 4e 20%-groep\",\"marker\":{\"color\":\"#19d3f3\",\"pattern\":{\"shape\":\"\"}},\"name\":\"Gestandaardiseerd inkomen: 4e 20%-groep\",\"offsetgroup\":\"Gestandaardiseerd inkomen: 4e 20%-groep\",\"orientation\":\"h\",\"showlegend\":true,\"textposition\":\"outside\",\"texttemplate\":\"%{x:.2s}\",\"x\":[56974.72],\"xaxis\":\"x\",\"y\":[\"Gestandaardiseerd inkomen: 4e 20%-groep\"],\"yaxis\":\"y\",\"type\":\"bar\"},{\"alignmentgroup\":\"True\",\"hovertemplate\":\"Persoonskenmerken=%{y}<br>Perioden=2018<br>Reisduur_3=%{x}<extra></extra>\",\"legendgroup\":\"Gestandaardiseerd inkomen: 5e 20%-groep\",\"marker\":{\"color\":\"#FF6692\",\"pattern\":{\"shape\":\"\"}},\"name\":\"Gestandaardiseerd inkomen: 5e 20%-groep\",\"offsetgroup\":\"Gestandaardiseerd inkomen: 5e 20%-groep\",\"orientation\":\"h\",\"showlegend\":true,\"textposition\":\"outside\",\"texttemplate\":\"%{x:.2s}\",\"x\":[60086.72],\"xaxis\":\"x\",\"y\":[\"Gestandaardiseerd inkomen: 5e 20%-groep\"],\"yaxis\":\"y\",\"type\":\"bar\"},{\"alignmentgroup\":\"True\",\"hovertemplate\":\"Persoonskenmerken=%{y}<br>Perioden=2018<br>Reisduur_3=%{x}<extra></extra>\",\"legendgroup\":\"Leeftijd: 12 tot 18 jaar\",\"marker\":{\"color\":\"#B6E880\",\"pattern\":{\"shape\":\"\"}},\"name\":\"Leeftijd: 12 tot 18 jaar\",\"offsetgroup\":\"Leeftijd: 12 tot 18 jaar\",\"orientation\":\"h\",\"showlegend\":true,\"textposition\":\"outside\",\"texttemplate\":\"%{x:.2s}\",\"x\":[47746.74],\"xaxis\":\"x\",\"y\":[\"Leeftijd: 12 tot 18 jaar\"],\"yaxis\":\"y\",\"type\":\"bar\"},{\"alignmentgroup\":\"True\",\"hovertemplate\":\"Persoonskenmerken=%{y}<br>Perioden=2018<br>Reisduur_3=%{x}<extra></extra>\",\"legendgroup\":\"Leeftijd: 18 tot 25 jaar\",\"marker\":{\"color\":\"#FF97FF\",\"pattern\":{\"shape\":\"\"}},\"name\":\"Leeftijd: 18 tot 25 jaar\",\"offsetgroup\":\"Leeftijd: 18 tot 25 jaar\",\"orientation\":\"h\",\"showlegend\":true,\"textposition\":\"outside\",\"texttemplate\":\"%{x:.2s}\",\"x\":[52142.32],\"xaxis\":\"x\",\"y\":[\"Leeftijd: 18 tot 25 jaar\"],\"yaxis\":\"y\",\"type\":\"bar\"},{\"alignmentgroup\":\"True\",\"hovertemplate\":\"Persoonskenmerken=%{y}<br>Perioden=2018<br>Reisduur_3=%{x}<extra></extra>\",\"legendgroup\":\"Leeftijd: 25 tot 35 jaar\",\"marker\":{\"color\":\"#FECB52\",\"pattern\":{\"shape\":\"\"}},\"name\":\"Leeftijd: 25 tot 35 jaar\",\"offsetgroup\":\"Leeftijd: 25 tot 35 jaar\",\"orientation\":\"h\",\"showlegend\":true,\"textposition\":\"outside\",\"texttemplate\":\"%{x:.2s}\",\"x\":[56826.7],\"xaxis\":\"x\",\"y\":[\"Leeftijd: 25 tot 35 jaar\"],\"yaxis\":\"y\",\"type\":\"bar\"},{\"alignmentgroup\":\"True\",\"hovertemplate\":\"Persoonskenmerken=%{y}<br>Perioden=2018<br>Reisduur_3=%{x}<extra></extra>\",\"legendgroup\":\"Leeftijd: 35 tot 50 jaar\",\"marker\":{\"color\":\"#636efa\",\"pattern\":{\"shape\":\"\"}},\"name\":\"Leeftijd: 35 tot 50 jaar\",\"offsetgroup\":\"Leeftijd: 35 tot 50 jaar\",\"orientation\":\"h\",\"showlegend\":true,\"textposition\":\"outside\",\"texttemplate\":\"%{x:.2s}\",\"x\":[57302.72],\"xaxis\":\"x\",\"y\":[\"Leeftijd: 35 tot 50 jaar\"],\"yaxis\":\"y\",\"type\":\"bar\"},{\"alignmentgroup\":\"True\",\"hovertemplate\":\"Persoonskenmerken=%{y}<br>Perioden=2018<br>Reisduur_3=%{x}<extra></extra>\",\"legendgroup\":\"Leeftijd: 50 tot 65 jaar\",\"marker\":{\"color\":\"#EF553B\",\"pattern\":{\"shape\":\"\"}},\"name\":\"Leeftijd: 50 tot 65 jaar\",\"offsetgroup\":\"Leeftijd: 50 tot 65 jaar\",\"orientation\":\"h\",\"showlegend\":true,\"textposition\":\"outside\",\"texttemplate\":\"%{x:.2s}\",\"x\":[56778.36],\"xaxis\":\"x\",\"y\":[\"Leeftijd: 50 tot 65 jaar\"],\"yaxis\":\"y\",\"type\":\"bar\"},{\"alignmentgroup\":\"True\",\"hovertemplate\":\"Persoonskenmerken=%{y}<br>Perioden=2018<br>Reisduur_3=%{x}<extra></extra>\",\"legendgroup\":\"Leeftijd: 65 tot 75 jaar\",\"marker\":{\"color\":\"#00cc96\",\"pattern\":{\"shape\":\"\"}},\"name\":\"Leeftijd: 65 tot 75 jaar\",\"offsetgroup\":\"Leeftijd: 65 tot 75 jaar\",\"orientation\":\"h\",\"showlegend\":true,\"textposition\":\"outside\",\"texttemplate\":\"%{x:.2s}\",\"x\":[48317.16],\"xaxis\":\"x\",\"y\":[\"Leeftijd: 65 tot 75 jaar\"],\"yaxis\":\"y\",\"type\":\"bar\"},{\"alignmentgroup\":\"True\",\"hovertemplate\":\"Persoonskenmerken=%{y}<br>Perioden=2018<br>Reisduur_3=%{x}<extra></extra>\",\"legendgroup\":\"Leeftijd: 75 jaar of ouder\",\"marker\":{\"color\":\"#ab63fa\",\"pattern\":{\"shape\":\"\"}},\"name\":\"Leeftijd: 75 jaar of ouder\",\"offsetgroup\":\"Leeftijd: 75 jaar of ouder\",\"orientation\":\"h\",\"showlegend\":true,\"textposition\":\"outside\",\"texttemplate\":\"%{x:.2s}\",\"x\":[27749.94],\"xaxis\":\"x\",\"y\":[\"Leeftijd: 75 jaar of ouder\"],\"yaxis\":\"y\",\"type\":\"bar\"},{\"alignmentgroup\":\"True\",\"hovertemplate\":\"Persoonskenmerken=%{y}<br>Perioden=2018<br>Reisduur_3=%{x}<extra></extra>\",\"legendgroup\":\"Leeftijd:6 tot 12 jaar\",\"marker\":{\"color\":\"#FFA15A\",\"pattern\":{\"shape\":\"\"}},\"name\":\"Leeftijd:6 tot 12 jaar\",\"offsetgroup\":\"Leeftijd:6 tot 12 jaar\",\"orientation\":\"h\",\"showlegend\":true,\"textposition\":\"outside\",\"texttemplate\":\"%{x:.2s}\",\"x\":[20602.66],\"xaxis\":\"x\",\"y\":[\"Leeftijd:6 tot 12 jaar\"],\"yaxis\":\"y\",\"type\":\"bar\"},{\"alignmentgroup\":\"True\",\"hovertemplate\":\"Persoonskenmerken=%{y}<br>Perioden=2018<br>Reisduur_3=%{x}<extra></extra>\",\"legendgroup\":\"Migratieachtergrond: Nederland\",\"marker\":{\"color\":\"#19d3f3\",\"pattern\":{\"shape\":\"\"}},\"name\":\"Migratieachtergrond: Nederland\",\"offsetgroup\":\"Migratieachtergrond: Nederland\",\"orientation\":\"h\",\"showlegend\":true,\"textposition\":\"outside\",\"texttemplate\":\"%{x:.2s}\",\"x\":[59922.5],\"xaxis\":\"x\",\"y\":[\"Migratieachtergrond: Nederland\"],\"yaxis\":\"y\",\"type\":\"bar\"},{\"alignmentgroup\":\"True\",\"hovertemplate\":\"Persoonskenmerken=%{y}<br>Perioden=2018<br>Reisduur_3=%{x}<extra></extra>\",\"legendgroup\":\"Migratieachtergrond: niet-westers\",\"marker\":{\"color\":\"#FF6692\",\"pattern\":{\"shape\":\"\"}},\"name\":\"Migratieachtergrond: niet-westers\",\"offsetgroup\":\"Migratieachtergrond: niet-westers\",\"orientation\":\"h\",\"showlegend\":true,\"textposition\":\"outside\",\"texttemplate\":\"%{x:.2s}\",\"x\":[33443.8],\"xaxis\":\"x\",\"y\":[\"Migratieachtergrond: niet-westers\"],\"yaxis\":\"y\",\"type\":\"bar\"},{\"alignmentgroup\":\"True\",\"hovertemplate\":\"Persoonskenmerken=%{y}<br>Perioden=2018<br>Reisduur_3=%{x}<extra></extra>\",\"legendgroup\":\"Migratieachtergrond: westers\",\"marker\":{\"color\":\"#B6E880\",\"pattern\":{\"shape\":\"\"}},\"name\":\"Migratieachtergrond: westers\",\"offsetgroup\":\"Migratieachtergrond: westers\",\"orientation\":\"h\",\"showlegend\":true,\"textposition\":\"outside\",\"texttemplate\":\"%{x:.2s}\",\"x\":[42032.44],\"xaxis\":\"x\",\"y\":[\"Migratieachtergrond: westers\"],\"yaxis\":\"y\",\"type\":\"bar\"},{\"alignmentgroup\":\"True\",\"hovertemplate\":\"Persoonskenmerken=%{y}<br>Perioden=2018<br>Reisduur_3=%{x}<extra></extra>\",\"legendgroup\":\"OV-Studentenkaart: geen\",\"marker\":{\"color\":\"#FF97FF\",\"pattern\":{\"shape\":\"\"}},\"name\":\"OV-Studentenkaart: geen\",\"offsetgroup\":\"OV-Studentenkaart: geen\",\"orientation\":\"h\",\"showlegend\":true,\"textposition\":\"outside\",\"texttemplate\":\"%{x:.2s}\",\"x\":[57731.62],\"xaxis\":\"x\",\"y\":[\"OV-Studentenkaart: geen\"],\"yaxis\":\"y\",\"type\":\"bar\"},{\"alignmentgroup\":\"True\",\"hovertemplate\":\"Persoonskenmerken=%{y}<br>Perioden=2018<br>Reisduur_3=%{x}<extra></extra>\",\"legendgroup\":\"OV-Studentenkaart: weekabonnement\",\"marker\":{\"color\":\"#FECB52\",\"pattern\":{\"shape\":\"\"}},\"name\":\"OV-Studentenkaart: weekabonnement\",\"offsetgroup\":\"OV-Studentenkaart: weekabonnement\",\"orientation\":\"h\",\"showlegend\":true,\"textposition\":\"outside\",\"texttemplate\":\"%{x:.2s}\",\"x\":[53211.64],\"xaxis\":\"x\",\"y\":[\"OV-Studentenkaart: weekabonnement\"],\"yaxis\":\"y\",\"type\":\"bar\"},{\"alignmentgroup\":\"True\",\"hovertemplate\":\"Persoonskenmerken=%{y}<br>Perioden=2018<br>Reisduur_3=%{x}<extra></extra>\",\"legendgroup\":\"OV-Studentenkaart: weekendabonnement\",\"marker\":{\"color\":\"#636efa\",\"pattern\":{\"shape\":\"\"}},\"name\":\"OV-Studentenkaart: weekendabonnement\",\"offsetgroup\":\"OV-Studentenkaart: weekendabonnement\",\"orientation\":\"h\",\"showlegend\":true,\"textposition\":\"outside\",\"texttemplate\":\"%{x:.2s}\",\"x\":[7879.24],\"xaxis\":\"x\",\"y\":[\"OV-Studentenkaart: weekendabonnement\"],\"yaxis\":\"y\",\"type\":\"bar\"},{\"alignmentgroup\":\"True\",\"hovertemplate\":\"Persoonskenmerken=%{y}<br>Perioden=2018<br>Reisduur_3=%{x}<extra></extra>\",\"legendgroup\":\"Onderwijsniveau: 1 Laag\",\"marker\":{\"color\":\"#EF553B\",\"pattern\":{\"shape\":\"\"}},\"name\":\"Onderwijsniveau: 1 Laag\",\"offsetgroup\":\"Onderwijsniveau: 1 Laag\",\"orientation\":\"h\",\"showlegend\":true,\"textposition\":\"outside\",\"texttemplate\":\"%{x:.2s}\",\"x\":[44280.0],\"xaxis\":\"x\",\"y\":[\"Onderwijsniveau: 1 Laag\"],\"yaxis\":\"y\",\"type\":\"bar\"},{\"alignmentgroup\":\"True\",\"hovertemplate\":\"Persoonskenmerken=%{y}<br>Perioden=2018<br>Reisduur_3=%{x}<extra></extra>\",\"legendgroup\":\"Onderwijsniveau: 2 Middelbaar\",\"marker\":{\"color\":\"#00cc96\",\"pattern\":{\"shape\":\"\"}},\"name\":\"Onderwijsniveau: 2 Middelbaar\",\"offsetgroup\":\"Onderwijsniveau: 2 Middelbaar\",\"orientation\":\"h\",\"showlegend\":true,\"textposition\":\"outside\",\"texttemplate\":\"%{x:.2s}\",\"x\":[58227.48],\"xaxis\":\"x\",\"y\":[\"Onderwijsniveau: 2 Middelbaar\"],\"yaxis\":\"y\",\"type\":\"bar\"},{\"alignmentgroup\":\"True\",\"hovertemplate\":\"Persoonskenmerken=%{y}<br>Perioden=2018<br>Reisduur_3=%{x}<extra></extra>\",\"legendgroup\":\"Onderwijsniveau: 3 Hoog\",\"marker\":{\"color\":\"#ab63fa\",\"pattern\":{\"shape\":\"\"}},\"name\":\"Onderwijsniveau: 3 Hoog\",\"offsetgroup\":\"Onderwijsniveau: 3 Hoog\",\"orientation\":\"h\",\"showlegend\":true,\"textposition\":\"outside\",\"texttemplate\":\"%{x:.2s}\",\"x\":[65274.16],\"xaxis\":\"x\",\"y\":[\"Onderwijsniveau: 3 Hoog\"],\"yaxis\":\"y\",\"type\":\"bar\"},{\"alignmentgroup\":\"True\",\"hovertemplate\":\"Persoonskenmerken=%{y}<br>Perioden=2018<br>Reisduur_3=%{x}<extra></extra>\",\"legendgroup\":\"Participatie:  arbeidsongeschikt\",\"marker\":{\"color\":\"#FFA15A\",\"pattern\":{\"shape\":\"\"}},\"name\":\"Participatie:  arbeidsongeschikt\",\"offsetgroup\":\"Participatie:  arbeidsongeschikt\",\"orientation\":\"h\",\"showlegend\":true,\"textposition\":\"outside\",\"texttemplate\":\"%{x:.2s}\",\"x\":[21187.36],\"xaxis\":\"x\",\"y\":[\"Participatie:  arbeidsongeschikt\"],\"yaxis\":\"y\",\"type\":\"bar\"},{\"alignmentgroup\":\"True\",\"hovertemplate\":\"Persoonskenmerken=%{y}<br>Perioden=2018<br>Reisduur_3=%{x}<extra></extra>\",\"legendgroup\":\"Participatie: anders/overig\",\"marker\":{\"color\":\"#19d3f3\",\"pattern\":{\"shape\":\"\"}},\"name\":\"Participatie: anders/overig\",\"offsetgroup\":\"Participatie: anders/overig\",\"orientation\":\"h\",\"showlegend\":true,\"textposition\":\"outside\",\"texttemplate\":\"%{x:.2s}\",\"x\":[36093.22],\"xaxis\":\"x\",\"y\":[\"Participatie: anders/overig\"],\"yaxis\":\"y\",\"type\":\"bar\"},{\"alignmentgroup\":\"True\",\"hovertemplate\":\"Persoonskenmerken=%{y}<br>Perioden=2018<br>Reisduur_3=%{x}<extra></extra>\",\"legendgroup\":\"Participatie: gepensioneerd/VUT\",\"marker\":{\"color\":\"#FF6692\",\"pattern\":{\"shape\":\"\"}},\"name\":\"Participatie: gepensioneerd/VUT\",\"offsetgroup\":\"Participatie: gepensioneerd/VUT\",\"orientation\":\"h\",\"showlegend\":true,\"textposition\":\"outside\",\"texttemplate\":\"%{x:.2s}\",\"x\":[45823.48],\"xaxis\":\"x\",\"y\":[\"Participatie: gepensioneerd/VUT\"],\"yaxis\":\"y\",\"type\":\"bar\"},{\"alignmentgroup\":\"True\",\"hovertemplate\":\"Persoonskenmerken=%{y}<br>Perioden=2018<br>Reisduur_3=%{x}<extra></extra>\",\"legendgroup\":\"Participatie: werkloos\",\"marker\":{\"color\":\"#B6E880\",\"pattern\":{\"shape\":\"\"}},\"name\":\"Participatie: werkloos\",\"offsetgroup\":\"Participatie: werkloos\",\"orientation\":\"h\",\"showlegend\":true,\"textposition\":\"outside\",\"texttemplate\":\"%{x:.2s}\",\"x\":[17860.4],\"xaxis\":\"x\",\"y\":[\"Participatie: werkloos\"],\"yaxis\":\"y\",\"type\":\"bar\"},{\"alignmentgroup\":\"True\",\"hovertemplate\":\"Persoonskenmerken=%{y}<br>Perioden=2018<br>Reisduur_3=%{x}<extra></extra>\",\"legendgroup\":\"Participatie: werkzaam 30 uur pw of meer\",\"marker\":{\"color\":\"#FF97FF\",\"pattern\":{\"shape\":\"\"}},\"name\":\"Participatie: werkzaam 30 uur pw of meer\",\"offsetgroup\":\"Participatie: werkzaam 30 uur pw of meer\",\"orientation\":\"h\",\"showlegend\":true,\"textposition\":\"outside\",\"texttemplate\":\"%{x:.2s}\",\"x\":[63498.12],\"xaxis\":\"x\",\"y\":[\"Participatie: werkzaam 30 uur pw of meer\"],\"yaxis\":\"y\",\"type\":\"bar\"},{\"alignmentgroup\":\"True\",\"hovertemplate\":\"Persoonskenmerken=%{y}<br>Perioden=2018<br>Reisduur_3=%{x}<extra></extra>\",\"legendgroup\":\"Participatie: werkzaam: 12 tot 30 uur pw\",\"marker\":{\"color\":\"#FECB52\",\"pattern\":{\"shape\":\"\"}},\"name\":\"Participatie: werkzaam: 12 tot 30 uur pw\",\"offsetgroup\":\"Participatie: werkzaam: 12 tot 30 uur pw\",\"orientation\":\"h\",\"showlegend\":true,\"textposition\":\"outside\",\"texttemplate\":\"%{x:.2s}\",\"x\":[49450.2],\"xaxis\":\"x\",\"y\":[\"Participatie: werkzaam: 12 tot 30 uur pw\"],\"yaxis\":\"y\",\"type\":\"bar\"},{\"alignmentgroup\":\"True\",\"hovertemplate\":\"Persoonskenmerken=%{y}<br>Perioden=2018<br>Reisduur_3=%{x}<extra></extra>\",\"legendgroup\":\"Participatie:student/scholier\",\"marker\":{\"color\":\"#636efa\",\"pattern\":{\"shape\":\"\"}},\"name\":\"Participatie:student/scholier\",\"offsetgroup\":\"Participatie:student/scholier\",\"orientation\":\"h\",\"showlegend\":true,\"textposition\":\"outside\",\"texttemplate\":\"%{x:.2s}\",\"x\":[53504.15],\"xaxis\":\"x\",\"y\":[\"Participatie:student/scholier\"],\"yaxis\":\"y\",\"type\":\"bar\"},{\"alignmentgroup\":\"True\",\"hovertemplate\":\"Persoonskenmerken=%{y}<br>Perioden=2018<br>Reisduur_3=%{x}<extra></extra>\",\"legendgroup\":\"Rijbewijs, geen personenauto in hh\",\"marker\":{\"color\":\"#EF553B\",\"pattern\":{\"shape\":\"\"}},\"name\":\"Rijbewijs, geen personenauto in hh\",\"offsetgroup\":\"Rijbewijs, geen personenauto in hh\",\"orientation\":\"h\",\"showlegend\":true,\"textposition\":\"outside\",\"texttemplate\":\"%{x:.2s}\",\"x\":[40659.56],\"xaxis\":\"x\",\"y\":[\"Rijbewijs, geen personenauto in hh\"],\"yaxis\":\"y\",\"type\":\"bar\"},{\"alignmentgroup\":\"True\",\"hovertemplate\":\"Persoonskenmerken=%{y}<br>Perioden=2018<br>Reisduur_3=%{x}<extra></extra>\",\"legendgroup\":\"Rijbewijs, personenauto in hh\",\"marker\":{\"color\":\"#00cc96\",\"pattern\":{\"shape\":\"\"}},\"name\":\"Rijbewijs, personenauto in hh\",\"offsetgroup\":\"Rijbewijs, personenauto in hh\",\"orientation\":\"h\",\"showlegend\":true,\"textposition\":\"outside\",\"texttemplate\":\"%{x:.2s}\",\"x\":[58619.7],\"xaxis\":\"x\",\"y\":[\"Rijbewijs, personenauto in hh\"],\"yaxis\":\"y\",\"type\":\"bar\"},{\"alignmentgroup\":\"True\",\"hovertemplate\":\"Persoonskenmerken=%{y}<br>Perioden=2018<br>Reisduur_3=%{x}<extra></extra>\",\"legendgroup\":\"Rijbewijs, personenauto op eigen naam\",\"marker\":{\"color\":\"#ab63fa\",\"pattern\":{\"shape\":\"\"}},\"name\":\"Rijbewijs, personenauto op eigen naam\",\"offsetgroup\":\"Rijbewijs, personenauto op eigen naam\",\"orientation\":\"h\",\"showlegend\":true,\"textposition\":\"outside\",\"texttemplate\":\"%{x:.2s}\",\"x\":[60192.28],\"xaxis\":\"x\",\"y\":[\"Rijbewijs, personenauto op eigen naam\"],\"yaxis\":\"y\",\"type\":\"bar\"}],                        {\"template\":{\"data\":{\"histogram2dcontour\":[{\"type\":\"histogram2dcontour\",\"colorbar\":{\"outlinewidth\":0,\"ticks\":\"\"},\"colorscale\":[[0.0,\"#0d0887\"],[0.1111111111111111,\"#46039f\"],[0.2222222222222222,\"#7201a8\"],[0.3333333333333333,\"#9c179e\"],[0.4444444444444444,\"#bd3786\"],[0.5555555555555556,\"#d8576b\"],[0.6666666666666666,\"#ed7953\"],[0.7777777777777778,\"#fb9f3a\"],[0.8888888888888888,\"#fdca26\"],[1.0,\"#f0f921\"]]}],\"choropleth\":[{\"type\":\"choropleth\",\"colorbar\":{\"outlinewidth\":0,\"ticks\":\"\"}}],\"histogram2d\":[{\"type\":\"histogram2d\",\"colorbar\":{\"outlinewidth\":0,\"ticks\":\"\"},\"colorscale\":[[0.0,\"#0d0887\"],[0.1111111111111111,\"#46039f\"],[0.2222222222222222,\"#7201a8\"],[0.3333333333333333,\"#9c179e\"],[0.4444444444444444,\"#bd3786\"],[0.5555555555555556,\"#d8576b\"],[0.6666666666666666,\"#ed7953\"],[0.7777777777777778,\"#fb9f3a\"],[0.8888888888888888,\"#fdca26\"],[1.0,\"#f0f921\"]]}],\"heatmap\":[{\"type\":\"heatmap\",\"colorbar\":{\"outlinewidth\":0,\"ticks\":\"\"},\"colorscale\":[[0.0,\"#0d0887\"],[0.1111111111111111,\"#46039f\"],[0.2222222222222222,\"#7201a8\"],[0.3333333333333333,\"#9c179e\"],[0.4444444444444444,\"#bd3786\"],[0.5555555555555556,\"#d8576b\"],[0.6666666666666666,\"#ed7953\"],[0.7777777777777778,\"#fb9f3a\"],[0.8888888888888888,\"#fdca26\"],[1.0,\"#f0f921\"]]}],\"heatmapgl\":[{\"type\":\"heatmapgl\",\"colorbar\":{\"outlinewidth\":0,\"ticks\":\"\"},\"colorscale\":[[0.0,\"#0d0887\"],[0.1111111111111111,\"#46039f\"],[0.2222222222222222,\"#7201a8\"],[0.3333333333333333,\"#9c179e\"],[0.4444444444444444,\"#bd3786\"],[0.5555555555555556,\"#d8576b\"],[0.6666666666666666,\"#ed7953\"],[0.7777777777777778,\"#fb9f3a\"],[0.8888888888888888,\"#fdca26\"],[1.0,\"#f0f921\"]]}],\"contourcarpet\":[{\"type\":\"contourcarpet\",\"colorbar\":{\"outlinewidth\":0,\"ticks\":\"\"}}],\"contour\":[{\"type\":\"contour\",\"colorbar\":{\"outlinewidth\":0,\"ticks\":\"\"},\"colorscale\":[[0.0,\"#0d0887\"],[0.1111111111111111,\"#46039f\"],[0.2222222222222222,\"#7201a8\"],[0.3333333333333333,\"#9c179e\"],[0.4444444444444444,\"#bd3786\"],[0.5555555555555556,\"#d8576b\"],[0.6666666666666666,\"#ed7953\"],[0.7777777777777778,\"#fb9f3a\"],[0.8888888888888888,\"#fdca26\"],[1.0,\"#f0f921\"]]}],\"surface\":[{\"type\":\"surface\",\"colorbar\":{\"outlinewidth\":0,\"ticks\":\"\"},\"colorscale\":[[0.0,\"#0d0887\"],[0.1111111111111111,\"#46039f\"],[0.2222222222222222,\"#7201a8\"],[0.3333333333333333,\"#9c179e\"],[0.4444444444444444,\"#bd3786\"],[0.5555555555555556,\"#d8576b\"],[0.6666666666666666,\"#ed7953\"],[0.7777777777777778,\"#fb9f3a\"],[0.8888888888888888,\"#fdca26\"],[1.0,\"#f0f921\"]]}],\"mesh3d\":[{\"type\":\"mesh3d\",\"colorbar\":{\"outlinewidth\":0,\"ticks\":\"\"}}],\"scatter\":[{\"fillpattern\":{\"fillmode\":\"overlay\",\"size\":10,\"solidity\":0.2},\"type\":\"scatter\"}],\"parcoords\":[{\"type\":\"parcoords\",\"line\":{\"colorbar\":{\"outlinewidth\":0,\"ticks\":\"\"}}}],\"scatterpolargl\":[{\"type\":\"scatterpolargl\",\"marker\":{\"colorbar\":{\"outlinewidth\":0,\"ticks\":\"\"}}}],\"bar\":[{\"error_x\":{\"color\":\"#2a3f5f\"},\"error_y\":{\"color\":\"#2a3f5f\"},\"marker\":{\"line\":{\"color\":\"#E5ECF6\",\"width\":0.5},\"pattern\":{\"fillmode\":\"overlay\",\"size\":10,\"solidity\":0.2}},\"type\":\"bar\"}],\"scattergeo\":[{\"type\":\"scattergeo\",\"marker\":{\"colorbar\":{\"outlinewidth\":0,\"ticks\":\"\"}}}],\"scatterpolar\":[{\"type\":\"scatterpolar\",\"marker\":{\"colorbar\":{\"outlinewidth\":0,\"ticks\":\"\"}}}],\"histogram\":[{\"marker\":{\"pattern\":{\"fillmode\":\"overlay\",\"size\":10,\"solidity\":0.2}},\"type\":\"histogram\"}],\"scattergl\":[{\"type\":\"scattergl\",\"marker\":{\"colorbar\":{\"outlinewidth\":0,\"ticks\":\"\"}}}],\"scatter3d\":[{\"type\":\"scatter3d\",\"line\":{\"colorbar\":{\"outlinewidth\":0,\"ticks\":\"\"}},\"marker\":{\"colorbar\":{\"outlinewidth\":0,\"ticks\":\"\"}}}],\"scattermapbox\":[{\"type\":\"scattermapbox\",\"marker\":{\"colorbar\":{\"outlinewidth\":0,\"ticks\":\"\"}}}],\"scatterternary\":[{\"type\":\"scatterternary\",\"marker\":{\"colorbar\":{\"outlinewidth\":0,\"ticks\":\"\"}}}],\"scattercarpet\":[{\"type\":\"scattercarpet\",\"marker\":{\"colorbar\":{\"outlinewidth\":0,\"ticks\":\"\"}}}],\"carpet\":[{\"aaxis\":{\"endlinecolor\":\"#2a3f5f\",\"gridcolor\":\"white\",\"linecolor\":\"white\",\"minorgridcolor\":\"white\",\"startlinecolor\":\"#2a3f5f\"},\"baxis\":{\"endlinecolor\":\"#2a3f5f\",\"gridcolor\":\"white\",\"linecolor\":\"white\",\"minorgridcolor\":\"white\",\"startlinecolor\":\"#2a3f5f\"},\"type\":\"carpet\"}],\"table\":[{\"cells\":{\"fill\":{\"color\":\"#EBF0F8\"},\"line\":{\"color\":\"white\"}},\"header\":{\"fill\":{\"color\":\"#C8D4E3\"},\"line\":{\"color\":\"white\"}},\"type\":\"table\"}],\"barpolar\":[{\"marker\":{\"line\":{\"color\":\"#E5ECF6\",\"width\":0.5},\"pattern\":{\"fillmode\":\"overlay\",\"size\":10,\"solidity\":0.2}},\"type\":\"barpolar\"}],\"pie\":[{\"automargin\":true,\"type\":\"pie\"}]},\"layout\":{\"autotypenumbers\":\"strict\",\"colorway\":[\"#636efa\",\"#EF553B\",\"#00cc96\",\"#ab63fa\",\"#FFA15A\",\"#19d3f3\",\"#FF6692\",\"#B6E880\",\"#FF97FF\",\"#FECB52\"],\"font\":{\"color\":\"#2a3f5f\"},\"hovermode\":\"closest\",\"hoverlabel\":{\"align\":\"left\"},\"paper_bgcolor\":\"white\",\"plot_bgcolor\":\"#E5ECF6\",\"polar\":{\"bgcolor\":\"#E5ECF6\",\"angularaxis\":{\"gridcolor\":\"white\",\"linecolor\":\"white\",\"ticks\":\"\"},\"radialaxis\":{\"gridcolor\":\"white\",\"linecolor\":\"white\",\"ticks\":\"\"}},\"ternary\":{\"bgcolor\":\"#E5ECF6\",\"aaxis\":{\"gridcolor\":\"white\",\"linecolor\":\"white\",\"ticks\":\"\"},\"baxis\":{\"gridcolor\":\"white\",\"linecolor\":\"white\",\"ticks\":\"\"},\"caxis\":{\"gridcolor\":\"white\",\"linecolor\":\"white\",\"ticks\":\"\"}},\"coloraxis\":{\"colorbar\":{\"outlinewidth\":0,\"ticks\":\"\"}},\"colorscale\":{\"sequential\":[[0.0,\"#0d0887\"],[0.1111111111111111,\"#46039f\"],[0.2222222222222222,\"#7201a8\"],[0.3333333333333333,\"#9c179e\"],[0.4444444444444444,\"#bd3786\"],[0.5555555555555556,\"#d8576b\"],[0.6666666666666666,\"#ed7953\"],[0.7777777777777778,\"#fb9f3a\"],[0.8888888888888888,\"#fdca26\"],[1.0,\"#f0f921\"]],\"sequentialminus\":[[0.0,\"#0d0887\"],[0.1111111111111111,\"#46039f\"],[0.2222222222222222,\"#7201a8\"],[0.3333333333333333,\"#9c179e\"],[0.4444444444444444,\"#bd3786\"],[0.5555555555555556,\"#d8576b\"],[0.6666666666666666,\"#ed7953\"],[0.7777777777777778,\"#fb9f3a\"],[0.8888888888888888,\"#fdca26\"],[1.0,\"#f0f921\"]],\"diverging\":[[0,\"#8e0152\"],[0.1,\"#c51b7d\"],[0.2,\"#de77ae\"],[0.3,\"#f1b6da\"],[0.4,\"#fde0ef\"],[0.5,\"#f7f7f7\"],[0.6,\"#e6f5d0\"],[0.7,\"#b8e186\"],[0.8,\"#7fbc41\"],[0.9,\"#4d9221\"],[1,\"#276419\"]]},\"xaxis\":{\"gridcolor\":\"white\",\"linecolor\":\"white\",\"ticks\":\"\",\"title\":{\"standoff\":15},\"zerolinecolor\":\"white\",\"automargin\":true,\"zerolinewidth\":2},\"yaxis\":{\"gridcolor\":\"white\",\"linecolor\":\"white\",\"ticks\":\"\",\"title\":{\"standoff\":15},\"zerolinecolor\":\"white\",\"automargin\":true,\"zerolinewidth\":2},\"scene\":{\"xaxis\":{\"backgroundcolor\":\"#E5ECF6\",\"gridcolor\":\"white\",\"linecolor\":\"white\",\"showbackground\":true,\"ticks\":\"\",\"zerolinecolor\":\"white\",\"gridwidth\":2},\"yaxis\":{\"backgroundcolor\":\"#E5ECF6\",\"gridcolor\":\"white\",\"linecolor\":\"white\",\"showbackground\":true,\"ticks\":\"\",\"zerolinecolor\":\"white\",\"gridwidth\":2},\"zaxis\":{\"backgroundcolor\":\"#E5ECF6\",\"gridcolor\":\"white\",\"linecolor\":\"white\",\"showbackground\":true,\"ticks\":\"\",\"zerolinecolor\":\"white\",\"gridwidth\":2}},\"shapedefaults\":{\"line\":{\"color\":\"#2a3f5f\"}},\"annotationdefaults\":{\"arrowcolor\":\"#2a3f5f\",\"arrowhead\":0,\"arrowwidth\":1},\"geo\":{\"bgcolor\":\"white\",\"landcolor\":\"#E5ECF6\",\"subunitcolor\":\"white\",\"showland\":true,\"showlakes\":true,\"lakecolor\":\"white\"},\"title\":{\"x\":0.05},\"mapbox\":{\"style\":\"light\"}}},\"xaxis\":{\"anchor\":\"y\",\"domain\":[0.0,1.0],\"title\":{\"text\":\"Reisduur_3\"},\"range\":[0,100000]},\"yaxis\":{\"anchor\":\"x\",\"domain\":[0.0,1.0],\"title\":{\"text\":\"Persoonskenmerken\"},\"categoryorder\":\"array\",\"categoryarray\":[\"Rijbewijs, personenauto op eigen naam\",\"Rijbewijs, personenauto in hh\",\"Rijbewijs, geen personenauto in hh\",\"Participatie:student/scholier\",\"Participatie: werkzaam: 12 tot 30 uur pw\",\"Participatie: werkzaam 30 uur pw of meer\",\"Participatie: werkloos\",\"Participatie: gepensioneerd/VUT\",\"Participatie: anders/overig\",\"Participatie:  arbeidsongeschikt\",\"Onderwijsniveau: 3 Hoog\",\"Onderwijsniveau: 2 Middelbaar\",\"Onderwijsniveau: 1 Laag\",\"OV-Studentenkaart: weekendabonnement\",\"OV-Studentenkaart: weekabonnement\",\"OV-Studentenkaart: geen\",\"Migratieachtergrond: westers\",\"Migratieachtergrond: niet-westers\",\"Migratieachtergrond: Nederland\",\"Leeftijd:6 tot 12 jaar\",\"Leeftijd: 75 jaar of ouder\",\"Leeftijd: 65 tot 75 jaar\",\"Leeftijd: 50 tot 65 jaar\",\"Leeftijd: 35 tot 50 jaar\",\"Leeftijd: 25 tot 35 jaar\",\"Leeftijd: 18 tot 25 jaar\",\"Leeftijd: 12 tot 18 jaar\",\"Gestandaardiseerd inkomen: 5e 20%-groep\",\"Gestandaardiseerd inkomen: 4e 20%-groep\",\"Gestandaardiseerd inkomen: 3e 20%-groep\",\"Gestandaardiseerd inkomen: 2e 20%-groep\",\"Gestandaardiseerd inkomen: 1e 20%-groep\",\"Geen rijbewijs; wel 17 jaar of ouder\",\"Geen rijbewijs; jonger dan 17 jaar\"]},\"legend\":{\"title\":{\"text\":\"Persoonskenmerken\"},\"tracegroupgap\":0},\"margin\":{\"t\":60},\"barmode\":\"relative\",\"height\":1000,\"updatemenus\":[{\"buttons\":[{\"args\":[null,{\"frame\":{\"duration\":500,\"redraw\":true},\"mode\":\"immediate\",\"fromcurrent\":true,\"transition\":{\"duration\":500,\"easing\":\"linear\"}}],\"label\":\"&#9654;\",\"method\":\"animate\"},{\"args\":[[null],{\"frame\":{\"duration\":0,\"redraw\":true},\"mode\":\"immediate\",\"fromcurrent\":true,\"transition\":{\"duration\":0,\"easing\":\"linear\"}}],\"label\":\"&#9724;\",\"method\":\"animate\"}],\"direction\":\"left\",\"pad\":{\"r\":10,\"t\":70},\"showactive\":false,\"type\":\"buttons\",\"x\":0.1,\"xanchor\":\"right\",\"y\":0,\"yanchor\":\"top\"}],\"sliders\":[{\"active\":0,\"currentvalue\":{\"prefix\":\"Perioden=\"},\"len\":0.9,\"pad\":{\"b\":10,\"t\":60},\"steps\":[{\"args\":[[\"2018\"],{\"frame\":{\"duration\":0,\"redraw\":true},\"mode\":\"immediate\",\"fromcurrent\":true,\"transition\":{\"duration\":0,\"easing\":\"linear\"}}],\"label\":\"2018\",\"method\":\"animate\"},{\"args\":[[\"2019\"],{\"frame\":{\"duration\":0,\"redraw\":true},\"mode\":\"immediate\",\"fromcurrent\":true,\"transition\":{\"duration\":0,\"easing\":\"linear\"}}],\"label\":\"2019\",\"method\":\"animate\"},{\"args\":[[\"2020\"],{\"frame\":{\"duration\":0,\"redraw\":true},\"mode\":\"immediate\",\"fromcurrent\":true,\"transition\":{\"duration\":0,\"easing\":\"linear\"}}],\"label\":\"2020\",\"method\":\"animate\"},{\"args\":[[\"2021\"],{\"frame\":{\"duration\":0,\"redraw\":true},\"mode\":\"immediate\",\"fromcurrent\":true,\"transition\":{\"duration\":0,\"easing\":\"linear\"}}],\"label\":\"2021\",\"method\":\"animate\"}],\"x\":0.1,\"xanchor\":\"left\",\"y\":0,\"yanchor\":\"top\"}],\"showlegend\":false},                        {\"responsive\": true}                    ).then(function(){\n",
       "                            Plotly.addFrames('0c6bfb36-072a-42aa-8b00-e1ff1b68673e', [{\"data\":[{\"alignmentgroup\":\"True\",\"hovertemplate\":\"Persoonskenmerken=%{y}<br>Perioden=2018<br>Reisduur_3=%{x}<extra></extra>\",\"legendgroup\":\"Geen rijbewijs; jonger dan 17 jaar\",\"marker\":{\"color\":\"#636efa\",\"pattern\":{\"shape\":\"\"}},\"name\":\"Geen rijbewijs; jonger dan 17 jaar\",\"offsetgroup\":\"Geen rijbewijs; jonger dan 17 jaar\",\"orientation\":\"h\",\"showlegend\":true,\"textposition\":\"auto\",\"texttemplate\":\"%{x:.2s}\",\"x\":[45471.25],\"xaxis\":\"x\",\"y\":[\"Geen rijbewijs; jonger dan 17 jaar\"],\"yaxis\":\"y\",\"type\":\"bar\"},{\"alignmentgroup\":\"True\",\"hovertemplate\":\"Persoonskenmerken=%{y}<br>Perioden=2018<br>Reisduur_3=%{x}<extra></extra>\",\"legendgroup\":\"Geen rijbewijs; wel 17 jaar of ouder\",\"marker\":{\"color\":\"#EF553B\",\"pattern\":{\"shape\":\"\"}},\"name\":\"Geen rijbewijs; wel 17 jaar of ouder\",\"offsetgroup\":\"Geen rijbewijs; wel 17 jaar of ouder\",\"orientation\":\"h\",\"showlegend\":true,\"textposition\":\"auto\",\"texttemplate\":\"%{x:.2s}\",\"x\":[39817.94],\"xaxis\":\"x\",\"y\":[\"Geen rijbewijs; wel 17 jaar of ouder\"],\"yaxis\":\"y\",\"type\":\"bar\"},{\"alignmentgroup\":\"True\",\"hovertemplate\":\"Persoonskenmerken=%{y}<br>Perioden=2018<br>Reisduur_3=%{x}<extra></extra>\",\"legendgroup\":\"Gestandaardiseerd inkomen: 1e 20%-groep\",\"marker\":{\"color\":\"#00cc96\",\"pattern\":{\"shape\":\"\"}},\"name\":\"Gestandaardiseerd inkomen: 1e 20%-groep\",\"offsetgroup\":\"Gestandaardiseerd inkomen: 1e 20%-groep\",\"orientation\":\"h\",\"showlegend\":true,\"textposition\":\"auto\",\"texttemplate\":\"%{x:.2s}\",\"x\":[44740.33],\"xaxis\":\"x\",\"y\":[\"Gestandaardiseerd inkomen: 1e 20%-groep\"],\"yaxis\":\"y\",\"type\":\"bar\"},{\"alignmentgroup\":\"True\",\"hovertemplate\":\"Persoonskenmerken=%{y}<br>Perioden=2018<br>Reisduur_3=%{x}<extra></extra>\",\"legendgroup\":\"Gestandaardiseerd inkomen: 2e 20%-groep\",\"marker\":{\"color\":\"#ab63fa\",\"pattern\":{\"shape\":\"\"}},\"name\":\"Gestandaardiseerd inkomen: 2e 20%-groep\",\"offsetgroup\":\"Gestandaardiseerd inkomen: 2e 20%-groep\",\"orientation\":\"h\",\"showlegend\":true,\"textposition\":\"auto\",\"texttemplate\":\"%{x:.2s}\",\"x\":[45668.36],\"xaxis\":\"x\",\"y\":[\"Gestandaardiseerd inkomen: 2e 20%-groep\"],\"yaxis\":\"y\",\"type\":\"bar\"},{\"alignmentgroup\":\"True\",\"hovertemplate\":\"Persoonskenmerken=%{y}<br>Perioden=2018<br>Reisduur_3=%{x}<extra></extra>\",\"legendgroup\":\"Gestandaardiseerd inkomen: 3e 20%-groep\",\"marker\":{\"color\":\"#FFA15A\",\"pattern\":{\"shape\":\"\"}},\"name\":\"Gestandaardiseerd inkomen: 3e 20%-groep\",\"offsetgroup\":\"Gestandaardiseerd inkomen: 3e 20%-groep\",\"orientation\":\"h\",\"showlegend\":true,\"textposition\":\"auto\",\"texttemplate\":\"%{x:.2s}\",\"x\":[55292.64],\"xaxis\":\"x\",\"y\":[\"Gestandaardiseerd inkomen: 3e 20%-groep\"],\"yaxis\":\"y\",\"type\":\"bar\"},{\"alignmentgroup\":\"True\",\"hovertemplate\":\"Persoonskenmerken=%{y}<br>Perioden=2018<br>Reisduur_3=%{x}<extra></extra>\",\"legendgroup\":\"Gestandaardiseerd inkomen: 4e 20%-groep\",\"marker\":{\"color\":\"#19d3f3\",\"pattern\":{\"shape\":\"\"}},\"name\":\"Gestandaardiseerd inkomen: 4e 20%-groep\",\"offsetgroup\":\"Gestandaardiseerd inkomen: 4e 20%-groep\",\"orientation\":\"h\",\"showlegend\":true,\"textposition\":\"auto\",\"texttemplate\":\"%{x:.2s}\",\"x\":[56974.72],\"xaxis\":\"x\",\"y\":[\"Gestandaardiseerd inkomen: 4e 20%-groep\"],\"yaxis\":\"y\",\"type\":\"bar\"},{\"alignmentgroup\":\"True\",\"hovertemplate\":\"Persoonskenmerken=%{y}<br>Perioden=2018<br>Reisduur_3=%{x}<extra></extra>\",\"legendgroup\":\"Gestandaardiseerd inkomen: 5e 20%-groep\",\"marker\":{\"color\":\"#FF6692\",\"pattern\":{\"shape\":\"\"}},\"name\":\"Gestandaardiseerd inkomen: 5e 20%-groep\",\"offsetgroup\":\"Gestandaardiseerd inkomen: 5e 20%-groep\",\"orientation\":\"h\",\"showlegend\":true,\"textposition\":\"auto\",\"texttemplate\":\"%{x:.2s}\",\"x\":[60086.72],\"xaxis\":\"x\",\"y\":[\"Gestandaardiseerd inkomen: 5e 20%-groep\"],\"yaxis\":\"y\",\"type\":\"bar\"},{\"alignmentgroup\":\"True\",\"hovertemplate\":\"Persoonskenmerken=%{y}<br>Perioden=2018<br>Reisduur_3=%{x}<extra></extra>\",\"legendgroup\":\"Leeftijd: 12 tot 18 jaar\",\"marker\":{\"color\":\"#B6E880\",\"pattern\":{\"shape\":\"\"}},\"name\":\"Leeftijd: 12 tot 18 jaar\",\"offsetgroup\":\"Leeftijd: 12 tot 18 jaar\",\"orientation\":\"h\",\"showlegend\":true,\"textposition\":\"auto\",\"texttemplate\":\"%{x:.2s}\",\"x\":[47746.74],\"xaxis\":\"x\",\"y\":[\"Leeftijd: 12 tot 18 jaar\"],\"yaxis\":\"y\",\"type\":\"bar\"},{\"alignmentgroup\":\"True\",\"hovertemplate\":\"Persoonskenmerken=%{y}<br>Perioden=2018<br>Reisduur_3=%{x}<extra></extra>\",\"legendgroup\":\"Leeftijd: 18 tot 25 jaar\",\"marker\":{\"color\":\"#FF97FF\",\"pattern\":{\"shape\":\"\"}},\"name\":\"Leeftijd: 18 tot 25 jaar\",\"offsetgroup\":\"Leeftijd: 18 tot 25 jaar\",\"orientation\":\"h\",\"showlegend\":true,\"textposition\":\"auto\",\"texttemplate\":\"%{x:.2s}\",\"x\":[52142.32],\"xaxis\":\"x\",\"y\":[\"Leeftijd: 18 tot 25 jaar\"],\"yaxis\":\"y\",\"type\":\"bar\"},{\"alignmentgroup\":\"True\",\"hovertemplate\":\"Persoonskenmerken=%{y}<br>Perioden=2018<br>Reisduur_3=%{x}<extra></extra>\",\"legendgroup\":\"Leeftijd: 25 tot 35 jaar\",\"marker\":{\"color\":\"#FECB52\",\"pattern\":{\"shape\":\"\"}},\"name\":\"Leeftijd: 25 tot 35 jaar\",\"offsetgroup\":\"Leeftijd: 25 tot 35 jaar\",\"orientation\":\"h\",\"showlegend\":true,\"textposition\":\"auto\",\"texttemplate\":\"%{x:.2s}\",\"x\":[56826.7],\"xaxis\":\"x\",\"y\":[\"Leeftijd: 25 tot 35 jaar\"],\"yaxis\":\"y\",\"type\":\"bar\"},{\"alignmentgroup\":\"True\",\"hovertemplate\":\"Persoonskenmerken=%{y}<br>Perioden=2018<br>Reisduur_3=%{x}<extra></extra>\",\"legendgroup\":\"Leeftijd: 35 tot 50 jaar\",\"marker\":{\"color\":\"#636efa\",\"pattern\":{\"shape\":\"\"}},\"name\":\"Leeftijd: 35 tot 50 jaar\",\"offsetgroup\":\"Leeftijd: 35 tot 50 jaar\",\"orientation\":\"h\",\"showlegend\":true,\"textposition\":\"auto\",\"texttemplate\":\"%{x:.2s}\",\"x\":[57302.72],\"xaxis\":\"x\",\"y\":[\"Leeftijd: 35 tot 50 jaar\"],\"yaxis\":\"y\",\"type\":\"bar\"},{\"alignmentgroup\":\"True\",\"hovertemplate\":\"Persoonskenmerken=%{y}<br>Perioden=2018<br>Reisduur_3=%{x}<extra></extra>\",\"legendgroup\":\"Leeftijd: 50 tot 65 jaar\",\"marker\":{\"color\":\"#EF553B\",\"pattern\":{\"shape\":\"\"}},\"name\":\"Leeftijd: 50 tot 65 jaar\",\"offsetgroup\":\"Leeftijd: 50 tot 65 jaar\",\"orientation\":\"h\",\"showlegend\":true,\"textposition\":\"auto\",\"texttemplate\":\"%{x:.2s}\",\"x\":[56778.36],\"xaxis\":\"x\",\"y\":[\"Leeftijd: 50 tot 65 jaar\"],\"yaxis\":\"y\",\"type\":\"bar\"},{\"alignmentgroup\":\"True\",\"hovertemplate\":\"Persoonskenmerken=%{y}<br>Perioden=2018<br>Reisduur_3=%{x}<extra></extra>\",\"legendgroup\":\"Leeftijd: 65 tot 75 jaar\",\"marker\":{\"color\":\"#00cc96\",\"pattern\":{\"shape\":\"\"}},\"name\":\"Leeftijd: 65 tot 75 jaar\",\"offsetgroup\":\"Leeftijd: 65 tot 75 jaar\",\"orientation\":\"h\",\"showlegend\":true,\"textposition\":\"auto\",\"texttemplate\":\"%{x:.2s}\",\"x\":[48317.16],\"xaxis\":\"x\",\"y\":[\"Leeftijd: 65 tot 75 jaar\"],\"yaxis\":\"y\",\"type\":\"bar\"},{\"alignmentgroup\":\"True\",\"hovertemplate\":\"Persoonskenmerken=%{y}<br>Perioden=2018<br>Reisduur_3=%{x}<extra></extra>\",\"legendgroup\":\"Leeftijd: 75 jaar of ouder\",\"marker\":{\"color\":\"#ab63fa\",\"pattern\":{\"shape\":\"\"}},\"name\":\"Leeftijd: 75 jaar of ouder\",\"offsetgroup\":\"Leeftijd: 75 jaar of ouder\",\"orientation\":\"h\",\"showlegend\":true,\"textposition\":\"auto\",\"texttemplate\":\"%{x:.2s}\",\"x\":[27749.94],\"xaxis\":\"x\",\"y\":[\"Leeftijd: 75 jaar of ouder\"],\"yaxis\":\"y\",\"type\":\"bar\"},{\"alignmentgroup\":\"True\",\"hovertemplate\":\"Persoonskenmerken=%{y}<br>Perioden=2018<br>Reisduur_3=%{x}<extra></extra>\",\"legendgroup\":\"Leeftijd:6 tot 12 jaar\",\"marker\":{\"color\":\"#FFA15A\",\"pattern\":{\"shape\":\"\"}},\"name\":\"Leeftijd:6 tot 12 jaar\",\"offsetgroup\":\"Leeftijd:6 tot 12 jaar\",\"orientation\":\"h\",\"showlegend\":true,\"textposition\":\"auto\",\"texttemplate\":\"%{x:.2s}\",\"x\":[20602.66],\"xaxis\":\"x\",\"y\":[\"Leeftijd:6 tot 12 jaar\"],\"yaxis\":\"y\",\"type\":\"bar\"},{\"alignmentgroup\":\"True\",\"hovertemplate\":\"Persoonskenmerken=%{y}<br>Perioden=2018<br>Reisduur_3=%{x}<extra></extra>\",\"legendgroup\":\"Migratieachtergrond: Nederland\",\"marker\":{\"color\":\"#19d3f3\",\"pattern\":{\"shape\":\"\"}},\"name\":\"Migratieachtergrond: Nederland\",\"offsetgroup\":\"Migratieachtergrond: Nederland\",\"orientation\":\"h\",\"showlegend\":true,\"textposition\":\"auto\",\"texttemplate\":\"%{x:.2s}\",\"x\":[59922.5],\"xaxis\":\"x\",\"y\":[\"Migratieachtergrond: Nederland\"],\"yaxis\":\"y\",\"type\":\"bar\"},{\"alignmentgroup\":\"True\",\"hovertemplate\":\"Persoonskenmerken=%{y}<br>Perioden=2018<br>Reisduur_3=%{x}<extra></extra>\",\"legendgroup\":\"Migratieachtergrond: niet-westers\",\"marker\":{\"color\":\"#FF6692\",\"pattern\":{\"shape\":\"\"}},\"name\":\"Migratieachtergrond: niet-westers\",\"offsetgroup\":\"Migratieachtergrond: niet-westers\",\"orientation\":\"h\",\"showlegend\":true,\"textposition\":\"auto\",\"texttemplate\":\"%{x:.2s}\",\"x\":[33443.8],\"xaxis\":\"x\",\"y\":[\"Migratieachtergrond: niet-westers\"],\"yaxis\":\"y\",\"type\":\"bar\"},{\"alignmentgroup\":\"True\",\"hovertemplate\":\"Persoonskenmerken=%{y}<br>Perioden=2018<br>Reisduur_3=%{x}<extra></extra>\",\"legendgroup\":\"Migratieachtergrond: westers\",\"marker\":{\"color\":\"#B6E880\",\"pattern\":{\"shape\":\"\"}},\"name\":\"Migratieachtergrond: westers\",\"offsetgroup\":\"Migratieachtergrond: westers\",\"orientation\":\"h\",\"showlegend\":true,\"textposition\":\"auto\",\"texttemplate\":\"%{x:.2s}\",\"x\":[42032.44],\"xaxis\":\"x\",\"y\":[\"Migratieachtergrond: westers\"],\"yaxis\":\"y\",\"type\":\"bar\"},{\"alignmentgroup\":\"True\",\"hovertemplate\":\"Persoonskenmerken=%{y}<br>Perioden=2018<br>Reisduur_3=%{x}<extra></extra>\",\"legendgroup\":\"OV-Studentenkaart: geen\",\"marker\":{\"color\":\"#FF97FF\",\"pattern\":{\"shape\":\"\"}},\"name\":\"OV-Studentenkaart: geen\",\"offsetgroup\":\"OV-Studentenkaart: geen\",\"orientation\":\"h\",\"showlegend\":true,\"textposition\":\"auto\",\"texttemplate\":\"%{x:.2s}\",\"x\":[57731.62],\"xaxis\":\"x\",\"y\":[\"OV-Studentenkaart: geen\"],\"yaxis\":\"y\",\"type\":\"bar\"},{\"alignmentgroup\":\"True\",\"hovertemplate\":\"Persoonskenmerken=%{y}<br>Perioden=2018<br>Reisduur_3=%{x}<extra></extra>\",\"legendgroup\":\"OV-Studentenkaart: weekabonnement\",\"marker\":{\"color\":\"#FECB52\",\"pattern\":{\"shape\":\"\"}},\"name\":\"OV-Studentenkaart: weekabonnement\",\"offsetgroup\":\"OV-Studentenkaart: weekabonnement\",\"orientation\":\"h\",\"showlegend\":true,\"textposition\":\"auto\",\"texttemplate\":\"%{x:.2s}\",\"x\":[53211.64],\"xaxis\":\"x\",\"y\":[\"OV-Studentenkaart: weekabonnement\"],\"yaxis\":\"y\",\"type\":\"bar\"},{\"alignmentgroup\":\"True\",\"hovertemplate\":\"Persoonskenmerken=%{y}<br>Perioden=2018<br>Reisduur_3=%{x}<extra></extra>\",\"legendgroup\":\"OV-Studentenkaart: weekendabonnement\",\"marker\":{\"color\":\"#636efa\",\"pattern\":{\"shape\":\"\"}},\"name\":\"OV-Studentenkaart: weekendabonnement\",\"offsetgroup\":\"OV-Studentenkaart: weekendabonnement\",\"orientation\":\"h\",\"showlegend\":true,\"textposition\":\"auto\",\"texttemplate\":\"%{x:.2s}\",\"x\":[7879.24],\"xaxis\":\"x\",\"y\":[\"OV-Studentenkaart: weekendabonnement\"],\"yaxis\":\"y\",\"type\":\"bar\"},{\"alignmentgroup\":\"True\",\"hovertemplate\":\"Persoonskenmerken=%{y}<br>Perioden=2018<br>Reisduur_3=%{x}<extra></extra>\",\"legendgroup\":\"Onderwijsniveau: 1 Laag\",\"marker\":{\"color\":\"#EF553B\",\"pattern\":{\"shape\":\"\"}},\"name\":\"Onderwijsniveau: 1 Laag\",\"offsetgroup\":\"Onderwijsniveau: 1 Laag\",\"orientation\":\"h\",\"showlegend\":true,\"textposition\":\"auto\",\"texttemplate\":\"%{x:.2s}\",\"x\":[44280.0],\"xaxis\":\"x\",\"y\":[\"Onderwijsniveau: 1 Laag\"],\"yaxis\":\"y\",\"type\":\"bar\"},{\"alignmentgroup\":\"True\",\"hovertemplate\":\"Persoonskenmerken=%{y}<br>Perioden=2018<br>Reisduur_3=%{x}<extra></extra>\",\"legendgroup\":\"Onderwijsniveau: 2 Middelbaar\",\"marker\":{\"color\":\"#00cc96\",\"pattern\":{\"shape\":\"\"}},\"name\":\"Onderwijsniveau: 2 Middelbaar\",\"offsetgroup\":\"Onderwijsniveau: 2 Middelbaar\",\"orientation\":\"h\",\"showlegend\":true,\"textposition\":\"auto\",\"texttemplate\":\"%{x:.2s}\",\"x\":[58227.48],\"xaxis\":\"x\",\"y\":[\"Onderwijsniveau: 2 Middelbaar\"],\"yaxis\":\"y\",\"type\":\"bar\"},{\"alignmentgroup\":\"True\",\"hovertemplate\":\"Persoonskenmerken=%{y}<br>Perioden=2018<br>Reisduur_3=%{x}<extra></extra>\",\"legendgroup\":\"Onderwijsniveau: 3 Hoog\",\"marker\":{\"color\":\"#ab63fa\",\"pattern\":{\"shape\":\"\"}},\"name\":\"Onderwijsniveau: 3 Hoog\",\"offsetgroup\":\"Onderwijsniveau: 3 Hoog\",\"orientation\":\"h\",\"showlegend\":true,\"textposition\":\"auto\",\"texttemplate\":\"%{x:.2s}\",\"x\":[65274.16],\"xaxis\":\"x\",\"y\":[\"Onderwijsniveau: 3 Hoog\"],\"yaxis\":\"y\",\"type\":\"bar\"},{\"alignmentgroup\":\"True\",\"hovertemplate\":\"Persoonskenmerken=%{y}<br>Perioden=2018<br>Reisduur_3=%{x}<extra></extra>\",\"legendgroup\":\"Participatie:  arbeidsongeschikt\",\"marker\":{\"color\":\"#FFA15A\",\"pattern\":{\"shape\":\"\"}},\"name\":\"Participatie:  arbeidsongeschikt\",\"offsetgroup\":\"Participatie:  arbeidsongeschikt\",\"orientation\":\"h\",\"showlegend\":true,\"textposition\":\"auto\",\"texttemplate\":\"%{x:.2s}\",\"x\":[21187.36],\"xaxis\":\"x\",\"y\":[\"Participatie:  arbeidsongeschikt\"],\"yaxis\":\"y\",\"type\":\"bar\"},{\"alignmentgroup\":\"True\",\"hovertemplate\":\"Persoonskenmerken=%{y}<br>Perioden=2018<br>Reisduur_3=%{x}<extra></extra>\",\"legendgroup\":\"Participatie: anders/overig\",\"marker\":{\"color\":\"#19d3f3\",\"pattern\":{\"shape\":\"\"}},\"name\":\"Participatie: anders/overig\",\"offsetgroup\":\"Participatie: anders/overig\",\"orientation\":\"h\",\"showlegend\":true,\"textposition\":\"auto\",\"texttemplate\":\"%{x:.2s}\",\"x\":[36093.22],\"xaxis\":\"x\",\"y\":[\"Participatie: anders/overig\"],\"yaxis\":\"y\",\"type\":\"bar\"},{\"alignmentgroup\":\"True\",\"hovertemplate\":\"Persoonskenmerken=%{y}<br>Perioden=2018<br>Reisduur_3=%{x}<extra></extra>\",\"legendgroup\":\"Participatie: gepensioneerd/VUT\",\"marker\":{\"color\":\"#FF6692\",\"pattern\":{\"shape\":\"\"}},\"name\":\"Participatie: gepensioneerd/VUT\",\"offsetgroup\":\"Participatie: gepensioneerd/VUT\",\"orientation\":\"h\",\"showlegend\":true,\"textposition\":\"auto\",\"texttemplate\":\"%{x:.2s}\",\"x\":[45823.48],\"xaxis\":\"x\",\"y\":[\"Participatie: gepensioneerd/VUT\"],\"yaxis\":\"y\",\"type\":\"bar\"},{\"alignmentgroup\":\"True\",\"hovertemplate\":\"Persoonskenmerken=%{y}<br>Perioden=2018<br>Reisduur_3=%{x}<extra></extra>\",\"legendgroup\":\"Participatie: werkloos\",\"marker\":{\"color\":\"#B6E880\",\"pattern\":{\"shape\":\"\"}},\"name\":\"Participatie: werkloos\",\"offsetgroup\":\"Participatie: werkloos\",\"orientation\":\"h\",\"showlegend\":true,\"textposition\":\"auto\",\"texttemplate\":\"%{x:.2s}\",\"x\":[17860.4],\"xaxis\":\"x\",\"y\":[\"Participatie: werkloos\"],\"yaxis\":\"y\",\"type\":\"bar\"},{\"alignmentgroup\":\"True\",\"hovertemplate\":\"Persoonskenmerken=%{y}<br>Perioden=2018<br>Reisduur_3=%{x}<extra></extra>\",\"legendgroup\":\"Participatie: werkzaam 30 uur pw of meer\",\"marker\":{\"color\":\"#FF97FF\",\"pattern\":{\"shape\":\"\"}},\"name\":\"Participatie: werkzaam 30 uur pw of meer\",\"offsetgroup\":\"Participatie: werkzaam 30 uur pw of meer\",\"orientation\":\"h\",\"showlegend\":true,\"textposition\":\"auto\",\"texttemplate\":\"%{x:.2s}\",\"x\":[63498.12],\"xaxis\":\"x\",\"y\":[\"Participatie: werkzaam 30 uur pw of meer\"],\"yaxis\":\"y\",\"type\":\"bar\"},{\"alignmentgroup\":\"True\",\"hovertemplate\":\"Persoonskenmerken=%{y}<br>Perioden=2018<br>Reisduur_3=%{x}<extra></extra>\",\"legendgroup\":\"Participatie: werkzaam: 12 tot 30 uur pw\",\"marker\":{\"color\":\"#FECB52\",\"pattern\":{\"shape\":\"\"}},\"name\":\"Participatie: werkzaam: 12 tot 30 uur pw\",\"offsetgroup\":\"Participatie: werkzaam: 12 tot 30 uur pw\",\"orientation\":\"h\",\"showlegend\":true,\"textposition\":\"auto\",\"texttemplate\":\"%{x:.2s}\",\"x\":[49450.2],\"xaxis\":\"x\",\"y\":[\"Participatie: werkzaam: 12 tot 30 uur pw\"],\"yaxis\":\"y\",\"type\":\"bar\"},{\"alignmentgroup\":\"True\",\"hovertemplate\":\"Persoonskenmerken=%{y}<br>Perioden=2018<br>Reisduur_3=%{x}<extra></extra>\",\"legendgroup\":\"Participatie:student/scholier\",\"marker\":{\"color\":\"#636efa\",\"pattern\":{\"shape\":\"\"}},\"name\":\"Participatie:student/scholier\",\"offsetgroup\":\"Participatie:student/scholier\",\"orientation\":\"h\",\"showlegend\":true,\"textposition\":\"auto\",\"texttemplate\":\"%{x:.2s}\",\"x\":[53504.15],\"xaxis\":\"x\",\"y\":[\"Participatie:student/scholier\"],\"yaxis\":\"y\",\"type\":\"bar\"},{\"alignmentgroup\":\"True\",\"hovertemplate\":\"Persoonskenmerken=%{y}<br>Perioden=2018<br>Reisduur_3=%{x}<extra></extra>\",\"legendgroup\":\"Rijbewijs, geen personenauto in hh\",\"marker\":{\"color\":\"#EF553B\",\"pattern\":{\"shape\":\"\"}},\"name\":\"Rijbewijs, geen personenauto in hh\",\"offsetgroup\":\"Rijbewijs, geen personenauto in hh\",\"orientation\":\"h\",\"showlegend\":true,\"textposition\":\"auto\",\"texttemplate\":\"%{x:.2s}\",\"x\":[40659.56],\"xaxis\":\"x\",\"y\":[\"Rijbewijs, geen personenauto in hh\"],\"yaxis\":\"y\",\"type\":\"bar\"},{\"alignmentgroup\":\"True\",\"hovertemplate\":\"Persoonskenmerken=%{y}<br>Perioden=2018<br>Reisduur_3=%{x}<extra></extra>\",\"legendgroup\":\"Rijbewijs, personenauto in hh\",\"marker\":{\"color\":\"#00cc96\",\"pattern\":{\"shape\":\"\"}},\"name\":\"Rijbewijs, personenauto in hh\",\"offsetgroup\":\"Rijbewijs, personenauto in hh\",\"orientation\":\"h\",\"showlegend\":true,\"textposition\":\"auto\",\"texttemplate\":\"%{x:.2s}\",\"x\":[58619.7],\"xaxis\":\"x\",\"y\":[\"Rijbewijs, personenauto in hh\"],\"yaxis\":\"y\",\"type\":\"bar\"},{\"alignmentgroup\":\"True\",\"hovertemplate\":\"Persoonskenmerken=%{y}<br>Perioden=2018<br>Reisduur_3=%{x}<extra></extra>\",\"legendgroup\":\"Rijbewijs, personenauto op eigen naam\",\"marker\":{\"color\":\"#ab63fa\",\"pattern\":{\"shape\":\"\"}},\"name\":\"Rijbewijs, personenauto op eigen naam\",\"offsetgroup\":\"Rijbewijs, personenauto op eigen naam\",\"orientation\":\"h\",\"showlegend\":true,\"textposition\":\"auto\",\"texttemplate\":\"%{x:.2s}\",\"x\":[60192.28],\"xaxis\":\"x\",\"y\":[\"Rijbewijs, personenauto op eigen naam\"],\"yaxis\":\"y\",\"type\":\"bar\"}],\"name\":\"2018\"},{\"data\":[{\"alignmentgroup\":\"True\",\"hovertemplate\":\"Persoonskenmerken=%{y}<br>Perioden=2019<br>Reisduur_3=%{x}<extra></extra>\",\"legendgroup\":\"Geen rijbewijs; jonger dan 17 jaar\",\"marker\":{\"color\":\"#636efa\",\"pattern\":{\"shape\":\"\"}},\"name\":\"Geen rijbewijs; jonger dan 17 jaar\",\"offsetgroup\":\"Geen rijbewijs; jonger dan 17 jaar\",\"orientation\":\"h\",\"showlegend\":true,\"textposition\":\"auto\",\"texttemplate\":\"%{x:.2s}\",\"x\":[42200.87],\"xaxis\":\"x\",\"y\":[\"Geen rijbewijs; jonger dan 17 jaar\"],\"yaxis\":\"y\",\"type\":\"bar\"},{\"alignmentgroup\":\"True\",\"hovertemplate\":\"Persoonskenmerken=%{y}<br>Perioden=2019<br>Reisduur_3=%{x}<extra></extra>\",\"legendgroup\":\"Geen rijbewijs; wel 17 jaar of ouder\",\"marker\":{\"color\":\"#EF553B\",\"pattern\":{\"shape\":\"\"}},\"name\":\"Geen rijbewijs; wel 17 jaar of ouder\",\"offsetgroup\":\"Geen rijbewijs; wel 17 jaar of ouder\",\"orientation\":\"h\",\"showlegend\":true,\"textposition\":\"auto\",\"texttemplate\":\"%{x:.2s}\",\"x\":[36621.18],\"xaxis\":\"x\",\"y\":[\"Geen rijbewijs; wel 17 jaar of ouder\"],\"yaxis\":\"y\",\"type\":\"bar\"},{\"alignmentgroup\":\"True\",\"hovertemplate\":\"Persoonskenmerken=%{y}<br>Perioden=2019<br>Reisduur_3=%{x}<extra></extra>\",\"legendgroup\":\"Gestandaardiseerd inkomen: 1e 20%-groep\",\"marker\":{\"color\":\"#00cc96\",\"pattern\":{\"shape\":\"\"}},\"name\":\"Gestandaardiseerd inkomen: 1e 20%-groep\",\"offsetgroup\":\"Gestandaardiseerd inkomen: 1e 20%-groep\",\"orientation\":\"h\",\"showlegend\":true,\"textposition\":\"auto\",\"texttemplate\":\"%{x:.2s}\",\"x\":[40527.99],\"xaxis\":\"x\",\"y\":[\"Gestandaardiseerd inkomen: 1e 20%-groep\"],\"yaxis\":\"y\",\"type\":\"bar\"},{\"alignmentgroup\":\"True\",\"hovertemplate\":\"Persoonskenmerken=%{y}<br>Perioden=2019<br>Reisduur_3=%{x}<extra></extra>\",\"legendgroup\":\"Gestandaardiseerd inkomen: 2e 20%-groep\",\"marker\":{\"color\":\"#ab63fa\",\"pattern\":{\"shape\":\"\"}},\"name\":\"Gestandaardiseerd inkomen: 2e 20%-groep\",\"offsetgroup\":\"Gestandaardiseerd inkomen: 2e 20%-groep\",\"orientation\":\"h\",\"showlegend\":true,\"textposition\":\"auto\",\"texttemplate\":\"%{x:.2s}\",\"x\":[42967.36],\"xaxis\":\"x\",\"y\":[\"Gestandaardiseerd inkomen: 2e 20%-groep\"],\"yaxis\":\"y\",\"type\":\"bar\"},{\"alignmentgroup\":\"True\",\"hovertemplate\":\"Persoonskenmerken=%{y}<br>Perioden=2019<br>Reisduur_3=%{x}<extra></extra>\",\"legendgroup\":\"Gestandaardiseerd inkomen: 3e 20%-groep\",\"marker\":{\"color\":\"#FFA15A\",\"pattern\":{\"shape\":\"\"}},\"name\":\"Gestandaardiseerd inkomen: 3e 20%-groep\",\"offsetgroup\":\"Gestandaardiseerd inkomen: 3e 20%-groep\",\"orientation\":\"h\",\"showlegend\":true,\"textposition\":\"auto\",\"texttemplate\":\"%{x:.2s}\",\"x\":[52162.78],\"xaxis\":\"x\",\"y\":[\"Gestandaardiseerd inkomen: 3e 20%-groep\"],\"yaxis\":\"y\",\"type\":\"bar\"},{\"alignmentgroup\":\"True\",\"hovertemplate\":\"Persoonskenmerken=%{y}<br>Perioden=2019<br>Reisduur_3=%{x}<extra></extra>\",\"legendgroup\":\"Gestandaardiseerd inkomen: 4e 20%-groep\",\"marker\":{\"color\":\"#19d3f3\",\"pattern\":{\"shape\":\"\"}},\"name\":\"Gestandaardiseerd inkomen: 4e 20%-groep\",\"offsetgroup\":\"Gestandaardiseerd inkomen: 4e 20%-groep\",\"orientation\":\"h\",\"showlegend\":true,\"textposition\":\"auto\",\"texttemplate\":\"%{x:.2s}\",\"x\":[56125.83],\"xaxis\":\"x\",\"y\":[\"Gestandaardiseerd inkomen: 4e 20%-groep\"],\"yaxis\":\"y\",\"type\":\"bar\"},{\"alignmentgroup\":\"True\",\"hovertemplate\":\"Persoonskenmerken=%{y}<br>Perioden=2019<br>Reisduur_3=%{x}<extra></extra>\",\"legendgroup\":\"Gestandaardiseerd inkomen: 5e 20%-groep\",\"marker\":{\"color\":\"#FF6692\",\"pattern\":{\"shape\":\"\"}},\"name\":\"Gestandaardiseerd inkomen: 5e 20%-groep\",\"offsetgroup\":\"Gestandaardiseerd inkomen: 5e 20%-groep\",\"orientation\":\"h\",\"showlegend\":true,\"textposition\":\"auto\",\"texttemplate\":\"%{x:.2s}\",\"x\":[59784.26],\"xaxis\":\"x\",\"y\":[\"Gestandaardiseerd inkomen: 5e 20%-groep\"],\"yaxis\":\"y\",\"type\":\"bar\"},{\"alignmentgroup\":\"True\",\"hovertemplate\":\"Persoonskenmerken=%{y}<br>Perioden=2019<br>Reisduur_3=%{x}<extra></extra>\",\"legendgroup\":\"Leeftijd: 12 tot 18 jaar\",\"marker\":{\"color\":\"#B6E880\",\"pattern\":{\"shape\":\"\"}},\"name\":\"Leeftijd: 12 tot 18 jaar\",\"offsetgroup\":\"Leeftijd: 12 tot 18 jaar\",\"orientation\":\"h\",\"showlegend\":true,\"textposition\":\"auto\",\"texttemplate\":\"%{x:.2s}\",\"x\":[41402.0],\"xaxis\":\"x\",\"y\":[\"Leeftijd: 12 tot 18 jaar\"],\"yaxis\":\"y\",\"type\":\"bar\"},{\"alignmentgroup\":\"True\",\"hovertemplate\":\"Persoonskenmerken=%{y}<br>Perioden=2019<br>Reisduur_3=%{x}<extra></extra>\",\"legendgroup\":\"Leeftijd: 18 tot 25 jaar\",\"marker\":{\"color\":\"#FF97FF\",\"pattern\":{\"shape\":\"\"}},\"name\":\"Leeftijd: 18 tot 25 jaar\",\"offsetgroup\":\"Leeftijd: 18 tot 25 jaar\",\"orientation\":\"h\",\"showlegend\":true,\"textposition\":\"auto\",\"texttemplate\":\"%{x:.2s}\",\"x\":[47796.96],\"xaxis\":\"x\",\"y\":[\"Leeftijd: 18 tot 25 jaar\"],\"yaxis\":\"y\",\"type\":\"bar\"},{\"alignmentgroup\":\"True\",\"hovertemplate\":\"Persoonskenmerken=%{y}<br>Perioden=2019<br>Reisduur_3=%{x}<extra></extra>\",\"legendgroup\":\"Leeftijd: 25 tot 35 jaar\",\"marker\":{\"color\":\"#FECB52\",\"pattern\":{\"shape\":\"\"}},\"name\":\"Leeftijd: 25 tot 35 jaar\",\"offsetgroup\":\"Leeftijd: 25 tot 35 jaar\",\"orientation\":\"h\",\"showlegend\":true,\"textposition\":\"auto\",\"texttemplate\":\"%{x:.2s}\",\"x\":[53190.58],\"xaxis\":\"x\",\"y\":[\"Leeftijd: 25 tot 35 jaar\"],\"yaxis\":\"y\",\"type\":\"bar\"},{\"alignmentgroup\":\"True\",\"hovertemplate\":\"Persoonskenmerken=%{y}<br>Perioden=2019<br>Reisduur_3=%{x}<extra></extra>\",\"legendgroup\":\"Leeftijd: 35 tot 50 jaar\",\"marker\":{\"color\":\"#636efa\",\"pattern\":{\"shape\":\"\"}},\"name\":\"Leeftijd: 35 tot 50 jaar\",\"offsetgroup\":\"Leeftijd: 35 tot 50 jaar\",\"orientation\":\"h\",\"showlegend\":true,\"textposition\":\"auto\",\"texttemplate\":\"%{x:.2s}\",\"x\":[57598.72],\"xaxis\":\"x\",\"y\":[\"Leeftijd: 35 tot 50 jaar\"],\"yaxis\":\"y\",\"type\":\"bar\"},{\"alignmentgroup\":\"True\",\"hovertemplate\":\"Persoonskenmerken=%{y}<br>Perioden=2019<br>Reisduur_3=%{x}<extra></extra>\",\"legendgroup\":\"Leeftijd: 50 tot 65 jaar\",\"marker\":{\"color\":\"#EF553B\",\"pattern\":{\"shape\":\"\"}},\"name\":\"Leeftijd: 50 tot 65 jaar\",\"offsetgroup\":\"Leeftijd: 50 tot 65 jaar\",\"orientation\":\"h\",\"showlegend\":true,\"textposition\":\"auto\",\"texttemplate\":\"%{x:.2s}\",\"x\":[56173.6],\"xaxis\":\"x\",\"y\":[\"Leeftijd: 50 tot 65 jaar\"],\"yaxis\":\"y\",\"type\":\"bar\"},{\"alignmentgroup\":\"True\",\"hovertemplate\":\"Persoonskenmerken=%{y}<br>Perioden=2019<br>Reisduur_3=%{x}<extra></extra>\",\"legendgroup\":\"Leeftijd: 65 tot 75 jaar\",\"marker\":{\"color\":\"#00cc96\",\"pattern\":{\"shape\":\"\"}},\"name\":\"Leeftijd: 65 tot 75 jaar\",\"offsetgroup\":\"Leeftijd: 65 tot 75 jaar\",\"orientation\":\"h\",\"showlegend\":true,\"textposition\":\"auto\",\"texttemplate\":\"%{x:.2s}\",\"x\":[46807.16],\"xaxis\":\"x\",\"y\":[\"Leeftijd: 65 tot 75 jaar\"],\"yaxis\":\"y\",\"type\":\"bar\"},{\"alignmentgroup\":\"True\",\"hovertemplate\":\"Persoonskenmerken=%{y}<br>Perioden=2019<br>Reisduur_3=%{x}<extra></extra>\",\"legendgroup\":\"Leeftijd: 75 jaar of ouder\",\"marker\":{\"color\":\"#ab63fa\",\"pattern\":{\"shape\":\"\"}},\"name\":\"Leeftijd: 75 jaar of ouder\",\"offsetgroup\":\"Leeftijd: 75 jaar of ouder\",\"orientation\":\"h\",\"showlegend\":true,\"textposition\":\"auto\",\"texttemplate\":\"%{x:.2s}\",\"x\":[27468.56],\"xaxis\":\"x\",\"y\":[\"Leeftijd: 75 jaar of ouder\"],\"yaxis\":\"y\",\"type\":\"bar\"},{\"alignmentgroup\":\"True\",\"hovertemplate\":\"Persoonskenmerken=%{y}<br>Perioden=2019<br>Reisduur_3=%{x}<extra></extra>\",\"legendgroup\":\"Leeftijd:6 tot 12 jaar\",\"marker\":{\"color\":\"#FFA15A\",\"pattern\":{\"shape\":\"\"}},\"name\":\"Leeftijd:6 tot 12 jaar\",\"offsetgroup\":\"Leeftijd:6 tot 12 jaar\",\"orientation\":\"h\",\"showlegend\":true,\"textposition\":\"auto\",\"texttemplate\":\"%{x:.2s}\",\"x\":[17689.72],\"xaxis\":\"x\",\"y\":[\"Leeftijd:6 tot 12 jaar\"],\"yaxis\":\"y\",\"type\":\"bar\"},{\"alignmentgroup\":\"True\",\"hovertemplate\":\"Persoonskenmerken=%{y}<br>Perioden=2019<br>Reisduur_3=%{x}<extra></extra>\",\"legendgroup\":\"Migratieachtergrond: Nederland\",\"marker\":{\"color\":\"#19d3f3\",\"pattern\":{\"shape\":\"\"}},\"name\":\"Migratieachtergrond: Nederland\",\"offsetgroup\":\"Migratieachtergrond: Nederland\",\"orientation\":\"h\",\"showlegend\":true,\"textposition\":\"auto\",\"texttemplate\":\"%{x:.2s}\",\"x\":[59357.05],\"xaxis\":\"x\",\"y\":[\"Migratieachtergrond: Nederland\"],\"yaxis\":\"y\",\"type\":\"bar\"},{\"alignmentgroup\":\"True\",\"hovertemplate\":\"Persoonskenmerken=%{y}<br>Perioden=2019<br>Reisduur_3=%{x}<extra></extra>\",\"legendgroup\":\"Migratieachtergrond: niet-westers\",\"marker\":{\"color\":\"#FF6692\",\"pattern\":{\"shape\":\"\"}},\"name\":\"Migratieachtergrond: niet-westers\",\"offsetgroup\":\"Migratieachtergrond: niet-westers\",\"orientation\":\"h\",\"showlegend\":true,\"textposition\":\"auto\",\"texttemplate\":\"%{x:.2s}\",\"x\":[32346.22],\"xaxis\":\"x\",\"y\":[\"Migratieachtergrond: niet-westers\"],\"yaxis\":\"y\",\"type\":\"bar\"},{\"alignmentgroup\":\"True\",\"hovertemplate\":\"Persoonskenmerken=%{y}<br>Perioden=2019<br>Reisduur_3=%{x}<extra></extra>\",\"legendgroup\":\"Migratieachtergrond: westers\",\"marker\":{\"color\":\"#B6E880\",\"pattern\":{\"shape\":\"\"}},\"name\":\"Migratieachtergrond: westers\",\"offsetgroup\":\"Migratieachtergrond: westers\",\"orientation\":\"h\",\"showlegend\":true,\"textposition\":\"auto\",\"texttemplate\":\"%{x:.2s}\",\"x\":[41133.75],\"xaxis\":\"x\",\"y\":[\"Migratieachtergrond: westers\"],\"yaxis\":\"y\",\"type\":\"bar\"},{\"alignmentgroup\":\"True\",\"hovertemplate\":\"Persoonskenmerken=%{y}<br>Perioden=2019<br>Reisduur_3=%{x}<extra></extra>\",\"legendgroup\":\"OV-Studentenkaart: geen\",\"marker\":{\"color\":\"#FF97FF\",\"pattern\":{\"shape\":\"\"}},\"name\":\"OV-Studentenkaart: geen\",\"offsetgroup\":\"OV-Studentenkaart: geen\",\"orientation\":\"h\",\"showlegend\":true,\"textposition\":\"auto\",\"texttemplate\":\"%{x:.2s}\",\"x\":[57774.25],\"xaxis\":\"x\",\"y\":[\"OV-Studentenkaart: geen\"],\"yaxis\":\"y\",\"type\":\"bar\"},{\"alignmentgroup\":\"True\",\"hovertemplate\":\"Persoonskenmerken=%{y}<br>Perioden=2019<br>Reisduur_3=%{x}<extra></extra>\",\"legendgroup\":\"OV-Studentenkaart: weekabonnement\",\"marker\":{\"color\":\"#FECB52\",\"pattern\":{\"shape\":\"\"}},\"name\":\"OV-Studentenkaart: weekabonnement\",\"offsetgroup\":\"OV-Studentenkaart: weekabonnement\",\"orientation\":\"h\",\"showlegend\":true,\"textposition\":\"auto\",\"texttemplate\":\"%{x:.2s}\",\"x\":[47392.88],\"xaxis\":\"x\",\"y\":[\"OV-Studentenkaart: weekabonnement\"],\"yaxis\":\"y\",\"type\":\"bar\"},{\"alignmentgroup\":\"True\",\"hovertemplate\":\"Persoonskenmerken=%{y}<br>Perioden=2019<br>Reisduur_3=%{x}<extra></extra>\",\"legendgroup\":\"OV-Studentenkaart: weekendabonnement\",\"marker\":{\"color\":\"#636efa\",\"pattern\":{\"shape\":\"\"}},\"name\":\"OV-Studentenkaart: weekendabonnement\",\"offsetgroup\":\"OV-Studentenkaart: weekendabonnement\",\"orientation\":\"h\",\"showlegend\":true,\"textposition\":\"auto\",\"texttemplate\":\"%{x:.2s}\",\"x\":[6090.46],\"xaxis\":\"x\",\"y\":[\"OV-Studentenkaart: weekendabonnement\"],\"yaxis\":\"y\",\"type\":\"bar\"},{\"alignmentgroup\":\"True\",\"hovertemplate\":\"Persoonskenmerken=%{y}<br>Perioden=2019<br>Reisduur_3=%{x}<extra></extra>\",\"legendgroup\":\"Onderwijsniveau: 1 Laag\",\"marker\":{\"color\":\"#EF553B\",\"pattern\":{\"shape\":\"\"}},\"name\":\"Onderwijsniveau: 1 Laag\",\"offsetgroup\":\"Onderwijsniveau: 1 Laag\",\"orientation\":\"h\",\"showlegend\":true,\"textposition\":\"auto\",\"texttemplate\":\"%{x:.2s}\",\"x\":[41503.08],\"xaxis\":\"x\",\"y\":[\"Onderwijsniveau: 1 Laag\"],\"yaxis\":\"y\",\"type\":\"bar\"},{\"alignmentgroup\":\"True\",\"hovertemplate\":\"Persoonskenmerken=%{y}<br>Perioden=2019<br>Reisduur_3=%{x}<extra></extra>\",\"legendgroup\":\"Onderwijsniveau: 2 Middelbaar\",\"marker\":{\"color\":\"#00cc96\",\"pattern\":{\"shape\":\"\"}},\"name\":\"Onderwijsniveau: 2 Middelbaar\",\"offsetgroup\":\"Onderwijsniveau: 2 Middelbaar\",\"orientation\":\"h\",\"showlegend\":true,\"textposition\":\"auto\",\"texttemplate\":\"%{x:.2s}\",\"x\":[56794.66],\"xaxis\":\"x\",\"y\":[\"Onderwijsniveau: 2 Middelbaar\"],\"yaxis\":\"y\",\"type\":\"bar\"},{\"alignmentgroup\":\"True\",\"hovertemplate\":\"Persoonskenmerken=%{y}<br>Perioden=2019<br>Reisduur_3=%{x}<extra></extra>\",\"legendgroup\":\"Onderwijsniveau: 3 Hoog\",\"marker\":{\"color\":\"#ab63fa\",\"pattern\":{\"shape\":\"\"}},\"name\":\"Onderwijsniveau: 3 Hoog\",\"offsetgroup\":\"Onderwijsniveau: 3 Hoog\",\"orientation\":\"h\",\"showlegend\":true,\"textposition\":\"auto\",\"texttemplate\":\"%{x:.2s}\",\"x\":[64933.06],\"xaxis\":\"x\",\"y\":[\"Onderwijsniveau: 3 Hoog\"],\"yaxis\":\"y\",\"type\":\"bar\"},{\"alignmentgroup\":\"True\",\"hovertemplate\":\"Persoonskenmerken=%{y}<br>Perioden=2019<br>Reisduur_3=%{x}<extra></extra>\",\"legendgroup\":\"Participatie:  arbeidsongeschikt\",\"marker\":{\"color\":\"#FFA15A\",\"pattern\":{\"shape\":\"\"}},\"name\":\"Participatie:  arbeidsongeschikt\",\"offsetgroup\":\"Participatie:  arbeidsongeschikt\",\"orientation\":\"h\",\"showlegend\":true,\"textposition\":\"auto\",\"texttemplate\":\"%{x:.2s}\",\"x\":[18342.38],\"xaxis\":\"x\",\"y\":[\"Participatie:  arbeidsongeschikt\"],\"yaxis\":\"y\",\"type\":\"bar\"},{\"alignmentgroup\":\"True\",\"hovertemplate\":\"Persoonskenmerken=%{y}<br>Perioden=2019<br>Reisduur_3=%{x}<extra></extra>\",\"legendgroup\":\"Participatie: anders/overig\",\"marker\":{\"color\":\"#19d3f3\",\"pattern\":{\"shape\":\"\"}},\"name\":\"Participatie: anders/overig\",\"offsetgroup\":\"Participatie: anders/overig\",\"orientation\":\"h\",\"showlegend\":true,\"textposition\":\"auto\",\"texttemplate\":\"%{x:.2s}\",\"x\":[33097.0],\"xaxis\":\"x\",\"y\":[\"Participatie: anders/overig\"],\"yaxis\":\"y\",\"type\":\"bar\"},{\"alignmentgroup\":\"True\",\"hovertemplate\":\"Persoonskenmerken=%{y}<br>Perioden=2019<br>Reisduur_3=%{x}<extra></extra>\",\"legendgroup\":\"Participatie: gepensioneerd/VUT\",\"marker\":{\"color\":\"#FF6692\",\"pattern\":{\"shape\":\"\"}},\"name\":\"Participatie: gepensioneerd/VUT\",\"offsetgroup\":\"Participatie: gepensioneerd/VUT\",\"orientation\":\"h\",\"showlegend\":true,\"textposition\":\"auto\",\"texttemplate\":\"%{x:.2s}\",\"x\":[44301.78],\"xaxis\":\"x\",\"y\":[\"Participatie: gepensioneerd/VUT\"],\"yaxis\":\"y\",\"type\":\"bar\"},{\"alignmentgroup\":\"True\",\"hovertemplate\":\"Persoonskenmerken=%{y}<br>Perioden=2019<br>Reisduur_3=%{x}<extra></extra>\",\"legendgroup\":\"Participatie: werkloos\",\"marker\":{\"color\":\"#B6E880\",\"pattern\":{\"shape\":\"\"}},\"name\":\"Participatie: werkloos\",\"offsetgroup\":\"Participatie: werkloos\",\"orientation\":\"h\",\"showlegend\":true,\"textposition\":\"auto\",\"texttemplate\":\"%{x:.2s}\",\"x\":[14604.18],\"xaxis\":\"x\",\"y\":[\"Participatie: werkloos\"],\"yaxis\":\"y\",\"type\":\"bar\"},{\"alignmentgroup\":\"True\",\"hovertemplate\":\"Persoonskenmerken=%{y}<br>Perioden=2019<br>Reisduur_3=%{x}<extra></extra>\",\"legendgroup\":\"Participatie: werkzaam 30 uur pw of meer\",\"marker\":{\"color\":\"#FF97FF\",\"pattern\":{\"shape\":\"\"}},\"name\":\"Participatie: werkzaam 30 uur pw of meer\",\"offsetgroup\":\"Participatie: werkzaam 30 uur pw of meer\",\"orientation\":\"h\",\"showlegend\":true,\"textposition\":\"auto\",\"texttemplate\":\"%{x:.2s}\",\"x\":[63390.06],\"xaxis\":\"x\",\"y\":[\"Participatie: werkzaam 30 uur pw of meer\"],\"yaxis\":\"y\",\"type\":\"bar\"},{\"alignmentgroup\":\"True\",\"hovertemplate\":\"Persoonskenmerken=%{y}<br>Perioden=2019<br>Reisduur_3=%{x}<extra></extra>\",\"legendgroup\":\"Participatie: werkzaam: 12 tot 30 uur pw\",\"marker\":{\"color\":\"#FECB52\",\"pattern\":{\"shape\":\"\"}},\"name\":\"Participatie: werkzaam: 12 tot 30 uur pw\",\"offsetgroup\":\"Participatie: werkzaam: 12 tot 30 uur pw\",\"orientation\":\"h\",\"showlegend\":true,\"textposition\":\"auto\",\"texttemplate\":\"%{x:.2s}\",\"x\":[48147.5],\"xaxis\":\"x\",\"y\":[\"Participatie: werkzaam: 12 tot 30 uur pw\"],\"yaxis\":\"y\",\"type\":\"bar\"},{\"alignmentgroup\":\"True\",\"hovertemplate\":\"Persoonskenmerken=%{y}<br>Perioden=2019<br>Reisduur_3=%{x}<extra></extra>\",\"legendgroup\":\"Participatie:student/scholier\",\"marker\":{\"color\":\"#636efa\",\"pattern\":{\"shape\":\"\"}},\"name\":\"Participatie:student/scholier\",\"offsetgroup\":\"Participatie:student/scholier\",\"orientation\":\"h\",\"showlegend\":true,\"textposition\":\"auto\",\"texttemplate\":\"%{x:.2s}\",\"x\":[50425.01],\"xaxis\":\"x\",\"y\":[\"Participatie:student/scholier\"],\"yaxis\":\"y\",\"type\":\"bar\"},{\"alignmentgroup\":\"True\",\"hovertemplate\":\"Persoonskenmerken=%{y}<br>Perioden=2019<br>Reisduur_3=%{x}<extra></extra>\",\"legendgroup\":\"Rijbewijs, geen personenauto in hh\",\"marker\":{\"color\":\"#EF553B\",\"pattern\":{\"shape\":\"\"}},\"name\":\"Rijbewijs, geen personenauto in hh\",\"offsetgroup\":\"Rijbewijs, geen personenauto in hh\",\"orientation\":\"h\",\"showlegend\":true,\"textposition\":\"auto\",\"texttemplate\":\"%{x:.2s}\",\"x\":[39439.84],\"xaxis\":\"x\",\"y\":[\"Rijbewijs, geen personenauto in hh\"],\"yaxis\":\"y\",\"type\":\"bar\"},{\"alignmentgroup\":\"True\",\"hovertemplate\":\"Persoonskenmerken=%{y}<br>Perioden=2019<br>Reisduur_3=%{x}<extra></extra>\",\"legendgroup\":\"Rijbewijs, personenauto in hh\",\"marker\":{\"color\":\"#00cc96\",\"pattern\":{\"shape\":\"\"}},\"name\":\"Rijbewijs, personenauto in hh\",\"offsetgroup\":\"Rijbewijs, personenauto in hh\",\"orientation\":\"h\",\"showlegend\":true,\"textposition\":\"auto\",\"texttemplate\":\"%{x:.2s}\",\"x\":[56331.64],\"xaxis\":\"x\",\"y\":[\"Rijbewijs, personenauto in hh\"],\"yaxis\":\"y\",\"type\":\"bar\"},{\"alignmentgroup\":\"True\",\"hovertemplate\":\"Persoonskenmerken=%{y}<br>Perioden=2019<br>Reisduur_3=%{x}<extra></extra>\",\"legendgroup\":\"Rijbewijs, personenauto op eigen naam\",\"marker\":{\"color\":\"#ab63fa\",\"pattern\":{\"shape\":\"\"}},\"name\":\"Rijbewijs, personenauto op eigen naam\",\"offsetgroup\":\"Rijbewijs, personenauto op eigen naam\",\"orientation\":\"h\",\"showlegend\":true,\"textposition\":\"auto\",\"texttemplate\":\"%{x:.2s}\",\"x\":[59835.48],\"xaxis\":\"x\",\"y\":[\"Rijbewijs, personenauto op eigen naam\"],\"yaxis\":\"y\",\"type\":\"bar\"}],\"name\":\"2019\"},{\"data\":[{\"alignmentgroup\":\"True\",\"hovertemplate\":\"Persoonskenmerken=%{y}<br>Perioden=2020<br>Reisduur_3=%{x}<extra></extra>\",\"legendgroup\":\"Geen rijbewijs; jonger dan 17 jaar\",\"marker\":{\"color\":\"#636efa\",\"pattern\":{\"shape\":\"\"}},\"name\":\"Geen rijbewijs; jonger dan 17 jaar\",\"offsetgroup\":\"Geen rijbewijs; jonger dan 17 jaar\",\"orientation\":\"h\",\"showlegend\":true,\"textposition\":\"auto\",\"texttemplate\":\"%{x:.2s}\",\"x\":[33660.24],\"xaxis\":\"x\",\"y\":[\"Geen rijbewijs; jonger dan 17 jaar\"],\"yaxis\":\"y\",\"type\":\"bar\"},{\"alignmentgroup\":\"True\",\"hovertemplate\":\"Persoonskenmerken=%{y}<br>Perioden=2020<br>Reisduur_3=%{x}<extra></extra>\",\"legendgroup\":\"Geen rijbewijs; wel 17 jaar of ouder\",\"marker\":{\"color\":\"#EF553B\",\"pattern\":{\"shape\":\"\"}},\"name\":\"Geen rijbewijs; wel 17 jaar of ouder\",\"offsetgroup\":\"Geen rijbewijs; wel 17 jaar of ouder\",\"orientation\":\"h\",\"showlegend\":true,\"textposition\":\"auto\",\"texttemplate\":\"%{x:.2s}\",\"x\":[28191.0],\"xaxis\":\"x\",\"y\":[\"Geen rijbewijs; wel 17 jaar of ouder\"],\"yaxis\":\"y\",\"type\":\"bar\"},{\"alignmentgroup\":\"True\",\"hovertemplate\":\"Persoonskenmerken=%{y}<br>Perioden=2020<br>Reisduur_3=%{x}<extra></extra>\",\"legendgroup\":\"Gestandaardiseerd inkomen: 1e 20%-groep\",\"marker\":{\"color\":\"#00cc96\",\"pattern\":{\"shape\":\"\"}},\"name\":\"Gestandaardiseerd inkomen: 1e 20%-groep\",\"offsetgroup\":\"Gestandaardiseerd inkomen: 1e 20%-groep\",\"orientation\":\"h\",\"showlegend\":true,\"textposition\":\"auto\",\"texttemplate\":\"%{x:.2s}\",\"x\":[32517.97],\"xaxis\":\"x\",\"y\":[\"Gestandaardiseerd inkomen: 1e 20%-groep\"],\"yaxis\":\"y\",\"type\":\"bar\"},{\"alignmentgroup\":\"True\",\"hovertemplate\":\"Persoonskenmerken=%{y}<br>Perioden=2020<br>Reisduur_3=%{x}<extra></extra>\",\"legendgroup\":\"Gestandaardiseerd inkomen: 2e 20%-groep\",\"marker\":{\"color\":\"#ab63fa\",\"pattern\":{\"shape\":\"\"}},\"name\":\"Gestandaardiseerd inkomen: 2e 20%-groep\",\"offsetgroup\":\"Gestandaardiseerd inkomen: 2e 20%-groep\",\"orientation\":\"h\",\"showlegend\":true,\"textposition\":\"auto\",\"texttemplate\":\"%{x:.2s}\",\"x\":[37203.46],\"xaxis\":\"x\",\"y\":[\"Gestandaardiseerd inkomen: 2e 20%-groep\"],\"yaxis\":\"y\",\"type\":\"bar\"},{\"alignmentgroup\":\"True\",\"hovertemplate\":\"Persoonskenmerken=%{y}<br>Perioden=2020<br>Reisduur_3=%{x}<extra></extra>\",\"legendgroup\":\"Gestandaardiseerd inkomen: 3e 20%-groep\",\"marker\":{\"color\":\"#FFA15A\",\"pattern\":{\"shape\":\"\"}},\"name\":\"Gestandaardiseerd inkomen: 3e 20%-groep\",\"offsetgroup\":\"Gestandaardiseerd inkomen: 3e 20%-groep\",\"orientation\":\"h\",\"showlegend\":true,\"textposition\":\"auto\",\"texttemplate\":\"%{x:.2s}\",\"x\":[43755.53],\"xaxis\":\"x\",\"y\":[\"Gestandaardiseerd inkomen: 3e 20%-groep\"],\"yaxis\":\"y\",\"type\":\"bar\"},{\"alignmentgroup\":\"True\",\"hovertemplate\":\"Persoonskenmerken=%{y}<br>Perioden=2020<br>Reisduur_3=%{x}<extra></extra>\",\"legendgroup\":\"Gestandaardiseerd inkomen: 4e 20%-groep\",\"marker\":{\"color\":\"#19d3f3\",\"pattern\":{\"shape\":\"\"}},\"name\":\"Gestandaardiseerd inkomen: 4e 20%-groep\",\"offsetgroup\":\"Gestandaardiseerd inkomen: 4e 20%-groep\",\"orientation\":\"h\",\"showlegend\":true,\"textposition\":\"auto\",\"texttemplate\":\"%{x:.2s}\",\"x\":[48002.18],\"xaxis\":\"x\",\"y\":[\"Gestandaardiseerd inkomen: 4e 20%-groep\"],\"yaxis\":\"y\",\"type\":\"bar\"},{\"alignmentgroup\":\"True\",\"hovertemplate\":\"Persoonskenmerken=%{y}<br>Perioden=2020<br>Reisduur_3=%{x}<extra></extra>\",\"legendgroup\":\"Gestandaardiseerd inkomen: 5e 20%-groep\",\"marker\":{\"color\":\"#FF6692\",\"pattern\":{\"shape\":\"\"}},\"name\":\"Gestandaardiseerd inkomen: 5e 20%-groep\",\"offsetgroup\":\"Gestandaardiseerd inkomen: 5e 20%-groep\",\"orientation\":\"h\",\"showlegend\":true,\"textposition\":\"auto\",\"texttemplate\":\"%{x:.2s}\",\"x\":[50754.83],\"xaxis\":\"x\",\"y\":[\"Gestandaardiseerd inkomen: 5e 20%-groep\"],\"yaxis\":\"y\",\"type\":\"bar\"},{\"alignmentgroup\":\"True\",\"hovertemplate\":\"Persoonskenmerken=%{y}<br>Perioden=2020<br>Reisduur_3=%{x}<extra></extra>\",\"legendgroup\":\"Leeftijd: 12 tot 18 jaar\",\"marker\":{\"color\":\"#B6E880\",\"pattern\":{\"shape\":\"\"}},\"name\":\"Leeftijd: 12 tot 18 jaar\",\"offsetgroup\":\"Leeftijd: 12 tot 18 jaar\",\"orientation\":\"h\",\"showlegend\":true,\"textposition\":\"auto\",\"texttemplate\":\"%{x:.2s}\",\"x\":[30856.82],\"xaxis\":\"x\",\"y\":[\"Leeftijd: 12 tot 18 jaar\"],\"yaxis\":\"y\",\"type\":\"bar\"},{\"alignmentgroup\":\"True\",\"hovertemplate\":\"Persoonskenmerken=%{y}<br>Perioden=2020<br>Reisduur_3=%{x}<extra></extra>\",\"legendgroup\":\"Leeftijd: 18 tot 25 jaar\",\"marker\":{\"color\":\"#FF97FF\",\"pattern\":{\"shape\":\"\"}},\"name\":\"Leeftijd: 18 tot 25 jaar\",\"offsetgroup\":\"Leeftijd: 18 tot 25 jaar\",\"orientation\":\"h\",\"showlegend\":true,\"textposition\":\"auto\",\"texttemplate\":\"%{x:.2s}\",\"x\":[36212.68],\"xaxis\":\"x\",\"y\":[\"Leeftijd: 18 tot 25 jaar\"],\"yaxis\":\"y\",\"type\":\"bar\"},{\"alignmentgroup\":\"True\",\"hovertemplate\":\"Persoonskenmerken=%{y}<br>Perioden=2020<br>Reisduur_3=%{x}<extra></extra>\",\"legendgroup\":\"Leeftijd: 25 tot 35 jaar\",\"marker\":{\"color\":\"#FECB52\",\"pattern\":{\"shape\":\"\"}},\"name\":\"Leeftijd: 25 tot 35 jaar\",\"offsetgroup\":\"Leeftijd: 25 tot 35 jaar\",\"orientation\":\"h\",\"showlegend\":true,\"textposition\":\"auto\",\"texttemplate\":\"%{x:.2s}\",\"x\":[43269.62],\"xaxis\":\"x\",\"y\":[\"Leeftijd: 25 tot 35 jaar\"],\"yaxis\":\"y\",\"type\":\"bar\"},{\"alignmentgroup\":\"True\",\"hovertemplate\":\"Persoonskenmerken=%{y}<br>Perioden=2020<br>Reisduur_3=%{x}<extra></extra>\",\"legendgroup\":\"Leeftijd: 35 tot 50 jaar\",\"marker\":{\"color\":\"#636efa\",\"pattern\":{\"shape\":\"\"}},\"name\":\"Leeftijd: 35 tot 50 jaar\",\"offsetgroup\":\"Leeftijd: 35 tot 50 jaar\",\"orientation\":\"h\",\"showlegend\":true,\"textposition\":\"auto\",\"texttemplate\":\"%{x:.2s}\",\"x\":[48249.06],\"xaxis\":\"x\",\"y\":[\"Leeftijd: 35 tot 50 jaar\"],\"yaxis\":\"y\",\"type\":\"bar\"},{\"alignmentgroup\":\"True\",\"hovertemplate\":\"Persoonskenmerken=%{y}<br>Perioden=2020<br>Reisduur_3=%{x}<extra></extra>\",\"legendgroup\":\"Leeftijd: 50 tot 65 jaar\",\"marker\":{\"color\":\"#EF553B\",\"pattern\":{\"shape\":\"\"}},\"name\":\"Leeftijd: 50 tot 65 jaar\",\"offsetgroup\":\"Leeftijd: 50 tot 65 jaar\",\"orientation\":\"h\",\"showlegend\":true,\"textposition\":\"auto\",\"texttemplate\":\"%{x:.2s}\",\"x\":[49553.2],\"xaxis\":\"x\",\"y\":[\"Leeftijd: 50 tot 65 jaar\"],\"yaxis\":\"y\",\"type\":\"bar\"},{\"alignmentgroup\":\"True\",\"hovertemplate\":\"Persoonskenmerken=%{y}<br>Perioden=2020<br>Reisduur_3=%{x}<extra></extra>\",\"legendgroup\":\"Leeftijd: 65 tot 75 jaar\",\"marker\":{\"color\":\"#00cc96\",\"pattern\":{\"shape\":\"\"}},\"name\":\"Leeftijd: 65 tot 75 jaar\",\"offsetgroup\":\"Leeftijd: 65 tot 75 jaar\",\"orientation\":\"h\",\"showlegend\":true,\"textposition\":\"auto\",\"texttemplate\":\"%{x:.2s}\",\"x\":[41826.96],\"xaxis\":\"x\",\"y\":[\"Leeftijd: 65 tot 75 jaar\"],\"yaxis\":\"y\",\"type\":\"bar\"},{\"alignmentgroup\":\"True\",\"hovertemplate\":\"Persoonskenmerken=%{y}<br>Perioden=2020<br>Reisduur_3=%{x}<extra></extra>\",\"legendgroup\":\"Leeftijd: 75 jaar of ouder\",\"marker\":{\"color\":\"#ab63fa\",\"pattern\":{\"shape\":\"\"}},\"name\":\"Leeftijd: 75 jaar of ouder\",\"offsetgroup\":\"Leeftijd: 75 jaar of ouder\",\"orientation\":\"h\",\"showlegend\":true,\"textposition\":\"auto\",\"texttemplate\":\"%{x:.2s}\",\"x\":[24387.48],\"xaxis\":\"x\",\"y\":[\"Leeftijd: 75 jaar of ouder\"],\"yaxis\":\"y\",\"type\":\"bar\"},{\"alignmentgroup\":\"True\",\"hovertemplate\":\"Persoonskenmerken=%{y}<br>Perioden=2020<br>Reisduur_3=%{x}<extra></extra>\",\"legendgroup\":\"Leeftijd:6 tot 12 jaar\",\"marker\":{\"color\":\"#FFA15A\",\"pattern\":{\"shape\":\"\"}},\"name\":\"Leeftijd:6 tot 12 jaar\",\"offsetgroup\":\"Leeftijd:6 tot 12 jaar\",\"orientation\":\"h\",\"showlegend\":true,\"textposition\":\"auto\",\"texttemplate\":\"%{x:.2s}\",\"x\":[16151.52],\"xaxis\":\"x\",\"y\":[\"Leeftijd:6 tot 12 jaar\"],\"yaxis\":\"y\",\"type\":\"bar\"},{\"alignmentgroup\":\"True\",\"hovertemplate\":\"Persoonskenmerken=%{y}<br>Perioden=2020<br>Reisduur_3=%{x}<extra></extra>\",\"legendgroup\":\"Migratieachtergrond: Nederland\",\"marker\":{\"color\":\"#19d3f3\",\"pattern\":{\"shape\":\"\"}},\"name\":\"Migratieachtergrond: Nederland\",\"offsetgroup\":\"Migratieachtergrond: Nederland\",\"orientation\":\"h\",\"showlegend\":true,\"textposition\":\"auto\",\"texttemplate\":\"%{x:.2s}\",\"x\":[50629.66],\"xaxis\":\"x\",\"y\":[\"Migratieachtergrond: Nederland\"],\"yaxis\":\"y\",\"type\":\"bar\"},{\"alignmentgroup\":\"True\",\"hovertemplate\":\"Persoonskenmerken=%{y}<br>Perioden=2020<br>Reisduur_3=%{x}<extra></extra>\",\"legendgroup\":\"Migratieachtergrond: niet-westers\",\"marker\":{\"color\":\"#FF6692\",\"pattern\":{\"shape\":\"\"}},\"name\":\"Migratieachtergrond: niet-westers\",\"offsetgroup\":\"Migratieachtergrond: niet-westers\",\"orientation\":\"h\",\"showlegend\":true,\"textposition\":\"auto\",\"texttemplate\":\"%{x:.2s}\",\"x\":[25299.42],\"xaxis\":\"x\",\"y\":[\"Migratieachtergrond: niet-westers\"],\"yaxis\":\"y\",\"type\":\"bar\"},{\"alignmentgroup\":\"True\",\"hovertemplate\":\"Persoonskenmerken=%{y}<br>Perioden=2020<br>Reisduur_3=%{x}<extra></extra>\",\"legendgroup\":\"Migratieachtergrond: westers\",\"marker\":{\"color\":\"#B6E880\",\"pattern\":{\"shape\":\"\"}},\"name\":\"Migratieachtergrond: westers\",\"offsetgroup\":\"Migratieachtergrond: westers\",\"orientation\":\"h\",\"showlegend\":true,\"textposition\":\"auto\",\"texttemplate\":\"%{x:.2s}\",\"x\":[32033.04],\"xaxis\":\"x\",\"y\":[\"Migratieachtergrond: westers\"],\"yaxis\":\"y\",\"type\":\"bar\"},{\"alignmentgroup\":\"True\",\"hovertemplate\":\"Persoonskenmerken=%{y}<br>Perioden=2020<br>Reisduur_3=%{x}<extra></extra>\",\"legendgroup\":\"OV-Studentenkaart: geen\",\"marker\":{\"color\":\"#FF97FF\",\"pattern\":{\"shape\":\"\"}},\"name\":\"OV-Studentenkaart: geen\",\"offsetgroup\":\"OV-Studentenkaart: geen\",\"orientation\":\"h\",\"showlegend\":true,\"textposition\":\"auto\",\"texttemplate\":\"%{x:.2s}\",\"x\":[48699.75],\"xaxis\":\"x\",\"y\":[\"OV-Studentenkaart: geen\"],\"yaxis\":\"y\",\"type\":\"bar\"},{\"alignmentgroup\":\"True\",\"hovertemplate\":\"Persoonskenmerken=%{y}<br>Perioden=2020<br>Reisduur_3=%{x}<extra></extra>\",\"legendgroup\":\"OV-Studentenkaart: weekabonnement\",\"marker\":{\"color\":\"#FECB52\",\"pattern\":{\"shape\":\"\"}},\"name\":\"OV-Studentenkaart: weekabonnement\",\"offsetgroup\":\"OV-Studentenkaart: weekabonnement\",\"orientation\":\"h\",\"showlegend\":true,\"textposition\":\"auto\",\"texttemplate\":\"%{x:.2s}\",\"x\":[30025.42],\"xaxis\":\"x\",\"y\":[\"OV-Studentenkaart: weekabonnement\"],\"yaxis\":\"y\",\"type\":\"bar\"},{\"alignmentgroup\":\"True\",\"hovertemplate\":\"Persoonskenmerken=%{y}<br>Perioden=2020<br>Reisduur_3=%{x}<extra></extra>\",\"legendgroup\":\"OV-Studentenkaart: weekendabonnement\",\"marker\":{\"color\":\"#636efa\",\"pattern\":{\"shape\":\"\"}},\"name\":\"OV-Studentenkaart: weekendabonnement\",\"offsetgroup\":\"OV-Studentenkaart: weekendabonnement\",\"orientation\":\"h\",\"showlegend\":true,\"textposition\":\"auto\",\"texttemplate\":\"%{x:.2s}\",\"x\":[5639.12],\"xaxis\":\"x\",\"y\":[\"OV-Studentenkaart: weekendabonnement\"],\"yaxis\":\"y\",\"type\":\"bar\"},{\"alignmentgroup\":\"True\",\"hovertemplate\":\"Persoonskenmerken=%{y}<br>Perioden=2020<br>Reisduur_3=%{x}<extra></extra>\",\"legendgroup\":\"Onderwijsniveau: 1 Laag\",\"marker\":{\"color\":\"#EF553B\",\"pattern\":{\"shape\":\"\"}},\"name\":\"Onderwijsniveau: 1 Laag\",\"offsetgroup\":\"Onderwijsniveau: 1 Laag\",\"orientation\":\"h\",\"showlegend\":true,\"textposition\":\"auto\",\"texttemplate\":\"%{x:.2s}\",\"x\":[35116.14],\"xaxis\":\"x\",\"y\":[\"Onderwijsniveau: 1 Laag\"],\"yaxis\":\"y\",\"type\":\"bar\"},{\"alignmentgroup\":\"True\",\"hovertemplate\":\"Persoonskenmerken=%{y}<br>Perioden=2020<br>Reisduur_3=%{x}<extra></extra>\",\"legendgroup\":\"Onderwijsniveau: 2 Middelbaar\",\"marker\":{\"color\":\"#00cc96\",\"pattern\":{\"shape\":\"\"}},\"name\":\"Onderwijsniveau: 2 Middelbaar\",\"offsetgroup\":\"Onderwijsniveau: 2 Middelbaar\",\"orientation\":\"h\",\"showlegend\":true,\"textposition\":\"auto\",\"texttemplate\":\"%{x:.2s}\",\"x\":[47947.54],\"xaxis\":\"x\",\"y\":[\"Onderwijsniveau: 2 Middelbaar\"],\"yaxis\":\"y\",\"type\":\"bar\"},{\"alignmentgroup\":\"True\",\"hovertemplate\":\"Persoonskenmerken=%{y}<br>Perioden=2020<br>Reisduur_3=%{x}<extra></extra>\",\"legendgroup\":\"Onderwijsniveau: 3 Hoog\",\"marker\":{\"color\":\"#ab63fa\",\"pattern\":{\"shape\":\"\"}},\"name\":\"Onderwijsniveau: 3 Hoog\",\"offsetgroup\":\"Onderwijsniveau: 3 Hoog\",\"orientation\":\"h\",\"showlegend\":true,\"textposition\":\"auto\",\"texttemplate\":\"%{x:.2s}\",\"x\":[53799.3],\"xaxis\":\"x\",\"y\":[\"Onderwijsniveau: 3 Hoog\"],\"yaxis\":\"y\",\"type\":\"bar\"},{\"alignmentgroup\":\"True\",\"hovertemplate\":\"Persoonskenmerken=%{y}<br>Perioden=2020<br>Reisduur_3=%{x}<extra></extra>\",\"legendgroup\":\"Participatie:  arbeidsongeschikt\",\"marker\":{\"color\":\"#FFA15A\",\"pattern\":{\"shape\":\"\"}},\"name\":\"Participatie:  arbeidsongeschikt\",\"offsetgroup\":\"Participatie:  arbeidsongeschikt\",\"orientation\":\"h\",\"showlegend\":true,\"textposition\":\"auto\",\"texttemplate\":\"%{x:.2s}\",\"x\":[16298.4],\"xaxis\":\"x\",\"y\":[\"Participatie:  arbeidsongeschikt\"],\"yaxis\":\"y\",\"type\":\"bar\"},{\"alignmentgroup\":\"True\",\"hovertemplate\":\"Persoonskenmerken=%{y}<br>Perioden=2020<br>Reisduur_3=%{x}<extra></extra>\",\"legendgroup\":\"Participatie: anders/overig\",\"marker\":{\"color\":\"#19d3f3\",\"pattern\":{\"shape\":\"\"}},\"name\":\"Participatie: anders/overig\",\"offsetgroup\":\"Participatie: anders/overig\",\"orientation\":\"h\",\"showlegend\":true,\"textposition\":\"auto\",\"texttemplate\":\"%{x:.2s}\",\"x\":[27691.86],\"xaxis\":\"x\",\"y\":[\"Participatie: anders/overig\"],\"yaxis\":\"y\",\"type\":\"bar\"},{\"alignmentgroup\":\"True\",\"hovertemplate\":\"Persoonskenmerken=%{y}<br>Perioden=2020<br>Reisduur_3=%{x}<extra></extra>\",\"legendgroup\":\"Participatie: gepensioneerd/VUT\",\"marker\":{\"color\":\"#FF6692\",\"pattern\":{\"shape\":\"\"}},\"name\":\"Participatie: gepensioneerd/VUT\",\"offsetgroup\":\"Participatie: gepensioneerd/VUT\",\"orientation\":\"h\",\"showlegend\":true,\"textposition\":\"auto\",\"texttemplate\":\"%{x:.2s}\",\"x\":[39005.72],\"xaxis\":\"x\",\"y\":[\"Participatie: gepensioneerd/VUT\"],\"yaxis\":\"y\",\"type\":\"bar\"},{\"alignmentgroup\":\"True\",\"hovertemplate\":\"Persoonskenmerken=%{y}<br>Perioden=2020<br>Reisduur_3=%{x}<extra></extra>\",\"legendgroup\":\"Participatie: werkloos\",\"marker\":{\"color\":\"#B6E880\",\"pattern\":{\"shape\":\"\"}},\"name\":\"Participatie: werkloos\",\"offsetgroup\":\"Participatie: werkloos\",\"orientation\":\"h\",\"showlegend\":true,\"textposition\":\"auto\",\"texttemplate\":\"%{x:.2s}\",\"x\":[15439.22],\"xaxis\":\"x\",\"y\":[\"Participatie: werkloos\"],\"yaxis\":\"y\",\"type\":\"bar\"},{\"alignmentgroup\":\"True\",\"hovertemplate\":\"Persoonskenmerken=%{y}<br>Perioden=2020<br>Reisduur_3=%{x}<extra></extra>\",\"legendgroup\":\"Participatie: werkzaam 30 uur pw of meer\",\"marker\":{\"color\":\"#FF97FF\",\"pattern\":{\"shape\":\"\"}},\"name\":\"Participatie: werkzaam 30 uur pw of meer\",\"offsetgroup\":\"Participatie: werkzaam 30 uur pw of meer\",\"orientation\":\"h\",\"showlegend\":true,\"textposition\":\"auto\",\"texttemplate\":\"%{x:.2s}\",\"x\":[53488.76],\"xaxis\":\"x\",\"y\":[\"Participatie: werkzaam 30 uur pw of meer\"],\"yaxis\":\"y\",\"type\":\"bar\"},{\"alignmentgroup\":\"True\",\"hovertemplate\":\"Persoonskenmerken=%{y}<br>Perioden=2020<br>Reisduur_3=%{x}<extra></extra>\",\"legendgroup\":\"Participatie: werkzaam: 12 tot 30 uur pw\",\"marker\":{\"color\":\"#FECB52\",\"pattern\":{\"shape\":\"\"}},\"name\":\"Participatie: werkzaam: 12 tot 30 uur pw\",\"offsetgroup\":\"Participatie: werkzaam: 12 tot 30 uur pw\",\"orientation\":\"h\",\"showlegend\":true,\"textposition\":\"auto\",\"texttemplate\":\"%{x:.2s}\",\"x\":[42277.84],\"xaxis\":\"x\",\"y\":[\"Participatie: werkzaam: 12 tot 30 uur pw\"],\"yaxis\":\"y\",\"type\":\"bar\"},{\"alignmentgroup\":\"True\",\"hovertemplate\":\"Persoonskenmerken=%{y}<br>Perioden=2020<br>Reisduur_3=%{x}<extra></extra>\",\"legendgroup\":\"Participatie:student/scholier\",\"marker\":{\"color\":\"#636efa\",\"pattern\":{\"shape\":\"\"}},\"name\":\"Participatie:student/scholier\",\"offsetgroup\":\"Participatie:student/scholier\",\"orientation\":\"h\",\"showlegend\":true,\"textposition\":\"auto\",\"texttemplate\":\"%{x:.2s}\",\"x\":[39547.19],\"xaxis\":\"x\",\"y\":[\"Participatie:student/scholier\"],\"yaxis\":\"y\",\"type\":\"bar\"},{\"alignmentgroup\":\"True\",\"hovertemplate\":\"Persoonskenmerken=%{y}<br>Perioden=2020<br>Reisduur_3=%{x}<extra></extra>\",\"legendgroup\":\"Rijbewijs, geen personenauto in hh\",\"marker\":{\"color\":\"#EF553B\",\"pattern\":{\"shape\":\"\"}},\"name\":\"Rijbewijs, geen personenauto in hh\",\"offsetgroup\":\"Rijbewijs, geen personenauto in hh\",\"orientation\":\"h\",\"showlegend\":true,\"textposition\":\"auto\",\"texttemplate\":\"%{x:.2s}\",\"x\":[30484.52],\"xaxis\":\"x\",\"y\":[\"Rijbewijs, geen personenauto in hh\"],\"yaxis\":\"y\",\"type\":\"bar\"},{\"alignmentgroup\":\"True\",\"hovertemplate\":\"Persoonskenmerken=%{y}<br>Perioden=2020<br>Reisduur_3=%{x}<extra></extra>\",\"legendgroup\":\"Rijbewijs, personenauto in hh\",\"marker\":{\"color\":\"#00cc96\",\"pattern\":{\"shape\":\"\"}},\"name\":\"Rijbewijs, personenauto in hh\",\"offsetgroup\":\"Rijbewijs, personenauto in hh\",\"orientation\":\"h\",\"showlegend\":true,\"textposition\":\"auto\",\"texttemplate\":\"%{x:.2s}\",\"x\":[48031.42],\"xaxis\":\"x\",\"y\":[\"Rijbewijs, personenauto in hh\"],\"yaxis\":\"y\",\"type\":\"bar\"},{\"alignmentgroup\":\"True\",\"hovertemplate\":\"Persoonskenmerken=%{y}<br>Perioden=2020<br>Reisduur_3=%{x}<extra></extra>\",\"legendgroup\":\"Rijbewijs, personenauto op eigen naam\",\"marker\":{\"color\":\"#ab63fa\",\"pattern\":{\"shape\":\"\"}},\"name\":\"Rijbewijs, personenauto op eigen naam\",\"offsetgroup\":\"Rijbewijs, personenauto op eigen naam\",\"orientation\":\"h\",\"showlegend\":true,\"textposition\":\"auto\",\"texttemplate\":\"%{x:.2s}\",\"x\":[52188.32],\"xaxis\":\"x\",\"y\":[\"Rijbewijs, personenauto op eigen naam\"],\"yaxis\":\"y\",\"type\":\"bar\"}],\"name\":\"2020\"},{\"data\":[{\"alignmentgroup\":\"True\",\"hovertemplate\":\"Persoonskenmerken=%{y}<br>Perioden=2021<br>Reisduur_3=%{x}<extra></extra>\",\"legendgroup\":\"Geen rijbewijs; jonger dan 17 jaar\",\"marker\":{\"color\":\"#636efa\",\"pattern\":{\"shape\":\"\"}},\"name\":\"Geen rijbewijs; jonger dan 17 jaar\",\"offsetgroup\":\"Geen rijbewijs; jonger dan 17 jaar\",\"orientation\":\"h\",\"showlegend\":true,\"textposition\":\"auto\",\"texttemplate\":\"%{x:.2s}\",\"x\":[41046.21],\"xaxis\":\"x\",\"y\":[\"Geen rijbewijs; jonger dan 17 jaar\"],\"yaxis\":\"y\",\"type\":\"bar\"},{\"alignmentgroup\":\"True\",\"hovertemplate\":\"Persoonskenmerken=%{y}<br>Perioden=2021<br>Reisduur_3=%{x}<extra></extra>\",\"legendgroup\":\"Geen rijbewijs; wel 17 jaar of ouder\",\"marker\":{\"color\":\"#EF553B\",\"pattern\":{\"shape\":\"\"}},\"name\":\"Geen rijbewijs; wel 17 jaar of ouder\",\"offsetgroup\":\"Geen rijbewijs; wel 17 jaar of ouder\",\"orientation\":\"h\",\"showlegend\":true,\"textposition\":\"auto\",\"texttemplate\":\"%{x:.2s}\",\"x\":[36459.68],\"xaxis\":\"x\",\"y\":[\"Geen rijbewijs; wel 17 jaar of ouder\"],\"yaxis\":\"y\",\"type\":\"bar\"},{\"alignmentgroup\":\"True\",\"hovertemplate\":\"Persoonskenmerken=%{y}<br>Perioden=2021<br>Reisduur_3=%{x}<extra></extra>\",\"legendgroup\":\"Gestandaardiseerd inkomen: 1e 20%-groep\",\"marker\":{\"color\":\"#00cc96\",\"pattern\":{\"shape\":\"\"}},\"name\":\"Gestandaardiseerd inkomen: 1e 20%-groep\",\"offsetgroup\":\"Gestandaardiseerd inkomen: 1e 20%-groep\",\"orientation\":\"h\",\"showlegend\":true,\"textposition\":\"auto\",\"texttemplate\":\"%{x:.2s}\",\"x\":[39003.19],\"xaxis\":\"x\",\"y\":[\"Gestandaardiseerd inkomen: 1e 20%-groep\"],\"yaxis\":\"y\",\"type\":\"bar\"},{\"alignmentgroup\":\"True\",\"hovertemplate\":\"Persoonskenmerken=%{y}<br>Perioden=2021<br>Reisduur_3=%{x}<extra></extra>\",\"legendgroup\":\"Gestandaardiseerd inkomen: 2e 20%-groep\",\"marker\":{\"color\":\"#ab63fa\",\"pattern\":{\"shape\":\"\"}},\"name\":\"Gestandaardiseerd inkomen: 2e 20%-groep\",\"offsetgroup\":\"Gestandaardiseerd inkomen: 2e 20%-groep\",\"orientation\":\"h\",\"showlegend\":true,\"textposition\":\"auto\",\"texttemplate\":\"%{x:.2s}\",\"x\":[44821.51],\"xaxis\":\"x\",\"y\":[\"Gestandaardiseerd inkomen: 2e 20%-groep\"],\"yaxis\":\"y\",\"type\":\"bar\"},{\"alignmentgroup\":\"True\",\"hovertemplate\":\"Persoonskenmerken=%{y}<br>Perioden=2021<br>Reisduur_3=%{x}<extra></extra>\",\"legendgroup\":\"Gestandaardiseerd inkomen: 3e 20%-groep\",\"marker\":{\"color\":\"#FFA15A\",\"pattern\":{\"shape\":\"\"}},\"name\":\"Gestandaardiseerd inkomen: 3e 20%-groep\",\"offsetgroup\":\"Gestandaardiseerd inkomen: 3e 20%-groep\",\"orientation\":\"h\",\"showlegend\":true,\"textposition\":\"auto\",\"texttemplate\":\"%{x:.2s}\",\"x\":[50912.96],\"xaxis\":\"x\",\"y\":[\"Gestandaardiseerd inkomen: 3e 20%-groep\"],\"yaxis\":\"y\",\"type\":\"bar\"},{\"alignmentgroup\":\"True\",\"hovertemplate\":\"Persoonskenmerken=%{y}<br>Perioden=2021<br>Reisduur_3=%{x}<extra></extra>\",\"legendgroup\":\"Gestandaardiseerd inkomen: 4e 20%-groep\",\"marker\":{\"color\":\"#19d3f3\",\"pattern\":{\"shape\":\"\"}},\"name\":\"Gestandaardiseerd inkomen: 4e 20%-groep\",\"offsetgroup\":\"Gestandaardiseerd inkomen: 4e 20%-groep\",\"orientation\":\"h\",\"showlegend\":true,\"textposition\":\"auto\",\"texttemplate\":\"%{x:.2s}\",\"x\":[53526.71],\"xaxis\":\"x\",\"y\":[\"Gestandaardiseerd inkomen: 4e 20%-groep\"],\"yaxis\":\"y\",\"type\":\"bar\"},{\"alignmentgroup\":\"True\",\"hovertemplate\":\"Persoonskenmerken=%{y}<br>Perioden=2021<br>Reisduur_3=%{x}<extra></extra>\",\"legendgroup\":\"Gestandaardiseerd inkomen: 5e 20%-groep\",\"marker\":{\"color\":\"#FF6692\",\"pattern\":{\"shape\":\"\"}},\"name\":\"Gestandaardiseerd inkomen: 5e 20%-groep\",\"offsetgroup\":\"Gestandaardiseerd inkomen: 5e 20%-groep\",\"orientation\":\"h\",\"showlegend\":true,\"textposition\":\"auto\",\"texttemplate\":\"%{x:.2s}\",\"x\":[54968.3],\"xaxis\":\"x\",\"y\":[\"Gestandaardiseerd inkomen: 5e 20%-groep\"],\"yaxis\":\"y\",\"type\":\"bar\"},{\"alignmentgroup\":\"True\",\"hovertemplate\":\"Persoonskenmerken=%{y}<br>Perioden=2021<br>Reisduur_3=%{x}<extra></extra>\",\"legendgroup\":\"Leeftijd: 12 tot 18 jaar\",\"marker\":{\"color\":\"#B6E880\",\"pattern\":{\"shape\":\"\"}},\"name\":\"Leeftijd: 12 tot 18 jaar\",\"offsetgroup\":\"Leeftijd: 12 tot 18 jaar\",\"orientation\":\"h\",\"showlegend\":true,\"textposition\":\"auto\",\"texttemplate\":\"%{x:.2s}\",\"x\":[38349.98],\"xaxis\":\"x\",\"y\":[\"Leeftijd: 12 tot 18 jaar\"],\"yaxis\":\"y\",\"type\":\"bar\"},{\"alignmentgroup\":\"True\",\"hovertemplate\":\"Persoonskenmerken=%{y}<br>Perioden=2021<br>Reisduur_3=%{x}<extra></extra>\",\"legendgroup\":\"Leeftijd: 18 tot 25 jaar\",\"marker\":{\"color\":\"#FF97FF\",\"pattern\":{\"shape\":\"\"}},\"name\":\"Leeftijd: 18 tot 25 jaar\",\"offsetgroup\":\"Leeftijd: 18 tot 25 jaar\",\"orientation\":\"h\",\"showlegend\":true,\"textposition\":\"auto\",\"texttemplate\":\"%{x:.2s}\",\"x\":[44485.28],\"xaxis\":\"x\",\"y\":[\"Leeftijd: 18 tot 25 jaar\"],\"yaxis\":\"y\",\"type\":\"bar\"},{\"alignmentgroup\":\"True\",\"hovertemplate\":\"Persoonskenmerken=%{y}<br>Perioden=2021<br>Reisduur_3=%{x}<extra></extra>\",\"legendgroup\":\"Leeftijd: 25 tot 35 jaar\",\"marker\":{\"color\":\"#FECB52\",\"pattern\":{\"shape\":\"\"}},\"name\":\"Leeftijd: 25 tot 35 jaar\",\"offsetgroup\":\"Leeftijd: 25 tot 35 jaar\",\"orientation\":\"h\",\"showlegend\":true,\"textposition\":\"auto\",\"texttemplate\":\"%{x:.2s}\",\"x\":[48187.08],\"xaxis\":\"x\",\"y\":[\"Leeftijd: 25 tot 35 jaar\"],\"yaxis\":\"y\",\"type\":\"bar\"},{\"alignmentgroup\":\"True\",\"hovertemplate\":\"Persoonskenmerken=%{y}<br>Perioden=2021<br>Reisduur_3=%{x}<extra></extra>\",\"legendgroup\":\"Leeftijd: 35 tot 50 jaar\",\"marker\":{\"color\":\"#636efa\",\"pattern\":{\"shape\":\"\"}},\"name\":\"Leeftijd: 35 tot 50 jaar\",\"offsetgroup\":\"Leeftijd: 35 tot 50 jaar\",\"orientation\":\"h\",\"showlegend\":true,\"textposition\":\"auto\",\"texttemplate\":\"%{x:.2s}\",\"x\":[51357.56],\"xaxis\":\"x\",\"y\":[\"Leeftijd: 35 tot 50 jaar\"],\"yaxis\":\"y\",\"type\":\"bar\"},{\"alignmentgroup\":\"True\",\"hovertemplate\":\"Persoonskenmerken=%{y}<br>Perioden=2021<br>Reisduur_3=%{x}<extra></extra>\",\"legendgroup\":\"Leeftijd: 50 tot 65 jaar\",\"marker\":{\"color\":\"#EF553B\",\"pattern\":{\"shape\":\"\"}},\"name\":\"Leeftijd: 50 tot 65 jaar\",\"offsetgroup\":\"Leeftijd: 50 tot 65 jaar\",\"orientation\":\"h\",\"showlegend\":true,\"textposition\":\"auto\",\"texttemplate\":\"%{x:.2s}\",\"x\":[54904.52],\"xaxis\":\"x\",\"y\":[\"Leeftijd: 50 tot 65 jaar\"],\"yaxis\":\"y\",\"type\":\"bar\"},{\"alignmentgroup\":\"True\",\"hovertemplate\":\"Persoonskenmerken=%{y}<br>Perioden=2021<br>Reisduur_3=%{x}<extra></extra>\",\"legendgroup\":\"Leeftijd: 65 tot 75 jaar\",\"marker\":{\"color\":\"#00cc96\",\"pattern\":{\"shape\":\"\"}},\"name\":\"Leeftijd: 65 tot 75 jaar\",\"offsetgroup\":\"Leeftijd: 65 tot 75 jaar\",\"orientation\":\"h\",\"showlegend\":true,\"textposition\":\"auto\",\"texttemplate\":\"%{x:.2s}\",\"x\":[49617.68],\"xaxis\":\"x\",\"y\":[\"Leeftijd: 65 tot 75 jaar\"],\"yaxis\":\"y\",\"type\":\"bar\"},{\"alignmentgroup\":\"True\",\"hovertemplate\":\"Persoonskenmerken=%{y}<br>Perioden=2021<br>Reisduur_3=%{x}<extra></extra>\",\"legendgroup\":\"Leeftijd: 75 jaar of ouder\",\"marker\":{\"color\":\"#ab63fa\",\"pattern\":{\"shape\":\"\"}},\"name\":\"Leeftijd: 75 jaar of ouder\",\"offsetgroup\":\"Leeftijd: 75 jaar of ouder\",\"orientation\":\"h\",\"showlegend\":true,\"textposition\":\"auto\",\"texttemplate\":\"%{x:.2s}\",\"x\":[31864.38],\"xaxis\":\"x\",\"y\":[\"Leeftijd: 75 jaar of ouder\"],\"yaxis\":\"y\",\"type\":\"bar\"},{\"alignmentgroup\":\"True\",\"hovertemplate\":\"Persoonskenmerken=%{y}<br>Perioden=2021<br>Reisduur_3=%{x}<extra></extra>\",\"legendgroup\":\"Leeftijd:6 tot 12 jaar\",\"marker\":{\"color\":\"#FFA15A\",\"pattern\":{\"shape\":\"\"}},\"name\":\"Leeftijd:6 tot 12 jaar\",\"offsetgroup\":\"Leeftijd:6 tot 12 jaar\",\"orientation\":\"h\",\"showlegend\":true,\"textposition\":\"auto\",\"texttemplate\":\"%{x:.2s}\",\"x\":[19879.91],\"xaxis\":\"x\",\"y\":[\"Leeftijd:6 tot 12 jaar\"],\"yaxis\":\"y\",\"type\":\"bar\"},{\"alignmentgroup\":\"True\",\"hovertemplate\":\"Persoonskenmerken=%{y}<br>Perioden=2021<br>Reisduur_3=%{x}<extra></extra>\",\"legendgroup\":\"Migratieachtergrond: Nederland\",\"marker\":{\"color\":\"#19d3f3\",\"pattern\":{\"shape\":\"\"}},\"name\":\"Migratieachtergrond: Nederland\",\"offsetgroup\":\"Migratieachtergrond: Nederland\",\"orientation\":\"h\",\"showlegend\":true,\"textposition\":\"auto\",\"texttemplate\":\"%{x:.2s}\",\"x\":[56331.98],\"xaxis\":\"x\",\"y\":[\"Migratieachtergrond: Nederland\"],\"yaxis\":\"y\",\"type\":\"bar\"},{\"alignmentgroup\":\"True\",\"hovertemplate\":\"Persoonskenmerken=%{y}<br>Perioden=2021<br>Reisduur_3=%{x}<extra></extra>\",\"legendgroup\":\"Migratieachtergrond: niet-westers\",\"marker\":{\"color\":\"#FF6692\",\"pattern\":{\"shape\":\"\"}},\"name\":\"Migratieachtergrond: niet-westers\",\"offsetgroup\":\"Migratieachtergrond: niet-westers\",\"orientation\":\"h\",\"showlegend\":true,\"textposition\":\"auto\",\"texttemplate\":\"%{x:.2s}\",\"x\":[32587.22],\"xaxis\":\"x\",\"y\":[\"Migratieachtergrond: niet-westers\"],\"yaxis\":\"y\",\"type\":\"bar\"},{\"alignmentgroup\":\"True\",\"hovertemplate\":\"Persoonskenmerken=%{y}<br>Perioden=2021<br>Reisduur_3=%{x}<extra></extra>\",\"legendgroup\":\"Migratieachtergrond: westers\",\"marker\":{\"color\":\"#B6E880\",\"pattern\":{\"shape\":\"\"}},\"name\":\"Migratieachtergrond: westers\",\"offsetgroup\":\"Migratieachtergrond: westers\",\"orientation\":\"h\",\"showlegend\":true,\"textposition\":\"auto\",\"texttemplate\":\"%{x:.2s}\",\"x\":[39826.11],\"xaxis\":\"x\",\"y\":[\"Migratieachtergrond: westers\"],\"yaxis\":\"y\",\"type\":\"bar\"},{\"alignmentgroup\":\"True\",\"hovertemplate\":\"Persoonskenmerken=%{y}<br>Perioden=2021<br>Reisduur_3=%{x}<extra></extra>\",\"legendgroup\":\"OV-Studentenkaart: geen\",\"marker\":{\"color\":\"#FF97FF\",\"pattern\":{\"shape\":\"\"}},\"name\":\"OV-Studentenkaart: geen\",\"offsetgroup\":\"OV-Studentenkaart: geen\",\"orientation\":\"h\",\"showlegend\":true,\"textposition\":\"auto\",\"texttemplate\":\"%{x:.2s}\",\"x\":[54617.66],\"xaxis\":\"x\",\"y\":[\"OV-Studentenkaart: geen\"],\"yaxis\":\"y\",\"type\":\"bar\"},{\"alignmentgroup\":\"True\",\"hovertemplate\":\"Persoonskenmerken=%{y}<br>Perioden=2021<br>Reisduur_3=%{x}<extra></extra>\",\"legendgroup\":\"OV-Studentenkaart: weekabonnement\",\"marker\":{\"color\":\"#FECB52\",\"pattern\":{\"shape\":\"\"}},\"name\":\"OV-Studentenkaart: weekabonnement\",\"offsetgroup\":\"OV-Studentenkaart: weekabonnement\",\"orientation\":\"h\",\"showlegend\":true,\"textposition\":\"auto\",\"texttemplate\":\"%{x:.2s}\",\"x\":[41737.54],\"xaxis\":\"x\",\"y\":[\"OV-Studentenkaart: weekabonnement\"],\"yaxis\":\"y\",\"type\":\"bar\"},{\"alignmentgroup\":\"True\",\"hovertemplate\":\"Persoonskenmerken=%{y}<br>Perioden=2021<br>Reisduur_3=%{x}<extra></extra>\",\"legendgroup\":\"OV-Studentenkaart: weekendabonnement\",\"marker\":{\"color\":\"#636efa\",\"pattern\":{\"shape\":\"\"}},\"name\":\"OV-Studentenkaart: weekendabonnement\",\"offsetgroup\":\"OV-Studentenkaart: weekendabonnement\",\"orientation\":\"h\",\"showlegend\":true,\"textposition\":\"auto\",\"texttemplate\":\"%{x:.2s}\",\"x\":[6356.24],\"xaxis\":\"x\",\"y\":[\"OV-Studentenkaart: weekendabonnement\"],\"yaxis\":\"y\",\"type\":\"bar\"},{\"alignmentgroup\":\"True\",\"hovertemplate\":\"Persoonskenmerken=%{y}<br>Perioden=2021<br>Reisduur_3=%{x}<extra></extra>\",\"legendgroup\":\"Onderwijsniveau: 1 Laag\",\"marker\":{\"color\":\"#EF553B\",\"pattern\":{\"shape\":\"\"}},\"name\":\"Onderwijsniveau: 1 Laag\",\"offsetgroup\":\"Onderwijsniveau: 1 Laag\",\"orientation\":\"h\",\"showlegend\":true,\"textposition\":\"auto\",\"texttemplate\":\"%{x:.2s}\",\"x\":[42860.0],\"xaxis\":\"x\",\"y\":[\"Onderwijsniveau: 1 Laag\"],\"yaxis\":\"y\",\"type\":\"bar\"},{\"alignmentgroup\":\"True\",\"hovertemplate\":\"Persoonskenmerken=%{y}<br>Perioden=2021<br>Reisduur_3=%{x}<extra></extra>\",\"legendgroup\":\"Onderwijsniveau: 2 Middelbaar\",\"marker\":{\"color\":\"#00cc96\",\"pattern\":{\"shape\":\"\"}},\"name\":\"Onderwijsniveau: 2 Middelbaar\",\"offsetgroup\":\"Onderwijsniveau: 2 Middelbaar\",\"orientation\":\"h\",\"showlegend\":true,\"textposition\":\"auto\",\"texttemplate\":\"%{x:.2s}\",\"x\":[53864.24],\"xaxis\":\"x\",\"y\":[\"Onderwijsniveau: 2 Middelbaar\"],\"yaxis\":\"y\",\"type\":\"bar\"},{\"alignmentgroup\":\"True\",\"hovertemplate\":\"Persoonskenmerken=%{y}<br>Perioden=2021<br>Reisduur_3=%{x}<extra></extra>\",\"legendgroup\":\"Onderwijsniveau: 3 Hoog\",\"marker\":{\"color\":\"#ab63fa\",\"pattern\":{\"shape\":\"\"}},\"name\":\"Onderwijsniveau: 3 Hoog\",\"offsetgroup\":\"Onderwijsniveau: 3 Hoog\",\"orientation\":\"h\",\"showlegend\":true,\"textposition\":\"auto\",\"texttemplate\":\"%{x:.2s}\",\"x\":[58198.52],\"xaxis\":\"x\",\"y\":[\"Onderwijsniveau: 3 Hoog\"],\"yaxis\":\"y\",\"type\":\"bar\"},{\"alignmentgroup\":\"True\",\"hovertemplate\":\"Persoonskenmerken=%{y}<br>Perioden=2021<br>Reisduur_3=%{x}<extra></extra>\",\"legendgroup\":\"Participatie:  arbeidsongeschikt\",\"marker\":{\"color\":\"#FFA15A\",\"pattern\":{\"shape\":\"\"}},\"name\":\"Participatie:  arbeidsongeschikt\",\"offsetgroup\":\"Participatie:  arbeidsongeschikt\",\"orientation\":\"h\",\"showlegend\":true,\"textposition\":\"auto\",\"texttemplate\":\"%{x:.2s}\",\"x\":[20940.64],\"xaxis\":\"x\",\"y\":[\"Participatie:  arbeidsongeschikt\"],\"yaxis\":\"y\",\"type\":\"bar\"},{\"alignmentgroup\":\"True\",\"hovertemplate\":\"Persoonskenmerken=%{y}<br>Perioden=2021<br>Reisduur_3=%{x}<extra></extra>\",\"legendgroup\":\"Participatie: anders/overig\",\"marker\":{\"color\":\"#19d3f3\",\"pattern\":{\"shape\":\"\"}},\"name\":\"Participatie: anders/overig\",\"offsetgroup\":\"Participatie: anders/overig\",\"orientation\":\"h\",\"showlegend\":true,\"textposition\":\"auto\",\"texttemplate\":\"%{x:.2s}\",\"x\":[33648.88],\"xaxis\":\"x\",\"y\":[\"Participatie: anders/overig\"],\"yaxis\":\"y\",\"type\":\"bar\"},{\"alignmentgroup\":\"True\",\"hovertemplate\":\"Persoonskenmerken=%{y}<br>Perioden=2021<br>Reisduur_3=%{x}<extra></extra>\",\"legendgroup\":\"Participatie: gepensioneerd/VUT\",\"marker\":{\"color\":\"#FF6692\",\"pattern\":{\"shape\":\"\"}},\"name\":\"Participatie: gepensioneerd/VUT\",\"offsetgroup\":\"Participatie: gepensioneerd/VUT\",\"orientation\":\"h\",\"showlegend\":true,\"textposition\":\"auto\",\"texttemplate\":\"%{x:.2s}\",\"x\":[47624.8],\"xaxis\":\"x\",\"y\":[\"Participatie: gepensioneerd/VUT\"],\"yaxis\":\"y\",\"type\":\"bar\"},{\"alignmentgroup\":\"True\",\"hovertemplate\":\"Persoonskenmerken=%{y}<br>Perioden=2021<br>Reisduur_3=%{x}<extra></extra>\",\"legendgroup\":\"Participatie: werkloos\",\"marker\":{\"color\":\"#B6E880\",\"pattern\":{\"shape\":\"\"}},\"name\":\"Participatie: werkloos\",\"offsetgroup\":\"Participatie: werkloos\",\"orientation\":\"h\",\"showlegend\":true,\"textposition\":\"auto\",\"texttemplate\":\"%{x:.2s}\",\"x\":[14340.4],\"xaxis\":\"x\",\"y\":[\"Participatie: werkloos\"],\"yaxis\":\"y\",\"type\":\"bar\"},{\"alignmentgroup\":\"True\",\"hovertemplate\":\"Persoonskenmerken=%{y}<br>Perioden=2021<br>Reisduur_3=%{x}<extra></extra>\",\"legendgroup\":\"Participatie: werkzaam 30 uur pw of meer\",\"marker\":{\"color\":\"#FF97FF\",\"pattern\":{\"shape\":\"\"}},\"name\":\"Participatie: werkzaam 30 uur pw of meer\",\"offsetgroup\":\"Participatie: werkzaam 30 uur pw of meer\",\"orientation\":\"h\",\"showlegend\":true,\"textposition\":\"auto\",\"texttemplate\":\"%{x:.2s}\",\"x\":[57331.6],\"xaxis\":\"x\",\"y\":[\"Participatie: werkzaam 30 uur pw of meer\"],\"yaxis\":\"y\",\"type\":\"bar\"},{\"alignmentgroup\":\"True\",\"hovertemplate\":\"Persoonskenmerken=%{y}<br>Perioden=2021<br>Reisduur_3=%{x}<extra></extra>\",\"legendgroup\":\"Participatie: werkzaam: 12 tot 30 uur pw\",\"marker\":{\"color\":\"#FECB52\",\"pattern\":{\"shape\":\"\"}},\"name\":\"Participatie: werkzaam: 12 tot 30 uur pw\",\"offsetgroup\":\"Participatie: werkzaam: 12 tot 30 uur pw\",\"orientation\":\"h\",\"showlegend\":true,\"textposition\":\"auto\",\"texttemplate\":\"%{x:.2s}\",\"x\":[48851.16],\"xaxis\":\"x\",\"y\":[\"Participatie: werkzaam: 12 tot 30 uur pw\"],\"yaxis\":\"y\",\"type\":\"bar\"},{\"alignmentgroup\":\"True\",\"hovertemplate\":\"Persoonskenmerken=%{y}<br>Perioden=2021<br>Reisduur_3=%{x}<extra></extra>\",\"legendgroup\":\"Participatie:student/scholier\",\"marker\":{\"color\":\"#636efa\",\"pattern\":{\"shape\":\"\"}},\"name\":\"Participatie:student/scholier\",\"offsetgroup\":\"Participatie:student/scholier\",\"orientation\":\"h\",\"showlegend\":true,\"textposition\":\"auto\",\"texttemplate\":\"%{x:.2s}\",\"x\":[47905.11],\"xaxis\":\"x\",\"y\":[\"Participatie:student/scholier\"],\"yaxis\":\"y\",\"type\":\"bar\"},{\"alignmentgroup\":\"True\",\"hovertemplate\":\"Persoonskenmerken=%{y}<br>Perioden=2021<br>Reisduur_3=%{x}<extra></extra>\",\"legendgroup\":\"Rijbewijs, geen personenauto in hh\",\"marker\":{\"color\":\"#EF553B\",\"pattern\":{\"shape\":\"\"}},\"name\":\"Rijbewijs, geen personenauto in hh\",\"offsetgroup\":\"Rijbewijs, geen personenauto in hh\",\"orientation\":\"h\",\"showlegend\":true,\"textposition\":\"auto\",\"texttemplate\":\"%{x:.2s}\",\"x\":[36344.96],\"xaxis\":\"x\",\"y\":[\"Rijbewijs, geen personenauto in hh\"],\"yaxis\":\"y\",\"type\":\"bar\"},{\"alignmentgroup\":\"True\",\"hovertemplate\":\"Persoonskenmerken=%{y}<br>Perioden=2021<br>Reisduur_3=%{x}<extra></extra>\",\"legendgroup\":\"Rijbewijs, personenauto in hh\",\"marker\":{\"color\":\"#00cc96\",\"pattern\":{\"shape\":\"\"}},\"name\":\"Rijbewijs, personenauto in hh\",\"offsetgroup\":\"Rijbewijs, personenauto in hh\",\"orientation\":\"h\",\"showlegend\":true,\"textposition\":\"auto\",\"texttemplate\":\"%{x:.2s}\",\"x\":[53697.22],\"xaxis\":\"x\",\"y\":[\"Rijbewijs, personenauto in hh\"],\"yaxis\":\"y\",\"type\":\"bar\"},{\"alignmentgroup\":\"True\",\"hovertemplate\":\"Persoonskenmerken=%{y}<br>Perioden=2021<br>Reisduur_3=%{x}<extra></extra>\",\"legendgroup\":\"Rijbewijs, personenauto op eigen naam\",\"marker\":{\"color\":\"#ab63fa\",\"pattern\":{\"shape\":\"\"}},\"name\":\"Rijbewijs, personenauto op eigen naam\",\"offsetgroup\":\"Rijbewijs, personenauto op eigen naam\",\"orientation\":\"h\",\"showlegend\":true,\"textposition\":\"auto\",\"texttemplate\":\"%{x:.2s}\",\"x\":[57165.36],\"xaxis\":\"x\",\"y\":[\"Rijbewijs, personenauto op eigen naam\"],\"yaxis\":\"y\",\"type\":\"bar\"}],\"name\":\"2021\"}]);\n",
       "                        }).then(function(){\n",
       "                            \n",
       "var gd = document.getElementById('0c6bfb36-072a-42aa-8b00-e1ff1b68673e');\n",
       "var x = new MutationObserver(function (mutations, observer) {{\n",
       "        var display = window.getComputedStyle(gd).display;\n",
       "        if (!display || display === 'none') {{\n",
       "            console.log([gd, 'removed!']);\n",
       "            Plotly.purge(gd);\n",
       "            observer.disconnect();\n",
       "        }}\n",
       "}});\n",
       "\n",
       "// Listen for the removal of the full notebook cells\n",
       "var notebookContainer = gd.closest('#notebook-container');\n",
       "if (notebookContainer) {{\n",
       "    x.observe(notebookContainer, {childList: true});\n",
       "}}\n",
       "\n",
       "// Listen for the clearing of the current output cell\n",
       "var outputEl = gd.closest('.output');\n",
       "if (outputEl) {{\n",
       "    x.observe(outputEl, {childList: true});\n",
       "}}\n",
       "\n",
       "                        })                };                });            </script>        </div>"
      ]
     },
     "metadata": {},
     "output_type": "display_data"
    }
   ],
   "source": [
    "fig = px.bar(data_motief_2, x = 'Reisduur_3', y = 'Persoonskenmerken', color = 'Persoonskenmerken',\n",
    "             orientation = 'h', text_auto = '.2s', animation_frame = 'Perioden', height = 1000, range_x = [0, 100000])\n",
    "fig.update_traces(textposition=\"outside\")\n",
    "fig.update_layout(showlegend = False)\n",
    "fig.show()"
   ]
  },
  {
   "cell_type": "markdown",
   "id": "667ef9f1",
   "metadata": {},
   "source": [
    "In the plot above the same trends during the years are shown as in the previous plot about trip displacements. In the figures below the trend of number of trips and time duration is shown during the years for having a driving license. Therefore more detailed can be seen the decrease in the years of 2019 and 2020. The biggest change can be seen in having no driving license and an age below 17 years. The other categories are more showing the same trend."
   ]
  },
  {
   "cell_type": "markdown",
   "id": "6dbee866",
   "metadata": {},
   "source": [
    "## Changes during the years"
   ]
  },
  {
   "cell_type": "code",
   "execution_count": 55,
   "id": "ae01504a",
   "metadata": {},
   "outputs": [
    {
     "data": {
      "application/vnd.plotly.v1+json": {
       "config": {
        "plotlyServerURL": "https://plot.ly"
       },
       "data": [
        {
         "hovertemplate": "Persoonskenmerken=Geen rijbewijs; jonger dan 17 jaar<br>Perioden=%{x}<br>Verplaatsingen_1=%{y}<extra></extra>",
         "legendgroup": "Geen rijbewijs; jonger dan 17 jaar",
         "line": {
          "color": "#636efa",
          "dash": "solid"
         },
         "marker": {
          "symbol": "circle"
         },
         "mode": "markers+lines",
         "name": "Geen rijbewijs; jonger dan 17 jaar",
         "orientation": "v",
         "showlegend": true,
         "type": "scatter",
         "x": [
          "2018",
          "2019",
          "2020",
          "2021"
         ],
         "xaxis": "x",
         "y": [
          1999.58,
          1791.79,
          1378.4,
          1544.05
         ],
         "yaxis": "y"
        },
        {
         "hovertemplate": "Persoonskenmerken=Geen rijbewijs; wel 17 jaar of ouder<br>Perioden=%{x}<br>Verplaatsingen_1=%{y}<extra></extra>",
         "legendgroup": "Geen rijbewijs; wel 17 jaar of ouder",
         "line": {
          "color": "#EF553B",
          "dash": "solid"
         },
         "marker": {
          "symbol": "diamond"
         },
         "mode": "markers+lines",
         "name": "Geen rijbewijs; wel 17 jaar of ouder",
         "orientation": "v",
         "showlegend": true,
         "type": "scatter",
         "x": [
          "2018",
          "2019",
          "2020",
          "2021"
         ],
         "xaxis": "x",
         "y": [
          1378.94,
          1217.8,
          972.98,
          1138.52
         ],
         "yaxis": "y"
        },
        {
         "hovertemplate": "Persoonskenmerken=Rijbewijs, geen personenauto in hh<br>Perioden=%{x}<br>Verplaatsingen_1=%{y}<extra></extra>",
         "legendgroup": "Rijbewijs, geen personenauto in hh",
         "line": {
          "color": "#00cc96",
          "dash": "solid"
         },
         "marker": {
          "symbol": "square"
         },
         "mode": "markers+lines",
         "name": "Rijbewijs, geen personenauto in hh",
         "orientation": "v",
         "showlegend": true,
         "type": "scatter",
         "x": [
          "2018",
          "2019",
          "2020",
          "2021"
         ],
         "xaxis": "x",
         "y": [
          1477.82,
          1391.46,
          1131.98,
          1296.76
         ],
         "yaxis": "y"
        },
        {
         "hovertemplate": "Persoonskenmerken=Rijbewijs, personenauto in hh<br>Perioden=%{x}<br>Verplaatsingen_1=%{y}<extra></extra>",
         "legendgroup": "Rijbewijs, personenauto in hh",
         "line": {
          "color": "#ab63fa",
          "dash": "solid"
         },
         "marker": {
          "symbol": "x"
         },
         "mode": "markers+lines",
         "name": "Rijbewijs, personenauto in hh",
         "orientation": "v",
         "showlegend": true,
         "type": "scatter",
         "x": [
          "2018",
          "2019",
          "2020",
          "2021"
         ],
         "xaxis": "x",
         "y": [
          2165.82,
          2055.96,
          1839.3,
          1972.04
         ],
         "yaxis": "y"
        },
        {
         "hovertemplate": "Persoonskenmerken=Rijbewijs, personenauto op eigen naam<br>Perioden=%{x}<br>Verplaatsingen_1=%{y}<extra></extra>",
         "legendgroup": "Rijbewijs, personenauto op eigen naam",
         "line": {
          "color": "#FFA15A",
          "dash": "solid"
         },
         "marker": {
          "symbol": "cross"
         },
         "mode": "markers+lines",
         "name": "Rijbewijs, personenauto op eigen naam",
         "orientation": "v",
         "showlegend": true,
         "type": "scatter",
         "x": [
          "2018",
          "2019",
          "2020",
          "2021"
         ],
         "xaxis": "x",
         "y": [
          2269.42,
          2214.22,
          2021.26,
          2101
         ],
         "yaxis": "y"
        }
       ],
       "layout": {
        "legend": {
         "title": {
          "text": "Persoonskenmerken"
         },
         "tracegroupgap": 0
        },
        "margin": {
         "t": 60
        },
        "template": {
         "data": {
          "bar": [
           {
            "error_x": {
             "color": "#2a3f5f"
            },
            "error_y": {
             "color": "#2a3f5f"
            },
            "marker": {
             "line": {
              "color": "#E5ECF6",
              "width": 0.5
             },
             "pattern": {
              "fillmode": "overlay",
              "size": 10,
              "solidity": 0.2
             }
            },
            "type": "bar"
           }
          ],
          "barpolar": [
           {
            "marker": {
             "line": {
              "color": "#E5ECF6",
              "width": 0.5
             },
             "pattern": {
              "fillmode": "overlay",
              "size": 10,
              "solidity": 0.2
             }
            },
            "type": "barpolar"
           }
          ],
          "carpet": [
           {
            "aaxis": {
             "endlinecolor": "#2a3f5f",
             "gridcolor": "white",
             "linecolor": "white",
             "minorgridcolor": "white",
             "startlinecolor": "#2a3f5f"
            },
            "baxis": {
             "endlinecolor": "#2a3f5f",
             "gridcolor": "white",
             "linecolor": "white",
             "minorgridcolor": "white",
             "startlinecolor": "#2a3f5f"
            },
            "type": "carpet"
           }
          ],
          "choropleth": [
           {
            "colorbar": {
             "outlinewidth": 0,
             "ticks": ""
            },
            "type": "choropleth"
           }
          ],
          "contour": [
           {
            "colorbar": {
             "outlinewidth": 0,
             "ticks": ""
            },
            "colorscale": [
             [
              0,
              "#0d0887"
             ],
             [
              0.1111111111111111,
              "#46039f"
             ],
             [
              0.2222222222222222,
              "#7201a8"
             ],
             [
              0.3333333333333333,
              "#9c179e"
             ],
             [
              0.4444444444444444,
              "#bd3786"
             ],
             [
              0.5555555555555556,
              "#d8576b"
             ],
             [
              0.6666666666666666,
              "#ed7953"
             ],
             [
              0.7777777777777778,
              "#fb9f3a"
             ],
             [
              0.8888888888888888,
              "#fdca26"
             ],
             [
              1,
              "#f0f921"
             ]
            ],
            "type": "contour"
           }
          ],
          "contourcarpet": [
           {
            "colorbar": {
             "outlinewidth": 0,
             "ticks": ""
            },
            "type": "contourcarpet"
           }
          ],
          "heatmap": [
           {
            "colorbar": {
             "outlinewidth": 0,
             "ticks": ""
            },
            "colorscale": [
             [
              0,
              "#0d0887"
             ],
             [
              0.1111111111111111,
              "#46039f"
             ],
             [
              0.2222222222222222,
              "#7201a8"
             ],
             [
              0.3333333333333333,
              "#9c179e"
             ],
             [
              0.4444444444444444,
              "#bd3786"
             ],
             [
              0.5555555555555556,
              "#d8576b"
             ],
             [
              0.6666666666666666,
              "#ed7953"
             ],
             [
              0.7777777777777778,
              "#fb9f3a"
             ],
             [
              0.8888888888888888,
              "#fdca26"
             ],
             [
              1,
              "#f0f921"
             ]
            ],
            "type": "heatmap"
           }
          ],
          "heatmapgl": [
           {
            "colorbar": {
             "outlinewidth": 0,
             "ticks": ""
            },
            "colorscale": [
             [
              0,
              "#0d0887"
             ],
             [
              0.1111111111111111,
              "#46039f"
             ],
             [
              0.2222222222222222,
              "#7201a8"
             ],
             [
              0.3333333333333333,
              "#9c179e"
             ],
             [
              0.4444444444444444,
              "#bd3786"
             ],
             [
              0.5555555555555556,
              "#d8576b"
             ],
             [
              0.6666666666666666,
              "#ed7953"
             ],
             [
              0.7777777777777778,
              "#fb9f3a"
             ],
             [
              0.8888888888888888,
              "#fdca26"
             ],
             [
              1,
              "#f0f921"
             ]
            ],
            "type": "heatmapgl"
           }
          ],
          "histogram": [
           {
            "marker": {
             "pattern": {
              "fillmode": "overlay",
              "size": 10,
              "solidity": 0.2
             }
            },
            "type": "histogram"
           }
          ],
          "histogram2d": [
           {
            "colorbar": {
             "outlinewidth": 0,
             "ticks": ""
            },
            "colorscale": [
             [
              0,
              "#0d0887"
             ],
             [
              0.1111111111111111,
              "#46039f"
             ],
             [
              0.2222222222222222,
              "#7201a8"
             ],
             [
              0.3333333333333333,
              "#9c179e"
             ],
             [
              0.4444444444444444,
              "#bd3786"
             ],
             [
              0.5555555555555556,
              "#d8576b"
             ],
             [
              0.6666666666666666,
              "#ed7953"
             ],
             [
              0.7777777777777778,
              "#fb9f3a"
             ],
             [
              0.8888888888888888,
              "#fdca26"
             ],
             [
              1,
              "#f0f921"
             ]
            ],
            "type": "histogram2d"
           }
          ],
          "histogram2dcontour": [
           {
            "colorbar": {
             "outlinewidth": 0,
             "ticks": ""
            },
            "colorscale": [
             [
              0,
              "#0d0887"
             ],
             [
              0.1111111111111111,
              "#46039f"
             ],
             [
              0.2222222222222222,
              "#7201a8"
             ],
             [
              0.3333333333333333,
              "#9c179e"
             ],
             [
              0.4444444444444444,
              "#bd3786"
             ],
             [
              0.5555555555555556,
              "#d8576b"
             ],
             [
              0.6666666666666666,
              "#ed7953"
             ],
             [
              0.7777777777777778,
              "#fb9f3a"
             ],
             [
              0.8888888888888888,
              "#fdca26"
             ],
             [
              1,
              "#f0f921"
             ]
            ],
            "type": "histogram2dcontour"
           }
          ],
          "mesh3d": [
           {
            "colorbar": {
             "outlinewidth": 0,
             "ticks": ""
            },
            "type": "mesh3d"
           }
          ],
          "parcoords": [
           {
            "line": {
             "colorbar": {
              "outlinewidth": 0,
              "ticks": ""
             }
            },
            "type": "parcoords"
           }
          ],
          "pie": [
           {
            "automargin": true,
            "type": "pie"
           }
          ],
          "scatter": [
           {
            "fillpattern": {
             "fillmode": "overlay",
             "size": 10,
             "solidity": 0.2
            },
            "type": "scatter"
           }
          ],
          "scatter3d": [
           {
            "line": {
             "colorbar": {
              "outlinewidth": 0,
              "ticks": ""
             }
            },
            "marker": {
             "colorbar": {
              "outlinewidth": 0,
              "ticks": ""
             }
            },
            "type": "scatter3d"
           }
          ],
          "scattercarpet": [
           {
            "marker": {
             "colorbar": {
              "outlinewidth": 0,
              "ticks": ""
             }
            },
            "type": "scattercarpet"
           }
          ],
          "scattergeo": [
           {
            "marker": {
             "colorbar": {
              "outlinewidth": 0,
              "ticks": ""
             }
            },
            "type": "scattergeo"
           }
          ],
          "scattergl": [
           {
            "marker": {
             "colorbar": {
              "outlinewidth": 0,
              "ticks": ""
             }
            },
            "type": "scattergl"
           }
          ],
          "scattermapbox": [
           {
            "marker": {
             "colorbar": {
              "outlinewidth": 0,
              "ticks": ""
             }
            },
            "type": "scattermapbox"
           }
          ],
          "scatterpolar": [
           {
            "marker": {
             "colorbar": {
              "outlinewidth": 0,
              "ticks": ""
             }
            },
            "type": "scatterpolar"
           }
          ],
          "scatterpolargl": [
           {
            "marker": {
             "colorbar": {
              "outlinewidth": 0,
              "ticks": ""
             }
            },
            "type": "scatterpolargl"
           }
          ],
          "scatterternary": [
           {
            "marker": {
             "colorbar": {
              "outlinewidth": 0,
              "ticks": ""
             }
            },
            "type": "scatterternary"
           }
          ],
          "surface": [
           {
            "colorbar": {
             "outlinewidth": 0,
             "ticks": ""
            },
            "colorscale": [
             [
              0,
              "#0d0887"
             ],
             [
              0.1111111111111111,
              "#46039f"
             ],
             [
              0.2222222222222222,
              "#7201a8"
             ],
             [
              0.3333333333333333,
              "#9c179e"
             ],
             [
              0.4444444444444444,
              "#bd3786"
             ],
             [
              0.5555555555555556,
              "#d8576b"
             ],
             [
              0.6666666666666666,
              "#ed7953"
             ],
             [
              0.7777777777777778,
              "#fb9f3a"
             ],
             [
              0.8888888888888888,
              "#fdca26"
             ],
             [
              1,
              "#f0f921"
             ]
            ],
            "type": "surface"
           }
          ],
          "table": [
           {
            "cells": {
             "fill": {
              "color": "#EBF0F8"
             },
             "line": {
              "color": "white"
             }
            },
            "header": {
             "fill": {
              "color": "#C8D4E3"
             },
             "line": {
              "color": "white"
             }
            },
            "type": "table"
           }
          ]
         },
         "layout": {
          "annotationdefaults": {
           "arrowcolor": "#2a3f5f",
           "arrowhead": 0,
           "arrowwidth": 1
          },
          "autotypenumbers": "strict",
          "coloraxis": {
           "colorbar": {
            "outlinewidth": 0,
            "ticks": ""
           }
          },
          "colorscale": {
           "diverging": [
            [
             0,
             "#8e0152"
            ],
            [
             0.1,
             "#c51b7d"
            ],
            [
             0.2,
             "#de77ae"
            ],
            [
             0.3,
             "#f1b6da"
            ],
            [
             0.4,
             "#fde0ef"
            ],
            [
             0.5,
             "#f7f7f7"
            ],
            [
             0.6,
             "#e6f5d0"
            ],
            [
             0.7,
             "#b8e186"
            ],
            [
             0.8,
             "#7fbc41"
            ],
            [
             0.9,
             "#4d9221"
            ],
            [
             1,
             "#276419"
            ]
           ],
           "sequential": [
            [
             0,
             "#0d0887"
            ],
            [
             0.1111111111111111,
             "#46039f"
            ],
            [
             0.2222222222222222,
             "#7201a8"
            ],
            [
             0.3333333333333333,
             "#9c179e"
            ],
            [
             0.4444444444444444,
             "#bd3786"
            ],
            [
             0.5555555555555556,
             "#d8576b"
            ],
            [
             0.6666666666666666,
             "#ed7953"
            ],
            [
             0.7777777777777778,
             "#fb9f3a"
            ],
            [
             0.8888888888888888,
             "#fdca26"
            ],
            [
             1,
             "#f0f921"
            ]
           ],
           "sequentialminus": [
            [
             0,
             "#0d0887"
            ],
            [
             0.1111111111111111,
             "#46039f"
            ],
            [
             0.2222222222222222,
             "#7201a8"
            ],
            [
             0.3333333333333333,
             "#9c179e"
            ],
            [
             0.4444444444444444,
             "#bd3786"
            ],
            [
             0.5555555555555556,
             "#d8576b"
            ],
            [
             0.6666666666666666,
             "#ed7953"
            ],
            [
             0.7777777777777778,
             "#fb9f3a"
            ],
            [
             0.8888888888888888,
             "#fdca26"
            ],
            [
             1,
             "#f0f921"
            ]
           ]
          },
          "colorway": [
           "#636efa",
           "#EF553B",
           "#00cc96",
           "#ab63fa",
           "#FFA15A",
           "#19d3f3",
           "#FF6692",
           "#B6E880",
           "#FF97FF",
           "#FECB52"
          ],
          "font": {
           "color": "#2a3f5f"
          },
          "geo": {
           "bgcolor": "white",
           "lakecolor": "white",
           "landcolor": "#E5ECF6",
           "showlakes": true,
           "showland": true,
           "subunitcolor": "white"
          },
          "hoverlabel": {
           "align": "left"
          },
          "hovermode": "closest",
          "mapbox": {
           "style": "light"
          },
          "paper_bgcolor": "white",
          "plot_bgcolor": "#E5ECF6",
          "polar": {
           "angularaxis": {
            "gridcolor": "white",
            "linecolor": "white",
            "ticks": ""
           },
           "bgcolor": "#E5ECF6",
           "radialaxis": {
            "gridcolor": "white",
            "linecolor": "white",
            "ticks": ""
           }
          },
          "scene": {
           "xaxis": {
            "backgroundcolor": "#E5ECF6",
            "gridcolor": "white",
            "gridwidth": 2,
            "linecolor": "white",
            "showbackground": true,
            "ticks": "",
            "zerolinecolor": "white"
           },
           "yaxis": {
            "backgroundcolor": "#E5ECF6",
            "gridcolor": "white",
            "gridwidth": 2,
            "linecolor": "white",
            "showbackground": true,
            "ticks": "",
            "zerolinecolor": "white"
           },
           "zaxis": {
            "backgroundcolor": "#E5ECF6",
            "gridcolor": "white",
            "gridwidth": 2,
            "linecolor": "white",
            "showbackground": true,
            "ticks": "",
            "zerolinecolor": "white"
           }
          },
          "shapedefaults": {
           "line": {
            "color": "#2a3f5f"
           }
          },
          "ternary": {
           "aaxis": {
            "gridcolor": "white",
            "linecolor": "white",
            "ticks": ""
           },
           "baxis": {
            "gridcolor": "white",
            "linecolor": "white",
            "ticks": ""
           },
           "bgcolor": "#E5ECF6",
           "caxis": {
            "gridcolor": "white",
            "linecolor": "white",
            "ticks": ""
           }
          },
          "title": {
           "x": 0.05
          },
          "xaxis": {
           "automargin": true,
           "gridcolor": "white",
           "linecolor": "white",
           "ticks": "",
           "title": {
            "standoff": 15
           },
           "zerolinecolor": "white",
           "zerolinewidth": 2
          },
          "yaxis": {
           "automargin": true,
           "gridcolor": "white",
           "linecolor": "white",
           "ticks": "",
           "title": {
            "standoff": 15
           },
           "zerolinecolor": "white",
           "zerolinewidth": 2
          }
         }
        },
        "xaxis": {
         "anchor": "y",
         "domain": [
          0,
          1
         ],
         "title": {
          "text": "Perioden"
         }
        },
        "yaxis": {
         "anchor": "x",
         "domain": [
          0,
          1
         ],
         "title": {
          "text": "Verplaatsingen_1"
         }
        }
       }
      },
      "text/html": [
       "<div>                            <div id=\"28ba24e2-2e29-407f-bb24-5deee4e0e3d1\" class=\"plotly-graph-div\" style=\"height:525px; width:100%;\"></div>            <script type=\"text/javascript\">                require([\"plotly\"], function(Plotly) {                    window.PLOTLYENV=window.PLOTLYENV || {};                                    if (document.getElementById(\"28ba24e2-2e29-407f-bb24-5deee4e0e3d1\")) {                    Plotly.newPlot(                        \"28ba24e2-2e29-407f-bb24-5deee4e0e3d1\",                        [{\"hovertemplate\":\"Persoonskenmerken=Geen rijbewijs; jonger dan 17 jaar<br>Perioden=%{x}<br>Verplaatsingen_1=%{y}<extra></extra>\",\"legendgroup\":\"Geen rijbewijs; jonger dan 17 jaar\",\"line\":{\"color\":\"#636efa\",\"dash\":\"solid\"},\"marker\":{\"symbol\":\"circle\"},\"mode\":\"markers+lines\",\"name\":\"Geen rijbewijs; jonger dan 17 jaar\",\"orientation\":\"v\",\"showlegend\":true,\"x\":[\"2018\",\"2019\",\"2020\",\"2021\"],\"xaxis\":\"x\",\"y\":[1999.58,1791.79,1378.4,1544.05],\"yaxis\":\"y\",\"type\":\"scatter\"},{\"hovertemplate\":\"Persoonskenmerken=Geen rijbewijs; wel 17 jaar of ouder<br>Perioden=%{x}<br>Verplaatsingen_1=%{y}<extra></extra>\",\"legendgroup\":\"Geen rijbewijs; wel 17 jaar of ouder\",\"line\":{\"color\":\"#EF553B\",\"dash\":\"solid\"},\"marker\":{\"symbol\":\"diamond\"},\"mode\":\"markers+lines\",\"name\":\"Geen rijbewijs; wel 17 jaar of ouder\",\"orientation\":\"v\",\"showlegend\":true,\"x\":[\"2018\",\"2019\",\"2020\",\"2021\"],\"xaxis\":\"x\",\"y\":[1378.94,1217.8,972.98,1138.52],\"yaxis\":\"y\",\"type\":\"scatter\"},{\"hovertemplate\":\"Persoonskenmerken=Rijbewijs, geen personenauto in hh<br>Perioden=%{x}<br>Verplaatsingen_1=%{y}<extra></extra>\",\"legendgroup\":\"Rijbewijs, geen personenauto in hh\",\"line\":{\"color\":\"#00cc96\",\"dash\":\"solid\"},\"marker\":{\"symbol\":\"square\"},\"mode\":\"markers+lines\",\"name\":\"Rijbewijs, geen personenauto in hh\",\"orientation\":\"v\",\"showlegend\":true,\"x\":[\"2018\",\"2019\",\"2020\",\"2021\"],\"xaxis\":\"x\",\"y\":[1477.82,1391.46,1131.98,1296.76],\"yaxis\":\"y\",\"type\":\"scatter\"},{\"hovertemplate\":\"Persoonskenmerken=Rijbewijs, personenauto in hh<br>Perioden=%{x}<br>Verplaatsingen_1=%{y}<extra></extra>\",\"legendgroup\":\"Rijbewijs, personenauto in hh\",\"line\":{\"color\":\"#ab63fa\",\"dash\":\"solid\"},\"marker\":{\"symbol\":\"x\"},\"mode\":\"markers+lines\",\"name\":\"Rijbewijs, personenauto in hh\",\"orientation\":\"v\",\"showlegend\":true,\"x\":[\"2018\",\"2019\",\"2020\",\"2021\"],\"xaxis\":\"x\",\"y\":[2165.82,2055.96,1839.3,1972.04],\"yaxis\":\"y\",\"type\":\"scatter\"},{\"hovertemplate\":\"Persoonskenmerken=Rijbewijs, personenauto op eigen naam<br>Perioden=%{x}<br>Verplaatsingen_1=%{y}<extra></extra>\",\"legendgroup\":\"Rijbewijs, personenauto op eigen naam\",\"line\":{\"color\":\"#FFA15A\",\"dash\":\"solid\"},\"marker\":{\"symbol\":\"cross\"},\"mode\":\"markers+lines\",\"name\":\"Rijbewijs, personenauto op eigen naam\",\"orientation\":\"v\",\"showlegend\":true,\"x\":[\"2018\",\"2019\",\"2020\",\"2021\"],\"xaxis\":\"x\",\"y\":[2269.42,2214.22,2021.26,2101.0],\"yaxis\":\"y\",\"type\":\"scatter\"}],                        {\"template\":{\"data\":{\"histogram2dcontour\":[{\"type\":\"histogram2dcontour\",\"colorbar\":{\"outlinewidth\":0,\"ticks\":\"\"},\"colorscale\":[[0.0,\"#0d0887\"],[0.1111111111111111,\"#46039f\"],[0.2222222222222222,\"#7201a8\"],[0.3333333333333333,\"#9c179e\"],[0.4444444444444444,\"#bd3786\"],[0.5555555555555556,\"#d8576b\"],[0.6666666666666666,\"#ed7953\"],[0.7777777777777778,\"#fb9f3a\"],[0.8888888888888888,\"#fdca26\"],[1.0,\"#f0f921\"]]}],\"choropleth\":[{\"type\":\"choropleth\",\"colorbar\":{\"outlinewidth\":0,\"ticks\":\"\"}}],\"histogram2d\":[{\"type\":\"histogram2d\",\"colorbar\":{\"outlinewidth\":0,\"ticks\":\"\"},\"colorscale\":[[0.0,\"#0d0887\"],[0.1111111111111111,\"#46039f\"],[0.2222222222222222,\"#7201a8\"],[0.3333333333333333,\"#9c179e\"],[0.4444444444444444,\"#bd3786\"],[0.5555555555555556,\"#d8576b\"],[0.6666666666666666,\"#ed7953\"],[0.7777777777777778,\"#fb9f3a\"],[0.8888888888888888,\"#fdca26\"],[1.0,\"#f0f921\"]]}],\"heatmap\":[{\"type\":\"heatmap\",\"colorbar\":{\"outlinewidth\":0,\"ticks\":\"\"},\"colorscale\":[[0.0,\"#0d0887\"],[0.1111111111111111,\"#46039f\"],[0.2222222222222222,\"#7201a8\"],[0.3333333333333333,\"#9c179e\"],[0.4444444444444444,\"#bd3786\"],[0.5555555555555556,\"#d8576b\"],[0.6666666666666666,\"#ed7953\"],[0.7777777777777778,\"#fb9f3a\"],[0.8888888888888888,\"#fdca26\"],[1.0,\"#f0f921\"]]}],\"heatmapgl\":[{\"type\":\"heatmapgl\",\"colorbar\":{\"outlinewidth\":0,\"ticks\":\"\"},\"colorscale\":[[0.0,\"#0d0887\"],[0.1111111111111111,\"#46039f\"],[0.2222222222222222,\"#7201a8\"],[0.3333333333333333,\"#9c179e\"],[0.4444444444444444,\"#bd3786\"],[0.5555555555555556,\"#d8576b\"],[0.6666666666666666,\"#ed7953\"],[0.7777777777777778,\"#fb9f3a\"],[0.8888888888888888,\"#fdca26\"],[1.0,\"#f0f921\"]]}],\"contourcarpet\":[{\"type\":\"contourcarpet\",\"colorbar\":{\"outlinewidth\":0,\"ticks\":\"\"}}],\"contour\":[{\"type\":\"contour\",\"colorbar\":{\"outlinewidth\":0,\"ticks\":\"\"},\"colorscale\":[[0.0,\"#0d0887\"],[0.1111111111111111,\"#46039f\"],[0.2222222222222222,\"#7201a8\"],[0.3333333333333333,\"#9c179e\"],[0.4444444444444444,\"#bd3786\"],[0.5555555555555556,\"#d8576b\"],[0.6666666666666666,\"#ed7953\"],[0.7777777777777778,\"#fb9f3a\"],[0.8888888888888888,\"#fdca26\"],[1.0,\"#f0f921\"]]}],\"surface\":[{\"type\":\"surface\",\"colorbar\":{\"outlinewidth\":0,\"ticks\":\"\"},\"colorscale\":[[0.0,\"#0d0887\"],[0.1111111111111111,\"#46039f\"],[0.2222222222222222,\"#7201a8\"],[0.3333333333333333,\"#9c179e\"],[0.4444444444444444,\"#bd3786\"],[0.5555555555555556,\"#d8576b\"],[0.6666666666666666,\"#ed7953\"],[0.7777777777777778,\"#fb9f3a\"],[0.8888888888888888,\"#fdca26\"],[1.0,\"#f0f921\"]]}],\"mesh3d\":[{\"type\":\"mesh3d\",\"colorbar\":{\"outlinewidth\":0,\"ticks\":\"\"}}],\"scatter\":[{\"fillpattern\":{\"fillmode\":\"overlay\",\"size\":10,\"solidity\":0.2},\"type\":\"scatter\"}],\"parcoords\":[{\"type\":\"parcoords\",\"line\":{\"colorbar\":{\"outlinewidth\":0,\"ticks\":\"\"}}}],\"scatterpolargl\":[{\"type\":\"scatterpolargl\",\"marker\":{\"colorbar\":{\"outlinewidth\":0,\"ticks\":\"\"}}}],\"bar\":[{\"error_x\":{\"color\":\"#2a3f5f\"},\"error_y\":{\"color\":\"#2a3f5f\"},\"marker\":{\"line\":{\"color\":\"#E5ECF6\",\"width\":0.5},\"pattern\":{\"fillmode\":\"overlay\",\"size\":10,\"solidity\":0.2}},\"type\":\"bar\"}],\"scattergeo\":[{\"type\":\"scattergeo\",\"marker\":{\"colorbar\":{\"outlinewidth\":0,\"ticks\":\"\"}}}],\"scatterpolar\":[{\"type\":\"scatterpolar\",\"marker\":{\"colorbar\":{\"outlinewidth\":0,\"ticks\":\"\"}}}],\"histogram\":[{\"marker\":{\"pattern\":{\"fillmode\":\"overlay\",\"size\":10,\"solidity\":0.2}},\"type\":\"histogram\"}],\"scattergl\":[{\"type\":\"scattergl\",\"marker\":{\"colorbar\":{\"outlinewidth\":0,\"ticks\":\"\"}}}],\"scatter3d\":[{\"type\":\"scatter3d\",\"line\":{\"colorbar\":{\"outlinewidth\":0,\"ticks\":\"\"}},\"marker\":{\"colorbar\":{\"outlinewidth\":0,\"ticks\":\"\"}}}],\"scattermapbox\":[{\"type\":\"scattermapbox\",\"marker\":{\"colorbar\":{\"outlinewidth\":0,\"ticks\":\"\"}}}],\"scatterternary\":[{\"type\":\"scatterternary\",\"marker\":{\"colorbar\":{\"outlinewidth\":0,\"ticks\":\"\"}}}],\"scattercarpet\":[{\"type\":\"scattercarpet\",\"marker\":{\"colorbar\":{\"outlinewidth\":0,\"ticks\":\"\"}}}],\"carpet\":[{\"aaxis\":{\"endlinecolor\":\"#2a3f5f\",\"gridcolor\":\"white\",\"linecolor\":\"white\",\"minorgridcolor\":\"white\",\"startlinecolor\":\"#2a3f5f\"},\"baxis\":{\"endlinecolor\":\"#2a3f5f\",\"gridcolor\":\"white\",\"linecolor\":\"white\",\"minorgridcolor\":\"white\",\"startlinecolor\":\"#2a3f5f\"},\"type\":\"carpet\"}],\"table\":[{\"cells\":{\"fill\":{\"color\":\"#EBF0F8\"},\"line\":{\"color\":\"white\"}},\"header\":{\"fill\":{\"color\":\"#C8D4E3\"},\"line\":{\"color\":\"white\"}},\"type\":\"table\"}],\"barpolar\":[{\"marker\":{\"line\":{\"color\":\"#E5ECF6\",\"width\":0.5},\"pattern\":{\"fillmode\":\"overlay\",\"size\":10,\"solidity\":0.2}},\"type\":\"barpolar\"}],\"pie\":[{\"automargin\":true,\"type\":\"pie\"}]},\"layout\":{\"autotypenumbers\":\"strict\",\"colorway\":[\"#636efa\",\"#EF553B\",\"#00cc96\",\"#ab63fa\",\"#FFA15A\",\"#19d3f3\",\"#FF6692\",\"#B6E880\",\"#FF97FF\",\"#FECB52\"],\"font\":{\"color\":\"#2a3f5f\"},\"hovermode\":\"closest\",\"hoverlabel\":{\"align\":\"left\"},\"paper_bgcolor\":\"white\",\"plot_bgcolor\":\"#E5ECF6\",\"polar\":{\"bgcolor\":\"#E5ECF6\",\"angularaxis\":{\"gridcolor\":\"white\",\"linecolor\":\"white\",\"ticks\":\"\"},\"radialaxis\":{\"gridcolor\":\"white\",\"linecolor\":\"white\",\"ticks\":\"\"}},\"ternary\":{\"bgcolor\":\"#E5ECF6\",\"aaxis\":{\"gridcolor\":\"white\",\"linecolor\":\"white\",\"ticks\":\"\"},\"baxis\":{\"gridcolor\":\"white\",\"linecolor\":\"white\",\"ticks\":\"\"},\"caxis\":{\"gridcolor\":\"white\",\"linecolor\":\"white\",\"ticks\":\"\"}},\"coloraxis\":{\"colorbar\":{\"outlinewidth\":0,\"ticks\":\"\"}},\"colorscale\":{\"sequential\":[[0.0,\"#0d0887\"],[0.1111111111111111,\"#46039f\"],[0.2222222222222222,\"#7201a8\"],[0.3333333333333333,\"#9c179e\"],[0.4444444444444444,\"#bd3786\"],[0.5555555555555556,\"#d8576b\"],[0.6666666666666666,\"#ed7953\"],[0.7777777777777778,\"#fb9f3a\"],[0.8888888888888888,\"#fdca26\"],[1.0,\"#f0f921\"]],\"sequentialminus\":[[0.0,\"#0d0887\"],[0.1111111111111111,\"#46039f\"],[0.2222222222222222,\"#7201a8\"],[0.3333333333333333,\"#9c179e\"],[0.4444444444444444,\"#bd3786\"],[0.5555555555555556,\"#d8576b\"],[0.6666666666666666,\"#ed7953\"],[0.7777777777777778,\"#fb9f3a\"],[0.8888888888888888,\"#fdca26\"],[1.0,\"#f0f921\"]],\"diverging\":[[0,\"#8e0152\"],[0.1,\"#c51b7d\"],[0.2,\"#de77ae\"],[0.3,\"#f1b6da\"],[0.4,\"#fde0ef\"],[0.5,\"#f7f7f7\"],[0.6,\"#e6f5d0\"],[0.7,\"#b8e186\"],[0.8,\"#7fbc41\"],[0.9,\"#4d9221\"],[1,\"#276419\"]]},\"xaxis\":{\"gridcolor\":\"white\",\"linecolor\":\"white\",\"ticks\":\"\",\"title\":{\"standoff\":15},\"zerolinecolor\":\"white\",\"automargin\":true,\"zerolinewidth\":2},\"yaxis\":{\"gridcolor\":\"white\",\"linecolor\":\"white\",\"ticks\":\"\",\"title\":{\"standoff\":15},\"zerolinecolor\":\"white\",\"automargin\":true,\"zerolinewidth\":2},\"scene\":{\"xaxis\":{\"backgroundcolor\":\"#E5ECF6\",\"gridcolor\":\"white\",\"linecolor\":\"white\",\"showbackground\":true,\"ticks\":\"\",\"zerolinecolor\":\"white\",\"gridwidth\":2},\"yaxis\":{\"backgroundcolor\":\"#E5ECF6\",\"gridcolor\":\"white\",\"linecolor\":\"white\",\"showbackground\":true,\"ticks\":\"\",\"zerolinecolor\":\"white\",\"gridwidth\":2},\"zaxis\":{\"backgroundcolor\":\"#E5ECF6\",\"gridcolor\":\"white\",\"linecolor\":\"white\",\"showbackground\":true,\"ticks\":\"\",\"zerolinecolor\":\"white\",\"gridwidth\":2}},\"shapedefaults\":{\"line\":{\"color\":\"#2a3f5f\"}},\"annotationdefaults\":{\"arrowcolor\":\"#2a3f5f\",\"arrowhead\":0,\"arrowwidth\":1},\"geo\":{\"bgcolor\":\"white\",\"landcolor\":\"#E5ECF6\",\"subunitcolor\":\"white\",\"showland\":true,\"showlakes\":true,\"lakecolor\":\"white\"},\"title\":{\"x\":0.05},\"mapbox\":{\"style\":\"light\"}}},\"xaxis\":{\"anchor\":\"y\",\"domain\":[0.0,1.0],\"title\":{\"text\":\"Perioden\"}},\"yaxis\":{\"anchor\":\"x\",\"domain\":[0.0,1.0],\"title\":{\"text\":\"Verplaatsingen_1\"}},\"legend\":{\"title\":{\"text\":\"Persoonskenmerken\"},\"tracegroupgap\":0},\"margin\":{\"t\":60}},                        {\"responsive\": true}                    ).then(function(){\n",
       "                            \n",
       "var gd = document.getElementById('28ba24e2-2e29-407f-bb24-5deee4e0e3d1');\n",
       "var x = new MutationObserver(function (mutations, observer) {{\n",
       "        var display = window.getComputedStyle(gd).display;\n",
       "        if (!display || display === 'none') {{\n",
       "            console.log([gd, 'removed!']);\n",
       "            Plotly.purge(gd);\n",
       "            observer.disconnect();\n",
       "        }}\n",
       "}});\n",
       "\n",
       "// Listen for the removal of the full notebook cells\n",
       "var notebookContainer = gd.closest('#notebook-container');\n",
       "if (notebookContainer) {{\n",
       "    x.observe(notebookContainer, {childList: true});\n",
       "}}\n",
       "\n",
       "// Listen for the clearing of the current output cell\n",
       "var outputEl = gd.closest('.output');\n",
       "if (outputEl) {{\n",
       "    x.observe(outputEl, {childList: true});\n",
       "}}\n",
       "\n",
       "                        })                };                });            </script>        </div>"
      ]
     },
     "metadata": {},
     "output_type": "display_data"
    }
   ],
   "source": [
    "auto = [ 'Rijbewijs, personenauto op eigen naam', 'Rijbewijs, personenauto in hh', 'Rijbewijs, geen personenauto in hh',\n",
    "       'Geen rijbewijs; wel 17 jaar of ouder','Geen rijbewijs; jonger dan 17 jaar']\n",
    "\n",
    "filtered_auto = data_motief[data_motief['Persoonskenmerken'].isin(auto)]\n",
    "\n",
    "data_auto_perioden = filtered_auto.groupby(['Persoonskenmerken', 'Perioden']).sum().reset_index()\n",
    "\n",
    "fig = px.line(data_auto_perioden, x='Perioden', y='Verplaatsingen_1', color='Persoonskenmerken', symbol=\"Persoonskenmerken\")\n",
    "fig.show()"
   ]
  },
  {
   "cell_type": "code",
   "execution_count": 56,
   "id": "23a8ebcb",
   "metadata": {},
   "outputs": [
    {
     "data": {
      "application/vnd.plotly.v1+json": {
       "config": {
        "plotlyServerURL": "https://plot.ly"
       },
       "data": [
        {
         "hovertemplate": "Persoonskenmerken=Geen rijbewijs; jonger dan 17 jaar<br>Perioden=%{x}<br>Reisduur_3=%{y}<extra></extra>",
         "legendgroup": "Geen rijbewijs; jonger dan 17 jaar",
         "line": {
          "color": "#636efa",
          "dash": "solid"
         },
         "marker": {
          "symbol": "circle"
         },
         "mode": "markers+lines",
         "name": "Geen rijbewijs; jonger dan 17 jaar",
         "orientation": "v",
         "showlegend": true,
         "type": "scatter",
         "x": [
          "2018",
          "2019",
          "2020",
          "2021"
         ],
         "xaxis": "x",
         "y": [
          45471.25,
          42200.87,
          33660.24,
          41046.21
         ],
         "yaxis": "y"
        },
        {
         "hovertemplate": "Persoonskenmerken=Geen rijbewijs; wel 17 jaar of ouder<br>Perioden=%{x}<br>Reisduur_3=%{y}<extra></extra>",
         "legendgroup": "Geen rijbewijs; wel 17 jaar of ouder",
         "line": {
          "color": "#EF553B",
          "dash": "solid"
         },
         "marker": {
          "symbol": "diamond"
         },
         "mode": "markers+lines",
         "name": "Geen rijbewijs; wel 17 jaar of ouder",
         "orientation": "v",
         "showlegend": true,
         "type": "scatter",
         "x": [
          "2018",
          "2019",
          "2020",
          "2021"
         ],
         "xaxis": "x",
         "y": [
          39817.94,
          36621.18,
          28191,
          36459.68
         ],
         "yaxis": "y"
        },
        {
         "hovertemplate": "Persoonskenmerken=Rijbewijs, geen personenauto in hh<br>Perioden=%{x}<br>Reisduur_3=%{y}<extra></extra>",
         "legendgroup": "Rijbewijs, geen personenauto in hh",
         "line": {
          "color": "#00cc96",
          "dash": "solid"
         },
         "marker": {
          "symbol": "square"
         },
         "mode": "markers+lines",
         "name": "Rijbewijs, geen personenauto in hh",
         "orientation": "v",
         "showlegend": true,
         "type": "scatter",
         "x": [
          "2018",
          "2019",
          "2020",
          "2021"
         ],
         "xaxis": "x",
         "y": [
          40659.56,
          39439.84,
          30484.52,
          36344.96
         ],
         "yaxis": "y"
        },
        {
         "hovertemplate": "Persoonskenmerken=Rijbewijs, personenauto in hh<br>Perioden=%{x}<br>Reisduur_3=%{y}<extra></extra>",
         "legendgroup": "Rijbewijs, personenauto in hh",
         "line": {
          "color": "#ab63fa",
          "dash": "solid"
         },
         "marker": {
          "symbol": "x"
         },
         "mode": "markers+lines",
         "name": "Rijbewijs, personenauto in hh",
         "orientation": "v",
         "showlegend": true,
         "type": "scatter",
         "x": [
          "2018",
          "2019",
          "2020",
          "2021"
         ],
         "xaxis": "x",
         "y": [
          58619.7,
          56331.64,
          48031.42,
          53697.22
         ],
         "yaxis": "y"
        },
        {
         "hovertemplate": "Persoonskenmerken=Rijbewijs, personenauto op eigen naam<br>Perioden=%{x}<br>Reisduur_3=%{y}<extra></extra>",
         "legendgroup": "Rijbewijs, personenauto op eigen naam",
         "line": {
          "color": "#FFA15A",
          "dash": "solid"
         },
         "marker": {
          "symbol": "cross"
         },
         "mode": "markers+lines",
         "name": "Rijbewijs, personenauto op eigen naam",
         "orientation": "v",
         "showlegend": true,
         "type": "scatter",
         "x": [
          "2018",
          "2019",
          "2020",
          "2021"
         ],
         "xaxis": "x",
         "y": [
          60192.28,
          59835.48,
          52188.32,
          57165.36
         ],
         "yaxis": "y"
        }
       ],
       "layout": {
        "legend": {
         "title": {
          "text": "Persoonskenmerken"
         },
         "tracegroupgap": 0
        },
        "margin": {
         "t": 60
        },
        "template": {
         "data": {
          "bar": [
           {
            "error_x": {
             "color": "#2a3f5f"
            },
            "error_y": {
             "color": "#2a3f5f"
            },
            "marker": {
             "line": {
              "color": "#E5ECF6",
              "width": 0.5
             },
             "pattern": {
              "fillmode": "overlay",
              "size": 10,
              "solidity": 0.2
             }
            },
            "type": "bar"
           }
          ],
          "barpolar": [
           {
            "marker": {
             "line": {
              "color": "#E5ECF6",
              "width": 0.5
             },
             "pattern": {
              "fillmode": "overlay",
              "size": 10,
              "solidity": 0.2
             }
            },
            "type": "barpolar"
           }
          ],
          "carpet": [
           {
            "aaxis": {
             "endlinecolor": "#2a3f5f",
             "gridcolor": "white",
             "linecolor": "white",
             "minorgridcolor": "white",
             "startlinecolor": "#2a3f5f"
            },
            "baxis": {
             "endlinecolor": "#2a3f5f",
             "gridcolor": "white",
             "linecolor": "white",
             "minorgridcolor": "white",
             "startlinecolor": "#2a3f5f"
            },
            "type": "carpet"
           }
          ],
          "choropleth": [
           {
            "colorbar": {
             "outlinewidth": 0,
             "ticks": ""
            },
            "type": "choropleth"
           }
          ],
          "contour": [
           {
            "colorbar": {
             "outlinewidth": 0,
             "ticks": ""
            },
            "colorscale": [
             [
              0,
              "#0d0887"
             ],
             [
              0.1111111111111111,
              "#46039f"
             ],
             [
              0.2222222222222222,
              "#7201a8"
             ],
             [
              0.3333333333333333,
              "#9c179e"
             ],
             [
              0.4444444444444444,
              "#bd3786"
             ],
             [
              0.5555555555555556,
              "#d8576b"
             ],
             [
              0.6666666666666666,
              "#ed7953"
             ],
             [
              0.7777777777777778,
              "#fb9f3a"
             ],
             [
              0.8888888888888888,
              "#fdca26"
             ],
             [
              1,
              "#f0f921"
             ]
            ],
            "type": "contour"
           }
          ],
          "contourcarpet": [
           {
            "colorbar": {
             "outlinewidth": 0,
             "ticks": ""
            },
            "type": "contourcarpet"
           }
          ],
          "heatmap": [
           {
            "colorbar": {
             "outlinewidth": 0,
             "ticks": ""
            },
            "colorscale": [
             [
              0,
              "#0d0887"
             ],
             [
              0.1111111111111111,
              "#46039f"
             ],
             [
              0.2222222222222222,
              "#7201a8"
             ],
             [
              0.3333333333333333,
              "#9c179e"
             ],
             [
              0.4444444444444444,
              "#bd3786"
             ],
             [
              0.5555555555555556,
              "#d8576b"
             ],
             [
              0.6666666666666666,
              "#ed7953"
             ],
             [
              0.7777777777777778,
              "#fb9f3a"
             ],
             [
              0.8888888888888888,
              "#fdca26"
             ],
             [
              1,
              "#f0f921"
             ]
            ],
            "type": "heatmap"
           }
          ],
          "heatmapgl": [
           {
            "colorbar": {
             "outlinewidth": 0,
             "ticks": ""
            },
            "colorscale": [
             [
              0,
              "#0d0887"
             ],
             [
              0.1111111111111111,
              "#46039f"
             ],
             [
              0.2222222222222222,
              "#7201a8"
             ],
             [
              0.3333333333333333,
              "#9c179e"
             ],
             [
              0.4444444444444444,
              "#bd3786"
             ],
             [
              0.5555555555555556,
              "#d8576b"
             ],
             [
              0.6666666666666666,
              "#ed7953"
             ],
             [
              0.7777777777777778,
              "#fb9f3a"
             ],
             [
              0.8888888888888888,
              "#fdca26"
             ],
             [
              1,
              "#f0f921"
             ]
            ],
            "type": "heatmapgl"
           }
          ],
          "histogram": [
           {
            "marker": {
             "pattern": {
              "fillmode": "overlay",
              "size": 10,
              "solidity": 0.2
             }
            },
            "type": "histogram"
           }
          ],
          "histogram2d": [
           {
            "colorbar": {
             "outlinewidth": 0,
             "ticks": ""
            },
            "colorscale": [
             [
              0,
              "#0d0887"
             ],
             [
              0.1111111111111111,
              "#46039f"
             ],
             [
              0.2222222222222222,
              "#7201a8"
             ],
             [
              0.3333333333333333,
              "#9c179e"
             ],
             [
              0.4444444444444444,
              "#bd3786"
             ],
             [
              0.5555555555555556,
              "#d8576b"
             ],
             [
              0.6666666666666666,
              "#ed7953"
             ],
             [
              0.7777777777777778,
              "#fb9f3a"
             ],
             [
              0.8888888888888888,
              "#fdca26"
             ],
             [
              1,
              "#f0f921"
             ]
            ],
            "type": "histogram2d"
           }
          ],
          "histogram2dcontour": [
           {
            "colorbar": {
             "outlinewidth": 0,
             "ticks": ""
            },
            "colorscale": [
             [
              0,
              "#0d0887"
             ],
             [
              0.1111111111111111,
              "#46039f"
             ],
             [
              0.2222222222222222,
              "#7201a8"
             ],
             [
              0.3333333333333333,
              "#9c179e"
             ],
             [
              0.4444444444444444,
              "#bd3786"
             ],
             [
              0.5555555555555556,
              "#d8576b"
             ],
             [
              0.6666666666666666,
              "#ed7953"
             ],
             [
              0.7777777777777778,
              "#fb9f3a"
             ],
             [
              0.8888888888888888,
              "#fdca26"
             ],
             [
              1,
              "#f0f921"
             ]
            ],
            "type": "histogram2dcontour"
           }
          ],
          "mesh3d": [
           {
            "colorbar": {
             "outlinewidth": 0,
             "ticks": ""
            },
            "type": "mesh3d"
           }
          ],
          "parcoords": [
           {
            "line": {
             "colorbar": {
              "outlinewidth": 0,
              "ticks": ""
             }
            },
            "type": "parcoords"
           }
          ],
          "pie": [
           {
            "automargin": true,
            "type": "pie"
           }
          ],
          "scatter": [
           {
            "fillpattern": {
             "fillmode": "overlay",
             "size": 10,
             "solidity": 0.2
            },
            "type": "scatter"
           }
          ],
          "scatter3d": [
           {
            "line": {
             "colorbar": {
              "outlinewidth": 0,
              "ticks": ""
             }
            },
            "marker": {
             "colorbar": {
              "outlinewidth": 0,
              "ticks": ""
             }
            },
            "type": "scatter3d"
           }
          ],
          "scattercarpet": [
           {
            "marker": {
             "colorbar": {
              "outlinewidth": 0,
              "ticks": ""
             }
            },
            "type": "scattercarpet"
           }
          ],
          "scattergeo": [
           {
            "marker": {
             "colorbar": {
              "outlinewidth": 0,
              "ticks": ""
             }
            },
            "type": "scattergeo"
           }
          ],
          "scattergl": [
           {
            "marker": {
             "colorbar": {
              "outlinewidth": 0,
              "ticks": ""
             }
            },
            "type": "scattergl"
           }
          ],
          "scattermapbox": [
           {
            "marker": {
             "colorbar": {
              "outlinewidth": 0,
              "ticks": ""
             }
            },
            "type": "scattermapbox"
           }
          ],
          "scatterpolar": [
           {
            "marker": {
             "colorbar": {
              "outlinewidth": 0,
              "ticks": ""
             }
            },
            "type": "scatterpolar"
           }
          ],
          "scatterpolargl": [
           {
            "marker": {
             "colorbar": {
              "outlinewidth": 0,
              "ticks": ""
             }
            },
            "type": "scatterpolargl"
           }
          ],
          "scatterternary": [
           {
            "marker": {
             "colorbar": {
              "outlinewidth": 0,
              "ticks": ""
             }
            },
            "type": "scatterternary"
           }
          ],
          "surface": [
           {
            "colorbar": {
             "outlinewidth": 0,
             "ticks": ""
            },
            "colorscale": [
             [
              0,
              "#0d0887"
             ],
             [
              0.1111111111111111,
              "#46039f"
             ],
             [
              0.2222222222222222,
              "#7201a8"
             ],
             [
              0.3333333333333333,
              "#9c179e"
             ],
             [
              0.4444444444444444,
              "#bd3786"
             ],
             [
              0.5555555555555556,
              "#d8576b"
             ],
             [
              0.6666666666666666,
              "#ed7953"
             ],
             [
              0.7777777777777778,
              "#fb9f3a"
             ],
             [
              0.8888888888888888,
              "#fdca26"
             ],
             [
              1,
              "#f0f921"
             ]
            ],
            "type": "surface"
           }
          ],
          "table": [
           {
            "cells": {
             "fill": {
              "color": "#EBF0F8"
             },
             "line": {
              "color": "white"
             }
            },
            "header": {
             "fill": {
              "color": "#C8D4E3"
             },
             "line": {
              "color": "white"
             }
            },
            "type": "table"
           }
          ]
         },
         "layout": {
          "annotationdefaults": {
           "arrowcolor": "#2a3f5f",
           "arrowhead": 0,
           "arrowwidth": 1
          },
          "autotypenumbers": "strict",
          "coloraxis": {
           "colorbar": {
            "outlinewidth": 0,
            "ticks": ""
           }
          },
          "colorscale": {
           "diverging": [
            [
             0,
             "#8e0152"
            ],
            [
             0.1,
             "#c51b7d"
            ],
            [
             0.2,
             "#de77ae"
            ],
            [
             0.3,
             "#f1b6da"
            ],
            [
             0.4,
             "#fde0ef"
            ],
            [
             0.5,
             "#f7f7f7"
            ],
            [
             0.6,
             "#e6f5d0"
            ],
            [
             0.7,
             "#b8e186"
            ],
            [
             0.8,
             "#7fbc41"
            ],
            [
             0.9,
             "#4d9221"
            ],
            [
             1,
             "#276419"
            ]
           ],
           "sequential": [
            [
             0,
             "#0d0887"
            ],
            [
             0.1111111111111111,
             "#46039f"
            ],
            [
             0.2222222222222222,
             "#7201a8"
            ],
            [
             0.3333333333333333,
             "#9c179e"
            ],
            [
             0.4444444444444444,
             "#bd3786"
            ],
            [
             0.5555555555555556,
             "#d8576b"
            ],
            [
             0.6666666666666666,
             "#ed7953"
            ],
            [
             0.7777777777777778,
             "#fb9f3a"
            ],
            [
             0.8888888888888888,
             "#fdca26"
            ],
            [
             1,
             "#f0f921"
            ]
           ],
           "sequentialminus": [
            [
             0,
             "#0d0887"
            ],
            [
             0.1111111111111111,
             "#46039f"
            ],
            [
             0.2222222222222222,
             "#7201a8"
            ],
            [
             0.3333333333333333,
             "#9c179e"
            ],
            [
             0.4444444444444444,
             "#bd3786"
            ],
            [
             0.5555555555555556,
             "#d8576b"
            ],
            [
             0.6666666666666666,
             "#ed7953"
            ],
            [
             0.7777777777777778,
             "#fb9f3a"
            ],
            [
             0.8888888888888888,
             "#fdca26"
            ],
            [
             1,
             "#f0f921"
            ]
           ]
          },
          "colorway": [
           "#636efa",
           "#EF553B",
           "#00cc96",
           "#ab63fa",
           "#FFA15A",
           "#19d3f3",
           "#FF6692",
           "#B6E880",
           "#FF97FF",
           "#FECB52"
          ],
          "font": {
           "color": "#2a3f5f"
          },
          "geo": {
           "bgcolor": "white",
           "lakecolor": "white",
           "landcolor": "#E5ECF6",
           "showlakes": true,
           "showland": true,
           "subunitcolor": "white"
          },
          "hoverlabel": {
           "align": "left"
          },
          "hovermode": "closest",
          "mapbox": {
           "style": "light"
          },
          "paper_bgcolor": "white",
          "plot_bgcolor": "#E5ECF6",
          "polar": {
           "angularaxis": {
            "gridcolor": "white",
            "linecolor": "white",
            "ticks": ""
           },
           "bgcolor": "#E5ECF6",
           "radialaxis": {
            "gridcolor": "white",
            "linecolor": "white",
            "ticks": ""
           }
          },
          "scene": {
           "xaxis": {
            "backgroundcolor": "#E5ECF6",
            "gridcolor": "white",
            "gridwidth": 2,
            "linecolor": "white",
            "showbackground": true,
            "ticks": "",
            "zerolinecolor": "white"
           },
           "yaxis": {
            "backgroundcolor": "#E5ECF6",
            "gridcolor": "white",
            "gridwidth": 2,
            "linecolor": "white",
            "showbackground": true,
            "ticks": "",
            "zerolinecolor": "white"
           },
           "zaxis": {
            "backgroundcolor": "#E5ECF6",
            "gridcolor": "white",
            "gridwidth": 2,
            "linecolor": "white",
            "showbackground": true,
            "ticks": "",
            "zerolinecolor": "white"
           }
          },
          "shapedefaults": {
           "line": {
            "color": "#2a3f5f"
           }
          },
          "ternary": {
           "aaxis": {
            "gridcolor": "white",
            "linecolor": "white",
            "ticks": ""
           },
           "baxis": {
            "gridcolor": "white",
            "linecolor": "white",
            "ticks": ""
           },
           "bgcolor": "#E5ECF6",
           "caxis": {
            "gridcolor": "white",
            "linecolor": "white",
            "ticks": ""
           }
          },
          "title": {
           "x": 0.05
          },
          "xaxis": {
           "automargin": true,
           "gridcolor": "white",
           "linecolor": "white",
           "ticks": "",
           "title": {
            "standoff": 15
           },
           "zerolinecolor": "white",
           "zerolinewidth": 2
          },
          "yaxis": {
           "automargin": true,
           "gridcolor": "white",
           "linecolor": "white",
           "ticks": "",
           "title": {
            "standoff": 15
           },
           "zerolinecolor": "white",
           "zerolinewidth": 2
          }
         }
        },
        "xaxis": {
         "anchor": "y",
         "domain": [
          0,
          1
         ],
         "title": {
          "text": "Perioden"
         }
        },
        "yaxis": {
         "anchor": "x",
         "domain": [
          0,
          1
         ],
         "title": {
          "text": "Reisduur_3"
         }
        }
       }
      },
      "text/html": [
       "<div>                            <div id=\"0a7d49b9-cb47-4795-9dc4-a5ef3ce347e6\" class=\"plotly-graph-div\" style=\"height:525px; width:100%;\"></div>            <script type=\"text/javascript\">                require([\"plotly\"], function(Plotly) {                    window.PLOTLYENV=window.PLOTLYENV || {};                                    if (document.getElementById(\"0a7d49b9-cb47-4795-9dc4-a5ef3ce347e6\")) {                    Plotly.newPlot(                        \"0a7d49b9-cb47-4795-9dc4-a5ef3ce347e6\",                        [{\"hovertemplate\":\"Persoonskenmerken=Geen rijbewijs; jonger dan 17 jaar<br>Perioden=%{x}<br>Reisduur_3=%{y}<extra></extra>\",\"legendgroup\":\"Geen rijbewijs; jonger dan 17 jaar\",\"line\":{\"color\":\"#636efa\",\"dash\":\"solid\"},\"marker\":{\"symbol\":\"circle\"},\"mode\":\"markers+lines\",\"name\":\"Geen rijbewijs; jonger dan 17 jaar\",\"orientation\":\"v\",\"showlegend\":true,\"x\":[\"2018\",\"2019\",\"2020\",\"2021\"],\"xaxis\":\"x\",\"y\":[45471.25,42200.87,33660.24,41046.21],\"yaxis\":\"y\",\"type\":\"scatter\"},{\"hovertemplate\":\"Persoonskenmerken=Geen rijbewijs; wel 17 jaar of ouder<br>Perioden=%{x}<br>Reisduur_3=%{y}<extra></extra>\",\"legendgroup\":\"Geen rijbewijs; wel 17 jaar of ouder\",\"line\":{\"color\":\"#EF553B\",\"dash\":\"solid\"},\"marker\":{\"symbol\":\"diamond\"},\"mode\":\"markers+lines\",\"name\":\"Geen rijbewijs; wel 17 jaar of ouder\",\"orientation\":\"v\",\"showlegend\":true,\"x\":[\"2018\",\"2019\",\"2020\",\"2021\"],\"xaxis\":\"x\",\"y\":[39817.94,36621.18,28191.0,36459.68],\"yaxis\":\"y\",\"type\":\"scatter\"},{\"hovertemplate\":\"Persoonskenmerken=Rijbewijs, geen personenauto in hh<br>Perioden=%{x}<br>Reisduur_3=%{y}<extra></extra>\",\"legendgroup\":\"Rijbewijs, geen personenauto in hh\",\"line\":{\"color\":\"#00cc96\",\"dash\":\"solid\"},\"marker\":{\"symbol\":\"square\"},\"mode\":\"markers+lines\",\"name\":\"Rijbewijs, geen personenauto in hh\",\"orientation\":\"v\",\"showlegend\":true,\"x\":[\"2018\",\"2019\",\"2020\",\"2021\"],\"xaxis\":\"x\",\"y\":[40659.56,39439.84,30484.52,36344.96],\"yaxis\":\"y\",\"type\":\"scatter\"},{\"hovertemplate\":\"Persoonskenmerken=Rijbewijs, personenauto in hh<br>Perioden=%{x}<br>Reisduur_3=%{y}<extra></extra>\",\"legendgroup\":\"Rijbewijs, personenauto in hh\",\"line\":{\"color\":\"#ab63fa\",\"dash\":\"solid\"},\"marker\":{\"symbol\":\"x\"},\"mode\":\"markers+lines\",\"name\":\"Rijbewijs, personenauto in hh\",\"orientation\":\"v\",\"showlegend\":true,\"x\":[\"2018\",\"2019\",\"2020\",\"2021\"],\"xaxis\":\"x\",\"y\":[58619.7,56331.64,48031.42,53697.22],\"yaxis\":\"y\",\"type\":\"scatter\"},{\"hovertemplate\":\"Persoonskenmerken=Rijbewijs, personenauto op eigen naam<br>Perioden=%{x}<br>Reisduur_3=%{y}<extra></extra>\",\"legendgroup\":\"Rijbewijs, personenauto op eigen naam\",\"line\":{\"color\":\"#FFA15A\",\"dash\":\"solid\"},\"marker\":{\"symbol\":\"cross\"},\"mode\":\"markers+lines\",\"name\":\"Rijbewijs, personenauto op eigen naam\",\"orientation\":\"v\",\"showlegend\":true,\"x\":[\"2018\",\"2019\",\"2020\",\"2021\"],\"xaxis\":\"x\",\"y\":[60192.28,59835.48,52188.32,57165.36],\"yaxis\":\"y\",\"type\":\"scatter\"}],                        {\"template\":{\"data\":{\"histogram2dcontour\":[{\"type\":\"histogram2dcontour\",\"colorbar\":{\"outlinewidth\":0,\"ticks\":\"\"},\"colorscale\":[[0.0,\"#0d0887\"],[0.1111111111111111,\"#46039f\"],[0.2222222222222222,\"#7201a8\"],[0.3333333333333333,\"#9c179e\"],[0.4444444444444444,\"#bd3786\"],[0.5555555555555556,\"#d8576b\"],[0.6666666666666666,\"#ed7953\"],[0.7777777777777778,\"#fb9f3a\"],[0.8888888888888888,\"#fdca26\"],[1.0,\"#f0f921\"]]}],\"choropleth\":[{\"type\":\"choropleth\",\"colorbar\":{\"outlinewidth\":0,\"ticks\":\"\"}}],\"histogram2d\":[{\"type\":\"histogram2d\",\"colorbar\":{\"outlinewidth\":0,\"ticks\":\"\"},\"colorscale\":[[0.0,\"#0d0887\"],[0.1111111111111111,\"#46039f\"],[0.2222222222222222,\"#7201a8\"],[0.3333333333333333,\"#9c179e\"],[0.4444444444444444,\"#bd3786\"],[0.5555555555555556,\"#d8576b\"],[0.6666666666666666,\"#ed7953\"],[0.7777777777777778,\"#fb9f3a\"],[0.8888888888888888,\"#fdca26\"],[1.0,\"#f0f921\"]]}],\"heatmap\":[{\"type\":\"heatmap\",\"colorbar\":{\"outlinewidth\":0,\"ticks\":\"\"},\"colorscale\":[[0.0,\"#0d0887\"],[0.1111111111111111,\"#46039f\"],[0.2222222222222222,\"#7201a8\"],[0.3333333333333333,\"#9c179e\"],[0.4444444444444444,\"#bd3786\"],[0.5555555555555556,\"#d8576b\"],[0.6666666666666666,\"#ed7953\"],[0.7777777777777778,\"#fb9f3a\"],[0.8888888888888888,\"#fdca26\"],[1.0,\"#f0f921\"]]}],\"heatmapgl\":[{\"type\":\"heatmapgl\",\"colorbar\":{\"outlinewidth\":0,\"ticks\":\"\"},\"colorscale\":[[0.0,\"#0d0887\"],[0.1111111111111111,\"#46039f\"],[0.2222222222222222,\"#7201a8\"],[0.3333333333333333,\"#9c179e\"],[0.4444444444444444,\"#bd3786\"],[0.5555555555555556,\"#d8576b\"],[0.6666666666666666,\"#ed7953\"],[0.7777777777777778,\"#fb9f3a\"],[0.8888888888888888,\"#fdca26\"],[1.0,\"#f0f921\"]]}],\"contourcarpet\":[{\"type\":\"contourcarpet\",\"colorbar\":{\"outlinewidth\":0,\"ticks\":\"\"}}],\"contour\":[{\"type\":\"contour\",\"colorbar\":{\"outlinewidth\":0,\"ticks\":\"\"},\"colorscale\":[[0.0,\"#0d0887\"],[0.1111111111111111,\"#46039f\"],[0.2222222222222222,\"#7201a8\"],[0.3333333333333333,\"#9c179e\"],[0.4444444444444444,\"#bd3786\"],[0.5555555555555556,\"#d8576b\"],[0.6666666666666666,\"#ed7953\"],[0.7777777777777778,\"#fb9f3a\"],[0.8888888888888888,\"#fdca26\"],[1.0,\"#f0f921\"]]}],\"surface\":[{\"type\":\"surface\",\"colorbar\":{\"outlinewidth\":0,\"ticks\":\"\"},\"colorscale\":[[0.0,\"#0d0887\"],[0.1111111111111111,\"#46039f\"],[0.2222222222222222,\"#7201a8\"],[0.3333333333333333,\"#9c179e\"],[0.4444444444444444,\"#bd3786\"],[0.5555555555555556,\"#d8576b\"],[0.6666666666666666,\"#ed7953\"],[0.7777777777777778,\"#fb9f3a\"],[0.8888888888888888,\"#fdca26\"],[1.0,\"#f0f921\"]]}],\"mesh3d\":[{\"type\":\"mesh3d\",\"colorbar\":{\"outlinewidth\":0,\"ticks\":\"\"}}],\"scatter\":[{\"fillpattern\":{\"fillmode\":\"overlay\",\"size\":10,\"solidity\":0.2},\"type\":\"scatter\"}],\"parcoords\":[{\"type\":\"parcoords\",\"line\":{\"colorbar\":{\"outlinewidth\":0,\"ticks\":\"\"}}}],\"scatterpolargl\":[{\"type\":\"scatterpolargl\",\"marker\":{\"colorbar\":{\"outlinewidth\":0,\"ticks\":\"\"}}}],\"bar\":[{\"error_x\":{\"color\":\"#2a3f5f\"},\"error_y\":{\"color\":\"#2a3f5f\"},\"marker\":{\"line\":{\"color\":\"#E5ECF6\",\"width\":0.5},\"pattern\":{\"fillmode\":\"overlay\",\"size\":10,\"solidity\":0.2}},\"type\":\"bar\"}],\"scattergeo\":[{\"type\":\"scattergeo\",\"marker\":{\"colorbar\":{\"outlinewidth\":0,\"ticks\":\"\"}}}],\"scatterpolar\":[{\"type\":\"scatterpolar\",\"marker\":{\"colorbar\":{\"outlinewidth\":0,\"ticks\":\"\"}}}],\"histogram\":[{\"marker\":{\"pattern\":{\"fillmode\":\"overlay\",\"size\":10,\"solidity\":0.2}},\"type\":\"histogram\"}],\"scattergl\":[{\"type\":\"scattergl\",\"marker\":{\"colorbar\":{\"outlinewidth\":0,\"ticks\":\"\"}}}],\"scatter3d\":[{\"type\":\"scatter3d\",\"line\":{\"colorbar\":{\"outlinewidth\":0,\"ticks\":\"\"}},\"marker\":{\"colorbar\":{\"outlinewidth\":0,\"ticks\":\"\"}}}],\"scattermapbox\":[{\"type\":\"scattermapbox\",\"marker\":{\"colorbar\":{\"outlinewidth\":0,\"ticks\":\"\"}}}],\"scatterternary\":[{\"type\":\"scatterternary\",\"marker\":{\"colorbar\":{\"outlinewidth\":0,\"ticks\":\"\"}}}],\"scattercarpet\":[{\"type\":\"scattercarpet\",\"marker\":{\"colorbar\":{\"outlinewidth\":0,\"ticks\":\"\"}}}],\"carpet\":[{\"aaxis\":{\"endlinecolor\":\"#2a3f5f\",\"gridcolor\":\"white\",\"linecolor\":\"white\",\"minorgridcolor\":\"white\",\"startlinecolor\":\"#2a3f5f\"},\"baxis\":{\"endlinecolor\":\"#2a3f5f\",\"gridcolor\":\"white\",\"linecolor\":\"white\",\"minorgridcolor\":\"white\",\"startlinecolor\":\"#2a3f5f\"},\"type\":\"carpet\"}],\"table\":[{\"cells\":{\"fill\":{\"color\":\"#EBF0F8\"},\"line\":{\"color\":\"white\"}},\"header\":{\"fill\":{\"color\":\"#C8D4E3\"},\"line\":{\"color\":\"white\"}},\"type\":\"table\"}],\"barpolar\":[{\"marker\":{\"line\":{\"color\":\"#E5ECF6\",\"width\":0.5},\"pattern\":{\"fillmode\":\"overlay\",\"size\":10,\"solidity\":0.2}},\"type\":\"barpolar\"}],\"pie\":[{\"automargin\":true,\"type\":\"pie\"}]},\"layout\":{\"autotypenumbers\":\"strict\",\"colorway\":[\"#636efa\",\"#EF553B\",\"#00cc96\",\"#ab63fa\",\"#FFA15A\",\"#19d3f3\",\"#FF6692\",\"#B6E880\",\"#FF97FF\",\"#FECB52\"],\"font\":{\"color\":\"#2a3f5f\"},\"hovermode\":\"closest\",\"hoverlabel\":{\"align\":\"left\"},\"paper_bgcolor\":\"white\",\"plot_bgcolor\":\"#E5ECF6\",\"polar\":{\"bgcolor\":\"#E5ECF6\",\"angularaxis\":{\"gridcolor\":\"white\",\"linecolor\":\"white\",\"ticks\":\"\"},\"radialaxis\":{\"gridcolor\":\"white\",\"linecolor\":\"white\",\"ticks\":\"\"}},\"ternary\":{\"bgcolor\":\"#E5ECF6\",\"aaxis\":{\"gridcolor\":\"white\",\"linecolor\":\"white\",\"ticks\":\"\"},\"baxis\":{\"gridcolor\":\"white\",\"linecolor\":\"white\",\"ticks\":\"\"},\"caxis\":{\"gridcolor\":\"white\",\"linecolor\":\"white\",\"ticks\":\"\"}},\"coloraxis\":{\"colorbar\":{\"outlinewidth\":0,\"ticks\":\"\"}},\"colorscale\":{\"sequential\":[[0.0,\"#0d0887\"],[0.1111111111111111,\"#46039f\"],[0.2222222222222222,\"#7201a8\"],[0.3333333333333333,\"#9c179e\"],[0.4444444444444444,\"#bd3786\"],[0.5555555555555556,\"#d8576b\"],[0.6666666666666666,\"#ed7953\"],[0.7777777777777778,\"#fb9f3a\"],[0.8888888888888888,\"#fdca26\"],[1.0,\"#f0f921\"]],\"sequentialminus\":[[0.0,\"#0d0887\"],[0.1111111111111111,\"#46039f\"],[0.2222222222222222,\"#7201a8\"],[0.3333333333333333,\"#9c179e\"],[0.4444444444444444,\"#bd3786\"],[0.5555555555555556,\"#d8576b\"],[0.6666666666666666,\"#ed7953\"],[0.7777777777777778,\"#fb9f3a\"],[0.8888888888888888,\"#fdca26\"],[1.0,\"#f0f921\"]],\"diverging\":[[0,\"#8e0152\"],[0.1,\"#c51b7d\"],[0.2,\"#de77ae\"],[0.3,\"#f1b6da\"],[0.4,\"#fde0ef\"],[0.5,\"#f7f7f7\"],[0.6,\"#e6f5d0\"],[0.7,\"#b8e186\"],[0.8,\"#7fbc41\"],[0.9,\"#4d9221\"],[1,\"#276419\"]]},\"xaxis\":{\"gridcolor\":\"white\",\"linecolor\":\"white\",\"ticks\":\"\",\"title\":{\"standoff\":15},\"zerolinecolor\":\"white\",\"automargin\":true,\"zerolinewidth\":2},\"yaxis\":{\"gridcolor\":\"white\",\"linecolor\":\"white\",\"ticks\":\"\",\"title\":{\"standoff\":15},\"zerolinecolor\":\"white\",\"automargin\":true,\"zerolinewidth\":2},\"scene\":{\"xaxis\":{\"backgroundcolor\":\"#E5ECF6\",\"gridcolor\":\"white\",\"linecolor\":\"white\",\"showbackground\":true,\"ticks\":\"\",\"zerolinecolor\":\"white\",\"gridwidth\":2},\"yaxis\":{\"backgroundcolor\":\"#E5ECF6\",\"gridcolor\":\"white\",\"linecolor\":\"white\",\"showbackground\":true,\"ticks\":\"\",\"zerolinecolor\":\"white\",\"gridwidth\":2},\"zaxis\":{\"backgroundcolor\":\"#E5ECF6\",\"gridcolor\":\"white\",\"linecolor\":\"white\",\"showbackground\":true,\"ticks\":\"\",\"zerolinecolor\":\"white\",\"gridwidth\":2}},\"shapedefaults\":{\"line\":{\"color\":\"#2a3f5f\"}},\"annotationdefaults\":{\"arrowcolor\":\"#2a3f5f\",\"arrowhead\":0,\"arrowwidth\":1},\"geo\":{\"bgcolor\":\"white\",\"landcolor\":\"#E5ECF6\",\"subunitcolor\":\"white\",\"showland\":true,\"showlakes\":true,\"lakecolor\":\"white\"},\"title\":{\"x\":0.05},\"mapbox\":{\"style\":\"light\"}}},\"xaxis\":{\"anchor\":\"y\",\"domain\":[0.0,1.0],\"title\":{\"text\":\"Perioden\"}},\"yaxis\":{\"anchor\":\"x\",\"domain\":[0.0,1.0],\"title\":{\"text\":\"Reisduur_3\"}},\"legend\":{\"title\":{\"text\":\"Persoonskenmerken\"},\"tracegroupgap\":0},\"margin\":{\"t\":60}},                        {\"responsive\": true}                    ).then(function(){\n",
       "                            \n",
       "var gd = document.getElementById('0a7d49b9-cb47-4795-9dc4-a5ef3ce347e6');\n",
       "var x = new MutationObserver(function (mutations, observer) {{\n",
       "        var display = window.getComputedStyle(gd).display;\n",
       "        if (!display || display === 'none') {{\n",
       "            console.log([gd, 'removed!']);\n",
       "            Plotly.purge(gd);\n",
       "            observer.disconnect();\n",
       "        }}\n",
       "}});\n",
       "\n",
       "// Listen for the removal of the full notebook cells\n",
       "var notebookContainer = gd.closest('#notebook-container');\n",
       "if (notebookContainer) {{\n",
       "    x.observe(notebookContainer, {childList: true});\n",
       "}}\n",
       "\n",
       "// Listen for the clearing of the current output cell\n",
       "var outputEl = gd.closest('.output');\n",
       "if (outputEl) {{\n",
       "    x.observe(outputEl, {childList: true});\n",
       "}}\n",
       "\n",
       "                        })                };                });            </script>        </div>"
      ]
     },
     "metadata": {},
     "output_type": "display_data"
    }
   ],
   "source": [
    "fig = px.line(data_auto_perioden, x='Perioden', y='Reisduur_3', color='Persoonskenmerken', symbol=\"Persoonskenmerken\")\n",
    "fig.show()"
   ]
  },
  {
   "cell_type": "markdown",
   "id": "980358c1",
   "metadata": {},
   "source": [
    "Shown in the figures about trip displacement and trip duration could be seen that not very big differences are found in the population of having a driving licence, a student public transport passes or in different age groups. To look more in detail about what the differences and similarities are between having a driving license and use of public transport, the focus groups will be students and the driving license groups. \n",
    "\n",
    "* 'OV-Studentenkaart: geen'\n",
    "* 'OV-Studentenkaart: weekabonnement'\n",
    "* 'OV-Studentenkaart: weekendabonnement'\n",
    "\n",
    "& \n",
    "\n",
    "*  'Rijbewijs, personenauto op eigen naam'\n",
    "* 'Rijbewijs, personenauto in hh'\n",
    "* 'Rijbewijs, geen personenauto in hh'\n",
    "* 'Geen rijbewijs; wel 17 jaar of ouder'\n",
    "* 'Geen rijbewijs; jonger dan 17 jaar'\n",
    "\n"
   ]
  },
  {
   "cell_type": "markdown",
   "id": "c6bb0f6f",
   "metadata": {},
   "source": [
    "### Students "
   ]
  },
  {
   "cell_type": "code",
   "execution_count": 69,
   "id": "e795d6e8",
   "metadata": {},
   "outputs": [],
   "source": [
    "student_ov = ['OV-Studentenkaart: geen', 'OV-Studentenkaart: weekabonnement','OV-Studentenkaart: weekendabonnement']\n",
    "\n",
    "filtered_student_ov = data_motief[data_motief['Persoonskenmerken'].isin(student_ov)]\n",
    "\n",
    "#display(filtered_student_ov)\n",
    "\n",
    "data_motief_8 = filtered_student_ov.groupby(['Persoonskenmerken', 'Reismotieven']).sum().reset_index()\n",
    "data_motief_9 = data_motief_8[data_motief_8['Persoonskenmerken'] == 'OV-Studentenkaart: weekabonnement']\n",
    "index_names = data_motief_9[(data_motief_9['Reismotieven'] == 'Totaal')].index\n",
    "data_motief_9.drop(index_names, inplace = True)\n",
    "\n",
    "\n",
    "data_motief_weekend = data_motief_8[data_motief_8['Persoonskenmerken'] == 'OV-Studentenkaart: weekendabonnement']\n",
    "index_names = data_motief_weekend[(data_motief_weekend['Reismotieven'] == 'Totaal')].index\n",
    "data_motief_weekend.drop(index_names, inplace = True)\n",
    "\n",
    "data_motief_geen = data_motief_8[data_motief_8['Persoonskenmerken'] == 'OV-Studentenkaart: geen']\n",
    "index_names = data_motief_geen[(data_motief_geen['Reismotieven'] == 'Totaal')].index\n",
    "data_motief_geen.drop(index_names, inplace = True)\n",
    "\n",
    "\n"
   ]
  },
  {
   "cell_type": "code",
   "execution_count": 70,
   "id": "5febf3ba",
   "metadata": {},
   "outputs": [
    {
     "data": {
      "application/vnd.plotly.v1+json": {
       "config": {
        "plotlyServerURL": "https://plot.ly"
       },
       "data": [
        {
         "domain": {
          "x": [
           0,
           0.45
          ],
          "y": [
           0.625,
           1
          ]
         },
         "labels": [
          "Diensten, persoonlijke verzorging",
          "Onderwijs volgen, cursus, kinderopvang",
          "Overige reismotieven",
          "Toeren, wandelen",
          "Uitgaan, sport, hobby",
          "Van en naar het werk",
          "Visite, logeren",
          "Winkelen, boodschappen doen",
          "Zakelijk, beroepsmatig"
         ],
         "type": "pie",
         "values": [
          4.38,
          479.86,
          73.82000000000001,
          63.06,
          438.7,
          306.82,
          200.58,
          266.98,
          1.28
         ]
        },
        {
         "domain": {
          "x": [
           0.55,
           1
          ],
          "y": [
           0.625,
           1
          ]
         },
         "labels": [
          "Diensten, persoonlijke verzorging",
          "Onderwijs volgen, cursus, kinderopvang",
          "Overige reismotieven",
          "Toeren, wandelen",
          "Uitgaan, sport, hobby",
          "Van en naar het werk",
          "Visite, logeren",
          "Winkelen, boodschappen doen",
          "Zakelijk, beroepsmatig"
         ],
         "type": "pie",
         "values": [
          0,
          52.86,
          1.6800000000000002,
          2.6,
          55.28,
          2.1,
          16.64,
          66.32,
          0
         ]
        },
        {
         "domain": {
          "x": [
           0,
           0.45
          ],
          "y": [
           0,
           0.375
          ]
         },
         "labels": [
          "Diensten, persoonlijke verzorging",
          "Onderwijs volgen, cursus, kinderopvang",
          "Overige reismotieven",
          "Toeren, wandelen",
          "Uitgaan, sport, hobby",
          "Van en naar het werk",
          "Visite, logeren",
          "Winkelen, boodschappen doen",
          "Zakelijk, beroepsmatig"
         ],
         "type": "pie",
         "values": [
          115.09,
          190.71,
          495.65,
          394.62,
          647.82,
          750.29,
          414.05,
          907.87,
          121.67
         ]
        }
       ],
       "layout": {
        "annotations": [
         {
          "font": {
           "size": 16
          },
          "showarrow": false,
          "text": "Week OV",
          "x": 0.225,
          "xanchor": "center",
          "xref": "paper",
          "y": 1,
          "yanchor": "bottom",
          "yref": "paper"
         },
         {
          "font": {
           "size": 16
          },
          "showarrow": false,
          "text": "Weekend OV",
          "x": 0.775,
          "xanchor": "center",
          "xref": "paper",
          "y": 1,
          "yanchor": "bottom",
          "yref": "paper"
         },
         {
          "font": {
           "size": 16
          },
          "showarrow": false,
          "text": "Geen OV",
          "x": 0.225,
          "xanchor": "center",
          "xref": "paper",
          "y": 0.375,
          "yanchor": "bottom",
          "yref": "paper"
         }
        ],
        "height": 700,
        "legend": {
         "x": 0.5,
         "xanchor": "left",
         "y": 0,
         "yanchor": "bottom"
        },
        "showlegend": true,
        "template": {
         "data": {
          "bar": [
           {
            "error_x": {
             "color": "#2a3f5f"
            },
            "error_y": {
             "color": "#2a3f5f"
            },
            "marker": {
             "line": {
              "color": "#E5ECF6",
              "width": 0.5
             },
             "pattern": {
              "fillmode": "overlay",
              "size": 10,
              "solidity": 0.2
             }
            },
            "type": "bar"
           }
          ],
          "barpolar": [
           {
            "marker": {
             "line": {
              "color": "#E5ECF6",
              "width": 0.5
             },
             "pattern": {
              "fillmode": "overlay",
              "size": 10,
              "solidity": 0.2
             }
            },
            "type": "barpolar"
           }
          ],
          "carpet": [
           {
            "aaxis": {
             "endlinecolor": "#2a3f5f",
             "gridcolor": "white",
             "linecolor": "white",
             "minorgridcolor": "white",
             "startlinecolor": "#2a3f5f"
            },
            "baxis": {
             "endlinecolor": "#2a3f5f",
             "gridcolor": "white",
             "linecolor": "white",
             "minorgridcolor": "white",
             "startlinecolor": "#2a3f5f"
            },
            "type": "carpet"
           }
          ],
          "choropleth": [
           {
            "colorbar": {
             "outlinewidth": 0,
             "ticks": ""
            },
            "type": "choropleth"
           }
          ],
          "contour": [
           {
            "colorbar": {
             "outlinewidth": 0,
             "ticks": ""
            },
            "colorscale": [
             [
              0,
              "#0d0887"
             ],
             [
              0.1111111111111111,
              "#46039f"
             ],
             [
              0.2222222222222222,
              "#7201a8"
             ],
             [
              0.3333333333333333,
              "#9c179e"
             ],
             [
              0.4444444444444444,
              "#bd3786"
             ],
             [
              0.5555555555555556,
              "#d8576b"
             ],
             [
              0.6666666666666666,
              "#ed7953"
             ],
             [
              0.7777777777777778,
              "#fb9f3a"
             ],
             [
              0.8888888888888888,
              "#fdca26"
             ],
             [
              1,
              "#f0f921"
             ]
            ],
            "type": "contour"
           }
          ],
          "contourcarpet": [
           {
            "colorbar": {
             "outlinewidth": 0,
             "ticks": ""
            },
            "type": "contourcarpet"
           }
          ],
          "heatmap": [
           {
            "colorbar": {
             "outlinewidth": 0,
             "ticks": ""
            },
            "colorscale": [
             [
              0,
              "#0d0887"
             ],
             [
              0.1111111111111111,
              "#46039f"
             ],
             [
              0.2222222222222222,
              "#7201a8"
             ],
             [
              0.3333333333333333,
              "#9c179e"
             ],
             [
              0.4444444444444444,
              "#bd3786"
             ],
             [
              0.5555555555555556,
              "#d8576b"
             ],
             [
              0.6666666666666666,
              "#ed7953"
             ],
             [
              0.7777777777777778,
              "#fb9f3a"
             ],
             [
              0.8888888888888888,
              "#fdca26"
             ],
             [
              1,
              "#f0f921"
             ]
            ],
            "type": "heatmap"
           }
          ],
          "heatmapgl": [
           {
            "colorbar": {
             "outlinewidth": 0,
             "ticks": ""
            },
            "colorscale": [
             [
              0,
              "#0d0887"
             ],
             [
              0.1111111111111111,
              "#46039f"
             ],
             [
              0.2222222222222222,
              "#7201a8"
             ],
             [
              0.3333333333333333,
              "#9c179e"
             ],
             [
              0.4444444444444444,
              "#bd3786"
             ],
             [
              0.5555555555555556,
              "#d8576b"
             ],
             [
              0.6666666666666666,
              "#ed7953"
             ],
             [
              0.7777777777777778,
              "#fb9f3a"
             ],
             [
              0.8888888888888888,
              "#fdca26"
             ],
             [
              1,
              "#f0f921"
             ]
            ],
            "type": "heatmapgl"
           }
          ],
          "histogram": [
           {
            "marker": {
             "pattern": {
              "fillmode": "overlay",
              "size": 10,
              "solidity": 0.2
             }
            },
            "type": "histogram"
           }
          ],
          "histogram2d": [
           {
            "colorbar": {
             "outlinewidth": 0,
             "ticks": ""
            },
            "colorscale": [
             [
              0,
              "#0d0887"
             ],
             [
              0.1111111111111111,
              "#46039f"
             ],
             [
              0.2222222222222222,
              "#7201a8"
             ],
             [
              0.3333333333333333,
              "#9c179e"
             ],
             [
              0.4444444444444444,
              "#bd3786"
             ],
             [
              0.5555555555555556,
              "#d8576b"
             ],
             [
              0.6666666666666666,
              "#ed7953"
             ],
             [
              0.7777777777777778,
              "#fb9f3a"
             ],
             [
              0.8888888888888888,
              "#fdca26"
             ],
             [
              1,
              "#f0f921"
             ]
            ],
            "type": "histogram2d"
           }
          ],
          "histogram2dcontour": [
           {
            "colorbar": {
             "outlinewidth": 0,
             "ticks": ""
            },
            "colorscale": [
             [
              0,
              "#0d0887"
             ],
             [
              0.1111111111111111,
              "#46039f"
             ],
             [
              0.2222222222222222,
              "#7201a8"
             ],
             [
              0.3333333333333333,
              "#9c179e"
             ],
             [
              0.4444444444444444,
              "#bd3786"
             ],
             [
              0.5555555555555556,
              "#d8576b"
             ],
             [
              0.6666666666666666,
              "#ed7953"
             ],
             [
              0.7777777777777778,
              "#fb9f3a"
             ],
             [
              0.8888888888888888,
              "#fdca26"
             ],
             [
              1,
              "#f0f921"
             ]
            ],
            "type": "histogram2dcontour"
           }
          ],
          "mesh3d": [
           {
            "colorbar": {
             "outlinewidth": 0,
             "ticks": ""
            },
            "type": "mesh3d"
           }
          ],
          "parcoords": [
           {
            "line": {
             "colorbar": {
              "outlinewidth": 0,
              "ticks": ""
             }
            },
            "type": "parcoords"
           }
          ],
          "pie": [
           {
            "automargin": true,
            "type": "pie"
           }
          ],
          "scatter": [
           {
            "fillpattern": {
             "fillmode": "overlay",
             "size": 10,
             "solidity": 0.2
            },
            "type": "scatter"
           }
          ],
          "scatter3d": [
           {
            "line": {
             "colorbar": {
              "outlinewidth": 0,
              "ticks": ""
             }
            },
            "marker": {
             "colorbar": {
              "outlinewidth": 0,
              "ticks": ""
             }
            },
            "type": "scatter3d"
           }
          ],
          "scattercarpet": [
           {
            "marker": {
             "colorbar": {
              "outlinewidth": 0,
              "ticks": ""
             }
            },
            "type": "scattercarpet"
           }
          ],
          "scattergeo": [
           {
            "marker": {
             "colorbar": {
              "outlinewidth": 0,
              "ticks": ""
             }
            },
            "type": "scattergeo"
           }
          ],
          "scattergl": [
           {
            "marker": {
             "colorbar": {
              "outlinewidth": 0,
              "ticks": ""
             }
            },
            "type": "scattergl"
           }
          ],
          "scattermapbox": [
           {
            "marker": {
             "colorbar": {
              "outlinewidth": 0,
              "ticks": ""
             }
            },
            "type": "scattermapbox"
           }
          ],
          "scatterpolar": [
           {
            "marker": {
             "colorbar": {
              "outlinewidth": 0,
              "ticks": ""
             }
            },
            "type": "scatterpolar"
           }
          ],
          "scatterpolargl": [
           {
            "marker": {
             "colorbar": {
              "outlinewidth": 0,
              "ticks": ""
             }
            },
            "type": "scatterpolargl"
           }
          ],
          "scatterternary": [
           {
            "marker": {
             "colorbar": {
              "outlinewidth": 0,
              "ticks": ""
             }
            },
            "type": "scatterternary"
           }
          ],
          "surface": [
           {
            "colorbar": {
             "outlinewidth": 0,
             "ticks": ""
            },
            "colorscale": [
             [
              0,
              "#0d0887"
             ],
             [
              0.1111111111111111,
              "#46039f"
             ],
             [
              0.2222222222222222,
              "#7201a8"
             ],
             [
              0.3333333333333333,
              "#9c179e"
             ],
             [
              0.4444444444444444,
              "#bd3786"
             ],
             [
              0.5555555555555556,
              "#d8576b"
             ],
             [
              0.6666666666666666,
              "#ed7953"
             ],
             [
              0.7777777777777778,
              "#fb9f3a"
             ],
             [
              0.8888888888888888,
              "#fdca26"
             ],
             [
              1,
              "#f0f921"
             ]
            ],
            "type": "surface"
           }
          ],
          "table": [
           {
            "cells": {
             "fill": {
              "color": "#EBF0F8"
             },
             "line": {
              "color": "white"
             }
            },
            "header": {
             "fill": {
              "color": "#C8D4E3"
             },
             "line": {
              "color": "white"
             }
            },
            "type": "table"
           }
          ]
         },
         "layout": {
          "annotationdefaults": {
           "arrowcolor": "#2a3f5f",
           "arrowhead": 0,
           "arrowwidth": 1
          },
          "autotypenumbers": "strict",
          "coloraxis": {
           "colorbar": {
            "outlinewidth": 0,
            "ticks": ""
           }
          },
          "colorscale": {
           "diverging": [
            [
             0,
             "#8e0152"
            ],
            [
             0.1,
             "#c51b7d"
            ],
            [
             0.2,
             "#de77ae"
            ],
            [
             0.3,
             "#f1b6da"
            ],
            [
             0.4,
             "#fde0ef"
            ],
            [
             0.5,
             "#f7f7f7"
            ],
            [
             0.6,
             "#e6f5d0"
            ],
            [
             0.7,
             "#b8e186"
            ],
            [
             0.8,
             "#7fbc41"
            ],
            [
             0.9,
             "#4d9221"
            ],
            [
             1,
             "#276419"
            ]
           ],
           "sequential": [
            [
             0,
             "#0d0887"
            ],
            [
             0.1111111111111111,
             "#46039f"
            ],
            [
             0.2222222222222222,
             "#7201a8"
            ],
            [
             0.3333333333333333,
             "#9c179e"
            ],
            [
             0.4444444444444444,
             "#bd3786"
            ],
            [
             0.5555555555555556,
             "#d8576b"
            ],
            [
             0.6666666666666666,
             "#ed7953"
            ],
            [
             0.7777777777777778,
             "#fb9f3a"
            ],
            [
             0.8888888888888888,
             "#fdca26"
            ],
            [
             1,
             "#f0f921"
            ]
           ],
           "sequentialminus": [
            [
             0,
             "#0d0887"
            ],
            [
             0.1111111111111111,
             "#46039f"
            ],
            [
             0.2222222222222222,
             "#7201a8"
            ],
            [
             0.3333333333333333,
             "#9c179e"
            ],
            [
             0.4444444444444444,
             "#bd3786"
            ],
            [
             0.5555555555555556,
             "#d8576b"
            ],
            [
             0.6666666666666666,
             "#ed7953"
            ],
            [
             0.7777777777777778,
             "#fb9f3a"
            ],
            [
             0.8888888888888888,
             "#fdca26"
            ],
            [
             1,
             "#f0f921"
            ]
           ]
          },
          "colorway": [
           "#636efa",
           "#EF553B",
           "#00cc96",
           "#ab63fa",
           "#FFA15A",
           "#19d3f3",
           "#FF6692",
           "#B6E880",
           "#FF97FF",
           "#FECB52"
          ],
          "font": {
           "color": "#2a3f5f"
          },
          "geo": {
           "bgcolor": "white",
           "lakecolor": "white",
           "landcolor": "#E5ECF6",
           "showlakes": true,
           "showland": true,
           "subunitcolor": "white"
          },
          "hoverlabel": {
           "align": "left"
          },
          "hovermode": "closest",
          "mapbox": {
           "style": "light"
          },
          "paper_bgcolor": "white",
          "plot_bgcolor": "#E5ECF6",
          "polar": {
           "angularaxis": {
            "gridcolor": "white",
            "linecolor": "white",
            "ticks": ""
           },
           "bgcolor": "#E5ECF6",
           "radialaxis": {
            "gridcolor": "white",
            "linecolor": "white",
            "ticks": ""
           }
          },
          "scene": {
           "xaxis": {
            "backgroundcolor": "#E5ECF6",
            "gridcolor": "white",
            "gridwidth": 2,
            "linecolor": "white",
            "showbackground": true,
            "ticks": "",
            "zerolinecolor": "white"
           },
           "yaxis": {
            "backgroundcolor": "#E5ECF6",
            "gridcolor": "white",
            "gridwidth": 2,
            "linecolor": "white",
            "showbackground": true,
            "ticks": "",
            "zerolinecolor": "white"
           },
           "zaxis": {
            "backgroundcolor": "#E5ECF6",
            "gridcolor": "white",
            "gridwidth": 2,
            "linecolor": "white",
            "showbackground": true,
            "ticks": "",
            "zerolinecolor": "white"
           }
          },
          "shapedefaults": {
           "line": {
            "color": "#2a3f5f"
           }
          },
          "ternary": {
           "aaxis": {
            "gridcolor": "white",
            "linecolor": "white",
            "ticks": ""
           },
           "baxis": {
            "gridcolor": "white",
            "linecolor": "white",
            "ticks": ""
           },
           "bgcolor": "#E5ECF6",
           "caxis": {
            "gridcolor": "white",
            "linecolor": "white",
            "ticks": ""
           }
          },
          "title": {
           "x": 0.05
          },
          "xaxis": {
           "automargin": true,
           "gridcolor": "white",
           "linecolor": "white",
           "ticks": "",
           "title": {
            "standoff": 15
           },
           "zerolinecolor": "white",
           "zerolinewidth": 2
          },
          "yaxis": {
           "automargin": true,
           "gridcolor": "white",
           "linecolor": "white",
           "ticks": "",
           "title": {
            "standoff": 15
           },
           "zerolinecolor": "white",
           "zerolinewidth": 2
          }
         }
        },
        "title": {
         "text": "Reismotieven studenten OV "
        },
        "width": 1000
       }
      },
      "text/html": [
       "<div>                            <div id=\"cd70473b-0469-4948-bfda-51e969c4d9a0\" class=\"plotly-graph-div\" style=\"height:700px; width:1000px;\"></div>            <script type=\"text/javascript\">                require([\"plotly\"], function(Plotly) {                    window.PLOTLYENV=window.PLOTLYENV || {};                                    if (document.getElementById(\"cd70473b-0469-4948-bfda-51e969c4d9a0\")) {                    Plotly.newPlot(                        \"cd70473b-0469-4948-bfda-51e969c4d9a0\",                        [{\"labels\":[\"Diensten, persoonlijke verzorging\",\"Onderwijs volgen, cursus, kinderopvang\",\"Overige reismotieven\",\"Toeren, wandelen\",\"Uitgaan, sport, hobby\",\"Van en naar het werk\",\"Visite, logeren\",\"Winkelen, boodschappen doen\",\"Zakelijk, beroepsmatig\"],\"values\":[4.38,479.86,73.82000000000001,63.06,438.7,306.82,200.58,266.98,1.28],\"type\":\"pie\",\"domain\":{\"x\":[0.0,0.45],\"y\":[0.625,1.0]}},{\"labels\":[\"Diensten, persoonlijke verzorging\",\"Onderwijs volgen, cursus, kinderopvang\",\"Overige reismotieven\",\"Toeren, wandelen\",\"Uitgaan, sport, hobby\",\"Van en naar het werk\",\"Visite, logeren\",\"Winkelen, boodschappen doen\",\"Zakelijk, beroepsmatig\"],\"values\":[0.0,52.86,1.6800000000000002,2.6,55.28,2.1,16.64,66.32,0.0],\"type\":\"pie\",\"domain\":{\"x\":[0.55,1.0],\"y\":[0.625,1.0]}},{\"labels\":[\"Diensten, persoonlijke verzorging\",\"Onderwijs volgen, cursus, kinderopvang\",\"Overige reismotieven\",\"Toeren, wandelen\",\"Uitgaan, sport, hobby\",\"Van en naar het werk\",\"Visite, logeren\",\"Winkelen, boodschappen doen\",\"Zakelijk, beroepsmatig\"],\"values\":[115.09,190.71,495.65,394.62,647.82,750.29,414.05,907.87,121.67],\"type\":\"pie\",\"domain\":{\"x\":[0.0,0.45],\"y\":[0.0,0.375]}}],                        {\"template\":{\"data\":{\"histogram2dcontour\":[{\"type\":\"histogram2dcontour\",\"colorbar\":{\"outlinewidth\":0,\"ticks\":\"\"},\"colorscale\":[[0.0,\"#0d0887\"],[0.1111111111111111,\"#46039f\"],[0.2222222222222222,\"#7201a8\"],[0.3333333333333333,\"#9c179e\"],[0.4444444444444444,\"#bd3786\"],[0.5555555555555556,\"#d8576b\"],[0.6666666666666666,\"#ed7953\"],[0.7777777777777778,\"#fb9f3a\"],[0.8888888888888888,\"#fdca26\"],[1.0,\"#f0f921\"]]}],\"choropleth\":[{\"type\":\"choropleth\",\"colorbar\":{\"outlinewidth\":0,\"ticks\":\"\"}}],\"histogram2d\":[{\"type\":\"histogram2d\",\"colorbar\":{\"outlinewidth\":0,\"ticks\":\"\"},\"colorscale\":[[0.0,\"#0d0887\"],[0.1111111111111111,\"#46039f\"],[0.2222222222222222,\"#7201a8\"],[0.3333333333333333,\"#9c179e\"],[0.4444444444444444,\"#bd3786\"],[0.5555555555555556,\"#d8576b\"],[0.6666666666666666,\"#ed7953\"],[0.7777777777777778,\"#fb9f3a\"],[0.8888888888888888,\"#fdca26\"],[1.0,\"#f0f921\"]]}],\"heatmap\":[{\"type\":\"heatmap\",\"colorbar\":{\"outlinewidth\":0,\"ticks\":\"\"},\"colorscale\":[[0.0,\"#0d0887\"],[0.1111111111111111,\"#46039f\"],[0.2222222222222222,\"#7201a8\"],[0.3333333333333333,\"#9c179e\"],[0.4444444444444444,\"#bd3786\"],[0.5555555555555556,\"#d8576b\"],[0.6666666666666666,\"#ed7953\"],[0.7777777777777778,\"#fb9f3a\"],[0.8888888888888888,\"#fdca26\"],[1.0,\"#f0f921\"]]}],\"heatmapgl\":[{\"type\":\"heatmapgl\",\"colorbar\":{\"outlinewidth\":0,\"ticks\":\"\"},\"colorscale\":[[0.0,\"#0d0887\"],[0.1111111111111111,\"#46039f\"],[0.2222222222222222,\"#7201a8\"],[0.3333333333333333,\"#9c179e\"],[0.4444444444444444,\"#bd3786\"],[0.5555555555555556,\"#d8576b\"],[0.6666666666666666,\"#ed7953\"],[0.7777777777777778,\"#fb9f3a\"],[0.8888888888888888,\"#fdca26\"],[1.0,\"#f0f921\"]]}],\"contourcarpet\":[{\"type\":\"contourcarpet\",\"colorbar\":{\"outlinewidth\":0,\"ticks\":\"\"}}],\"contour\":[{\"type\":\"contour\",\"colorbar\":{\"outlinewidth\":0,\"ticks\":\"\"},\"colorscale\":[[0.0,\"#0d0887\"],[0.1111111111111111,\"#46039f\"],[0.2222222222222222,\"#7201a8\"],[0.3333333333333333,\"#9c179e\"],[0.4444444444444444,\"#bd3786\"],[0.5555555555555556,\"#d8576b\"],[0.6666666666666666,\"#ed7953\"],[0.7777777777777778,\"#fb9f3a\"],[0.8888888888888888,\"#fdca26\"],[1.0,\"#f0f921\"]]}],\"surface\":[{\"type\":\"surface\",\"colorbar\":{\"outlinewidth\":0,\"ticks\":\"\"},\"colorscale\":[[0.0,\"#0d0887\"],[0.1111111111111111,\"#46039f\"],[0.2222222222222222,\"#7201a8\"],[0.3333333333333333,\"#9c179e\"],[0.4444444444444444,\"#bd3786\"],[0.5555555555555556,\"#d8576b\"],[0.6666666666666666,\"#ed7953\"],[0.7777777777777778,\"#fb9f3a\"],[0.8888888888888888,\"#fdca26\"],[1.0,\"#f0f921\"]]}],\"mesh3d\":[{\"type\":\"mesh3d\",\"colorbar\":{\"outlinewidth\":0,\"ticks\":\"\"}}],\"scatter\":[{\"fillpattern\":{\"fillmode\":\"overlay\",\"size\":10,\"solidity\":0.2},\"type\":\"scatter\"}],\"parcoords\":[{\"type\":\"parcoords\",\"line\":{\"colorbar\":{\"outlinewidth\":0,\"ticks\":\"\"}}}],\"scatterpolargl\":[{\"type\":\"scatterpolargl\",\"marker\":{\"colorbar\":{\"outlinewidth\":0,\"ticks\":\"\"}}}],\"bar\":[{\"error_x\":{\"color\":\"#2a3f5f\"},\"error_y\":{\"color\":\"#2a3f5f\"},\"marker\":{\"line\":{\"color\":\"#E5ECF6\",\"width\":0.5},\"pattern\":{\"fillmode\":\"overlay\",\"size\":10,\"solidity\":0.2}},\"type\":\"bar\"}],\"scattergeo\":[{\"type\":\"scattergeo\",\"marker\":{\"colorbar\":{\"outlinewidth\":0,\"ticks\":\"\"}}}],\"scatterpolar\":[{\"type\":\"scatterpolar\",\"marker\":{\"colorbar\":{\"outlinewidth\":0,\"ticks\":\"\"}}}],\"histogram\":[{\"marker\":{\"pattern\":{\"fillmode\":\"overlay\",\"size\":10,\"solidity\":0.2}},\"type\":\"histogram\"}],\"scattergl\":[{\"type\":\"scattergl\",\"marker\":{\"colorbar\":{\"outlinewidth\":0,\"ticks\":\"\"}}}],\"scatter3d\":[{\"type\":\"scatter3d\",\"line\":{\"colorbar\":{\"outlinewidth\":0,\"ticks\":\"\"}},\"marker\":{\"colorbar\":{\"outlinewidth\":0,\"ticks\":\"\"}}}],\"scattermapbox\":[{\"type\":\"scattermapbox\",\"marker\":{\"colorbar\":{\"outlinewidth\":0,\"ticks\":\"\"}}}],\"scatterternary\":[{\"type\":\"scatterternary\",\"marker\":{\"colorbar\":{\"outlinewidth\":0,\"ticks\":\"\"}}}],\"scattercarpet\":[{\"type\":\"scattercarpet\",\"marker\":{\"colorbar\":{\"outlinewidth\":0,\"ticks\":\"\"}}}],\"carpet\":[{\"aaxis\":{\"endlinecolor\":\"#2a3f5f\",\"gridcolor\":\"white\",\"linecolor\":\"white\",\"minorgridcolor\":\"white\",\"startlinecolor\":\"#2a3f5f\"},\"baxis\":{\"endlinecolor\":\"#2a3f5f\",\"gridcolor\":\"white\",\"linecolor\":\"white\",\"minorgridcolor\":\"white\",\"startlinecolor\":\"#2a3f5f\"},\"type\":\"carpet\"}],\"table\":[{\"cells\":{\"fill\":{\"color\":\"#EBF0F8\"},\"line\":{\"color\":\"white\"}},\"header\":{\"fill\":{\"color\":\"#C8D4E3\"},\"line\":{\"color\":\"white\"}},\"type\":\"table\"}],\"barpolar\":[{\"marker\":{\"line\":{\"color\":\"#E5ECF6\",\"width\":0.5},\"pattern\":{\"fillmode\":\"overlay\",\"size\":10,\"solidity\":0.2}},\"type\":\"barpolar\"}],\"pie\":[{\"automargin\":true,\"type\":\"pie\"}]},\"layout\":{\"autotypenumbers\":\"strict\",\"colorway\":[\"#636efa\",\"#EF553B\",\"#00cc96\",\"#ab63fa\",\"#FFA15A\",\"#19d3f3\",\"#FF6692\",\"#B6E880\",\"#FF97FF\",\"#FECB52\"],\"font\":{\"color\":\"#2a3f5f\"},\"hovermode\":\"closest\",\"hoverlabel\":{\"align\":\"left\"},\"paper_bgcolor\":\"white\",\"plot_bgcolor\":\"#E5ECF6\",\"polar\":{\"bgcolor\":\"#E5ECF6\",\"angularaxis\":{\"gridcolor\":\"white\",\"linecolor\":\"white\",\"ticks\":\"\"},\"radialaxis\":{\"gridcolor\":\"white\",\"linecolor\":\"white\",\"ticks\":\"\"}},\"ternary\":{\"bgcolor\":\"#E5ECF6\",\"aaxis\":{\"gridcolor\":\"white\",\"linecolor\":\"white\",\"ticks\":\"\"},\"baxis\":{\"gridcolor\":\"white\",\"linecolor\":\"white\",\"ticks\":\"\"},\"caxis\":{\"gridcolor\":\"white\",\"linecolor\":\"white\",\"ticks\":\"\"}},\"coloraxis\":{\"colorbar\":{\"outlinewidth\":0,\"ticks\":\"\"}},\"colorscale\":{\"sequential\":[[0.0,\"#0d0887\"],[0.1111111111111111,\"#46039f\"],[0.2222222222222222,\"#7201a8\"],[0.3333333333333333,\"#9c179e\"],[0.4444444444444444,\"#bd3786\"],[0.5555555555555556,\"#d8576b\"],[0.6666666666666666,\"#ed7953\"],[0.7777777777777778,\"#fb9f3a\"],[0.8888888888888888,\"#fdca26\"],[1.0,\"#f0f921\"]],\"sequentialminus\":[[0.0,\"#0d0887\"],[0.1111111111111111,\"#46039f\"],[0.2222222222222222,\"#7201a8\"],[0.3333333333333333,\"#9c179e\"],[0.4444444444444444,\"#bd3786\"],[0.5555555555555556,\"#d8576b\"],[0.6666666666666666,\"#ed7953\"],[0.7777777777777778,\"#fb9f3a\"],[0.8888888888888888,\"#fdca26\"],[1.0,\"#f0f921\"]],\"diverging\":[[0,\"#8e0152\"],[0.1,\"#c51b7d\"],[0.2,\"#de77ae\"],[0.3,\"#f1b6da\"],[0.4,\"#fde0ef\"],[0.5,\"#f7f7f7\"],[0.6,\"#e6f5d0\"],[0.7,\"#b8e186\"],[0.8,\"#7fbc41\"],[0.9,\"#4d9221\"],[1,\"#276419\"]]},\"xaxis\":{\"gridcolor\":\"white\",\"linecolor\":\"white\",\"ticks\":\"\",\"title\":{\"standoff\":15},\"zerolinecolor\":\"white\",\"automargin\":true,\"zerolinewidth\":2},\"yaxis\":{\"gridcolor\":\"white\",\"linecolor\":\"white\",\"ticks\":\"\",\"title\":{\"standoff\":15},\"zerolinecolor\":\"white\",\"automargin\":true,\"zerolinewidth\":2},\"scene\":{\"xaxis\":{\"backgroundcolor\":\"#E5ECF6\",\"gridcolor\":\"white\",\"linecolor\":\"white\",\"showbackground\":true,\"ticks\":\"\",\"zerolinecolor\":\"white\",\"gridwidth\":2},\"yaxis\":{\"backgroundcolor\":\"#E5ECF6\",\"gridcolor\":\"white\",\"linecolor\":\"white\",\"showbackground\":true,\"ticks\":\"\",\"zerolinecolor\":\"white\",\"gridwidth\":2},\"zaxis\":{\"backgroundcolor\":\"#E5ECF6\",\"gridcolor\":\"white\",\"linecolor\":\"white\",\"showbackground\":true,\"ticks\":\"\",\"zerolinecolor\":\"white\",\"gridwidth\":2}},\"shapedefaults\":{\"line\":{\"color\":\"#2a3f5f\"}},\"annotationdefaults\":{\"arrowcolor\":\"#2a3f5f\",\"arrowhead\":0,\"arrowwidth\":1},\"geo\":{\"bgcolor\":\"white\",\"landcolor\":\"#E5ECF6\",\"subunitcolor\":\"white\",\"showland\":true,\"showlakes\":true,\"lakecolor\":\"white\"},\"title\":{\"x\":0.05},\"mapbox\":{\"style\":\"light\"}}},\"annotations\":[{\"font\":{\"size\":16},\"showarrow\":false,\"text\":\"Week OV\",\"x\":0.225,\"xanchor\":\"center\",\"xref\":\"paper\",\"y\":1.0,\"yanchor\":\"bottom\",\"yref\":\"paper\"},{\"font\":{\"size\":16},\"showarrow\":false,\"text\":\"Weekend OV\",\"x\":0.775,\"xanchor\":\"center\",\"xref\":\"paper\",\"y\":1.0,\"yanchor\":\"bottom\",\"yref\":\"paper\"},{\"font\":{\"size\":16},\"showarrow\":false,\"text\":\"Geen OV\",\"x\":0.225,\"xanchor\":\"center\",\"xref\":\"paper\",\"y\":0.375,\"yanchor\":\"bottom\",\"yref\":\"paper\"}],\"title\":{\"text\":\"Reismotieven studenten OV \"},\"height\":700,\"width\":1000,\"showlegend\":true,\"legend\":{\"yanchor\":\"bottom\",\"y\":0,\"xanchor\":\"left\",\"x\":0.5}},                        {\"responsive\": true}                    ).then(function(){\n",
       "                            \n",
       "var gd = document.getElementById('cd70473b-0469-4948-bfda-51e969c4d9a0');\n",
       "var x = new MutationObserver(function (mutations, observer) {{\n",
       "        var display = window.getComputedStyle(gd).display;\n",
       "        if (!display || display === 'none') {{\n",
       "            console.log([gd, 'removed!']);\n",
       "            Plotly.purge(gd);\n",
       "            observer.disconnect();\n",
       "        }}\n",
       "}});\n",
       "\n",
       "// Listen for the removal of the full notebook cells\n",
       "var notebookContainer = gd.closest('#notebook-container');\n",
       "if (notebookContainer) {{\n",
       "    x.observe(notebookContainer, {childList: true});\n",
       "}}\n",
       "\n",
       "// Listen for the clearing of the current output cell\n",
       "var outputEl = gd.closest('.output');\n",
       "if (outputEl) {{\n",
       "    x.observe(outputEl, {childList: true});\n",
       "}}\n",
       "\n",
       "                        })                };                });            </script>        </div>"
      ]
     },
     "metadata": {},
     "output_type": "display_data"
    }
   ],
   "source": [
    "#Subplotjes\n",
    "from plotly.subplots import make_subplots\n",
    "import plotly.graph_objects as go\n",
    "\n",
    "specs = [[{'type':'domain'}, {'type':'domain'}], [{'type':'domain'}, {'type':'domain'}]]\n",
    "fig = make_subplots(\n",
    "    rows=2, cols=2,\n",
    "    subplot_titles=(\"Week OV\", \"Weekend OV\", \"Geen OV\"), \n",
    "    specs = specs)\n",
    "\n",
    "fig.add_trace(go.Pie(values = data_motief_hoi['Verplaatsingen_1'], labels = data_motief_hoi['Reismotieven']), row=1, col=1)\n",
    "\n",
    "fig.add_trace(go.Pie(values = data_motief_weekend['Verplaatsingen_1'], labels = data_motief_weekend['Reismotieven']), row=1, col=2)\n",
    "fig.add_trace(go.Pie(values = data_motief_geen['Verplaatsingen_1'], labels = data_motief_geen['Reismotieven']), row=2, col=1)\n",
    "\n",
    "fig.update_layout(height=700, width=1000,\n",
    "                  title_text=\"Reismotieven studenten OV \")\n",
    "fig.update_layout(showlegend = True)\n",
    "fig.update_layout(legend=dict(\n",
    "    yanchor=\"bottom\",\n",
    "    y=0,\n",
    "    xanchor=\"left\",\n",
    "    x=0.5\n",
    "))\n",
    "\n",
    "fig.show()\n",
    "\n"
   ]
  },
  {
   "cell_type": "markdown",
   "id": "b0618e48",
   "metadata": {},
   "source": [
    "In the pie charts above the travel motives are shown for different student pass categories. A very big difference is shown between in how many trips is used for going to school. If students have acces to a public transport pass the percentage difference between these groups are not very big, but if there is no acces to a public transport pass the number of trips used for going to school is significantly smaller. \n",
    "\n",
    "Students with a weekend public transport pass the biggest part of their trips is because of shopping and for free time activities, but for students with a weekend public transport pass is it for free time activities and going to school. Also students with a week public transport pass are using a lot more trips for going to work then students with a weekend pass. \n",
    "The distribution of travel motives for having no acces to public transport pass is different from having acces. These travel motives are more distributed over all the possible motives, but the people with no acces are having more trips during the years. This last point is shown in the bar plot figure in travel displacements and personal characteristics. \n",
    "\n"
   ]
  },
  {
   "cell_type": "code",
   "execution_count": 48,
   "id": "85642ab2",
   "metadata": {},
   "outputs": [
    {
     "data": {
      "application/vnd.plotly.v1+json": {
       "config": {
        "plotlyServerURL": "https://plot.ly"
       },
       "data": [
        {
         "domain": {
          "x": [
           0,
           0.45
          ],
          "y": [
           0.625,
           1
          ]
         },
         "labels": [
          "Diensten, persoonlijke verzorging",
          "Onderwijs volgen, cursus, kinderopvang",
          "Overige reismotieven",
          "Toeren, wandelen",
          "Uitgaan, sport, hobby",
          "Van en naar het werk",
          "Visite, logeren",
          "Winkelen, boodschappen doen",
          "Zakelijk, beroepsmatig"
         ],
         "type": "pie",
         "values": [
          107.72,
          23654.88,
          1951.1399999999999,
          3999.32,
          12967.06,
          7639.94,
          6780.86,
          4168.16,
          36.76
         ]
        },
        {
         "domain": {
          "x": [
           0.55,
           1
          ],
          "y": [
           0.625,
           1
          ]
         },
         "labels": [
          "Diensten, persoonlijke verzorging",
          "Onderwijs volgen, cursus, kinderopvang",
          "Overige reismotieven",
          "Toeren, wandelen",
          "Uitgaan, sport, hobby",
          "Van en naar het werk",
          "Visite, logeren",
          "Winkelen, boodschappen doen",
          "Zakelijk, beroepsmatig"
         ],
         "type": "pie",
         "values": [
          0,
          851.5,
          0,
          166.45999999999998,
          1566.06,
          56.480000000000004,
          488.34,
          696.66,
          0
         ]
        },
        {
         "domain": {
          "x": [
           0,
           0.45
          ],
          "y": [
           0,
           0.375
          ]
         },
         "labels": [
          "Diensten, persoonlijke verzorging",
          "Onderwijs volgen, cursus, kinderopvang",
          "Overige reismotieven",
          "Toeren, wandelen",
          "Uitgaan, sport, hobby",
          "Van en naar het werk",
          "Visite, logeren",
          "Winkelen, boodschappen doen",
          "Zakelijk, beroepsmatig"
         ],
         "type": "pie",
         "values": [
          2161.96,
          4188.61,
          8391.24,
          24781.45,
          19669.46,
          20693.55,
          11573.62,
          12827.01,
          4275.63
         ]
        }
       ],
       "layout": {
        "annotations": [
         {
          "font": {
           "size": 16
          },
          "showarrow": false,
          "text": "Week OV",
          "x": 0.225,
          "xanchor": "center",
          "xref": "paper",
          "y": 1,
          "yanchor": "bottom",
          "yref": "paper"
         },
         {
          "font": {
           "size": 16
          },
          "showarrow": false,
          "text": "Weekend OV",
          "x": 0.775,
          "xanchor": "center",
          "xref": "paper",
          "y": 1,
          "yanchor": "bottom",
          "yref": "paper"
         },
         {
          "font": {
           "size": 16
          },
          "showarrow": false,
          "text": "Geen OV",
          "x": 0.225,
          "xanchor": "center",
          "xref": "paper",
          "y": 0.375,
          "yanchor": "bottom",
          "yref": "paper"
         }
        ],
        "height": 700,
        "legend": {
         "x": 0.7,
         "xanchor": "left",
         "y": 0,
         "yanchor": "bottom"
        },
        "showlegend": true,
        "template": {
         "data": {
          "bar": [
           {
            "error_x": {
             "color": "#2a3f5f"
            },
            "error_y": {
             "color": "#2a3f5f"
            },
            "marker": {
             "line": {
              "color": "#E5ECF6",
              "width": 0.5
             },
             "pattern": {
              "fillmode": "overlay",
              "size": 10,
              "solidity": 0.2
             }
            },
            "type": "bar"
           }
          ],
          "barpolar": [
           {
            "marker": {
             "line": {
              "color": "#E5ECF6",
              "width": 0.5
             },
             "pattern": {
              "fillmode": "overlay",
              "size": 10,
              "solidity": 0.2
             }
            },
            "type": "barpolar"
           }
          ],
          "carpet": [
           {
            "aaxis": {
             "endlinecolor": "#2a3f5f",
             "gridcolor": "white",
             "linecolor": "white",
             "minorgridcolor": "white",
             "startlinecolor": "#2a3f5f"
            },
            "baxis": {
             "endlinecolor": "#2a3f5f",
             "gridcolor": "white",
             "linecolor": "white",
             "minorgridcolor": "white",
             "startlinecolor": "#2a3f5f"
            },
            "type": "carpet"
           }
          ],
          "choropleth": [
           {
            "colorbar": {
             "outlinewidth": 0,
             "ticks": ""
            },
            "type": "choropleth"
           }
          ],
          "contour": [
           {
            "colorbar": {
             "outlinewidth": 0,
             "ticks": ""
            },
            "colorscale": [
             [
              0,
              "#0d0887"
             ],
             [
              0.1111111111111111,
              "#46039f"
             ],
             [
              0.2222222222222222,
              "#7201a8"
             ],
             [
              0.3333333333333333,
              "#9c179e"
             ],
             [
              0.4444444444444444,
              "#bd3786"
             ],
             [
              0.5555555555555556,
              "#d8576b"
             ],
             [
              0.6666666666666666,
              "#ed7953"
             ],
             [
              0.7777777777777778,
              "#fb9f3a"
             ],
             [
              0.8888888888888888,
              "#fdca26"
             ],
             [
              1,
              "#f0f921"
             ]
            ],
            "type": "contour"
           }
          ],
          "contourcarpet": [
           {
            "colorbar": {
             "outlinewidth": 0,
             "ticks": ""
            },
            "type": "contourcarpet"
           }
          ],
          "heatmap": [
           {
            "colorbar": {
             "outlinewidth": 0,
             "ticks": ""
            },
            "colorscale": [
             [
              0,
              "#0d0887"
             ],
             [
              0.1111111111111111,
              "#46039f"
             ],
             [
              0.2222222222222222,
              "#7201a8"
             ],
             [
              0.3333333333333333,
              "#9c179e"
             ],
             [
              0.4444444444444444,
              "#bd3786"
             ],
             [
              0.5555555555555556,
              "#d8576b"
             ],
             [
              0.6666666666666666,
              "#ed7953"
             ],
             [
              0.7777777777777778,
              "#fb9f3a"
             ],
             [
              0.8888888888888888,
              "#fdca26"
             ],
             [
              1,
              "#f0f921"
             ]
            ],
            "type": "heatmap"
           }
          ],
          "heatmapgl": [
           {
            "colorbar": {
             "outlinewidth": 0,
             "ticks": ""
            },
            "colorscale": [
             [
              0,
              "#0d0887"
             ],
             [
              0.1111111111111111,
              "#46039f"
             ],
             [
              0.2222222222222222,
              "#7201a8"
             ],
             [
              0.3333333333333333,
              "#9c179e"
             ],
             [
              0.4444444444444444,
              "#bd3786"
             ],
             [
              0.5555555555555556,
              "#d8576b"
             ],
             [
              0.6666666666666666,
              "#ed7953"
             ],
             [
              0.7777777777777778,
              "#fb9f3a"
             ],
             [
              0.8888888888888888,
              "#fdca26"
             ],
             [
              1,
              "#f0f921"
             ]
            ],
            "type": "heatmapgl"
           }
          ],
          "histogram": [
           {
            "marker": {
             "pattern": {
              "fillmode": "overlay",
              "size": 10,
              "solidity": 0.2
             }
            },
            "type": "histogram"
           }
          ],
          "histogram2d": [
           {
            "colorbar": {
             "outlinewidth": 0,
             "ticks": ""
            },
            "colorscale": [
             [
              0,
              "#0d0887"
             ],
             [
              0.1111111111111111,
              "#46039f"
             ],
             [
              0.2222222222222222,
              "#7201a8"
             ],
             [
              0.3333333333333333,
              "#9c179e"
             ],
             [
              0.4444444444444444,
              "#bd3786"
             ],
             [
              0.5555555555555556,
              "#d8576b"
             ],
             [
              0.6666666666666666,
              "#ed7953"
             ],
             [
              0.7777777777777778,
              "#fb9f3a"
             ],
             [
              0.8888888888888888,
              "#fdca26"
             ],
             [
              1,
              "#f0f921"
             ]
            ],
            "type": "histogram2d"
           }
          ],
          "histogram2dcontour": [
           {
            "colorbar": {
             "outlinewidth": 0,
             "ticks": ""
            },
            "colorscale": [
             [
              0,
              "#0d0887"
             ],
             [
              0.1111111111111111,
              "#46039f"
             ],
             [
              0.2222222222222222,
              "#7201a8"
             ],
             [
              0.3333333333333333,
              "#9c179e"
             ],
             [
              0.4444444444444444,
              "#bd3786"
             ],
             [
              0.5555555555555556,
              "#d8576b"
             ],
             [
              0.6666666666666666,
              "#ed7953"
             ],
             [
              0.7777777777777778,
              "#fb9f3a"
             ],
             [
              0.8888888888888888,
              "#fdca26"
             ],
             [
              1,
              "#f0f921"
             ]
            ],
            "type": "histogram2dcontour"
           }
          ],
          "mesh3d": [
           {
            "colorbar": {
             "outlinewidth": 0,
             "ticks": ""
            },
            "type": "mesh3d"
           }
          ],
          "parcoords": [
           {
            "line": {
             "colorbar": {
              "outlinewidth": 0,
              "ticks": ""
             }
            },
            "type": "parcoords"
           }
          ],
          "pie": [
           {
            "automargin": true,
            "type": "pie"
           }
          ],
          "scatter": [
           {
            "fillpattern": {
             "fillmode": "overlay",
             "size": 10,
             "solidity": 0.2
            },
            "type": "scatter"
           }
          ],
          "scatter3d": [
           {
            "line": {
             "colorbar": {
              "outlinewidth": 0,
              "ticks": ""
             }
            },
            "marker": {
             "colorbar": {
              "outlinewidth": 0,
              "ticks": ""
             }
            },
            "type": "scatter3d"
           }
          ],
          "scattercarpet": [
           {
            "marker": {
             "colorbar": {
              "outlinewidth": 0,
              "ticks": ""
             }
            },
            "type": "scattercarpet"
           }
          ],
          "scattergeo": [
           {
            "marker": {
             "colorbar": {
              "outlinewidth": 0,
              "ticks": ""
             }
            },
            "type": "scattergeo"
           }
          ],
          "scattergl": [
           {
            "marker": {
             "colorbar": {
              "outlinewidth": 0,
              "ticks": ""
             }
            },
            "type": "scattergl"
           }
          ],
          "scattermapbox": [
           {
            "marker": {
             "colorbar": {
              "outlinewidth": 0,
              "ticks": ""
             }
            },
            "type": "scattermapbox"
           }
          ],
          "scatterpolar": [
           {
            "marker": {
             "colorbar": {
              "outlinewidth": 0,
              "ticks": ""
             }
            },
            "type": "scatterpolar"
           }
          ],
          "scatterpolargl": [
           {
            "marker": {
             "colorbar": {
              "outlinewidth": 0,
              "ticks": ""
             }
            },
            "type": "scatterpolargl"
           }
          ],
          "scatterternary": [
           {
            "marker": {
             "colorbar": {
              "outlinewidth": 0,
              "ticks": ""
             }
            },
            "type": "scatterternary"
           }
          ],
          "surface": [
           {
            "colorbar": {
             "outlinewidth": 0,
             "ticks": ""
            },
            "colorscale": [
             [
              0,
              "#0d0887"
             ],
             [
              0.1111111111111111,
              "#46039f"
             ],
             [
              0.2222222222222222,
              "#7201a8"
             ],
             [
              0.3333333333333333,
              "#9c179e"
             ],
             [
              0.4444444444444444,
              "#bd3786"
             ],
             [
              0.5555555555555556,
              "#d8576b"
             ],
             [
              0.6666666666666666,
              "#ed7953"
             ],
             [
              0.7777777777777778,
              "#fb9f3a"
             ],
             [
              0.8888888888888888,
              "#fdca26"
             ],
             [
              1,
              "#f0f921"
             ]
            ],
            "type": "surface"
           }
          ],
          "table": [
           {
            "cells": {
             "fill": {
              "color": "#EBF0F8"
             },
             "line": {
              "color": "white"
             }
            },
            "header": {
             "fill": {
              "color": "#C8D4E3"
             },
             "line": {
              "color": "white"
             }
            },
            "type": "table"
           }
          ]
         },
         "layout": {
          "annotationdefaults": {
           "arrowcolor": "#2a3f5f",
           "arrowhead": 0,
           "arrowwidth": 1
          },
          "autotypenumbers": "strict",
          "coloraxis": {
           "colorbar": {
            "outlinewidth": 0,
            "ticks": ""
           }
          },
          "colorscale": {
           "diverging": [
            [
             0,
             "#8e0152"
            ],
            [
             0.1,
             "#c51b7d"
            ],
            [
             0.2,
             "#de77ae"
            ],
            [
             0.3,
             "#f1b6da"
            ],
            [
             0.4,
             "#fde0ef"
            ],
            [
             0.5,
             "#f7f7f7"
            ],
            [
             0.6,
             "#e6f5d0"
            ],
            [
             0.7,
             "#b8e186"
            ],
            [
             0.8,
             "#7fbc41"
            ],
            [
             0.9,
             "#4d9221"
            ],
            [
             1,
             "#276419"
            ]
           ],
           "sequential": [
            [
             0,
             "#0d0887"
            ],
            [
             0.1111111111111111,
             "#46039f"
            ],
            [
             0.2222222222222222,
             "#7201a8"
            ],
            [
             0.3333333333333333,
             "#9c179e"
            ],
            [
             0.4444444444444444,
             "#bd3786"
            ],
            [
             0.5555555555555556,
             "#d8576b"
            ],
            [
             0.6666666666666666,
             "#ed7953"
            ],
            [
             0.7777777777777778,
             "#fb9f3a"
            ],
            [
             0.8888888888888888,
             "#fdca26"
            ],
            [
             1,
             "#f0f921"
            ]
           ],
           "sequentialminus": [
            [
             0,
             "#0d0887"
            ],
            [
             0.1111111111111111,
             "#46039f"
            ],
            [
             0.2222222222222222,
             "#7201a8"
            ],
            [
             0.3333333333333333,
             "#9c179e"
            ],
            [
             0.4444444444444444,
             "#bd3786"
            ],
            [
             0.5555555555555556,
             "#d8576b"
            ],
            [
             0.6666666666666666,
             "#ed7953"
            ],
            [
             0.7777777777777778,
             "#fb9f3a"
            ],
            [
             0.8888888888888888,
             "#fdca26"
            ],
            [
             1,
             "#f0f921"
            ]
           ]
          },
          "colorway": [
           "#636efa",
           "#EF553B",
           "#00cc96",
           "#ab63fa",
           "#FFA15A",
           "#19d3f3",
           "#FF6692",
           "#B6E880",
           "#FF97FF",
           "#FECB52"
          ],
          "font": {
           "color": "#2a3f5f"
          },
          "geo": {
           "bgcolor": "white",
           "lakecolor": "white",
           "landcolor": "#E5ECF6",
           "showlakes": true,
           "showland": true,
           "subunitcolor": "white"
          },
          "hoverlabel": {
           "align": "left"
          },
          "hovermode": "closest",
          "mapbox": {
           "style": "light"
          },
          "paper_bgcolor": "white",
          "plot_bgcolor": "#E5ECF6",
          "polar": {
           "angularaxis": {
            "gridcolor": "white",
            "linecolor": "white",
            "ticks": ""
           },
           "bgcolor": "#E5ECF6",
           "radialaxis": {
            "gridcolor": "white",
            "linecolor": "white",
            "ticks": ""
           }
          },
          "scene": {
           "xaxis": {
            "backgroundcolor": "#E5ECF6",
            "gridcolor": "white",
            "gridwidth": 2,
            "linecolor": "white",
            "showbackground": true,
            "ticks": "",
            "zerolinecolor": "white"
           },
           "yaxis": {
            "backgroundcolor": "#E5ECF6",
            "gridcolor": "white",
            "gridwidth": 2,
            "linecolor": "white",
            "showbackground": true,
            "ticks": "",
            "zerolinecolor": "white"
           },
           "zaxis": {
            "backgroundcolor": "#E5ECF6",
            "gridcolor": "white",
            "gridwidth": 2,
            "linecolor": "white",
            "showbackground": true,
            "ticks": "",
            "zerolinecolor": "white"
           }
          },
          "shapedefaults": {
           "line": {
            "color": "#2a3f5f"
           }
          },
          "ternary": {
           "aaxis": {
            "gridcolor": "white",
            "linecolor": "white",
            "ticks": ""
           },
           "baxis": {
            "gridcolor": "white",
            "linecolor": "white",
            "ticks": ""
           },
           "bgcolor": "#E5ECF6",
           "caxis": {
            "gridcolor": "white",
            "linecolor": "white",
            "ticks": ""
           }
          },
          "title": {
           "x": 0.05
          },
          "xaxis": {
           "automargin": true,
           "gridcolor": "white",
           "linecolor": "white",
           "ticks": "",
           "title": {
            "standoff": 15
           },
           "zerolinecolor": "white",
           "zerolinewidth": 2
          },
          "yaxis": {
           "automargin": true,
           "gridcolor": "white",
           "linecolor": "white",
           "ticks": "",
           "title": {
            "standoff": 15
           },
           "zerolinecolor": "white",
           "zerolinewidth": 2
          }
         }
        },
        "title": {
         "text": "Reismotieven studenten OV "
        },
        "width": 1000
       }
      },
      "text/html": [
       "<div>                            <div id=\"a59dd034-e94c-4a92-9f81-2381d615b80e\" class=\"plotly-graph-div\" style=\"height:700px; width:1000px;\"></div>            <script type=\"text/javascript\">                require([\"plotly\"], function(Plotly) {                    window.PLOTLYENV=window.PLOTLYENV || {};                                    if (document.getElementById(\"a59dd034-e94c-4a92-9f81-2381d615b80e\")) {                    Plotly.newPlot(                        \"a59dd034-e94c-4a92-9f81-2381d615b80e\",                        [{\"labels\":[\"Diensten, persoonlijke verzorging\",\"Onderwijs volgen, cursus, kinderopvang\",\"Overige reismotieven\",\"Toeren, wandelen\",\"Uitgaan, sport, hobby\",\"Van en naar het werk\",\"Visite, logeren\",\"Winkelen, boodschappen doen\",\"Zakelijk, beroepsmatig\"],\"values\":[107.72,23654.88,1951.1399999999999,3999.32,12967.06,7639.94,6780.86,4168.16,36.76],\"type\":\"pie\",\"domain\":{\"x\":[0.0,0.45],\"y\":[0.625,1.0]}},{\"labels\":[\"Diensten, persoonlijke verzorging\",\"Onderwijs volgen, cursus, kinderopvang\",\"Overige reismotieven\",\"Toeren, wandelen\",\"Uitgaan, sport, hobby\",\"Van en naar het werk\",\"Visite, logeren\",\"Winkelen, boodschappen doen\",\"Zakelijk, beroepsmatig\"],\"values\":[0.0,851.5,0.0,166.45999999999998,1566.06,56.480000000000004,488.34,696.66,0.0],\"type\":\"pie\",\"domain\":{\"x\":[0.55,1.0],\"y\":[0.625,1.0]}},{\"labels\":[\"Diensten, persoonlijke verzorging\",\"Onderwijs volgen, cursus, kinderopvang\",\"Overige reismotieven\",\"Toeren, wandelen\",\"Uitgaan, sport, hobby\",\"Van en naar het werk\",\"Visite, logeren\",\"Winkelen, boodschappen doen\",\"Zakelijk, beroepsmatig\"],\"values\":[2161.96,4188.61,8391.24,24781.45,19669.46,20693.55,11573.62,12827.01,4275.63],\"type\":\"pie\",\"domain\":{\"x\":[0.0,0.45],\"y\":[0.0,0.375]}}],                        {\"template\":{\"data\":{\"histogram2dcontour\":[{\"type\":\"histogram2dcontour\",\"colorbar\":{\"outlinewidth\":0,\"ticks\":\"\"},\"colorscale\":[[0.0,\"#0d0887\"],[0.1111111111111111,\"#46039f\"],[0.2222222222222222,\"#7201a8\"],[0.3333333333333333,\"#9c179e\"],[0.4444444444444444,\"#bd3786\"],[0.5555555555555556,\"#d8576b\"],[0.6666666666666666,\"#ed7953\"],[0.7777777777777778,\"#fb9f3a\"],[0.8888888888888888,\"#fdca26\"],[1.0,\"#f0f921\"]]}],\"choropleth\":[{\"type\":\"choropleth\",\"colorbar\":{\"outlinewidth\":0,\"ticks\":\"\"}}],\"histogram2d\":[{\"type\":\"histogram2d\",\"colorbar\":{\"outlinewidth\":0,\"ticks\":\"\"},\"colorscale\":[[0.0,\"#0d0887\"],[0.1111111111111111,\"#46039f\"],[0.2222222222222222,\"#7201a8\"],[0.3333333333333333,\"#9c179e\"],[0.4444444444444444,\"#bd3786\"],[0.5555555555555556,\"#d8576b\"],[0.6666666666666666,\"#ed7953\"],[0.7777777777777778,\"#fb9f3a\"],[0.8888888888888888,\"#fdca26\"],[1.0,\"#f0f921\"]]}],\"heatmap\":[{\"type\":\"heatmap\",\"colorbar\":{\"outlinewidth\":0,\"ticks\":\"\"},\"colorscale\":[[0.0,\"#0d0887\"],[0.1111111111111111,\"#46039f\"],[0.2222222222222222,\"#7201a8\"],[0.3333333333333333,\"#9c179e\"],[0.4444444444444444,\"#bd3786\"],[0.5555555555555556,\"#d8576b\"],[0.6666666666666666,\"#ed7953\"],[0.7777777777777778,\"#fb9f3a\"],[0.8888888888888888,\"#fdca26\"],[1.0,\"#f0f921\"]]}],\"heatmapgl\":[{\"type\":\"heatmapgl\",\"colorbar\":{\"outlinewidth\":0,\"ticks\":\"\"},\"colorscale\":[[0.0,\"#0d0887\"],[0.1111111111111111,\"#46039f\"],[0.2222222222222222,\"#7201a8\"],[0.3333333333333333,\"#9c179e\"],[0.4444444444444444,\"#bd3786\"],[0.5555555555555556,\"#d8576b\"],[0.6666666666666666,\"#ed7953\"],[0.7777777777777778,\"#fb9f3a\"],[0.8888888888888888,\"#fdca26\"],[1.0,\"#f0f921\"]]}],\"contourcarpet\":[{\"type\":\"contourcarpet\",\"colorbar\":{\"outlinewidth\":0,\"ticks\":\"\"}}],\"contour\":[{\"type\":\"contour\",\"colorbar\":{\"outlinewidth\":0,\"ticks\":\"\"},\"colorscale\":[[0.0,\"#0d0887\"],[0.1111111111111111,\"#46039f\"],[0.2222222222222222,\"#7201a8\"],[0.3333333333333333,\"#9c179e\"],[0.4444444444444444,\"#bd3786\"],[0.5555555555555556,\"#d8576b\"],[0.6666666666666666,\"#ed7953\"],[0.7777777777777778,\"#fb9f3a\"],[0.8888888888888888,\"#fdca26\"],[1.0,\"#f0f921\"]]}],\"surface\":[{\"type\":\"surface\",\"colorbar\":{\"outlinewidth\":0,\"ticks\":\"\"},\"colorscale\":[[0.0,\"#0d0887\"],[0.1111111111111111,\"#46039f\"],[0.2222222222222222,\"#7201a8\"],[0.3333333333333333,\"#9c179e\"],[0.4444444444444444,\"#bd3786\"],[0.5555555555555556,\"#d8576b\"],[0.6666666666666666,\"#ed7953\"],[0.7777777777777778,\"#fb9f3a\"],[0.8888888888888888,\"#fdca26\"],[1.0,\"#f0f921\"]]}],\"mesh3d\":[{\"type\":\"mesh3d\",\"colorbar\":{\"outlinewidth\":0,\"ticks\":\"\"}}],\"scatter\":[{\"fillpattern\":{\"fillmode\":\"overlay\",\"size\":10,\"solidity\":0.2},\"type\":\"scatter\"}],\"parcoords\":[{\"type\":\"parcoords\",\"line\":{\"colorbar\":{\"outlinewidth\":0,\"ticks\":\"\"}}}],\"scatterpolargl\":[{\"type\":\"scatterpolargl\",\"marker\":{\"colorbar\":{\"outlinewidth\":0,\"ticks\":\"\"}}}],\"bar\":[{\"error_x\":{\"color\":\"#2a3f5f\"},\"error_y\":{\"color\":\"#2a3f5f\"},\"marker\":{\"line\":{\"color\":\"#E5ECF6\",\"width\":0.5},\"pattern\":{\"fillmode\":\"overlay\",\"size\":10,\"solidity\":0.2}},\"type\":\"bar\"}],\"scattergeo\":[{\"type\":\"scattergeo\",\"marker\":{\"colorbar\":{\"outlinewidth\":0,\"ticks\":\"\"}}}],\"scatterpolar\":[{\"type\":\"scatterpolar\",\"marker\":{\"colorbar\":{\"outlinewidth\":0,\"ticks\":\"\"}}}],\"histogram\":[{\"marker\":{\"pattern\":{\"fillmode\":\"overlay\",\"size\":10,\"solidity\":0.2}},\"type\":\"histogram\"}],\"scattergl\":[{\"type\":\"scattergl\",\"marker\":{\"colorbar\":{\"outlinewidth\":0,\"ticks\":\"\"}}}],\"scatter3d\":[{\"type\":\"scatter3d\",\"line\":{\"colorbar\":{\"outlinewidth\":0,\"ticks\":\"\"}},\"marker\":{\"colorbar\":{\"outlinewidth\":0,\"ticks\":\"\"}}}],\"scattermapbox\":[{\"type\":\"scattermapbox\",\"marker\":{\"colorbar\":{\"outlinewidth\":0,\"ticks\":\"\"}}}],\"scatterternary\":[{\"type\":\"scatterternary\",\"marker\":{\"colorbar\":{\"outlinewidth\":0,\"ticks\":\"\"}}}],\"scattercarpet\":[{\"type\":\"scattercarpet\",\"marker\":{\"colorbar\":{\"outlinewidth\":0,\"ticks\":\"\"}}}],\"carpet\":[{\"aaxis\":{\"endlinecolor\":\"#2a3f5f\",\"gridcolor\":\"white\",\"linecolor\":\"white\",\"minorgridcolor\":\"white\",\"startlinecolor\":\"#2a3f5f\"},\"baxis\":{\"endlinecolor\":\"#2a3f5f\",\"gridcolor\":\"white\",\"linecolor\":\"white\",\"minorgridcolor\":\"white\",\"startlinecolor\":\"#2a3f5f\"},\"type\":\"carpet\"}],\"table\":[{\"cells\":{\"fill\":{\"color\":\"#EBF0F8\"},\"line\":{\"color\":\"white\"}},\"header\":{\"fill\":{\"color\":\"#C8D4E3\"},\"line\":{\"color\":\"white\"}},\"type\":\"table\"}],\"barpolar\":[{\"marker\":{\"line\":{\"color\":\"#E5ECF6\",\"width\":0.5},\"pattern\":{\"fillmode\":\"overlay\",\"size\":10,\"solidity\":0.2}},\"type\":\"barpolar\"}],\"pie\":[{\"automargin\":true,\"type\":\"pie\"}]},\"layout\":{\"autotypenumbers\":\"strict\",\"colorway\":[\"#636efa\",\"#EF553B\",\"#00cc96\",\"#ab63fa\",\"#FFA15A\",\"#19d3f3\",\"#FF6692\",\"#B6E880\",\"#FF97FF\",\"#FECB52\"],\"font\":{\"color\":\"#2a3f5f\"},\"hovermode\":\"closest\",\"hoverlabel\":{\"align\":\"left\"},\"paper_bgcolor\":\"white\",\"plot_bgcolor\":\"#E5ECF6\",\"polar\":{\"bgcolor\":\"#E5ECF6\",\"angularaxis\":{\"gridcolor\":\"white\",\"linecolor\":\"white\",\"ticks\":\"\"},\"radialaxis\":{\"gridcolor\":\"white\",\"linecolor\":\"white\",\"ticks\":\"\"}},\"ternary\":{\"bgcolor\":\"#E5ECF6\",\"aaxis\":{\"gridcolor\":\"white\",\"linecolor\":\"white\",\"ticks\":\"\"},\"baxis\":{\"gridcolor\":\"white\",\"linecolor\":\"white\",\"ticks\":\"\"},\"caxis\":{\"gridcolor\":\"white\",\"linecolor\":\"white\",\"ticks\":\"\"}},\"coloraxis\":{\"colorbar\":{\"outlinewidth\":0,\"ticks\":\"\"}},\"colorscale\":{\"sequential\":[[0.0,\"#0d0887\"],[0.1111111111111111,\"#46039f\"],[0.2222222222222222,\"#7201a8\"],[0.3333333333333333,\"#9c179e\"],[0.4444444444444444,\"#bd3786\"],[0.5555555555555556,\"#d8576b\"],[0.6666666666666666,\"#ed7953\"],[0.7777777777777778,\"#fb9f3a\"],[0.8888888888888888,\"#fdca26\"],[1.0,\"#f0f921\"]],\"sequentialminus\":[[0.0,\"#0d0887\"],[0.1111111111111111,\"#46039f\"],[0.2222222222222222,\"#7201a8\"],[0.3333333333333333,\"#9c179e\"],[0.4444444444444444,\"#bd3786\"],[0.5555555555555556,\"#d8576b\"],[0.6666666666666666,\"#ed7953\"],[0.7777777777777778,\"#fb9f3a\"],[0.8888888888888888,\"#fdca26\"],[1.0,\"#f0f921\"]],\"diverging\":[[0,\"#8e0152\"],[0.1,\"#c51b7d\"],[0.2,\"#de77ae\"],[0.3,\"#f1b6da\"],[0.4,\"#fde0ef\"],[0.5,\"#f7f7f7\"],[0.6,\"#e6f5d0\"],[0.7,\"#b8e186\"],[0.8,\"#7fbc41\"],[0.9,\"#4d9221\"],[1,\"#276419\"]]},\"xaxis\":{\"gridcolor\":\"white\",\"linecolor\":\"white\",\"ticks\":\"\",\"title\":{\"standoff\":15},\"zerolinecolor\":\"white\",\"automargin\":true,\"zerolinewidth\":2},\"yaxis\":{\"gridcolor\":\"white\",\"linecolor\":\"white\",\"ticks\":\"\",\"title\":{\"standoff\":15},\"zerolinecolor\":\"white\",\"automargin\":true,\"zerolinewidth\":2},\"scene\":{\"xaxis\":{\"backgroundcolor\":\"#E5ECF6\",\"gridcolor\":\"white\",\"linecolor\":\"white\",\"showbackground\":true,\"ticks\":\"\",\"zerolinecolor\":\"white\",\"gridwidth\":2},\"yaxis\":{\"backgroundcolor\":\"#E5ECF6\",\"gridcolor\":\"white\",\"linecolor\":\"white\",\"showbackground\":true,\"ticks\":\"\",\"zerolinecolor\":\"white\",\"gridwidth\":2},\"zaxis\":{\"backgroundcolor\":\"#E5ECF6\",\"gridcolor\":\"white\",\"linecolor\":\"white\",\"showbackground\":true,\"ticks\":\"\",\"zerolinecolor\":\"white\",\"gridwidth\":2}},\"shapedefaults\":{\"line\":{\"color\":\"#2a3f5f\"}},\"annotationdefaults\":{\"arrowcolor\":\"#2a3f5f\",\"arrowhead\":0,\"arrowwidth\":1},\"geo\":{\"bgcolor\":\"white\",\"landcolor\":\"#E5ECF6\",\"subunitcolor\":\"white\",\"showland\":true,\"showlakes\":true,\"lakecolor\":\"white\"},\"title\":{\"x\":0.05},\"mapbox\":{\"style\":\"light\"}}},\"annotations\":[{\"font\":{\"size\":16},\"showarrow\":false,\"text\":\"Week OV\",\"x\":0.225,\"xanchor\":\"center\",\"xref\":\"paper\",\"y\":1.0,\"yanchor\":\"bottom\",\"yref\":\"paper\"},{\"font\":{\"size\":16},\"showarrow\":false,\"text\":\"Weekend OV\",\"x\":0.775,\"xanchor\":\"center\",\"xref\":\"paper\",\"y\":1.0,\"yanchor\":\"bottom\",\"yref\":\"paper\"},{\"font\":{\"size\":16},\"showarrow\":false,\"text\":\"Geen OV\",\"x\":0.225,\"xanchor\":\"center\",\"xref\":\"paper\",\"y\":0.375,\"yanchor\":\"bottom\",\"yref\":\"paper\"}],\"title\":{\"text\":\"Reismotieven studenten OV \"},\"height\":700,\"width\":1000,\"showlegend\":true,\"legend\":{\"yanchor\":\"bottom\",\"y\":0,\"xanchor\":\"left\",\"x\":0.7}},                        {\"responsive\": true}                    ).then(function(){\n",
       "                            \n",
       "var gd = document.getElementById('a59dd034-e94c-4a92-9f81-2381d615b80e');\n",
       "var x = new MutationObserver(function (mutations, observer) {{\n",
       "        var display = window.getComputedStyle(gd).display;\n",
       "        if (!display || display === 'none') {{\n",
       "            console.log([gd, 'removed!']);\n",
       "            Plotly.purge(gd);\n",
       "            observer.disconnect();\n",
       "        }}\n",
       "}});\n",
       "\n",
       "// Listen for the removal of the full notebook cells\n",
       "var notebookContainer = gd.closest('#notebook-container');\n",
       "if (notebookContainer) {{\n",
       "    x.observe(notebookContainer, {childList: true});\n",
       "}}\n",
       "\n",
       "// Listen for the clearing of the current output cell\n",
       "var outputEl = gd.closest('.output');\n",
       "if (outputEl) {{\n",
       "    x.observe(outputEl, {childList: true});\n",
       "}}\n",
       "\n",
       "                        })                };                });            </script>        </div>"
      ]
     },
     "metadata": {},
     "output_type": "display_data"
    }
   ],
   "source": [
    "#Subplotjes\n",
    "#reisduur\n",
    "from plotly.subplots import make_subplots\n",
    "import plotly.graph_objects as go\n",
    "\n",
    "specs = [[{'type':'domain'}, {'type':'domain'}], [{'type':'domain'}, {'type':'domain'}]]\n",
    "fig = make_subplots(\n",
    "    rows=2, cols=2,\n",
    "    subplot_titles=(\"Week OV\", \"Weekend OV\", \"Geen OV\"), \n",
    "    specs = specs)\n",
    "\n",
    "fig.add_trace(go.Pie(values = data_motief_hoi['Reisduur_3'], labels = data_motief_hoi['Reismotieven']), row=1, col=1)\n",
    "\n",
    "fig.add_trace(go.Pie(values = data_motief_weekend['Reisduur_3'], labels = data_motief_weekend['Reismotieven']), row=1, col=2)\n",
    "fig.add_trace(go.Pie(values = data_motief_geen['Reisduur_3'], labels = data_motief_geen['Reismotieven']), row=2, col=1)\n",
    "\n",
    "\n",
    "fig.update_layout(height=700, width=1000,\n",
    "                  title_text=\"Reismotieven studenten OV \")\n",
    "fig.update_layout(showlegend = True)\n",
    "fig.update_layout(legend=dict(\n",
    "    yanchor=\"bottom\",\n",
    "    y=0,\n",
    "    xanchor=\"left\",\n",
    "    x=0.7\n",
    "))\n",
    "\n",
    "fig.show()"
   ]
  },
  {
   "cell_type": "markdown",
   "id": "832edf64",
   "metadata": {},
   "source": [
    "Looking more into time duration of the trips in relation to travel motives give different conclusions than in relation to number of trips. The distribution of travel motives for students with a week public transport pass are not changing a lot, only the time they use for going to school is the biggest part. For students with a weekend pass the distribution is changing looking into time duration of their trips. The most time they spend for free time activities, but this is not having the highest number of trips in the previous distribution. For not having acces to public transport is also a change in the biggest contribution shown. Not the highest number of trips is used for touring and going for a walk, but they spend the longest time to go to these locations."
   ]
  },
  {
   "cell_type": "markdown",
   "id": "7affbe34",
   "metadata": {},
   "source": [
    "### Driving licenses"
   ]
  },
  {
   "cell_type": "code",
   "execution_count": 68,
   "id": "7ffc1a7d",
   "metadata": {},
   "outputs": [],
   "source": [
    "#piecharts \n",
    "\n",
    "auto = [ 'Rijbewijs, personenauto op eigen naam', 'Rijbewijs, personenauto in hh', 'Rijbewijs, geen personenauto in hh',\n",
    "       'Geen rijbewijs; wel 17 jaar of ouder','Geen rijbewijs; jonger dan 17 jaar']\n",
    "\n",
    "filtered_auto = data_motief[data_motief['Persoonskenmerken'].isin(auto)]\n",
    "\n",
    "#display(filtered_student_ov)\n",
    "\n",
    "#rijbewijs, personenauto op eigen naam\n",
    "data_motief_auto1 = filtered_auto.groupby(['Persoonskenmerken', 'Reismotieven']).sum().reset_index()\n",
    "data_motief_auto2 = data_motief_auto1[data_motief_auto1['Persoonskenmerken'] == 'Rijbewijs, personenauto op eigen naam']\n",
    "index_names2 = data_motief_auto2[(data_motief_auto2['Reismotieven'] == 'Totaal')].index\n",
    "data_motief_auto2.drop(index_names2, inplace = True)\n",
    "\n",
    "#Rijbewijs, personenauto in hh\n",
    "data_motief_auto3 = data_motief_auto1[data_motief_auto1['Persoonskenmerken'] == 'Rijbewijs, personenauto in hh']\n",
    "#display(data_motief_hoi)\n",
    "index_names = data_motief_auto3[(data_motief_auto3['Reismotieven'] == 'Totaal')].index\n",
    "data_motief_auto3.drop(index_names, inplace = True)\n",
    "\n",
    "#Rijbewijs, geen personenauto in hh\n",
    "data_motief_auto4 = data_motief_auto1[data_motief_auto1['Persoonskenmerken'] == 'Rijbewijs, geen personenauto in hh']\n",
    "#display(data_motief_hoi)\n",
    "index_names = data_motief_auto4[(data_motief_auto4['Reismotieven'] == 'Totaal')].index\n",
    "data_motief_auto4.drop(index_names, inplace = True)\n",
    "\n",
    "#Geen rijbewijs; wel 17 jaar of ouder\n",
    "data_motief_auto5 = data_motief_auto1[data_motief_auto1['Persoonskenmerken'] == 'Geen rijbewijs; wel 17 jaar of ouder']\n",
    "#display(data_motief_hoi)\n",
    "index_names = data_motief_auto5[(data_motief_auto5['Reismotieven'] == 'Totaal')].index\n",
    "data_motief_auto5.drop(index_names, inplace = True)\n",
    "\n",
    "#Geen rijbewijs; jonger dan 17 jaar\n",
    "data_motief_auto6 = data_motief_auto1[data_motief_auto1['Persoonskenmerken'] == 'Geen rijbewijs; jonger dan 17 jaar']\n",
    "#display(data_motief_hoi)\n",
    "index_names = data_motief_auto6[(data_motief_auto6['Reismotieven'] == 'Totaal')].index\n",
    "data_motief_auto6.drop(index_names, inplace = True)"
   ]
  },
  {
   "cell_type": "code",
   "execution_count": 63,
   "id": "c5adaf94",
   "metadata": {},
   "outputs": [
    {
     "data": {
      "application/vnd.plotly.v1+json": {
       "config": {
        "plotlyServerURL": "https://plot.ly"
       },
       "data": [
        {
         "domain": {
          "x": [
           0,
           0.2888888888888889
          ],
          "y": [
           0.625,
           1
          ]
         },
         "labels": [
          "Diensten, persoonlijke verzorging",
          "Onderwijs volgen, cursus, kinderopvang",
          "Overige reismotieven",
          "Toeren, wandelen",
          "Uitgaan, sport, hobby",
          "Van en naar het werk",
          "Visite, logeren",
          "Winkelen, boodschappen doen",
          "Zakelijk, beroepsmatig"
         ],
         "type": "pie",
         "values": [
          108.1,
          9.540000000000001,
          570.54,
          436.5,
          614.94,
          925.9,
          410.88,
          991.86,
          123.7
         ]
        },
        {
         "domain": {
          "x": [
           0.35555555555555557,
           0.6444444444444445
          ],
          "y": [
           0.625,
           1
          ]
         },
         "labels": [
          "Diensten, persoonlijke verzorging",
          "Onderwijs volgen, cursus, kinderopvang",
          "Overige reismotieven",
          "Toeren, wandelen",
          "Uitgaan, sport, hobby",
          "Van en naar het werk",
          "Visite, logeren",
          "Winkelen, boodschappen doen",
          "Zakelijk, beroepsmatig"
         ],
         "type": "pie",
         "values": [
          76.44,
          48.76,
          479,
          365.48,
          587.14,
          788.52,
          341.6,
          886.62,
          105.2
         ]
        },
        {
         "domain": {
          "x": [
           0.7111111111111111,
           1
          ],
          "y": [
           0.625,
           1
          ]
         },
         "labels": [
          "Diensten, persoonlijke verzorging",
          "Onderwijs volgen, cursus, kinderopvang",
          "Overige reismotieven",
          "Toeren, wandelen",
          "Uitgaan, sport, hobby",
          "Van en naar het werk",
          "Visite, logeren",
          "Winkelen, boodschappen doen",
          "Zakelijk, beroepsmatig"
         ],
         "type": "pie",
         "values": [
          20.2,
          32.34,
          120.3,
          161.56,
          345.6,
          404.56,
          193.8,
          678.04,
          13.36
         ]
        },
        {
         "domain": {
          "x": [
           0,
           0.2888888888888889
          ],
          "y": [
           0,
           0.375
          ]
         },
         "labels": [
          "Diensten, persoonlijke verzorging",
          "Onderwijs volgen, cursus, kinderopvang",
          "Overige reismotieven",
          "Toeren, wandelen",
          "Uitgaan, sport, hobby",
          "Van en naar het werk",
          "Visite, logeren",
          "Winkelen, boodschappen doen",
          "Zakelijk, beroepsmatig"
         ],
         "type": "pie",
         "values": [
          28.8,
          111.4,
          111.2,
          199.6,
          286.26,
          328.38,
          169.46,
          617.88,
          5.16
         ]
        },
        {
         "domain": {
          "x": [
           0.35555555555555557,
           0.6444444444444445
          ],
          "y": [
           0,
           0.375
          ]
         },
         "labels": [
          "Diensten, persoonlijke verzorging",
          "Onderwijs volgen, cursus, kinderopvang",
          "Overige reismotieven",
          "Toeren, wandelen",
          "Uitgaan, sport, hobby",
          "Van en naar het werk",
          "Visite, logeren",
          "Winkelen, boodschappen doen",
          "Zakelijk, beroepsmatig"
         ],
         "type": "pie",
         "values": [
          5.28,
          1238.43,
          82.4,
          68.3,
          943.52,
          28.75,
          255.34,
          199.29,
          0.08
         ]
        }
       ],
       "layout": {
        "annotations": [
         {
          "font": {
           "size": 16
          },
          "showarrow": false,
          "text": "Rijbewijs, personenauto op eigen naam",
          "x": 0.14444444444444446,
          "xanchor": "center",
          "xref": "paper",
          "y": 1,
          "yanchor": "bottom",
          "yref": "paper"
         },
         {
          "font": {
           "size": 16
          },
          "showarrow": false,
          "text": "Rijbewijs, personenauto in hh",
          "x": 0.5,
          "xanchor": "center",
          "xref": "paper",
          "y": 1,
          "yanchor": "bottom",
          "yref": "paper"
         },
         {
          "font": {
           "size": 16
          },
          "showarrow": false,
          "text": "Rijbewijs, geen personenauto in hh",
          "x": 0.8555555555555556,
          "xanchor": "center",
          "xref": "paper",
          "y": 1,
          "yanchor": "bottom",
          "yref": "paper"
         },
         {
          "font": {
           "size": 16
          },
          "showarrow": false,
          "text": "Geen rijbewijs; wel 17 jaar of ouder",
          "x": 0.14444444444444446,
          "xanchor": "center",
          "xref": "paper",
          "y": 0.375,
          "yanchor": "bottom",
          "yref": "paper"
         },
         {
          "font": {
           "size": 16
          },
          "showarrow": false,
          "text": "Geen rijbewijs; jonger dan 17 jaar",
          "x": 0.5,
          "xanchor": "center",
          "xref": "paper",
          "y": 0.375,
          "yanchor": "bottom",
          "yref": "paper"
         }
        ],
        "height": 700,
        "legend": {
         "x": 0.7,
         "xanchor": "left",
         "y": 0,
         "yanchor": "bottom"
        },
        "showlegend": true,
        "template": {
         "data": {
          "bar": [
           {
            "error_x": {
             "color": "#2a3f5f"
            },
            "error_y": {
             "color": "#2a3f5f"
            },
            "marker": {
             "line": {
              "color": "#E5ECF6",
              "width": 0.5
             },
             "pattern": {
              "fillmode": "overlay",
              "size": 10,
              "solidity": 0.2
             }
            },
            "type": "bar"
           }
          ],
          "barpolar": [
           {
            "marker": {
             "line": {
              "color": "#E5ECF6",
              "width": 0.5
             },
             "pattern": {
              "fillmode": "overlay",
              "size": 10,
              "solidity": 0.2
             }
            },
            "type": "barpolar"
           }
          ],
          "carpet": [
           {
            "aaxis": {
             "endlinecolor": "#2a3f5f",
             "gridcolor": "white",
             "linecolor": "white",
             "minorgridcolor": "white",
             "startlinecolor": "#2a3f5f"
            },
            "baxis": {
             "endlinecolor": "#2a3f5f",
             "gridcolor": "white",
             "linecolor": "white",
             "minorgridcolor": "white",
             "startlinecolor": "#2a3f5f"
            },
            "type": "carpet"
           }
          ],
          "choropleth": [
           {
            "colorbar": {
             "outlinewidth": 0,
             "ticks": ""
            },
            "type": "choropleth"
           }
          ],
          "contour": [
           {
            "colorbar": {
             "outlinewidth": 0,
             "ticks": ""
            },
            "colorscale": [
             [
              0,
              "#0d0887"
             ],
             [
              0.1111111111111111,
              "#46039f"
             ],
             [
              0.2222222222222222,
              "#7201a8"
             ],
             [
              0.3333333333333333,
              "#9c179e"
             ],
             [
              0.4444444444444444,
              "#bd3786"
             ],
             [
              0.5555555555555556,
              "#d8576b"
             ],
             [
              0.6666666666666666,
              "#ed7953"
             ],
             [
              0.7777777777777778,
              "#fb9f3a"
             ],
             [
              0.8888888888888888,
              "#fdca26"
             ],
             [
              1,
              "#f0f921"
             ]
            ],
            "type": "contour"
           }
          ],
          "contourcarpet": [
           {
            "colorbar": {
             "outlinewidth": 0,
             "ticks": ""
            },
            "type": "contourcarpet"
           }
          ],
          "heatmap": [
           {
            "colorbar": {
             "outlinewidth": 0,
             "ticks": ""
            },
            "colorscale": [
             [
              0,
              "#0d0887"
             ],
             [
              0.1111111111111111,
              "#46039f"
             ],
             [
              0.2222222222222222,
              "#7201a8"
             ],
             [
              0.3333333333333333,
              "#9c179e"
             ],
             [
              0.4444444444444444,
              "#bd3786"
             ],
             [
              0.5555555555555556,
              "#d8576b"
             ],
             [
              0.6666666666666666,
              "#ed7953"
             ],
             [
              0.7777777777777778,
              "#fb9f3a"
             ],
             [
              0.8888888888888888,
              "#fdca26"
             ],
             [
              1,
              "#f0f921"
             ]
            ],
            "type": "heatmap"
           }
          ],
          "heatmapgl": [
           {
            "colorbar": {
             "outlinewidth": 0,
             "ticks": ""
            },
            "colorscale": [
             [
              0,
              "#0d0887"
             ],
             [
              0.1111111111111111,
              "#46039f"
             ],
             [
              0.2222222222222222,
              "#7201a8"
             ],
             [
              0.3333333333333333,
              "#9c179e"
             ],
             [
              0.4444444444444444,
              "#bd3786"
             ],
             [
              0.5555555555555556,
              "#d8576b"
             ],
             [
              0.6666666666666666,
              "#ed7953"
             ],
             [
              0.7777777777777778,
              "#fb9f3a"
             ],
             [
              0.8888888888888888,
              "#fdca26"
             ],
             [
              1,
              "#f0f921"
             ]
            ],
            "type": "heatmapgl"
           }
          ],
          "histogram": [
           {
            "marker": {
             "pattern": {
              "fillmode": "overlay",
              "size": 10,
              "solidity": 0.2
             }
            },
            "type": "histogram"
           }
          ],
          "histogram2d": [
           {
            "colorbar": {
             "outlinewidth": 0,
             "ticks": ""
            },
            "colorscale": [
             [
              0,
              "#0d0887"
             ],
             [
              0.1111111111111111,
              "#46039f"
             ],
             [
              0.2222222222222222,
              "#7201a8"
             ],
             [
              0.3333333333333333,
              "#9c179e"
             ],
             [
              0.4444444444444444,
              "#bd3786"
             ],
             [
              0.5555555555555556,
              "#d8576b"
             ],
             [
              0.6666666666666666,
              "#ed7953"
             ],
             [
              0.7777777777777778,
              "#fb9f3a"
             ],
             [
              0.8888888888888888,
              "#fdca26"
             ],
             [
              1,
              "#f0f921"
             ]
            ],
            "type": "histogram2d"
           }
          ],
          "histogram2dcontour": [
           {
            "colorbar": {
             "outlinewidth": 0,
             "ticks": ""
            },
            "colorscale": [
             [
              0,
              "#0d0887"
             ],
             [
              0.1111111111111111,
              "#46039f"
             ],
             [
              0.2222222222222222,
              "#7201a8"
             ],
             [
              0.3333333333333333,
              "#9c179e"
             ],
             [
              0.4444444444444444,
              "#bd3786"
             ],
             [
              0.5555555555555556,
              "#d8576b"
             ],
             [
              0.6666666666666666,
              "#ed7953"
             ],
             [
              0.7777777777777778,
              "#fb9f3a"
             ],
             [
              0.8888888888888888,
              "#fdca26"
             ],
             [
              1,
              "#f0f921"
             ]
            ],
            "type": "histogram2dcontour"
           }
          ],
          "mesh3d": [
           {
            "colorbar": {
             "outlinewidth": 0,
             "ticks": ""
            },
            "type": "mesh3d"
           }
          ],
          "parcoords": [
           {
            "line": {
             "colorbar": {
              "outlinewidth": 0,
              "ticks": ""
             }
            },
            "type": "parcoords"
           }
          ],
          "pie": [
           {
            "automargin": true,
            "type": "pie"
           }
          ],
          "scatter": [
           {
            "fillpattern": {
             "fillmode": "overlay",
             "size": 10,
             "solidity": 0.2
            },
            "type": "scatter"
           }
          ],
          "scatter3d": [
           {
            "line": {
             "colorbar": {
              "outlinewidth": 0,
              "ticks": ""
             }
            },
            "marker": {
             "colorbar": {
              "outlinewidth": 0,
              "ticks": ""
             }
            },
            "type": "scatter3d"
           }
          ],
          "scattercarpet": [
           {
            "marker": {
             "colorbar": {
              "outlinewidth": 0,
              "ticks": ""
             }
            },
            "type": "scattercarpet"
           }
          ],
          "scattergeo": [
           {
            "marker": {
             "colorbar": {
              "outlinewidth": 0,
              "ticks": ""
             }
            },
            "type": "scattergeo"
           }
          ],
          "scattergl": [
           {
            "marker": {
             "colorbar": {
              "outlinewidth": 0,
              "ticks": ""
             }
            },
            "type": "scattergl"
           }
          ],
          "scattermapbox": [
           {
            "marker": {
             "colorbar": {
              "outlinewidth": 0,
              "ticks": ""
             }
            },
            "type": "scattermapbox"
           }
          ],
          "scatterpolar": [
           {
            "marker": {
             "colorbar": {
              "outlinewidth": 0,
              "ticks": ""
             }
            },
            "type": "scatterpolar"
           }
          ],
          "scatterpolargl": [
           {
            "marker": {
             "colorbar": {
              "outlinewidth": 0,
              "ticks": ""
             }
            },
            "type": "scatterpolargl"
           }
          ],
          "scatterternary": [
           {
            "marker": {
             "colorbar": {
              "outlinewidth": 0,
              "ticks": ""
             }
            },
            "type": "scatterternary"
           }
          ],
          "surface": [
           {
            "colorbar": {
             "outlinewidth": 0,
             "ticks": ""
            },
            "colorscale": [
             [
              0,
              "#0d0887"
             ],
             [
              0.1111111111111111,
              "#46039f"
             ],
             [
              0.2222222222222222,
              "#7201a8"
             ],
             [
              0.3333333333333333,
              "#9c179e"
             ],
             [
              0.4444444444444444,
              "#bd3786"
             ],
             [
              0.5555555555555556,
              "#d8576b"
             ],
             [
              0.6666666666666666,
              "#ed7953"
             ],
             [
              0.7777777777777778,
              "#fb9f3a"
             ],
             [
              0.8888888888888888,
              "#fdca26"
             ],
             [
              1,
              "#f0f921"
             ]
            ],
            "type": "surface"
           }
          ],
          "table": [
           {
            "cells": {
             "fill": {
              "color": "#EBF0F8"
             },
             "line": {
              "color": "white"
             }
            },
            "header": {
             "fill": {
              "color": "#C8D4E3"
             },
             "line": {
              "color": "white"
             }
            },
            "type": "table"
           }
          ]
         },
         "layout": {
          "annotationdefaults": {
           "arrowcolor": "#2a3f5f",
           "arrowhead": 0,
           "arrowwidth": 1
          },
          "autotypenumbers": "strict",
          "coloraxis": {
           "colorbar": {
            "outlinewidth": 0,
            "ticks": ""
           }
          },
          "colorscale": {
           "diverging": [
            [
             0,
             "#8e0152"
            ],
            [
             0.1,
             "#c51b7d"
            ],
            [
             0.2,
             "#de77ae"
            ],
            [
             0.3,
             "#f1b6da"
            ],
            [
             0.4,
             "#fde0ef"
            ],
            [
             0.5,
             "#f7f7f7"
            ],
            [
             0.6,
             "#e6f5d0"
            ],
            [
             0.7,
             "#b8e186"
            ],
            [
             0.8,
             "#7fbc41"
            ],
            [
             0.9,
             "#4d9221"
            ],
            [
             1,
             "#276419"
            ]
           ],
           "sequential": [
            [
             0,
             "#0d0887"
            ],
            [
             0.1111111111111111,
             "#46039f"
            ],
            [
             0.2222222222222222,
             "#7201a8"
            ],
            [
             0.3333333333333333,
             "#9c179e"
            ],
            [
             0.4444444444444444,
             "#bd3786"
            ],
            [
             0.5555555555555556,
             "#d8576b"
            ],
            [
             0.6666666666666666,
             "#ed7953"
            ],
            [
             0.7777777777777778,
             "#fb9f3a"
            ],
            [
             0.8888888888888888,
             "#fdca26"
            ],
            [
             1,
             "#f0f921"
            ]
           ],
           "sequentialminus": [
            [
             0,
             "#0d0887"
            ],
            [
             0.1111111111111111,
             "#46039f"
            ],
            [
             0.2222222222222222,
             "#7201a8"
            ],
            [
             0.3333333333333333,
             "#9c179e"
            ],
            [
             0.4444444444444444,
             "#bd3786"
            ],
            [
             0.5555555555555556,
             "#d8576b"
            ],
            [
             0.6666666666666666,
             "#ed7953"
            ],
            [
             0.7777777777777778,
             "#fb9f3a"
            ],
            [
             0.8888888888888888,
             "#fdca26"
            ],
            [
             1,
             "#f0f921"
            ]
           ]
          },
          "colorway": [
           "#636efa",
           "#EF553B",
           "#00cc96",
           "#ab63fa",
           "#FFA15A",
           "#19d3f3",
           "#FF6692",
           "#B6E880",
           "#FF97FF",
           "#FECB52"
          ],
          "font": {
           "color": "#2a3f5f"
          },
          "geo": {
           "bgcolor": "white",
           "lakecolor": "white",
           "landcolor": "#E5ECF6",
           "showlakes": true,
           "showland": true,
           "subunitcolor": "white"
          },
          "hoverlabel": {
           "align": "left"
          },
          "hovermode": "closest",
          "mapbox": {
           "style": "light"
          },
          "paper_bgcolor": "white",
          "plot_bgcolor": "#E5ECF6",
          "polar": {
           "angularaxis": {
            "gridcolor": "white",
            "linecolor": "white",
            "ticks": ""
           },
           "bgcolor": "#E5ECF6",
           "radialaxis": {
            "gridcolor": "white",
            "linecolor": "white",
            "ticks": ""
           }
          },
          "scene": {
           "xaxis": {
            "backgroundcolor": "#E5ECF6",
            "gridcolor": "white",
            "gridwidth": 2,
            "linecolor": "white",
            "showbackground": true,
            "ticks": "",
            "zerolinecolor": "white"
           },
           "yaxis": {
            "backgroundcolor": "#E5ECF6",
            "gridcolor": "white",
            "gridwidth": 2,
            "linecolor": "white",
            "showbackground": true,
            "ticks": "",
            "zerolinecolor": "white"
           },
           "zaxis": {
            "backgroundcolor": "#E5ECF6",
            "gridcolor": "white",
            "gridwidth": 2,
            "linecolor": "white",
            "showbackground": true,
            "ticks": "",
            "zerolinecolor": "white"
           }
          },
          "shapedefaults": {
           "line": {
            "color": "#2a3f5f"
           }
          },
          "ternary": {
           "aaxis": {
            "gridcolor": "white",
            "linecolor": "white",
            "ticks": ""
           },
           "baxis": {
            "gridcolor": "white",
            "linecolor": "white",
            "ticks": ""
           },
           "bgcolor": "#E5ECF6",
           "caxis": {
            "gridcolor": "white",
            "linecolor": "white",
            "ticks": ""
           }
          },
          "title": {
           "x": 0.05
          },
          "xaxis": {
           "automargin": true,
           "gridcolor": "white",
           "linecolor": "white",
           "ticks": "",
           "title": {
            "standoff": 15
           },
           "zerolinecolor": "white",
           "zerolinewidth": 2
          },
          "yaxis": {
           "automargin": true,
           "gridcolor": "white",
           "linecolor": "white",
           "ticks": "",
           "title": {
            "standoff": 15
           },
           "zerolinecolor": "white",
           "zerolinewidth": 2
          }
         }
        },
        "title": {
         "text": "Reismotieven wel/geen rijbewijs ten opzichte van verplaatsingen "
        },
        "width": 1000
       }
      },
      "text/html": [
       "<div>                            <div id=\"6c5d9286-f0ce-48dc-9eca-79da05828870\" class=\"plotly-graph-div\" style=\"height:700px; width:1000px;\"></div>            <script type=\"text/javascript\">                require([\"plotly\"], function(Plotly) {                    window.PLOTLYENV=window.PLOTLYENV || {};                                    if (document.getElementById(\"6c5d9286-f0ce-48dc-9eca-79da05828870\")) {                    Plotly.newPlot(                        \"6c5d9286-f0ce-48dc-9eca-79da05828870\",                        [{\"labels\":[\"Diensten, persoonlijke verzorging\",\"Onderwijs volgen, cursus, kinderopvang\",\"Overige reismotieven\",\"Toeren, wandelen\",\"Uitgaan, sport, hobby\",\"Van en naar het werk\",\"Visite, logeren\",\"Winkelen, boodschappen doen\",\"Zakelijk, beroepsmatig\"],\"values\":[108.1,9.540000000000001,570.54,436.5,614.94,925.9,410.88,991.86,123.7],\"type\":\"pie\",\"domain\":{\"x\":[0.0,0.2888888888888889],\"y\":[0.625,1.0]}},{\"labels\":[\"Diensten, persoonlijke verzorging\",\"Onderwijs volgen, cursus, kinderopvang\",\"Overige reismotieven\",\"Toeren, wandelen\",\"Uitgaan, sport, hobby\",\"Van en naar het werk\",\"Visite, logeren\",\"Winkelen, boodschappen doen\",\"Zakelijk, beroepsmatig\"],\"values\":[76.44,48.76,479.0,365.48,587.14,788.52,341.6,886.62,105.2],\"type\":\"pie\",\"domain\":{\"x\":[0.35555555555555557,0.6444444444444445],\"y\":[0.625,1.0]}},{\"labels\":[\"Diensten, persoonlijke verzorging\",\"Onderwijs volgen, cursus, kinderopvang\",\"Overige reismotieven\",\"Toeren, wandelen\",\"Uitgaan, sport, hobby\",\"Van en naar het werk\",\"Visite, logeren\",\"Winkelen, boodschappen doen\",\"Zakelijk, beroepsmatig\"],\"values\":[20.2,32.34,120.3,161.56,345.6,404.56,193.8,678.04,13.36],\"type\":\"pie\",\"domain\":{\"x\":[0.7111111111111111,1.0],\"y\":[0.625,1.0]}},{\"labels\":[\"Diensten, persoonlijke verzorging\",\"Onderwijs volgen, cursus, kinderopvang\",\"Overige reismotieven\",\"Toeren, wandelen\",\"Uitgaan, sport, hobby\",\"Van en naar het werk\",\"Visite, logeren\",\"Winkelen, boodschappen doen\",\"Zakelijk, beroepsmatig\"],\"values\":[28.8,111.4,111.2,199.6,286.26,328.38,169.46,617.88,5.16],\"type\":\"pie\",\"domain\":{\"x\":[0.0,0.2888888888888889],\"y\":[0.0,0.375]}},{\"labels\":[\"Diensten, persoonlijke verzorging\",\"Onderwijs volgen, cursus, kinderopvang\",\"Overige reismotieven\",\"Toeren, wandelen\",\"Uitgaan, sport, hobby\",\"Van en naar het werk\",\"Visite, logeren\",\"Winkelen, boodschappen doen\",\"Zakelijk, beroepsmatig\"],\"values\":[5.28,1238.43,82.4,68.3,943.52,28.75,255.34,199.29,0.08],\"type\":\"pie\",\"domain\":{\"x\":[0.35555555555555557,0.6444444444444445],\"y\":[0.0,0.375]}}],                        {\"template\":{\"data\":{\"histogram2dcontour\":[{\"type\":\"histogram2dcontour\",\"colorbar\":{\"outlinewidth\":0,\"ticks\":\"\"},\"colorscale\":[[0.0,\"#0d0887\"],[0.1111111111111111,\"#46039f\"],[0.2222222222222222,\"#7201a8\"],[0.3333333333333333,\"#9c179e\"],[0.4444444444444444,\"#bd3786\"],[0.5555555555555556,\"#d8576b\"],[0.6666666666666666,\"#ed7953\"],[0.7777777777777778,\"#fb9f3a\"],[0.8888888888888888,\"#fdca26\"],[1.0,\"#f0f921\"]]}],\"choropleth\":[{\"type\":\"choropleth\",\"colorbar\":{\"outlinewidth\":0,\"ticks\":\"\"}}],\"histogram2d\":[{\"type\":\"histogram2d\",\"colorbar\":{\"outlinewidth\":0,\"ticks\":\"\"},\"colorscale\":[[0.0,\"#0d0887\"],[0.1111111111111111,\"#46039f\"],[0.2222222222222222,\"#7201a8\"],[0.3333333333333333,\"#9c179e\"],[0.4444444444444444,\"#bd3786\"],[0.5555555555555556,\"#d8576b\"],[0.6666666666666666,\"#ed7953\"],[0.7777777777777778,\"#fb9f3a\"],[0.8888888888888888,\"#fdca26\"],[1.0,\"#f0f921\"]]}],\"heatmap\":[{\"type\":\"heatmap\",\"colorbar\":{\"outlinewidth\":0,\"ticks\":\"\"},\"colorscale\":[[0.0,\"#0d0887\"],[0.1111111111111111,\"#46039f\"],[0.2222222222222222,\"#7201a8\"],[0.3333333333333333,\"#9c179e\"],[0.4444444444444444,\"#bd3786\"],[0.5555555555555556,\"#d8576b\"],[0.6666666666666666,\"#ed7953\"],[0.7777777777777778,\"#fb9f3a\"],[0.8888888888888888,\"#fdca26\"],[1.0,\"#f0f921\"]]}],\"heatmapgl\":[{\"type\":\"heatmapgl\",\"colorbar\":{\"outlinewidth\":0,\"ticks\":\"\"},\"colorscale\":[[0.0,\"#0d0887\"],[0.1111111111111111,\"#46039f\"],[0.2222222222222222,\"#7201a8\"],[0.3333333333333333,\"#9c179e\"],[0.4444444444444444,\"#bd3786\"],[0.5555555555555556,\"#d8576b\"],[0.6666666666666666,\"#ed7953\"],[0.7777777777777778,\"#fb9f3a\"],[0.8888888888888888,\"#fdca26\"],[1.0,\"#f0f921\"]]}],\"contourcarpet\":[{\"type\":\"contourcarpet\",\"colorbar\":{\"outlinewidth\":0,\"ticks\":\"\"}}],\"contour\":[{\"type\":\"contour\",\"colorbar\":{\"outlinewidth\":0,\"ticks\":\"\"},\"colorscale\":[[0.0,\"#0d0887\"],[0.1111111111111111,\"#46039f\"],[0.2222222222222222,\"#7201a8\"],[0.3333333333333333,\"#9c179e\"],[0.4444444444444444,\"#bd3786\"],[0.5555555555555556,\"#d8576b\"],[0.6666666666666666,\"#ed7953\"],[0.7777777777777778,\"#fb9f3a\"],[0.8888888888888888,\"#fdca26\"],[1.0,\"#f0f921\"]]}],\"surface\":[{\"type\":\"surface\",\"colorbar\":{\"outlinewidth\":0,\"ticks\":\"\"},\"colorscale\":[[0.0,\"#0d0887\"],[0.1111111111111111,\"#46039f\"],[0.2222222222222222,\"#7201a8\"],[0.3333333333333333,\"#9c179e\"],[0.4444444444444444,\"#bd3786\"],[0.5555555555555556,\"#d8576b\"],[0.6666666666666666,\"#ed7953\"],[0.7777777777777778,\"#fb9f3a\"],[0.8888888888888888,\"#fdca26\"],[1.0,\"#f0f921\"]]}],\"mesh3d\":[{\"type\":\"mesh3d\",\"colorbar\":{\"outlinewidth\":0,\"ticks\":\"\"}}],\"scatter\":[{\"fillpattern\":{\"fillmode\":\"overlay\",\"size\":10,\"solidity\":0.2},\"type\":\"scatter\"}],\"parcoords\":[{\"type\":\"parcoords\",\"line\":{\"colorbar\":{\"outlinewidth\":0,\"ticks\":\"\"}}}],\"scatterpolargl\":[{\"type\":\"scatterpolargl\",\"marker\":{\"colorbar\":{\"outlinewidth\":0,\"ticks\":\"\"}}}],\"bar\":[{\"error_x\":{\"color\":\"#2a3f5f\"},\"error_y\":{\"color\":\"#2a3f5f\"},\"marker\":{\"line\":{\"color\":\"#E5ECF6\",\"width\":0.5},\"pattern\":{\"fillmode\":\"overlay\",\"size\":10,\"solidity\":0.2}},\"type\":\"bar\"}],\"scattergeo\":[{\"type\":\"scattergeo\",\"marker\":{\"colorbar\":{\"outlinewidth\":0,\"ticks\":\"\"}}}],\"scatterpolar\":[{\"type\":\"scatterpolar\",\"marker\":{\"colorbar\":{\"outlinewidth\":0,\"ticks\":\"\"}}}],\"histogram\":[{\"marker\":{\"pattern\":{\"fillmode\":\"overlay\",\"size\":10,\"solidity\":0.2}},\"type\":\"histogram\"}],\"scattergl\":[{\"type\":\"scattergl\",\"marker\":{\"colorbar\":{\"outlinewidth\":0,\"ticks\":\"\"}}}],\"scatter3d\":[{\"type\":\"scatter3d\",\"line\":{\"colorbar\":{\"outlinewidth\":0,\"ticks\":\"\"}},\"marker\":{\"colorbar\":{\"outlinewidth\":0,\"ticks\":\"\"}}}],\"scattermapbox\":[{\"type\":\"scattermapbox\",\"marker\":{\"colorbar\":{\"outlinewidth\":0,\"ticks\":\"\"}}}],\"scatterternary\":[{\"type\":\"scatterternary\",\"marker\":{\"colorbar\":{\"outlinewidth\":0,\"ticks\":\"\"}}}],\"scattercarpet\":[{\"type\":\"scattercarpet\",\"marker\":{\"colorbar\":{\"outlinewidth\":0,\"ticks\":\"\"}}}],\"carpet\":[{\"aaxis\":{\"endlinecolor\":\"#2a3f5f\",\"gridcolor\":\"white\",\"linecolor\":\"white\",\"minorgridcolor\":\"white\",\"startlinecolor\":\"#2a3f5f\"},\"baxis\":{\"endlinecolor\":\"#2a3f5f\",\"gridcolor\":\"white\",\"linecolor\":\"white\",\"minorgridcolor\":\"white\",\"startlinecolor\":\"#2a3f5f\"},\"type\":\"carpet\"}],\"table\":[{\"cells\":{\"fill\":{\"color\":\"#EBF0F8\"},\"line\":{\"color\":\"white\"}},\"header\":{\"fill\":{\"color\":\"#C8D4E3\"},\"line\":{\"color\":\"white\"}},\"type\":\"table\"}],\"barpolar\":[{\"marker\":{\"line\":{\"color\":\"#E5ECF6\",\"width\":0.5},\"pattern\":{\"fillmode\":\"overlay\",\"size\":10,\"solidity\":0.2}},\"type\":\"barpolar\"}],\"pie\":[{\"automargin\":true,\"type\":\"pie\"}]},\"layout\":{\"autotypenumbers\":\"strict\",\"colorway\":[\"#636efa\",\"#EF553B\",\"#00cc96\",\"#ab63fa\",\"#FFA15A\",\"#19d3f3\",\"#FF6692\",\"#B6E880\",\"#FF97FF\",\"#FECB52\"],\"font\":{\"color\":\"#2a3f5f\"},\"hovermode\":\"closest\",\"hoverlabel\":{\"align\":\"left\"},\"paper_bgcolor\":\"white\",\"plot_bgcolor\":\"#E5ECF6\",\"polar\":{\"bgcolor\":\"#E5ECF6\",\"angularaxis\":{\"gridcolor\":\"white\",\"linecolor\":\"white\",\"ticks\":\"\"},\"radialaxis\":{\"gridcolor\":\"white\",\"linecolor\":\"white\",\"ticks\":\"\"}},\"ternary\":{\"bgcolor\":\"#E5ECF6\",\"aaxis\":{\"gridcolor\":\"white\",\"linecolor\":\"white\",\"ticks\":\"\"},\"baxis\":{\"gridcolor\":\"white\",\"linecolor\":\"white\",\"ticks\":\"\"},\"caxis\":{\"gridcolor\":\"white\",\"linecolor\":\"white\",\"ticks\":\"\"}},\"coloraxis\":{\"colorbar\":{\"outlinewidth\":0,\"ticks\":\"\"}},\"colorscale\":{\"sequential\":[[0.0,\"#0d0887\"],[0.1111111111111111,\"#46039f\"],[0.2222222222222222,\"#7201a8\"],[0.3333333333333333,\"#9c179e\"],[0.4444444444444444,\"#bd3786\"],[0.5555555555555556,\"#d8576b\"],[0.6666666666666666,\"#ed7953\"],[0.7777777777777778,\"#fb9f3a\"],[0.8888888888888888,\"#fdca26\"],[1.0,\"#f0f921\"]],\"sequentialminus\":[[0.0,\"#0d0887\"],[0.1111111111111111,\"#46039f\"],[0.2222222222222222,\"#7201a8\"],[0.3333333333333333,\"#9c179e\"],[0.4444444444444444,\"#bd3786\"],[0.5555555555555556,\"#d8576b\"],[0.6666666666666666,\"#ed7953\"],[0.7777777777777778,\"#fb9f3a\"],[0.8888888888888888,\"#fdca26\"],[1.0,\"#f0f921\"]],\"diverging\":[[0,\"#8e0152\"],[0.1,\"#c51b7d\"],[0.2,\"#de77ae\"],[0.3,\"#f1b6da\"],[0.4,\"#fde0ef\"],[0.5,\"#f7f7f7\"],[0.6,\"#e6f5d0\"],[0.7,\"#b8e186\"],[0.8,\"#7fbc41\"],[0.9,\"#4d9221\"],[1,\"#276419\"]]},\"xaxis\":{\"gridcolor\":\"white\",\"linecolor\":\"white\",\"ticks\":\"\",\"title\":{\"standoff\":15},\"zerolinecolor\":\"white\",\"automargin\":true,\"zerolinewidth\":2},\"yaxis\":{\"gridcolor\":\"white\",\"linecolor\":\"white\",\"ticks\":\"\",\"title\":{\"standoff\":15},\"zerolinecolor\":\"white\",\"automargin\":true,\"zerolinewidth\":2},\"scene\":{\"xaxis\":{\"backgroundcolor\":\"#E5ECF6\",\"gridcolor\":\"white\",\"linecolor\":\"white\",\"showbackground\":true,\"ticks\":\"\",\"zerolinecolor\":\"white\",\"gridwidth\":2},\"yaxis\":{\"backgroundcolor\":\"#E5ECF6\",\"gridcolor\":\"white\",\"linecolor\":\"white\",\"showbackground\":true,\"ticks\":\"\",\"zerolinecolor\":\"white\",\"gridwidth\":2},\"zaxis\":{\"backgroundcolor\":\"#E5ECF6\",\"gridcolor\":\"white\",\"linecolor\":\"white\",\"showbackground\":true,\"ticks\":\"\",\"zerolinecolor\":\"white\",\"gridwidth\":2}},\"shapedefaults\":{\"line\":{\"color\":\"#2a3f5f\"}},\"annotationdefaults\":{\"arrowcolor\":\"#2a3f5f\",\"arrowhead\":0,\"arrowwidth\":1},\"geo\":{\"bgcolor\":\"white\",\"landcolor\":\"#E5ECF6\",\"subunitcolor\":\"white\",\"showland\":true,\"showlakes\":true,\"lakecolor\":\"white\"},\"title\":{\"x\":0.05},\"mapbox\":{\"style\":\"light\"}}},\"annotations\":[{\"font\":{\"size\":16},\"showarrow\":false,\"text\":\"Rijbewijs, personenauto op eigen naam\",\"x\":0.14444444444444446,\"xanchor\":\"center\",\"xref\":\"paper\",\"y\":1.0,\"yanchor\":\"bottom\",\"yref\":\"paper\"},{\"font\":{\"size\":16},\"showarrow\":false,\"text\":\"Rijbewijs, personenauto in hh\",\"x\":0.5,\"xanchor\":\"center\",\"xref\":\"paper\",\"y\":1.0,\"yanchor\":\"bottom\",\"yref\":\"paper\"},{\"font\":{\"size\":16},\"showarrow\":false,\"text\":\"Rijbewijs, geen personenauto in hh\",\"x\":0.8555555555555556,\"xanchor\":\"center\",\"xref\":\"paper\",\"y\":1.0,\"yanchor\":\"bottom\",\"yref\":\"paper\"},{\"font\":{\"size\":16},\"showarrow\":false,\"text\":\"Geen rijbewijs; wel 17 jaar of ouder\",\"x\":0.14444444444444446,\"xanchor\":\"center\",\"xref\":\"paper\",\"y\":0.375,\"yanchor\":\"bottom\",\"yref\":\"paper\"},{\"font\":{\"size\":16},\"showarrow\":false,\"text\":\"Geen rijbewijs; jonger dan 17 jaar\",\"x\":0.5,\"xanchor\":\"center\",\"xref\":\"paper\",\"y\":0.375,\"yanchor\":\"bottom\",\"yref\":\"paper\"}],\"title\":{\"text\":\"Reismotieven wel/geen rijbewijs ten opzichte van verplaatsingen \"},\"height\":700,\"width\":1000,\"showlegend\":true,\"legend\":{\"yanchor\":\"bottom\",\"y\":0,\"xanchor\":\"left\",\"x\":0.7}},                        {\"responsive\": true}                    ).then(function(){\n",
       "                            \n",
       "var gd = document.getElementById('6c5d9286-f0ce-48dc-9eca-79da05828870');\n",
       "var x = new MutationObserver(function (mutations, observer) {{\n",
       "        var display = window.getComputedStyle(gd).display;\n",
       "        if (!display || display === 'none') {{\n",
       "            console.log([gd, 'removed!']);\n",
       "            Plotly.purge(gd);\n",
       "            observer.disconnect();\n",
       "        }}\n",
       "}});\n",
       "\n",
       "// Listen for the removal of the full notebook cells\n",
       "var notebookContainer = gd.closest('#notebook-container');\n",
       "if (notebookContainer) {{\n",
       "    x.observe(notebookContainer, {childList: true});\n",
       "}}\n",
       "\n",
       "// Listen for the clearing of the current output cell\n",
       "var outputEl = gd.closest('.output');\n",
       "if (outputEl) {{\n",
       "    x.observe(outputEl, {childList: true});\n",
       "}}\n",
       "\n",
       "                        })                };                });            </script>        </div>"
      ]
     },
     "metadata": {},
     "output_type": "display_data"
    }
   ],
   "source": [
    "#Subplotjes\n",
    "#Rijbewijs verplaatsingen\n",
    "from plotly.subplots import make_subplots\n",
    "import plotly.graph_objects as go\n",
    "\n",
    "specs = [[{'type':'domain'}, {'type':'domain'}, {'type':'domain'}], [{'type':'domain'}, {'type':'domain'}, {'type':'domain'}]]\n",
    "fig = make_subplots(\n",
    "    rows=2, cols=3,\n",
    "    subplot_titles=('Rijbewijs, personenauto op eigen naam', 'Rijbewijs, personenauto in hh', 'Rijbewijs, geen personenauto in hh',\n",
    "                    'Geen rijbewijs; wel 17 jaar of ouder','Geen rijbewijs; jonger dan 17 jaar'), \n",
    "    specs = specs)\n",
    "\n",
    "fig.add_trace(go.Pie(values = data_motief_auto2['Verplaatsingen_1'], labels = data_motief_auto2['Reismotieven']), row=1, col=1)\n",
    "\n",
    "fig.add_trace(go.Pie(values = data_motief_auto3['Verplaatsingen_1'], labels = data_motief_auto3['Reismotieven']), row=1, col=2)\n",
    "fig.add_trace(go.Pie(values = data_motief_auto4['Verplaatsingen_1'], labels = data_motief_auto4['Reismotieven']), row=1, col=3)\n",
    "fig.add_trace(go.Pie(values = data_motief_auto5['Verplaatsingen_1'], labels = data_motief_auto5['Reismotieven']), row=2, col=1)\n",
    "fig.add_trace(go.Pie(values = data_motief_auto6['Verplaatsingen_1'], labels = data_motief_auto6['Reismotieven']), row=2, col=2)\n",
    "\n",
    "fig.update_layout(height=700, width=1000,\n",
    "                  title_text=\"Reismotieven wel/geen rijbewijs ten opzichte van verplaatsingen \")\n",
    "fig.update_layout(showlegend = True)\n",
    "fig.update_layout(legend=dict(\n",
    "    yanchor=\"bottom\",\n",
    "    y=0,\n",
    "    xanchor=\"left\",\n",
    "    x=0.7\n",
    "))\n",
    "\n",
    "fig.show()\n"
   ]
  },
  {
   "cell_type": "markdown",
   "id": "db528fd2",
   "metadata": {},
   "source": [
    "In the piecharts above the distribution of travel motives for having a driving license can be seen. For having a driving license and have possibilities to go with car the difference between having a car on your own name or a car in hh, the distribution differences are small. The difference with having a driving license, but not direct acces to a car there are differences. The contribution of using trips to go shopping is bigger than having access to a car. Furthermore no big changes are seen in trips for going to work and free time activities. The remaning travel motives contribution is slightly smaller than for having access to a car. \n",
    "\n",
    "There are also two categories shown with having no driving license. People younger than 17 years olf are using mostly their trips to go to school or free time activities, but people older than 17 years to go shopping and go to work. \n",
    "\n",
    "People younger than 17 years old cannot have a driving license in the Netherlands, therefore no driving license, but older than 17 years is used to compare with having a driving license. No driving license are showing more or less the same contribution of travel motives as not having direct access to a car. The only small difference is that no driving license contribution of going to school is somewhat bigger. An explanation hereby could be that some more students have not a driving license yet.\n"
   ]
  },
  {
   "cell_type": "code",
   "execution_count": 35,
   "id": "cc70efd1",
   "metadata": {},
   "outputs": [
    {
     "data": {
      "application/vnd.plotly.v1+json": {
       "config": {
        "plotlyServerURL": "https://plot.ly"
       },
       "data": [
        {
         "domain": {
          "x": [
           0,
           0.2888888888888889
          ],
          "y": [
           0.625,
           1
          ]
         },
         "labels": [
          "Diensten, persoonlijke verzorging",
          "Onderwijs volgen, cursus, kinderopvang",
          "Overige reismotieven",
          "Toeren, wandelen",
          "Uitgaan, sport, hobby",
          "Van en naar het werk",
          "Visite, logeren",
          "Winkelen, boodschappen doen",
          "Zakelijk, beroepsmatig"
         ],
         "type": "pie",
         "values": [
          2039.7,
          312.42,
          9501.86,
          26385.5,
          18018.68,
          25482,
          11552.3,
          13697.94,
          4157.26
         ]
        },
        {
         "domain": {
          "x": [
           0.35555555555555557,
           0.6444444444444445
          ],
          "y": [
           0.625,
           1
          ]
         },
         "labels": [
          "Diensten, persoonlijke verzorging",
          "Onderwijs volgen, cursus, kinderopvang",
          "Overige reismotieven",
          "Toeren, wandelen",
          "Uitgaan, sport, hobby",
          "Van en naar het werk",
          "Visite, logeren",
          "Winkelen, boodschappen doen",
          "Zakelijk, beroepsmatig"
         ],
         "type": "pie",
         "values": [
          1402.8,
          2027.74,
          7529.72,
          22539.96,
          16685.7,
          22089.12,
          9487.9,
          12113.34,
          3969.42
         ]
        },
        {
         "domain": {
          "x": [
           0.7111111111111111,
           1
          ],
          "y": [
           0.625,
           1
          ]
         },
         "labels": [
          "Diensten, persoonlijke verzorging",
          "Onderwijs volgen, cursus, kinderopvang",
          "Overige reismotieven",
          "Toeren, wandelen",
          "Uitgaan, sport, hobby",
          "Van en naar het werk",
          "Visite, logeren",
          "Winkelen, boodschappen doen",
          "Zakelijk, beroepsmatig"
         ],
         "type": "pie",
         "values": [
          454.12,
          1006.2,
          2658.34,
          10629.86,
          10389.3,
          12156.84,
          6461.54,
          9040.12,
          466.24
         ]
        },
        {
         "domain": {
          "x": [
           0,
           0.2888888888888889
          ],
          "y": [
           0,
           0.375
          ]
         },
         "labels": [
          "Diensten, persoonlijke verzorging",
          "Onderwijs volgen, cursus, kinderopvang",
          "Overige reismotieven",
          "Toeren, wandelen",
          "Uitgaan, sport, hobby",
          "Van en naar het werk",
          "Visite, logeren",
          "Winkelen, boodschappen doen",
          "Zakelijk, beroepsmatig"
         ],
         "type": "pie",
         "values": [
          627.28,
          4026.1,
          2303.48,
          14024.18,
          9192.68,
          9462.84,
          5384.48,
          9604.56,
          186.94
         ]
        },
        {
         "domain": {
          "x": [
           0.35555555555555557,
           0.6444444444444445
          ],
          "y": [
           0,
           0.375
          ]
         },
         "labels": [
          "Diensten, persoonlijke verzorging",
          "Onderwijs volgen, cursus, kinderopvang",
          "Overige reismotieven",
          "Toeren, wandelen",
          "Uitgaan, sport, hobby",
          "Van en naar het werk",
          "Visite, logeren",
          "Winkelen, boodschappen doen",
          "Zakelijk, beroepsmatig"
         ],
         "type": "pie",
         "values": [
          90.55,
          25675.91,
          1279.62,
          4059.52,
          27458.31,
          405,
          4906,
          3075.93,
          3.09
         ]
        }
       ],
       "layout": {
        "annotations": [
         {
          "font": {
           "size": 16
          },
          "showarrow": false,
          "text": "Rijbewijs, personenauto op eigen naam",
          "x": 0.14444444444444446,
          "xanchor": "center",
          "xref": "paper",
          "y": 1,
          "yanchor": "bottom",
          "yref": "paper"
         },
         {
          "font": {
           "size": 16
          },
          "showarrow": false,
          "text": "Rijbewijs, personenauto in hh",
          "x": 0.5,
          "xanchor": "center",
          "xref": "paper",
          "y": 1,
          "yanchor": "bottom",
          "yref": "paper"
         },
         {
          "font": {
           "size": 16
          },
          "showarrow": false,
          "text": "Rijbewijs, geen personenauto in hh",
          "x": 0.8555555555555556,
          "xanchor": "center",
          "xref": "paper",
          "y": 1,
          "yanchor": "bottom",
          "yref": "paper"
         },
         {
          "font": {
           "size": 16
          },
          "showarrow": false,
          "text": "Geen rijbewijs; wel 17 jaar of ouder",
          "x": 0.14444444444444446,
          "xanchor": "center",
          "xref": "paper",
          "y": 0.375,
          "yanchor": "bottom",
          "yref": "paper"
         },
         {
          "font": {
           "size": 16
          },
          "showarrow": false,
          "text": "Geen rijbewijs; jonger dan 17 jaar",
          "x": 0.5,
          "xanchor": "center",
          "xref": "paper",
          "y": 0.375,
          "yanchor": "bottom",
          "yref": "paper"
         }
        ],
        "height": 700,
        "legend": {
         "x": 0.7,
         "xanchor": "left",
         "y": 0,
         "yanchor": "bottom"
        },
        "showlegend": true,
        "template": {
         "data": {
          "bar": [
           {
            "error_x": {
             "color": "#2a3f5f"
            },
            "error_y": {
             "color": "#2a3f5f"
            },
            "marker": {
             "line": {
              "color": "#E5ECF6",
              "width": 0.5
             },
             "pattern": {
              "fillmode": "overlay",
              "size": 10,
              "solidity": 0.2
             }
            },
            "type": "bar"
           }
          ],
          "barpolar": [
           {
            "marker": {
             "line": {
              "color": "#E5ECF6",
              "width": 0.5
             },
             "pattern": {
              "fillmode": "overlay",
              "size": 10,
              "solidity": 0.2
             }
            },
            "type": "barpolar"
           }
          ],
          "carpet": [
           {
            "aaxis": {
             "endlinecolor": "#2a3f5f",
             "gridcolor": "white",
             "linecolor": "white",
             "minorgridcolor": "white",
             "startlinecolor": "#2a3f5f"
            },
            "baxis": {
             "endlinecolor": "#2a3f5f",
             "gridcolor": "white",
             "linecolor": "white",
             "minorgridcolor": "white",
             "startlinecolor": "#2a3f5f"
            },
            "type": "carpet"
           }
          ],
          "choropleth": [
           {
            "colorbar": {
             "outlinewidth": 0,
             "ticks": ""
            },
            "type": "choropleth"
           }
          ],
          "contour": [
           {
            "colorbar": {
             "outlinewidth": 0,
             "ticks": ""
            },
            "colorscale": [
             [
              0,
              "#0d0887"
             ],
             [
              0.1111111111111111,
              "#46039f"
             ],
             [
              0.2222222222222222,
              "#7201a8"
             ],
             [
              0.3333333333333333,
              "#9c179e"
             ],
             [
              0.4444444444444444,
              "#bd3786"
             ],
             [
              0.5555555555555556,
              "#d8576b"
             ],
             [
              0.6666666666666666,
              "#ed7953"
             ],
             [
              0.7777777777777778,
              "#fb9f3a"
             ],
             [
              0.8888888888888888,
              "#fdca26"
             ],
             [
              1,
              "#f0f921"
             ]
            ],
            "type": "contour"
           }
          ],
          "contourcarpet": [
           {
            "colorbar": {
             "outlinewidth": 0,
             "ticks": ""
            },
            "type": "contourcarpet"
           }
          ],
          "heatmap": [
           {
            "colorbar": {
             "outlinewidth": 0,
             "ticks": ""
            },
            "colorscale": [
             [
              0,
              "#0d0887"
             ],
             [
              0.1111111111111111,
              "#46039f"
             ],
             [
              0.2222222222222222,
              "#7201a8"
             ],
             [
              0.3333333333333333,
              "#9c179e"
             ],
             [
              0.4444444444444444,
              "#bd3786"
             ],
             [
              0.5555555555555556,
              "#d8576b"
             ],
             [
              0.6666666666666666,
              "#ed7953"
             ],
             [
              0.7777777777777778,
              "#fb9f3a"
             ],
             [
              0.8888888888888888,
              "#fdca26"
             ],
             [
              1,
              "#f0f921"
             ]
            ],
            "type": "heatmap"
           }
          ],
          "heatmapgl": [
           {
            "colorbar": {
             "outlinewidth": 0,
             "ticks": ""
            },
            "colorscale": [
             [
              0,
              "#0d0887"
             ],
             [
              0.1111111111111111,
              "#46039f"
             ],
             [
              0.2222222222222222,
              "#7201a8"
             ],
             [
              0.3333333333333333,
              "#9c179e"
             ],
             [
              0.4444444444444444,
              "#bd3786"
             ],
             [
              0.5555555555555556,
              "#d8576b"
             ],
             [
              0.6666666666666666,
              "#ed7953"
             ],
             [
              0.7777777777777778,
              "#fb9f3a"
             ],
             [
              0.8888888888888888,
              "#fdca26"
             ],
             [
              1,
              "#f0f921"
             ]
            ],
            "type": "heatmapgl"
           }
          ],
          "histogram": [
           {
            "marker": {
             "pattern": {
              "fillmode": "overlay",
              "size": 10,
              "solidity": 0.2
             }
            },
            "type": "histogram"
           }
          ],
          "histogram2d": [
           {
            "colorbar": {
             "outlinewidth": 0,
             "ticks": ""
            },
            "colorscale": [
             [
              0,
              "#0d0887"
             ],
             [
              0.1111111111111111,
              "#46039f"
             ],
             [
              0.2222222222222222,
              "#7201a8"
             ],
             [
              0.3333333333333333,
              "#9c179e"
             ],
             [
              0.4444444444444444,
              "#bd3786"
             ],
             [
              0.5555555555555556,
              "#d8576b"
             ],
             [
              0.6666666666666666,
              "#ed7953"
             ],
             [
              0.7777777777777778,
              "#fb9f3a"
             ],
             [
              0.8888888888888888,
              "#fdca26"
             ],
             [
              1,
              "#f0f921"
             ]
            ],
            "type": "histogram2d"
           }
          ],
          "histogram2dcontour": [
           {
            "colorbar": {
             "outlinewidth": 0,
             "ticks": ""
            },
            "colorscale": [
             [
              0,
              "#0d0887"
             ],
             [
              0.1111111111111111,
              "#46039f"
             ],
             [
              0.2222222222222222,
              "#7201a8"
             ],
             [
              0.3333333333333333,
              "#9c179e"
             ],
             [
              0.4444444444444444,
              "#bd3786"
             ],
             [
              0.5555555555555556,
              "#d8576b"
             ],
             [
              0.6666666666666666,
              "#ed7953"
             ],
             [
              0.7777777777777778,
              "#fb9f3a"
             ],
             [
              0.8888888888888888,
              "#fdca26"
             ],
             [
              1,
              "#f0f921"
             ]
            ],
            "type": "histogram2dcontour"
           }
          ],
          "mesh3d": [
           {
            "colorbar": {
             "outlinewidth": 0,
             "ticks": ""
            },
            "type": "mesh3d"
           }
          ],
          "parcoords": [
           {
            "line": {
             "colorbar": {
              "outlinewidth": 0,
              "ticks": ""
             }
            },
            "type": "parcoords"
           }
          ],
          "pie": [
           {
            "automargin": true,
            "type": "pie"
           }
          ],
          "scatter": [
           {
            "fillpattern": {
             "fillmode": "overlay",
             "size": 10,
             "solidity": 0.2
            },
            "type": "scatter"
           }
          ],
          "scatter3d": [
           {
            "line": {
             "colorbar": {
              "outlinewidth": 0,
              "ticks": ""
             }
            },
            "marker": {
             "colorbar": {
              "outlinewidth": 0,
              "ticks": ""
             }
            },
            "type": "scatter3d"
           }
          ],
          "scattercarpet": [
           {
            "marker": {
             "colorbar": {
              "outlinewidth": 0,
              "ticks": ""
             }
            },
            "type": "scattercarpet"
           }
          ],
          "scattergeo": [
           {
            "marker": {
             "colorbar": {
              "outlinewidth": 0,
              "ticks": ""
             }
            },
            "type": "scattergeo"
           }
          ],
          "scattergl": [
           {
            "marker": {
             "colorbar": {
              "outlinewidth": 0,
              "ticks": ""
             }
            },
            "type": "scattergl"
           }
          ],
          "scattermapbox": [
           {
            "marker": {
             "colorbar": {
              "outlinewidth": 0,
              "ticks": ""
             }
            },
            "type": "scattermapbox"
           }
          ],
          "scatterpolar": [
           {
            "marker": {
             "colorbar": {
              "outlinewidth": 0,
              "ticks": ""
             }
            },
            "type": "scatterpolar"
           }
          ],
          "scatterpolargl": [
           {
            "marker": {
             "colorbar": {
              "outlinewidth": 0,
              "ticks": ""
             }
            },
            "type": "scatterpolargl"
           }
          ],
          "scatterternary": [
           {
            "marker": {
             "colorbar": {
              "outlinewidth": 0,
              "ticks": ""
             }
            },
            "type": "scatterternary"
           }
          ],
          "surface": [
           {
            "colorbar": {
             "outlinewidth": 0,
             "ticks": ""
            },
            "colorscale": [
             [
              0,
              "#0d0887"
             ],
             [
              0.1111111111111111,
              "#46039f"
             ],
             [
              0.2222222222222222,
              "#7201a8"
             ],
             [
              0.3333333333333333,
              "#9c179e"
             ],
             [
              0.4444444444444444,
              "#bd3786"
             ],
             [
              0.5555555555555556,
              "#d8576b"
             ],
             [
              0.6666666666666666,
              "#ed7953"
             ],
             [
              0.7777777777777778,
              "#fb9f3a"
             ],
             [
              0.8888888888888888,
              "#fdca26"
             ],
             [
              1,
              "#f0f921"
             ]
            ],
            "type": "surface"
           }
          ],
          "table": [
           {
            "cells": {
             "fill": {
              "color": "#EBF0F8"
             },
             "line": {
              "color": "white"
             }
            },
            "header": {
             "fill": {
              "color": "#C8D4E3"
             },
             "line": {
              "color": "white"
             }
            },
            "type": "table"
           }
          ]
         },
         "layout": {
          "annotationdefaults": {
           "arrowcolor": "#2a3f5f",
           "arrowhead": 0,
           "arrowwidth": 1
          },
          "autotypenumbers": "strict",
          "coloraxis": {
           "colorbar": {
            "outlinewidth": 0,
            "ticks": ""
           }
          },
          "colorscale": {
           "diverging": [
            [
             0,
             "#8e0152"
            ],
            [
             0.1,
             "#c51b7d"
            ],
            [
             0.2,
             "#de77ae"
            ],
            [
             0.3,
             "#f1b6da"
            ],
            [
             0.4,
             "#fde0ef"
            ],
            [
             0.5,
             "#f7f7f7"
            ],
            [
             0.6,
             "#e6f5d0"
            ],
            [
             0.7,
             "#b8e186"
            ],
            [
             0.8,
             "#7fbc41"
            ],
            [
             0.9,
             "#4d9221"
            ],
            [
             1,
             "#276419"
            ]
           ],
           "sequential": [
            [
             0,
             "#0d0887"
            ],
            [
             0.1111111111111111,
             "#46039f"
            ],
            [
             0.2222222222222222,
             "#7201a8"
            ],
            [
             0.3333333333333333,
             "#9c179e"
            ],
            [
             0.4444444444444444,
             "#bd3786"
            ],
            [
             0.5555555555555556,
             "#d8576b"
            ],
            [
             0.6666666666666666,
             "#ed7953"
            ],
            [
             0.7777777777777778,
             "#fb9f3a"
            ],
            [
             0.8888888888888888,
             "#fdca26"
            ],
            [
             1,
             "#f0f921"
            ]
           ],
           "sequentialminus": [
            [
             0,
             "#0d0887"
            ],
            [
             0.1111111111111111,
             "#46039f"
            ],
            [
             0.2222222222222222,
             "#7201a8"
            ],
            [
             0.3333333333333333,
             "#9c179e"
            ],
            [
             0.4444444444444444,
             "#bd3786"
            ],
            [
             0.5555555555555556,
             "#d8576b"
            ],
            [
             0.6666666666666666,
             "#ed7953"
            ],
            [
             0.7777777777777778,
             "#fb9f3a"
            ],
            [
             0.8888888888888888,
             "#fdca26"
            ],
            [
             1,
             "#f0f921"
            ]
           ]
          },
          "colorway": [
           "#636efa",
           "#EF553B",
           "#00cc96",
           "#ab63fa",
           "#FFA15A",
           "#19d3f3",
           "#FF6692",
           "#B6E880",
           "#FF97FF",
           "#FECB52"
          ],
          "font": {
           "color": "#2a3f5f"
          },
          "geo": {
           "bgcolor": "white",
           "lakecolor": "white",
           "landcolor": "#E5ECF6",
           "showlakes": true,
           "showland": true,
           "subunitcolor": "white"
          },
          "hoverlabel": {
           "align": "left"
          },
          "hovermode": "closest",
          "mapbox": {
           "style": "light"
          },
          "paper_bgcolor": "white",
          "plot_bgcolor": "#E5ECF6",
          "polar": {
           "angularaxis": {
            "gridcolor": "white",
            "linecolor": "white",
            "ticks": ""
           },
           "bgcolor": "#E5ECF6",
           "radialaxis": {
            "gridcolor": "white",
            "linecolor": "white",
            "ticks": ""
           }
          },
          "scene": {
           "xaxis": {
            "backgroundcolor": "#E5ECF6",
            "gridcolor": "white",
            "gridwidth": 2,
            "linecolor": "white",
            "showbackground": true,
            "ticks": "",
            "zerolinecolor": "white"
           },
           "yaxis": {
            "backgroundcolor": "#E5ECF6",
            "gridcolor": "white",
            "gridwidth": 2,
            "linecolor": "white",
            "showbackground": true,
            "ticks": "",
            "zerolinecolor": "white"
           },
           "zaxis": {
            "backgroundcolor": "#E5ECF6",
            "gridcolor": "white",
            "gridwidth": 2,
            "linecolor": "white",
            "showbackground": true,
            "ticks": "",
            "zerolinecolor": "white"
           }
          },
          "shapedefaults": {
           "line": {
            "color": "#2a3f5f"
           }
          },
          "ternary": {
           "aaxis": {
            "gridcolor": "white",
            "linecolor": "white",
            "ticks": ""
           },
           "baxis": {
            "gridcolor": "white",
            "linecolor": "white",
            "ticks": ""
           },
           "bgcolor": "#E5ECF6",
           "caxis": {
            "gridcolor": "white",
            "linecolor": "white",
            "ticks": ""
           }
          },
          "title": {
           "x": 0.05
          },
          "xaxis": {
           "automargin": true,
           "gridcolor": "white",
           "linecolor": "white",
           "ticks": "",
           "title": {
            "standoff": 15
           },
           "zerolinecolor": "white",
           "zerolinewidth": 2
          },
          "yaxis": {
           "automargin": true,
           "gridcolor": "white",
           "linecolor": "white",
           "ticks": "",
           "title": {
            "standoff": 15
           },
           "zerolinecolor": "white",
           "zerolinewidth": 2
          }
         }
        },
        "title": {
         "text": "Reismotieven wel/geen rijbewijs ten opzichte van reisduur"
        },
        "width": 1000
       }
      },
      "text/html": [
       "<div>                            <div id=\"aa416659-ff52-4a85-bf13-a7c6798e42a8\" class=\"plotly-graph-div\" style=\"height:700px; width:1000px;\"></div>            <script type=\"text/javascript\">                require([\"plotly\"], function(Plotly) {                    window.PLOTLYENV=window.PLOTLYENV || {};                                    if (document.getElementById(\"aa416659-ff52-4a85-bf13-a7c6798e42a8\")) {                    Plotly.newPlot(                        \"aa416659-ff52-4a85-bf13-a7c6798e42a8\",                        [{\"labels\":[\"Diensten, persoonlijke verzorging\",\"Onderwijs volgen, cursus, kinderopvang\",\"Overige reismotieven\",\"Toeren, wandelen\",\"Uitgaan, sport, hobby\",\"Van en naar het werk\",\"Visite, logeren\",\"Winkelen, boodschappen doen\",\"Zakelijk, beroepsmatig\"],\"values\":[2039.7,312.42,9501.86,26385.5,18018.68,25482.0,11552.3,13697.94,4157.26],\"type\":\"pie\",\"domain\":{\"x\":[0.0,0.2888888888888889],\"y\":[0.625,1.0]}},{\"labels\":[\"Diensten, persoonlijke verzorging\",\"Onderwijs volgen, cursus, kinderopvang\",\"Overige reismotieven\",\"Toeren, wandelen\",\"Uitgaan, sport, hobby\",\"Van en naar het werk\",\"Visite, logeren\",\"Winkelen, boodschappen doen\",\"Zakelijk, beroepsmatig\"],\"values\":[1402.8,2027.74,7529.72,22539.96,16685.7,22089.12,9487.9,12113.34,3969.42],\"type\":\"pie\",\"domain\":{\"x\":[0.35555555555555557,0.6444444444444445],\"y\":[0.625,1.0]}},{\"labels\":[\"Diensten, persoonlijke verzorging\",\"Onderwijs volgen, cursus, kinderopvang\",\"Overige reismotieven\",\"Toeren, wandelen\",\"Uitgaan, sport, hobby\",\"Van en naar het werk\",\"Visite, logeren\",\"Winkelen, boodschappen doen\",\"Zakelijk, beroepsmatig\"],\"values\":[454.12,1006.2,2658.34,10629.86,10389.3,12156.84,6461.54,9040.12,466.24],\"type\":\"pie\",\"domain\":{\"x\":[0.7111111111111111,1.0],\"y\":[0.625,1.0]}},{\"labels\":[\"Diensten, persoonlijke verzorging\",\"Onderwijs volgen, cursus, kinderopvang\",\"Overige reismotieven\",\"Toeren, wandelen\",\"Uitgaan, sport, hobby\",\"Van en naar het werk\",\"Visite, logeren\",\"Winkelen, boodschappen doen\",\"Zakelijk, beroepsmatig\"],\"values\":[627.28,4026.1,2303.48,14024.18,9192.68,9462.84,5384.48,9604.56,186.94],\"type\":\"pie\",\"domain\":{\"x\":[0.0,0.2888888888888889],\"y\":[0.0,0.375]}},{\"labels\":[\"Diensten, persoonlijke verzorging\",\"Onderwijs volgen, cursus, kinderopvang\",\"Overige reismotieven\",\"Toeren, wandelen\",\"Uitgaan, sport, hobby\",\"Van en naar het werk\",\"Visite, logeren\",\"Winkelen, boodschappen doen\",\"Zakelijk, beroepsmatig\"],\"values\":[90.55,25675.91,1279.62,4059.52,27458.31,405.0,4906.0,3075.93,3.09],\"type\":\"pie\",\"domain\":{\"x\":[0.35555555555555557,0.6444444444444445],\"y\":[0.0,0.375]}}],                        {\"template\":{\"data\":{\"histogram2dcontour\":[{\"type\":\"histogram2dcontour\",\"colorbar\":{\"outlinewidth\":0,\"ticks\":\"\"},\"colorscale\":[[0.0,\"#0d0887\"],[0.1111111111111111,\"#46039f\"],[0.2222222222222222,\"#7201a8\"],[0.3333333333333333,\"#9c179e\"],[0.4444444444444444,\"#bd3786\"],[0.5555555555555556,\"#d8576b\"],[0.6666666666666666,\"#ed7953\"],[0.7777777777777778,\"#fb9f3a\"],[0.8888888888888888,\"#fdca26\"],[1.0,\"#f0f921\"]]}],\"choropleth\":[{\"type\":\"choropleth\",\"colorbar\":{\"outlinewidth\":0,\"ticks\":\"\"}}],\"histogram2d\":[{\"type\":\"histogram2d\",\"colorbar\":{\"outlinewidth\":0,\"ticks\":\"\"},\"colorscale\":[[0.0,\"#0d0887\"],[0.1111111111111111,\"#46039f\"],[0.2222222222222222,\"#7201a8\"],[0.3333333333333333,\"#9c179e\"],[0.4444444444444444,\"#bd3786\"],[0.5555555555555556,\"#d8576b\"],[0.6666666666666666,\"#ed7953\"],[0.7777777777777778,\"#fb9f3a\"],[0.8888888888888888,\"#fdca26\"],[1.0,\"#f0f921\"]]}],\"heatmap\":[{\"type\":\"heatmap\",\"colorbar\":{\"outlinewidth\":0,\"ticks\":\"\"},\"colorscale\":[[0.0,\"#0d0887\"],[0.1111111111111111,\"#46039f\"],[0.2222222222222222,\"#7201a8\"],[0.3333333333333333,\"#9c179e\"],[0.4444444444444444,\"#bd3786\"],[0.5555555555555556,\"#d8576b\"],[0.6666666666666666,\"#ed7953\"],[0.7777777777777778,\"#fb9f3a\"],[0.8888888888888888,\"#fdca26\"],[1.0,\"#f0f921\"]]}],\"heatmapgl\":[{\"type\":\"heatmapgl\",\"colorbar\":{\"outlinewidth\":0,\"ticks\":\"\"},\"colorscale\":[[0.0,\"#0d0887\"],[0.1111111111111111,\"#46039f\"],[0.2222222222222222,\"#7201a8\"],[0.3333333333333333,\"#9c179e\"],[0.4444444444444444,\"#bd3786\"],[0.5555555555555556,\"#d8576b\"],[0.6666666666666666,\"#ed7953\"],[0.7777777777777778,\"#fb9f3a\"],[0.8888888888888888,\"#fdca26\"],[1.0,\"#f0f921\"]]}],\"contourcarpet\":[{\"type\":\"contourcarpet\",\"colorbar\":{\"outlinewidth\":0,\"ticks\":\"\"}}],\"contour\":[{\"type\":\"contour\",\"colorbar\":{\"outlinewidth\":0,\"ticks\":\"\"},\"colorscale\":[[0.0,\"#0d0887\"],[0.1111111111111111,\"#46039f\"],[0.2222222222222222,\"#7201a8\"],[0.3333333333333333,\"#9c179e\"],[0.4444444444444444,\"#bd3786\"],[0.5555555555555556,\"#d8576b\"],[0.6666666666666666,\"#ed7953\"],[0.7777777777777778,\"#fb9f3a\"],[0.8888888888888888,\"#fdca26\"],[1.0,\"#f0f921\"]]}],\"surface\":[{\"type\":\"surface\",\"colorbar\":{\"outlinewidth\":0,\"ticks\":\"\"},\"colorscale\":[[0.0,\"#0d0887\"],[0.1111111111111111,\"#46039f\"],[0.2222222222222222,\"#7201a8\"],[0.3333333333333333,\"#9c179e\"],[0.4444444444444444,\"#bd3786\"],[0.5555555555555556,\"#d8576b\"],[0.6666666666666666,\"#ed7953\"],[0.7777777777777778,\"#fb9f3a\"],[0.8888888888888888,\"#fdca26\"],[1.0,\"#f0f921\"]]}],\"mesh3d\":[{\"type\":\"mesh3d\",\"colorbar\":{\"outlinewidth\":0,\"ticks\":\"\"}}],\"scatter\":[{\"fillpattern\":{\"fillmode\":\"overlay\",\"size\":10,\"solidity\":0.2},\"type\":\"scatter\"}],\"parcoords\":[{\"type\":\"parcoords\",\"line\":{\"colorbar\":{\"outlinewidth\":0,\"ticks\":\"\"}}}],\"scatterpolargl\":[{\"type\":\"scatterpolargl\",\"marker\":{\"colorbar\":{\"outlinewidth\":0,\"ticks\":\"\"}}}],\"bar\":[{\"error_x\":{\"color\":\"#2a3f5f\"},\"error_y\":{\"color\":\"#2a3f5f\"},\"marker\":{\"line\":{\"color\":\"#E5ECF6\",\"width\":0.5},\"pattern\":{\"fillmode\":\"overlay\",\"size\":10,\"solidity\":0.2}},\"type\":\"bar\"}],\"scattergeo\":[{\"type\":\"scattergeo\",\"marker\":{\"colorbar\":{\"outlinewidth\":0,\"ticks\":\"\"}}}],\"scatterpolar\":[{\"type\":\"scatterpolar\",\"marker\":{\"colorbar\":{\"outlinewidth\":0,\"ticks\":\"\"}}}],\"histogram\":[{\"marker\":{\"pattern\":{\"fillmode\":\"overlay\",\"size\":10,\"solidity\":0.2}},\"type\":\"histogram\"}],\"scattergl\":[{\"type\":\"scattergl\",\"marker\":{\"colorbar\":{\"outlinewidth\":0,\"ticks\":\"\"}}}],\"scatter3d\":[{\"type\":\"scatter3d\",\"line\":{\"colorbar\":{\"outlinewidth\":0,\"ticks\":\"\"}},\"marker\":{\"colorbar\":{\"outlinewidth\":0,\"ticks\":\"\"}}}],\"scattermapbox\":[{\"type\":\"scattermapbox\",\"marker\":{\"colorbar\":{\"outlinewidth\":0,\"ticks\":\"\"}}}],\"scatterternary\":[{\"type\":\"scatterternary\",\"marker\":{\"colorbar\":{\"outlinewidth\":0,\"ticks\":\"\"}}}],\"scattercarpet\":[{\"type\":\"scattercarpet\",\"marker\":{\"colorbar\":{\"outlinewidth\":0,\"ticks\":\"\"}}}],\"carpet\":[{\"aaxis\":{\"endlinecolor\":\"#2a3f5f\",\"gridcolor\":\"white\",\"linecolor\":\"white\",\"minorgridcolor\":\"white\",\"startlinecolor\":\"#2a3f5f\"},\"baxis\":{\"endlinecolor\":\"#2a3f5f\",\"gridcolor\":\"white\",\"linecolor\":\"white\",\"minorgridcolor\":\"white\",\"startlinecolor\":\"#2a3f5f\"},\"type\":\"carpet\"}],\"table\":[{\"cells\":{\"fill\":{\"color\":\"#EBF0F8\"},\"line\":{\"color\":\"white\"}},\"header\":{\"fill\":{\"color\":\"#C8D4E3\"},\"line\":{\"color\":\"white\"}},\"type\":\"table\"}],\"barpolar\":[{\"marker\":{\"line\":{\"color\":\"#E5ECF6\",\"width\":0.5},\"pattern\":{\"fillmode\":\"overlay\",\"size\":10,\"solidity\":0.2}},\"type\":\"barpolar\"}],\"pie\":[{\"automargin\":true,\"type\":\"pie\"}]},\"layout\":{\"autotypenumbers\":\"strict\",\"colorway\":[\"#636efa\",\"#EF553B\",\"#00cc96\",\"#ab63fa\",\"#FFA15A\",\"#19d3f3\",\"#FF6692\",\"#B6E880\",\"#FF97FF\",\"#FECB52\"],\"font\":{\"color\":\"#2a3f5f\"},\"hovermode\":\"closest\",\"hoverlabel\":{\"align\":\"left\"},\"paper_bgcolor\":\"white\",\"plot_bgcolor\":\"#E5ECF6\",\"polar\":{\"bgcolor\":\"#E5ECF6\",\"angularaxis\":{\"gridcolor\":\"white\",\"linecolor\":\"white\",\"ticks\":\"\"},\"radialaxis\":{\"gridcolor\":\"white\",\"linecolor\":\"white\",\"ticks\":\"\"}},\"ternary\":{\"bgcolor\":\"#E5ECF6\",\"aaxis\":{\"gridcolor\":\"white\",\"linecolor\":\"white\",\"ticks\":\"\"},\"baxis\":{\"gridcolor\":\"white\",\"linecolor\":\"white\",\"ticks\":\"\"},\"caxis\":{\"gridcolor\":\"white\",\"linecolor\":\"white\",\"ticks\":\"\"}},\"coloraxis\":{\"colorbar\":{\"outlinewidth\":0,\"ticks\":\"\"}},\"colorscale\":{\"sequential\":[[0.0,\"#0d0887\"],[0.1111111111111111,\"#46039f\"],[0.2222222222222222,\"#7201a8\"],[0.3333333333333333,\"#9c179e\"],[0.4444444444444444,\"#bd3786\"],[0.5555555555555556,\"#d8576b\"],[0.6666666666666666,\"#ed7953\"],[0.7777777777777778,\"#fb9f3a\"],[0.8888888888888888,\"#fdca26\"],[1.0,\"#f0f921\"]],\"sequentialminus\":[[0.0,\"#0d0887\"],[0.1111111111111111,\"#46039f\"],[0.2222222222222222,\"#7201a8\"],[0.3333333333333333,\"#9c179e\"],[0.4444444444444444,\"#bd3786\"],[0.5555555555555556,\"#d8576b\"],[0.6666666666666666,\"#ed7953\"],[0.7777777777777778,\"#fb9f3a\"],[0.8888888888888888,\"#fdca26\"],[1.0,\"#f0f921\"]],\"diverging\":[[0,\"#8e0152\"],[0.1,\"#c51b7d\"],[0.2,\"#de77ae\"],[0.3,\"#f1b6da\"],[0.4,\"#fde0ef\"],[0.5,\"#f7f7f7\"],[0.6,\"#e6f5d0\"],[0.7,\"#b8e186\"],[0.8,\"#7fbc41\"],[0.9,\"#4d9221\"],[1,\"#276419\"]]},\"xaxis\":{\"gridcolor\":\"white\",\"linecolor\":\"white\",\"ticks\":\"\",\"title\":{\"standoff\":15},\"zerolinecolor\":\"white\",\"automargin\":true,\"zerolinewidth\":2},\"yaxis\":{\"gridcolor\":\"white\",\"linecolor\":\"white\",\"ticks\":\"\",\"title\":{\"standoff\":15},\"zerolinecolor\":\"white\",\"automargin\":true,\"zerolinewidth\":2},\"scene\":{\"xaxis\":{\"backgroundcolor\":\"#E5ECF6\",\"gridcolor\":\"white\",\"linecolor\":\"white\",\"showbackground\":true,\"ticks\":\"\",\"zerolinecolor\":\"white\",\"gridwidth\":2},\"yaxis\":{\"backgroundcolor\":\"#E5ECF6\",\"gridcolor\":\"white\",\"linecolor\":\"white\",\"showbackground\":true,\"ticks\":\"\",\"zerolinecolor\":\"white\",\"gridwidth\":2},\"zaxis\":{\"backgroundcolor\":\"#E5ECF6\",\"gridcolor\":\"white\",\"linecolor\":\"white\",\"showbackground\":true,\"ticks\":\"\",\"zerolinecolor\":\"white\",\"gridwidth\":2}},\"shapedefaults\":{\"line\":{\"color\":\"#2a3f5f\"}},\"annotationdefaults\":{\"arrowcolor\":\"#2a3f5f\",\"arrowhead\":0,\"arrowwidth\":1},\"geo\":{\"bgcolor\":\"white\",\"landcolor\":\"#E5ECF6\",\"subunitcolor\":\"white\",\"showland\":true,\"showlakes\":true,\"lakecolor\":\"white\"},\"title\":{\"x\":0.05},\"mapbox\":{\"style\":\"light\"}}},\"annotations\":[{\"font\":{\"size\":16},\"showarrow\":false,\"text\":\"Rijbewijs, personenauto op eigen naam\",\"x\":0.14444444444444446,\"xanchor\":\"center\",\"xref\":\"paper\",\"y\":1.0,\"yanchor\":\"bottom\",\"yref\":\"paper\"},{\"font\":{\"size\":16},\"showarrow\":false,\"text\":\"Rijbewijs, personenauto in hh\",\"x\":0.5,\"xanchor\":\"center\",\"xref\":\"paper\",\"y\":1.0,\"yanchor\":\"bottom\",\"yref\":\"paper\"},{\"font\":{\"size\":16},\"showarrow\":false,\"text\":\"Rijbewijs, geen personenauto in hh\",\"x\":0.8555555555555556,\"xanchor\":\"center\",\"xref\":\"paper\",\"y\":1.0,\"yanchor\":\"bottom\",\"yref\":\"paper\"},{\"font\":{\"size\":16},\"showarrow\":false,\"text\":\"Geen rijbewijs; wel 17 jaar of ouder\",\"x\":0.14444444444444446,\"xanchor\":\"center\",\"xref\":\"paper\",\"y\":0.375,\"yanchor\":\"bottom\",\"yref\":\"paper\"},{\"font\":{\"size\":16},\"showarrow\":false,\"text\":\"Geen rijbewijs; jonger dan 17 jaar\",\"x\":0.5,\"xanchor\":\"center\",\"xref\":\"paper\",\"y\":0.375,\"yanchor\":\"bottom\",\"yref\":\"paper\"}],\"title\":{\"text\":\"Reismotieven wel/geen rijbewijs ten opzichte van reisduur\"},\"height\":700,\"width\":1000,\"showlegend\":true,\"legend\":{\"yanchor\":\"bottom\",\"y\":0,\"xanchor\":\"left\",\"x\":0.7}},                        {\"responsive\": true}                    ).then(function(){\n",
       "                            \n",
       "var gd = document.getElementById('aa416659-ff52-4a85-bf13-a7c6798e42a8');\n",
       "var x = new MutationObserver(function (mutations, observer) {{\n",
       "        var display = window.getComputedStyle(gd).display;\n",
       "        if (!display || display === 'none') {{\n",
       "            console.log([gd, 'removed!']);\n",
       "            Plotly.purge(gd);\n",
       "            observer.disconnect();\n",
       "        }}\n",
       "}});\n",
       "\n",
       "// Listen for the removal of the full notebook cells\n",
       "var notebookContainer = gd.closest('#notebook-container');\n",
       "if (notebookContainer) {{\n",
       "    x.observe(notebookContainer, {childList: true});\n",
       "}}\n",
       "\n",
       "// Listen for the clearing of the current output cell\n",
       "var outputEl = gd.closest('.output');\n",
       "if (outputEl) {{\n",
       "    x.observe(outputEl, {childList: true});\n",
       "}}\n",
       "\n",
       "                        })                };                });            </script>        </div>"
      ]
     },
     "metadata": {},
     "output_type": "display_data"
    }
   ],
   "source": [
    "#Subplotjes\n",
    "#Rijbewijs Reisduur\n",
    "from plotly.subplots import make_subplots\n",
    "import plotly.graph_objects as go\n",
    "\n",
    "specs = [[{'type':'domain'}, {'type':'domain'}, {'type':'domain'}], [{'type':'domain'}, {'type':'domain'}, {'type':'domain'}]]\n",
    "fig = make_subplots(\n",
    "    rows=2, cols=3,\n",
    "    subplot_titles=('Rijbewijs, personenauto op eigen naam', 'Rijbewijs, personenauto in hh', 'Rijbewijs, geen personenauto in hh',\n",
    "                    'Geen rijbewijs; wel 17 jaar of ouder','Geen rijbewijs; jonger dan 17 jaar'), \n",
    "    specs = specs)\n",
    "\n",
    "fig.add_trace(go.Pie(values = data_motief_auto2['Reisduur_3'], labels = data_motief_auto2['Reismotieven']), row=1, col=1)\n",
    "\n",
    "fig.add_trace(go.Pie(values = data_motief_auto3['Reisduur_3'], labels = data_motief_auto3['Reismotieven']), row=1, col=2)\n",
    "fig.add_trace(go.Pie(values = data_motief_auto4['Reisduur_3'], labels = data_motief_auto4['Reismotieven']), row=1, col=3)\n",
    "fig.add_trace(go.Pie(values = data_motief_auto5['Reisduur_3'], labels = data_motief_auto5['Reismotieven']), row=2, col=1)\n",
    "fig.add_trace(go.Pie(values = data_motief_auto6['Reisduur_3'], labels = data_motief_auto6['Reismotieven']), row=2, col=2)\n",
    "\n",
    "fig.update_layout(height=700, width=1000,\n",
    "                  title_text=\"Reismotieven wel/geen rijbewijs ten opzichte van reisduur\")\n",
    "fig.update_layout(showlegend = True)\n",
    "fig.update_layout(legend=dict(\n",
    "    yanchor=\"bottom\",\n",
    "    y=0,\n",
    "    xanchor=\"left\",\n",
    "    x=0.7\n",
    "))\n",
    "\n",
    "fig.show()"
   ]
  },
  {
   "cell_type": "markdown",
   "id": "ddee6873",
   "metadata": {},
   "source": [
    "The piecharts of time duration of there trips for people with a car and a driving license are some different results as number of trips. The time to go shopping is less than used for touring or going to work. Number of trips of going to work and time used are in both cases a big contribution, but for touring a small number of trips is used but the time duration is a big contribution. As for number of trips, again no big difference between having a own car or car in hh are not big. In this case in time duration not big changes are seen too between having no own car, but having a driving license compare to having a car.\n",
    "\n",
    "Again big differences are shown between age younger than 17 years old and older than 17 years but having no driving license. Younger than 17 years are spending most time to go to school or for free time activities. The biggest contribution is switch for this group to free activities instead of going to school. \n",
    "\n",
    "For having no driving license but being older than 17 years old, the same differences between having a driving license or not are shown as for number of trips. They spend more time to go shopping and going to school, but less time for business trips."
   ]
  },
  {
   "cell_type": "markdown",
   "id": "687da65e",
   "metadata": {},
   "source": [
    "### Students public passes and driving license"
   ]
  },
  {
   "cell_type": "code",
   "execution_count": 101,
   "id": "9fe3060d",
   "metadata": {},
   "outputs": [
    {
     "data": {
      "application/vnd.plotly.v1+json": {
       "config": {
        "plotlyServerURL": "https://plot.ly"
       },
       "data": [
        {
         "domain": {
          "x": [
           0,
           0.2888888888888889
          ],
          "y": [
           0.84375,
           1
          ]
         },
         "labels": [
          "Diensten, persoonlijke verzorging",
          "Onderwijs volgen, cursus, kinderopvang",
          "Overige reismotieven",
          "Toeren, wandelen",
          "Uitgaan, sport, hobby",
          "Van en naar het werk",
          "Visite, logeren",
          "Winkelen, boodschappen doen",
          "Zakelijk, beroepsmatig"
         ],
         "type": "pie",
         "values": [
          115.09,
          190.71,
          495.65,
          394.62,
          647.82,
          750.29,
          414.05,
          907.87,
          121.67
         ]
        },
        {
         "domain": {
          "x": [
           0,
           0.2888888888888889
          ],
          "y": [
           0.28125,
           0.4375
          ]
         },
         "labels": [
          "Diensten, persoonlijke verzorging",
          "Onderwijs volgen, cursus, kinderopvang",
          "Overige reismotieven",
          "Toeren, wandelen",
          "Uitgaan, sport, hobby",
          "Van en naar het werk",
          "Visite, logeren",
          "Winkelen, boodschappen doen",
          "Zakelijk, beroepsmatig"
         ],
         "type": "pie",
         "values": [
          2161.96,
          4188.61,
          8391.24,
          24781.45,
          19669.46,
          20693.55,
          11573.62,
          12827.01,
          4275.63
         ]
        },
        {
         "domain": {
          "x": [
           0.35555555555555557,
           0.6444444444444445
          ],
          "y": [
           0.84375,
           1
          ]
         },
         "labels": [
          "Diensten, persoonlijke verzorging",
          "Onderwijs volgen, cursus, kinderopvang",
          "Overige reismotieven",
          "Toeren, wandelen",
          "Uitgaan, sport, hobby",
          "Van en naar het werk",
          "Visite, logeren",
          "Winkelen, boodschappen doen",
          "Zakelijk, beroepsmatig"
         ],
         "type": "pie",
         "values": [
          28.8,
          111.4,
          111.2,
          199.6,
          286.26,
          328.38,
          169.46,
          617.88,
          5.16
         ]
        },
        {
         "domain": {
          "x": [
           0.35555555555555557,
           0.6444444444444445
          ],
          "y": [
           0.28125,
           0.4375
          ]
         },
         "labels": [
          "Diensten, persoonlijke verzorging",
          "Onderwijs volgen, cursus, kinderopvang",
          "Overige reismotieven",
          "Toeren, wandelen",
          "Uitgaan, sport, hobby",
          "Van en naar het werk",
          "Visite, logeren",
          "Winkelen, boodschappen doen",
          "Zakelijk, beroepsmatig"
         ],
         "type": "pie",
         "values": [
          627.28,
          4026.1,
          2303.48,
          14024.18,
          9192.68,
          9462.84,
          5384.48,
          9604.56,
          186.94
         ]
        },
        {
         "domain": {
          "x": [
           0,
           0.2888888888888889
          ],
          "y": [
           0.5625,
           0.71875
          ]
         },
         "labels": [
          "Diensten, persoonlijke verzorging",
          "Onderwijs volgen, cursus, kinderopvang",
          "Overige reismotieven",
          "Toeren, wandelen",
          "Uitgaan, sport, hobby",
          "Van en naar het werk",
          "Visite, logeren",
          "Winkelen, boodschappen doen",
          "Zakelijk, beroepsmatig"
         ],
         "type": "pie",
         "values": [
          20.2,
          32.34,
          120.3,
          161.56,
          345.6,
          404.56,
          193.8,
          678.04,
          13.36
         ]
        },
        {
         "domain": {
          "x": [
           0,
           0.2888888888888889
          ],
          "y": [
           0,
           0.15625
          ]
         },
         "labels": [
          "Diensten, persoonlijke verzorging",
          "Onderwijs volgen, cursus, kinderopvang",
          "Overige reismotieven",
          "Toeren, wandelen",
          "Uitgaan, sport, hobby",
          "Van en naar het werk",
          "Visite, logeren",
          "Winkelen, boodschappen doen",
          "Zakelijk, beroepsmatig"
         ],
         "type": "pie",
         "values": [
          454.12,
          1006.2,
          2658.34,
          10629.86,
          10389.3,
          12156.84,
          6461.54,
          9040.12,
          466.24
         ]
        },
        {
         "domain": {
          "x": [
           0.35555555555555557,
           0.6444444444444445
          ],
          "y": [
           0.5625,
           0.71875
          ]
         },
         "labels": [
          "Diensten, persoonlijke verzorging",
          "Onderwijs volgen, cursus, kinderopvang",
          "Overige reismotieven",
          "Toeren, wandelen",
          "Uitgaan, sport, hobby",
          "Van en naar het werk",
          "Visite, logeren",
          "Winkelen, boodschappen doen",
          "Zakelijk, beroepsmatig"
         ],
         "type": "pie",
         "values": [
          108.1,
          9.540000000000001,
          570.54,
          436.5,
          614.94,
          925.9,
          410.88,
          991.86,
          123.7
         ]
        },
        {
         "domain": {
          "x": [
           0.35555555555555557,
           0.6444444444444445
          ],
          "y": [
           0,
           0.15625
          ]
         },
         "labels": [
          "Diensten, persoonlijke verzorging",
          "Onderwijs volgen, cursus, kinderopvang",
          "Overige reismotieven",
          "Toeren, wandelen",
          "Uitgaan, sport, hobby",
          "Van en naar het werk",
          "Visite, logeren",
          "Winkelen, boodschappen doen",
          "Zakelijk, beroepsmatig"
         ],
         "type": "pie",
         "values": [
          2039.7,
          312.42,
          9501.86,
          26385.5,
          18018.68,
          25482,
          11552.3,
          13697.94,
          4157.26
         ]
        }
       ],
       "layout": {
        "annotations": [
         {
          "font": {
           "size": 16
          },
          "showarrow": false,
          "text": "No OV trips",
          "x": 0.14444444444444446,
          "xanchor": "center",
          "xref": "paper",
          "y": 1,
          "yanchor": "bottom",
          "yref": "paper"
         },
         {
          "font": {
           "size": 16
          },
          "showarrow": false,
          "text": "No driving license no car, trips",
          "x": 0.5,
          "xanchor": "center",
          "xref": "paper",
          "y": 1,
          "yanchor": "bottom",
          "yref": "paper"
         },
         {
          "font": {
           "size": 16
          },
          "showarrow": false,
          "text": "driving license, no car, trips",
          "x": 0.14444444444444446,
          "xanchor": "center",
          "xref": "paper",
          "y": 0.71875,
          "yanchor": "bottom",
          "yref": "paper"
         },
         {
          "font": {
           "size": 16
          },
          "showarrow": false,
          "text": "driving license, car, trips",
          "x": 0.5,
          "xanchor": "center",
          "xref": "paper",
          "y": 0.71875,
          "yanchor": "bottom",
          "yref": "paper"
         },
         {
          "font": {
           "size": 16
          },
          "showarrow": false,
          "text": "no OV time",
          "x": 0.14444444444444446,
          "xanchor": "center",
          "xref": "paper",
          "y": 0.4375,
          "yanchor": "bottom",
          "yref": "paper"
         },
         {
          "font": {
           "size": 16
          },
          "showarrow": false,
          "text": "driving license, no car, time",
          "x": 0.5,
          "xanchor": "center",
          "xref": "paper",
          "y": 0.4375,
          "yanchor": "bottom",
          "yref": "paper"
         },
         {
          "font": {
           "size": 16
          },
          "showarrow": false,
          "text": "no driving license, no car, time",
          "x": 0.14444444444444446,
          "xanchor": "center",
          "xref": "paper",
          "y": 0.15625,
          "yanchor": "bottom",
          "yref": "paper"
         },
         {
          "font": {
           "size": 16
          },
          "showarrow": false,
          "text": "driving license, car, trips",
          "x": 0.5,
          "xanchor": "center",
          "xref": "paper",
          "y": 0.15625,
          "yanchor": "bottom",
          "yref": "paper"
         }
        ],
        "height": 1200,
        "legend": {
         "x": 0.7,
         "xanchor": "left",
         "y": 0.55,
         "yanchor": "bottom"
        },
        "showlegend": true,
        "template": {
         "data": {
          "bar": [
           {
            "error_x": {
             "color": "#2a3f5f"
            },
            "error_y": {
             "color": "#2a3f5f"
            },
            "marker": {
             "line": {
              "color": "#E5ECF6",
              "width": 0.5
             },
             "pattern": {
              "fillmode": "overlay",
              "size": 10,
              "solidity": 0.2
             }
            },
            "type": "bar"
           }
          ],
          "barpolar": [
           {
            "marker": {
             "line": {
              "color": "#E5ECF6",
              "width": 0.5
             },
             "pattern": {
              "fillmode": "overlay",
              "size": 10,
              "solidity": 0.2
             }
            },
            "type": "barpolar"
           }
          ],
          "carpet": [
           {
            "aaxis": {
             "endlinecolor": "#2a3f5f",
             "gridcolor": "white",
             "linecolor": "white",
             "minorgridcolor": "white",
             "startlinecolor": "#2a3f5f"
            },
            "baxis": {
             "endlinecolor": "#2a3f5f",
             "gridcolor": "white",
             "linecolor": "white",
             "minorgridcolor": "white",
             "startlinecolor": "#2a3f5f"
            },
            "type": "carpet"
           }
          ],
          "choropleth": [
           {
            "colorbar": {
             "outlinewidth": 0,
             "ticks": ""
            },
            "type": "choropleth"
           }
          ],
          "contour": [
           {
            "colorbar": {
             "outlinewidth": 0,
             "ticks": ""
            },
            "colorscale": [
             [
              0,
              "#0d0887"
             ],
             [
              0.1111111111111111,
              "#46039f"
             ],
             [
              0.2222222222222222,
              "#7201a8"
             ],
             [
              0.3333333333333333,
              "#9c179e"
             ],
             [
              0.4444444444444444,
              "#bd3786"
             ],
             [
              0.5555555555555556,
              "#d8576b"
             ],
             [
              0.6666666666666666,
              "#ed7953"
             ],
             [
              0.7777777777777778,
              "#fb9f3a"
             ],
             [
              0.8888888888888888,
              "#fdca26"
             ],
             [
              1,
              "#f0f921"
             ]
            ],
            "type": "contour"
           }
          ],
          "contourcarpet": [
           {
            "colorbar": {
             "outlinewidth": 0,
             "ticks": ""
            },
            "type": "contourcarpet"
           }
          ],
          "heatmap": [
           {
            "colorbar": {
             "outlinewidth": 0,
             "ticks": ""
            },
            "colorscale": [
             [
              0,
              "#0d0887"
             ],
             [
              0.1111111111111111,
              "#46039f"
             ],
             [
              0.2222222222222222,
              "#7201a8"
             ],
             [
              0.3333333333333333,
              "#9c179e"
             ],
             [
              0.4444444444444444,
              "#bd3786"
             ],
             [
              0.5555555555555556,
              "#d8576b"
             ],
             [
              0.6666666666666666,
              "#ed7953"
             ],
             [
              0.7777777777777778,
              "#fb9f3a"
             ],
             [
              0.8888888888888888,
              "#fdca26"
             ],
             [
              1,
              "#f0f921"
             ]
            ],
            "type": "heatmap"
           }
          ],
          "heatmapgl": [
           {
            "colorbar": {
             "outlinewidth": 0,
             "ticks": ""
            },
            "colorscale": [
             [
              0,
              "#0d0887"
             ],
             [
              0.1111111111111111,
              "#46039f"
             ],
             [
              0.2222222222222222,
              "#7201a8"
             ],
             [
              0.3333333333333333,
              "#9c179e"
             ],
             [
              0.4444444444444444,
              "#bd3786"
             ],
             [
              0.5555555555555556,
              "#d8576b"
             ],
             [
              0.6666666666666666,
              "#ed7953"
             ],
             [
              0.7777777777777778,
              "#fb9f3a"
             ],
             [
              0.8888888888888888,
              "#fdca26"
             ],
             [
              1,
              "#f0f921"
             ]
            ],
            "type": "heatmapgl"
           }
          ],
          "histogram": [
           {
            "marker": {
             "pattern": {
              "fillmode": "overlay",
              "size": 10,
              "solidity": 0.2
             }
            },
            "type": "histogram"
           }
          ],
          "histogram2d": [
           {
            "colorbar": {
             "outlinewidth": 0,
             "ticks": ""
            },
            "colorscale": [
             [
              0,
              "#0d0887"
             ],
             [
              0.1111111111111111,
              "#46039f"
             ],
             [
              0.2222222222222222,
              "#7201a8"
             ],
             [
              0.3333333333333333,
              "#9c179e"
             ],
             [
              0.4444444444444444,
              "#bd3786"
             ],
             [
              0.5555555555555556,
              "#d8576b"
             ],
             [
              0.6666666666666666,
              "#ed7953"
             ],
             [
              0.7777777777777778,
              "#fb9f3a"
             ],
             [
              0.8888888888888888,
              "#fdca26"
             ],
             [
              1,
              "#f0f921"
             ]
            ],
            "type": "histogram2d"
           }
          ],
          "histogram2dcontour": [
           {
            "colorbar": {
             "outlinewidth": 0,
             "ticks": ""
            },
            "colorscale": [
             [
              0,
              "#0d0887"
             ],
             [
              0.1111111111111111,
              "#46039f"
             ],
             [
              0.2222222222222222,
              "#7201a8"
             ],
             [
              0.3333333333333333,
              "#9c179e"
             ],
             [
              0.4444444444444444,
              "#bd3786"
             ],
             [
              0.5555555555555556,
              "#d8576b"
             ],
             [
              0.6666666666666666,
              "#ed7953"
             ],
             [
              0.7777777777777778,
              "#fb9f3a"
             ],
             [
              0.8888888888888888,
              "#fdca26"
             ],
             [
              1,
              "#f0f921"
             ]
            ],
            "type": "histogram2dcontour"
           }
          ],
          "mesh3d": [
           {
            "colorbar": {
             "outlinewidth": 0,
             "ticks": ""
            },
            "type": "mesh3d"
           }
          ],
          "parcoords": [
           {
            "line": {
             "colorbar": {
              "outlinewidth": 0,
              "ticks": ""
             }
            },
            "type": "parcoords"
           }
          ],
          "pie": [
           {
            "automargin": true,
            "type": "pie"
           }
          ],
          "scatter": [
           {
            "fillpattern": {
             "fillmode": "overlay",
             "size": 10,
             "solidity": 0.2
            },
            "type": "scatter"
           }
          ],
          "scatter3d": [
           {
            "line": {
             "colorbar": {
              "outlinewidth": 0,
              "ticks": ""
             }
            },
            "marker": {
             "colorbar": {
              "outlinewidth": 0,
              "ticks": ""
             }
            },
            "type": "scatter3d"
           }
          ],
          "scattercarpet": [
           {
            "marker": {
             "colorbar": {
              "outlinewidth": 0,
              "ticks": ""
             }
            },
            "type": "scattercarpet"
           }
          ],
          "scattergeo": [
           {
            "marker": {
             "colorbar": {
              "outlinewidth": 0,
              "ticks": ""
             }
            },
            "type": "scattergeo"
           }
          ],
          "scattergl": [
           {
            "marker": {
             "colorbar": {
              "outlinewidth": 0,
              "ticks": ""
             }
            },
            "type": "scattergl"
           }
          ],
          "scattermapbox": [
           {
            "marker": {
             "colorbar": {
              "outlinewidth": 0,
              "ticks": ""
             }
            },
            "type": "scattermapbox"
           }
          ],
          "scatterpolar": [
           {
            "marker": {
             "colorbar": {
              "outlinewidth": 0,
              "ticks": ""
             }
            },
            "type": "scatterpolar"
           }
          ],
          "scatterpolargl": [
           {
            "marker": {
             "colorbar": {
              "outlinewidth": 0,
              "ticks": ""
             }
            },
            "type": "scatterpolargl"
           }
          ],
          "scatterternary": [
           {
            "marker": {
             "colorbar": {
              "outlinewidth": 0,
              "ticks": ""
             }
            },
            "type": "scatterternary"
           }
          ],
          "surface": [
           {
            "colorbar": {
             "outlinewidth": 0,
             "ticks": ""
            },
            "colorscale": [
             [
              0,
              "#0d0887"
             ],
             [
              0.1111111111111111,
              "#46039f"
             ],
             [
              0.2222222222222222,
              "#7201a8"
             ],
             [
              0.3333333333333333,
              "#9c179e"
             ],
             [
              0.4444444444444444,
              "#bd3786"
             ],
             [
              0.5555555555555556,
              "#d8576b"
             ],
             [
              0.6666666666666666,
              "#ed7953"
             ],
             [
              0.7777777777777778,
              "#fb9f3a"
             ],
             [
              0.8888888888888888,
              "#fdca26"
             ],
             [
              1,
              "#f0f921"
             ]
            ],
            "type": "surface"
           }
          ],
          "table": [
           {
            "cells": {
             "fill": {
              "color": "#EBF0F8"
             },
             "line": {
              "color": "white"
             }
            },
            "header": {
             "fill": {
              "color": "#C8D4E3"
             },
             "line": {
              "color": "white"
             }
            },
            "type": "table"
           }
          ]
         },
         "layout": {
          "annotationdefaults": {
           "arrowcolor": "#2a3f5f",
           "arrowhead": 0,
           "arrowwidth": 1
          },
          "autotypenumbers": "strict",
          "coloraxis": {
           "colorbar": {
            "outlinewidth": 0,
            "ticks": ""
           }
          },
          "colorscale": {
           "diverging": [
            [
             0,
             "#8e0152"
            ],
            [
             0.1,
             "#c51b7d"
            ],
            [
             0.2,
             "#de77ae"
            ],
            [
             0.3,
             "#f1b6da"
            ],
            [
             0.4,
             "#fde0ef"
            ],
            [
             0.5,
             "#f7f7f7"
            ],
            [
             0.6,
             "#e6f5d0"
            ],
            [
             0.7,
             "#b8e186"
            ],
            [
             0.8,
             "#7fbc41"
            ],
            [
             0.9,
             "#4d9221"
            ],
            [
             1,
             "#276419"
            ]
           ],
           "sequential": [
            [
             0,
             "#0d0887"
            ],
            [
             0.1111111111111111,
             "#46039f"
            ],
            [
             0.2222222222222222,
             "#7201a8"
            ],
            [
             0.3333333333333333,
             "#9c179e"
            ],
            [
             0.4444444444444444,
             "#bd3786"
            ],
            [
             0.5555555555555556,
             "#d8576b"
            ],
            [
             0.6666666666666666,
             "#ed7953"
            ],
            [
             0.7777777777777778,
             "#fb9f3a"
            ],
            [
             0.8888888888888888,
             "#fdca26"
            ],
            [
             1,
             "#f0f921"
            ]
           ],
           "sequentialminus": [
            [
             0,
             "#0d0887"
            ],
            [
             0.1111111111111111,
             "#46039f"
            ],
            [
             0.2222222222222222,
             "#7201a8"
            ],
            [
             0.3333333333333333,
             "#9c179e"
            ],
            [
             0.4444444444444444,
             "#bd3786"
            ],
            [
             0.5555555555555556,
             "#d8576b"
            ],
            [
             0.6666666666666666,
             "#ed7953"
            ],
            [
             0.7777777777777778,
             "#fb9f3a"
            ],
            [
             0.8888888888888888,
             "#fdca26"
            ],
            [
             1,
             "#f0f921"
            ]
           ]
          },
          "colorway": [
           "#636efa",
           "#EF553B",
           "#00cc96",
           "#ab63fa",
           "#FFA15A",
           "#19d3f3",
           "#FF6692",
           "#B6E880",
           "#FF97FF",
           "#FECB52"
          ],
          "font": {
           "color": "#2a3f5f"
          },
          "geo": {
           "bgcolor": "white",
           "lakecolor": "white",
           "landcolor": "#E5ECF6",
           "showlakes": true,
           "showland": true,
           "subunitcolor": "white"
          },
          "hoverlabel": {
           "align": "left"
          },
          "hovermode": "closest",
          "mapbox": {
           "style": "light"
          },
          "paper_bgcolor": "white",
          "plot_bgcolor": "#E5ECF6",
          "polar": {
           "angularaxis": {
            "gridcolor": "white",
            "linecolor": "white",
            "ticks": ""
           },
           "bgcolor": "#E5ECF6",
           "radialaxis": {
            "gridcolor": "white",
            "linecolor": "white",
            "ticks": ""
           }
          },
          "scene": {
           "xaxis": {
            "backgroundcolor": "#E5ECF6",
            "gridcolor": "white",
            "gridwidth": 2,
            "linecolor": "white",
            "showbackground": true,
            "ticks": "",
            "zerolinecolor": "white"
           },
           "yaxis": {
            "backgroundcolor": "#E5ECF6",
            "gridcolor": "white",
            "gridwidth": 2,
            "linecolor": "white",
            "showbackground": true,
            "ticks": "",
            "zerolinecolor": "white"
           },
           "zaxis": {
            "backgroundcolor": "#E5ECF6",
            "gridcolor": "white",
            "gridwidth": 2,
            "linecolor": "white",
            "showbackground": true,
            "ticks": "",
            "zerolinecolor": "white"
           }
          },
          "shapedefaults": {
           "line": {
            "color": "#2a3f5f"
           }
          },
          "ternary": {
           "aaxis": {
            "gridcolor": "white",
            "linecolor": "white",
            "ticks": ""
           },
           "baxis": {
            "gridcolor": "white",
            "linecolor": "white",
            "ticks": ""
           },
           "bgcolor": "#E5ECF6",
           "caxis": {
            "gridcolor": "white",
            "linecolor": "white",
            "ticks": ""
           }
          },
          "title": {
           "x": 0.05
          },
          "xaxis": {
           "automargin": true,
           "gridcolor": "white",
           "linecolor": "white",
           "ticks": "",
           "title": {
            "standoff": 15
           },
           "zerolinecolor": "white",
           "zerolinewidth": 2
          },
          "yaxis": {
           "automargin": true,
           "gridcolor": "white",
           "linecolor": "white",
           "ticks": "",
           "title": {
            "standoff": 15
           },
           "zerolinecolor": "white",
           "zerolinewidth": 2
          }
         }
        },
        "title": {
         "text": "Students pass versus driving license"
        },
        "width": 1000
       }
      },
      "text/html": [
       "<div>                            <div id=\"5af45406-d674-416f-a557-b91396653c2a\" class=\"plotly-graph-div\" style=\"height:1200px; width:1000px;\"></div>            <script type=\"text/javascript\">                require([\"plotly\"], function(Plotly) {                    window.PLOTLYENV=window.PLOTLYENV || {};                                    if (document.getElementById(\"5af45406-d674-416f-a557-b91396653c2a\")) {                    Plotly.newPlot(                        \"5af45406-d674-416f-a557-b91396653c2a\",                        [{\"labels\":[\"Diensten, persoonlijke verzorging\",\"Onderwijs volgen, cursus, kinderopvang\",\"Overige reismotieven\",\"Toeren, wandelen\",\"Uitgaan, sport, hobby\",\"Van en naar het werk\",\"Visite, logeren\",\"Winkelen, boodschappen doen\",\"Zakelijk, beroepsmatig\"],\"values\":[115.09,190.71,495.65,394.62,647.82,750.29,414.05,907.87,121.67],\"type\":\"pie\",\"domain\":{\"x\":[0.0,0.2888888888888889],\"y\":[0.84375,1.0]}},{\"labels\":[\"Diensten, persoonlijke verzorging\",\"Onderwijs volgen, cursus, kinderopvang\",\"Overige reismotieven\",\"Toeren, wandelen\",\"Uitgaan, sport, hobby\",\"Van en naar het werk\",\"Visite, logeren\",\"Winkelen, boodschappen doen\",\"Zakelijk, beroepsmatig\"],\"values\":[2161.96,4188.61,8391.24,24781.45,19669.46,20693.55,11573.62,12827.01,4275.63],\"type\":\"pie\",\"domain\":{\"x\":[0.0,0.2888888888888889],\"y\":[0.28125,0.4375]}},{\"labels\":[\"Diensten, persoonlijke verzorging\",\"Onderwijs volgen, cursus, kinderopvang\",\"Overige reismotieven\",\"Toeren, wandelen\",\"Uitgaan, sport, hobby\",\"Van en naar het werk\",\"Visite, logeren\",\"Winkelen, boodschappen doen\",\"Zakelijk, beroepsmatig\"],\"values\":[28.8,111.4,111.2,199.6,286.26,328.38,169.46,617.88,5.16],\"type\":\"pie\",\"domain\":{\"x\":[0.35555555555555557,0.6444444444444445],\"y\":[0.84375,1.0]}},{\"labels\":[\"Diensten, persoonlijke verzorging\",\"Onderwijs volgen, cursus, kinderopvang\",\"Overige reismotieven\",\"Toeren, wandelen\",\"Uitgaan, sport, hobby\",\"Van en naar het werk\",\"Visite, logeren\",\"Winkelen, boodschappen doen\",\"Zakelijk, beroepsmatig\"],\"values\":[627.28,4026.1,2303.48,14024.18,9192.68,9462.84,5384.48,9604.56,186.94],\"type\":\"pie\",\"domain\":{\"x\":[0.35555555555555557,0.6444444444444445],\"y\":[0.28125,0.4375]}},{\"labels\":[\"Diensten, persoonlijke verzorging\",\"Onderwijs volgen, cursus, kinderopvang\",\"Overige reismotieven\",\"Toeren, wandelen\",\"Uitgaan, sport, hobby\",\"Van en naar het werk\",\"Visite, logeren\",\"Winkelen, boodschappen doen\",\"Zakelijk, beroepsmatig\"],\"values\":[20.2,32.34,120.3,161.56,345.6,404.56,193.8,678.04,13.36],\"type\":\"pie\",\"domain\":{\"x\":[0.0,0.2888888888888889],\"y\":[0.5625,0.71875]}},{\"labels\":[\"Diensten, persoonlijke verzorging\",\"Onderwijs volgen, cursus, kinderopvang\",\"Overige reismotieven\",\"Toeren, wandelen\",\"Uitgaan, sport, hobby\",\"Van en naar het werk\",\"Visite, logeren\",\"Winkelen, boodschappen doen\",\"Zakelijk, beroepsmatig\"],\"values\":[454.12,1006.2,2658.34,10629.86,10389.3,12156.84,6461.54,9040.12,466.24],\"type\":\"pie\",\"domain\":{\"x\":[0.0,0.2888888888888889],\"y\":[0.0,0.15625]}},{\"labels\":[\"Diensten, persoonlijke verzorging\",\"Onderwijs volgen, cursus, kinderopvang\",\"Overige reismotieven\",\"Toeren, wandelen\",\"Uitgaan, sport, hobby\",\"Van en naar het werk\",\"Visite, logeren\",\"Winkelen, boodschappen doen\",\"Zakelijk, beroepsmatig\"],\"values\":[108.1,9.540000000000001,570.54,436.5,614.94,925.9,410.88,991.86,123.7],\"type\":\"pie\",\"domain\":{\"x\":[0.35555555555555557,0.6444444444444445],\"y\":[0.5625,0.71875]}},{\"labels\":[\"Diensten, persoonlijke verzorging\",\"Onderwijs volgen, cursus, kinderopvang\",\"Overige reismotieven\",\"Toeren, wandelen\",\"Uitgaan, sport, hobby\",\"Van en naar het werk\",\"Visite, logeren\",\"Winkelen, boodschappen doen\",\"Zakelijk, beroepsmatig\"],\"values\":[2039.7,312.42,9501.86,26385.5,18018.68,25482.0,11552.3,13697.94,4157.26],\"type\":\"pie\",\"domain\":{\"x\":[0.35555555555555557,0.6444444444444445],\"y\":[0.0,0.15625]}}],                        {\"template\":{\"data\":{\"histogram2dcontour\":[{\"type\":\"histogram2dcontour\",\"colorbar\":{\"outlinewidth\":0,\"ticks\":\"\"},\"colorscale\":[[0.0,\"#0d0887\"],[0.1111111111111111,\"#46039f\"],[0.2222222222222222,\"#7201a8\"],[0.3333333333333333,\"#9c179e\"],[0.4444444444444444,\"#bd3786\"],[0.5555555555555556,\"#d8576b\"],[0.6666666666666666,\"#ed7953\"],[0.7777777777777778,\"#fb9f3a\"],[0.8888888888888888,\"#fdca26\"],[1.0,\"#f0f921\"]]}],\"choropleth\":[{\"type\":\"choropleth\",\"colorbar\":{\"outlinewidth\":0,\"ticks\":\"\"}}],\"histogram2d\":[{\"type\":\"histogram2d\",\"colorbar\":{\"outlinewidth\":0,\"ticks\":\"\"},\"colorscale\":[[0.0,\"#0d0887\"],[0.1111111111111111,\"#46039f\"],[0.2222222222222222,\"#7201a8\"],[0.3333333333333333,\"#9c179e\"],[0.4444444444444444,\"#bd3786\"],[0.5555555555555556,\"#d8576b\"],[0.6666666666666666,\"#ed7953\"],[0.7777777777777778,\"#fb9f3a\"],[0.8888888888888888,\"#fdca26\"],[1.0,\"#f0f921\"]]}],\"heatmap\":[{\"type\":\"heatmap\",\"colorbar\":{\"outlinewidth\":0,\"ticks\":\"\"},\"colorscale\":[[0.0,\"#0d0887\"],[0.1111111111111111,\"#46039f\"],[0.2222222222222222,\"#7201a8\"],[0.3333333333333333,\"#9c179e\"],[0.4444444444444444,\"#bd3786\"],[0.5555555555555556,\"#d8576b\"],[0.6666666666666666,\"#ed7953\"],[0.7777777777777778,\"#fb9f3a\"],[0.8888888888888888,\"#fdca26\"],[1.0,\"#f0f921\"]]}],\"heatmapgl\":[{\"type\":\"heatmapgl\",\"colorbar\":{\"outlinewidth\":0,\"ticks\":\"\"},\"colorscale\":[[0.0,\"#0d0887\"],[0.1111111111111111,\"#46039f\"],[0.2222222222222222,\"#7201a8\"],[0.3333333333333333,\"#9c179e\"],[0.4444444444444444,\"#bd3786\"],[0.5555555555555556,\"#d8576b\"],[0.6666666666666666,\"#ed7953\"],[0.7777777777777778,\"#fb9f3a\"],[0.8888888888888888,\"#fdca26\"],[1.0,\"#f0f921\"]]}],\"contourcarpet\":[{\"type\":\"contourcarpet\",\"colorbar\":{\"outlinewidth\":0,\"ticks\":\"\"}}],\"contour\":[{\"type\":\"contour\",\"colorbar\":{\"outlinewidth\":0,\"ticks\":\"\"},\"colorscale\":[[0.0,\"#0d0887\"],[0.1111111111111111,\"#46039f\"],[0.2222222222222222,\"#7201a8\"],[0.3333333333333333,\"#9c179e\"],[0.4444444444444444,\"#bd3786\"],[0.5555555555555556,\"#d8576b\"],[0.6666666666666666,\"#ed7953\"],[0.7777777777777778,\"#fb9f3a\"],[0.8888888888888888,\"#fdca26\"],[1.0,\"#f0f921\"]]}],\"surface\":[{\"type\":\"surface\",\"colorbar\":{\"outlinewidth\":0,\"ticks\":\"\"},\"colorscale\":[[0.0,\"#0d0887\"],[0.1111111111111111,\"#46039f\"],[0.2222222222222222,\"#7201a8\"],[0.3333333333333333,\"#9c179e\"],[0.4444444444444444,\"#bd3786\"],[0.5555555555555556,\"#d8576b\"],[0.6666666666666666,\"#ed7953\"],[0.7777777777777778,\"#fb9f3a\"],[0.8888888888888888,\"#fdca26\"],[1.0,\"#f0f921\"]]}],\"mesh3d\":[{\"type\":\"mesh3d\",\"colorbar\":{\"outlinewidth\":0,\"ticks\":\"\"}}],\"scatter\":[{\"fillpattern\":{\"fillmode\":\"overlay\",\"size\":10,\"solidity\":0.2},\"type\":\"scatter\"}],\"parcoords\":[{\"type\":\"parcoords\",\"line\":{\"colorbar\":{\"outlinewidth\":0,\"ticks\":\"\"}}}],\"scatterpolargl\":[{\"type\":\"scatterpolargl\",\"marker\":{\"colorbar\":{\"outlinewidth\":0,\"ticks\":\"\"}}}],\"bar\":[{\"error_x\":{\"color\":\"#2a3f5f\"},\"error_y\":{\"color\":\"#2a3f5f\"},\"marker\":{\"line\":{\"color\":\"#E5ECF6\",\"width\":0.5},\"pattern\":{\"fillmode\":\"overlay\",\"size\":10,\"solidity\":0.2}},\"type\":\"bar\"}],\"scattergeo\":[{\"type\":\"scattergeo\",\"marker\":{\"colorbar\":{\"outlinewidth\":0,\"ticks\":\"\"}}}],\"scatterpolar\":[{\"type\":\"scatterpolar\",\"marker\":{\"colorbar\":{\"outlinewidth\":0,\"ticks\":\"\"}}}],\"histogram\":[{\"marker\":{\"pattern\":{\"fillmode\":\"overlay\",\"size\":10,\"solidity\":0.2}},\"type\":\"histogram\"}],\"scattergl\":[{\"type\":\"scattergl\",\"marker\":{\"colorbar\":{\"outlinewidth\":0,\"ticks\":\"\"}}}],\"scatter3d\":[{\"type\":\"scatter3d\",\"line\":{\"colorbar\":{\"outlinewidth\":0,\"ticks\":\"\"}},\"marker\":{\"colorbar\":{\"outlinewidth\":0,\"ticks\":\"\"}}}],\"scattermapbox\":[{\"type\":\"scattermapbox\",\"marker\":{\"colorbar\":{\"outlinewidth\":0,\"ticks\":\"\"}}}],\"scatterternary\":[{\"type\":\"scatterternary\",\"marker\":{\"colorbar\":{\"outlinewidth\":0,\"ticks\":\"\"}}}],\"scattercarpet\":[{\"type\":\"scattercarpet\",\"marker\":{\"colorbar\":{\"outlinewidth\":0,\"ticks\":\"\"}}}],\"carpet\":[{\"aaxis\":{\"endlinecolor\":\"#2a3f5f\",\"gridcolor\":\"white\",\"linecolor\":\"white\",\"minorgridcolor\":\"white\",\"startlinecolor\":\"#2a3f5f\"},\"baxis\":{\"endlinecolor\":\"#2a3f5f\",\"gridcolor\":\"white\",\"linecolor\":\"white\",\"minorgridcolor\":\"white\",\"startlinecolor\":\"#2a3f5f\"},\"type\":\"carpet\"}],\"table\":[{\"cells\":{\"fill\":{\"color\":\"#EBF0F8\"},\"line\":{\"color\":\"white\"}},\"header\":{\"fill\":{\"color\":\"#C8D4E3\"},\"line\":{\"color\":\"white\"}},\"type\":\"table\"}],\"barpolar\":[{\"marker\":{\"line\":{\"color\":\"#E5ECF6\",\"width\":0.5},\"pattern\":{\"fillmode\":\"overlay\",\"size\":10,\"solidity\":0.2}},\"type\":\"barpolar\"}],\"pie\":[{\"automargin\":true,\"type\":\"pie\"}]},\"layout\":{\"autotypenumbers\":\"strict\",\"colorway\":[\"#636efa\",\"#EF553B\",\"#00cc96\",\"#ab63fa\",\"#FFA15A\",\"#19d3f3\",\"#FF6692\",\"#B6E880\",\"#FF97FF\",\"#FECB52\"],\"font\":{\"color\":\"#2a3f5f\"},\"hovermode\":\"closest\",\"hoverlabel\":{\"align\":\"left\"},\"paper_bgcolor\":\"white\",\"plot_bgcolor\":\"#E5ECF6\",\"polar\":{\"bgcolor\":\"#E5ECF6\",\"angularaxis\":{\"gridcolor\":\"white\",\"linecolor\":\"white\",\"ticks\":\"\"},\"radialaxis\":{\"gridcolor\":\"white\",\"linecolor\":\"white\",\"ticks\":\"\"}},\"ternary\":{\"bgcolor\":\"#E5ECF6\",\"aaxis\":{\"gridcolor\":\"white\",\"linecolor\":\"white\",\"ticks\":\"\"},\"baxis\":{\"gridcolor\":\"white\",\"linecolor\":\"white\",\"ticks\":\"\"},\"caxis\":{\"gridcolor\":\"white\",\"linecolor\":\"white\",\"ticks\":\"\"}},\"coloraxis\":{\"colorbar\":{\"outlinewidth\":0,\"ticks\":\"\"}},\"colorscale\":{\"sequential\":[[0.0,\"#0d0887\"],[0.1111111111111111,\"#46039f\"],[0.2222222222222222,\"#7201a8\"],[0.3333333333333333,\"#9c179e\"],[0.4444444444444444,\"#bd3786\"],[0.5555555555555556,\"#d8576b\"],[0.6666666666666666,\"#ed7953\"],[0.7777777777777778,\"#fb9f3a\"],[0.8888888888888888,\"#fdca26\"],[1.0,\"#f0f921\"]],\"sequentialminus\":[[0.0,\"#0d0887\"],[0.1111111111111111,\"#46039f\"],[0.2222222222222222,\"#7201a8\"],[0.3333333333333333,\"#9c179e\"],[0.4444444444444444,\"#bd3786\"],[0.5555555555555556,\"#d8576b\"],[0.6666666666666666,\"#ed7953\"],[0.7777777777777778,\"#fb9f3a\"],[0.8888888888888888,\"#fdca26\"],[1.0,\"#f0f921\"]],\"diverging\":[[0,\"#8e0152\"],[0.1,\"#c51b7d\"],[0.2,\"#de77ae\"],[0.3,\"#f1b6da\"],[0.4,\"#fde0ef\"],[0.5,\"#f7f7f7\"],[0.6,\"#e6f5d0\"],[0.7,\"#b8e186\"],[0.8,\"#7fbc41\"],[0.9,\"#4d9221\"],[1,\"#276419\"]]},\"xaxis\":{\"gridcolor\":\"white\",\"linecolor\":\"white\",\"ticks\":\"\",\"title\":{\"standoff\":15},\"zerolinecolor\":\"white\",\"automargin\":true,\"zerolinewidth\":2},\"yaxis\":{\"gridcolor\":\"white\",\"linecolor\":\"white\",\"ticks\":\"\",\"title\":{\"standoff\":15},\"zerolinecolor\":\"white\",\"automargin\":true,\"zerolinewidth\":2},\"scene\":{\"xaxis\":{\"backgroundcolor\":\"#E5ECF6\",\"gridcolor\":\"white\",\"linecolor\":\"white\",\"showbackground\":true,\"ticks\":\"\",\"zerolinecolor\":\"white\",\"gridwidth\":2},\"yaxis\":{\"backgroundcolor\":\"#E5ECF6\",\"gridcolor\":\"white\",\"linecolor\":\"white\",\"showbackground\":true,\"ticks\":\"\",\"zerolinecolor\":\"white\",\"gridwidth\":2},\"zaxis\":{\"backgroundcolor\":\"#E5ECF6\",\"gridcolor\":\"white\",\"linecolor\":\"white\",\"showbackground\":true,\"ticks\":\"\",\"zerolinecolor\":\"white\",\"gridwidth\":2}},\"shapedefaults\":{\"line\":{\"color\":\"#2a3f5f\"}},\"annotationdefaults\":{\"arrowcolor\":\"#2a3f5f\",\"arrowhead\":0,\"arrowwidth\":1},\"geo\":{\"bgcolor\":\"white\",\"landcolor\":\"#E5ECF6\",\"subunitcolor\":\"white\",\"showland\":true,\"showlakes\":true,\"lakecolor\":\"white\"},\"title\":{\"x\":0.05},\"mapbox\":{\"style\":\"light\"}}},\"annotations\":[{\"font\":{\"size\":16},\"showarrow\":false,\"text\":\"No OV trips\",\"x\":0.14444444444444446,\"xanchor\":\"center\",\"xref\":\"paper\",\"y\":1.0,\"yanchor\":\"bottom\",\"yref\":\"paper\"},{\"font\":{\"size\":16},\"showarrow\":false,\"text\":\"No driving license no car, trips\",\"x\":0.5,\"xanchor\":\"center\",\"xref\":\"paper\",\"y\":1.0,\"yanchor\":\"bottom\",\"yref\":\"paper\"},{\"font\":{\"size\":16},\"showarrow\":false,\"text\":\"driving license, no car, trips\",\"x\":0.14444444444444446,\"xanchor\":\"center\",\"xref\":\"paper\",\"y\":0.71875,\"yanchor\":\"bottom\",\"yref\":\"paper\"},{\"font\":{\"size\":16},\"showarrow\":false,\"text\":\"driving license, car, trips\",\"x\":0.5,\"xanchor\":\"center\",\"xref\":\"paper\",\"y\":0.71875,\"yanchor\":\"bottom\",\"yref\":\"paper\"},{\"font\":{\"size\":16},\"showarrow\":false,\"text\":\"no OV time\",\"x\":0.14444444444444446,\"xanchor\":\"center\",\"xref\":\"paper\",\"y\":0.4375,\"yanchor\":\"bottom\",\"yref\":\"paper\"},{\"font\":{\"size\":16},\"showarrow\":false,\"text\":\"driving license, no car, time\",\"x\":0.5,\"xanchor\":\"center\",\"xref\":\"paper\",\"y\":0.4375,\"yanchor\":\"bottom\",\"yref\":\"paper\"},{\"font\":{\"size\":16},\"showarrow\":false,\"text\":\"no driving license, no car, time\",\"x\":0.14444444444444446,\"xanchor\":\"center\",\"xref\":\"paper\",\"y\":0.15625,\"yanchor\":\"bottom\",\"yref\":\"paper\"},{\"font\":{\"size\":16},\"showarrow\":false,\"text\":\"driving license, car, trips\",\"x\":0.5,\"xanchor\":\"center\",\"xref\":\"paper\",\"y\":0.15625,\"yanchor\":\"bottom\",\"yref\":\"paper\"}],\"title\":{\"text\":\"Students pass versus driving license\"},\"height\":1200,\"width\":1000,\"showlegend\":true,\"legend\":{\"yanchor\":\"bottom\",\"y\":0.55,\"xanchor\":\"left\",\"x\":0.7}},                        {\"responsive\": true}                    ).then(function(){\n",
       "                            \n",
       "var gd = document.getElementById('5af45406-d674-416f-a557-b91396653c2a');\n",
       "var x = new MutationObserver(function (mutations, observer) {{\n",
       "        var display = window.getComputedStyle(gd).display;\n",
       "        if (!display || display === 'none') {{\n",
       "            console.log([gd, 'removed!']);\n",
       "            Plotly.purge(gd);\n",
       "            observer.disconnect();\n",
       "        }}\n",
       "}});\n",
       "\n",
       "// Listen for the removal of the full notebook cells\n",
       "var notebookContainer = gd.closest('#notebook-container');\n",
       "if (notebookContainer) {{\n",
       "    x.observe(notebookContainer, {childList: true});\n",
       "}}\n",
       "\n",
       "// Listen for the clearing of the current output cell\n",
       "var outputEl = gd.closest('.output');\n",
       "if (outputEl) {{\n",
       "    x.observe(outputEl, {childList: true});\n",
       "}}\n",
       "\n",
       "                        })                };                });            </script>        </div>"
      ]
     },
     "metadata": {},
     "output_type": "display_data"
    }
   ],
   "source": [
    "specs = [[{'type':'domain'}, {'type':'domain'} , {'type':'domain'}], [{'type':'domain'}, {'type':'domain'}, {'type':'domain'}],\n",
    "         [{'type':'domain'}, {'type':'domain'}, {'type':'domain'}], [{'type':'domain'}, {'type':'domain'}, {'type':'domain'}]]\n",
    "fig = make_subplots(\n",
    "    rows=4, cols=3,\n",
    "    subplot_titles=(\"No OV trips\", \"No driving license no car, trips\", '', \n",
    "                    \"driving license, no car, trips\",\"driving license, car, trips\", '',\n",
    "                    \"no OV time\", \"driving license, no car, time\", '',\n",
    "                    \"no driving license, no car, time\", \"driving license, car, trips\", ''), \n",
    "    specs = specs)\n",
    "\n",
    "fig.add_trace(go.Pie(values = data_motief_geen['Verplaatsingen_1'], labels = data_motief_geen['Reismotieven']), row=1, col=1)\n",
    "fig.add_trace(go.Pie(values = data_motief_geen['Reisduur_3'], labels = data_motief_geen['Reismotieven']), row=3, col=1)\n",
    "fig.add_trace(go.Pie(values = data_motief_auto5['Verplaatsingen_1'], labels = data_motief_auto5['Reismotieven']), row=1, col=2)\n",
    "fig.add_trace(go.Pie(values = data_motief_auto5['Reisduur_3'], labels = data_motief_auto5['Reismotieven']), row=3, col=2)\n",
    "fig.add_trace(go.Pie(values = data_motief_auto4['Verplaatsingen_1'], labels = data_motief_auto4['Reismotieven']), row=2, col=1)\n",
    "fig.add_trace(go.Pie(values = data_motief_auto4['Reisduur_3'], labels = data_motief_auto4['Reismotieven']), row=4, col=1)\n",
    "fig.add_trace(go.Pie(values = data_motief_auto2['Verplaatsingen_1'], labels = data_motief_auto2['Reismotieven']), row=2, col=2)\n",
    "fig.add_trace(go.Pie(values = data_motief_auto2['Reisduur_3'], labels = data_motief_auto2['Reismotieven']), row=4, col=2)\n",
    "\n",
    "fig.update_layout(height=1200, width=1000,\n",
    "                  title_text=\"Students pass versus driving license\")\n",
    "fig.update_layout(showlegend = True)\n",
    "fig.update_layout(legend=dict(\n",
    "    yanchor=\"bottom\",\n",
    "    y= 0.55,\n",
    "    xanchor=\"left\",\n",
    "    x=0.7\n",
    "))\n",
    "\n",
    "fig.show()"
   ]
  },
  {
   "cell_type": "markdown",
   "id": "8ea07a8d",
   "metadata": {},
   "source": [
    "In the plots above having no students pass is compared to having a driving license and having no driving license. The differences between having no ov students pass and having a car are the smallest for number of trips. Therefore the conclusion could be drawn that students with no student pass will use the car. For trip durations the differences are smaller for all categories, but again for having a car available and no students pass the differences are the smallest. "
   ]
  },
  {
   "cell_type": "code",
   "execution_count": 71,
   "id": "f141d2f9",
   "metadata": {},
   "outputs": [],
   "source": []
  },
  {
   "cell_type": "code",
   "execution_count": null,
   "id": "8cbcd50e",
   "metadata": {},
   "outputs": [],
   "source": []
  }
 ],
 "metadata": {
  "kernelspec": {
   "display_name": "Python 3 (ipykernel)",
   "language": "python",
   "name": "python3"
  },
  "language_info": {
   "codemirror_mode": {
    "name": "ipython",
    "version": 3
   },
   "file_extension": ".py",
   "mimetype": "text/x-python",
   "name": "python",
   "nbconvert_exporter": "python",
   "pygments_lexer": "ipython3",
   "version": "3.7.13"
  }
 },
 "nbformat": 4,
 "nbformat_minor": 5
}
