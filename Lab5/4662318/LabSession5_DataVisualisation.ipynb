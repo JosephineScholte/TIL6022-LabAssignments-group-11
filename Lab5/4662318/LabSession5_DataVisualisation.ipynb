{
 "cells": [
  {
   "cell_type": "code",
   "execution_count": 2,
   "metadata": {},
   "outputs": [
    {
     "ename": "ModuleNotFoundError",
     "evalue": "No module named 'plotly'",
     "output_type": "error",
     "traceback": [
      "\u001b[1;31m---------------------------------------------------------------------------\u001b[0m",
      "\u001b[1;31mModuleNotFoundError\u001b[0m                       Traceback (most recent call last)",
      "\u001b[1;32m<ipython-input-2-804627ef2840>\u001b[0m in \u001b[0;36m<module>\u001b[1;34m\u001b[0m\n\u001b[0;32m      1\u001b[0m \u001b[1;32mimport\u001b[0m \u001b[0mpandas\u001b[0m \u001b[1;32mas\u001b[0m \u001b[0mpd\u001b[0m\u001b[1;33m\u001b[0m\u001b[1;33m\u001b[0m\u001b[0m\n\u001b[0;32m      2\u001b[0m \u001b[1;32mimport\u001b[0m \u001b[0mseaborn\u001b[0m \u001b[1;32mas\u001b[0m \u001b[0msns\u001b[0m\u001b[1;33m\u001b[0m\u001b[1;33m\u001b[0m\u001b[0m\n\u001b[1;32m----> 3\u001b[1;33m \u001b[1;32mimport\u001b[0m \u001b[0mplotly\u001b[0m\u001b[1;33m.\u001b[0m\u001b[0mexpress\u001b[0m \u001b[1;32mas\u001b[0m \u001b[0mpx\u001b[0m\u001b[1;33m\u001b[0m\u001b[1;33m\u001b[0m\u001b[0m\n\u001b[0m\u001b[0;32m      4\u001b[0m \u001b[1;33m\u001b[0m\u001b[0m\n\u001b[0;32m      5\u001b[0m \u001b[1;32mimport\u001b[0m \u001b[0mmatplotlib\u001b[0m\u001b[1;33m.\u001b[0m\u001b[0mpyplot\u001b[0m \u001b[1;32mas\u001b[0m \u001b[0mplt\u001b[0m\u001b[1;33m\u001b[0m\u001b[1;33m\u001b[0m\u001b[0m\n",
      "\u001b[1;31mModuleNotFoundError\u001b[0m: No module named 'plotly'"
     ]
    }
   ],
   "source": [
    "import pandas as pd\n",
    "import seaborn as sns\n",
    "import plotly.express as px\n",
    "\n",
    "import matplotlib.pyplot as plt"
   ]
  },
  {
   "cell_type": "code",
   "execution_count": null,
   "metadata": {},
   "outputs": [],
   "source": [
    "import plotly.io as pio\n",
    "pio.renderers.default = \"plotly_mimetype+notebook\""
   ]
  },
  {
   "cell_type": "markdown",
   "metadata": {
    "heading_collapsed": true
   },
   "source": [
    "# Matplotlib"
   ]
  },
  {
   "cell_type": "markdown",
   "metadata": {
    "hidden": true
   },
   "source": [
    "For this excercise, we have written the following code to load the stock dataset built into plotly express."
   ]
  },
  {
   "cell_type": "code",
   "execution_count": null,
   "metadata": {
    "hidden": true
   },
   "outputs": [],
   "source": [
    "stocks = px.data.stocks()\n",
    "stocks.head()"
   ]
  },
  {
   "cell_type": "markdown",
   "metadata": {
    "heading_collapsed": true,
    "hidden": true
   },
   "source": [
    "## Question 1: \n",
    "\n",
    "Select a stock and create a suitable plot for it. Make sure the plot is readable with relevant information, such as date, values.  "
   ]
  },
  {
   "cell_type": "code",
   "execution_count": null,
   "metadata": {},
   "outputs": [],
   "source": [
    "x = stocks.loc[:,'date']\n",
    "y = stocks.loc[:,'GOOG']\n",
    "fig, ax = plt.subplots()\n",
    "ax.plot(x,y)\n",
    "# set title\n",
    "ax.set_title('y = Google stock')\n",
    "# horizontal axis\n",
    "ax.set_xlabel('date')\n",
    "# vertical axis\n",
    "ax.set_ylabel('stock value')\n",
    "plt.xticks(x[::14], rotation='vertical')    #show every 14th date\n",
    "plt.show()"
   ]
  },
  {
   "cell_type": "markdown",
   "metadata": {
    "heading_collapsed": true,
    "hidden": true
   },
   "source": [
    "## Question 2: \n",
    "\n",
    "You've already plot data from one stock. It is possible to plot multiples of them to support comparison.  \n",
    "To highlight different lines, customise line styles, markers, colors and include a legend to the plot."
   ]
  },
  {
   "cell_type": "code",
   "execution_count": null,
   "metadata": {},
   "outputs": [],
   "source": [
    "from cProfile import label\n",
    "\n",
    "\n",
    "x = stocks.loc[:,'date']\n",
    "y1 = stocks.loc[:,'GOOG']\n",
    "y2 = stocks.loc[:,'AAPL']\n",
    "y3 = stocks.loc[:,'AMZN']\n",
    "y4 = stocks.loc[:, 'FB']\n",
    "y5 = stocks.loc[:, 'NFLX']\n",
    "y6 = stocks.loc[:, 'MSFT']\n",
    "\n",
    "plt.plot(x, y1, label = 'GOOG')\n",
    "plt.plot(x, y2, label= 'AAPL')\n",
    "plt.plot(x, y3, label = 'AMZN')\n",
    "plt.plot(x, y4, label= 'FB')\n",
    "plt.plot(x, y5, label= 'NFLX')\n",
    "plt.plot(x, y6, label= 'MSFT')\n",
    "\n",
    "plt.ylabel('stock value')\n",
    "plt.xlabel('date')\n",
    "plt.title('Google stock')\n",
    "plt.xticks(x[::14], rotation='vertical')\n",
    "plt.legend()\n",
    "plt.show()"
   ]
  },
  {
   "cell_type": "markdown",
   "metadata": {
    "heading_collapsed": true
   },
   "source": [
    "# Seaborn"
   ]
  },
  {
   "cell_type": "markdown",
   "metadata": {
    "hidden": true
   },
   "source": [
    "First, load the [tips](https://github.com/mwaskom/seaborn-data/blob/master/tips.csv) dataset"
   ]
  },
  {
   "cell_type": "code",
   "execution_count": null,
   "metadata": {
    "hidden": true
   },
   "outputs": [],
   "source": [
    "tips = sns.load_dataset('tips')\n",
    "tips.head()"
   ]
  },
  {
   "cell_type": "markdown",
   "metadata": {
    "heading_collapsed": true,
    "hidden": true
   },
   "source": [
    "## Question 3:\n",
    "\n",
    "Let's explore this dataset. Pose a question and create a plot that support drawing answers for your question.\n",
    "\n",
    "Some possible questions:\n",
    "- Are there differences between male and female when it comes to giving tips?\n",
    "- What attribute correlate the most with tip?"
   ]
  },
  {
   "cell_type": "markdown",
   "metadata": {},
   "source": [
    "On what day of the week do people (that give a tip) give the highest tip? And what is the difference between male and female?"
   ]
  },
  {
   "cell_type": "code",
   "execution_count": null,
   "metadata": {},
   "outputs": [],
   "source": [
    "sns.barplot(x='day', y='tip', data=tips, hue='sex')\n",
    "plt.show()"
   ]
  },
  {
   "cell_type": "markdown",
   "metadata": {
    "heading_collapsed": true
   },
   "source": [
    "# Plotly Express"
   ]
  },
  {
   "cell_type": "markdown",
   "metadata": {
    "heading_collapsed": true,
    "hidden": true
   },
   "source": [
    "## Question 4:\n",
    "\n",
    "Redo the above exercises (challenges 2 & 3) with plotly express. Create diagrams which you can interact with."
   ]
  },
  {
   "cell_type": "markdown",
   "metadata": {
    "heading_collapsed": true,
    "hidden": true
   },
   "source": [
    "### The stocks dataset\n",
    "\n",
    "*Hints*:\n",
    "- Turn stocks dataframe into a structure that can be picked up easily with plotly express"
   ]
  },
  {
   "cell_type": "code",
   "execution_count": null,
   "metadata": {},
   "outputs": [],
   "source": [
    "df = px.data.stocks() \n",
    "fig = px.line(df, x='date', y=['GOOG', 'AAPL', 'AMZN', 'FB', 'NFLX', 'MSFT'], markers=True)\n",
    "fig.show()"
   ]
  },
  {
   "cell_type": "markdown",
   "metadata": {
    "heading_collapsed": true,
    "hidden": true
   },
   "source": [
    "### The tips dataset"
   ]
  },
  {
   "cell_type": "code",
   "execution_count": null,
   "metadata": {},
   "outputs": [],
   "source": [
    "df = px.data.tips() \n",
    "fig = px.scatter(df, x='total_bill', y='tip', color='sex', facet_col='smoker', facet_row='time')\n",
    "fig.show()"
   ]
  },
  {
   "cell_type": "markdown",
   "metadata": {
    "heading_collapsed": true,
    "hidden": true
   },
   "source": [
    "## Question 5:\n",
    "\n",
    "Recreate the barplot below that shows the population of different continents for the year 2007. \n",
    "\n",
    "*Hints:*\n",
    "\n",
    "- Extract the 2007 year data from the dataframe. You have to process the data accordingly\n",
    "- use [plotly bar](https://plotly.com/python-api-reference/generated/plotly.express.bar)\n",
    "- Add different colors for different continents\n",
    "- Sort the order of the continent for the visualisation. Use [axis layout setting](https://plotly.com/python/reference/layout/xaxis/)\n",
    "- Add text to each bar that represents the population "
   ]
  },
  {
   "cell_type": "code",
   "execution_count": null,
   "metadata": {
    "hidden": true
   },
   "outputs": [],
   "source": [
    "#load data\n",
    "df = px.data.gapminder()\n",
    "df.head()"
   ]
  },
  {
   "cell_type": "code",
   "execution_count": null,
   "metadata": {},
   "outputs": [],
   "source": [
    "from unicodedata import category\n",
    "\n",
    "\n",
    "df_2007 = df.query('year==2007')\n",
    "fig = px.histogram(df_2007, x='pop', y='continent', orientation='h', color='continent', text_auto=True).update_yaxes(categoryorder='total ascending')\n",
    "fig.update_traces(textposition='outside')\n",
    "fig.show()"
   ]
  },
  {
   "cell_type": "code",
   "execution_count": null,
   "metadata": {
    "hidden": true
   },
   "outputs": [],
   "source": [
    "# YOUR CODE HERE\n"
   ]
  },
  {
   "cell_type": "code",
   "execution_count": null,
   "metadata": {
    "hidden": true
   },
   "outputs": [],
   "source": []
  },
  {
   "cell_type": "code",
   "execution_count": null,
   "metadata": {},
   "outputs": [],
   "source": []
  },
  {
   "cell_type": "code",
   "execution_count": null,
   "metadata": {},
   "outputs": [],
   "source": []
  },
  {
   "cell_type": "code",
   "execution_count": null,
   "metadata": {},
   "outputs": [],
   "source": []
  },
  {
   "cell_type": "code",
   "execution_count": null,
   "metadata": {},
   "outputs": [],
   "source": []
  },
  {
   "cell_type": "code",
   "execution_count": null,
   "metadata": {},
   "outputs": [],
   "source": []
  },
  {
   "cell_type": "code",
   "execution_count": null,
   "metadata": {},
   "outputs": [],
   "source": []
  },
  {
   "cell_type": "code",
   "execution_count": null,
   "metadata": {},
   "outputs": [],
   "source": []
  }
 ],
 "metadata": {
  "kernelspec": {
   "display_name": "Python 3",
   "language": "python",
   "name": "python3"
  },
  "language_info": {
   "codemirror_mode": {
    "name": "ipython",
    "version": 3
   },
   "file_extension": ".py",
   "mimetype": "text/x-python",
   "name": "python",
   "nbconvert_exporter": "python",
   "pygments_lexer": "ipython3",
   "version": "3.8.8"
  },
  "vscode": {
   "interpreter": {
    "hash": "45bb85b78cad895558df594551b95d4f9789ea0558cb90d50e58f71c30f741a7"
   }
  }
 },
 "nbformat": 4,
 "nbformat_minor": 2
}
